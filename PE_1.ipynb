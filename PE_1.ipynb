{
 "cells": [
  {
   "cell_type": "markdown",
   "metadata": {},
   "source": [
    "# Imports\n",
    "\n",
    "All the libraries used in the notebook"
   ]
  },
  {
   "cell_type": "code",
   "execution_count": 73,
   "metadata": {},
   "outputs": [
    {
     "data": {
      "text/html": [
       "    <style>\n",
       "        .bk-notebook-logo {\n",
       "            display: block;\n",
       "            width: 20px;\n",
       "            height: 20px;\n",
       "            background-image: url(data:image/png;base64,iVBORw0KGgoAAAANSUhEUgAAABQAAAAUCAYAAACNiR0NAAAABHNCSVQICAgIfAhkiAAAAAlwSFlzAAALEgAACxIB0t1+/AAAABx0RVh0U29mdHdhcmUAQWRvYmUgRmlyZXdvcmtzIENTNui8sowAAAOkSURBVDiNjZRtaJVlGMd/1/08zzln5zjP1LWcU9N0NkN8m2CYjpgQYQXqSs0I84OLIC0hkEKoPtiH3gmKoiJDU7QpLgoLjLIQCpEsNJ1vqUOdO7ppbuec5+V+rj4ctwzd8IIbbi6u+8f1539dt3A78eXC7QizUF7gyV1fD1Yqg4JWz84yffhm0qkFqBogB9rM8tZdtwVsPUhWhGcFJngGeWrPzHm5oaMmkfEg1usvLFyc8jLRqDOMru7AyC8saQr7GG7f5fvDeH7Ej8CM66nIF+8yngt6HWaKh7k49Soy9nXurCi1o3qUbS3zWfrYeQDTB/Qj6kX6Ybhw4B+bOYoLKCC9H3Nu/leUTZ1JdRWkkn2ldcCamzrcf47KKXdAJllSlxAOkRgyHsGC/zRday5Qld9DyoM4/q/rUoy/CXh3jzOu3bHUVZeU+DEn8FInkPBFlu3+nW3Nw0mk6vCDiWg8CeJaxEwuHS3+z5RgY+YBR6V1Z1nxSOfoaPa4LASWxxdNp+VWTk7+4vzaou8v8PN+xo+KY2xsw6une2frhw05CTYOmQvsEhjhWjn0bmXPjpE1+kplmmkP3suftwTubK9Vq22qKmrBhpY4jvd5afdRA3wGjFAgcnTK2s4hY0/GPNIb0nErGMCRxWOOX64Z8RAC4oCXdklmEvcL8o0BfkNK4lUg9HTl+oPlQxdNo3Mg4Nv175e/1LDGzZen30MEjRUtmXSfiTVu1kK8W4txyV6BMKlbgk3lMwYCiusNy9fVfvvwMxv8Ynl6vxoByANLTWplvuj/nF9m2+PDtt1eiHPBr1oIfhCChQMBw6Aw0UulqTKZdfVvfG7VcfIqLG9bcldL/+pdWTLxLUy8Qq38heUIjh4XlzZxzQm19lLFlr8vdQ97rjZVOLf8nclzckbcD4wxXMidpX30sFd37Fv/GtwwhzhxGVAprjbg0gCAEeIgwCZyTV2Z1REEW8O4py0wsjeloKoMr6iCY6dP92H6Vw/oTyICIthibxjm/DfN9lVz8IqtqKYLUXfoKVMVQVVJOElGjrnnUt9T9wbgp8AyYKaGlqingHZU/uG2NTZSVqwHQTWkx9hxjkpWDaCg6Ckj5qebgBVbT3V3NNXMSiWSDdGV3hrtzla7J+duwPOToIg42ChPQOQjspnSlp1V+Gjdged7+8UN5CRAV7a5EdFNwCjEaBR27b3W890TE7g24NAP/mMDXRWrGoFPQI9ls/MWO2dWFAar/xcOIImbbpA3zgAAAABJRU5ErkJggg==);\n",
       "        }\n",
       "    </style>\n",
       "    <div>\n",
       "        <a href=\"https://bokeh.org\" target=\"_blank\" class=\"bk-notebook-logo\"></a>\n",
       "        <span id=\"e8ac0b71-06e6-4a98-b9d9-86509d272587\">Loading BokehJS ...</span>\n",
       "    </div>\n"
      ]
     },
     "metadata": {},
     "output_type": "display_data"
    },
    {
     "data": {
      "application/javascript": "'use strict';\n(function(root) {\n  function now() {\n    return new Date();\n  }\n\n  const force = true;\n\n  if (typeof root._bokeh_onload_callbacks === \"undefined\" || force === true) {\n    root._bokeh_onload_callbacks = [];\n    root._bokeh_is_loading = undefined;\n  }\n\nconst JS_MIME_TYPE = 'application/javascript';\n  const HTML_MIME_TYPE = 'text/html';\n  const EXEC_MIME_TYPE = 'application/vnd.bokehjs_exec.v0+json';\n  const CLASS_NAME = 'output_bokeh rendered_html';\n\n  /**\n   * Render data to the DOM node\n   */\n  function render(props, node) {\n    const script = document.createElement(\"script\");\n    node.appendChild(script);\n  }\n\n  /**\n   * Handle when an output is cleared or removed\n   */\n  function handleClearOutput(event, handle) {\n    function drop(id) {\n      const view = Bokeh.index.get_by_id(id)\n      if (view != null) {\n        view.model.document.clear()\n        Bokeh.index.delete(view)\n      }\n    }\n\n    const cell = handle.cell;\n\n    const id = cell.output_area._bokeh_element_id;\n    const server_id = cell.output_area._bokeh_server_id;\n\n    // Clean up Bokeh references\n    if (id != null) {\n      drop(id)\n    }\n\n    if (server_id !== undefined) {\n      // Clean up Bokeh references\n      const cmd_clean = \"from bokeh.io.state import curstate; print(curstate().uuid_to_server['\" + server_id + \"'].get_sessions()[0].document.roots[0]._id)\";\n      cell.notebook.kernel.execute(cmd_clean, {\n        iopub: {\n          output: function(msg) {\n            const id = msg.content.text.trim()\n            drop(id)\n          }\n        }\n      });\n      // Destroy server and session\n      const cmd_destroy = \"import bokeh.io.notebook as ion; ion.destroy_server('\" + server_id + \"')\";\n      cell.notebook.kernel.execute(cmd_destroy);\n    }\n  }\n\n  /**\n   * Handle when a new output is added\n   */\n  function handleAddOutput(event, handle) {\n    const output_area = handle.output_area;\n    const output = handle.output;\n\n    // limit handleAddOutput to display_data with EXEC_MIME_TYPE content only\n    if ((output.output_type != \"display_data\") || (!Object.prototype.hasOwnProperty.call(output.data, EXEC_MIME_TYPE))) {\n      return\n    }\n\n    const toinsert = output_area.element.find(\".\" + CLASS_NAME.split(' ')[0]);\n\n    if (output.metadata[EXEC_MIME_TYPE][\"id\"] !== undefined) {\n      toinsert[toinsert.length - 1].firstChild.textContent = output.data[JS_MIME_TYPE];\n      // store reference to embed id on output_area\n      output_area._bokeh_element_id = output.metadata[EXEC_MIME_TYPE][\"id\"];\n    }\n    if (output.metadata[EXEC_MIME_TYPE][\"server_id\"] !== undefined) {\n      const bk_div = document.createElement(\"div\");\n      bk_div.innerHTML = output.data[HTML_MIME_TYPE];\n      const script_attrs = bk_div.children[0].attributes;\n      for (let i = 0; i < script_attrs.length; i++) {\n        toinsert[toinsert.length - 1].firstChild.setAttribute(script_attrs[i].name, script_attrs[i].value);\n        toinsert[toinsert.length - 1].firstChild.textContent = bk_div.children[0].textContent\n      }\n      // store reference to server id on output_area\n      output_area._bokeh_server_id = output.metadata[EXEC_MIME_TYPE][\"server_id\"];\n    }\n  }\n\n  function register_renderer(events, OutputArea) {\n\n    function append_mime(data, metadata, element) {\n      // create a DOM node to render to\n      const toinsert = this.create_output_subarea(\n        metadata,\n        CLASS_NAME,\n        EXEC_MIME_TYPE\n      );\n      this.keyboard_manager.register_events(toinsert);\n      // Render to node\n      const props = {data: data, metadata: metadata[EXEC_MIME_TYPE]};\n      render(props, toinsert[toinsert.length - 1]);\n      element.append(toinsert);\n      return toinsert\n    }\n\n    /* Handle when an output is cleared or removed */\n    events.on('clear_output.CodeCell', handleClearOutput);\n    events.on('delete.Cell', handleClearOutput);\n\n    /* Handle when a new output is added */\n    events.on('output_added.OutputArea', handleAddOutput);\n\n    /**\n     * Register the mime type and append_mime function with output_area\n     */\n    OutputArea.prototype.register_mime_type(EXEC_MIME_TYPE, append_mime, {\n      /* Is output safe? */\n      safe: true,\n      /* Index of renderer in `output_area.display_order` */\n      index: 0\n    });\n  }\n\n  // register the mime type if in Jupyter Notebook environment and previously unregistered\n  if (root.Jupyter !== undefined) {\n    const events = require('base/js/events');\n    const OutputArea = require('notebook/js/outputarea').OutputArea;\n\n    if (OutputArea.prototype.mime_types().indexOf(EXEC_MIME_TYPE) == -1) {\n      register_renderer(events, OutputArea);\n    }\n  }\n  if (typeof (root._bokeh_timeout) === \"undefined\" || force === true) {\n    root._bokeh_timeout = Date.now() + 5000;\n    root._bokeh_failed_load = false;\n  }\n\n  const NB_LOAD_WARNING = {'data': {'text/html':\n     \"<div style='background-color: #fdd'>\\n\"+\n     \"<p>\\n\"+\n     \"BokehJS does not appear to have successfully loaded. If loading BokehJS from CDN, this \\n\"+\n     \"may be due to a slow or bad network connection. Possible fixes:\\n\"+\n     \"</p>\\n\"+\n     \"<ul>\\n\"+\n     \"<li>re-rerun `output_notebook()` to attempt to load from CDN again, or</li>\\n\"+\n     \"<li>use INLINE resources instead, as so:</li>\\n\"+\n     \"</ul>\\n\"+\n     \"<code>\\n\"+\n     \"from bokeh.resources import INLINE\\n\"+\n     \"output_notebook(resources=INLINE)\\n\"+\n     \"</code>\\n\"+\n     \"</div>\"}};\n\n  function display_loaded(error = null) {\n    const el = document.getElementById(\"e8ac0b71-06e6-4a98-b9d9-86509d272587\");\n    if (el != null) {\n      const html = (() => {\n        if (typeof root.Bokeh === \"undefined\") {\n          if (error == null) {\n            return \"BokehJS is loading ...\";\n          } else {\n            return \"BokehJS failed to load.\";\n          }\n        } else {\n          const prefix = `BokehJS ${root.Bokeh.version}`;\n          if (error == null) {\n            return `${prefix} successfully loaded.`;\n          } else {\n            return `${prefix} <b>encountered errors</b> while loading and may not function as expected.`;\n          }\n        }\n      })();\n      el.innerHTML = html;\n\n      if (error != null) {\n        const wrapper = document.createElement(\"div\");\n        wrapper.style.overflow = \"auto\";\n        wrapper.style.height = \"5em\";\n        wrapper.style.resize = \"vertical\";\n        const content = document.createElement(\"div\");\n        content.style.fontFamily = \"monospace\";\n        content.style.whiteSpace = \"pre-wrap\";\n        content.style.backgroundColor = \"rgb(255, 221, 221)\";\n        content.textContent = error.stack ?? error.toString();\n        wrapper.append(content);\n        el.append(wrapper);\n      }\n    } else if (Date.now() < root._bokeh_timeout) {\n      setTimeout(() => display_loaded(error), 100);\n    }\n  }\n\n  function run_callbacks() {\n    try {\n      root._bokeh_onload_callbacks.forEach(function(callback) {\n        if (callback != null)\n          callback();\n      });\n    } finally {\n      delete root._bokeh_onload_callbacks\n    }\n    console.debug(\"Bokeh: all callbacks have finished\");\n  }\n\n  function load_libs(css_urls, js_urls, callback) {\n    if (css_urls == null) css_urls = [];\n    if (js_urls == null) js_urls = [];\n\n    root._bokeh_onload_callbacks.push(callback);\n    if (root._bokeh_is_loading > 0) {\n      console.debug(\"Bokeh: BokehJS is being loaded, scheduling callback at\", now());\n      return null;\n    }\n    if (js_urls == null || js_urls.length === 0) {\n      run_callbacks();\n      return null;\n    }\n    console.debug(\"Bokeh: BokehJS not loaded, scheduling load and callback at\", now());\n    root._bokeh_is_loading = css_urls.length + js_urls.length;\n\n    function on_load() {\n      root._bokeh_is_loading--;\n      if (root._bokeh_is_loading === 0) {\n        console.debug(\"Bokeh: all BokehJS libraries/stylesheets loaded\");\n        run_callbacks()\n      }\n    }\n\n    function on_error(url) {\n      console.error(\"failed to load \" + url);\n    }\n\n    for (let i = 0; i < css_urls.length; i++) {\n      const url = css_urls[i];\n      const element = document.createElement(\"link\");\n      element.onload = on_load;\n      element.onerror = on_error.bind(null, url);\n      element.rel = \"stylesheet\";\n      element.type = \"text/css\";\n      element.href = url;\n      console.debug(\"Bokeh: injecting link tag for BokehJS stylesheet: \", url);\n      document.body.appendChild(element);\n    }\n\n    for (let i = 0; i < js_urls.length; i++) {\n      const url = js_urls[i];\n      const element = document.createElement('script');\n      element.onload = on_load;\n      element.onerror = on_error.bind(null, url);\n      element.async = false;\n      element.src = url;\n      console.debug(\"Bokeh: injecting script tag for BokehJS library: \", url);\n      document.head.appendChild(element);\n    }\n  };\n\n  function inject_raw_css(css) {\n    const element = document.createElement(\"style\");\n    element.appendChild(document.createTextNode(css));\n    document.body.appendChild(element);\n  }\n\n  const js_urls = [\"https://cdn.bokeh.org/bokeh/release/bokeh-3.4.1.min.js\", \"https://cdn.bokeh.org/bokeh/release/bokeh-gl-3.4.1.min.js\", \"https://cdn.bokeh.org/bokeh/release/bokeh-widgets-3.4.1.min.js\", \"https://cdn.bokeh.org/bokeh/release/bokeh-tables-3.4.1.min.js\", \"https://cdn.bokeh.org/bokeh/release/bokeh-mathjax-3.4.1.min.js\"];\n  const css_urls = [];\n\n  const inline_js = [    function(Bokeh) {\n      Bokeh.set_log_level(\"info\");\n    },\nfunction(Bokeh) {\n    }\n  ];\n\n  function run_inline_js() {\n    if (root.Bokeh !== undefined || force === true) {\n      try {\n            for (let i = 0; i < inline_js.length; i++) {\n      inline_js[i].call(root, root.Bokeh);\n    }\n\n      } catch (error) {display_loaded(error);throw error;\n      }if (force === true) {\n        display_loaded();\n      }} else if (Date.now() < root._bokeh_timeout) {\n      setTimeout(run_inline_js, 100);\n    } else if (!root._bokeh_failed_load) {\n      console.log(\"Bokeh: BokehJS failed to load within specified timeout.\");\n      root._bokeh_failed_load = true;\n    } else if (force !== true) {\n      const cell = $(document.getElementById(\"e8ac0b71-06e6-4a98-b9d9-86509d272587\")).parents('.cell').data().cell;\n      cell.output_area.append_execute_result(NB_LOAD_WARNING)\n    }\n  }\n\n  if (root._bokeh_is_loading === 0) {\n    console.debug(\"Bokeh: BokehJS loaded, going straight to plotting\");\n    run_inline_js();\n  } else {\n    load_libs(css_urls, js_urls, function() {\n      console.debug(\"Bokeh: BokehJS plotting callback run at\", now());\n      run_inline_js();\n    });\n  }\n}(window));",
      "application/vnd.bokehjs_load.v0+json": ""
     },
     "metadata": {},
     "output_type": "display_data"
    }
   ],
   "source": [
    "import pandas as pd\n",
    "import numpy as np\n",
    "import networkx as nx\n",
    "from collections import defaultdict\n",
    "import math\n",
    "import statsmodels.api as sm\n",
    "import seaborn as sns\n",
    "import matplotlib.pyplot as plt\n",
    "from sklearn.preprocessing import MinMaxScaler\n",
    "%matplotlib notebook\n",
    "from bokeh.plotting import figure, show, output_notebook\n",
    "from bokeh.models import HoverTool, ColumnDataSource\n",
    "from bokeh.palettes import Category20\n",
    "output_notebook()\n",
    "import plotly.io as pio\n",
    "pio.renderers.default = \"vscode\""
   ]
  },
  {
   "cell_type": "markdown",
   "metadata": {},
   "source": [
    "# Technical Functions\n",
    "\n",
    "The below functions are the fundemental aspects of this project, they are used to calculate the stabilities for each pertubation."
   ]
  },
  {
   "cell_type": "markdown",
   "metadata": {},
   "source": [
    "1. Graph Initialization"
   ]
  },
  {
   "cell_type": "code",
   "execution_count": 74,
   "metadata": {},
   "outputs": [],
   "source": [
    "def init_graph(G,node_adj_frame):\n",
    "    G.add_nodes_from([i for i in range(len(node_adj_frame))])\n",
    "    labels = {}\n",
    "    labels = node_adj_frame.columns\n",
    "    for i in range(len(node_adj_frame)):\n",
    "        snode = node_adj_frame[labels[0]][i]-1\n",
    "        temp = node_adj_frame[labels[2]][i]\n",
    "        if ',' in str(temp):\n",
    "            sedge_arr = temp.split(',')\n",
    "            for j in range(0, len(sedge_arr)):\n",
    "                k = int(sedge_arr[j])\n",
    "                G.add_edge(snode, k-1)\n",
    "        elif np.isnan(temp):\n",
    "            print(\"ERROR: Not found in the adjacency excel sheet\")\n",
    "        else:\n",
    "            G.add_edge(snode, int(temp)-1)\n",
    "    return"
   ]
  },
  {
   "cell_type": "code",
   "execution_count": 75,
   "metadata": {},
   "outputs": [],
   "source": [
    "def init_graph_attr(G, AdjFile, df, columns):\n",
    "    node_adj_frame = pd.read_excel(AdjFile)\n",
    "    node_list = node_adj_frame[\"District_Name\"].tolist()\n",
    "    nodeAttr = {}\n",
    "    init_graph(G, node_adj_frame)\n",
    "    \n",
    "    capability_vector = list(zip(*(df[col] for col in columns)))\n",
    "    node_attri_dict = dict(zip(df[\"District\"], capability_vector))\n",
    "    node_attri_dict = dict((k, v) for k, v in node_attri_dict.items())\n",
    "\n",
    "    for i in range(len(node_adj_frame)):\n",
    "        temp = {}\n",
    "        temp[\"capabilityvector\"] = node_attri_dict[node_list[i]]\n",
    "        temp[\"nodeStress\"] = 0\n",
    "        temp[\"nodeStability\"] = 0\n",
    "        temp[\"name\"] = node_list[i]\n",
    "        nodeAttr[i] = temp\n",
    "\n",
    "    nx.set_node_attributes(G, nodeAttr)"
   ]
  },
  {
   "cell_type": "code",
   "execution_count": 76,
   "metadata": {},
   "outputs": [],
   "source": [
    "def addList(l1,l2):\n",
    "    for i in range(len(l1)):\n",
    "        l1[i] = l1[i] + l2[i]\n",
    "    return l1\n",
    "\n",
    "def divList(l1,k):\n",
    "    for i in range(len(l1)):\n",
    "        l1[i] = l1[i]/k\n",
    "    return l1\n",
    "def l2_normalization(l1,l2):\n",
    "    k = 0\n",
    "    for i in range(len(l1)):\n",
    "        k+= (l1[i] - l2[i])**2\n",
    "    return math.sqrt(k)"
   ]
  },
  {
   "cell_type": "markdown",
   "metadata": {},
   "source": [
    "2. Stress Calculation"
   ]
  },
  {
   "cell_type": "code",
   "execution_count": 77,
   "metadata": {},
   "outputs": [],
   "source": [
    "def get_node_stress(G,dim):\n",
    "    stress_dict = {}\n",
    "    for n in G.nodes():\n",
    "        centroid = [0]*dim\n",
    "        neighList = list(G.neighbors(n))\n",
    "        for nei in neighList:\n",
    "            try:\n",
    "                centroid = addList(centroid,list(G.nodes[nei][\"capabilityvector\"]))\n",
    "            except(KeyError):\n",
    "                pass\n",
    "        try:\n",
    "            G.nodes[n][\"nodeStress\"] = l2_normalization(divList(centroid,len(neighList)),list(G.nodes[n][\"capabilityvector\"]))\n",
    "        except(KeyError):\n",
    "            pass\n",
    "        try:\n",
    "            stress_dict[G.nodes[n][\"name\"]]=G.nodes[n][\"nodeStress\"]\n",
    "        except(KeyError):\n",
    "            pass\n",
    "    return stress_dict"
   ]
  },
  {
   "cell_type": "code",
   "execution_count": 78,
   "metadata": {},
   "outputs": [],
   "source": [
    "def get_node_stability(G,dim):\n",
    "    stability_dict = {}\n",
    "    for n in G.nodes():\n",
    "        centroid = [0]*dim\n",
    "        neighList = list(G.neighbors(n))\n",
    "        for nei in neighList:\n",
    "            try:\n",
    "                centroid = addList(centroid,list(G.nodes[nei][\"capabilityvector\"]))\n",
    "            except(KeyError):\n",
    "                pass\n",
    "        try:\n",
    "            G.nodes[n][\"nodeStability\"] = 1 - l2_normalization(divList(centroid,len(neighList)),list(G.nodes[n][\"capabilityvector\"]))\n",
    "        except(KeyError):\n",
    "            pass\n",
    "        try:\n",
    "            stability_dict[G.nodes[n][\"name\"]]=G.nodes[n][\"nodeStability\"]\n",
    "        except(KeyError):\n",
    "            pass\n",
    "    return stability_dict"
   ]
  },
  {
   "cell_type": "markdown",
   "metadata": {},
   "source": [
    "3. Loading Dataset"
   ]
  },
  {
   "cell_type": "code",
   "execution_count": 130,
   "metadata": {
    "tags": []
   },
   "outputs": [
    {
     "ename": "AttributeError",
     "evalue": "'str' object has no attribute 'head'",
     "output_type": "error",
     "traceback": [
      "\u001b[1;31m---------------------------------------------------------------------------\u001b[0m",
      "\u001b[1;31mAttributeError\u001b[0m                            Traceback (most recent call last)",
      "Cell \u001b[1;32mIn[130], line 5\u001b[0m\n\u001b[0;32m      2\u001b[0m df \u001b[38;5;241m=\u001b[39m pd\u001b[38;5;241m.\u001b[39mread_csv(\u001b[38;5;124m'\u001b[39m\u001b[38;5;124mKAG 2016-17/Agriculture/Agriculture_KAG_2016_17.csv\u001b[39m\u001b[38;5;124m'\u001b[39m)\n\u001b[0;32m      3\u001b[0m adjacency_file \u001b[38;5;241m=\u001b[39m \u001b[38;5;124m'\u001b[39m\u001b[38;5;124mKarnataka_District_Adjacency_File - Copy.xlsx\u001b[39m\u001b[38;5;124m'\u001b[39m\n\u001b[1;32m----> 5\u001b[0m adjacency_file\u001b[38;5;241m.\u001b[39mhead()\n",
      "\u001b[1;31mAttributeError\u001b[0m: 'str' object has no attribute 'head'"
     ]
    }
   ],
   "source": [
    "G = nx.Graph()\n",
    "df = pd.read_csv('KAG 2016-17/Agriculture/Agriculture_KAG_2016_17.csv')\n",
    "adjacency_file = 'Karnataka_District_Adjacency_File - Copy.xlsx'\n",
    "\n",
    "\n",
    "\n",
    "\n",
    "\n"
   ]
  },
  {
   "cell_type": "code",
   "execution_count": 80,
   "metadata": {},
   "outputs": [
    {
     "data": {
      "text/plain": [
       "Index(['District', 'NetAreaIrrigated_Canals_Length_171',\n",
       "       'NetAreaIrrigated_Canals_GrossIrrigatedArea_172',\n",
       "       'NetAreaIrrigated_Canals_NetAreaIrrigated_173',\n",
       "       'NetAreaIrrigated_Tanks_No_174',\n",
       "       'NetAreaIrrigated_Tanks_GrossIrrigatedArea_175',\n",
       "       'NetAreaIrrigated_Tanks_NetAreaIrrigated_176',\n",
       "       'NetAreaIrrigated_Wells_No_177',\n",
       "       'NetAreaIrrigated_Wells_GrossIrrigatedArea_178',\n",
       "       'NetAreaIrrigated_Wells_NetAreaIrrigated_179',\n",
       "       ...\n",
       "       'SowingSeedsDistributed_Safflower_323',\n",
       "       'SowingSeedsDistributed_Groundnut_328',\n",
       "       'SowingSeedsDistributed_Sunflower_329',\n",
       "       'SowingSeedsDistributed_Soyabean_330', 'TotalFoodGrains_240',\n",
       "       'TotalGourdVarietyVegetables_276', 'RRB_AgricultureLoan_448',\n",
       "       'DCCBank_AgricultureLoan_466', 'KSCARD_PLDBank_AgricultureLoan_472',\n",
       "       'TotalAgricultureLoan'],\n",
       "      dtype='object', length=302)"
      ]
     },
     "execution_count": 80,
     "metadata": {},
     "output_type": "execute_result"
    }
   ],
   "source": [
    "df.columns"
   ]
  },
  {
   "cell_type": "code",
   "execution_count": 81,
   "metadata": {},
   "outputs": [],
   "source": [
    "import re\n",
    "def remove_pattern(col_name):\n",
    "    return re.sub(r'_[0-9]{3}$', '', col_name)\n",
    "\n",
    "df.columns = map(remove_pattern, df.columns)"
   ]
  },
  {
   "cell_type": "code",
   "execution_count": 82,
   "metadata": {},
   "outputs": [],
   "source": [
    "df = df[['District','TotalNPK', 'Rice_Production','Jowar_Production','Maize_Production','Jowar_Yield']].copy()"
   ]
  },
  {
   "cell_type": "code",
   "execution_count": 83,
   "metadata": {},
   "outputs": [
    {
     "data": {
      "text/html": [
       "<div>\n",
       "<style scoped>\n",
       "    .dataframe tbody tr th:only-of-type {\n",
       "        vertical-align: middle;\n",
       "    }\n",
       "\n",
       "    .dataframe tbody tr th {\n",
       "        vertical-align: top;\n",
       "    }\n",
       "\n",
       "    .dataframe thead th {\n",
       "        text-align: right;\n",
       "    }\n",
       "</style>\n",
       "<table border=\"1\" class=\"dataframe\">\n",
       "  <thead>\n",
       "    <tr style=\"text-align: right;\">\n",
       "      <th></th>\n",
       "      <th>District</th>\n",
       "      <th>TotalNPK</th>\n",
       "      <th>Rice_Production</th>\n",
       "      <th>Jowar_Production</th>\n",
       "      <th>Maize_Production</th>\n",
       "      <th>Jowar_Yield</th>\n",
       "    </tr>\n",
       "  </thead>\n",
       "  <tbody>\n",
       "    <tr>\n",
       "      <th>0</th>\n",
       "      <td>BENGALURU</td>\n",
       "      <td>23310</td>\n",
       "      <td>3376</td>\n",
       "      <td>851</td>\n",
       "      <td>2879</td>\n",
       "      <td>1539</td>\n",
       "    </tr>\n",
       "    <tr>\n",
       "      <th>1</th>\n",
       "      <td>BENGALURU(R)</td>\n",
       "      <td>19259</td>\n",
       "      <td>2354</td>\n",
       "      <td>0</td>\n",
       "      <td>42583</td>\n",
       "      <td>0</td>\n",
       "    </tr>\n",
       "    <tr>\n",
       "      <th>2</th>\n",
       "      <td>RAMANAGARA</td>\n",
       "      <td>7472</td>\n",
       "      <td>12128</td>\n",
       "      <td>0</td>\n",
       "      <td>10450</td>\n",
       "      <td>0</td>\n",
       "    </tr>\n",
       "    <tr>\n",
       "      <th>3</th>\n",
       "      <td>CHITRADURGA</td>\n",
       "      <td>35884</td>\n",
       "      <td>4566</td>\n",
       "      <td>13301</td>\n",
       "      <td>271975</td>\n",
       "      <td>984</td>\n",
       "    </tr>\n",
       "    <tr>\n",
       "      <th>4</th>\n",
       "      <td>DAVANAGERE</td>\n",
       "      <td>99644</td>\n",
       "      <td>489505</td>\n",
       "      <td>23072</td>\n",
       "      <td>593544</td>\n",
       "      <td>2167</td>\n",
       "    </tr>\n",
       "    <tr>\n",
       "      <th>5</th>\n",
       "      <td>KOLAR</td>\n",
       "      <td>22190</td>\n",
       "      <td>864</td>\n",
       "      <td>0</td>\n",
       "      <td>1759</td>\n",
       "      <td>0</td>\n",
       "    </tr>\n",
       "    <tr>\n",
       "      <th>6</th>\n",
       "      <td>CHIKKABALLAPURA</td>\n",
       "      <td>28357</td>\n",
       "      <td>2698</td>\n",
       "      <td>0</td>\n",
       "      <td>105491</td>\n",
       "      <td>0</td>\n",
       "    </tr>\n",
       "    <tr>\n",
       "      <th>7</th>\n",
       "      <td>SHIVAMOGGA</td>\n",
       "      <td>56609</td>\n",
       "      <td>384974</td>\n",
       "      <td>756</td>\n",
       "      <td>226532</td>\n",
       "      <td>2242</td>\n",
       "    </tr>\n",
       "    <tr>\n",
       "      <th>8</th>\n",
       "      <td>TUMAKURU</td>\n",
       "      <td>38148</td>\n",
       "      <td>26042</td>\n",
       "      <td>2652</td>\n",
       "      <td>66868</td>\n",
       "      <td>1346</td>\n",
       "    </tr>\n",
       "    <tr>\n",
       "      <th>9</th>\n",
       "      <td>CHIKKAMAGALURU</td>\n",
       "      <td>67863</td>\n",
       "      <td>110533</td>\n",
       "      <td>9080</td>\n",
       "      <td>61353</td>\n",
       "      <td>897</td>\n",
       "    </tr>\n",
       "    <tr>\n",
       "      <th>10</th>\n",
       "      <td>DAKSHINA KANNADA</td>\n",
       "      <td>18588</td>\n",
       "      <td>132588</td>\n",
       "      <td>0</td>\n",
       "      <td>0</td>\n",
       "      <td>0</td>\n",
       "    </tr>\n",
       "    <tr>\n",
       "      <th>11</th>\n",
       "      <td>UDUPI</td>\n",
       "      <td>6148</td>\n",
       "      <td>138156</td>\n",
       "      <td>0</td>\n",
       "      <td>109</td>\n",
       "      <td>0</td>\n",
       "    </tr>\n",
       "    <tr>\n",
       "      <th>12</th>\n",
       "      <td>HASSAN</td>\n",
       "      <td>68431</td>\n",
       "      <td>143705</td>\n",
       "      <td>981</td>\n",
       "      <td>333937</td>\n",
       "      <td>917</td>\n",
       "    </tr>\n",
       "    <tr>\n",
       "      <th>13</th>\n",
       "      <td>KODAGU</td>\n",
       "      <td>40947</td>\n",
       "      <td>86303</td>\n",
       "      <td>0</td>\n",
       "      <td>17921</td>\n",
       "      <td>0</td>\n",
       "    </tr>\n",
       "    <tr>\n",
       "      <th>14</th>\n",
       "      <td>MANDYA</td>\n",
       "      <td>60558</td>\n",
       "      <td>246543</td>\n",
       "      <td>1192</td>\n",
       "      <td>19387</td>\n",
       "      <td>970</td>\n",
       "    </tr>\n",
       "    <tr>\n",
       "      <th>15</th>\n",
       "      <td>MYSURU</td>\n",
       "      <td>62014</td>\n",
       "      <td>354227</td>\n",
       "      <td>6047</td>\n",
       "      <td>137154</td>\n",
       "      <td>1104</td>\n",
       "    </tr>\n",
       "    <tr>\n",
       "      <th>16</th>\n",
       "      <td>CHAMARAJANAGAR</td>\n",
       "      <td>23803</td>\n",
       "      <td>45856</td>\n",
       "      <td>4947</td>\n",
       "      <td>147886</td>\n",
       "      <td>371</td>\n",
       "    </tr>\n",
       "    <tr>\n",
       "      <th>17</th>\n",
       "      <td>BELAGAVI</td>\n",
       "      <td>179992</td>\n",
       "      <td>177552</td>\n",
       "      <td>141459</td>\n",
       "      <td>576758</td>\n",
       "      <td>1200</td>\n",
       "    </tr>\n",
       "    <tr>\n",
       "      <th>18</th>\n",
       "      <td>VIJAYAPURA</td>\n",
       "      <td>54228</td>\n",
       "      <td>170</td>\n",
       "      <td>134027</td>\n",
       "      <td>226327</td>\n",
       "      <td>974</td>\n",
       "    </tr>\n",
       "    <tr>\n",
       "      <th>19</th>\n",
       "      <td>BAGALKOT</td>\n",
       "      <td>84812</td>\n",
       "      <td>85</td>\n",
       "      <td>97067</td>\n",
       "      <td>251699</td>\n",
       "      <td>966</td>\n",
       "    </tr>\n",
       "    <tr>\n",
       "      <th>20</th>\n",
       "      <td>DHARAWAD</td>\n",
       "      <td>37381</td>\n",
       "      <td>33989</td>\n",
       "      <td>42214</td>\n",
       "      <td>90634</td>\n",
       "      <td>1080</td>\n",
       "    </tr>\n",
       "    <tr>\n",
       "      <th>21</th>\n",
       "      <td>GADAG</td>\n",
       "      <td>23280</td>\n",
       "      <td>7258</td>\n",
       "      <td>61281</td>\n",
       "      <td>138476</td>\n",
       "      <td>1025</td>\n",
       "    </tr>\n",
       "    <tr>\n",
       "      <th>22</th>\n",
       "      <td>HAVERI</td>\n",
       "      <td>65001</td>\n",
       "      <td>125422</td>\n",
       "      <td>36545</td>\n",
       "      <td>413487</td>\n",
       "      <td>1207</td>\n",
       "    </tr>\n",
       "    <tr>\n",
       "      <th>23</th>\n",
       "      <td>UTTARA KANNADA</td>\n",
       "      <td>15316</td>\n",
       "      <td>152981</td>\n",
       "      <td>0</td>\n",
       "      <td>24088</td>\n",
       "      <td>0</td>\n",
       "    </tr>\n",
       "    <tr>\n",
       "      <th>24</th>\n",
       "      <td>BALLARI</td>\n",
       "      <td>123329</td>\n",
       "      <td>412231</td>\n",
       "      <td>67926</td>\n",
       "      <td>208090</td>\n",
       "      <td>1807</td>\n",
       "    </tr>\n",
       "    <tr>\n",
       "      <th>25</th>\n",
       "      <td>BIDAR</td>\n",
       "      <td>24658</td>\n",
       "      <td>2036</td>\n",
       "      <td>39965</td>\n",
       "      <td>2791</td>\n",
       "      <td>1058</td>\n",
       "    </tr>\n",
       "    <tr>\n",
       "      <th>26</th>\n",
       "      <td>KALABURAGI</td>\n",
       "      <td>53999</td>\n",
       "      <td>7888</td>\n",
       "      <td>260499</td>\n",
       "      <td>14621</td>\n",
       "      <td>1146</td>\n",
       "    </tr>\n",
       "    <tr>\n",
       "      <th>27</th>\n",
       "      <td>YADGIRI</td>\n",
       "      <td>91389</td>\n",
       "      <td>224659</td>\n",
       "      <td>47294</td>\n",
       "      <td>2673</td>\n",
       "      <td>1197</td>\n",
       "    </tr>\n",
       "    <tr>\n",
       "      <th>28</th>\n",
       "      <td>RAICHUR</td>\n",
       "      <td>117235</td>\n",
       "      <td>492342</td>\n",
       "      <td>99087</td>\n",
       "      <td>723</td>\n",
       "      <td>1359</td>\n",
       "    </tr>\n",
       "    <tr>\n",
       "      <th>29</th>\n",
       "      <td>KOPPAL</td>\n",
       "      <td>73552</td>\n",
       "      <td>243505</td>\n",
       "      <td>45402</td>\n",
       "      <td>190252</td>\n",
       "      <td>1312</td>\n",
       "    </tr>\n",
       "  </tbody>\n",
       "</table>\n",
       "</div>"
      ],
      "text/plain": [
       "            District  TotalNPK  Rice_Production  Jowar_Production  \\\n",
       "0          BENGALURU     23310             3376               851   \n",
       "1       BENGALURU(R)     19259             2354                 0   \n",
       "2         RAMANAGARA      7472            12128                 0   \n",
       "3        CHITRADURGA     35884             4566             13301   \n",
       "4         DAVANAGERE     99644           489505             23072   \n",
       "5              KOLAR     22190              864                 0   \n",
       "6    CHIKKABALLAPURA     28357             2698                 0   \n",
       "7         SHIVAMOGGA     56609           384974               756   \n",
       "8           TUMAKURU     38148            26042              2652   \n",
       "9     CHIKKAMAGALURU     67863           110533              9080   \n",
       "10  DAKSHINA KANNADA     18588           132588                 0   \n",
       "11             UDUPI      6148           138156                 0   \n",
       "12            HASSAN     68431           143705               981   \n",
       "13            KODAGU     40947            86303                 0   \n",
       "14            MANDYA     60558           246543              1192   \n",
       "15            MYSURU     62014           354227              6047   \n",
       "16    CHAMARAJANAGAR     23803            45856              4947   \n",
       "17          BELAGAVI    179992           177552            141459   \n",
       "18        VIJAYAPURA     54228              170            134027   \n",
       "19          BAGALKOT     84812               85             97067   \n",
       "20          DHARAWAD     37381            33989             42214   \n",
       "21             GADAG     23280             7258             61281   \n",
       "22            HAVERI     65001           125422             36545   \n",
       "23    UTTARA KANNADA     15316           152981                 0   \n",
       "24           BALLARI    123329           412231             67926   \n",
       "25             BIDAR     24658             2036             39965   \n",
       "26        KALABURAGI     53999             7888            260499   \n",
       "27           YADGIRI     91389           224659             47294   \n",
       "28           RAICHUR    117235           492342             99087   \n",
       "29            KOPPAL     73552           243505             45402   \n",
       "\n",
       "    Maize_Production  Jowar_Yield  \n",
       "0               2879         1539  \n",
       "1              42583            0  \n",
       "2              10450            0  \n",
       "3             271975          984  \n",
       "4             593544         2167  \n",
       "5               1759            0  \n",
       "6             105491            0  \n",
       "7             226532         2242  \n",
       "8              66868         1346  \n",
       "9              61353          897  \n",
       "10                 0            0  \n",
       "11               109            0  \n",
       "12            333937          917  \n",
       "13             17921            0  \n",
       "14             19387          970  \n",
       "15            137154         1104  \n",
       "16            147886          371  \n",
       "17            576758         1200  \n",
       "18            226327          974  \n",
       "19            251699          966  \n",
       "20             90634         1080  \n",
       "21            138476         1025  \n",
       "22            413487         1207  \n",
       "23             24088            0  \n",
       "24            208090         1807  \n",
       "25              2791         1058  \n",
       "26             14621         1146  \n",
       "27              2673         1197  \n",
       "28               723         1359  \n",
       "29            190252         1312  "
      ]
     },
     "execution_count": 83,
     "metadata": {},
     "output_type": "execute_result"
    }
   ],
   "source": [
    "df"
   ]
  },
  {
   "cell_type": "markdown",
   "metadata": {},
   "source": [
    "4. Running Linear Regression, with base_coloumn as X and Capability_Vector as Y."
   ]
  },
  {
   "cell_type": "markdown",
   "metadata": {},
   "source": [
    "Diving Vijayangra Values."
   ]
  },
  {
   "cell_type": "code",
   "execution_count": 84,
   "metadata": {},
   "outputs": [
    {
     "name": "stderr",
     "output_type": "stream",
     "text": [
      "C:\\Users\\dalal\\AppData\\Local\\Temp\\ipykernel_12796\\1542201205.py:6: FutureWarning:\n",
      "\n",
      "Setting an item of incompatible dtype is deprecated and will raise an error in a future version of pandas. Value '[61664.5]' has dtype incompatible with int64, please explicitly cast to a compatible dtype first.\n",
      "\n",
      "C:\\Users\\dalal\\AppData\\Local\\Temp\\ipykernel_12796\\1542201205.py:6: FutureWarning:\n",
      "\n",
      "Setting an item of incompatible dtype is deprecated and will raise an error in a future version of pandas. Value '[206115.5]' has dtype incompatible with int64, please explicitly cast to a compatible dtype first.\n",
      "\n",
      "C:\\Users\\dalal\\AppData\\Local\\Temp\\ipykernel_12796\\1542201205.py:6: FutureWarning:\n",
      "\n",
      "Setting an item of incompatible dtype is deprecated and will raise an error in a future version of pandas. Value '[903.5]' has dtype incompatible with int64, please explicitly cast to a compatible dtype first.\n",
      "\n",
      "C:\\Users\\dalal\\AppData\\Local\\Temp\\ipykernel_12796\\1542201205.py:7: FutureWarning:\n",
      "\n",
      "DataFrame.applymap has been deprecated. Use DataFrame.map instead.\n",
      "\n"
     ]
    }
   ],
   "source": [
    "vijayanagara_values = df[df['District'] == 'BALLARI'].iloc[0].copy()\n",
    "vijayanagara_values['District'] = 'Vijayanagara'\n",
    "vijayanagara_values[['TotalNPK', 'Rice_Production', 'Jowar_Production', 'Maize_Production', 'Jowar_Yield']] = (vijayanagara_values[['TotalNPK', 'Rice_Production', 'Jowar_Production', 'Maize_Production', 'Jowar_Yield']].astype(float) / 2).round().astype(int)\n",
    "df = pd.concat([df, pd.DataFrame([vijayanagara_values], columns=df.columns)], ignore_index=True)\n",
    "\n",
    "df.loc[df['District'] == 'BALLARI', ['TotalNPK', 'Rice_Production', 'Jowar_Production', 'Maize_Production', 'Jowar_Yield']] /= 2\n",
    "df.loc[df['District'] == 'BALLARI', ['TotalNPK', 'Rice_Production', 'Jowar_Production', 'Maize_Production', 'Jowar_Yield']] = df.loc[df['District'] == 'BALLARI', ['TotalNPK', 'Rice_Production', 'Jowar_Production', 'Maize_Production', 'Jowar_Yield']].applymap(lambda x: x + 0.5 if x % 1 != 0 else x)"
   ]
  },
  {
   "cell_type": "code",
   "execution_count": 85,
   "metadata": {},
   "outputs": [
    {
     "name": "stdout",
     "output_type": "stream",
     "text": [
      "2.1764894064966205 17136.471837471167\n"
     ]
    }
   ],
   "source": [
    "base_column = \"TotalNPK\"\n",
    "capability_vector = \"Rice_Production\"\n",
    "X = sm.add_constant(df[base_column])\n",
    "y = df[capability_vector]\n",
    "model = sm.OLS(y, X).fit()\n",
    "m, c = model.params[base_column], model.params['const']\n",
    "print(m,c)"
   ]
  },
  {
   "cell_type": "code",
   "execution_count": 86,
   "metadata": {},
   "outputs": [],
   "source": [
    "def calculate_and_return_initial_stability(df, columns, G, adjacency_file = adjacency_file):\n",
    "    dim = len(columns)\n",
    "    col_to_pass = []\n",
    "\n",
    "    for column in columns:\n",
    "        column_values = df[column].values.reshape(-1, 1)\n",
    "        scaler = MinMaxScaler()\n",
    "        normalized_column_values = scaler.fit_transform(column_values)\n",
    "        df[f\"Normalized_{column}\"] = normalized_column_values\n",
    "        col_to_pass.append(f\"Normalized_{column}\")\n",
    "\n",
    "    init_graph_attr(G, adjacency_file, df, col_to_pass)\n",
    "    initial_stability = get_node_stability(G, dim)\n",
    "    df[\"Initial Stability\"] = df[\"District\"].map(initial_stability)\n",
    "\n",
    "    return df[\"Initial Stability\"]"
   ]
  },
  {
   "cell_type": "code",
   "execution_count": 87,
   "metadata": {},
   "outputs": [
    {
     "data": {
      "text/html": [
       "<div>\n",
       "<style scoped>\n",
       "    .dataframe tbody tr th:only-of-type {\n",
       "        vertical-align: middle;\n",
       "    }\n",
       "\n",
       "    .dataframe tbody tr th {\n",
       "        vertical-align: top;\n",
       "    }\n",
       "\n",
       "    .dataframe thead th {\n",
       "        text-align: right;\n",
       "    }\n",
       "</style>\n",
       "<table border=\"1\" class=\"dataframe\">\n",
       "  <thead>\n",
       "    <tr style=\"text-align: right;\">\n",
       "      <th></th>\n",
       "      <th>District</th>\n",
       "      <th>TotalNPK</th>\n",
       "      <th>Rice_Production</th>\n",
       "      <th>Jowar_Production</th>\n",
       "      <th>Maize_Production</th>\n",
       "      <th>Jowar_Yield</th>\n",
       "    </tr>\n",
       "  </thead>\n",
       "  <tbody>\n",
       "    <tr>\n",
       "      <th>0</th>\n",
       "      <td>BENGALURU</td>\n",
       "      <td>23310.0</td>\n",
       "      <td>3376.0</td>\n",
       "      <td>851</td>\n",
       "      <td>2879</td>\n",
       "      <td>1539.0</td>\n",
       "    </tr>\n",
       "    <tr>\n",
       "      <th>1</th>\n",
       "      <td>BENGALURU(R)</td>\n",
       "      <td>19259.0</td>\n",
       "      <td>2354.0</td>\n",
       "      <td>0</td>\n",
       "      <td>42583</td>\n",
       "      <td>0.0</td>\n",
       "    </tr>\n",
       "    <tr>\n",
       "      <th>2</th>\n",
       "      <td>RAMANAGARA</td>\n",
       "      <td>7472.0</td>\n",
       "      <td>12128.0</td>\n",
       "      <td>0</td>\n",
       "      <td>10450</td>\n",
       "      <td>0.0</td>\n",
       "    </tr>\n",
       "    <tr>\n",
       "      <th>3</th>\n",
       "      <td>CHITRADURGA</td>\n",
       "      <td>35884.0</td>\n",
       "      <td>4566.0</td>\n",
       "      <td>13301</td>\n",
       "      <td>271975</td>\n",
       "      <td>984.0</td>\n",
       "    </tr>\n",
       "    <tr>\n",
       "      <th>4</th>\n",
       "      <td>DAVANAGERE</td>\n",
       "      <td>99644.0</td>\n",
       "      <td>489505.0</td>\n",
       "      <td>23072</td>\n",
       "      <td>593544</td>\n",
       "      <td>2167.0</td>\n",
       "    </tr>\n",
       "    <tr>\n",
       "      <th>5</th>\n",
       "      <td>KOLAR</td>\n",
       "      <td>22190.0</td>\n",
       "      <td>864.0</td>\n",
       "      <td>0</td>\n",
       "      <td>1759</td>\n",
       "      <td>0.0</td>\n",
       "    </tr>\n",
       "    <tr>\n",
       "      <th>6</th>\n",
       "      <td>CHIKKABALLAPURA</td>\n",
       "      <td>28357.0</td>\n",
       "      <td>2698.0</td>\n",
       "      <td>0</td>\n",
       "      <td>105491</td>\n",
       "      <td>0.0</td>\n",
       "    </tr>\n",
       "    <tr>\n",
       "      <th>7</th>\n",
       "      <td>SHIVAMOGGA</td>\n",
       "      <td>56609.0</td>\n",
       "      <td>384974.0</td>\n",
       "      <td>756</td>\n",
       "      <td>226532</td>\n",
       "      <td>2242.0</td>\n",
       "    </tr>\n",
       "    <tr>\n",
       "      <th>8</th>\n",
       "      <td>TUMAKURU</td>\n",
       "      <td>38148.0</td>\n",
       "      <td>26042.0</td>\n",
       "      <td>2652</td>\n",
       "      <td>66868</td>\n",
       "      <td>1346.0</td>\n",
       "    </tr>\n",
       "    <tr>\n",
       "      <th>9</th>\n",
       "      <td>CHIKKAMAGALURU</td>\n",
       "      <td>67863.0</td>\n",
       "      <td>110533.0</td>\n",
       "      <td>9080</td>\n",
       "      <td>61353</td>\n",
       "      <td>897.0</td>\n",
       "    </tr>\n",
       "    <tr>\n",
       "      <th>10</th>\n",
       "      <td>DAKSHINA KANNADA</td>\n",
       "      <td>18588.0</td>\n",
       "      <td>132588.0</td>\n",
       "      <td>0</td>\n",
       "      <td>0</td>\n",
       "      <td>0.0</td>\n",
       "    </tr>\n",
       "    <tr>\n",
       "      <th>11</th>\n",
       "      <td>UDUPI</td>\n",
       "      <td>6148.0</td>\n",
       "      <td>138156.0</td>\n",
       "      <td>0</td>\n",
       "      <td>109</td>\n",
       "      <td>0.0</td>\n",
       "    </tr>\n",
       "    <tr>\n",
       "      <th>12</th>\n",
       "      <td>HASSAN</td>\n",
       "      <td>68431.0</td>\n",
       "      <td>143705.0</td>\n",
       "      <td>981</td>\n",
       "      <td>333937</td>\n",
       "      <td>917.0</td>\n",
       "    </tr>\n",
       "    <tr>\n",
       "      <th>13</th>\n",
       "      <td>KODAGU</td>\n",
       "      <td>40947.0</td>\n",
       "      <td>86303.0</td>\n",
       "      <td>0</td>\n",
       "      <td>17921</td>\n",
       "      <td>0.0</td>\n",
       "    </tr>\n",
       "    <tr>\n",
       "      <th>14</th>\n",
       "      <td>MANDYA</td>\n",
       "      <td>60558.0</td>\n",
       "      <td>246543.0</td>\n",
       "      <td>1192</td>\n",
       "      <td>19387</td>\n",
       "      <td>970.0</td>\n",
       "    </tr>\n",
       "    <tr>\n",
       "      <th>15</th>\n",
       "      <td>MYSURU</td>\n",
       "      <td>62014.0</td>\n",
       "      <td>354227.0</td>\n",
       "      <td>6047</td>\n",
       "      <td>137154</td>\n",
       "      <td>1104.0</td>\n",
       "    </tr>\n",
       "    <tr>\n",
       "      <th>16</th>\n",
       "      <td>CHAMARAJANAGAR</td>\n",
       "      <td>23803.0</td>\n",
       "      <td>45856.0</td>\n",
       "      <td>4947</td>\n",
       "      <td>147886</td>\n",
       "      <td>371.0</td>\n",
       "    </tr>\n",
       "    <tr>\n",
       "      <th>17</th>\n",
       "      <td>BELAGAVI</td>\n",
       "      <td>179992.0</td>\n",
       "      <td>177552.0</td>\n",
       "      <td>141459</td>\n",
       "      <td>576758</td>\n",
       "      <td>1200.0</td>\n",
       "    </tr>\n",
       "    <tr>\n",
       "      <th>18</th>\n",
       "      <td>VIJAYAPURA</td>\n",
       "      <td>54228.0</td>\n",
       "      <td>170.0</td>\n",
       "      <td>134027</td>\n",
       "      <td>226327</td>\n",
       "      <td>974.0</td>\n",
       "    </tr>\n",
       "    <tr>\n",
       "      <th>19</th>\n",
       "      <td>BAGALKOT</td>\n",
       "      <td>84812.0</td>\n",
       "      <td>85.0</td>\n",
       "      <td>97067</td>\n",
       "      <td>251699</td>\n",
       "      <td>966.0</td>\n",
       "    </tr>\n",
       "    <tr>\n",
       "      <th>20</th>\n",
       "      <td>DHARAWAD</td>\n",
       "      <td>37381.0</td>\n",
       "      <td>33989.0</td>\n",
       "      <td>42214</td>\n",
       "      <td>90634</td>\n",
       "      <td>1080.0</td>\n",
       "    </tr>\n",
       "    <tr>\n",
       "      <th>21</th>\n",
       "      <td>GADAG</td>\n",
       "      <td>23280.0</td>\n",
       "      <td>7258.0</td>\n",
       "      <td>61281</td>\n",
       "      <td>138476</td>\n",
       "      <td>1025.0</td>\n",
       "    </tr>\n",
       "    <tr>\n",
       "      <th>22</th>\n",
       "      <td>HAVERI</td>\n",
       "      <td>65001.0</td>\n",
       "      <td>125422.0</td>\n",
       "      <td>36545</td>\n",
       "      <td>413487</td>\n",
       "      <td>1207.0</td>\n",
       "    </tr>\n",
       "    <tr>\n",
       "      <th>23</th>\n",
       "      <td>UTTARA KANNADA</td>\n",
       "      <td>15316.0</td>\n",
       "      <td>152981.0</td>\n",
       "      <td>0</td>\n",
       "      <td>24088</td>\n",
       "      <td>0.0</td>\n",
       "    </tr>\n",
       "    <tr>\n",
       "      <th>24</th>\n",
       "      <td>BALLARI</td>\n",
       "      <td>61665.0</td>\n",
       "      <td>206116.0</td>\n",
       "      <td>33963</td>\n",
       "      <td>104045</td>\n",
       "      <td>904.0</td>\n",
       "    </tr>\n",
       "    <tr>\n",
       "      <th>25</th>\n",
       "      <td>BIDAR</td>\n",
       "      <td>24658.0</td>\n",
       "      <td>2036.0</td>\n",
       "      <td>39965</td>\n",
       "      <td>2791</td>\n",
       "      <td>1058.0</td>\n",
       "    </tr>\n",
       "    <tr>\n",
       "      <th>26</th>\n",
       "      <td>KALABURAGI</td>\n",
       "      <td>53999.0</td>\n",
       "      <td>7888.0</td>\n",
       "      <td>260499</td>\n",
       "      <td>14621</td>\n",
       "      <td>1146.0</td>\n",
       "    </tr>\n",
       "    <tr>\n",
       "      <th>27</th>\n",
       "      <td>YADGIRI</td>\n",
       "      <td>91389.0</td>\n",
       "      <td>224659.0</td>\n",
       "      <td>47294</td>\n",
       "      <td>2673</td>\n",
       "      <td>1197.0</td>\n",
       "    </tr>\n",
       "    <tr>\n",
       "      <th>28</th>\n",
       "      <td>RAICHUR</td>\n",
       "      <td>117235.0</td>\n",
       "      <td>492342.0</td>\n",
       "      <td>99087</td>\n",
       "      <td>723</td>\n",
       "      <td>1359.0</td>\n",
       "    </tr>\n",
       "    <tr>\n",
       "      <th>29</th>\n",
       "      <td>KOPPAL</td>\n",
       "      <td>73552.0</td>\n",
       "      <td>243505.0</td>\n",
       "      <td>45402</td>\n",
       "      <td>190252</td>\n",
       "      <td>1312.0</td>\n",
       "    </tr>\n",
       "    <tr>\n",
       "      <th>30</th>\n",
       "      <td>Vijayanagara</td>\n",
       "      <td>61664.0</td>\n",
       "      <td>206116.0</td>\n",
       "      <td>33963</td>\n",
       "      <td>104045</td>\n",
       "      <td>904.0</td>\n",
       "    </tr>\n",
       "  </tbody>\n",
       "</table>\n",
       "</div>"
      ],
      "text/plain": [
       "            District  TotalNPK  Rice_Production  Jowar_Production  \\\n",
       "0          BENGALURU   23310.0           3376.0               851   \n",
       "1       BENGALURU(R)   19259.0           2354.0                 0   \n",
       "2         RAMANAGARA    7472.0          12128.0                 0   \n",
       "3        CHITRADURGA   35884.0           4566.0             13301   \n",
       "4         DAVANAGERE   99644.0         489505.0             23072   \n",
       "5              KOLAR   22190.0            864.0                 0   \n",
       "6    CHIKKABALLAPURA   28357.0           2698.0                 0   \n",
       "7         SHIVAMOGGA   56609.0         384974.0               756   \n",
       "8           TUMAKURU   38148.0          26042.0              2652   \n",
       "9     CHIKKAMAGALURU   67863.0         110533.0              9080   \n",
       "10  DAKSHINA KANNADA   18588.0         132588.0                 0   \n",
       "11             UDUPI    6148.0         138156.0                 0   \n",
       "12            HASSAN   68431.0         143705.0               981   \n",
       "13            KODAGU   40947.0          86303.0                 0   \n",
       "14            MANDYA   60558.0         246543.0              1192   \n",
       "15            MYSURU   62014.0         354227.0              6047   \n",
       "16    CHAMARAJANAGAR   23803.0          45856.0              4947   \n",
       "17          BELAGAVI  179992.0         177552.0            141459   \n",
       "18        VIJAYAPURA   54228.0            170.0            134027   \n",
       "19          BAGALKOT   84812.0             85.0             97067   \n",
       "20          DHARAWAD   37381.0          33989.0             42214   \n",
       "21             GADAG   23280.0           7258.0             61281   \n",
       "22            HAVERI   65001.0         125422.0             36545   \n",
       "23    UTTARA KANNADA   15316.0         152981.0                 0   \n",
       "24           BALLARI   61665.0         206116.0             33963   \n",
       "25             BIDAR   24658.0           2036.0             39965   \n",
       "26        KALABURAGI   53999.0           7888.0            260499   \n",
       "27           YADGIRI   91389.0         224659.0             47294   \n",
       "28           RAICHUR  117235.0         492342.0             99087   \n",
       "29            KOPPAL   73552.0         243505.0             45402   \n",
       "30      Vijayanagara   61664.0         206116.0             33963   \n",
       "\n",
       "    Maize_Production  Jowar_Yield  \n",
       "0               2879       1539.0  \n",
       "1              42583          0.0  \n",
       "2              10450          0.0  \n",
       "3             271975        984.0  \n",
       "4             593544       2167.0  \n",
       "5               1759          0.0  \n",
       "6             105491          0.0  \n",
       "7             226532       2242.0  \n",
       "8              66868       1346.0  \n",
       "9              61353        897.0  \n",
       "10                 0          0.0  \n",
       "11               109          0.0  \n",
       "12            333937        917.0  \n",
       "13             17921          0.0  \n",
       "14             19387        970.0  \n",
       "15            137154       1104.0  \n",
       "16            147886        371.0  \n",
       "17            576758       1200.0  \n",
       "18            226327        974.0  \n",
       "19            251699        966.0  \n",
       "20             90634       1080.0  \n",
       "21            138476       1025.0  \n",
       "22            413487       1207.0  \n",
       "23             24088          0.0  \n",
       "24            104045        904.0  \n",
       "25              2791       1058.0  \n",
       "26             14621       1146.0  \n",
       "27              2673       1197.0  \n",
       "28               723       1359.0  \n",
       "29            190252       1312.0  \n",
       "30            104045        904.0  "
      ]
     },
     "execution_count": 87,
     "metadata": {},
     "output_type": "execute_result"
    }
   ],
   "source": [
    "df"
   ]
  },
  {
   "cell_type": "markdown",
   "metadata": {},
   "source": [
    "Normalizing Production Values "
   ]
  },
  {
   "cell_type": "code",
   "execution_count": 88,
   "metadata": {},
   "outputs": [],
   "source": [
    "columns_to_normalize = [\"Maize_Production\",\"Rice_Production\",\"Jowar_Production\"]\n",
    "dim = 1\n",
    "for col in columns_to_normalize:\n",
    "    column_values = df[col].values.reshape(-1, 1)\n",
    "    scaler = MinMaxScaler()\n",
    "    normalized_values = scaler.fit_transform(column_values)\n",
    "    df[f\"Normalized_{col}\"] = normalized_values.flatten()\n",
    "    init_graph_attr(G,adjacency_file , df,[f\"Normalized_{col}\"] )\n",
    "    initial_stability = get_node_stability(G, dim)\n",
    "    df[f\"Initial Stability_{col}\"] = df[\"District\"].map(initial_stability)"
   ]
  },
  {
   "cell_type": "code",
   "execution_count": 89,
   "metadata": {},
   "outputs": [
    {
     "data": {
      "text/html": [
       "<div>\n",
       "<style scoped>\n",
       "    .dataframe tbody tr th:only-of-type {\n",
       "        vertical-align: middle;\n",
       "    }\n",
       "\n",
       "    .dataframe tbody tr th {\n",
       "        vertical-align: top;\n",
       "    }\n",
       "\n",
       "    .dataframe thead th {\n",
       "        text-align: right;\n",
       "    }\n",
       "</style>\n",
       "<table border=\"1\" class=\"dataframe\">\n",
       "  <thead>\n",
       "    <tr style=\"text-align: right;\">\n",
       "      <th></th>\n",
       "      <th>District</th>\n",
       "      <th>TotalNPK</th>\n",
       "      <th>Rice_Production</th>\n",
       "      <th>Jowar_Production</th>\n",
       "      <th>Maize_Production</th>\n",
       "      <th>Jowar_Yield</th>\n",
       "      <th>Normalized_Maize_Production</th>\n",
       "      <th>Initial Stability_Maize_Production</th>\n",
       "      <th>Normalized_Rice_Production</th>\n",
       "      <th>Initial Stability_Rice_Production</th>\n",
       "      <th>Normalized_Jowar_Production</th>\n",
       "      <th>Initial Stability_Jowar_Production</th>\n",
       "    </tr>\n",
       "  </thead>\n",
       "  <tbody>\n",
       "    <tr>\n",
       "      <th>0</th>\n",
       "      <td>BENGALURU</td>\n",
       "      <td>23310.0</td>\n",
       "      <td>3376.0</td>\n",
       "      <td>851</td>\n",
       "      <td>2879</td>\n",
       "      <td>1539.0</td>\n",
       "      <td>0.004851</td>\n",
       "      <td>0.960176</td>\n",
       "      <td>0.006686</td>\n",
       "      <td>0.992148</td>\n",
       "      <td>0.003267</td>\n",
       "      <td>0.996733</td>\n",
       "    </tr>\n",
       "    <tr>\n",
       "      <th>1</th>\n",
       "      <td>BENGALURU(R)</td>\n",
       "      <td>19259.0</td>\n",
       "      <td>2354.0</td>\n",
       "      <td>0</td>\n",
       "      <td>42583</td>\n",
       "      <td>0.0</td>\n",
       "      <td>0.071744</td>\n",
       "      <td>0.991418</td>\n",
       "      <td>0.004609</td>\n",
       "      <td>0.986455</td>\n",
       "      <td>0.000000</td>\n",
       "      <td>0.997311</td>\n",
       "    </tr>\n",
       "    <tr>\n",
       "      <th>2</th>\n",
       "      <td>RAMANAGARA</td>\n",
       "      <td>7472.0</td>\n",
       "      <td>12128.0</td>\n",
       "      <td>0</td>\n",
       "      <td>10450</td>\n",
       "      <td>0.0</td>\n",
       "      <td>0.017606</td>\n",
       "      <td>0.923391</td>\n",
       "      <td>0.024465</td>\n",
       "      <td>0.892930</td>\n",
       "      <td>0.000000</td>\n",
       "      <td>0.992597</td>\n",
       "    </tr>\n",
       "    <tr>\n",
       "      <th>3</th>\n",
       "      <td>CHITRADURGA</td>\n",
       "      <td>35884.0</td>\n",
       "      <td>4566.0</td>\n",
       "      <td>13301</td>\n",
       "      <td>271975</td>\n",
       "      <td>984.0</td>\n",
       "      <td>0.458222</td>\n",
       "      <td>0.855101</td>\n",
       "      <td>0.009103</td>\n",
       "      <td>0.587418</td>\n",
       "      <td>0.051060</td>\n",
       "      <td>0.972188</td>\n",
       "    </tr>\n",
       "    <tr>\n",
       "      <th>4</th>\n",
       "      <td>DAVANAGERE</td>\n",
       "      <td>99644.0</td>\n",
       "      <td>489505.0</td>\n",
       "      <td>23072</td>\n",
       "      <td>593544</td>\n",
       "      <td>2167.0</td>\n",
       "      <td>1.000000</td>\n",
       "      <td>0.331747</td>\n",
       "      <td>0.994237</td>\n",
       "      <td>0.356941</td>\n",
       "      <td>0.088568</td>\n",
       "      <td>0.993075</td>\n",
       "    </tr>\n",
       "    <tr>\n",
       "      <th>5</th>\n",
       "      <td>KOLAR</td>\n",
       "      <td>22190.0</td>\n",
       "      <td>864.0</td>\n",
       "      <td>0</td>\n",
       "      <td>1759</td>\n",
       "      <td>0.0</td>\n",
       "      <td>0.002964</td>\n",
       "      <td>0.878226</td>\n",
       "      <td>0.001583</td>\n",
       "      <td>0.996624</td>\n",
       "      <td>0.000000</td>\n",
       "      <td>1.000000</td>\n",
       "    </tr>\n",
       "    <tr>\n",
       "      <th>6</th>\n",
       "      <td>CHIKKABALLAPURA</td>\n",
       "      <td>28357.0</td>\n",
       "      <td>2698.0</td>\n",
       "      <td>0</td>\n",
       "      <td>105491</td>\n",
       "      <td>0.0</td>\n",
       "      <td>0.177731</td>\n",
       "      <td>0.884725</td>\n",
       "      <td>0.005308</td>\n",
       "      <td>0.985667</td>\n",
       "      <td>0.000000</td>\n",
       "      <td>0.996607</td>\n",
       "    </tr>\n",
       "    <tr>\n",
       "      <th>7</th>\n",
       "      <td>SHIVAMOGGA</td>\n",
       "      <td>56609.0</td>\n",
       "      <td>384974.0</td>\n",
       "      <td>756</td>\n",
       "      <td>226532</td>\n",
       "      <td>2242.0</td>\n",
       "      <td>0.381660</td>\n",
       "      <td>0.986495</td>\n",
       "      <td>0.781886</td>\n",
       "      <td>0.630976</td>\n",
       "      <td>0.002902</td>\n",
       "      <td>0.950160</td>\n",
       "    </tr>\n",
       "    <tr>\n",
       "      <th>8</th>\n",
       "      <td>TUMAKURU</td>\n",
       "      <td>38148.0</td>\n",
       "      <td>26042.0</td>\n",
       "      <td>2652</td>\n",
       "      <td>66868</td>\n",
       "      <td>1346.0</td>\n",
       "      <td>0.112659</td>\n",
       "      <td>0.909238</td>\n",
       "      <td>0.052731</td>\n",
       "      <td>0.901262</td>\n",
       "      <td>0.010180</td>\n",
       "      <td>0.996715</td>\n",
       "    </tr>\n",
       "    <tr>\n",
       "      <th>9</th>\n",
       "      <td>CHIKKAMAGALURU</td>\n",
       "      <td>67863.0</td>\n",
       "      <td>110533.0</td>\n",
       "      <td>9080</td>\n",
       "      <td>61353</td>\n",
       "      <td>897.0</td>\n",
       "      <td>0.103367</td>\n",
       "      <td>0.744033</td>\n",
       "      <td>0.224371</td>\n",
       "      <td>0.841603</td>\n",
       "      <td>0.034856</td>\n",
       "      <td>0.987498</td>\n",
       "    </tr>\n",
       "    <tr>\n",
       "      <th>10</th>\n",
       "      <td>DAKSHINA KANNADA</td>\n",
       "      <td>18588.0</td>\n",
       "      <td>132588.0</td>\n",
       "      <td>0</td>\n",
       "      <td>0</td>\n",
       "      <td>0.0</td>\n",
       "      <td>0.000000</td>\n",
       "      <td>0.825910</td>\n",
       "      <td>0.269174</td>\n",
       "      <td>0.973766</td>\n",
       "      <td>0.000000</td>\n",
       "      <td>0.990344</td>\n",
       "    </tr>\n",
       "    <tr>\n",
       "      <th>11</th>\n",
       "      <td>UDUPI</td>\n",
       "      <td>6148.0</td>\n",
       "      <td>138156.0</td>\n",
       "      <td>0</td>\n",
       "      <td>109</td>\n",
       "      <td>0.0</td>\n",
       "      <td>0.000184</td>\n",
       "      <td>0.868781</td>\n",
       "      <td>0.280486</td>\n",
       "      <td>0.883977</td>\n",
       "      <td>0.000000</td>\n",
       "      <td>0.990560</td>\n",
       "    </tr>\n",
       "    <tr>\n",
       "      <th>12</th>\n",
       "      <td>HASSAN</td>\n",
       "      <td>68431.0</td>\n",
       "      <td>143705.0</td>\n",
       "      <td>981</td>\n",
       "      <td>333937</td>\n",
       "      <td>917.0</td>\n",
       "      <td>0.562615</td>\n",
       "      <td>0.522378</td>\n",
       "      <td>0.291758</td>\n",
       "      <td>0.968172</td>\n",
       "      <td>0.003766</td>\n",
       "      <td>0.991628</td>\n",
       "    </tr>\n",
       "    <tr>\n",
       "      <th>13</th>\n",
       "      <td>KODAGU</td>\n",
       "      <td>40947.0</td>\n",
       "      <td>86303.0</td>\n",
       "      <td>0</td>\n",
       "      <td>17921</td>\n",
       "      <td>0.0</td>\n",
       "      <td>0.030193</td>\n",
       "      <td>0.765629</td>\n",
       "      <td>0.175148</td>\n",
       "      <td>0.748362</td>\n",
       "      <td>0.000000</td>\n",
       "      <td>0.991007</td>\n",
       "    </tr>\n",
       "    <tr>\n",
       "      <th>14</th>\n",
       "      <td>MANDYA</td>\n",
       "      <td>60558.0</td>\n",
       "      <td>246543.0</td>\n",
       "      <td>1192</td>\n",
       "      <td>19387</td>\n",
       "      <td>970.0</td>\n",
       "      <td>0.032663</td>\n",
       "      <td>0.798040</td>\n",
       "      <td>0.500669</td>\n",
       "      <td>0.735603</td>\n",
       "      <td>0.004576</td>\n",
       "      <td>0.993346</td>\n",
       "    </tr>\n",
       "    <tr>\n",
       "      <th>15</th>\n",
       "      <td>MYSURU</td>\n",
       "      <td>62014.0</td>\n",
       "      <td>354227.0</td>\n",
       "      <td>6047</td>\n",
       "      <td>137154</td>\n",
       "      <td>1104.0</td>\n",
       "      <td>0.231076</td>\n",
       "      <td>0.987581</td>\n",
       "      <td>0.719425</td>\n",
       "      <td>0.545714</td>\n",
       "      <td>0.023213</td>\n",
       "      <td>0.983620</td>\n",
       "    </tr>\n",
       "    <tr>\n",
       "      <th>16</th>\n",
       "      <td>CHAMARAJANAGAR</td>\n",
       "      <td>23803.0</td>\n",
       "      <td>45856.0</td>\n",
       "      <td>4947</td>\n",
       "      <td>147886</td>\n",
       "      <td>371.0</td>\n",
       "      <td>0.249158</td>\n",
       "      <td>0.844624</td>\n",
       "      <td>0.092982</td>\n",
       "      <td>0.678129</td>\n",
       "      <td>0.018990</td>\n",
       "      <td>0.990273</td>\n",
       "    </tr>\n",
       "    <tr>\n",
       "      <th>17</th>\n",
       "      <td>BELAGAVI</td>\n",
       "      <td>179992.0</td>\n",
       "      <td>177552.0</td>\n",
       "      <td>141459</td>\n",
       "      <td>576758</td>\n",
       "      <td>1200.0</td>\n",
       "      <td>0.971719</td>\n",
       "      <td>0.274673</td>\n",
       "      <td>0.360517</td>\n",
       "      <td>0.718327</td>\n",
       "      <td>0.543031</td>\n",
       "      <td>0.713852</td>\n",
       "    </tr>\n",
       "    <tr>\n",
       "      <th>18</th>\n",
       "      <td>VIJAYAPURA</td>\n",
       "      <td>54228.0</td>\n",
       "      <td>170.0</td>\n",
       "      <td>134027</td>\n",
       "      <td>226327</td>\n",
       "      <td>974.0</td>\n",
       "      <td>0.381315</td>\n",
       "      <td>0.903912</td>\n",
       "      <td>0.000173</td>\n",
       "      <td>0.633656</td>\n",
       "      <td>0.514501</td>\n",
       "      <td>0.981014</td>\n",
       "    </tr>\n",
       "    <tr>\n",
       "      <th>19</th>\n",
       "      <td>BAGALKOT</td>\n",
       "      <td>84812.0</td>\n",
       "      <td>85.0</td>\n",
       "      <td>97067</td>\n",
       "      <td>251699</td>\n",
       "      <td>966.0</td>\n",
       "      <td>0.424061</td>\n",
       "      <td>0.957557</td>\n",
       "      <td>0.000000</td>\n",
       "      <td>0.626048</td>\n",
       "      <td>0.372619</td>\n",
       "      <td>0.996868</td>\n",
       "    </tr>\n",
       "    <tr>\n",
       "      <th>20</th>\n",
       "      <td>DHARAWAD</td>\n",
       "      <td>37381.0</td>\n",
       "      <td>33989.0</td>\n",
       "      <td>42214</td>\n",
       "      <td>90634</td>\n",
       "      <td>1080.0</td>\n",
       "      <td>0.152700</td>\n",
       "      <td>0.667138</td>\n",
       "      <td>0.068875</td>\n",
       "      <td>0.833798</td>\n",
       "      <td>0.162051</td>\n",
       "      <td>0.932410</td>\n",
       "    </tr>\n",
       "    <tr>\n",
       "      <th>21</th>\n",
       "      <td>GADAG</td>\n",
       "      <td>23280.0</td>\n",
       "      <td>7258.0</td>\n",
       "      <td>61281</td>\n",
       "      <td>138476</td>\n",
       "      <td>1025.0</td>\n",
       "      <td>0.233304</td>\n",
       "      <td>0.816697</td>\n",
       "      <td>0.014572</td>\n",
       "      <td>0.726630</td>\n",
       "      <td>0.235245</td>\n",
       "      <td>0.999097</td>\n",
       "    </tr>\n",
       "    <tr>\n",
       "      <th>22</th>\n",
       "      <td>HAVERI</td>\n",
       "      <td>65001.0</td>\n",
       "      <td>125422.0</td>\n",
       "      <td>36545</td>\n",
       "      <td>413487</td>\n",
       "      <td>1207.0</td>\n",
       "      <td>0.696641</td>\n",
       "      <td>0.611764</td>\n",
       "      <td>0.254617</td>\n",
       "      <td>0.825009</td>\n",
       "      <td>0.140288</td>\n",
       "      <td>0.966786</td>\n",
       "    </tr>\n",
       "    <tr>\n",
       "      <th>23</th>\n",
       "      <td>UTTARA KANNADA</td>\n",
       "      <td>15316.0</td>\n",
       "      <td>152981.0</td>\n",
       "      <td>0</td>\n",
       "      <td>24088</td>\n",
       "      <td>0.0</td>\n",
       "      <td>0.040583</td>\n",
       "      <td>0.600003</td>\n",
       "      <td>0.310602</td>\n",
       "      <td>0.961326</td>\n",
       "      <td>0.000000</td>\n",
       "      <td>0.830346</td>\n",
       "    </tr>\n",
       "    <tr>\n",
       "      <th>24</th>\n",
       "      <td>BALLARI</td>\n",
       "      <td>61665.0</td>\n",
       "      <td>206116.0</td>\n",
       "      <td>33963</td>\n",
       "      <td>104045</td>\n",
       "      <td>904.0</td>\n",
       "      <td>0.175295</td>\n",
       "      <td>0.763121</td>\n",
       "      <td>0.418544</td>\n",
       "      <td>0.963462</td>\n",
       "      <td>0.130377</td>\n",
       "      <td>0.958920</td>\n",
       "    </tr>\n",
       "    <tr>\n",
       "      <th>25</th>\n",
       "      <td>BIDAR</td>\n",
       "      <td>24658.0</td>\n",
       "      <td>2036.0</td>\n",
       "      <td>39965</td>\n",
       "      <td>2791</td>\n",
       "      <td>1058.0</td>\n",
       "      <td>0.004702</td>\n",
       "      <td>0.980069</td>\n",
       "      <td>0.003963</td>\n",
       "      <td>0.988112</td>\n",
       "      <td>0.153417</td>\n",
       "      <td>0.153417</td>\n",
       "    </tr>\n",
       "    <tr>\n",
       "      <th>26</th>\n",
       "      <td>KALABURAGI</td>\n",
       "      <td>53999.0</td>\n",
       "      <td>7888.0</td>\n",
       "      <td>260499</td>\n",
       "      <td>14621</td>\n",
       "      <td>1146.0</td>\n",
       "      <td>0.024633</td>\n",
       "      <td>0.894460</td>\n",
       "      <td>0.015851</td>\n",
       "      <td>0.862402</td>\n",
       "      <td>1.000000</td>\n",
       "      <td>0.283157</td>\n",
       "    </tr>\n",
       "    <tr>\n",
       "      <th>27</th>\n",
       "      <td>YADGIRI</td>\n",
       "      <td>91389.0</td>\n",
       "      <td>224659.0</td>\n",
       "      <td>47294</td>\n",
       "      <td>2673</td>\n",
       "      <td>1197.0</td>\n",
       "      <td>0.004503</td>\n",
       "      <td>0.868781</td>\n",
       "      <td>0.456213</td>\n",
       "      <td>0.882462</td>\n",
       "      <td>0.181552</td>\n",
       "      <td>0.549927</td>\n",
       "    </tr>\n",
       "    <tr>\n",
       "      <th>28</th>\n",
       "      <td>RAICHUR</td>\n",
       "      <td>117235.0</td>\n",
       "      <td>492342.0</td>\n",
       "      <td>99087</td>\n",
       "      <td>723</td>\n",
       "      <td>1359.0</td>\n",
       "      <td>0.001218</td>\n",
       "      <td>0.740076</td>\n",
       "      <td>1.000000</td>\n",
       "      <td>0.273885</td>\n",
       "      <td>0.380374</td>\n",
       "      <td>0.894294</td>\n",
       "    </tr>\n",
       "    <tr>\n",
       "      <th>29</th>\n",
       "      <td>KOPPAL</td>\n",
       "      <td>73552.0</td>\n",
       "      <td>243505.0</td>\n",
       "      <td>45402</td>\n",
       "      <td>190252</td>\n",
       "      <td>1312.0</td>\n",
       "      <td>0.320536</td>\n",
       "      <td>0.881299</td>\n",
       "      <td>0.494498</td>\n",
       "      <td>0.875834</td>\n",
       "      <td>0.174289</td>\n",
       "      <td>0.924490</td>\n",
       "    </tr>\n",
       "    <tr>\n",
       "      <th>30</th>\n",
       "      <td>Vijayanagara</td>\n",
       "      <td>61664.0</td>\n",
       "      <td>206116.0</td>\n",
       "      <td>33963</td>\n",
       "      <td>104045</td>\n",
       "      <td>904.0</td>\n",
       "      <td>0.175295</td>\n",
       "      <td>0.694628</td>\n",
       "      <td>0.418544</td>\n",
       "      <td>0.945718</td>\n",
       "      <td>0.130377</td>\n",
       "      <td>0.993739</td>\n",
       "    </tr>\n",
       "  </tbody>\n",
       "</table>\n",
       "</div>"
      ],
      "text/plain": [
       "            District  TotalNPK  Rice_Production  Jowar_Production  \\\n",
       "0          BENGALURU   23310.0           3376.0               851   \n",
       "1       BENGALURU(R)   19259.0           2354.0                 0   \n",
       "2         RAMANAGARA    7472.0          12128.0                 0   \n",
       "3        CHITRADURGA   35884.0           4566.0             13301   \n",
       "4         DAVANAGERE   99644.0         489505.0             23072   \n",
       "5              KOLAR   22190.0            864.0                 0   \n",
       "6    CHIKKABALLAPURA   28357.0           2698.0                 0   \n",
       "7         SHIVAMOGGA   56609.0         384974.0               756   \n",
       "8           TUMAKURU   38148.0          26042.0              2652   \n",
       "9     CHIKKAMAGALURU   67863.0         110533.0              9080   \n",
       "10  DAKSHINA KANNADA   18588.0         132588.0                 0   \n",
       "11             UDUPI    6148.0         138156.0                 0   \n",
       "12            HASSAN   68431.0         143705.0               981   \n",
       "13            KODAGU   40947.0          86303.0                 0   \n",
       "14            MANDYA   60558.0         246543.0              1192   \n",
       "15            MYSURU   62014.0         354227.0              6047   \n",
       "16    CHAMARAJANAGAR   23803.0          45856.0              4947   \n",
       "17          BELAGAVI  179992.0         177552.0            141459   \n",
       "18        VIJAYAPURA   54228.0            170.0            134027   \n",
       "19          BAGALKOT   84812.0             85.0             97067   \n",
       "20          DHARAWAD   37381.0          33989.0             42214   \n",
       "21             GADAG   23280.0           7258.0             61281   \n",
       "22            HAVERI   65001.0         125422.0             36545   \n",
       "23    UTTARA KANNADA   15316.0         152981.0                 0   \n",
       "24           BALLARI   61665.0         206116.0             33963   \n",
       "25             BIDAR   24658.0           2036.0             39965   \n",
       "26        KALABURAGI   53999.0           7888.0            260499   \n",
       "27           YADGIRI   91389.0         224659.0             47294   \n",
       "28           RAICHUR  117235.0         492342.0             99087   \n",
       "29            KOPPAL   73552.0         243505.0             45402   \n",
       "30      Vijayanagara   61664.0         206116.0             33963   \n",
       "\n",
       "    Maize_Production  Jowar_Yield  Normalized_Maize_Production  \\\n",
       "0               2879       1539.0                     0.004851   \n",
       "1              42583          0.0                     0.071744   \n",
       "2              10450          0.0                     0.017606   \n",
       "3             271975        984.0                     0.458222   \n",
       "4             593544       2167.0                     1.000000   \n",
       "5               1759          0.0                     0.002964   \n",
       "6             105491          0.0                     0.177731   \n",
       "7             226532       2242.0                     0.381660   \n",
       "8              66868       1346.0                     0.112659   \n",
       "9              61353        897.0                     0.103367   \n",
       "10                 0          0.0                     0.000000   \n",
       "11               109          0.0                     0.000184   \n",
       "12            333937        917.0                     0.562615   \n",
       "13             17921          0.0                     0.030193   \n",
       "14             19387        970.0                     0.032663   \n",
       "15            137154       1104.0                     0.231076   \n",
       "16            147886        371.0                     0.249158   \n",
       "17            576758       1200.0                     0.971719   \n",
       "18            226327        974.0                     0.381315   \n",
       "19            251699        966.0                     0.424061   \n",
       "20             90634       1080.0                     0.152700   \n",
       "21            138476       1025.0                     0.233304   \n",
       "22            413487       1207.0                     0.696641   \n",
       "23             24088          0.0                     0.040583   \n",
       "24            104045        904.0                     0.175295   \n",
       "25              2791       1058.0                     0.004702   \n",
       "26             14621       1146.0                     0.024633   \n",
       "27              2673       1197.0                     0.004503   \n",
       "28               723       1359.0                     0.001218   \n",
       "29            190252       1312.0                     0.320536   \n",
       "30            104045        904.0                     0.175295   \n",
       "\n",
       "    Initial Stability_Maize_Production  Normalized_Rice_Production  \\\n",
       "0                             0.960176                    0.006686   \n",
       "1                             0.991418                    0.004609   \n",
       "2                             0.923391                    0.024465   \n",
       "3                             0.855101                    0.009103   \n",
       "4                             0.331747                    0.994237   \n",
       "5                             0.878226                    0.001583   \n",
       "6                             0.884725                    0.005308   \n",
       "7                             0.986495                    0.781886   \n",
       "8                             0.909238                    0.052731   \n",
       "9                             0.744033                    0.224371   \n",
       "10                            0.825910                    0.269174   \n",
       "11                            0.868781                    0.280486   \n",
       "12                            0.522378                    0.291758   \n",
       "13                            0.765629                    0.175148   \n",
       "14                            0.798040                    0.500669   \n",
       "15                            0.987581                    0.719425   \n",
       "16                            0.844624                    0.092982   \n",
       "17                            0.274673                    0.360517   \n",
       "18                            0.903912                    0.000173   \n",
       "19                            0.957557                    0.000000   \n",
       "20                            0.667138                    0.068875   \n",
       "21                            0.816697                    0.014572   \n",
       "22                            0.611764                    0.254617   \n",
       "23                            0.600003                    0.310602   \n",
       "24                            0.763121                    0.418544   \n",
       "25                            0.980069                    0.003963   \n",
       "26                            0.894460                    0.015851   \n",
       "27                            0.868781                    0.456213   \n",
       "28                            0.740076                    1.000000   \n",
       "29                            0.881299                    0.494498   \n",
       "30                            0.694628                    0.418544   \n",
       "\n",
       "    Initial Stability_Rice_Production  Normalized_Jowar_Production  \\\n",
       "0                            0.992148                     0.003267   \n",
       "1                            0.986455                     0.000000   \n",
       "2                            0.892930                     0.000000   \n",
       "3                            0.587418                     0.051060   \n",
       "4                            0.356941                     0.088568   \n",
       "5                            0.996624                     0.000000   \n",
       "6                            0.985667                     0.000000   \n",
       "7                            0.630976                     0.002902   \n",
       "8                            0.901262                     0.010180   \n",
       "9                            0.841603                     0.034856   \n",
       "10                           0.973766                     0.000000   \n",
       "11                           0.883977                     0.000000   \n",
       "12                           0.968172                     0.003766   \n",
       "13                           0.748362                     0.000000   \n",
       "14                           0.735603                     0.004576   \n",
       "15                           0.545714                     0.023213   \n",
       "16                           0.678129                     0.018990   \n",
       "17                           0.718327                     0.543031   \n",
       "18                           0.633656                     0.514501   \n",
       "19                           0.626048                     0.372619   \n",
       "20                           0.833798                     0.162051   \n",
       "21                           0.726630                     0.235245   \n",
       "22                           0.825009                     0.140288   \n",
       "23                           0.961326                     0.000000   \n",
       "24                           0.963462                     0.130377   \n",
       "25                           0.988112                     0.153417   \n",
       "26                           0.862402                     1.000000   \n",
       "27                           0.882462                     0.181552   \n",
       "28                           0.273885                     0.380374   \n",
       "29                           0.875834                     0.174289   \n",
       "30                           0.945718                     0.130377   \n",
       "\n",
       "    Initial Stability_Jowar_Production  \n",
       "0                             0.996733  \n",
       "1                             0.997311  \n",
       "2                             0.992597  \n",
       "3                             0.972188  \n",
       "4                             0.993075  \n",
       "5                             1.000000  \n",
       "6                             0.996607  \n",
       "7                             0.950160  \n",
       "8                             0.996715  \n",
       "9                             0.987498  \n",
       "10                            0.990344  \n",
       "11                            0.990560  \n",
       "12                            0.991628  \n",
       "13                            0.991007  \n",
       "14                            0.993346  \n",
       "15                            0.983620  \n",
       "16                            0.990273  \n",
       "17                            0.713852  \n",
       "18                            0.981014  \n",
       "19                            0.996868  \n",
       "20                            0.932410  \n",
       "21                            0.999097  \n",
       "22                            0.966786  \n",
       "23                            0.830346  \n",
       "24                            0.958920  \n",
       "25                            0.153417  \n",
       "26                            0.283157  \n",
       "27                            0.549927  \n",
       "28                            0.894294  \n",
       "29                            0.924490  \n",
       "30                            0.993739  "
      ]
     },
     "execution_count": 89,
     "metadata": {},
     "output_type": "execute_result"
    }
   ],
   "source": [
    "df"
   ]
  },
  {
   "cell_type": "code",
   "execution_count": 90,
   "metadata": {},
   "outputs": [],
   "source": [
    "existing_data = pd.DataFrame(df['District'])"
   ]
  },
  {
   "cell_type": "code",
   "execution_count": 91,
   "metadata": {},
   "outputs": [],
   "source": [
    "dim = 1"
   ]
  },
  {
   "cell_type": "code",
   "execution_count": 92,
   "metadata": {},
   "outputs": [],
   "source": [
    "def calculate_and_map_stability(G, existing_data, adjacency_file, columns_to_pass, inter, dim):\n",
    "    # Initialize the graph attributes\n",
    "    init_graph_attr(G, adjacency_file, existing_data, columns_to_pass)\n",
    "\n",
    "    # Calculate node stress for the given change percentage\n",
    "    NPK_stability = get_node_stability(G, dim)\n",
    "\n",
    "    # Create a new column in the result DataFrame\n",
    "    stability_column_name = f\"New Stability(NPK {'+' if inter >= 0 else '-'} {abs(inter)}%)\"\n",
    "    stability_column = existing_data[\"District\"].map(NPK_stability)\n",
    "\n",
    "    return stability_column, stability_column_name"
   ]
  },
  {
   "cell_type": "code",
   "execution_count": 93,
   "metadata": {},
   "outputs": [],
   "source": [
    "def calculate_and_map_stress(G, existing_data, adjacency_file, columns_to_pass, inter, dim):\n",
    "    # Initialize the graph attributes\n",
    "    init_graph_attr(G, adjacency_file, existing_data, columns_to_pass)\n",
    "\n",
    "    # Calculate node stress for the given change percentage\n",
    "    NPK_stress = get_node_stress(G, dim)\n",
    "\n",
    "    # Create a new column in the result DataFrame\n",
    "    stability_column_name = f\"New Stability(NPK {'+' if inter >= 0 else '-'} {abs(inter)}%)\"\n",
    "    stability_column = existing_data[\"District\"].map(NPK_stress)\n",
    "\n",
    "    return stability_column, stability_column_name"
   ]
  },
  {
   "cell_type": "markdown",
   "metadata": {},
   "source": [
    "## 1D Capability Vector"
   ]
  },
  {
   "cell_type": "code",
   "execution_count": 127,
   "metadata": {},
   "outputs": [],
   "source": [
    "df\n",
    "Sparsh = pd.DataFrame()\n",
    "Sparsh['District'] = df['District']\n",
    "Sparsh['Normalized_Rice_Production'] = df['Normalized_Rice_Production']\n",
    "Sparsh.to_csv('Normal_Rice.csv')"
   ]
  },
  {
   "cell_type": "code",
   "execution_count": 95,
   "metadata": {},
   "outputs": [
    {
     "name": "stdout",
     "output_type": "stream",
     "text": [
      "2.1764894064966205 17136.471837471167\n"
     ]
    },
    {
     "data": {
      "application/vnd.plotly.v1+json": {
       "config": {
        "plotlyServerURL": "https://plot.ly"
       },
       "data": [
        {
         "hoverinfo": "text+name",
         "hoverlabel": {
          "bgcolor": "grey",
          "font": {
           "color": "white"
          }
         },
         "hovertemplate": "New Stability(NPK + 20%)=%{x}<br>Impact Score Rice_Production (TotalNPK +20%)=%{y}<extra></extra>",
         "hovertext": [
          "District: BENGALURU<br>Impact (Rice_Production): 0.09872069211476962 <br>Stability (TotalNPK +20%): 0.9427964151768252",
          "District: BENGALURU(R)<br>Impact (Rice_Production): 0.07541819102183565 <br>Stability (TotalNPK +20%): 0.9733301120544856",
          "District: RAMANAGARA<br>Impact (Rice_Production): 0.007616023561353907 <br>Stability (TotalNPK +20%): 0.853065967188974",
          "District: CHITRADURGA<br>Impact (Rice_Production): 0.17104990681300458 <br>Stability (TotalNPK +20%): 0.8279330894365062",
          "District: DAVANAGERE<br>Impact (Rice_Production): 0.5378155127585643 <br>Stability (TotalNPK +20%): 0.7611095771688028",
          "District: KOLAR<br>Impact (Rice_Production): 0.09227813441936454 <br>Stability (TotalNPK +20%): 0.9906928050436024",
          "District: CHIKKABALLAPURA<br>Impact (Rice_Production): 0.12775246772968868 <br>Stability (TotalNPK +20%): 0.9895039997545693",
          "District: SHIVAMOGGA<br>Impact (Rice_Production): 0.2902659855962816 <br>Stability (TotalNPK +20%): 0.9665527714502657",
          "District: TUMAKURU<br>Impact (Rice_Production): 0.18407307701157355 <br>Stability (TotalNPK +20%): 0.9829173610494796",
          "District: CHIKKAMAGALURU<br>Impact (Rice_Production): 0.3550021858677889 <br>Stability (TotalNPK +20%): 0.8754310103968419",
          "District: DAKSHINA KANNADA<br>Impact (Rice_Production): 0.07155840868824934 <br>Stability (TotalNPK +20%): 0.8431970617335083",
          "District: UDUPI<br>Impact (Rice_Production): 0.0 <br>Stability (TotalNPK +20%): 0.8076091208209659",
          "District: HASSAN<br>Impact (Rice_Production): 0.3582694829847448 <br>Stability (TotalNPK +20%): 0.8825882208570136",
          "District: KODAGU<br>Impact (Rice_Production): 0.20017371896642966 <br>Stability (TotalNPK +20%): 0.949778728822009",
          "District: MANDYA<br>Impact (Rice_Production): 0.31298175375624077 <br>Stability (TotalNPK +20%): 0.8815926922988427",
          "District: MYSURU<br>Impact (Rice_Production): 0.321357078760268 <br>Stability (TotalNPK +20%): 0.9218883021559559",
          "District: CHAMARAJANAGAR<br>Impact (Rice_Production): 0.10155656795747912 <br>Stability (TotalNPK +20%): 0.8875716159315248",
          "District: BELAGAVI<br>Impact (Rice_Production): 1.0 <br>Stability (TotalNPK +20%): 0.21200271507788593",
          "District: VIJAYAPURA<br>Impact (Rice_Production): 0.27656979820988903 <br>Stability (TotalNPK +20%): 0.7051528956995927",
          "District: BAGALKOT<br>Impact (Rice_Production): 0.45249764156370004 <br>Stability (TotalNPK +20%): 0.9721278847702537",
          "District: DHARAWAD<br>Impact (Rice_Production): 0.17966107544695248 <br>Stability (TotalNPK +20%): 0.8072050228940889",
          "District: GADAG<br>Impact (Rice_Production): 0.09854812360507116 <br>Stability (TotalNPK +20%): 0.6703883941924944",
          "District: HAVERI<br>Impact (Rice_Production): 0.33853915004256674 <br>Stability (TotalNPK +20%): 0.918278127845326",
          "District: UTTARA KANNADA<br>Impact (Rice_Production): 0.05273693656381588 <br>Stability (TotalNPK +20%): 0.6910436943466556",
          "District: BALLARI<br>Impact (Rice_Production): 0.3193495317641108 <br>Stability (TotalNPK +20%): 0.9633456267852624",
          "District: BIDAR<br>Impact (Rice_Production): 0.106474770483882 <br>Stability (TotalNPK +20%): 0.8312222452313569",
          "District: KALABURAGI<br>Impact (Rice_Production): 0.27525252525252497 <br>Stability (TotalNPK +20%): 0.9841275319635229",
          "District: YADGIRI<br>Impact (Rice_Production): 0.4903304111732358 <br>Stability (TotalNPK +20%): 0.9066116748349096",
          "District: RAICHUR<br>Impact (Rice_Production): 0.6390039345620215 <br>Stability (TotalNPK +20%): 0.7462909274982166",
          "District: KOPPAL<br>Impact (Rice_Production): 0.3877269275902529 <br>Stability (TotalNPK +20%): 0.9780216746048181",
          "District: Vijayanagara<br>Impact (Rice_Production): 0.31934377948045406 <br>Stability (TotalNPK +20%): 0.9894944126151415"
         ],
         "legendgroup": "",
         "marker": {
          "color": "#636efa",
          "symbol": "circle"
         },
         "mode": "markers",
         "name": "",
         "orientation": "v",
         "showlegend": false,
         "type": "scatter",
         "x": [
          0.9427964151768252,
          0.9733301120544856,
          0.853065967188974,
          0.8279330894365062,
          0.7611095771688028,
          0.9906928050436024,
          0.9895039997545693,
          0.9665527714502657,
          0.9829173610494796,
          0.8754310103968419,
          0.8431970617335083,
          0.8076091208209659,
          0.8825882208570136,
          0.949778728822009,
          0.8815926922988427,
          0.9218883021559559,
          0.8875716159315248,
          0.21200271507788593,
          0.7051528956995927,
          0.9721278847702537,
          0.8072050228940889,
          0.6703883941924944,
          0.918278127845326,
          0.6910436943466556,
          0.9633456267852624,
          0.8312222452313569,
          0.9841275319635229,
          0.9066116748349096,
          0.7462909274982166,
          0.9780216746048181,
          0.9894944126151415
         ],
         "xaxis": "x",
         "y": [
          0.09872069211476962,
          0.07541819102183565,
          0.007616023561353907,
          0.17104990681300458,
          0.5378155127585643,
          0.09227813441936454,
          0.12775246772968868,
          0.2902659855962816,
          0.18407307701157355,
          0.3550021858677889,
          0.07155840868824934,
          0,
          0.3582694829847448,
          0.20017371896642966,
          0.31298175375624077,
          0.321357078760268,
          0.10155656795747912,
          1,
          0.27656979820988903,
          0.45249764156370004,
          0.17966107544695248,
          0.09854812360507116,
          0.33853915004256674,
          0.05273693656381588,
          0.3193495317641108,
          0.106474770483882,
          0.27525252525252497,
          0.4903304111732358,
          0.6390039345620215,
          0.3877269275902529,
          0.31934377948045406
         ],
         "yaxis": "y"
        }
       ],
       "layout": {
        "annotations": [
         {
          "arrowcolor": "red",
          "arrowhead": 4,
          "ax": 0,
          "ay": -40,
          "font": {
           "color": "red"
          },
          "showarrow": true,
          "text": "Avg New Stability(NPK + 20%)",
          "x": 0.8617055380548287,
          "y": 1
         },
         {
          "arrowcolor": "blue",
          "arrowhead": 4,
          "ax": -40,
          "ay": 0,
          "font": {
           "color": "blue"
          },
          "showarrow": true,
          "text": "Avg Normalized Rice_Production",
          "x": 0.9906928050436024,
          "y": 0.2658685094756812
         }
        ],
        "height": 500,
        "legend": {
         "tracegroupgap": 0
        },
        "shapes": [
         {
          "line": {
           "color": "red",
           "width": 2
          },
          "type": "line",
          "x0": 0.8617055380548287,
          "x1": 0.8617055380548287,
          "y0": 0,
          "y1": 1
         },
         {
          "line": {
           "color": "blue",
           "width": 2
          },
          "type": "line",
          "x0": 0.21200271507788593,
          "x1": 0.9906928050436024,
          "y0": 0.2658685094756812,
          "y1": 0.2658685094756812
         }
        ],
        "template": {
         "data": {
          "bar": [
           {
            "error_x": {
             "color": "#2a3f5f"
            },
            "error_y": {
             "color": "#2a3f5f"
            },
            "marker": {
             "line": {
              "color": "#E5ECF6",
              "width": 0.5
             },
             "pattern": {
              "fillmode": "overlay",
              "size": 10,
              "solidity": 0.2
             }
            },
            "type": "bar"
           }
          ],
          "barpolar": [
           {
            "marker": {
             "line": {
              "color": "#E5ECF6",
              "width": 0.5
             },
             "pattern": {
              "fillmode": "overlay",
              "size": 10,
              "solidity": 0.2
             }
            },
            "type": "barpolar"
           }
          ],
          "carpet": [
           {
            "aaxis": {
             "endlinecolor": "#2a3f5f",
             "gridcolor": "white",
             "linecolor": "white",
             "minorgridcolor": "white",
             "startlinecolor": "#2a3f5f"
            },
            "baxis": {
             "endlinecolor": "#2a3f5f",
             "gridcolor": "white",
             "linecolor": "white",
             "minorgridcolor": "white",
             "startlinecolor": "#2a3f5f"
            },
            "type": "carpet"
           }
          ],
          "choropleth": [
           {
            "colorbar": {
             "outlinewidth": 0,
             "ticks": ""
            },
            "type": "choropleth"
           }
          ],
          "contour": [
           {
            "colorbar": {
             "outlinewidth": 0,
             "ticks": ""
            },
            "colorscale": [
             [
              0,
              "#0d0887"
             ],
             [
              0.1111111111111111,
              "#46039f"
             ],
             [
              0.2222222222222222,
              "#7201a8"
             ],
             [
              0.3333333333333333,
              "#9c179e"
             ],
             [
              0.4444444444444444,
              "#bd3786"
             ],
             [
              0.5555555555555556,
              "#d8576b"
             ],
             [
              0.6666666666666666,
              "#ed7953"
             ],
             [
              0.7777777777777778,
              "#fb9f3a"
             ],
             [
              0.8888888888888888,
              "#fdca26"
             ],
             [
              1,
              "#f0f921"
             ]
            ],
            "type": "contour"
           }
          ],
          "contourcarpet": [
           {
            "colorbar": {
             "outlinewidth": 0,
             "ticks": ""
            },
            "type": "contourcarpet"
           }
          ],
          "heatmap": [
           {
            "colorbar": {
             "outlinewidth": 0,
             "ticks": ""
            },
            "colorscale": [
             [
              0,
              "#0d0887"
             ],
             [
              0.1111111111111111,
              "#46039f"
             ],
             [
              0.2222222222222222,
              "#7201a8"
             ],
             [
              0.3333333333333333,
              "#9c179e"
             ],
             [
              0.4444444444444444,
              "#bd3786"
             ],
             [
              0.5555555555555556,
              "#d8576b"
             ],
             [
              0.6666666666666666,
              "#ed7953"
             ],
             [
              0.7777777777777778,
              "#fb9f3a"
             ],
             [
              0.8888888888888888,
              "#fdca26"
             ],
             [
              1,
              "#f0f921"
             ]
            ],
            "type": "heatmap"
           }
          ],
          "heatmapgl": [
           {
            "colorbar": {
             "outlinewidth": 0,
             "ticks": ""
            },
            "colorscale": [
             [
              0,
              "#0d0887"
             ],
             [
              0.1111111111111111,
              "#46039f"
             ],
             [
              0.2222222222222222,
              "#7201a8"
             ],
             [
              0.3333333333333333,
              "#9c179e"
             ],
             [
              0.4444444444444444,
              "#bd3786"
             ],
             [
              0.5555555555555556,
              "#d8576b"
             ],
             [
              0.6666666666666666,
              "#ed7953"
             ],
             [
              0.7777777777777778,
              "#fb9f3a"
             ],
             [
              0.8888888888888888,
              "#fdca26"
             ],
             [
              1,
              "#f0f921"
             ]
            ],
            "type": "heatmapgl"
           }
          ],
          "histogram": [
           {
            "marker": {
             "pattern": {
              "fillmode": "overlay",
              "size": 10,
              "solidity": 0.2
             }
            },
            "type": "histogram"
           }
          ],
          "histogram2d": [
           {
            "colorbar": {
             "outlinewidth": 0,
             "ticks": ""
            },
            "colorscale": [
             [
              0,
              "#0d0887"
             ],
             [
              0.1111111111111111,
              "#46039f"
             ],
             [
              0.2222222222222222,
              "#7201a8"
             ],
             [
              0.3333333333333333,
              "#9c179e"
             ],
             [
              0.4444444444444444,
              "#bd3786"
             ],
             [
              0.5555555555555556,
              "#d8576b"
             ],
             [
              0.6666666666666666,
              "#ed7953"
             ],
             [
              0.7777777777777778,
              "#fb9f3a"
             ],
             [
              0.8888888888888888,
              "#fdca26"
             ],
             [
              1,
              "#f0f921"
             ]
            ],
            "type": "histogram2d"
           }
          ],
          "histogram2dcontour": [
           {
            "colorbar": {
             "outlinewidth": 0,
             "ticks": ""
            },
            "colorscale": [
             [
              0,
              "#0d0887"
             ],
             [
              0.1111111111111111,
              "#46039f"
             ],
             [
              0.2222222222222222,
              "#7201a8"
             ],
             [
              0.3333333333333333,
              "#9c179e"
             ],
             [
              0.4444444444444444,
              "#bd3786"
             ],
             [
              0.5555555555555556,
              "#d8576b"
             ],
             [
              0.6666666666666666,
              "#ed7953"
             ],
             [
              0.7777777777777778,
              "#fb9f3a"
             ],
             [
              0.8888888888888888,
              "#fdca26"
             ],
             [
              1,
              "#f0f921"
             ]
            ],
            "type": "histogram2dcontour"
           }
          ],
          "mesh3d": [
           {
            "colorbar": {
             "outlinewidth": 0,
             "ticks": ""
            },
            "type": "mesh3d"
           }
          ],
          "parcoords": [
           {
            "line": {
             "colorbar": {
              "outlinewidth": 0,
              "ticks": ""
             }
            },
            "type": "parcoords"
           }
          ],
          "pie": [
           {
            "automargin": true,
            "type": "pie"
           }
          ],
          "scatter": [
           {
            "fillpattern": {
             "fillmode": "overlay",
             "size": 10,
             "solidity": 0.2
            },
            "type": "scatter"
           }
          ],
          "scatter3d": [
           {
            "line": {
             "colorbar": {
              "outlinewidth": 0,
              "ticks": ""
             }
            },
            "marker": {
             "colorbar": {
              "outlinewidth": 0,
              "ticks": ""
             }
            },
            "type": "scatter3d"
           }
          ],
          "scattercarpet": [
           {
            "marker": {
             "colorbar": {
              "outlinewidth": 0,
              "ticks": ""
             }
            },
            "type": "scattercarpet"
           }
          ],
          "scattergeo": [
           {
            "marker": {
             "colorbar": {
              "outlinewidth": 0,
              "ticks": ""
             }
            },
            "type": "scattergeo"
           }
          ],
          "scattergl": [
           {
            "marker": {
             "colorbar": {
              "outlinewidth": 0,
              "ticks": ""
             }
            },
            "type": "scattergl"
           }
          ],
          "scattermapbox": [
           {
            "marker": {
             "colorbar": {
              "outlinewidth": 0,
              "ticks": ""
             }
            },
            "type": "scattermapbox"
           }
          ],
          "scatterpolar": [
           {
            "marker": {
             "colorbar": {
              "outlinewidth": 0,
              "ticks": ""
             }
            },
            "type": "scatterpolar"
           }
          ],
          "scatterpolargl": [
           {
            "marker": {
             "colorbar": {
              "outlinewidth": 0,
              "ticks": ""
             }
            },
            "type": "scatterpolargl"
           }
          ],
          "scatterternary": [
           {
            "marker": {
             "colorbar": {
              "outlinewidth": 0,
              "ticks": ""
             }
            },
            "type": "scatterternary"
           }
          ],
          "surface": [
           {
            "colorbar": {
             "outlinewidth": 0,
             "ticks": ""
            },
            "colorscale": [
             [
              0,
              "#0d0887"
             ],
             [
              0.1111111111111111,
              "#46039f"
             ],
             [
              0.2222222222222222,
              "#7201a8"
             ],
             [
              0.3333333333333333,
              "#9c179e"
             ],
             [
              0.4444444444444444,
              "#bd3786"
             ],
             [
              0.5555555555555556,
              "#d8576b"
             ],
             [
              0.6666666666666666,
              "#ed7953"
             ],
             [
              0.7777777777777778,
              "#fb9f3a"
             ],
             [
              0.8888888888888888,
              "#fdca26"
             ],
             [
              1,
              "#f0f921"
             ]
            ],
            "type": "surface"
           }
          ],
          "table": [
           {
            "cells": {
             "fill": {
              "color": "#EBF0F8"
             },
             "line": {
              "color": "white"
             }
            },
            "header": {
             "fill": {
              "color": "#C8D4E3"
             },
             "line": {
              "color": "white"
             }
            },
            "type": "table"
           }
          ]
         },
         "layout": {
          "annotationdefaults": {
           "arrowcolor": "#2a3f5f",
           "arrowhead": 0,
           "arrowwidth": 1
          },
          "autotypenumbers": "strict",
          "coloraxis": {
           "colorbar": {
            "outlinewidth": 0,
            "ticks": ""
           }
          },
          "colorscale": {
           "diverging": [
            [
             0,
             "#8e0152"
            ],
            [
             0.1,
             "#c51b7d"
            ],
            [
             0.2,
             "#de77ae"
            ],
            [
             0.3,
             "#f1b6da"
            ],
            [
             0.4,
             "#fde0ef"
            ],
            [
             0.5,
             "#f7f7f7"
            ],
            [
             0.6,
             "#e6f5d0"
            ],
            [
             0.7,
             "#b8e186"
            ],
            [
             0.8,
             "#7fbc41"
            ],
            [
             0.9,
             "#4d9221"
            ],
            [
             1,
             "#276419"
            ]
           ],
           "sequential": [
            [
             0,
             "#0d0887"
            ],
            [
             0.1111111111111111,
             "#46039f"
            ],
            [
             0.2222222222222222,
             "#7201a8"
            ],
            [
             0.3333333333333333,
             "#9c179e"
            ],
            [
             0.4444444444444444,
             "#bd3786"
            ],
            [
             0.5555555555555556,
             "#d8576b"
            ],
            [
             0.6666666666666666,
             "#ed7953"
            ],
            [
             0.7777777777777778,
             "#fb9f3a"
            ],
            [
             0.8888888888888888,
             "#fdca26"
            ],
            [
             1,
             "#f0f921"
            ]
           ],
           "sequentialminus": [
            [
             0,
             "#0d0887"
            ],
            [
             0.1111111111111111,
             "#46039f"
            ],
            [
             0.2222222222222222,
             "#7201a8"
            ],
            [
             0.3333333333333333,
             "#9c179e"
            ],
            [
             0.4444444444444444,
             "#bd3786"
            ],
            [
             0.5555555555555556,
             "#d8576b"
            ],
            [
             0.6666666666666666,
             "#ed7953"
            ],
            [
             0.7777777777777778,
             "#fb9f3a"
            ],
            [
             0.8888888888888888,
             "#fdca26"
            ],
            [
             1,
             "#f0f921"
            ]
           ]
          },
          "colorway": [
           "#636efa",
           "#EF553B",
           "#00cc96",
           "#ab63fa",
           "#FFA15A",
           "#19d3f3",
           "#FF6692",
           "#B6E880",
           "#FF97FF",
           "#FECB52"
          ],
          "font": {
           "color": "#2a3f5f"
          },
          "geo": {
           "bgcolor": "white",
           "lakecolor": "white",
           "landcolor": "#E5ECF6",
           "showlakes": true,
           "showland": true,
           "subunitcolor": "white"
          },
          "hoverlabel": {
           "align": "left"
          },
          "hovermode": "closest",
          "mapbox": {
           "style": "light"
          },
          "paper_bgcolor": "white",
          "plot_bgcolor": "#E5ECF6",
          "polar": {
           "angularaxis": {
            "gridcolor": "white",
            "linecolor": "white",
            "ticks": ""
           },
           "bgcolor": "#E5ECF6",
           "radialaxis": {
            "gridcolor": "white",
            "linecolor": "white",
            "ticks": ""
           }
          },
          "scene": {
           "xaxis": {
            "backgroundcolor": "#E5ECF6",
            "gridcolor": "white",
            "gridwidth": 2,
            "linecolor": "white",
            "showbackground": true,
            "ticks": "",
            "zerolinecolor": "white"
           },
           "yaxis": {
            "backgroundcolor": "#E5ECF6",
            "gridcolor": "white",
            "gridwidth": 2,
            "linecolor": "white",
            "showbackground": true,
            "ticks": "",
            "zerolinecolor": "white"
           },
           "zaxis": {
            "backgroundcolor": "#E5ECF6",
            "gridcolor": "white",
            "gridwidth": 2,
            "linecolor": "white",
            "showbackground": true,
            "ticks": "",
            "zerolinecolor": "white"
           }
          },
          "shapedefaults": {
           "line": {
            "color": "#2a3f5f"
           }
          },
          "ternary": {
           "aaxis": {
            "gridcolor": "white",
            "linecolor": "white",
            "ticks": ""
           },
           "baxis": {
            "gridcolor": "white",
            "linecolor": "white",
            "ticks": ""
           },
           "bgcolor": "#E5ECF6",
           "caxis": {
            "gridcolor": "white",
            "linecolor": "white",
            "ticks": ""
           }
          },
          "title": {
           "x": 0.05
          },
          "xaxis": {
           "automargin": true,
           "gridcolor": "white",
           "linecolor": "white",
           "ticks": "",
           "title": {
            "standoff": 15
           },
           "zerolinecolor": "white",
           "zerolinewidth": 2
          },
          "yaxis": {
           "automargin": true,
           "gridcolor": "white",
           "linecolor": "white",
           "ticks": "",
           "title": {
            "standoff": 15
           },
           "zerolinecolor": "white",
           "zerolinewidth": 2
          }
         }
        },
        "title": {
         "text": "Impact vs Stability (Rice_Production - TotalNPK +20%)"
        },
        "width": 800,
        "xaxis": {
         "anchor": "y",
         "domain": [
          0,
          1
         ],
         "title": {
          "text": "New Stability(NPK + 20%)"
         }
        },
        "yaxis": {
         "anchor": "x",
         "domain": [
          0,
          1
         ],
         "title": {
          "text": "Impact Score Rice_Production (TotalNPK +20%)"
         }
        }
       }
      }
     },
     "metadata": {},
     "output_type": "display_data"
    },
    {
     "data": {
      "application/vnd.plotly.v1+json": {
       "config": {
        "plotlyServerURL": "https://plot.ly"
       },
       "data": [
        {
         "hoverinfo": "text+name",
         "hovertemplate": "New Stability(NPK - 20%)=%{x}<br>Impact Score Rice_Production (TotalNPK -20%)=%{y}<extra></extra>",
         "hovertext": [
          "District: BENGALURU<br>Impact (Rice_Production): 0.9012793078852303 <br>Stability (TotalNPK -20%): 0.9427964151768252",
          "District: BENGALURU(R)<br>Impact (Rice_Production): 0.9245818089781642 <br>Stability (TotalNPK -20%): 0.9733301120544856",
          "District: RAMANAGARA<br>Impact (Rice_Production): 0.9923839764386461 <br>Stability (TotalNPK -20%): 0.853065967188974",
          "District: CHITRADURGA<br>Impact (Rice_Production): 0.8289500931869951 <br>Stability (TotalNPK -20%): 0.8279330894365062",
          "District: DAVANAGERE<br>Impact (Rice_Production): 0.4621844872414351 <br>Stability (TotalNPK -20%): 0.7611095771688026",
          "District: KOLAR<br>Impact (Rice_Production): 0.9077218655806355 <br>Stability (TotalNPK -20%): 0.9906928050436024",
          "District: CHIKKABALLAPURA<br>Impact (Rice_Production): 0.8722475322703112 <br>Stability (TotalNPK -20%): 0.9895039997545693",
          "District: SHIVAMOGGA<br>Impact (Rice_Production): 0.7097340144037182 <br>Stability (TotalNPK -20%): 0.9665527714502657",
          "District: TUMAKURU<br>Impact (Rice_Production): 0.8159269229884263 <br>Stability (TotalNPK -20%): 0.9829173610494795",
          "District: CHIKKAMAGALURU<br>Impact (Rice_Production): 0.6449978141322105 <br>Stability (TotalNPK -20%): 0.8754310103968418",
          "District: DAKSHINA KANNADA<br>Impact (Rice_Production): 0.9284415913117506 <br>Stability (TotalNPK -20%): 0.8431970617335082",
          "District: UDUPI<br>Impact (Rice_Production): 1.0 <br>Stability (TotalNPK -20%): 0.8076091208209659",
          "District: HASSAN<br>Impact (Rice_Production): 0.641730517015255 <br>Stability (TotalNPK -20%): 0.8825882208570136",
          "District: KODAGU<br>Impact (Rice_Production): 0.7998262810335702 <br>Stability (TotalNPK -20%): 0.949778728822009",
          "District: MANDYA<br>Impact (Rice_Production): 0.6870182462437588 <br>Stability (TotalNPK -20%): 0.8815926922988427",
          "District: MYSURU<br>Impact (Rice_Production): 0.6786429212397322 <br>Stability (TotalNPK -20%): 0.9218883021559559",
          "District: CHAMARAJANAGAR<br>Impact (Rice_Production): 0.8984434320425209 <br>Stability (TotalNPK -20%): 0.8875716159315248",
          "District: BELAGAVI<br>Impact (Rice_Production): 0.0 <br>Stability (TotalNPK -20%): 0.21200271507788615",
          "District: VIJAYAPURA<br>Impact (Rice_Production): 0.7234302017901106 <br>Stability (TotalNPK -20%): 0.7051528956995928",
          "District: BAGALKOT<br>Impact (Rice_Production): 0.5475023584362992 <br>Stability (TotalNPK -20%): 0.9721278847702539",
          "District: DHARAWAD<br>Impact (Rice_Production): 0.8203389245530476 <br>Stability (TotalNPK -20%): 0.807205022894089",
          "District: GADAG<br>Impact (Rice_Production): 0.9014518763949286 <br>Stability (TotalNPK -20%): 0.6703883941924944",
          "District: HAVERI<br>Impact (Rice_Production): 0.661460849957433 <br>Stability (TotalNPK -20%): 0.918278127845326",
          "District: UTTARA KANNADA<br>Impact (Rice_Production): 0.9472630634361842 <br>Stability (TotalNPK -20%): 0.6910436943466556",
          "District: BALLARI<br>Impact (Rice_Production): 0.6806504682358896 <br>Stability (TotalNPK -20%): 0.9633456267852623",
          "District: BIDAR<br>Impact (Rice_Production): 0.8935252295161178 <br>Stability (TotalNPK -20%): 0.8312222452313569",
          "District: KALABURAGI<br>Impact (Rice_Production): 0.7247474747474747 <br>Stability (TotalNPK -20%): 0.9841275319635228",
          "District: YADGIRI<br>Impact (Rice_Production): 0.5096695888267644 <br>Stability (TotalNPK -20%): 0.9066116748349095",
          "District: RAICHUR<br>Impact (Rice_Production): 0.3609960654379787 <br>Stability (TotalNPK -20%): 0.7462909274982169",
          "District: KOPPAL<br>Impact (Rice_Production): 0.6122730724097465 <br>Stability (TotalNPK -20%): 0.978021674604818",
          "District: Vijayanagara<br>Impact (Rice_Production): 0.6806562205195463 <br>Stability (TotalNPK -20%): 0.9894944126151415"
         ],
         "legendgroup": "",
         "marker": {
          "color": "#636efa",
          "symbol": "circle"
         },
         "mode": "markers",
         "name": "",
         "orientation": "v",
         "showlegend": false,
         "type": "scatter",
         "x": [
          0.9427964151768252,
          0.9733301120544856,
          0.853065967188974,
          0.8279330894365062,
          0.7611095771688026,
          0.9906928050436024,
          0.9895039997545693,
          0.9665527714502657,
          0.9829173610494795,
          0.8754310103968418,
          0.8431970617335082,
          0.8076091208209659,
          0.8825882208570136,
          0.949778728822009,
          0.8815926922988427,
          0.9218883021559559,
          0.8875716159315248,
          0.21200271507788615,
          0.7051528956995928,
          0.9721278847702539,
          0.807205022894089,
          0.6703883941924944,
          0.918278127845326,
          0.6910436943466556,
          0.9633456267852623,
          0.8312222452313569,
          0.9841275319635228,
          0.9066116748349095,
          0.7462909274982169,
          0.978021674604818,
          0.9894944126151415
         ],
         "xaxis": "x",
         "y": [
          0.9012793078852303,
          0.9245818089781642,
          0.9923839764386461,
          0.8289500931869951,
          0.4621844872414351,
          0.9077218655806355,
          0.8722475322703112,
          0.7097340144037182,
          0.8159269229884263,
          0.6449978141322105,
          0.9284415913117506,
          1,
          0.641730517015255,
          0.7998262810335702,
          0.6870182462437588,
          0.6786429212397322,
          0.8984434320425209,
          0,
          0.7234302017901106,
          0.5475023584362992,
          0.8203389245530476,
          0.9014518763949286,
          0.661460849957433,
          0.9472630634361842,
          0.6806504682358896,
          0.8935252295161178,
          0.7247474747474747,
          0.5096695888267644,
          0.3609960654379787,
          0.6122730724097465,
          0.6806562205195463
         ],
         "yaxis": "y"
        }
       ],
       "layout": {
        "annotations": [
         {
          "arrowcolor": "red",
          "arrowhead": 4,
          "ax": 0,
          "ay": -40,
          "font": {
           "color": "red"
          },
          "showarrow": true,
          "text": "Avg New Stability(NPK - 20%)",
          "x": 0.8617055380548287,
          "y": 1
         },
         {
          "arrowcolor": "blue",
          "arrowhead": 4,
          "ax": -40,
          "ay": 0,
          "font": {
           "color": "blue"
          },
          "showarrow": true,
          "text": "Avg Normalized Rice_Production",
          "x": 0.9906928050436024,
          "y": 0.2658685094756812
         }
        ],
        "height": 500,
        "legend": {
         "tracegroupgap": 0
        },
        "shapes": [
         {
          "line": {
           "color": "red",
           "width": 2
          },
          "type": "line",
          "x0": 0.8617055380548287,
          "x1": 0.8617055380548287,
          "y0": 0,
          "y1": 1
         },
         {
          "line": {
           "color": "blue",
           "width": 2
          },
          "type": "line",
          "x0": 0.21200271507788615,
          "x1": 0.9906928050436024,
          "y0": 0.2658685094756812,
          "y1": 0.2658685094756812
         }
        ],
        "template": {
         "data": {
          "bar": [
           {
            "error_x": {
             "color": "#2a3f5f"
            },
            "error_y": {
             "color": "#2a3f5f"
            },
            "marker": {
             "line": {
              "color": "#E5ECF6",
              "width": 0.5
             },
             "pattern": {
              "fillmode": "overlay",
              "size": 10,
              "solidity": 0.2
             }
            },
            "type": "bar"
           }
          ],
          "barpolar": [
           {
            "marker": {
             "line": {
              "color": "#E5ECF6",
              "width": 0.5
             },
             "pattern": {
              "fillmode": "overlay",
              "size": 10,
              "solidity": 0.2
             }
            },
            "type": "barpolar"
           }
          ],
          "carpet": [
           {
            "aaxis": {
             "endlinecolor": "#2a3f5f",
             "gridcolor": "white",
             "linecolor": "white",
             "minorgridcolor": "white",
             "startlinecolor": "#2a3f5f"
            },
            "baxis": {
             "endlinecolor": "#2a3f5f",
             "gridcolor": "white",
             "linecolor": "white",
             "minorgridcolor": "white",
             "startlinecolor": "#2a3f5f"
            },
            "type": "carpet"
           }
          ],
          "choropleth": [
           {
            "colorbar": {
             "outlinewidth": 0,
             "ticks": ""
            },
            "type": "choropleth"
           }
          ],
          "contour": [
           {
            "colorbar": {
             "outlinewidth": 0,
             "ticks": ""
            },
            "colorscale": [
             [
              0,
              "#0d0887"
             ],
             [
              0.1111111111111111,
              "#46039f"
             ],
             [
              0.2222222222222222,
              "#7201a8"
             ],
             [
              0.3333333333333333,
              "#9c179e"
             ],
             [
              0.4444444444444444,
              "#bd3786"
             ],
             [
              0.5555555555555556,
              "#d8576b"
             ],
             [
              0.6666666666666666,
              "#ed7953"
             ],
             [
              0.7777777777777778,
              "#fb9f3a"
             ],
             [
              0.8888888888888888,
              "#fdca26"
             ],
             [
              1,
              "#f0f921"
             ]
            ],
            "type": "contour"
           }
          ],
          "contourcarpet": [
           {
            "colorbar": {
             "outlinewidth": 0,
             "ticks": ""
            },
            "type": "contourcarpet"
           }
          ],
          "heatmap": [
           {
            "colorbar": {
             "outlinewidth": 0,
             "ticks": ""
            },
            "colorscale": [
             [
              0,
              "#0d0887"
             ],
             [
              0.1111111111111111,
              "#46039f"
             ],
             [
              0.2222222222222222,
              "#7201a8"
             ],
             [
              0.3333333333333333,
              "#9c179e"
             ],
             [
              0.4444444444444444,
              "#bd3786"
             ],
             [
              0.5555555555555556,
              "#d8576b"
             ],
             [
              0.6666666666666666,
              "#ed7953"
             ],
             [
              0.7777777777777778,
              "#fb9f3a"
             ],
             [
              0.8888888888888888,
              "#fdca26"
             ],
             [
              1,
              "#f0f921"
             ]
            ],
            "type": "heatmap"
           }
          ],
          "heatmapgl": [
           {
            "colorbar": {
             "outlinewidth": 0,
             "ticks": ""
            },
            "colorscale": [
             [
              0,
              "#0d0887"
             ],
             [
              0.1111111111111111,
              "#46039f"
             ],
             [
              0.2222222222222222,
              "#7201a8"
             ],
             [
              0.3333333333333333,
              "#9c179e"
             ],
             [
              0.4444444444444444,
              "#bd3786"
             ],
             [
              0.5555555555555556,
              "#d8576b"
             ],
             [
              0.6666666666666666,
              "#ed7953"
             ],
             [
              0.7777777777777778,
              "#fb9f3a"
             ],
             [
              0.8888888888888888,
              "#fdca26"
             ],
             [
              1,
              "#f0f921"
             ]
            ],
            "type": "heatmapgl"
           }
          ],
          "histogram": [
           {
            "marker": {
             "pattern": {
              "fillmode": "overlay",
              "size": 10,
              "solidity": 0.2
             }
            },
            "type": "histogram"
           }
          ],
          "histogram2d": [
           {
            "colorbar": {
             "outlinewidth": 0,
             "ticks": ""
            },
            "colorscale": [
             [
              0,
              "#0d0887"
             ],
             [
              0.1111111111111111,
              "#46039f"
             ],
             [
              0.2222222222222222,
              "#7201a8"
             ],
             [
              0.3333333333333333,
              "#9c179e"
             ],
             [
              0.4444444444444444,
              "#bd3786"
             ],
             [
              0.5555555555555556,
              "#d8576b"
             ],
             [
              0.6666666666666666,
              "#ed7953"
             ],
             [
              0.7777777777777778,
              "#fb9f3a"
             ],
             [
              0.8888888888888888,
              "#fdca26"
             ],
             [
              1,
              "#f0f921"
             ]
            ],
            "type": "histogram2d"
           }
          ],
          "histogram2dcontour": [
           {
            "colorbar": {
             "outlinewidth": 0,
             "ticks": ""
            },
            "colorscale": [
             [
              0,
              "#0d0887"
             ],
             [
              0.1111111111111111,
              "#46039f"
             ],
             [
              0.2222222222222222,
              "#7201a8"
             ],
             [
              0.3333333333333333,
              "#9c179e"
             ],
             [
              0.4444444444444444,
              "#bd3786"
             ],
             [
              0.5555555555555556,
              "#d8576b"
             ],
             [
              0.6666666666666666,
              "#ed7953"
             ],
             [
              0.7777777777777778,
              "#fb9f3a"
             ],
             [
              0.8888888888888888,
              "#fdca26"
             ],
             [
              1,
              "#f0f921"
             ]
            ],
            "type": "histogram2dcontour"
           }
          ],
          "mesh3d": [
           {
            "colorbar": {
             "outlinewidth": 0,
             "ticks": ""
            },
            "type": "mesh3d"
           }
          ],
          "parcoords": [
           {
            "line": {
             "colorbar": {
              "outlinewidth": 0,
              "ticks": ""
             }
            },
            "type": "parcoords"
           }
          ],
          "pie": [
           {
            "automargin": true,
            "type": "pie"
           }
          ],
          "scatter": [
           {
            "fillpattern": {
             "fillmode": "overlay",
             "size": 10,
             "solidity": 0.2
            },
            "type": "scatter"
           }
          ],
          "scatter3d": [
           {
            "line": {
             "colorbar": {
              "outlinewidth": 0,
              "ticks": ""
             }
            },
            "marker": {
             "colorbar": {
              "outlinewidth": 0,
              "ticks": ""
             }
            },
            "type": "scatter3d"
           }
          ],
          "scattercarpet": [
           {
            "marker": {
             "colorbar": {
              "outlinewidth": 0,
              "ticks": ""
             }
            },
            "type": "scattercarpet"
           }
          ],
          "scattergeo": [
           {
            "marker": {
             "colorbar": {
              "outlinewidth": 0,
              "ticks": ""
             }
            },
            "type": "scattergeo"
           }
          ],
          "scattergl": [
           {
            "marker": {
             "colorbar": {
              "outlinewidth": 0,
              "ticks": ""
             }
            },
            "type": "scattergl"
           }
          ],
          "scattermapbox": [
           {
            "marker": {
             "colorbar": {
              "outlinewidth": 0,
              "ticks": ""
             }
            },
            "type": "scattermapbox"
           }
          ],
          "scatterpolar": [
           {
            "marker": {
             "colorbar": {
              "outlinewidth": 0,
              "ticks": ""
             }
            },
            "type": "scatterpolar"
           }
          ],
          "scatterpolargl": [
           {
            "marker": {
             "colorbar": {
              "outlinewidth": 0,
              "ticks": ""
             }
            },
            "type": "scatterpolargl"
           }
          ],
          "scatterternary": [
           {
            "marker": {
             "colorbar": {
              "outlinewidth": 0,
              "ticks": ""
             }
            },
            "type": "scatterternary"
           }
          ],
          "surface": [
           {
            "colorbar": {
             "outlinewidth": 0,
             "ticks": ""
            },
            "colorscale": [
             [
              0,
              "#0d0887"
             ],
             [
              0.1111111111111111,
              "#46039f"
             ],
             [
              0.2222222222222222,
              "#7201a8"
             ],
             [
              0.3333333333333333,
              "#9c179e"
             ],
             [
              0.4444444444444444,
              "#bd3786"
             ],
             [
              0.5555555555555556,
              "#d8576b"
             ],
             [
              0.6666666666666666,
              "#ed7953"
             ],
             [
              0.7777777777777778,
              "#fb9f3a"
             ],
             [
              0.8888888888888888,
              "#fdca26"
             ],
             [
              1,
              "#f0f921"
             ]
            ],
            "type": "surface"
           }
          ],
          "table": [
           {
            "cells": {
             "fill": {
              "color": "#EBF0F8"
             },
             "line": {
              "color": "white"
             }
            },
            "header": {
             "fill": {
              "color": "#C8D4E3"
             },
             "line": {
              "color": "white"
             }
            },
            "type": "table"
           }
          ]
         },
         "layout": {
          "annotationdefaults": {
           "arrowcolor": "#2a3f5f",
           "arrowhead": 0,
           "arrowwidth": 1
          },
          "autotypenumbers": "strict",
          "coloraxis": {
           "colorbar": {
            "outlinewidth": 0,
            "ticks": ""
           }
          },
          "colorscale": {
           "diverging": [
            [
             0,
             "#8e0152"
            ],
            [
             0.1,
             "#c51b7d"
            ],
            [
             0.2,
             "#de77ae"
            ],
            [
             0.3,
             "#f1b6da"
            ],
            [
             0.4,
             "#fde0ef"
            ],
            [
             0.5,
             "#f7f7f7"
            ],
            [
             0.6,
             "#e6f5d0"
            ],
            [
             0.7,
             "#b8e186"
            ],
            [
             0.8,
             "#7fbc41"
            ],
            [
             0.9,
             "#4d9221"
            ],
            [
             1,
             "#276419"
            ]
           ],
           "sequential": [
            [
             0,
             "#0d0887"
            ],
            [
             0.1111111111111111,
             "#46039f"
            ],
            [
             0.2222222222222222,
             "#7201a8"
            ],
            [
             0.3333333333333333,
             "#9c179e"
            ],
            [
             0.4444444444444444,
             "#bd3786"
            ],
            [
             0.5555555555555556,
             "#d8576b"
            ],
            [
             0.6666666666666666,
             "#ed7953"
            ],
            [
             0.7777777777777778,
             "#fb9f3a"
            ],
            [
             0.8888888888888888,
             "#fdca26"
            ],
            [
             1,
             "#f0f921"
            ]
           ],
           "sequentialminus": [
            [
             0,
             "#0d0887"
            ],
            [
             0.1111111111111111,
             "#46039f"
            ],
            [
             0.2222222222222222,
             "#7201a8"
            ],
            [
             0.3333333333333333,
             "#9c179e"
            ],
            [
             0.4444444444444444,
             "#bd3786"
            ],
            [
             0.5555555555555556,
             "#d8576b"
            ],
            [
             0.6666666666666666,
             "#ed7953"
            ],
            [
             0.7777777777777778,
             "#fb9f3a"
            ],
            [
             0.8888888888888888,
             "#fdca26"
            ],
            [
             1,
             "#f0f921"
            ]
           ]
          },
          "colorway": [
           "#636efa",
           "#EF553B",
           "#00cc96",
           "#ab63fa",
           "#FFA15A",
           "#19d3f3",
           "#FF6692",
           "#B6E880",
           "#FF97FF",
           "#FECB52"
          ],
          "font": {
           "color": "#2a3f5f"
          },
          "geo": {
           "bgcolor": "white",
           "lakecolor": "white",
           "landcolor": "#E5ECF6",
           "showlakes": true,
           "showland": true,
           "subunitcolor": "white"
          },
          "hoverlabel": {
           "align": "left"
          },
          "hovermode": "closest",
          "mapbox": {
           "style": "light"
          },
          "paper_bgcolor": "white",
          "plot_bgcolor": "#E5ECF6",
          "polar": {
           "angularaxis": {
            "gridcolor": "white",
            "linecolor": "white",
            "ticks": ""
           },
           "bgcolor": "#E5ECF6",
           "radialaxis": {
            "gridcolor": "white",
            "linecolor": "white",
            "ticks": ""
           }
          },
          "scene": {
           "xaxis": {
            "backgroundcolor": "#E5ECF6",
            "gridcolor": "white",
            "gridwidth": 2,
            "linecolor": "white",
            "showbackground": true,
            "ticks": "",
            "zerolinecolor": "white"
           },
           "yaxis": {
            "backgroundcolor": "#E5ECF6",
            "gridcolor": "white",
            "gridwidth": 2,
            "linecolor": "white",
            "showbackground": true,
            "ticks": "",
            "zerolinecolor": "white"
           },
           "zaxis": {
            "backgroundcolor": "#E5ECF6",
            "gridcolor": "white",
            "gridwidth": 2,
            "linecolor": "white",
            "showbackground": true,
            "ticks": "",
            "zerolinecolor": "white"
           }
          },
          "shapedefaults": {
           "line": {
            "color": "#2a3f5f"
           }
          },
          "ternary": {
           "aaxis": {
            "gridcolor": "white",
            "linecolor": "white",
            "ticks": ""
           },
           "baxis": {
            "gridcolor": "white",
            "linecolor": "white",
            "ticks": ""
           },
           "bgcolor": "#E5ECF6",
           "caxis": {
            "gridcolor": "white",
            "linecolor": "white",
            "ticks": ""
           }
          },
          "title": {
           "x": 0.05
          },
          "xaxis": {
           "automargin": true,
           "gridcolor": "white",
           "linecolor": "white",
           "ticks": "",
           "title": {
            "standoff": 15
           },
           "zerolinecolor": "white",
           "zerolinewidth": 2
          },
          "yaxis": {
           "automargin": true,
           "gridcolor": "white",
           "linecolor": "white",
           "ticks": "",
           "title": {
            "standoff": 15
           },
           "zerolinecolor": "white",
           "zerolinewidth": 2
          }
         }
        },
        "title": {
         "text": "Impact vs Stability (Rice_Production - TotalNPK -20%)"
        },
        "width": 800,
        "xaxis": {
         "anchor": "y",
         "domain": [
          0,
          1
         ],
         "title": {
          "text": "New Stability(NPK - 20%)"
         }
        },
        "yaxis": {
         "anchor": "x",
         "domain": [
          0,
          1
         ],
         "title": {
          "text": "Impact Score Rice_Production (TotalNPK -20%)"
         }
        }
       }
      }
     },
     "metadata": {},
     "output_type": "display_data"
    },
    {
     "data": {
      "text/html": [
       "<div>\n",
       "<style scoped>\n",
       "    .dataframe tbody tr th:only-of-type {\n",
       "        vertical-align: middle;\n",
       "    }\n",
       "\n",
       "    .dataframe tbody tr th {\n",
       "        vertical-align: top;\n",
       "    }\n",
       "\n",
       "    .dataframe thead th {\n",
       "        text-align: right;\n",
       "    }\n",
       "</style>\n",
       "<table border=\"1\" class=\"dataframe\">\n",
       "  <thead>\n",
       "    <tr style=\"text-align: right;\">\n",
       "      <th></th>\n",
       "      <th>District</th>\n",
       "      <th>Rice_Production (TotalNPK +20%)</th>\n",
       "      <th>Rice_Production (TotalNPK -20%)</th>\n",
       "      <th>Normalized Rice_Production (TotalNPK +20%)</th>\n",
       "      <th>Normalized Rice_Production (TotalNPK -20%)</th>\n",
       "      <th>Impact Score Rice_Production (TotalNPK +20%)</th>\n",
       "      <th>Impact Score Rice_Production (TotalNPK -20%)</th>\n",
       "      <th>New Stability(NPK + 20%)</th>\n",
       "      <th>New Stability(NPK - 20%)</th>\n",
       "    </tr>\n",
       "  </thead>\n",
       "  <tbody>\n",
       "    <tr>\n",
       "      <th>0</th>\n",
       "      <td>BENGALURU</td>\n",
       "      <td>78017.233516</td>\n",
       "      <td>57723.646290</td>\n",
       "      <td>0.098721</td>\n",
       "      <td>0.098721</td>\n",
       "      <td>0.098721</td>\n",
       "      <td>0.901279</td>\n",
       "      <td>0.942796</td>\n",
       "      <td>0.942796</td>\n",
       "    </tr>\n",
       "    <tr>\n",
       "      <th>1</th>\n",
       "      <td>BENGALURU(R)</td>\n",
       "      <td>67436.883213</td>\n",
       "      <td>50670.079421</td>\n",
       "      <td>0.075418</td>\n",
       "      <td>0.075418</td>\n",
       "      <td>0.075418</td>\n",
       "      <td>0.924582</td>\n",
       "      <td>0.973330</td>\n",
       "      <td>0.973330</td>\n",
       "    </tr>\n",
       "    <tr>\n",
       "      <th>2</th>\n",
       "      <td>RAMANAGARA</td>\n",
       "      <td>36651.746452</td>\n",
       "      <td>30146.654914</td>\n",
       "      <td>0.007616</td>\n",
       "      <td>0.007616</td>\n",
       "      <td>0.007616</td>\n",
       "      <td>0.992384</td>\n",
       "      <td>0.853066</td>\n",
       "      <td>0.853066</td>\n",
       "    </tr>\n",
       "    <tr>\n",
       "      <th>3</th>\n",
       "      <td>CHITRADURGA</td>\n",
       "      <td>110857.846873</td>\n",
       "      <td>79617.388528</td>\n",
       "      <td>0.171050</td>\n",
       "      <td>0.171050</td>\n",
       "      <td>0.171050</td>\n",
       "      <td>0.828950</td>\n",
       "      <td>0.827933</td>\n",
       "      <td>0.827933</td>\n",
       "    </tr>\n",
       "    <tr>\n",
       "      <th>4</th>\n",
       "      <td>DAVANAGERE</td>\n",
       "      <td>277385.404343</td>\n",
       "      <td>190635.760174</td>\n",
       "      <td>0.537816</td>\n",
       "      <td>0.537816</td>\n",
       "      <td>0.537816</td>\n",
       "      <td>0.462184</td>\n",
       "      <td>0.761110</td>\n",
       "      <td>0.761110</td>\n",
       "    </tr>\n",
       "  </tbody>\n",
       "</table>\n",
       "</div>"
      ],
      "text/plain": [
       "       District  Rice_Production (TotalNPK +20%)  \\\n",
       "0     BENGALURU                     78017.233516   \n",
       "1  BENGALURU(R)                     67436.883213   \n",
       "2    RAMANAGARA                     36651.746452   \n",
       "3   CHITRADURGA                    110857.846873   \n",
       "4    DAVANAGERE                    277385.404343   \n",
       "\n",
       "   Rice_Production (TotalNPK -20%)  \\\n",
       "0                     57723.646290   \n",
       "1                     50670.079421   \n",
       "2                     30146.654914   \n",
       "3                     79617.388528   \n",
       "4                    190635.760174   \n",
       "\n",
       "   Normalized Rice_Production (TotalNPK +20%)  \\\n",
       "0                                    0.098721   \n",
       "1                                    0.075418   \n",
       "2                                    0.007616   \n",
       "3                                    0.171050   \n",
       "4                                    0.537816   \n",
       "\n",
       "   Normalized Rice_Production (TotalNPK -20%)  \\\n",
       "0                                    0.098721   \n",
       "1                                    0.075418   \n",
       "2                                    0.007616   \n",
       "3                                    0.171050   \n",
       "4                                    0.537816   \n",
       "\n",
       "   Impact Score Rice_Production (TotalNPK +20%)  \\\n",
       "0                                      0.098721   \n",
       "1                                      0.075418   \n",
       "2                                      0.007616   \n",
       "3                                      0.171050   \n",
       "4                                      0.537816   \n",
       "\n",
       "   Impact Score Rice_Production (TotalNPK -20%)  New Stability(NPK + 20%)  \\\n",
       "0                                      0.901279                  0.942796   \n",
       "1                                      0.924582                  0.973330   \n",
       "2                                      0.992384                  0.853066   \n",
       "3                                      0.828950                  0.827933   \n",
       "4                                      0.462184                  0.761110   \n",
       "\n",
       "   New Stability(NPK - 20%)  \n",
       "0                  0.942796  \n",
       "1                  0.973330  \n",
       "2                  0.853066  \n",
       "3                  0.827933  \n",
       "4                  0.761110  "
      ]
     },
     "execution_count": 95,
     "metadata": {},
     "output_type": "execute_result"
    }
   ],
   "source": [
    "from bokeh.models import Span, Label\n",
    "from bokeh.plotting import figure, show, output_notebook\n",
    "from bokeh.models.sources import ColumnDataSource\n",
    "from bokeh.models.tools import HoverTool\n",
    "import statsmodels.api as sm\n",
    "from sklearn.preprocessing import MinMaxScaler\n",
    "import plotly.express as px\n",
    "\n",
    "def calc_and_vis_impact_stability_1D(G, existing_data, adjacency_file, base_column, capability_vector, intervention, dim, final_data):\n",
    "    filtered_df = df[(df[capability_vector] != 0) & (~df[capability_vector].isnull())]\n",
    "    X = sm.add_constant(df[base_column])\n",
    "    y = df[capability_vector]\n",
    "    model = sm.OLS(y, X).fit()\n",
    "    \n",
    "    m, c = model.params[base_column], model.params['const']\n",
    "    print(m,c)\n",
    "    base_column_increase = (1 + intervention/100) * df[base_column]\n",
    "    base_column_decrease = (1 - intervention/100) * df[base_column]\n",
    "\n",
    "    new_vector_increase = m * base_column_increase + c\n",
    "    new_vector_decrease = m * base_column_decrease + c\n",
    "    \n",
    "    vector_plus = new_vector_increase - m * df[base_column] - c  \n",
    "    vector_minus = new_vector_decrease - m * df[base_column] - c\n",
    "\n",
    "    scaler = MinMaxScaler()\n",
    "    normalized_change_increase_vector = scaler.fit_transform(vector_plus.values.reshape(-1, 1))\n",
    "    normalized_change_decrease_vector = scaler.fit_transform(vector_minus.values.reshape(-1, 1))\n",
    "    normalized_new_increase_vector = scaler.fit_transform(new_vector_increase.values.reshape(-1, 1))\n",
    "    normalized_new_decrease_vector = scaler.fit_transform(new_vector_decrease.values.reshape(-1, 1))\n",
    "\n",
    "    result_df = pd.DataFrame({\n",
    "        f'{capability_vector} ({base_column} +{intervention}%)': new_vector_increase,\n",
    "        f'{capability_vector} ({base_column} -{intervention}%)': new_vector_decrease,\n",
    "        f'Normalized {capability_vector} ({base_column} +{intervention}%)': normalized_new_increase_vector.flatten(),\n",
    "        f'Normalized {capability_vector} ({base_column} -{intervention}%)': normalized_new_decrease_vector.flatten(),\n",
    "        f'Impact Score {capability_vector} ({base_column} +{intervention}%)': normalized_change_increase_vector.flatten(),\n",
    "        f'Impact Score {capability_vector} ({base_column} -{intervention}%)': normalized_change_decrease_vector.flatten(),\n",
    "    })\n",
    "    \n",
    "    # Merge Columns\n",
    "    for column in result_df.columns:\n",
    "        existing_data[column] = result_df[column]\n",
    "\n",
    "    # Calculate Stability and add to DataFrame\n",
    "    columns_to_pass = [f\"Normalized {capability_vector} ({base_column} {'+' if intervention >= 0 else '-'}{abs(intervention)}%)\"]\n",
    "    stability_column, stability_column_name = calculate_and_map_stability(G, existing_data.copy(), adjacency_file, columns_to_pass, intervention, dim)\n",
    "\n",
    "    existing_data[stability_column_name] = stability_column\n",
    "\n",
    "    # Calculate Stability for the opposite intervention and add to DataFrame\n",
    "    opposite_intervention = -intervention\n",
    "    columns_to_pass_opposite = [f\"Normalized {capability_vector} ({base_column} {'+' if opposite_intervention >= 0 else '-'}{abs(opposite_intervention)}%)\"]\n",
    "    stability_column_opposite, stability_column_name_opposite = calculate_and_map_stability(G, existing_data.copy(), adjacency_file, columns_to_pass_opposite, opposite_intervention, dim)\n",
    "\n",
    "    existing_data[stability_column_name_opposite] = stability_column_opposite\n",
    "\n",
    "    columns_to_pass = [f\"Normalized {capability_vector} ({base_column} {'+' if intervention >= 0 else '-'}{abs(intervention)}%)\"]\n",
    "    stability_column, stability_column_name = calculate_and_map_stability(G, existing_data.copy(), adjacency_file, columns_to_pass, intervention, dim)\n",
    "\n",
    "    existing_data[stability_column_name] = stability_column\n",
    "\n",
    "    # Calculate Stability for the opposite intervention and add to DataFrame\n",
    "    opposite_intervention = -intervention\n",
    "    columns_to_pass_opposite = [f\"Normalized {capability_vector} ({base_column} {'+' if opposite_intervention >= 0 else '-'}{abs(opposite_intervention)}%)\"]\n",
    "    stability_column_opposite, stability_column_name_opposite = calculate_and_map_stability(G, existing_data.copy(), adjacency_file, columns_to_pass_opposite, opposite_intervention, dim)\n",
    "\n",
    "    existing_data[stability_column_name_opposite] = stability_column_opposite\n",
    "\n",
    "    # Visualize with Plotly for +intervention\n",
    "    fig_increase = px.scatter(existing_data,\n",
    "                              x=stability_column_name,\n",
    "                              y=f'Impact Score {capability_vector} ({base_column} +{intervention}%)',\n",
    "                              title=f'Impact vs Stability ({capability_vector} - {base_column} +{intervention}%)',\n",
    "                              labels={'x': f'Stability ({base_column} +{intervention}%)', 'y': f'Impact ({capability_vector})'},\n",
    "                              size_max=8,\n",
    "                              width=800,\n",
    "                              height=500)\n",
    "    \n",
    "    fig_increase.update_traces(hoverlabel=dict(bgcolor='grey', font=dict(color='white')))\n",
    "\n",
    "    # Calculate average values from the DataFrame for +intervention\n",
    "    avg_x_increase = existing_data[stability_column_name].mean()\n",
    "    avg_y_increase = existing_data[f'Normalized {capability_vector} ({base_column} +{intervention}%)'].mean()\n",
    "\n",
    "    # Add average lines for +intervention\n",
    "    fig_increase.add_shape(\n",
    "        type='line',\n",
    "        x0=avg_x_increase,\n",
    "        x1=avg_x_increase,\n",
    "        y0=fig_increase.data[0].y.min(),\n",
    "        y1=fig_increase.data[0].y.max(),\n",
    "        line=dict(color='red', width=2)\n",
    "    )\n",
    "    fig_increase.add_shape(\n",
    "        type='line',\n",
    "        x0=fig_increase.data[0].x.min(),\n",
    "        x1=fig_increase.data[0].x.max(),\n",
    "        y0=avg_y_increase,\n",
    "        y1=avg_y_increase,\n",
    "        line=dict(color='blue', width=2)\n",
    "    )\n",
    "\n",
    "    # Add labels for average lines for +intervention\n",
    "    fig_increase.add_annotation(\n",
    "        x=avg_x_increase,\n",
    "        y=fig_increase.data[0].y.max(),\n",
    "        text=f'Avg {stability_column_name}',\n",
    "        showarrow=True,\n",
    "        arrowhead=4,\n",
    "        arrowcolor='red',\n",
    "        ax=0,\n",
    "        ay=-40,\n",
    "        font=dict(color='red')\n",
    "    )\n",
    "    fig_increase.add_annotation(\n",
    "        x=fig_increase.data[0].x.max(),\n",
    "        y=avg_y_increase,\n",
    "        text=f'Avg Normalized {capability_vector}',\n",
    "        showarrow=True,\n",
    "        arrowhead=4,\n",
    "        arrowcolor='blue',\n",
    "        ax=-40,\n",
    "        ay=0,\n",
    "        font=dict(color='blue')\n",
    "    )\n",
    "\n",
    "    # Add tooltips for +intervention\n",
    "    fig_increase.update_traces(hoverinfo='text+name',\n",
    "                               hovertext=[\"District: \" + str(d) +\n",
    "                                          f\"<br>Impact ({capability_vector}): {y} <br>Stability ({base_column} +{intervention}%): {x}\"\n",
    "                                          for x, y, d in zip(fig_increase.data[0].x, fig_increase.data[0].y, existing_data['District'])])\n",
    "\n",
    "    # Visualize with Plotly for -intervention\n",
    "    fig_decrease = px.scatter(existing_data,\n",
    "                              x=stability_column_name_opposite,\n",
    "                              y=f'Impact Score {capability_vector} ({base_column} -{intervention}%)',\n",
    "                              title=f'Impact vs Stability ({capability_vector} - {base_column} -{intervention}%)',\n",
    "                              labels={'x': f'Stability ({base_column} -{intervention}%)', 'y': f'Impact ({capability_vector})'},\n",
    "                              size_max=8,\n",
    "                              width=800,\n",
    "                              height=500)\n",
    "\n",
    "    # Calculate average values from the DataFrame for -intervention\n",
    "    avg_x_decrease = existing_data[stability_column_name_opposite].mean()\n",
    "    avg_y_decrease = existing_data[f'Normalized {capability_vector} ({base_column} -{intervention}%)'].mean()\n",
    "\n",
    "    # Add average lines for -intervention\n",
    "    fig_decrease.add_shape(\n",
    "        type='line',\n",
    "        x0=avg_x_decrease,\n",
    "        x1=avg_x_decrease,\n",
    "        y0=fig_decrease.data[0].y.min(),\n",
    "        y1=fig_decrease.data[0].y.max(),\n",
    "        line=dict(color='red', width=2)\n",
    "    )\n",
    "    fig_decrease.add_shape(\n",
    "        type='line',\n",
    "        x0=fig_decrease.data[0].x.min(),\n",
    "        x1=fig_decrease.data[0].x.max(),\n",
    "        y0=avg_y_decrease,\n",
    "        y1=avg_y_decrease,\n",
    "        line=dict(color='blue', width=2)\n",
    "    )\n",
    "\n",
    "    # Add labels for average lines for -intervention\n",
    "    fig_decrease.add_annotation(\n",
    "        x=avg_x_decrease,\n",
    "        y=fig_decrease.data[0].y.max(),\n",
    "        text=f'Avg {stability_column_name_opposite}',\n",
    "        showarrow=True,\n",
    "        arrowhead=4,\n",
    "        arrowcolor='red',\n",
    "        ax=0,\n",
    "        ay=-40,\n",
    "        font=dict(color='red')\n",
    "    )\n",
    "    fig_decrease.add_annotation(\n",
    "        x=fig_decrease.data[0].x.max(),\n",
    "        y=avg_y_decrease,\n",
    "        text=f'Avg Normalized {capability_vector}',\n",
    "        showarrow=True,\n",
    "        arrowhead=4,\n",
    "        arrowcolor='blue',\n",
    "        ax=-40,\n",
    "        ay=0,\n",
    "        font=dict(color='blue')\n",
    "    )\n",
    "\n",
    "    # Add tooltips for -intervention\n",
    "    fig_decrease.update_traces(hoverinfo='text+name',\n",
    "                               hovertext=[\"District: \" + str(d) +\n",
    "                                          f\"<br>Impact ({capability_vector}): {y} <br>Stability ({base_column} -{intervention}%): {x}\"\n",
    "                                          for x, y, d in zip(fig_decrease.data[0].x, fig_decrease.data[0].y, existing_data['District'])])\n",
    "\n",
    "    # Show the plots\n",
    "    fig_increase.show()\n",
    "    fig_decrease.show()\n",
    "\n",
    "    return existing_data\n",
    "\n",
    "base_Column = \"TotalNPK\"\n",
    "CapabilityVector = \"Rice_Production\"\n",
    "adjacency_file = 'Karnataka_District_Adjacency_File - Copy.xlsx'\n",
    "change_percentage = 20\n",
    "inter = [10,20]\n",
    "dim = 1\n",
    "\n",
    "# Call the function and get the handles for the two plots\n",
    "new_data_20 = calc_and_vis_impact_stability_1D(G, existing_data.copy(), adjacency_file, base_Column, CapabilityVector, change_percentage, dim)\n",
    "\n",
    "# Display the resulting DataFrame\n",
    "new_data_20.head()\n"
   ]
  },
  {
   "cell_type": "code",
   "execution_count": 96,
   "metadata": {},
   "outputs": [
    {
     "data": {
      "text/html": [
       "<div>\n",
       "<style scoped>\n",
       "    .dataframe tbody tr th:only-of-type {\n",
       "        vertical-align: middle;\n",
       "    }\n",
       "\n",
       "    .dataframe tbody tr th {\n",
       "        vertical-align: top;\n",
       "    }\n",
       "\n",
       "    .dataframe thead th {\n",
       "        text-align: right;\n",
       "    }\n",
       "</style>\n",
       "<table border=\"1\" class=\"dataframe\">\n",
       "  <thead>\n",
       "    <tr style=\"text-align: right;\">\n",
       "      <th></th>\n",
       "      <th>District</th>\n",
       "      <th>Rice_Production (TotalNPK +20%)</th>\n",
       "      <th>Rice_Production (TotalNPK -20%)</th>\n",
       "      <th>Normalized Rice_Production (TotalNPK +20%)</th>\n",
       "      <th>Normalized Rice_Production (TotalNPK -20%)</th>\n",
       "      <th>Impact Score Rice_Production (TotalNPK +20%)</th>\n",
       "      <th>Impact Score Rice_Production (TotalNPK -20%)</th>\n",
       "      <th>New Stability(NPK + 20%)</th>\n",
       "      <th>New Stability(NPK - 20%)</th>\n",
       "    </tr>\n",
       "  </thead>\n",
       "  <tbody>\n",
       "    <tr>\n",
       "      <th>0</th>\n",
       "      <td>BENGALURU</td>\n",
       "      <td>78017.233516</td>\n",
       "      <td>57723.646290</td>\n",
       "      <td>0.098721</td>\n",
       "      <td>0.098721</td>\n",
       "      <td>0.098721</td>\n",
       "      <td>0.901279</td>\n",
       "      <td>0.942796</td>\n",
       "      <td>0.942796</td>\n",
       "    </tr>\n",
       "    <tr>\n",
       "      <th>1</th>\n",
       "      <td>BENGALURU(R)</td>\n",
       "      <td>67436.883213</td>\n",
       "      <td>50670.079421</td>\n",
       "      <td>0.075418</td>\n",
       "      <td>0.075418</td>\n",
       "      <td>0.075418</td>\n",
       "      <td>0.924582</td>\n",
       "      <td>0.973330</td>\n",
       "      <td>0.973330</td>\n",
       "    </tr>\n",
       "    <tr>\n",
       "      <th>2</th>\n",
       "      <td>RAMANAGARA</td>\n",
       "      <td>36651.746452</td>\n",
       "      <td>30146.654914</td>\n",
       "      <td>0.007616</td>\n",
       "      <td>0.007616</td>\n",
       "      <td>0.007616</td>\n",
       "      <td>0.992384</td>\n",
       "      <td>0.853066</td>\n",
       "      <td>0.853066</td>\n",
       "    </tr>\n",
       "    <tr>\n",
       "      <th>3</th>\n",
       "      <td>CHITRADURGA</td>\n",
       "      <td>110857.846873</td>\n",
       "      <td>79617.388528</td>\n",
       "      <td>0.171050</td>\n",
       "      <td>0.171050</td>\n",
       "      <td>0.171050</td>\n",
       "      <td>0.828950</td>\n",
       "      <td>0.827933</td>\n",
       "      <td>0.827933</td>\n",
       "    </tr>\n",
       "    <tr>\n",
       "      <th>4</th>\n",
       "      <td>DAVANAGERE</td>\n",
       "      <td>277385.404343</td>\n",
       "      <td>190635.760174</td>\n",
       "      <td>0.537816</td>\n",
       "      <td>0.537816</td>\n",
       "      <td>0.537816</td>\n",
       "      <td>0.462184</td>\n",
       "      <td>0.761110</td>\n",
       "      <td>0.761110</td>\n",
       "    </tr>\n",
       "    <tr>\n",
       "      <th>5</th>\n",
       "      <td>KOLAR</td>\n",
       "      <td>75092.031754</td>\n",
       "      <td>55773.511782</td>\n",
       "      <td>0.092278</td>\n",
       "      <td>0.092278</td>\n",
       "      <td>0.092278</td>\n",
       "      <td>0.907722</td>\n",
       "      <td>0.990693</td>\n",
       "      <td>0.990693</td>\n",
       "    </tr>\n",
       "    <tr>\n",
       "      <th>6</th>\n",
       "      <td>CHIKKABALLAPURA</td>\n",
       "      <td>91198.923958</td>\n",
       "      <td>66511.439917</td>\n",
       "      <td>0.127752</td>\n",
       "      <td>0.127752</td>\n",
       "      <td>0.127752</td>\n",
       "      <td>0.872248</td>\n",
       "      <td>0.989504</td>\n",
       "      <td>0.989504</td>\n",
       "    </tr>\n",
       "    <tr>\n",
       "      <th>7</th>\n",
       "      <td>SHIVAMOGGA</td>\n",
       "      <td>164987.138412</td>\n",
       "      <td>115703.582887</td>\n",
       "      <td>0.290266</td>\n",
       "      <td>0.290266</td>\n",
       "      <td>0.290266</td>\n",
       "      <td>0.709734</td>\n",
       "      <td>0.966553</td>\n",
       "      <td>0.966553</td>\n",
       "    </tr>\n",
       "    <tr>\n",
       "      <th>8</th>\n",
       "      <td>TUMAKURU</td>\n",
       "      <td>116770.933292</td>\n",
       "      <td>83559.446141</td>\n",
       "      <td>0.184073</td>\n",
       "      <td>0.184073</td>\n",
       "      <td>0.184073</td>\n",
       "      <td>0.815927</td>\n",
       "      <td>0.982917</td>\n",
       "      <td>0.982917</td>\n",
       "    </tr>\n",
       "    <tr>\n",
       "      <th>9</th>\n",
       "      <td>CHIKKAMAGALURU</td>\n",
       "      <td>194380.192549</td>\n",
       "      <td>135298.952312</td>\n",
       "      <td>0.355002</td>\n",
       "      <td>0.355002</td>\n",
       "      <td>0.355002</td>\n",
       "      <td>0.644998</td>\n",
       "      <td>0.875431</td>\n",
       "      <td>0.875431</td>\n",
       "    </tr>\n",
       "    <tr>\n",
       "      <th>10</th>\n",
       "      <td>DAKSHINA KANNADA</td>\n",
       "      <td>65684.373943</td>\n",
       "      <td>49501.739908</td>\n",
       "      <td>0.071558</td>\n",
       "      <td>0.071558</td>\n",
       "      <td>0.071558</td>\n",
       "      <td>0.928442</td>\n",
       "      <td>0.843197</td>\n",
       "      <td>0.843197</td>\n",
       "    </tr>\n",
       "    <tr>\n",
       "      <th>11</th>\n",
       "      <td>UDUPI</td>\n",
       "      <td>33193.740083</td>\n",
       "      <td>27841.317334</td>\n",
       "      <td>0.000000</td>\n",
       "      <td>0.000000</td>\n",
       "      <td>0.000000</td>\n",
       "      <td>1.000000</td>\n",
       "      <td>0.807609</td>\n",
       "      <td>0.807609</td>\n",
       "    </tr>\n",
       "    <tr>\n",
       "      <th>12</th>\n",
       "      <td>HASSAN</td>\n",
       "      <td>195863.687729</td>\n",
       "      <td>136287.949098</td>\n",
       "      <td>0.358269</td>\n",
       "      <td>0.358269</td>\n",
       "      <td>0.358269</td>\n",
       "      <td>0.641731</td>\n",
       "      <td>0.882588</td>\n",
       "      <td>0.882588</td>\n",
       "    </tr>\n",
       "    <tr>\n",
       "      <th>13</th>\n",
       "      <td>KODAGU</td>\n",
       "      <td>124081.325911</td>\n",
       "      <td>88433.041220</td>\n",
       "      <td>0.200174</td>\n",
       "      <td>0.200174</td>\n",
       "      <td>0.200174</td>\n",
       "      <td>0.799826</td>\n",
       "      <td>0.949779</td>\n",
       "      <td>0.949779</td>\n",
       "    </tr>\n",
       "    <tr>\n",
       "      <th>14</th>\n",
       "      <td>MANDYA</td>\n",
       "      <td>175301.086412</td>\n",
       "      <td>122579.548220</td>\n",
       "      <td>0.312982</td>\n",
       "      <td>0.312982</td>\n",
       "      <td>0.312982</td>\n",
       "      <td>0.687018</td>\n",
       "      <td>0.881593</td>\n",
       "      <td>0.881593</td>\n",
       "    </tr>\n",
       "    <tr>\n",
       "      <th>15</th>\n",
       "      <td>MYSURU</td>\n",
       "      <td>179103.848703</td>\n",
       "      <td>125114.723081</td>\n",
       "      <td>0.321357</td>\n",
       "      <td>0.321357</td>\n",
       "      <td>0.321357</td>\n",
       "      <td>0.678643</td>\n",
       "      <td>0.921888</td>\n",
       "      <td>0.921888</td>\n",
       "    </tr>\n",
       "    <tr>\n",
       "      <th>16</th>\n",
       "      <td>CHAMARAJANAGAR</td>\n",
       "      <td>79304.844649</td>\n",
       "      <td>58582.053712</td>\n",
       "      <td>0.101557</td>\n",
       "      <td>0.101557</td>\n",
       "      <td>0.101557</td>\n",
       "      <td>0.898443</td>\n",
       "      <td>0.887572</td>\n",
       "      <td>0.887572</td>\n",
       "    </tr>\n",
       "    <tr>\n",
       "      <th>17</th>\n",
       "      <td>BELAGAVI</td>\n",
       "      <td>487237.289342</td>\n",
       "      <td>330537.016841</td>\n",
       "      <td>1.000000</td>\n",
       "      <td>1.000000</td>\n",
       "      <td>1.000000</td>\n",
       "      <td>0.000000</td>\n",
       "      <td>0.212003</td>\n",
       "      <td>0.212003</td>\n",
       "    </tr>\n",
       "    <tr>\n",
       "      <th>18</th>\n",
       "      <td>VIJAYAPURA</td>\n",
       "      <td>158768.472880</td>\n",
       "      <td>111557.805866</td>\n",
       "      <td>0.276570</td>\n",
       "      <td>0.276570</td>\n",
       "      <td>0.276570</td>\n",
       "      <td>0.723430</td>\n",
       "      <td>0.705153</td>\n",
       "      <td>0.705153</td>\n",
       "    </tr>\n",
       "    <tr>\n",
       "      <th>19</th>\n",
       "      <td>BAGALKOT</td>\n",
       "      <td>238647.375290</td>\n",
       "      <td>164810.407473</td>\n",
       "      <td>0.452498</td>\n",
       "      <td>0.452498</td>\n",
       "      <td>0.452498</td>\n",
       "      <td>0.547502</td>\n",
       "      <td>0.972128</td>\n",
       "      <td>0.972128</td>\n",
       "    </tr>\n",
       "    <tr>\n",
       "      <th>20</th>\n",
       "      <td>DHARAWAD</td>\n",
       "      <td>114767.692443</td>\n",
       "      <td>82223.952241</td>\n",
       "      <td>0.179661</td>\n",
       "      <td>0.179661</td>\n",
       "      <td>0.179661</td>\n",
       "      <td>0.820339</td>\n",
       "      <td>0.807205</td>\n",
       "      <td>0.807205</td>\n",
       "    </tr>\n",
       "    <tr>\n",
       "      <th>21</th>\n",
       "      <td>GADAG</td>\n",
       "      <td>77938.879897</td>\n",
       "      <td>57671.410544</td>\n",
       "      <td>0.098548</td>\n",
       "      <td>0.098548</td>\n",
       "      <td>0.098548</td>\n",
       "      <td>0.901452</td>\n",
       "      <td>0.670388</td>\n",
       "      <td>0.670388</td>\n",
       "    </tr>\n",
       "    <tr>\n",
       "      <th>22</th>\n",
       "      <td>HAVERI</td>\n",
       "      <td>186905.257331</td>\n",
       "      <td>130315.662167</td>\n",
       "      <td>0.338539</td>\n",
       "      <td>0.338539</td>\n",
       "      <td>0.338539</td>\n",
       "      <td>0.661461</td>\n",
       "      <td>0.918278</td>\n",
       "      <td>0.918278</td>\n",
       "    </tr>\n",
       "    <tr>\n",
       "      <th>23</th>\n",
       "      <td>UTTARA KANNADA</td>\n",
       "      <td>57138.605937</td>\n",
       "      <td>43804.561237</td>\n",
       "      <td>0.052737</td>\n",
       "      <td>0.052737</td>\n",
       "      <td>0.052737</td>\n",
       "      <td>0.947263</td>\n",
       "      <td>0.691044</td>\n",
       "      <td>0.691044</td>\n",
       "    </tr>\n",
       "    <tr>\n",
       "      <th>24</th>\n",
       "      <td>BALLARI</td>\n",
       "      <td>178192.334939</td>\n",
       "      <td>124507.047239</td>\n",
       "      <td>0.319350</td>\n",
       "      <td>0.319350</td>\n",
       "      <td>0.319350</td>\n",
       "      <td>0.680650</td>\n",
       "      <td>0.963346</td>\n",
       "      <td>0.963346</td>\n",
       "    </tr>\n",
       "    <tr>\n",
       "      <th>25</th>\n",
       "      <td>BIDAR</td>\n",
       "      <td>81537.922780</td>\n",
       "      <td>60070.772466</td>\n",
       "      <td>0.106475</td>\n",
       "      <td>0.106475</td>\n",
       "      <td>0.106475</td>\n",
       "      <td>0.893525</td>\n",
       "      <td>0.831222</td>\n",
       "      <td>0.831222</td>\n",
       "    </tr>\n",
       "    <tr>\n",
       "      <th>26</th>\n",
       "      <td>KALABURAGI</td>\n",
       "      <td>158170.373591</td>\n",
       "      <td>111159.073007</td>\n",
       "      <td>0.275253</td>\n",
       "      <td>0.275253</td>\n",
       "      <td>0.275253</td>\n",
       "      <td>0.724747</td>\n",
       "      <td>0.984128</td>\n",
       "      <td>0.984128</td>\n",
       "    </tr>\n",
       "    <tr>\n",
       "      <th>27</th>\n",
       "      <td>YADGIRI</td>\n",
       "      <td>255825.100282</td>\n",
       "      <td>176262.224134</td>\n",
       "      <td>0.490330</td>\n",
       "      <td>0.490330</td>\n",
       "      <td>0.490330</td>\n",
       "      <td>0.509670</td>\n",
       "      <td>0.906612</td>\n",
       "      <td>0.906612</td>\n",
       "    </tr>\n",
       "    <tr>\n",
       "      <th>28</th>\n",
       "      <td>RAICHUR</td>\n",
       "      <td>323329.354522</td>\n",
       "      <td>221265.060294</td>\n",
       "      <td>0.639004</td>\n",
       "      <td>0.639004</td>\n",
       "      <td>0.639004</td>\n",
       "      <td>0.360996</td>\n",
       "      <td>0.746291</td>\n",
       "      <td>0.746291</td>\n",
       "    </tr>\n",
       "    <tr>\n",
       "      <th>29</th>\n",
       "      <td>KOPPAL</td>\n",
       "      <td>209238.650429</td>\n",
       "      <td>145204.590899</td>\n",
       "      <td>0.387727</td>\n",
       "      <td>0.387727</td>\n",
       "      <td>0.387727</td>\n",
       "      <td>0.612273</td>\n",
       "      <td>0.978022</td>\n",
       "      <td>0.978022</td>\n",
       "    </tr>\n",
       "    <tr>\n",
       "      <th>30</th>\n",
       "      <td>Vijayanagara</td>\n",
       "      <td>178189.723152</td>\n",
       "      <td>124505.306047</td>\n",
       "      <td>0.319344</td>\n",
       "      <td>0.319344</td>\n",
       "      <td>0.319344</td>\n",
       "      <td>0.680656</td>\n",
       "      <td>0.989494</td>\n",
       "      <td>0.989494</td>\n",
       "    </tr>\n",
       "  </tbody>\n",
       "</table>\n",
       "</div>"
      ],
      "text/plain": [
       "            District  Rice_Production (TotalNPK +20%)  \\\n",
       "0          BENGALURU                     78017.233516   \n",
       "1       BENGALURU(R)                     67436.883213   \n",
       "2         RAMANAGARA                     36651.746452   \n",
       "3        CHITRADURGA                    110857.846873   \n",
       "4         DAVANAGERE                    277385.404343   \n",
       "5              KOLAR                     75092.031754   \n",
       "6    CHIKKABALLAPURA                     91198.923958   \n",
       "7         SHIVAMOGGA                    164987.138412   \n",
       "8           TUMAKURU                    116770.933292   \n",
       "9     CHIKKAMAGALURU                    194380.192549   \n",
       "10  DAKSHINA KANNADA                     65684.373943   \n",
       "11             UDUPI                     33193.740083   \n",
       "12            HASSAN                    195863.687729   \n",
       "13            KODAGU                    124081.325911   \n",
       "14            MANDYA                    175301.086412   \n",
       "15            MYSURU                    179103.848703   \n",
       "16    CHAMARAJANAGAR                     79304.844649   \n",
       "17          BELAGAVI                    487237.289342   \n",
       "18        VIJAYAPURA                    158768.472880   \n",
       "19          BAGALKOT                    238647.375290   \n",
       "20          DHARAWAD                    114767.692443   \n",
       "21             GADAG                     77938.879897   \n",
       "22            HAVERI                    186905.257331   \n",
       "23    UTTARA KANNADA                     57138.605937   \n",
       "24           BALLARI                    178192.334939   \n",
       "25             BIDAR                     81537.922780   \n",
       "26        KALABURAGI                    158170.373591   \n",
       "27           YADGIRI                    255825.100282   \n",
       "28           RAICHUR                    323329.354522   \n",
       "29            KOPPAL                    209238.650429   \n",
       "30      Vijayanagara                    178189.723152   \n",
       "\n",
       "    Rice_Production (TotalNPK -20%)  \\\n",
       "0                      57723.646290   \n",
       "1                      50670.079421   \n",
       "2                      30146.654914   \n",
       "3                      79617.388528   \n",
       "4                     190635.760174   \n",
       "5                      55773.511782   \n",
       "6                      66511.439917   \n",
       "7                     115703.582887   \n",
       "8                      83559.446141   \n",
       "9                     135298.952312   \n",
       "10                     49501.739908   \n",
       "11                     27841.317334   \n",
       "12                    136287.949098   \n",
       "13                     88433.041220   \n",
       "14                    122579.548220   \n",
       "15                    125114.723081   \n",
       "16                     58582.053712   \n",
       "17                    330537.016841   \n",
       "18                    111557.805866   \n",
       "19                    164810.407473   \n",
       "20                     82223.952241   \n",
       "21                     57671.410544   \n",
       "22                    130315.662167   \n",
       "23                     43804.561237   \n",
       "24                    124507.047239   \n",
       "25                     60070.772466   \n",
       "26                    111159.073007   \n",
       "27                    176262.224134   \n",
       "28                    221265.060294   \n",
       "29                    145204.590899   \n",
       "30                    124505.306047   \n",
       "\n",
       "    Normalized Rice_Production (TotalNPK +20%)  \\\n",
       "0                                     0.098721   \n",
       "1                                     0.075418   \n",
       "2                                     0.007616   \n",
       "3                                     0.171050   \n",
       "4                                     0.537816   \n",
       "5                                     0.092278   \n",
       "6                                     0.127752   \n",
       "7                                     0.290266   \n",
       "8                                     0.184073   \n",
       "9                                     0.355002   \n",
       "10                                    0.071558   \n",
       "11                                    0.000000   \n",
       "12                                    0.358269   \n",
       "13                                    0.200174   \n",
       "14                                    0.312982   \n",
       "15                                    0.321357   \n",
       "16                                    0.101557   \n",
       "17                                    1.000000   \n",
       "18                                    0.276570   \n",
       "19                                    0.452498   \n",
       "20                                    0.179661   \n",
       "21                                    0.098548   \n",
       "22                                    0.338539   \n",
       "23                                    0.052737   \n",
       "24                                    0.319350   \n",
       "25                                    0.106475   \n",
       "26                                    0.275253   \n",
       "27                                    0.490330   \n",
       "28                                    0.639004   \n",
       "29                                    0.387727   \n",
       "30                                    0.319344   \n",
       "\n",
       "    Normalized Rice_Production (TotalNPK -20%)  \\\n",
       "0                                     0.098721   \n",
       "1                                     0.075418   \n",
       "2                                     0.007616   \n",
       "3                                     0.171050   \n",
       "4                                     0.537816   \n",
       "5                                     0.092278   \n",
       "6                                     0.127752   \n",
       "7                                     0.290266   \n",
       "8                                     0.184073   \n",
       "9                                     0.355002   \n",
       "10                                    0.071558   \n",
       "11                                    0.000000   \n",
       "12                                    0.358269   \n",
       "13                                    0.200174   \n",
       "14                                    0.312982   \n",
       "15                                    0.321357   \n",
       "16                                    0.101557   \n",
       "17                                    1.000000   \n",
       "18                                    0.276570   \n",
       "19                                    0.452498   \n",
       "20                                    0.179661   \n",
       "21                                    0.098548   \n",
       "22                                    0.338539   \n",
       "23                                    0.052737   \n",
       "24                                    0.319350   \n",
       "25                                    0.106475   \n",
       "26                                    0.275253   \n",
       "27                                    0.490330   \n",
       "28                                    0.639004   \n",
       "29                                    0.387727   \n",
       "30                                    0.319344   \n",
       "\n",
       "    Impact Score Rice_Production (TotalNPK +20%)  \\\n",
       "0                                       0.098721   \n",
       "1                                       0.075418   \n",
       "2                                       0.007616   \n",
       "3                                       0.171050   \n",
       "4                                       0.537816   \n",
       "5                                       0.092278   \n",
       "6                                       0.127752   \n",
       "7                                       0.290266   \n",
       "8                                       0.184073   \n",
       "9                                       0.355002   \n",
       "10                                      0.071558   \n",
       "11                                      0.000000   \n",
       "12                                      0.358269   \n",
       "13                                      0.200174   \n",
       "14                                      0.312982   \n",
       "15                                      0.321357   \n",
       "16                                      0.101557   \n",
       "17                                      1.000000   \n",
       "18                                      0.276570   \n",
       "19                                      0.452498   \n",
       "20                                      0.179661   \n",
       "21                                      0.098548   \n",
       "22                                      0.338539   \n",
       "23                                      0.052737   \n",
       "24                                      0.319350   \n",
       "25                                      0.106475   \n",
       "26                                      0.275253   \n",
       "27                                      0.490330   \n",
       "28                                      0.639004   \n",
       "29                                      0.387727   \n",
       "30                                      0.319344   \n",
       "\n",
       "    Impact Score Rice_Production (TotalNPK -20%)  New Stability(NPK + 20%)  \\\n",
       "0                                       0.901279                  0.942796   \n",
       "1                                       0.924582                  0.973330   \n",
       "2                                       0.992384                  0.853066   \n",
       "3                                       0.828950                  0.827933   \n",
       "4                                       0.462184                  0.761110   \n",
       "5                                       0.907722                  0.990693   \n",
       "6                                       0.872248                  0.989504   \n",
       "7                                       0.709734                  0.966553   \n",
       "8                                       0.815927                  0.982917   \n",
       "9                                       0.644998                  0.875431   \n",
       "10                                      0.928442                  0.843197   \n",
       "11                                      1.000000                  0.807609   \n",
       "12                                      0.641731                  0.882588   \n",
       "13                                      0.799826                  0.949779   \n",
       "14                                      0.687018                  0.881593   \n",
       "15                                      0.678643                  0.921888   \n",
       "16                                      0.898443                  0.887572   \n",
       "17                                      0.000000                  0.212003   \n",
       "18                                      0.723430                  0.705153   \n",
       "19                                      0.547502                  0.972128   \n",
       "20                                      0.820339                  0.807205   \n",
       "21                                      0.901452                  0.670388   \n",
       "22                                      0.661461                  0.918278   \n",
       "23                                      0.947263                  0.691044   \n",
       "24                                      0.680650                  0.963346   \n",
       "25                                      0.893525                  0.831222   \n",
       "26                                      0.724747                  0.984128   \n",
       "27                                      0.509670                  0.906612   \n",
       "28                                      0.360996                  0.746291   \n",
       "29                                      0.612273                  0.978022   \n",
       "30                                      0.680656                  0.989494   \n",
       "\n",
       "    New Stability(NPK - 20%)  \n",
       "0                   0.942796  \n",
       "1                   0.973330  \n",
       "2                   0.853066  \n",
       "3                   0.827933  \n",
       "4                   0.761110  \n",
       "5                   0.990693  \n",
       "6                   0.989504  \n",
       "7                   0.966553  \n",
       "8                   0.982917  \n",
       "9                   0.875431  \n",
       "10                  0.843197  \n",
       "11                  0.807609  \n",
       "12                  0.882588  \n",
       "13                  0.949779  \n",
       "14                  0.881593  \n",
       "15                  0.921888  \n",
       "16                  0.887572  \n",
       "17                  0.212003  \n",
       "18                  0.705153  \n",
       "19                  0.972128  \n",
       "20                  0.807205  \n",
       "21                  0.670388  \n",
       "22                  0.918278  \n",
       "23                  0.691044  \n",
       "24                  0.963346  \n",
       "25                  0.831222  \n",
       "26                  0.984128  \n",
       "27                  0.906612  \n",
       "28                  0.746291  \n",
       "29                  0.978022  \n",
       "30                  0.989494  "
      ]
     },
     "execution_count": 96,
     "metadata": {},
     "output_type": "execute_result"
    }
   ],
   "source": [
    "new_data_20"
   ]
  },
  {
   "cell_type": "code",
   "execution_count": 97,
   "metadata": {},
   "outputs": [
    {
     "name": "stdout",
     "output_type": "stream",
     "text": [
      "2.1764894064966205 17136.471837471167\n"
     ]
    },
    {
     "data": {
      "application/vnd.plotly.v1+json": {
       "config": {
        "plotlyServerURL": "https://plot.ly"
       },
       "data": [
        {
         "hoverinfo": "text+name",
         "hoverlabel": {
          "bgcolor": "grey",
          "font": {
           "color": "white"
          }
         },
         "hovertemplate": "New Stability(NPK + 10%)=%{x}<br>Impact Score Rice_Production (TotalNPK +10%)=%{y}<extra></extra>",
         "hovertext": [
          "District: BENGALURU<br>Impact (Rice_Production): 0.0987206921147695 <br>Stability (TotalNPK +10%): 0.9427964151768252",
          "District: BENGALURU(R)<br>Impact (Rice_Production): 0.07541819102183568 <br>Stability (TotalNPK +10%): 0.9733301120544856",
          "District: RAMANAGARA<br>Impact (Rice_Production): 0.007616023561353942 <br>Stability (TotalNPK +10%): 0.853065967188974",
          "District: CHITRADURGA<br>Impact (Rice_Production): 0.17104990681300428 <br>Stability (TotalNPK +10%): 0.8279330894365062",
          "District: DAVANAGERE<br>Impact (Rice_Production): 0.5378155127585639 <br>Stability (TotalNPK +10%): 0.7611095771688028",
          "District: KOLAR<br>Impact (Rice_Production): 0.09227813441936472 <br>Stability (TotalNPK +10%): 0.9906928050436024",
          "District: CHIKKABALLAPURA<br>Impact (Rice_Production): 0.1277524677296885 <br>Stability (TotalNPK +10%): 0.9895039997545693",
          "District: SHIVAMOGGA<br>Impact (Rice_Production): 0.2902659855962809 <br>Stability (TotalNPK +10%): 0.9665527714502657",
          "District: TUMAKURU<br>Impact (Rice_Production): 0.18407307701157322 <br>Stability (TotalNPK +10%): 0.9829173610494795",
          "District: CHIKKAMAGALURU<br>Impact (Rice_Production): 0.3550021858677893 <br>Stability (TotalNPK +10%): 0.8754310103968418",
          "District: DAKSHINA KANNADA<br>Impact (Rice_Production): 0.07155840868824927 <br>Stability (TotalNPK +10%): 0.8431970617335082",
          "District: UDUPI<br>Impact (Rice_Production): 0.0 <br>Stability (TotalNPK +10%): 0.8076091208209659",
          "District: HASSAN<br>Impact (Rice_Production): 0.35826948298474515 <br>Stability (TotalNPK +10%): 0.8825882208570136",
          "District: KODAGU<br>Impact (Rice_Production): 0.20017371896642966 <br>Stability (TotalNPK +10%): 0.9497787288220091",
          "District: MANDYA<br>Impact (Rice_Production): 0.3129817537562416 <br>Stability (TotalNPK +10%): 0.8815926922988426",
          "District: MYSURU<br>Impact (Rice_Production): 0.3213570787602672 <br>Stability (TotalNPK +10%): 0.921888302155956",
          "District: CHAMARAJANAGAR<br>Impact (Rice_Production): 0.1015565679574792 <br>Stability (TotalNPK +10%): 0.8875716159315248",
          "District: BELAGAVI<br>Impact (Rice_Production): 1.0 <br>Stability (TotalNPK +10%): 0.21200271507788604",
          "District: VIJAYAPURA<br>Impact (Rice_Production): 0.2765697982098887 <br>Stability (TotalNPK +10%): 0.7051528956995927",
          "District: BAGALKOT<br>Impact (Rice_Production): 0.4524976415637002 <br>Stability (TotalNPK +10%): 0.9721278847702539",
          "District: DHARAWAD<br>Impact (Rice_Production): 0.1796610754469525 <br>Stability (TotalNPK +10%): 0.8072050228940889",
          "District: GADAG<br>Impact (Rice_Production): 0.09854812360507142 <br>Stability (TotalNPK +10%): 0.6703883941924944",
          "District: HAVERI<br>Impact (Rice_Production): 0.33853915004256707 <br>Stability (TotalNPK +10%): 0.9182781278453259",
          "District: UTTARA KANNADA<br>Impact (Rice_Production): 0.05273693656381584 <br>Stability (TotalNPK +10%): 0.6910436943466556",
          "District: BALLARI<br>Impact (Rice_Production): 0.3193495317641093 <br>Stability (TotalNPK +10%): 0.9633456267852623",
          "District: BIDAR<br>Impact (Rice_Production): 0.10647477048388199 <br>Stability (TotalNPK +10%): 0.8312222452313569",
          "District: KALABURAGI<br>Impact (Rice_Production): 0.27525252525252464 <br>Stability (TotalNPK +10%): 0.9841275319635228",
          "District: YADGIRI<br>Impact (Rice_Production): 0.49033041117323595 <br>Stability (TotalNPK +10%): 0.9066116748349095",
          "District: RAICHUR<br>Impact (Rice_Production): 0.639003934562021 <br>Stability (TotalNPK +10%): 0.7462909274982168",
          "District: KOPPAL<br>Impact (Rice_Production): 0.38772692759025273 <br>Stability (TotalNPK +10%): 0.9780216746048181",
          "District: Vijayanagara<br>Impact (Rice_Production): 0.3193437794804532 <br>Stability (TotalNPK +10%): 0.9894944126151416"
         ],
         "legendgroup": "",
         "marker": {
          "color": "#636efa",
          "symbol": "circle"
         },
         "mode": "markers",
         "name": "",
         "orientation": "v",
         "showlegend": false,
         "type": "scatter",
         "x": [
          0.9427964151768252,
          0.9733301120544856,
          0.853065967188974,
          0.8279330894365062,
          0.7611095771688028,
          0.9906928050436024,
          0.9895039997545693,
          0.9665527714502657,
          0.9829173610494795,
          0.8754310103968418,
          0.8431970617335082,
          0.8076091208209659,
          0.8825882208570136,
          0.9497787288220091,
          0.8815926922988426,
          0.921888302155956,
          0.8875716159315248,
          0.21200271507788604,
          0.7051528956995927,
          0.9721278847702539,
          0.8072050228940889,
          0.6703883941924944,
          0.9182781278453259,
          0.6910436943466556,
          0.9633456267852623,
          0.8312222452313569,
          0.9841275319635228,
          0.9066116748349095,
          0.7462909274982168,
          0.9780216746048181,
          0.9894944126151416
         ],
         "xaxis": "x",
         "y": [
          0.0987206921147695,
          0.07541819102183568,
          0.007616023561353942,
          0.17104990681300428,
          0.5378155127585639,
          0.09227813441936472,
          0.1277524677296885,
          0.2902659855962809,
          0.18407307701157322,
          0.3550021858677893,
          0.07155840868824927,
          0,
          0.35826948298474515,
          0.20017371896642966,
          0.3129817537562416,
          0.3213570787602672,
          0.1015565679574792,
          1,
          0.2765697982098887,
          0.4524976415637002,
          0.1796610754469525,
          0.09854812360507142,
          0.33853915004256707,
          0.05273693656381584,
          0.3193495317641093,
          0.10647477048388199,
          0.27525252525252464,
          0.49033041117323595,
          0.639003934562021,
          0.38772692759025273,
          0.3193437794804532
         ],
         "yaxis": "y"
        }
       ],
       "layout": {
        "annotations": [
         {
          "arrowcolor": "red",
          "arrowhead": 4,
          "ax": 0,
          "ay": -40,
          "font": {
           "color": "red"
          },
          "showarrow": true,
          "text": "Avg New Stability(NPK + 10%)",
          "x": 0.8617055380548287,
          "y": 1
         },
         {
          "arrowcolor": "blue",
          "arrowhead": 4,
          "ax": -40,
          "ay": 0,
          "font": {
           "color": "blue"
          },
          "showarrow": true,
          "text": "Avg Normalized Rice_Production",
          "x": 0.9906928050436024,
          "y": 0.2658685094756812
         }
        ],
        "height": 500,
        "legend": {
         "tracegroupgap": 0
        },
        "shapes": [
         {
          "line": {
           "color": "red",
           "width": 2
          },
          "type": "line",
          "x0": 0.8617055380548287,
          "x1": 0.8617055380548287,
          "y0": 0,
          "y1": 1
         },
         {
          "line": {
           "color": "blue",
           "width": 2
          },
          "type": "line",
          "x0": 0.21200271507788604,
          "x1": 0.9906928050436024,
          "y0": 0.2658685094756812,
          "y1": 0.2658685094756812
         }
        ],
        "template": {
         "data": {
          "bar": [
           {
            "error_x": {
             "color": "#2a3f5f"
            },
            "error_y": {
             "color": "#2a3f5f"
            },
            "marker": {
             "line": {
              "color": "#E5ECF6",
              "width": 0.5
             },
             "pattern": {
              "fillmode": "overlay",
              "size": 10,
              "solidity": 0.2
             }
            },
            "type": "bar"
           }
          ],
          "barpolar": [
           {
            "marker": {
             "line": {
              "color": "#E5ECF6",
              "width": 0.5
             },
             "pattern": {
              "fillmode": "overlay",
              "size": 10,
              "solidity": 0.2
             }
            },
            "type": "barpolar"
           }
          ],
          "carpet": [
           {
            "aaxis": {
             "endlinecolor": "#2a3f5f",
             "gridcolor": "white",
             "linecolor": "white",
             "minorgridcolor": "white",
             "startlinecolor": "#2a3f5f"
            },
            "baxis": {
             "endlinecolor": "#2a3f5f",
             "gridcolor": "white",
             "linecolor": "white",
             "minorgridcolor": "white",
             "startlinecolor": "#2a3f5f"
            },
            "type": "carpet"
           }
          ],
          "choropleth": [
           {
            "colorbar": {
             "outlinewidth": 0,
             "ticks": ""
            },
            "type": "choropleth"
           }
          ],
          "contour": [
           {
            "colorbar": {
             "outlinewidth": 0,
             "ticks": ""
            },
            "colorscale": [
             [
              0,
              "#0d0887"
             ],
             [
              0.1111111111111111,
              "#46039f"
             ],
             [
              0.2222222222222222,
              "#7201a8"
             ],
             [
              0.3333333333333333,
              "#9c179e"
             ],
             [
              0.4444444444444444,
              "#bd3786"
             ],
             [
              0.5555555555555556,
              "#d8576b"
             ],
             [
              0.6666666666666666,
              "#ed7953"
             ],
             [
              0.7777777777777778,
              "#fb9f3a"
             ],
             [
              0.8888888888888888,
              "#fdca26"
             ],
             [
              1,
              "#f0f921"
             ]
            ],
            "type": "contour"
           }
          ],
          "contourcarpet": [
           {
            "colorbar": {
             "outlinewidth": 0,
             "ticks": ""
            },
            "type": "contourcarpet"
           }
          ],
          "heatmap": [
           {
            "colorbar": {
             "outlinewidth": 0,
             "ticks": ""
            },
            "colorscale": [
             [
              0,
              "#0d0887"
             ],
             [
              0.1111111111111111,
              "#46039f"
             ],
             [
              0.2222222222222222,
              "#7201a8"
             ],
             [
              0.3333333333333333,
              "#9c179e"
             ],
             [
              0.4444444444444444,
              "#bd3786"
             ],
             [
              0.5555555555555556,
              "#d8576b"
             ],
             [
              0.6666666666666666,
              "#ed7953"
             ],
             [
              0.7777777777777778,
              "#fb9f3a"
             ],
             [
              0.8888888888888888,
              "#fdca26"
             ],
             [
              1,
              "#f0f921"
             ]
            ],
            "type": "heatmap"
           }
          ],
          "heatmapgl": [
           {
            "colorbar": {
             "outlinewidth": 0,
             "ticks": ""
            },
            "colorscale": [
             [
              0,
              "#0d0887"
             ],
             [
              0.1111111111111111,
              "#46039f"
             ],
             [
              0.2222222222222222,
              "#7201a8"
             ],
             [
              0.3333333333333333,
              "#9c179e"
             ],
             [
              0.4444444444444444,
              "#bd3786"
             ],
             [
              0.5555555555555556,
              "#d8576b"
             ],
             [
              0.6666666666666666,
              "#ed7953"
             ],
             [
              0.7777777777777778,
              "#fb9f3a"
             ],
             [
              0.8888888888888888,
              "#fdca26"
             ],
             [
              1,
              "#f0f921"
             ]
            ],
            "type": "heatmapgl"
           }
          ],
          "histogram": [
           {
            "marker": {
             "pattern": {
              "fillmode": "overlay",
              "size": 10,
              "solidity": 0.2
             }
            },
            "type": "histogram"
           }
          ],
          "histogram2d": [
           {
            "colorbar": {
             "outlinewidth": 0,
             "ticks": ""
            },
            "colorscale": [
             [
              0,
              "#0d0887"
             ],
             [
              0.1111111111111111,
              "#46039f"
             ],
             [
              0.2222222222222222,
              "#7201a8"
             ],
             [
              0.3333333333333333,
              "#9c179e"
             ],
             [
              0.4444444444444444,
              "#bd3786"
             ],
             [
              0.5555555555555556,
              "#d8576b"
             ],
             [
              0.6666666666666666,
              "#ed7953"
             ],
             [
              0.7777777777777778,
              "#fb9f3a"
             ],
             [
              0.8888888888888888,
              "#fdca26"
             ],
             [
              1,
              "#f0f921"
             ]
            ],
            "type": "histogram2d"
           }
          ],
          "histogram2dcontour": [
           {
            "colorbar": {
             "outlinewidth": 0,
             "ticks": ""
            },
            "colorscale": [
             [
              0,
              "#0d0887"
             ],
             [
              0.1111111111111111,
              "#46039f"
             ],
             [
              0.2222222222222222,
              "#7201a8"
             ],
             [
              0.3333333333333333,
              "#9c179e"
             ],
             [
              0.4444444444444444,
              "#bd3786"
             ],
             [
              0.5555555555555556,
              "#d8576b"
             ],
             [
              0.6666666666666666,
              "#ed7953"
             ],
             [
              0.7777777777777778,
              "#fb9f3a"
             ],
             [
              0.8888888888888888,
              "#fdca26"
             ],
             [
              1,
              "#f0f921"
             ]
            ],
            "type": "histogram2dcontour"
           }
          ],
          "mesh3d": [
           {
            "colorbar": {
             "outlinewidth": 0,
             "ticks": ""
            },
            "type": "mesh3d"
           }
          ],
          "parcoords": [
           {
            "line": {
             "colorbar": {
              "outlinewidth": 0,
              "ticks": ""
             }
            },
            "type": "parcoords"
           }
          ],
          "pie": [
           {
            "automargin": true,
            "type": "pie"
           }
          ],
          "scatter": [
           {
            "fillpattern": {
             "fillmode": "overlay",
             "size": 10,
             "solidity": 0.2
            },
            "type": "scatter"
           }
          ],
          "scatter3d": [
           {
            "line": {
             "colorbar": {
              "outlinewidth": 0,
              "ticks": ""
             }
            },
            "marker": {
             "colorbar": {
              "outlinewidth": 0,
              "ticks": ""
             }
            },
            "type": "scatter3d"
           }
          ],
          "scattercarpet": [
           {
            "marker": {
             "colorbar": {
              "outlinewidth": 0,
              "ticks": ""
             }
            },
            "type": "scattercarpet"
           }
          ],
          "scattergeo": [
           {
            "marker": {
             "colorbar": {
              "outlinewidth": 0,
              "ticks": ""
             }
            },
            "type": "scattergeo"
           }
          ],
          "scattergl": [
           {
            "marker": {
             "colorbar": {
              "outlinewidth": 0,
              "ticks": ""
             }
            },
            "type": "scattergl"
           }
          ],
          "scattermapbox": [
           {
            "marker": {
             "colorbar": {
              "outlinewidth": 0,
              "ticks": ""
             }
            },
            "type": "scattermapbox"
           }
          ],
          "scatterpolar": [
           {
            "marker": {
             "colorbar": {
              "outlinewidth": 0,
              "ticks": ""
             }
            },
            "type": "scatterpolar"
           }
          ],
          "scatterpolargl": [
           {
            "marker": {
             "colorbar": {
              "outlinewidth": 0,
              "ticks": ""
             }
            },
            "type": "scatterpolargl"
           }
          ],
          "scatterternary": [
           {
            "marker": {
             "colorbar": {
              "outlinewidth": 0,
              "ticks": ""
             }
            },
            "type": "scatterternary"
           }
          ],
          "surface": [
           {
            "colorbar": {
             "outlinewidth": 0,
             "ticks": ""
            },
            "colorscale": [
             [
              0,
              "#0d0887"
             ],
             [
              0.1111111111111111,
              "#46039f"
             ],
             [
              0.2222222222222222,
              "#7201a8"
             ],
             [
              0.3333333333333333,
              "#9c179e"
             ],
             [
              0.4444444444444444,
              "#bd3786"
             ],
             [
              0.5555555555555556,
              "#d8576b"
             ],
             [
              0.6666666666666666,
              "#ed7953"
             ],
             [
              0.7777777777777778,
              "#fb9f3a"
             ],
             [
              0.8888888888888888,
              "#fdca26"
             ],
             [
              1,
              "#f0f921"
             ]
            ],
            "type": "surface"
           }
          ],
          "table": [
           {
            "cells": {
             "fill": {
              "color": "#EBF0F8"
             },
             "line": {
              "color": "white"
             }
            },
            "header": {
             "fill": {
              "color": "#C8D4E3"
             },
             "line": {
              "color": "white"
             }
            },
            "type": "table"
           }
          ]
         },
         "layout": {
          "annotationdefaults": {
           "arrowcolor": "#2a3f5f",
           "arrowhead": 0,
           "arrowwidth": 1
          },
          "autotypenumbers": "strict",
          "coloraxis": {
           "colorbar": {
            "outlinewidth": 0,
            "ticks": ""
           }
          },
          "colorscale": {
           "diverging": [
            [
             0,
             "#8e0152"
            ],
            [
             0.1,
             "#c51b7d"
            ],
            [
             0.2,
             "#de77ae"
            ],
            [
             0.3,
             "#f1b6da"
            ],
            [
             0.4,
             "#fde0ef"
            ],
            [
             0.5,
             "#f7f7f7"
            ],
            [
             0.6,
             "#e6f5d0"
            ],
            [
             0.7,
             "#b8e186"
            ],
            [
             0.8,
             "#7fbc41"
            ],
            [
             0.9,
             "#4d9221"
            ],
            [
             1,
             "#276419"
            ]
           ],
           "sequential": [
            [
             0,
             "#0d0887"
            ],
            [
             0.1111111111111111,
             "#46039f"
            ],
            [
             0.2222222222222222,
             "#7201a8"
            ],
            [
             0.3333333333333333,
             "#9c179e"
            ],
            [
             0.4444444444444444,
             "#bd3786"
            ],
            [
             0.5555555555555556,
             "#d8576b"
            ],
            [
             0.6666666666666666,
             "#ed7953"
            ],
            [
             0.7777777777777778,
             "#fb9f3a"
            ],
            [
             0.8888888888888888,
             "#fdca26"
            ],
            [
             1,
             "#f0f921"
            ]
           ],
           "sequentialminus": [
            [
             0,
             "#0d0887"
            ],
            [
             0.1111111111111111,
             "#46039f"
            ],
            [
             0.2222222222222222,
             "#7201a8"
            ],
            [
             0.3333333333333333,
             "#9c179e"
            ],
            [
             0.4444444444444444,
             "#bd3786"
            ],
            [
             0.5555555555555556,
             "#d8576b"
            ],
            [
             0.6666666666666666,
             "#ed7953"
            ],
            [
             0.7777777777777778,
             "#fb9f3a"
            ],
            [
             0.8888888888888888,
             "#fdca26"
            ],
            [
             1,
             "#f0f921"
            ]
           ]
          },
          "colorway": [
           "#636efa",
           "#EF553B",
           "#00cc96",
           "#ab63fa",
           "#FFA15A",
           "#19d3f3",
           "#FF6692",
           "#B6E880",
           "#FF97FF",
           "#FECB52"
          ],
          "font": {
           "color": "#2a3f5f"
          },
          "geo": {
           "bgcolor": "white",
           "lakecolor": "white",
           "landcolor": "#E5ECF6",
           "showlakes": true,
           "showland": true,
           "subunitcolor": "white"
          },
          "hoverlabel": {
           "align": "left"
          },
          "hovermode": "closest",
          "mapbox": {
           "style": "light"
          },
          "paper_bgcolor": "white",
          "plot_bgcolor": "#E5ECF6",
          "polar": {
           "angularaxis": {
            "gridcolor": "white",
            "linecolor": "white",
            "ticks": ""
           },
           "bgcolor": "#E5ECF6",
           "radialaxis": {
            "gridcolor": "white",
            "linecolor": "white",
            "ticks": ""
           }
          },
          "scene": {
           "xaxis": {
            "backgroundcolor": "#E5ECF6",
            "gridcolor": "white",
            "gridwidth": 2,
            "linecolor": "white",
            "showbackground": true,
            "ticks": "",
            "zerolinecolor": "white"
           },
           "yaxis": {
            "backgroundcolor": "#E5ECF6",
            "gridcolor": "white",
            "gridwidth": 2,
            "linecolor": "white",
            "showbackground": true,
            "ticks": "",
            "zerolinecolor": "white"
           },
           "zaxis": {
            "backgroundcolor": "#E5ECF6",
            "gridcolor": "white",
            "gridwidth": 2,
            "linecolor": "white",
            "showbackground": true,
            "ticks": "",
            "zerolinecolor": "white"
           }
          },
          "shapedefaults": {
           "line": {
            "color": "#2a3f5f"
           }
          },
          "ternary": {
           "aaxis": {
            "gridcolor": "white",
            "linecolor": "white",
            "ticks": ""
           },
           "baxis": {
            "gridcolor": "white",
            "linecolor": "white",
            "ticks": ""
           },
           "bgcolor": "#E5ECF6",
           "caxis": {
            "gridcolor": "white",
            "linecolor": "white",
            "ticks": ""
           }
          },
          "title": {
           "x": 0.05
          },
          "xaxis": {
           "automargin": true,
           "gridcolor": "white",
           "linecolor": "white",
           "ticks": "",
           "title": {
            "standoff": 15
           },
           "zerolinecolor": "white",
           "zerolinewidth": 2
          },
          "yaxis": {
           "automargin": true,
           "gridcolor": "white",
           "linecolor": "white",
           "ticks": "",
           "title": {
            "standoff": 15
           },
           "zerolinecolor": "white",
           "zerolinewidth": 2
          }
         }
        },
        "title": {
         "text": "Impact vs Stability (Rice_Production - TotalNPK +10%)"
        },
        "width": 800,
        "xaxis": {
         "anchor": "y",
         "domain": [
          0,
          1
         ],
         "title": {
          "text": "New Stability(NPK + 10%)"
         }
        },
        "yaxis": {
         "anchor": "x",
         "domain": [
          0,
          1
         ],
         "title": {
          "text": "Impact Score Rice_Production (TotalNPK +10%)"
         }
        }
       }
      }
     },
     "metadata": {},
     "output_type": "display_data"
    },
    {
     "data": {
      "application/vnd.plotly.v1+json": {
       "config": {
        "plotlyServerURL": "https://plot.ly"
       },
       "data": [
        {
         "hoverinfo": "text+name",
         "hovertemplate": "New Stability(NPK - 10%)=%{x}<br>Impact Score Rice_Production (TotalNPK -10%)=%{y}<extra></extra>",
         "hovertext": [
          "District: BENGALURU<br>Impact (Rice_Production): 0.9012793078852301 <br>Stability (TotalNPK -10%): 0.9427964151768252",
          "District: BENGALURU(R)<br>Impact (Rice_Production): 0.9245818089781641 <br>Stability (TotalNPK -10%): 0.9733301120544856",
          "District: RAMANAGARA<br>Impact (Rice_Production): 0.992383976438646 <br>Stability (TotalNPK -10%): 0.853065967188974",
          "District: CHITRADURGA<br>Impact (Rice_Production): 0.8289500931869949 <br>Stability (TotalNPK -10%): 0.8279330894365065",
          "District: DAVANAGERE<br>Impact (Rice_Production): 0.46218448724143313 <br>Stability (TotalNPK -10%): 0.7611095771688028",
          "District: KOLAR<br>Impact (Rice_Production): 0.9077218655806352 <br>Stability (TotalNPK -10%): 0.9906928050436022",
          "District: CHIKKABALLAPURA<br>Impact (Rice_Production): 0.8722475322703108 <br>Stability (TotalNPK -10%): 0.9895039997545693",
          "District: SHIVAMOGGA<br>Impact (Rice_Production): 0.7097340144037174 <br>Stability (TotalNPK -10%): 0.9665527714502657",
          "District: TUMAKURU<br>Impact (Rice_Production): 0.8159269229884258 <br>Stability (TotalNPK -10%): 0.9829173610494795",
          "District: CHIKKAMAGALURU<br>Impact (Rice_Production): 0.6449978141322099 <br>Stability (TotalNPK -10%): 0.8754310103968418",
          "District: DAKSHINA KANNADA<br>Impact (Rice_Production): 0.9284415913117505 <br>Stability (TotalNPK -10%): 0.8431970617335083",
          "District: UDUPI<br>Impact (Rice_Production): 0.9999999999999998 <br>Stability (TotalNPK -10%): 0.8076091208209659",
          "District: HASSAN<br>Impact (Rice_Production): 0.6417305170152541 <br>Stability (TotalNPK -10%): 0.8825882208570136",
          "District: KODAGU<br>Impact (Rice_Production): 0.7998262810335698 <br>Stability (TotalNPK -10%): 0.949778728822009",
          "District: MANDYA<br>Impact (Rice_Production): 0.6870182462437586 <br>Stability (TotalNPK -10%): 0.8815926922988426",
          "District: MYSURU<br>Impact (Rice_Production): 0.6786429212397314 <br>Stability (TotalNPK -10%): 0.921888302155956",
          "District: CHAMARAJANAGAR<br>Impact (Rice_Production): 0.8984434320425206 <br>Stability (TotalNPK -10%): 0.8875716159315248",
          "District: BELAGAVI<br>Impact (Rice_Production): 0.0 <br>Stability (TotalNPK -10%): 0.21200271507788593",
          "District: VIJAYAPURA<br>Impact (Rice_Production): 0.72343020179011 <br>Stability (TotalNPK -10%): 0.7051528956995927",
          "District: BAGALKOT<br>Impact (Rice_Production): 0.5475023584362986 <br>Stability (TotalNPK -10%): 0.9721278847702538",
          "District: DHARAWAD<br>Impact (Rice_Production): 0.8203389245530475 <br>Stability (TotalNPK -10%): 0.807205022894089",
          "District: GADAG<br>Impact (Rice_Production): 0.9014518763949284 <br>Stability (TotalNPK -10%): 0.6703883941924944",
          "District: HAVERI<br>Impact (Rice_Production): 0.6614608499574322 <br>Stability (TotalNPK -10%): 0.918278127845326",
          "District: UTTARA KANNADA<br>Impact (Rice_Production): 0.947263063436184 <br>Stability (TotalNPK -10%): 0.6910436943466556",
          "District: BALLARI<br>Impact (Rice_Production): 0.6806504682358885 <br>Stability (TotalNPK -10%): 0.9633456267852623",
          "District: BIDAR<br>Impact (Rice_Production): 0.8935252295161175 <br>Stability (TotalNPK -10%): 0.8312222452313569",
          "District: KALABURAGI<br>Impact (Rice_Production): 0.7247474747474737 <br>Stability (TotalNPK -10%): 0.9841275319635229",
          "District: YADGIRI<br>Impact (Rice_Production): 0.5096695888267628 <br>Stability (TotalNPK -10%): 0.9066116748349096",
          "District: RAICHUR<br>Impact (Rice_Production): 0.36099606543797724 <br>Stability (TotalNPK -10%): 0.7462909274982168",
          "District: KOPPAL<br>Impact (Rice_Production): 0.6122730724097463 <br>Stability (TotalNPK -10%): 0.978021674604818",
          "District: Vijayanagara<br>Impact (Rice_Production): 0.6806562205195461 <br>Stability (TotalNPK -10%): 0.9894944126151415"
         ],
         "legendgroup": "",
         "marker": {
          "color": "#636efa",
          "symbol": "circle"
         },
         "mode": "markers",
         "name": "",
         "orientation": "v",
         "showlegend": false,
         "type": "scatter",
         "x": [
          0.9427964151768252,
          0.9733301120544856,
          0.853065967188974,
          0.8279330894365065,
          0.7611095771688028,
          0.9906928050436022,
          0.9895039997545693,
          0.9665527714502657,
          0.9829173610494795,
          0.8754310103968418,
          0.8431970617335083,
          0.8076091208209659,
          0.8825882208570136,
          0.949778728822009,
          0.8815926922988426,
          0.921888302155956,
          0.8875716159315248,
          0.21200271507788593,
          0.7051528956995927,
          0.9721278847702538,
          0.807205022894089,
          0.6703883941924944,
          0.918278127845326,
          0.6910436943466556,
          0.9633456267852623,
          0.8312222452313569,
          0.9841275319635229,
          0.9066116748349096,
          0.7462909274982168,
          0.978021674604818,
          0.9894944126151415
         ],
         "xaxis": "x",
         "y": [
          0.9012793078852301,
          0.9245818089781641,
          0.992383976438646,
          0.8289500931869949,
          0.46218448724143313,
          0.9077218655806352,
          0.8722475322703108,
          0.7097340144037174,
          0.8159269229884258,
          0.6449978141322099,
          0.9284415913117505,
          0.9999999999999998,
          0.6417305170152541,
          0.7998262810335698,
          0.6870182462437586,
          0.6786429212397314,
          0.8984434320425206,
          0,
          0.72343020179011,
          0.5475023584362986,
          0.8203389245530475,
          0.9014518763949284,
          0.6614608499574322,
          0.947263063436184,
          0.6806504682358885,
          0.8935252295161175,
          0.7247474747474737,
          0.5096695888267628,
          0.36099606543797724,
          0.6122730724097463,
          0.6806562205195461
         ],
         "yaxis": "y"
        }
       ],
       "layout": {
        "annotations": [
         {
          "arrowcolor": "red",
          "arrowhead": 4,
          "ax": 0,
          "ay": -40,
          "font": {
           "color": "red"
          },
          "showarrow": true,
          "text": "Avg New Stability(NPK - 10%)",
          "x": 0.8617055380548287,
          "y": 0.9999999999999998
         },
         {
          "arrowcolor": "blue",
          "arrowhead": 4,
          "ax": -40,
          "ay": 0,
          "font": {
           "color": "blue"
          },
          "showarrow": true,
          "text": "Avg Normalized Rice_Production",
          "x": 0.9906928050436022,
          "y": 0.2658685094756812
         }
        ],
        "height": 500,
        "legend": {
         "tracegroupgap": 0
        },
        "shapes": [
         {
          "line": {
           "color": "red",
           "width": 2
          },
          "type": "line",
          "x0": 0.8617055380548287,
          "x1": 0.8617055380548287,
          "y0": 0,
          "y1": 0.9999999999999998
         },
         {
          "line": {
           "color": "blue",
           "width": 2
          },
          "type": "line",
          "x0": 0.21200271507788593,
          "x1": 0.9906928050436022,
          "y0": 0.2658685094756812,
          "y1": 0.2658685094756812
         }
        ],
        "template": {
         "data": {
          "bar": [
           {
            "error_x": {
             "color": "#2a3f5f"
            },
            "error_y": {
             "color": "#2a3f5f"
            },
            "marker": {
             "line": {
              "color": "#E5ECF6",
              "width": 0.5
             },
             "pattern": {
              "fillmode": "overlay",
              "size": 10,
              "solidity": 0.2
             }
            },
            "type": "bar"
           }
          ],
          "barpolar": [
           {
            "marker": {
             "line": {
              "color": "#E5ECF6",
              "width": 0.5
             },
             "pattern": {
              "fillmode": "overlay",
              "size": 10,
              "solidity": 0.2
             }
            },
            "type": "barpolar"
           }
          ],
          "carpet": [
           {
            "aaxis": {
             "endlinecolor": "#2a3f5f",
             "gridcolor": "white",
             "linecolor": "white",
             "minorgridcolor": "white",
             "startlinecolor": "#2a3f5f"
            },
            "baxis": {
             "endlinecolor": "#2a3f5f",
             "gridcolor": "white",
             "linecolor": "white",
             "minorgridcolor": "white",
             "startlinecolor": "#2a3f5f"
            },
            "type": "carpet"
           }
          ],
          "choropleth": [
           {
            "colorbar": {
             "outlinewidth": 0,
             "ticks": ""
            },
            "type": "choropleth"
           }
          ],
          "contour": [
           {
            "colorbar": {
             "outlinewidth": 0,
             "ticks": ""
            },
            "colorscale": [
             [
              0,
              "#0d0887"
             ],
             [
              0.1111111111111111,
              "#46039f"
             ],
             [
              0.2222222222222222,
              "#7201a8"
             ],
             [
              0.3333333333333333,
              "#9c179e"
             ],
             [
              0.4444444444444444,
              "#bd3786"
             ],
             [
              0.5555555555555556,
              "#d8576b"
             ],
             [
              0.6666666666666666,
              "#ed7953"
             ],
             [
              0.7777777777777778,
              "#fb9f3a"
             ],
             [
              0.8888888888888888,
              "#fdca26"
             ],
             [
              1,
              "#f0f921"
             ]
            ],
            "type": "contour"
           }
          ],
          "contourcarpet": [
           {
            "colorbar": {
             "outlinewidth": 0,
             "ticks": ""
            },
            "type": "contourcarpet"
           }
          ],
          "heatmap": [
           {
            "colorbar": {
             "outlinewidth": 0,
             "ticks": ""
            },
            "colorscale": [
             [
              0,
              "#0d0887"
             ],
             [
              0.1111111111111111,
              "#46039f"
             ],
             [
              0.2222222222222222,
              "#7201a8"
             ],
             [
              0.3333333333333333,
              "#9c179e"
             ],
             [
              0.4444444444444444,
              "#bd3786"
             ],
             [
              0.5555555555555556,
              "#d8576b"
             ],
             [
              0.6666666666666666,
              "#ed7953"
             ],
             [
              0.7777777777777778,
              "#fb9f3a"
             ],
             [
              0.8888888888888888,
              "#fdca26"
             ],
             [
              1,
              "#f0f921"
             ]
            ],
            "type": "heatmap"
           }
          ],
          "heatmapgl": [
           {
            "colorbar": {
             "outlinewidth": 0,
             "ticks": ""
            },
            "colorscale": [
             [
              0,
              "#0d0887"
             ],
             [
              0.1111111111111111,
              "#46039f"
             ],
             [
              0.2222222222222222,
              "#7201a8"
             ],
             [
              0.3333333333333333,
              "#9c179e"
             ],
             [
              0.4444444444444444,
              "#bd3786"
             ],
             [
              0.5555555555555556,
              "#d8576b"
             ],
             [
              0.6666666666666666,
              "#ed7953"
             ],
             [
              0.7777777777777778,
              "#fb9f3a"
             ],
             [
              0.8888888888888888,
              "#fdca26"
             ],
             [
              1,
              "#f0f921"
             ]
            ],
            "type": "heatmapgl"
           }
          ],
          "histogram": [
           {
            "marker": {
             "pattern": {
              "fillmode": "overlay",
              "size": 10,
              "solidity": 0.2
             }
            },
            "type": "histogram"
           }
          ],
          "histogram2d": [
           {
            "colorbar": {
             "outlinewidth": 0,
             "ticks": ""
            },
            "colorscale": [
             [
              0,
              "#0d0887"
             ],
             [
              0.1111111111111111,
              "#46039f"
             ],
             [
              0.2222222222222222,
              "#7201a8"
             ],
             [
              0.3333333333333333,
              "#9c179e"
             ],
             [
              0.4444444444444444,
              "#bd3786"
             ],
             [
              0.5555555555555556,
              "#d8576b"
             ],
             [
              0.6666666666666666,
              "#ed7953"
             ],
             [
              0.7777777777777778,
              "#fb9f3a"
             ],
             [
              0.8888888888888888,
              "#fdca26"
             ],
             [
              1,
              "#f0f921"
             ]
            ],
            "type": "histogram2d"
           }
          ],
          "histogram2dcontour": [
           {
            "colorbar": {
             "outlinewidth": 0,
             "ticks": ""
            },
            "colorscale": [
             [
              0,
              "#0d0887"
             ],
             [
              0.1111111111111111,
              "#46039f"
             ],
             [
              0.2222222222222222,
              "#7201a8"
             ],
             [
              0.3333333333333333,
              "#9c179e"
             ],
             [
              0.4444444444444444,
              "#bd3786"
             ],
             [
              0.5555555555555556,
              "#d8576b"
             ],
             [
              0.6666666666666666,
              "#ed7953"
             ],
             [
              0.7777777777777778,
              "#fb9f3a"
             ],
             [
              0.8888888888888888,
              "#fdca26"
             ],
             [
              1,
              "#f0f921"
             ]
            ],
            "type": "histogram2dcontour"
           }
          ],
          "mesh3d": [
           {
            "colorbar": {
             "outlinewidth": 0,
             "ticks": ""
            },
            "type": "mesh3d"
           }
          ],
          "parcoords": [
           {
            "line": {
             "colorbar": {
              "outlinewidth": 0,
              "ticks": ""
             }
            },
            "type": "parcoords"
           }
          ],
          "pie": [
           {
            "automargin": true,
            "type": "pie"
           }
          ],
          "scatter": [
           {
            "fillpattern": {
             "fillmode": "overlay",
             "size": 10,
             "solidity": 0.2
            },
            "type": "scatter"
           }
          ],
          "scatter3d": [
           {
            "line": {
             "colorbar": {
              "outlinewidth": 0,
              "ticks": ""
             }
            },
            "marker": {
             "colorbar": {
              "outlinewidth": 0,
              "ticks": ""
             }
            },
            "type": "scatter3d"
           }
          ],
          "scattercarpet": [
           {
            "marker": {
             "colorbar": {
              "outlinewidth": 0,
              "ticks": ""
             }
            },
            "type": "scattercarpet"
           }
          ],
          "scattergeo": [
           {
            "marker": {
             "colorbar": {
              "outlinewidth": 0,
              "ticks": ""
             }
            },
            "type": "scattergeo"
           }
          ],
          "scattergl": [
           {
            "marker": {
             "colorbar": {
              "outlinewidth": 0,
              "ticks": ""
             }
            },
            "type": "scattergl"
           }
          ],
          "scattermapbox": [
           {
            "marker": {
             "colorbar": {
              "outlinewidth": 0,
              "ticks": ""
             }
            },
            "type": "scattermapbox"
           }
          ],
          "scatterpolar": [
           {
            "marker": {
             "colorbar": {
              "outlinewidth": 0,
              "ticks": ""
             }
            },
            "type": "scatterpolar"
           }
          ],
          "scatterpolargl": [
           {
            "marker": {
             "colorbar": {
              "outlinewidth": 0,
              "ticks": ""
             }
            },
            "type": "scatterpolargl"
           }
          ],
          "scatterternary": [
           {
            "marker": {
             "colorbar": {
              "outlinewidth": 0,
              "ticks": ""
             }
            },
            "type": "scatterternary"
           }
          ],
          "surface": [
           {
            "colorbar": {
             "outlinewidth": 0,
             "ticks": ""
            },
            "colorscale": [
             [
              0,
              "#0d0887"
             ],
             [
              0.1111111111111111,
              "#46039f"
             ],
             [
              0.2222222222222222,
              "#7201a8"
             ],
             [
              0.3333333333333333,
              "#9c179e"
             ],
             [
              0.4444444444444444,
              "#bd3786"
             ],
             [
              0.5555555555555556,
              "#d8576b"
             ],
             [
              0.6666666666666666,
              "#ed7953"
             ],
             [
              0.7777777777777778,
              "#fb9f3a"
             ],
             [
              0.8888888888888888,
              "#fdca26"
             ],
             [
              1,
              "#f0f921"
             ]
            ],
            "type": "surface"
           }
          ],
          "table": [
           {
            "cells": {
             "fill": {
              "color": "#EBF0F8"
             },
             "line": {
              "color": "white"
             }
            },
            "header": {
             "fill": {
              "color": "#C8D4E3"
             },
             "line": {
              "color": "white"
             }
            },
            "type": "table"
           }
          ]
         },
         "layout": {
          "annotationdefaults": {
           "arrowcolor": "#2a3f5f",
           "arrowhead": 0,
           "arrowwidth": 1
          },
          "autotypenumbers": "strict",
          "coloraxis": {
           "colorbar": {
            "outlinewidth": 0,
            "ticks": ""
           }
          },
          "colorscale": {
           "diverging": [
            [
             0,
             "#8e0152"
            ],
            [
             0.1,
             "#c51b7d"
            ],
            [
             0.2,
             "#de77ae"
            ],
            [
             0.3,
             "#f1b6da"
            ],
            [
             0.4,
             "#fde0ef"
            ],
            [
             0.5,
             "#f7f7f7"
            ],
            [
             0.6,
             "#e6f5d0"
            ],
            [
             0.7,
             "#b8e186"
            ],
            [
             0.8,
             "#7fbc41"
            ],
            [
             0.9,
             "#4d9221"
            ],
            [
             1,
             "#276419"
            ]
           ],
           "sequential": [
            [
             0,
             "#0d0887"
            ],
            [
             0.1111111111111111,
             "#46039f"
            ],
            [
             0.2222222222222222,
             "#7201a8"
            ],
            [
             0.3333333333333333,
             "#9c179e"
            ],
            [
             0.4444444444444444,
             "#bd3786"
            ],
            [
             0.5555555555555556,
             "#d8576b"
            ],
            [
             0.6666666666666666,
             "#ed7953"
            ],
            [
             0.7777777777777778,
             "#fb9f3a"
            ],
            [
             0.8888888888888888,
             "#fdca26"
            ],
            [
             1,
             "#f0f921"
            ]
           ],
           "sequentialminus": [
            [
             0,
             "#0d0887"
            ],
            [
             0.1111111111111111,
             "#46039f"
            ],
            [
             0.2222222222222222,
             "#7201a8"
            ],
            [
             0.3333333333333333,
             "#9c179e"
            ],
            [
             0.4444444444444444,
             "#bd3786"
            ],
            [
             0.5555555555555556,
             "#d8576b"
            ],
            [
             0.6666666666666666,
             "#ed7953"
            ],
            [
             0.7777777777777778,
             "#fb9f3a"
            ],
            [
             0.8888888888888888,
             "#fdca26"
            ],
            [
             1,
             "#f0f921"
            ]
           ]
          },
          "colorway": [
           "#636efa",
           "#EF553B",
           "#00cc96",
           "#ab63fa",
           "#FFA15A",
           "#19d3f3",
           "#FF6692",
           "#B6E880",
           "#FF97FF",
           "#FECB52"
          ],
          "font": {
           "color": "#2a3f5f"
          },
          "geo": {
           "bgcolor": "white",
           "lakecolor": "white",
           "landcolor": "#E5ECF6",
           "showlakes": true,
           "showland": true,
           "subunitcolor": "white"
          },
          "hoverlabel": {
           "align": "left"
          },
          "hovermode": "closest",
          "mapbox": {
           "style": "light"
          },
          "paper_bgcolor": "white",
          "plot_bgcolor": "#E5ECF6",
          "polar": {
           "angularaxis": {
            "gridcolor": "white",
            "linecolor": "white",
            "ticks": ""
           },
           "bgcolor": "#E5ECF6",
           "radialaxis": {
            "gridcolor": "white",
            "linecolor": "white",
            "ticks": ""
           }
          },
          "scene": {
           "xaxis": {
            "backgroundcolor": "#E5ECF6",
            "gridcolor": "white",
            "gridwidth": 2,
            "linecolor": "white",
            "showbackground": true,
            "ticks": "",
            "zerolinecolor": "white"
           },
           "yaxis": {
            "backgroundcolor": "#E5ECF6",
            "gridcolor": "white",
            "gridwidth": 2,
            "linecolor": "white",
            "showbackground": true,
            "ticks": "",
            "zerolinecolor": "white"
           },
           "zaxis": {
            "backgroundcolor": "#E5ECF6",
            "gridcolor": "white",
            "gridwidth": 2,
            "linecolor": "white",
            "showbackground": true,
            "ticks": "",
            "zerolinecolor": "white"
           }
          },
          "shapedefaults": {
           "line": {
            "color": "#2a3f5f"
           }
          },
          "ternary": {
           "aaxis": {
            "gridcolor": "white",
            "linecolor": "white",
            "ticks": ""
           },
           "baxis": {
            "gridcolor": "white",
            "linecolor": "white",
            "ticks": ""
           },
           "bgcolor": "#E5ECF6",
           "caxis": {
            "gridcolor": "white",
            "linecolor": "white",
            "ticks": ""
           }
          },
          "title": {
           "x": 0.05
          },
          "xaxis": {
           "automargin": true,
           "gridcolor": "white",
           "linecolor": "white",
           "ticks": "",
           "title": {
            "standoff": 15
           },
           "zerolinecolor": "white",
           "zerolinewidth": 2
          },
          "yaxis": {
           "automargin": true,
           "gridcolor": "white",
           "linecolor": "white",
           "ticks": "",
           "title": {
            "standoff": 15
           },
           "zerolinecolor": "white",
           "zerolinewidth": 2
          }
         }
        },
        "title": {
         "text": "Impact vs Stability (Rice_Production - TotalNPK -10%)"
        },
        "width": 800,
        "xaxis": {
         "anchor": "y",
         "domain": [
          0,
          1
         ],
         "title": {
          "text": "New Stability(NPK - 10%)"
         }
        },
        "yaxis": {
         "anchor": "x",
         "domain": [
          0,
          1
         ],
         "title": {
          "text": "Impact Score Rice_Production (TotalNPK -10%)"
         }
        }
       }
      }
     },
     "metadata": {},
     "output_type": "display_data"
    },
    {
     "data": {
      "text/html": [
       "<div>\n",
       "<style scoped>\n",
       "    .dataframe tbody tr th:only-of-type {\n",
       "        vertical-align: middle;\n",
       "    }\n",
       "\n",
       "    .dataframe tbody tr th {\n",
       "        vertical-align: top;\n",
       "    }\n",
       "\n",
       "    .dataframe thead th {\n",
       "        text-align: right;\n",
       "    }\n",
       "</style>\n",
       "<table border=\"1\" class=\"dataframe\">\n",
       "  <thead>\n",
       "    <tr style=\"text-align: right;\">\n",
       "      <th></th>\n",
       "      <th>District</th>\n",
       "      <th>Rice_Production (TotalNPK +10%)</th>\n",
       "      <th>Rice_Production (TotalNPK -10%)</th>\n",
       "      <th>Normalized Rice_Production (TotalNPK +10%)</th>\n",
       "      <th>Normalized Rice_Production (TotalNPK -10%)</th>\n",
       "      <th>Impact Score Rice_Production (TotalNPK +10%)</th>\n",
       "      <th>Impact Score Rice_Production (TotalNPK -10%)</th>\n",
       "      <th>New Stability(NPK + 10%)</th>\n",
       "      <th>New Stability(NPK - 10%)</th>\n",
       "    </tr>\n",
       "  </thead>\n",
       "  <tbody>\n",
       "    <tr>\n",
       "      <th>0</th>\n",
       "      <td>BENGALURU</td>\n",
       "      <td>72943.836709</td>\n",
       "      <td>62797.043096</td>\n",
       "      <td>0.098721</td>\n",
       "      <td>0.098721</td>\n",
       "      <td>0.098721</td>\n",
       "      <td>0.901279</td>\n",
       "      <td>0.942796</td>\n",
       "      <td>0.942796</td>\n",
       "    </tr>\n",
       "    <tr>\n",
       "      <th>1</th>\n",
       "      <td>BENGALURU(R)</td>\n",
       "      <td>63245.182265</td>\n",
       "      <td>54861.780369</td>\n",
       "      <td>0.075418</td>\n",
       "      <td>0.075418</td>\n",
       "      <td>0.075418</td>\n",
       "      <td>0.924582</td>\n",
       "      <td>0.973330</td>\n",
       "      <td>0.973330</td>\n",
       "    </tr>\n",
       "    <tr>\n",
       "      <th>2</th>\n",
       "      <td>RAMANAGARA</td>\n",
       "      <td>35025.473567</td>\n",
       "      <td>31772.927798</td>\n",
       "      <td>0.007616</td>\n",
       "      <td>0.007616</td>\n",
       "      <td>0.007616</td>\n",
       "      <td>0.992384</td>\n",
       "      <td>0.853066</td>\n",
       "      <td>0.853066</td>\n",
       "    </tr>\n",
       "    <tr>\n",
       "      <th>3</th>\n",
       "      <td>CHITRADURGA</td>\n",
       "      <td>103047.732286</td>\n",
       "      <td>87427.503114</td>\n",
       "      <td>0.171050</td>\n",
       "      <td>0.171050</td>\n",
       "      <td>0.171050</td>\n",
       "      <td>0.828950</td>\n",
       "      <td>0.827933</td>\n",
       "      <td>0.827933</td>\n",
       "    </tr>\n",
       "    <tr>\n",
       "      <th>4</th>\n",
       "      <td>DAVANAGERE</td>\n",
       "      <td>255697.993301</td>\n",
       "      <td>212323.171216</td>\n",
       "      <td>0.537816</td>\n",
       "      <td>0.537816</td>\n",
       "      <td>0.537816</td>\n",
       "      <td>0.462184</td>\n",
       "      <td>0.761110</td>\n",
       "      <td>0.761110</td>\n",
       "    </tr>\n",
       "  </tbody>\n",
       "</table>\n",
       "</div>"
      ],
      "text/plain": [
       "       District  Rice_Production (TotalNPK +10%)  \\\n",
       "0     BENGALURU                     72943.836709   \n",
       "1  BENGALURU(R)                     63245.182265   \n",
       "2    RAMANAGARA                     35025.473567   \n",
       "3   CHITRADURGA                    103047.732286   \n",
       "4    DAVANAGERE                    255697.993301   \n",
       "\n",
       "   Rice_Production (TotalNPK -10%)  \\\n",
       "0                     62797.043096   \n",
       "1                     54861.780369   \n",
       "2                     31772.927798   \n",
       "3                     87427.503114   \n",
       "4                    212323.171216   \n",
       "\n",
       "   Normalized Rice_Production (TotalNPK +10%)  \\\n",
       "0                                    0.098721   \n",
       "1                                    0.075418   \n",
       "2                                    0.007616   \n",
       "3                                    0.171050   \n",
       "4                                    0.537816   \n",
       "\n",
       "   Normalized Rice_Production (TotalNPK -10%)  \\\n",
       "0                                    0.098721   \n",
       "1                                    0.075418   \n",
       "2                                    0.007616   \n",
       "3                                    0.171050   \n",
       "4                                    0.537816   \n",
       "\n",
       "   Impact Score Rice_Production (TotalNPK +10%)  \\\n",
       "0                                      0.098721   \n",
       "1                                      0.075418   \n",
       "2                                      0.007616   \n",
       "3                                      0.171050   \n",
       "4                                      0.537816   \n",
       "\n",
       "   Impact Score Rice_Production (TotalNPK -10%)  New Stability(NPK + 10%)  \\\n",
       "0                                      0.901279                  0.942796   \n",
       "1                                      0.924582                  0.973330   \n",
       "2                                      0.992384                  0.853066   \n",
       "3                                      0.828950                  0.827933   \n",
       "4                                      0.462184                  0.761110   \n",
       "\n",
       "   New Stability(NPK - 10%)  \n",
       "0                  0.942796  \n",
       "1                  0.973330  \n",
       "2                  0.853066  \n",
       "3                  0.827933  \n",
       "4                  0.761110  "
      ]
     },
     "execution_count": 97,
     "metadata": {},
     "output_type": "execute_result"
    }
   ],
   "source": [
    "change_percentage = 10\n",
    "dim = 1\n",
    "\n",
    "# Call the function and get the handles for the two plots\n",
    "new_data = calc_and_vis_impact_stability_1D(G, existing_data.copy(), adjacency_file, base_Column, CapabilityVector, change_percentage, dim)\n",
    "\n",
    "# Display the resulting DataFrame\n",
    "new_data.head()"
   ]
  },
  {
   "cell_type": "markdown",
   "metadata": {},
   "source": [
    "## 2D Capability vector"
   ]
  },
  {
   "cell_type": "code",
   "execution_count": 98,
   "metadata": {},
   "outputs": [],
   "source": [
    "res_df = pd.DataFrame()"
   ]
  },
  {
   "cell_type": "code",
   "execution_count": 99,
   "metadata": {},
   "outputs": [
    {
     "name": "stdout",
     "output_type": "stream",
     "text": [
      "2.1764894064966205 17136.471837471167 Rice_Production 10\n",
      "2.6936229082208722 -4743.442857301005 Maize_Production 10\n",
      "2.1764894064966205 17136.471837471167 Rice_Production 20\n",
      "2.6936229082208722 -4743.442857301005 Maize_Production 20\n",
      "258944.86274476734\n",
      "280661.6179849578\n"
     ]
    },
    {
     "data": {
      "application/vnd.plotly.v1+json": {
       "config": {
        "plotlyServerURL": "https://plot.ly"
       },
       "data": [
        {
         "hovertemplate": "%{text}<br>Percent Change: %{y:.2f}<br>Stability: %{x:.2f}",
         "marker": {
          "color": "red",
          "size": 5,
          "symbol": "circle"
         },
         "mode": "markers",
         "name": "Rice_Production +10%",
         "showlegend": false,
         "text": [
          "BENGALURU",
          "BENGALURU(R)",
          "RAMANAGARA",
          "CHITRADURGA",
          "DAVANAGERE",
          "KOLAR",
          "CHIKKABALLAPURA",
          "SHIVAMOGGA",
          "TUMAKURU",
          "CHIKKAMAGALURU",
          "DAKSHINA KANNADA",
          "UDUPI",
          "HASSAN",
          "KODAGU",
          "MANDYA",
          "MYSURU",
          "CHAMARAJANAGAR",
          "BELAGAVI",
          "VIJAYAPURA",
          "BAGALKOT",
          "DHARAWAD",
          "GADAG",
          "HAVERI",
          "UTTARA KANNADA",
          "BALLARI",
          "BIDAR",
          "KALABURAGI",
          "YADGIRI",
          "RAICHUR",
          "KOPPAL",
          "Vijayanagara"
         ],
         "type": "scatter",
         "x": [
          0.9347668480449552,
          0.9738228601392392,
          0.8199915728504515,
          0.7878438122501716,
          0.7023690689275105,
          0.9960316856898858,
          0.9945110708120918,
          0.9651538837730281,
          0.9860860234960926,
          0.8485989636133678,
          0.8073681393903512,
          0.7618471840910329,
          0.8577538359962897,
          0.9436980078473538,
          0.8564804436663693,
          0.908023033881752,
          0.8641281554598168,
          0,
          0.6307942171506717,
          0.972285077028954,
          0.761330297662815,
          0.5863265329146901,
          0.9034052173067276,
          0.6127469711558978,
          0.9610515871750641,
          0.792051010252378,
          0.9876339673970359,
          0.8884825195509379,
          0.683414359215343,
          0.9798238931763144,
          0.9944988077888837
         ],
         "xaxis": "x",
         "y": [
          2060.6586703030334,
          2586.7112262164637,
          188.79842980991344,
          2156.849152134183,
          -47.76396700738178,
          8032.222425991536,
          3051.484542159666,
          -60.34375060885264,
          316.5120248229951,
          62.49435235618208,
          -53.51109041977646,
          -76.94227221711161,
          25.931424147411853,
          33.44756814719034,
          -34.242423486387324,
          -53.24846290728791,
          61.64547041737945,
          152.35549090802886,
          86350.47419156252,
          258944.86274476734,
          213.72431490230437,
          904.0233199094461,
          37.74127229698644,
          -64.82890374467138,
          -20.059086623917185,
          3641.214892012171,
          1756.2062429640682,
          5.018886955262315,
          -39.51089263861989,
          -20.64633763299532,
          -20.060248172922176
         ],
         "yaxis": "y"
        },
        {
         "hovertemplate": "%{text}<br>Percent Change: %{y:.2f}<br>Stability: %{x:.2f}",
         "marker": {
          "color": "red",
          "size": 5,
          "symbol": "circle"
         },
         "mode": "markers",
         "name": "Rice_Production -10%",
         "showlegend": false,
         "text": [
          "BENGALURU",
          "BENGALURU(R)",
          "RAMANAGARA",
          "CHITRADURGA",
          "DAVANAGERE",
          "KOLAR",
          "CHIKKABALLAPURA",
          "SHIVAMOGGA",
          "TUMAKURU",
          "CHIKKAMAGALURU",
          "DAKSHINA KANNADA",
          "UDUPI",
          "HASSAN",
          "KODAGU",
          "MANDYA",
          "MYSURU",
          "CHAMARAJANAGAR",
          "BELAGAVI",
          "VIJAYAPURA",
          "BAGALKOT",
          "DHARAWAD",
          "GADAG",
          "HAVERI",
          "UTTARA KANNADA",
          "BALLARI",
          "BIDAR",
          "KALABURAGI",
          "YADGIRI",
          "RAICHUR",
          "KOPPAL",
          "Vijayanagara"
         ],
         "type": "scatter",
         "x": [
          0.9591567749033797,
          0.985194116299569,
          0.8826399247737104,
          0.8612080843735238,
          0.8042249221584163,
          1,
          0.9989862567481372,
          0.9794147987220949,
          0.9933695585374712,
          0.9017115186156547,
          0.8742243024669769,
          0.8438769989340981,
          0.907814766870936,
          0.965110881438312,
          0.906965838650989,
          0.9413275654612442,
          0.912064313179954,
          0.3359788762067428,
          0.7565083543071908,
          0.9841689275593788,
          0.8435324079819527,
          0.7268632314832029,
          0.9382490210778945,
          0.7444768569773415,
          0.9766799343234521,
          0.8640128830416614,
          0.9944015211381001,
          0.928300555907368,
          0.7915884490169716,
          0.9891948049909524,
          0.998978081399332
         ],
         "xaxis": "x2",
         "y": [
          1760.101987451012,
          2230.5769060830685,
          161.97994556627654,
          1814.7503967127743,
          -56.62492288815721,
          6914.252520202087,
          2593.970012137414,
          -66.74464463350712,
          252.74678568696112,
          35.76874089298487,
          -59.61369172426236,
          -78.87936606336385,
          5.202939185027888,
          12.794586969753597,
          -44.934582296706154,
          -60.869158904740445,
          39.04996390009144,
          108.22749671431238,
          72464.98389335023,
          215511.35226438622,
          165.8503848047741,
          764.4017343948843,
          15.181595699310451,
          -69.1869758908728,
          -33.08216287725156,
          3114.0255424506054,
          1458.213718974727,
          -12.688588852100755,
          -49.87607519751721,
          -33.79474516685612,
          -33.083113235528366
         ],
         "yaxis": "y2"
        },
        {
         "hovertemplate": "%{text}<br>Percent Change: %{y:.2f}<br>Stability: %{x:.2f}",
         "marker": {
          "color": "blue",
          "size": 5,
          "symbol": "circle"
         },
         "mode": "markers",
         "name": "Maize_Production +10%",
         "showlegend": false,
         "text": [
          "BENGALURU",
          "BENGALURU(R)",
          "RAMANAGARA",
          "CHITRADURGA",
          "DAVANAGERE",
          "KOLAR",
          "CHIKKABALLAPURA",
          "SHIVAMOGGA",
          "TUMAKURU",
          "CHIKKAMAGALURU",
          "DAKSHINA KANNADA",
          "UDUPI",
          "HASSAN",
          "KODAGU",
          "MANDYA",
          "MYSURU",
          "CHAMARAJANAGAR",
          "BELAGAVI",
          "VIJAYAPURA",
          "BAGALKOT",
          "DHARAWAD",
          "GADAG",
          "HAVERI",
          "UTTARA KANNADA",
          "BALLARI",
          "BIDAR",
          "KALABURAGI",
          "YADGIRI",
          "RAICHUR",
          "KOPPAL",
          "Vijayanagara"
         ],
         "type": "scatter",
         "x": [
          0.9347668480449552,
          0.9738228601392392,
          0.8199915728504515,
          0.7878438122501716,
          0.7023690689275105,
          0.9960316856898858,
          0.9945110708120918,
          0.9651538837730281,
          0.9860860234960926,
          0.8485989636133678,
          0.8073681393903512,
          0.7618471840910329,
          0.8577538359962897,
          0.9436980078473538,
          0.8564804436663693,
          0.908023033881752,
          0.8641281554598168,
          0,
          0.6307942171506717,
          0.972285077028954,
          0.761330297662815,
          0.5863265329146901,
          0.9034052173067276,
          0.6127469711558978,
          0.9610515871750641,
          0.792051010252378,
          0.9876339673970359,
          0.8884825195509379,
          0.683414359215343,
          0.9798238931763144,
          0.9944988077888837
         ],
         "xaxis": "x",
         "y": [
          2134.23904593154,
          22.867550644781076,
          66.46873253538112,
          -62.65086201851009,
          -51.056660615533765,
          3368.1750261187376,
          -24.848633123242315,
          -28.050700883176688,
          61.943704785232384,
          220.00655502640322,
          null,
          12260.541418616978,
          -40.70240874823449,
          550.5324038162244,
          801.0626441756566,
          30.512505122817263,
          -55.51675355644273,
          -8.35494451939296,
          -31.102644175727633,
          -2.0444030989672077,
          16.971453172235254,
          -53.61300689186601,
          -54.56844881079913,
          68.70490888093774,
          71.05006433916323,
          2347.790977451695,
          961.8616709240828,
          9852.89231193182,
          47288.95255214765,
          12.056664057516699,
          71.0472165471511
         ],
         "yaxis": "y"
        },
        {
         "hovertemplate": "%{text}<br>Percent Change: %{y:.2f}<br>Stability: %{x:.2f}",
         "marker": {
          "color": "blue",
          "size": 5,
          "symbol": "circle"
         },
         "mode": "markers",
         "name": "Maize_Production -10%",
         "showlegend": false,
         "text": [
          "BENGALURU",
          "BENGALURU(R)",
          "RAMANAGARA",
          "CHITRADURGA",
          "DAVANAGERE",
          "KOLAR",
          "CHIKKABALLAPURA",
          "SHIVAMOGGA",
          "TUMAKURU",
          "CHIKKAMAGALURU",
          "DAKSHINA KANNADA",
          "UDUPI",
          "HASSAN",
          "KODAGU",
          "MANDYA",
          "MYSURU",
          "CHAMARAJANAGAR",
          "BELAGAVI",
          "VIJAYAPURA",
          "BAGALKOT",
          "DHARAWAD",
          "GADAG",
          "HAVERI",
          "UTTARA KANNADA",
          "BALLARI",
          "BIDAR",
          "KALABURAGI",
          "YADGIRI",
          "RAICHUR",
          "KOPPAL",
          "Vijayanagara"
         ],
         "type": "scatter",
         "x": [
          0.9591567749033797,
          0.985194116299569,
          0.8826399247737104,
          0.8612080843735238,
          0.8042249221584163,
          1,
          0.9989862567481372,
          0.9794147987220949,
          0.9933695585374712,
          0.9017115186156547,
          0.8742243024669769,
          0.8438769989340981,
          0.907814766870936,
          0.965110881438312,
          0.906965838650989,
          0.9413275654612442,
          0.912064313179954,
          0.3359788762067428,
          0.7565083543071908,
          0.9841689275593788,
          0.8435324079819527,
          0.7268632314832029,
          0.9382490210778945,
          0.7444768569773415,
          0.9766799343234521,
          0.8640128830416614,
          0.9944015211381001,
          0.928300555907368,
          0.7915884490169716,
          0.9891948049909524,
          0.998978081399332
         ],
         "xaxis": "x2",
         "y": [
          1698.0573856980789,
          -1.4973290440264553,
          27.9486361330377,
          -69.75871858169403,
          -60.1007537599935,
          2688.5673816231465,
          -39.33007036593004,
          -41.51310789070542,
          31.209623699269514,
          160.41783681520243,
          null,
          9221.937081077527,
          -51.74205450371903,
          427.4413070884592,
          632.7845030748867,
          6.154144297699795,
          -64.18779829149284,
          -25.16721498626089,
          -44.01049724381061,
          -20.19716064603953,
          -5.247651784448412,
          -62.66981692441772,
          -63.037309145332735,
          34.45089986208254,
          39.1211380792875,
          1871.837171139359,
          762.8972452062674,
          8011.010501536717,
          38553.4924789848,
          -8.770591597662818,
          39.11880806764118
         ],
         "yaxis": "y2"
        },
        {
         "hovertemplate": "%{text}<br>Percent Change: %{y:.2f}<br>Stability: %{x:.2f}",
         "marker": {
          "color": "red",
          "size": 5,
          "symbol": "circle"
         },
         "mode": "markers",
         "name": "Rice_Production +20%",
         "showlegend": false,
         "text": [
          "BENGALURU",
          "BENGALURU(R)",
          "RAMANAGARA",
          "CHITRADURGA",
          "DAVANAGERE",
          "KOLAR",
          "CHIKKABALLAPURA",
          "SHIVAMOGGA",
          "TUMAKURU",
          "CHIKKAMAGALURU",
          "DAKSHINA KANNADA",
          "UDUPI",
          "HASSAN",
          "KODAGU",
          "MANDYA",
          "MYSURU",
          "CHAMARAJANAGAR",
          "BELAGAVI",
          "VIJAYAPURA",
          "BAGALKOT",
          "DHARAWAD",
          "GADAG",
          "HAVERI",
          "UTTARA KANNADA",
          "BALLARI",
          "BIDAR",
          "KALABURAGI",
          "YADGIRI",
          "RAICHUR",
          "KOPPAL",
          "Vijayanagara"
         ],
         "type": "scatter",
         "x": [
          0.9347668480449552,
          0.9738228601392392,
          0.8199915728504515,
          0.7878438122501716,
          0.7023690689275105,
          0.9960316856898858,
          0.9945110708120918,
          0.9651538837730281,
          0.9860860234960926,
          0.8485989636133678,
          0.8073681393903512,
          0.7618471840910329,
          0.8577538359962897,
          0.9436980078473538,
          0.8564804436663693,
          0.908023033881752,
          0.8641281554598168,
          0,
          0.6307942171506717,
          0.972285077028954,
          0.761330297662815,
          0.5863265329146901,
          0.9034052173067276,
          0.6127469711558978,
          0.9610515871750641,
          0.792051010252378,
          0.9876339673970359,
          0.8884825195509379,
          0.683414359215343,
          0.9798238931763144,
          0.9944988077888837
         ],
         "xaxis": "x3",
         "y": [
          2210.937011729044,
          2764.778386283161,
          202.20767193173188,
          2327.898529844887,
          -43.333489066994076,
          8591.207378886258,
          3280.241807170792,
          -57.14330359652539,
          348.3946443910121,
          75.85715808778062,
          -50.45978976753349,
          -75.9737252939855,
          36.2956666286038,
          43.77405873590868,
          -28.896344081227934,
          -49.43811490856164,
          72.94322367602344,
          174.41948800488706,
          93293.21934066866,
          280661.6179849578,
          237.66127995106945,
          973.8341126667265,
          49.02111059582438,
          -62.64986767157067,
          -13.54754849724997,
          3904.8095667929524,
          1905.2025049587385,
          13.872624858943825,
          -34.32830135917125,
          -14.07213386606493,
          -13.548815641619067
         ],
         "yaxis": "y3"
        },
        {
         "hovertemplate": "%{text}<br>Percent Change: %{y:.2f}<br>Stability: %{x:.2f}",
         "marker": {
          "color": "red",
          "size": 5,
          "symbol": "circle"
         },
         "mode": "markers",
         "name": "Rice_Production -20%",
         "showlegend": false,
         "text": [
          "BENGALURU",
          "BENGALURU(R)",
          "RAMANAGARA",
          "CHITRADURGA",
          "DAVANAGERE",
          "KOLAR",
          "CHIKKABALLAPURA",
          "SHIVAMOGGA",
          "TUMAKURU",
          "CHIKKAMAGALURU",
          "DAKSHINA KANNADA",
          "UDUPI",
          "HASSAN",
          "KODAGU",
          "MANDYA",
          "MYSURU",
          "CHAMARAJANAGAR",
          "BELAGAVI",
          "VIJAYAPURA",
          "BAGALKOT",
          "DHARAWAD",
          "GADAG",
          "HAVERI",
          "UTTARA KANNADA",
          "BALLARI",
          "BIDAR",
          "KALABURAGI",
          "YADGIRI",
          "RAICHUR",
          "KOPPAL",
          "Vijayanagara"
         ],
         "type": "scatter",
         "x": [
          0.9591567749033797,
          0.985194116299569,
          0.8826399247737104,
          0.8612080843735238,
          0.8042249221584163,
          1,
          0.9989862567481372,
          0.9794147987220949,
          0.9933695585374712,
          0.9017115186156547,
          0.8742243024669769,
          0.8438769989340981,
          0.907814766870936,
          0.965110881438312,
          0.906965838650989,
          0.9413275654612442,
          0.912064313179954,
          0.3359788762067428,
          0.7565083543071908,
          0.9841689275593788,
          0.8435324079819527,
          0.7268632314832029,
          0.9382490210778945,
          0.7444768569773415,
          0.9766799343234521,
          0.8640128830416614,
          0.9944015211381001,
          0.928300555907368,
          0.7915884490169716,
          0.9891948049909524,
          0.998978081399332
         ],
         "xaxis": "x4",
         "y": [
          1609.8236460250012,
          2052.509746016371,
          148.5707034444581,
          1643.7010190020699,
          -61.05540082854492,
          6355.267567307364,
          2365.212747126288,
          -69.94509164583437,
          220.86416611894413,
          22.40593516138627,
          -62.66499237650531,
          -79.84791298648994,
          -5.161303296164075,
          2.4680963810352377,
          -50.280661701865576,
          -64.67950690346672,
          27.752210641447444,
          86.1634996174541,
          65522.23874424408,
          193794.5970241957,
          141.913419756009,
          694.5909416376037,
          3.9017574004724818,
          -71.36601196397352,
          -39.593701003918746,
          2850.4308676698233,
          1309.2174569800568,
          -21.542326755782266,
          -55.058666476965854,
          -40.36894893378653,
          -39.594545766831466
         ],
         "yaxis": "y4"
        },
        {
         "hovertemplate": "%{text}<br>Percent Change: %{y:.2f}<br>Stability: %{x:.2f}",
         "marker": {
          "color": "blue",
          "size": 5,
          "symbol": "circle"
         },
         "mode": "markers",
         "name": "Maize_Production +20%",
         "showlegend": false,
         "text": [
          "BENGALURU",
          "BENGALURU(R)",
          "RAMANAGARA",
          "CHITRADURGA",
          "DAVANAGERE",
          "KOLAR",
          "CHIKKABALLAPURA",
          "SHIVAMOGGA",
          "TUMAKURU",
          "CHIKKAMAGALURU",
          "DAKSHINA KANNADA",
          "UDUPI",
          "HASSAN",
          "KODAGU",
          "MANDYA",
          "MYSURU",
          "CHAMARAJANAGAR",
          "BELAGAVI",
          "VIJAYAPURA",
          "BAGALKOT",
          "DHARAWAD",
          "GADAG",
          "HAVERI",
          "UTTARA KANNADA",
          "BALLARI",
          "BIDAR",
          "KALABURAGI",
          "YADGIRI",
          "RAICHUR",
          "KOPPAL",
          "Vijayanagara"
         ],
         "type": "scatter",
         "x": [
          0.9347668480449552,
          0.9738228601392392,
          0.8199915728504515,
          0.7878438122501716,
          0.7023690689275105,
          0.9960316856898858,
          0.9945110708120918,
          0.9651538837730281,
          0.9860860234960926,
          0.8485989636133678,
          0.8073681393903512,
          0.7618471840910329,
          0.8577538359962897,
          0.9436980078473538,
          0.8564804436663693,
          0.908023033881752,
          0.8641281554598168,
          0,
          0.6307942171506717,
          0.972285077028954,
          0.761330297662815,
          0.5863265329146901,
          0.9034052173067276,
          0.6127469711558978,
          0.9610515871750641,
          0.792051010252378,
          0.9876339673970359,
          0.8884825195509379,
          0.683414359215343,
          0.9798238931763144,
          0.9944988077888837
         ],
         "xaxis": "x3",
         "y": [
          2352.3298760482703,
          35.04999048918484,
          85.72878073655279,
          -59.09693373691813,
          -46.53461404330392,
          3707.978848366532,
          -17.60791450189845,
          -21.319497379412343,
          77.31074532821383,
          249.80091413200356,
          null,
          13779.843587386698,
          -35.18258587049223,
          612.0779521801068,
          885.2017147260414,
          42.691685535375996,
          -51.18123118891768,
          0.05119071404099172,
          -24.648717641686154,
          7.031975674568931,
          28.081005650577058,
          -49.08460187559017,
          -50.33401864353235,
          85.83191339036527,
          87.01452746910108,
          2585.767880607863,
          1061.3438837829904,
          10773.83321712937,
          51656.682588729076,
          22.47029188510643,
          87.01142078690603
         ],
         "yaxis": "y3"
        },
        {
         "hovertemplate": "%{text}<br>Percent Change: %{y:.2f}<br>Stability: %{x:.2f}",
         "marker": {
          "color": "blue",
          "size": 5,
          "symbol": "circle"
         },
         "mode": "markers",
         "name": "Maize_Production -20%",
         "showlegend": false,
         "text": [
          "BENGALURU",
          "BENGALURU(R)",
          "RAMANAGARA",
          "CHITRADURGA",
          "DAVANAGERE",
          "KOLAR",
          "CHIKKABALLAPURA",
          "SHIVAMOGGA",
          "TUMAKURU",
          "CHIKKAMAGALURU",
          "DAKSHINA KANNADA",
          "UDUPI",
          "HASSAN",
          "KODAGU",
          "MANDYA",
          "MYSURU",
          "CHAMARAJANAGAR",
          "BELAGAVI",
          "VIJAYAPURA",
          "BAGALKOT",
          "DHARAWAD",
          "GADAG",
          "HAVERI",
          "UTTARA KANNADA",
          "BALLARI",
          "BIDAR",
          "KALABURAGI",
          "YADGIRI",
          "RAICHUR",
          "KOPPAL",
          "Vijayanagara"
         ],
         "type": "scatter",
         "x": [
          0.9591567749033797,
          0.985194116299569,
          0.8826399247737104,
          0.8612080843735238,
          0.8042249221584163,
          1,
          0.9989862567481372,
          0.9794147987220949,
          0.9933695585374712,
          0.9017115186156547,
          0.8742243024669769,
          0.8438769989340981,
          0.907814766870936,
          0.965110881438312,
          0.906965838650989,
          0.9413275654612442,
          0.912064313179954,
          0.3359788762067428,
          0.7565083543071908,
          0.9841689275593788,
          0.8435324079819527,
          0.7268632314832029,
          0.9382490210778945,
          0.7444768569773415,
          0.9766799343234521,
          0.8640128830416614,
          0.9944015211381001,
          0.928300555907368,
          0.7915884490169716,
          0.9891948049909524,
          0.998978081399332
         ],
         "xaxis": "x4",
         "y": [
          1479.9665555813485,
          -13.67976888843022,
          8.68858793186599,
          -73.31264686328599,
          -64.62280033222336,
          2348.763559375351,
          -46.57078898727389,
          -48.24431139446976,
          15.842583156288066,
          130.62347770960207,
          null,
          7702.634912307805,
          -57.261877381461304,
          365.89575872457664,
          548.6454325245019,
          -6.025036114858917,
          -68.52332065901788,
          -33.57335021969485,
          -50.464423777852105,
          -29.27353941957569,
          -16.35720426279023,
          -67.19822194069356,
          -67.27173931259954,
          17.323895352654976,
          23.156674949349647,
          1633.8602679831915,
          663.4150323473599,
          7090.069596339166,
          34185.762442403364,
          -19.18421942525258,
          23.15460382788626
         ],
         "yaxis": "y4"
        },
        {
         "marker": {
          "color": "red",
          "size": 5,
          "symbol": "circle"
         },
         "mode": "markers",
         "name": "Rice_Production",
         "type": "scatter",
         "x": [
          null
         ],
         "xaxis": "x",
         "y": [
          null
         ],
         "yaxis": "y"
        },
        {
         "marker": {
          "color": "blue",
          "size": 5,
          "symbol": "circle"
         },
         "mode": "markers",
         "name": "Maize_Production",
         "type": "scatter",
         "x": [
          null
         ],
         "xaxis": "x",
         "y": [
          null
         ],
         "yaxis": "y"
        }
       ],
       "layout": {
        "height": 800,
        "legend": {
         "orientation": "v",
         "title": {
          "text": "Capability"
         },
         "x": 1,
         "xanchor": "left",
         "y": 0.85,
         "yanchor": "bottom"
        },
        "margin": {
         "t": 50
        },
        "shapes": [
         {
          "line": {
           "color": "black",
           "dash": "dash",
           "width": 1
          },
          "name": "Avg Stability",
          "type": "line",
          "x0": 0.8310425499259829,
          "x1": 0.8310425499259829,
          "xref": "x",
          "y0": -10000,
          "y1": 258944.86274476734,
          "yref": "y"
         },
         {
          "line": {
           "color": "black",
           "dash": "dash",
           "width": 1
          },
          "name": "Avg Stability",
          "type": "line",
          "x0": 0.8900072428240647,
          "x1": 0.8900072428240647,
          "xref": "x2",
          "y0": -10000,
          "y1": 258944.86274476734,
          "yref": "y2"
         },
         {
          "line": {
           "color": "black",
           "dash": "dash",
           "width": 1
          },
          "name": "Avg Impact",
          "type": "line",
          "x0": 0,
          "x1": 1,
          "xref": "x",
          "y0": 11938.426426042714,
          "y1": 11938.426426042714,
          "yref": "y"
         },
         {
          "line": {
           "color": "black",
           "dash": "dash",
           "width": 1
          },
          "name": "Avg Impact",
          "type": "line",
          "x0": 0,
          "x1": 1,
          "xref": "x2",
          "y0": 9962.066238317151,
          "y1": 9962.066238317151,
          "yref": "y2"
         },
         {
          "line": {
           "color": "black",
           "dash": "dash",
           "width": 1
          },
          "name": "Avg Stability",
          "type": "line",
          "x0": 0.8310425499259829,
          "x1": 0.8310425499259829,
          "xref": "x3",
          "y0": -10000,
          "y1": 280661.6179849578,
          "yref": "y3"
         },
         {
          "line": {
           "color": "black",
           "dash": "dash",
           "width": 1
          },
          "name": "Avg Stability",
          "type": "line",
          "x0": 0.8900072428240647,
          "x1": 0.8900072428240647,
          "xref": "x4",
          "y0": -10000,
          "y1": 280661.6179849578,
          "yref": "y4"
         },
         {
          "line": {
           "color": "black",
           "dash": "dash",
           "width": 1
          },
          "name": "Avg Impact",
          "type": "line",
          "x0": 0,
          "x1": 1,
          "xref": "x3",
          "y0": 12926.606519905494,
          "y1": 12926.606519905494,
          "yref": "y3"
         },
         {
          "line": {
           "color": "black",
           "dash": "dash",
           "width": 1
          },
          "name": "Avg Impact",
          "type": "line",
          "x0": 0,
          "x1": 1,
          "xref": "x4",
          "y0": 8973.886144454369,
          "y1": 8973.886144454369,
          "yref": "y4"
         }
        ],
        "showlegend": true,
        "template": {
         "data": {
          "bar": [
           {
            "error_x": {
             "color": "#2a3f5f"
            },
            "error_y": {
             "color": "#2a3f5f"
            },
            "marker": {
             "line": {
              "color": "#E5ECF6",
              "width": 0.5
             },
             "pattern": {
              "fillmode": "overlay",
              "size": 10,
              "solidity": 0.2
             }
            },
            "type": "bar"
           }
          ],
          "barpolar": [
           {
            "marker": {
             "line": {
              "color": "#E5ECF6",
              "width": 0.5
             },
             "pattern": {
              "fillmode": "overlay",
              "size": 10,
              "solidity": 0.2
             }
            },
            "type": "barpolar"
           }
          ],
          "carpet": [
           {
            "aaxis": {
             "endlinecolor": "#2a3f5f",
             "gridcolor": "white",
             "linecolor": "white",
             "minorgridcolor": "white",
             "startlinecolor": "#2a3f5f"
            },
            "baxis": {
             "endlinecolor": "#2a3f5f",
             "gridcolor": "white",
             "linecolor": "white",
             "minorgridcolor": "white",
             "startlinecolor": "#2a3f5f"
            },
            "type": "carpet"
           }
          ],
          "choropleth": [
           {
            "colorbar": {
             "outlinewidth": 0,
             "ticks": ""
            },
            "type": "choropleth"
           }
          ],
          "contour": [
           {
            "colorbar": {
             "outlinewidth": 0,
             "ticks": ""
            },
            "colorscale": [
             [
              0,
              "#0d0887"
             ],
             [
              0.1111111111111111,
              "#46039f"
             ],
             [
              0.2222222222222222,
              "#7201a8"
             ],
             [
              0.3333333333333333,
              "#9c179e"
             ],
             [
              0.4444444444444444,
              "#bd3786"
             ],
             [
              0.5555555555555556,
              "#d8576b"
             ],
             [
              0.6666666666666666,
              "#ed7953"
             ],
             [
              0.7777777777777778,
              "#fb9f3a"
             ],
             [
              0.8888888888888888,
              "#fdca26"
             ],
             [
              1,
              "#f0f921"
             ]
            ],
            "type": "contour"
           }
          ],
          "contourcarpet": [
           {
            "colorbar": {
             "outlinewidth": 0,
             "ticks": ""
            },
            "type": "contourcarpet"
           }
          ],
          "heatmap": [
           {
            "colorbar": {
             "outlinewidth": 0,
             "ticks": ""
            },
            "colorscale": [
             [
              0,
              "#0d0887"
             ],
             [
              0.1111111111111111,
              "#46039f"
             ],
             [
              0.2222222222222222,
              "#7201a8"
             ],
             [
              0.3333333333333333,
              "#9c179e"
             ],
             [
              0.4444444444444444,
              "#bd3786"
             ],
             [
              0.5555555555555556,
              "#d8576b"
             ],
             [
              0.6666666666666666,
              "#ed7953"
             ],
             [
              0.7777777777777778,
              "#fb9f3a"
             ],
             [
              0.8888888888888888,
              "#fdca26"
             ],
             [
              1,
              "#f0f921"
             ]
            ],
            "type": "heatmap"
           }
          ],
          "heatmapgl": [
           {
            "colorbar": {
             "outlinewidth": 0,
             "ticks": ""
            },
            "colorscale": [
             [
              0,
              "#0d0887"
             ],
             [
              0.1111111111111111,
              "#46039f"
             ],
             [
              0.2222222222222222,
              "#7201a8"
             ],
             [
              0.3333333333333333,
              "#9c179e"
             ],
             [
              0.4444444444444444,
              "#bd3786"
             ],
             [
              0.5555555555555556,
              "#d8576b"
             ],
             [
              0.6666666666666666,
              "#ed7953"
             ],
             [
              0.7777777777777778,
              "#fb9f3a"
             ],
             [
              0.8888888888888888,
              "#fdca26"
             ],
             [
              1,
              "#f0f921"
             ]
            ],
            "type": "heatmapgl"
           }
          ],
          "histogram": [
           {
            "marker": {
             "pattern": {
              "fillmode": "overlay",
              "size": 10,
              "solidity": 0.2
             }
            },
            "type": "histogram"
           }
          ],
          "histogram2d": [
           {
            "colorbar": {
             "outlinewidth": 0,
             "ticks": ""
            },
            "colorscale": [
             [
              0,
              "#0d0887"
             ],
             [
              0.1111111111111111,
              "#46039f"
             ],
             [
              0.2222222222222222,
              "#7201a8"
             ],
             [
              0.3333333333333333,
              "#9c179e"
             ],
             [
              0.4444444444444444,
              "#bd3786"
             ],
             [
              0.5555555555555556,
              "#d8576b"
             ],
             [
              0.6666666666666666,
              "#ed7953"
             ],
             [
              0.7777777777777778,
              "#fb9f3a"
             ],
             [
              0.8888888888888888,
              "#fdca26"
             ],
             [
              1,
              "#f0f921"
             ]
            ],
            "type": "histogram2d"
           }
          ],
          "histogram2dcontour": [
           {
            "colorbar": {
             "outlinewidth": 0,
             "ticks": ""
            },
            "colorscale": [
             [
              0,
              "#0d0887"
             ],
             [
              0.1111111111111111,
              "#46039f"
             ],
             [
              0.2222222222222222,
              "#7201a8"
             ],
             [
              0.3333333333333333,
              "#9c179e"
             ],
             [
              0.4444444444444444,
              "#bd3786"
             ],
             [
              0.5555555555555556,
              "#d8576b"
             ],
             [
              0.6666666666666666,
              "#ed7953"
             ],
             [
              0.7777777777777778,
              "#fb9f3a"
             ],
             [
              0.8888888888888888,
              "#fdca26"
             ],
             [
              1,
              "#f0f921"
             ]
            ],
            "type": "histogram2dcontour"
           }
          ],
          "mesh3d": [
           {
            "colorbar": {
             "outlinewidth": 0,
             "ticks": ""
            },
            "type": "mesh3d"
           }
          ],
          "parcoords": [
           {
            "line": {
             "colorbar": {
              "outlinewidth": 0,
              "ticks": ""
             }
            },
            "type": "parcoords"
           }
          ],
          "pie": [
           {
            "automargin": true,
            "type": "pie"
           }
          ],
          "scatter": [
           {
            "fillpattern": {
             "fillmode": "overlay",
             "size": 10,
             "solidity": 0.2
            },
            "type": "scatter"
           }
          ],
          "scatter3d": [
           {
            "line": {
             "colorbar": {
              "outlinewidth": 0,
              "ticks": ""
             }
            },
            "marker": {
             "colorbar": {
              "outlinewidth": 0,
              "ticks": ""
             }
            },
            "type": "scatter3d"
           }
          ],
          "scattercarpet": [
           {
            "marker": {
             "colorbar": {
              "outlinewidth": 0,
              "ticks": ""
             }
            },
            "type": "scattercarpet"
           }
          ],
          "scattergeo": [
           {
            "marker": {
             "colorbar": {
              "outlinewidth": 0,
              "ticks": ""
             }
            },
            "type": "scattergeo"
           }
          ],
          "scattergl": [
           {
            "marker": {
             "colorbar": {
              "outlinewidth": 0,
              "ticks": ""
             }
            },
            "type": "scattergl"
           }
          ],
          "scattermapbox": [
           {
            "marker": {
             "colorbar": {
              "outlinewidth": 0,
              "ticks": ""
             }
            },
            "type": "scattermapbox"
           }
          ],
          "scatterpolar": [
           {
            "marker": {
             "colorbar": {
              "outlinewidth": 0,
              "ticks": ""
             }
            },
            "type": "scatterpolar"
           }
          ],
          "scatterpolargl": [
           {
            "marker": {
             "colorbar": {
              "outlinewidth": 0,
              "ticks": ""
             }
            },
            "type": "scatterpolargl"
           }
          ],
          "scatterternary": [
           {
            "marker": {
             "colorbar": {
              "outlinewidth": 0,
              "ticks": ""
             }
            },
            "type": "scatterternary"
           }
          ],
          "surface": [
           {
            "colorbar": {
             "outlinewidth": 0,
             "ticks": ""
            },
            "colorscale": [
             [
              0,
              "#0d0887"
             ],
             [
              0.1111111111111111,
              "#46039f"
             ],
             [
              0.2222222222222222,
              "#7201a8"
             ],
             [
              0.3333333333333333,
              "#9c179e"
             ],
             [
              0.4444444444444444,
              "#bd3786"
             ],
             [
              0.5555555555555556,
              "#d8576b"
             ],
             [
              0.6666666666666666,
              "#ed7953"
             ],
             [
              0.7777777777777778,
              "#fb9f3a"
             ],
             [
              0.8888888888888888,
              "#fdca26"
             ],
             [
              1,
              "#f0f921"
             ]
            ],
            "type": "surface"
           }
          ],
          "table": [
           {
            "cells": {
             "fill": {
              "color": "#EBF0F8"
             },
             "line": {
              "color": "white"
             }
            },
            "header": {
             "fill": {
              "color": "#C8D4E3"
             },
             "line": {
              "color": "white"
             }
            },
            "type": "table"
           }
          ]
         },
         "layout": {
          "annotationdefaults": {
           "arrowcolor": "#2a3f5f",
           "arrowhead": 0,
           "arrowwidth": 1
          },
          "autotypenumbers": "strict",
          "coloraxis": {
           "colorbar": {
            "outlinewidth": 0,
            "ticks": ""
           }
          },
          "colorscale": {
           "diverging": [
            [
             0,
             "#8e0152"
            ],
            [
             0.1,
             "#c51b7d"
            ],
            [
             0.2,
             "#de77ae"
            ],
            [
             0.3,
             "#f1b6da"
            ],
            [
             0.4,
             "#fde0ef"
            ],
            [
             0.5,
             "#f7f7f7"
            ],
            [
             0.6,
             "#e6f5d0"
            ],
            [
             0.7,
             "#b8e186"
            ],
            [
             0.8,
             "#7fbc41"
            ],
            [
             0.9,
             "#4d9221"
            ],
            [
             1,
             "#276419"
            ]
           ],
           "sequential": [
            [
             0,
             "#0d0887"
            ],
            [
             0.1111111111111111,
             "#46039f"
            ],
            [
             0.2222222222222222,
             "#7201a8"
            ],
            [
             0.3333333333333333,
             "#9c179e"
            ],
            [
             0.4444444444444444,
             "#bd3786"
            ],
            [
             0.5555555555555556,
             "#d8576b"
            ],
            [
             0.6666666666666666,
             "#ed7953"
            ],
            [
             0.7777777777777778,
             "#fb9f3a"
            ],
            [
             0.8888888888888888,
             "#fdca26"
            ],
            [
             1,
             "#f0f921"
            ]
           ],
           "sequentialminus": [
            [
             0,
             "#0d0887"
            ],
            [
             0.1111111111111111,
             "#46039f"
            ],
            [
             0.2222222222222222,
             "#7201a8"
            ],
            [
             0.3333333333333333,
             "#9c179e"
            ],
            [
             0.4444444444444444,
             "#bd3786"
            ],
            [
             0.5555555555555556,
             "#d8576b"
            ],
            [
             0.6666666666666666,
             "#ed7953"
            ],
            [
             0.7777777777777778,
             "#fb9f3a"
            ],
            [
             0.8888888888888888,
             "#fdca26"
            ],
            [
             1,
             "#f0f921"
            ]
           ]
          },
          "colorway": [
           "#636efa",
           "#EF553B",
           "#00cc96",
           "#ab63fa",
           "#FFA15A",
           "#19d3f3",
           "#FF6692",
           "#B6E880",
           "#FF97FF",
           "#FECB52"
          ],
          "font": {
           "color": "#2a3f5f"
          },
          "geo": {
           "bgcolor": "white",
           "lakecolor": "white",
           "landcolor": "#E5ECF6",
           "showlakes": true,
           "showland": true,
           "subunitcolor": "white"
          },
          "hoverlabel": {
           "align": "left"
          },
          "hovermode": "closest",
          "mapbox": {
           "style": "light"
          },
          "paper_bgcolor": "white",
          "plot_bgcolor": "#E5ECF6",
          "polar": {
           "angularaxis": {
            "gridcolor": "white",
            "linecolor": "white",
            "ticks": ""
           },
           "bgcolor": "#E5ECF6",
           "radialaxis": {
            "gridcolor": "white",
            "linecolor": "white",
            "ticks": ""
           }
          },
          "scene": {
           "xaxis": {
            "backgroundcolor": "#E5ECF6",
            "gridcolor": "white",
            "gridwidth": 2,
            "linecolor": "white",
            "showbackground": true,
            "ticks": "",
            "zerolinecolor": "white"
           },
           "yaxis": {
            "backgroundcolor": "#E5ECF6",
            "gridcolor": "white",
            "gridwidth": 2,
            "linecolor": "white",
            "showbackground": true,
            "ticks": "",
            "zerolinecolor": "white"
           },
           "zaxis": {
            "backgroundcolor": "#E5ECF6",
            "gridcolor": "white",
            "gridwidth": 2,
            "linecolor": "white",
            "showbackground": true,
            "ticks": "",
            "zerolinecolor": "white"
           }
          },
          "shapedefaults": {
           "line": {
            "color": "#2a3f5f"
           }
          },
          "ternary": {
           "aaxis": {
            "gridcolor": "white",
            "linecolor": "white",
            "ticks": ""
           },
           "baxis": {
            "gridcolor": "white",
            "linecolor": "white",
            "ticks": ""
           },
           "bgcolor": "#E5ECF6",
           "caxis": {
            "gridcolor": "white",
            "linecolor": "white",
            "ticks": ""
           }
          },
          "title": {
           "x": 0.05
          },
          "xaxis": {
           "automargin": true,
           "gridcolor": "white",
           "linecolor": "white",
           "ticks": "",
           "title": {
            "standoff": 15
           },
           "zerolinecolor": "white",
           "zerolinewidth": 2
          },
          "yaxis": {
           "automargin": true,
           "gridcolor": "white",
           "linecolor": "white",
           "ticks": "",
           "title": {
            "standoff": 15
           },
           "zerolinecolor": "white",
           "zerolinewidth": 2
          }
         }
        },
        "xaxis": {
         "anchor": "y",
         "domain": [
          0,
          0.45
         ],
         "matches": "x3",
         "showgrid": true,
         "showline": true,
         "showticklabels": false,
         "title": {
          "text": "Stability (TotalNPK +10%)"
         }
        },
        "xaxis2": {
         "anchor": "y2",
         "domain": [
          0.55,
          1
         ],
         "matches": "x4",
         "showgrid": true,
         "showline": true,
         "showticklabels": false,
         "title": {
          "text": "Stability (TotalNPK -10%)"
         }
        },
        "xaxis3": {
         "anchor": "y3",
         "domain": [
          0,
          0.45
         ],
         "showgrid": true,
         "showline": true,
         "title": {
          "text": "Stability (TotalNPK +20%)"
         }
        },
        "xaxis4": {
         "anchor": "y4",
         "domain": [
          0.55,
          1
         ],
         "showgrid": true,
         "showline": true,
         "title": {
          "text": "Stability (TotalNPK -20%)"
         }
        },
        "yaxis": {
         "anchor": "x",
         "domain": [
          0.55,
          1
         ],
         "showgrid": true,
         "showline": true,
         "title": {
          "text": "Percent Change"
         }
        },
        "yaxis2": {
         "anchor": "x2",
         "domain": [
          0.55,
          1
         ],
         "matches": "y",
         "showticklabels": false
        },
        "yaxis3": {
         "anchor": "x3",
         "domain": [
          0,
          0.45
         ],
         "showgrid": true,
         "showline": true,
         "title": {
          "text": "Percent Change"
         }
        },
        "yaxis4": {
         "anchor": "x4",
         "domain": [
          0,
          0.45
         ],
         "matches": "y3",
         "showticklabels": false
        }
       }
      }
     },
     "metadata": {},
     "output_type": "display_data"
    },
    {
     "data": {
      "text/html": [
       "<div>\n",
       "<style scoped>\n",
       "    .dataframe tbody tr th:only-of-type {\n",
       "        vertical-align: middle;\n",
       "    }\n",
       "\n",
       "    .dataframe tbody tr th {\n",
       "        vertical-align: top;\n",
       "    }\n",
       "\n",
       "    .dataframe thead th {\n",
       "        text-align: right;\n",
       "    }\n",
       "</style>\n",
       "<table border=\"1\" class=\"dataframe\">\n",
       "  <thead>\n",
       "    <tr style=\"text-align: right;\">\n",
       "      <th></th>\n",
       "      <th>District</th>\n",
       "      <th>Initial Stability</th>\n",
       "      <th>Rice_Production (TotalNPK +10%)</th>\n",
       "      <th>Rice_Production (TotalNPK -10%)</th>\n",
       "      <th>Normalized Rice_Production (TotalNPK +10%)</th>\n",
       "      <th>Normalized Rice_Production (TotalNPK -10%)</th>\n",
       "      <th>Percent Change in Rice_Production (TotalNPK +10%)</th>\n",
       "      <th>Percent Change in Rice_Production (TotalNPK -10%)</th>\n",
       "      <th>Maize_Production (TotalNPK +10%)</th>\n",
       "      <th>Maize_Production (TotalNPK -10%)</th>\n",
       "      <th>...</th>\n",
       "      <th>Maize_Production (TotalNPK +20%)</th>\n",
       "      <th>Maize_Production (TotalNPK -20%)</th>\n",
       "      <th>Normalized Maize_Production (TotalNPK +20%)</th>\n",
       "      <th>Normalized Maize_Production (TotalNPK -20%)</th>\n",
       "      <th>Percent Change in Maize_Production (TotalNPK +20%)</th>\n",
       "      <th>Percent Change in Maize_Production (TotalNPK -20%)</th>\n",
       "      <th>New Stability(NPK + 10%)_Rice_Maize</th>\n",
       "      <th>New Stability(NPK - 10%)_Rice_Maize</th>\n",
       "      <th>New Stability(NPK + 20%)_Rice_Maize</th>\n",
       "      <th>New Stability(NPK - 20%)_Rice_Maize</th>\n",
       "    </tr>\n",
       "  </thead>\n",
       "  <tbody>\n",
       "    <tr>\n",
       "      <th>0</th>\n",
       "      <td>BENGALURU</td>\n",
       "      <td>0.959409</td>\n",
       "      <td>72943.836709</td>\n",
       "      <td>62797.043096</td>\n",
       "      <td>0.117432</td>\n",
       "      <td>0.099835</td>\n",
       "      <td>2060.658670</td>\n",
       "      <td>1760.101987</td>\n",
       "      <td>64323.742132</td>\n",
       "      <td>51766.072134</td>\n",
       "      <td>...</td>\n",
       "      <td>70602.577131</td>\n",
       "      <td>45487.237135</td>\n",
       "      <td>0.113372</td>\n",
       "      <td>0.069814</td>\n",
       "      <td>2352.329876</td>\n",
       "      <td>1479.966556</td>\n",
       "      <td>0.940864</td>\n",
       "      <td>0.953059</td>\n",
       "      <td>0.934767</td>\n",
       "      <td>0.959157</td>\n",
       "    </tr>\n",
       "    <tr>\n",
       "      <th>1</th>\n",
       "      <td>BENGALURU(R)</td>\n",
       "      <td>0.983965</td>\n",
       "      <td>63245.182265</td>\n",
       "      <td>54861.780369</td>\n",
       "      <td>0.100612</td>\n",
       "      <td>0.086073</td>\n",
       "      <td>2586.711226</td>\n",
       "      <td>2230.576906</td>\n",
       "      <td>52320.689091</td>\n",
       "      <td>41945.392373</td>\n",
       "      <td>...</td>\n",
       "      <td>57508.337450</td>\n",
       "      <td>36757.744014</td>\n",
       "      <td>0.090663</td>\n",
       "      <td>0.054675</td>\n",
       "      <td>35.049990</td>\n",
       "      <td>-13.679769</td>\n",
       "      <td>0.976666</td>\n",
       "      <td>0.982351</td>\n",
       "      <td>0.973823</td>\n",
       "      <td>0.985194</td>\n",
       "    </tr>\n",
       "    <tr>\n",
       "      <th>2</th>\n",
       "      <td>RAMANAGARA</td>\n",
       "      <td>0.868345</td>\n",
       "      <td>35025.473567</td>\n",
       "      <td>31772.927798</td>\n",
       "      <td>0.051671</td>\n",
       "      <td>0.046030</td>\n",
       "      <td>188.798430</td>\n",
       "      <td>161.979946</td>\n",
       "      <td>17395.982550</td>\n",
       "      <td>13370.632476</td>\n",
       "      <td>...</td>\n",
       "      <td>19408.657587</td>\n",
       "      <td>11357.957439</td>\n",
       "      <td>0.024586</td>\n",
       "      <td>0.010624</td>\n",
       "      <td>85.728781</td>\n",
       "      <td>8.688588</td>\n",
       "      <td>0.835654</td>\n",
       "      <td>0.866978</td>\n",
       "      <td>0.819992</td>\n",
       "      <td>0.882640</td>\n",
       "    </tr>\n",
       "    <tr>\n",
       "      <th>3</th>\n",
       "      <td>CHITRADURGA</td>\n",
       "      <td>0.562713</td>\n",
       "      <td>103047.732286</td>\n",
       "      <td>87427.503114</td>\n",
       "      <td>0.169641</td>\n",
       "      <td>0.142551</td>\n",
       "      <td>2156.849152</td>\n",
       "      <td>1814.750397</td>\n",
       "      <td>101580.318025</td>\n",
       "      <td>82248.725137</td>\n",
       "      <td>...</td>\n",
       "      <td>111246.114469</td>\n",
       "      <td>72582.928694</td>\n",
       "      <td>0.183860</td>\n",
       "      <td>0.116806</td>\n",
       "      <td>-59.096934</td>\n",
       "      <td>-73.312647</td>\n",
       "      <td>0.806185</td>\n",
       "      <td>0.842867</td>\n",
       "      <td>0.787844</td>\n",
       "      <td>0.861208</td>\n",
       "    </tr>\n",
       "    <tr>\n",
       "      <th>4</th>\n",
       "      <td>DAVANAGERE</td>\n",
       "      <td>0.072591</td>\n",
       "      <td>255697.993301</td>\n",
       "      <td>212323.171216</td>\n",
       "      <td>0.434382</td>\n",
       "      <td>0.359157</td>\n",
       "      <td>-47.763967</td>\n",
       "      <td>-56.624923</td>\n",
       "      <td>290500.254316</td>\n",
       "      <td>236819.582103</td>\n",
       "      <td>...</td>\n",
       "      <td>317340.590423</td>\n",
       "      <td>209979.245996</td>\n",
       "      <td>0.541288</td>\n",
       "      <td>0.355092</td>\n",
       "      <td>-46.534614</td>\n",
       "      <td>-64.622800</td>\n",
       "      <td>0.727833</td>\n",
       "      <td>0.778761</td>\n",
       "      <td>0.702369</td>\n",
       "      <td>0.804225</td>\n",
       "    </tr>\n",
       "  </tbody>\n",
       "</table>\n",
       "<p>5 rows × 30 columns</p>\n",
       "</div>"
      ],
      "text/plain": [
       "       District  Initial Stability  Rice_Production (TotalNPK +10%)  \\\n",
       "0     BENGALURU           0.959409                     72943.836709   \n",
       "1  BENGALURU(R)           0.983965                     63245.182265   \n",
       "2    RAMANAGARA           0.868345                     35025.473567   \n",
       "3   CHITRADURGA           0.562713                    103047.732286   \n",
       "4    DAVANAGERE           0.072591                    255697.993301   \n",
       "\n",
       "   Rice_Production (TotalNPK -10%)  \\\n",
       "0                     62797.043096   \n",
       "1                     54861.780369   \n",
       "2                     31772.927798   \n",
       "3                     87427.503114   \n",
       "4                    212323.171216   \n",
       "\n",
       "   Normalized Rice_Production (TotalNPK +10%)  \\\n",
       "0                                    0.117432   \n",
       "1                                    0.100612   \n",
       "2                                    0.051671   \n",
       "3                                    0.169641   \n",
       "4                                    0.434382   \n",
       "\n",
       "   Normalized Rice_Production (TotalNPK -10%)  \\\n",
       "0                                    0.099835   \n",
       "1                                    0.086073   \n",
       "2                                    0.046030   \n",
       "3                                    0.142551   \n",
       "4                                    0.359157   \n",
       "\n",
       "   Percent Change in Rice_Production (TotalNPK +10%)  \\\n",
       "0                                        2060.658670   \n",
       "1                                        2586.711226   \n",
       "2                                         188.798430   \n",
       "3                                        2156.849152   \n",
       "4                                         -47.763967   \n",
       "\n",
       "   Percent Change in Rice_Production (TotalNPK -10%)  \\\n",
       "0                                        1760.101987   \n",
       "1                                        2230.576906   \n",
       "2                                         161.979946   \n",
       "3                                        1814.750397   \n",
       "4                                         -56.624923   \n",
       "\n",
       "   Maize_Production (TotalNPK +10%)  Maize_Production (TotalNPK -10%)  ...  \\\n",
       "0                      64323.742132                      51766.072134  ...   \n",
       "1                      52320.689091                      41945.392373  ...   \n",
       "2                      17395.982550                      13370.632476  ...   \n",
       "3                     101580.318025                      82248.725137  ...   \n",
       "4                     290500.254316                     236819.582103  ...   \n",
       "\n",
       "   Maize_Production (TotalNPK +20%)  Maize_Production (TotalNPK -20%)  \\\n",
       "0                      70602.577131                      45487.237135   \n",
       "1                      57508.337450                      36757.744014   \n",
       "2                      19408.657587                      11357.957439   \n",
       "3                     111246.114469                      72582.928694   \n",
       "4                     317340.590423                     209979.245996   \n",
       "\n",
       "   Normalized Maize_Production (TotalNPK +20%)  \\\n",
       "0                                     0.113372   \n",
       "1                                     0.090663   \n",
       "2                                     0.024586   \n",
       "3                                     0.183860   \n",
       "4                                     0.541288   \n",
       "\n",
       "   Normalized Maize_Production (TotalNPK -20%)  \\\n",
       "0                                     0.069814   \n",
       "1                                     0.054675   \n",
       "2                                     0.010624   \n",
       "3                                     0.116806   \n",
       "4                                     0.355092   \n",
       "\n",
       "   Percent Change in Maize_Production (TotalNPK +20%)  \\\n",
       "0                                        2352.329876    \n",
       "1                                          35.049990    \n",
       "2                                          85.728781    \n",
       "3                                         -59.096934    \n",
       "4                                         -46.534614    \n",
       "\n",
       "   Percent Change in Maize_Production (TotalNPK -20%)  \\\n",
       "0                                        1479.966556    \n",
       "1                                         -13.679769    \n",
       "2                                           8.688588    \n",
       "3                                         -73.312647    \n",
       "4                                         -64.622800    \n",
       "\n",
       "   New Stability(NPK + 10%)_Rice_Maize  New Stability(NPK - 10%)_Rice_Maize  \\\n",
       "0                             0.940864                             0.953059   \n",
       "1                             0.976666                             0.982351   \n",
       "2                             0.835654                             0.866978   \n",
       "3                             0.806185                             0.842867   \n",
       "4                             0.727833                             0.778761   \n",
       "\n",
       "   New Stability(NPK + 20%)_Rice_Maize  New Stability(NPK - 20%)_Rice_Maize  \n",
       "0                             0.934767                             0.959157  \n",
       "1                             0.973823                             0.985194  \n",
       "2                             0.819992                             0.882640  \n",
       "3                             0.787844                             0.861208  \n",
       "4                             0.702369                             0.804225  \n",
       "\n",
       "[5 rows x 30 columns]"
      ]
     },
     "execution_count": 99,
     "metadata": {},
     "output_type": "execute_result"
    }
   ],
   "source": [
    "import statsmodels.api as sm\n",
    "import pandas as pd\n",
    "import plotly.express as px\n",
    "import plotly.graph_objects as go\n",
    "from plotly.subplots import make_subplots\n",
    "from itertools import cycle\n",
    "\n",
    "def calc_and_vis_impact_stability_2D1(G, existing_data, adjacency_file, base_column, capability_vector, change_percentages, dim):\n",
    "    change_min_value = float('inf')\n",
    "    change_max_value = float('-inf')\n",
    "    \n",
    "    initial_stability_column = calculate_and_return_initial_stability(df, capability_vector, G)\n",
    "    existing_data = pd.concat([existing_data, initial_stability_column], axis=1)\n",
    "\n",
    "    for intervention in change_percentages:\n",
    "        for cap_col in capability_vector:\n",
    "            # filtered_df = df[(df[cap_col] != 0) & (~df[cap_col].isnull())]\n",
    "            X = sm.add_constant(df[base_column])\n",
    "            y = df[cap_col]\n",
    "            model = sm.OLS(y, X).fit()\n",
    "            m, c = model.params[base_column], model.params['const']\n",
    "\n",
    "            base_column_increase = (1 + intervention/100) * df[base_column]\n",
    "            base_column_decrease = (1 - intervention/100) * df[base_column]\n",
    "\n",
    "            change_vector_increase = m * base_column_increase + c\n",
    "            change_vector_decrease = m * base_column_decrease + c\n",
    "            \n",
    "            change_min_value = min(change_min_value, change_vector_increase.min(), change_vector_decrease.min())\n",
    "            change_max_value = max(change_max_value, change_vector_increase.max(), change_vector_decrease.max())\n",
    "            \n",
    "    \n",
    "    result_df = pd.DataFrame()\n",
    "    res1_df = pd.DataFrame()\n",
    "    \n",
    "    for intervention in change_percentages:\n",
    "        col_pass_plus = []\n",
    "        col_pass_minus = []\n",
    "        for cap_col in capability_vector:\n",
    "            # Calculate Impact Score\n",
    "            filtered_df = df[(df[cap_col] != 0) & (~df[cap_col].isnull())]\n",
    "            X = sm.add_constant(filtered_df[base_column])\n",
    "            y = filtered_df[cap_col]\n",
    "            # X = sm.add_constant(df[base_column])\n",
    "            # y = df[cap_col]\n",
    "            model = sm.OLS(y, X).fit()\n",
    "\n",
    "            m, c = model.params[base_column], model.params['const']\n",
    "            # print(X[0,:])\n",
    "            # print(y)\n",
    "            print(m,c,cap_col,intervention)\n",
    "            # print(m,c)\n",
    "            \n",
    "            base_column_increase = (1 + intervention/100) * df[base_column]\n",
    "            base_column_decrease = (1 - intervention/100) * df[base_column]\n",
    "\n",
    "            new_vector_increase = m * base_column_increase + c\n",
    "            new_vector_decrease = m * base_column_decrease + c\n",
    "            \n",
    "            if any(y == 0):\n",
    "                new_vector_increase[y == 0] = 0\n",
    "                new_vector_decrease[y == 0] = 0\n",
    "                \n",
    "            normalized_new_increase_vector = (new_vector_increase - change_min_value) / (change_max_value - change_min_value)\n",
    "            normalized_new_decrease_vector = (new_vector_decrease - change_min_value) / (change_max_value - change_min_value)\n",
    "            \n",
    "            percent_change_inc = (new_vector_increase - (y) )*100/(y + 1e-9)\n",
    "            percent_change_dec = (new_vector_decrease - (y) )*100/(y + 1e-9)\n",
    "            \n",
    "            result_df = pd.concat([result_df,\n",
    "                pd.DataFrame({\n",
    "                    f'{cap_col} ({base_column} +{intervention}%)': new_vector_increase,\n",
    "                    f'{cap_col} ({base_column} -{intervention}%)': new_vector_decrease,\n",
    "                    f'Normalized {cap_col} ({base_column} +{intervention}%)': normalized_new_increase_vector,\n",
    "                    f'Normalized {cap_col} ({base_column} -{intervention}%)': normalized_new_decrease_vector,\n",
    "                    f'Percent Change in {cap_col} ({base_column} +{intervention}%)': percent_change_inc,\n",
    "                    f'Percent Change in {cap_col} ({base_column} -{intervention}%)': percent_change_dec,\n",
    "                })\n",
    "            ], axis=1)\n",
    "\n",
    "            columns_to_pass = f'{cap_col} ({base_column} +{intervention}%)'\n",
    "            col_pass_plus.append(columns_to_pass)\n",
    "            \n",
    "            # Calculate Stability for the opposite intervention and add to DataFrame\n",
    "            opposite_intervention = -intervention\n",
    "            columns_to_pass_opposite = f'{cap_col} ({base_column} -{intervention}%)'\n",
    "            col_pass_minus.append(columns_to_pass_opposite)\n",
    "        \n",
    "        for column in result_df.columns:\n",
    "            existing_data[column] = result_df[column]\n",
    "\n",
    "        # print(col_pass_minus)\n",
    "        # print(col_pass_plus)\n",
    "        stability_column, stability_column_name = calculate_and_map_stability(G, existing_data.copy(), adjacency_file, col_pass_plus, intervention, dim)\n",
    "\n",
    "        # normalized_stability_vector = (stability_column - stability_column.min()) / (stability_column.max() - stability_column.min())\n",
    "\n",
    "        capability_first_words = [col.split('_')[0] for col in capability_vector]\n",
    "        stability_column_name_modified = stability_column_name + \"_\" + \"_\".join(capability_first_words)\n",
    "        # existing_data[stability_column_name_modified] = normalized_stability_vector\n",
    "        \n",
    "        stability_column_opposite, stability_column_name_opposite = calculate_and_map_stability(G, existing_data.copy(), adjacency_file, col_pass_minus, opposite_intervention, dim)\n",
    "\n",
    "        # Normalize stability values for the opposite intervention\n",
    "        # normalized_stability_vector_opposite = (stability_column_opposite - stability_column_opposite.min()) / (stability_column_opposite.max() - stability_column_opposite.min())    \n",
    "        stability_column_name_opposite_modified = stability_column_name_opposite + \"_\" + \"_\".join(capability_first_words)\n",
    "        # existing_data[stability_column_name_opposite_modified] = normalized_stability_vector_opposite\n",
    "\n",
    "###################\n",
    "        stress_column, stress_column_name = calculate_and_map_stress(G, existing_data.copy(), adjacency_file, col_pass_plus, intervention, dim)\n",
    "        capability_first_words = [col.split('_')[0] for col in capability_vector]\n",
    "        stress_column_name_modified = stress_column_name + \"_\" + \"_\".join(capability_first_words)        \n",
    "        stress_column_opposite, stress_column_name_opposite = calculate_and_map_stress(G, existing_data.copy(), adjacency_file, col_pass_minus, opposite_intervention, dim)\n",
    "        stress_column_name_opposite_modified = stress_column_name_opposite + \"_\" + \"_\".join(capability_first_words)\n",
    "##############    \n",
    "        res1_df = pd.concat([res1_df,\n",
    "                pd.DataFrame({\n",
    "                    stability_column_name_modified: stress_column,\n",
    "                    stability_column_name_opposite_modified: stress_column_opposite,\n",
    "                })\n",
    "            ], axis=1)\n",
    "        \n",
    "    normalized_data_1 = res1_df.copy()\n",
    "    min_value = normalized_data_1.min().min()\n",
    "    max_value = normalized_data_1.max().max()\n",
    "    normalized_data_1 = 1 - (normalized_data_1 - min_value) / (max_value - min_value)\n",
    "    \n",
    "    for column in normalized_data_1.columns:\n",
    "        existing_data[column] = normalized_data_1[column]\n",
    "        res1_df[column] = normalized_data_1[column]\n",
    "        \n",
    "        \n",
    "    color_palette = ['red', 'blue', 'green', 'orange', 'purple', 'violet', 'yellow']\n",
    "    color_cycle = cycle(color_palette)\n",
    "    capability_color_map = {cap_col: next(color_cycle) for cap_col in capability_vector}\n",
    "    fig = make_subplots(rows=len(change_percentages), cols=2, shared_xaxes=True, shared_yaxes=True, vertical_spacing=0.1, horizontal_spacing=0.1, row_heights=[0.5] * len(change_percentages))\n",
    "    \n",
    "    for idx, intervention in enumerate(change_percentages):\n",
    "        for cap_col in capability_vector:\n",
    "            color = capability_color_map[cap_col]\n",
    "\n",
    "            fig.update_xaxes(title_text=f'Stability ({base_column} +{intervention}%)', row=idx + 1, col=1, showline=True, showgrid=True)\n",
    "            fig.update_yaxes(title_text='Percent Change', row=idx + 1, col=1, showline=True, showgrid=True)\n",
    "            fig.update_xaxes(title_text=f'Stability ({base_column} -{intervention}%)', row=idx + 1, col=2, showline=True, showgrid=True)\n",
    "            fig.update_yaxes(title_text='Percent Change', row=idx + 3, col=2, showline=True, showgrid=True)\n",
    "            \n",
    "            fig.update_layout(margin=dict(t=50))\n",
    "            \n",
    "            scatter_increase = go.Scatter(\n",
    "                x=existing_data[stability_column_name_modified],\n",
    "                y=existing_data[f\"Percent Change in {cap_col} ({base_column} +{abs(intervention)}%)\"],\n",
    "                mode='markers',\n",
    "                marker=dict(size=5, symbol='circle', color=color),\n",
    "                name=f'{cap_col} +{intervention}%',\n",
    "                text=existing_data['District'],\n",
    "                hovertemplate='%{text}' + '<br>Percent Change: %{y:.2f}' + '<br>Stability: %{x:.2f}',\n",
    "                showlegend=False\n",
    "            )\n",
    "\n",
    "            fig.add_trace(scatter_increase, row=idx + 1, col=1)\n",
    "\n",
    "            scatter_decrease = go.Scatter(\n",
    "                x=existing_data[stability_column_name_opposite_modified],\n",
    "                y=existing_data[\n",
    "                    f\"Percent Change in {cap_col} ({base_column} {'+' if intervention <= 0 else '-'}{abs(intervention)}%)\"],\n",
    "                mode='markers',\n",
    "                marker=dict(size=5, symbol='circle', color=color),\n",
    "                name=f'{cap_col} -{intervention}%',\n",
    "                text=existing_data['District'],\n",
    "                hovertemplate='%{text}' + '<br>Percent Change: %{y:.2f}' + '<br>Stability: %{x:.2f}',\n",
    "                showlegend=False\n",
    "            )\n",
    "\n",
    "            fig.add_trace(scatter_decrease, row=idx + 1, col=2)\n",
    "\n",
    "        avg_stability_increase = existing_data[stability_column_name_modified].mean()\n",
    "        avg_stability_decrease = existing_data[stability_column_name_opposite_modified].mean()\n",
    "        all_values = [\n",
    "            existing_data[f\"Percent Change in {capability_vector[0]} ({base_column} +{abs(intervention)}%)\"].min(),\n",
    "            existing_data[f\"Percent Change in {capability_vector[0]} ({base_column} -{abs(intervention)}%)\"].min(),\n",
    "            existing_data[f\"Percent Change in {capability_vector[0]} ({base_column} +{abs(intervention)}%)\"].max(),\n",
    "            existing_data[f\"Percent Change in {capability_vector[0]} ({base_column} -{abs(intervention)}%)\"].max()\n",
    "        ]\n",
    "\n",
    "        filtered_values = [value for value in all_values if not np.isinf(value)]\n",
    "\n",
    "        # Calculate the range\n",
    "        if filtered_values:\n",
    "            y_range_1 = max(abs(min(filtered_values)), max(filtered_values))\n",
    "        else:\n",
    "            y_range_1 = 0  # If all values are inf or -inf, set the range to 0\n",
    "\n",
    "        y_axis_1 = max(y_range_1, 1)\n",
    "        print(y_axis_1)\n",
    "        fig.add_shape(\n",
    "            go.layout.Shape(\n",
    "                type=\"line\",\n",
    "                x0=avg_stability_increase,\n",
    "                x1=avg_stability_increase,\n",
    "                y0=-10000,\n",
    "                y1=y_axis_1,\n",
    "                line=dict(color=\"black\", dash=\"dash\", width=1),\n",
    "                name=\"Avg Stability\"\n",
    "            ),\n",
    "            row=idx + 1, col=1\n",
    "        )\n",
    "        fig.add_shape(\n",
    "            go.layout.Shape(\n",
    "                type=\"line\",\n",
    "                x0=avg_stability_decrease,\n",
    "                x1=avg_stability_decrease,\n",
    "                y0=-10000,\n",
    "                y1=y_axis_1,\n",
    "                line=dict(color=\"black\", dash=\"dash\", width=1),\n",
    "                name=\"Avg Stability\"\n",
    "            ),\n",
    "            row=idx + 1, col=2\n",
    "        )\n",
    "\n",
    "        avg_impact_increase = existing_data[f\"Percent Change in {capability_vector[0]} ({base_column} +{abs(intervention)}%)\"].mean()\n",
    "        avg_impact_decrease = existing_data[f\"Percent Change in {capability_vector[0]} ({base_column} {'+' if intervention <= 0 else '-'}{abs(intervention)}%)\"].mean()\n",
    "\n",
    "        # Add shapes for average impact lines\n",
    "        fig.add_shape(\n",
    "            go.layout.Shape(\n",
    "                type=\"line\",\n",
    "                x0=0,\n",
    "                x1=1,\n",
    "                y0=avg_impact_increase,\n",
    "                y1=avg_impact_increase,\n",
    "                line=dict(color=\"black\", dash=\"dash\", width=1),\n",
    "                name=\"Avg Impact\"\n",
    "            ),\n",
    "            row=idx + 1, col=1\n",
    "        )\n",
    "        fig.add_shape(\n",
    "            go.layout.Shape(\n",
    "                type=\"line\",\n",
    "                x0=0,\n",
    "                x1=1,\n",
    "                y0=avg_impact_decrease,\n",
    "                y1=avg_impact_decrease,\n",
    "                line=dict(color=\"black\", dash=\"dash\", width=1),\n",
    "                name=\"Avg Impact\"\n",
    "            ),\n",
    "            row=idx + 1, col=2\n",
    "        )\n",
    "\n",
    "\n",
    "    for cap_col in capability_vector:\n",
    "        fig.add_trace(go.Scatter(x=[None], y=[None], mode='markers', marker=dict(size=5, symbol='circle', color=capability_color_map[cap_col]), name=cap_col), row=1, col=1)\n",
    "\n",
    "    fig.update_layout(\n",
    "        height=800,  \n",
    "        showlegend=True,\n",
    "        legend=dict(title=\"Capability\", orientation=\"v\", yanchor=\"bottom\", y=0.85, xanchor=\"left\", x=1),\n",
    "    )\n",
    "    fig.show()\n",
    "\n",
    "    return existing_data, result_df, res1_df\n",
    "\n",
    "base_column = \"TotalNPK\"\n",
    "capability_vector = [\"Rice_Production\", \"Maize_Production\"]\n",
    "change_percentages = [10,20]\n",
    "dim = len(capability_vector)\n",
    "\n",
    "new_data_1,result_df,res1_df = calc_and_vis_impact_stability_2D1(G, existing_data.copy(), adjacency_file, base_column, capability_vector, change_percentages, dim)\n",
    "new_data_1.head()"
   ]
  },
  {
   "cell_type": "code",
   "execution_count": 124,
   "metadata": {},
   "outputs": [
    {
     "data": {
      "text/plain": [
       "Index(['District', 'Initial Stability', 'Rice_Production (TotalNPK +10%)',\n",
       "       'Rice_Production (TotalNPK -10%)',\n",
       "       'Normalized Rice_Production (TotalNPK +10%)',\n",
       "       'Normalized Rice_Production (TotalNPK -10%)',\n",
       "       'Percent Change in Rice_Production (TotalNPK +10%)',\n",
       "       'Percent Change in Rice_Production (TotalNPK -10%)',\n",
       "       'Maize_Production (TotalNPK +10%)', 'Maize_Production (TotalNPK -10%)',\n",
       "       'Normalized Maize_Production (TotalNPK +10%)',\n",
       "       'Normalized Maize_Production (TotalNPK -10%)',\n",
       "       'Percent Change in Maize_Production (TotalNPK +10%)',\n",
       "       'Percent Change in Maize_Production (TotalNPK -10%)',\n",
       "       'Rice_Production (TotalNPK +20%)', 'Rice_Production (TotalNPK -20%)',\n",
       "       'Normalized Rice_Production (TotalNPK +20%)',\n",
       "       'Normalized Rice_Production (TotalNPK -20%)',\n",
       "       'Percent Change in Rice_Production (TotalNPK +20%)',\n",
       "       'Percent Change in Rice_Production (TotalNPK -20%)',\n",
       "       'Maize_Production (TotalNPK +20%)', 'Maize_Production (TotalNPK -20%)',\n",
       "       'Normalized Maize_Production (TotalNPK +20%)',\n",
       "       'Normalized Maize_Production (TotalNPK -20%)',\n",
       "       'Percent Change in Maize_Production (TotalNPK +20%)',\n",
       "       'Percent Change in Maize_Production (TotalNPK -20%)',\n",
       "       'New Stability(NPK + 10%)_Rice_Maize',\n",
       "       'New Stability(NPK - 10%)_Rice_Maize',\n",
       "       'New Stability(NPK + 20%)_Rice_Maize',\n",
       "       'New Stability(NPK - 20%)_Rice_Maize',\n",
       "       'Impact in Rice_Production (TotalNPK -10%)',\n",
       "       'Relative Change in Rice_Production (TotalNPK -10%)',\n",
       "       'Impact in Maize_Production (TotalNPK -10%)',\n",
       "       'Relative Change in Maize_Production (TotalNPK -10%)',\n",
       "       'Impact in Rice_Production (TotalNPK +10%)',\n",
       "       'Relative Change in Rice_Production (TotalNPK +10%)',\n",
       "       'Impact in Maize_Production (TotalNPK +10%)',\n",
       "       'Relative Change in Maize_Production (TotalNPK +10%)',\n",
       "       'Impact in Rice_Production (TotalNPK +20%)',\n",
       "       'Relative Change in Rice_Production (TotalNPK +20%)',\n",
       "       'Impact in Maize_Production (TotalNPK +20%)',\n",
       "       'Relative Change in Maize_Production (TotalNPK +20%)',\n",
       "       'Impact in Rice_Production (TotalNPK -20%)',\n",
       "       'Relative Change in Rice_Production (TotalNPK -20%)',\n",
       "       'Impact in Maize_Production (TotalNPK -20%)',\n",
       "       'Relative Change in Maize_Production (TotalNPK -20%)'],\n",
       "      dtype='object')"
      ]
     },
     "execution_count": 124,
     "metadata": {},
     "output_type": "execute_result"
    }
   ],
   "source": [
    "new_data_1.columns"
   ]
  },
  {
   "cell_type": "code",
   "execution_count": 101,
   "metadata": {},
   "outputs": [
    {
     "data": {
      "text/plain": [
       "0       2060.658670\n",
       "1       2586.711226\n",
       "2        188.798430\n",
       "3       2156.849152\n",
       "4        -47.763967\n",
       "5       8032.222426\n",
       "6       3051.484542\n",
       "7        -60.343751\n",
       "8        316.512025\n",
       "9         62.494352\n",
       "10       -53.511090\n",
       "11       -76.942272\n",
       "12        25.931424\n",
       "13        33.447568\n",
       "14       -34.242423\n",
       "15       -53.248463\n",
       "16        61.645470\n",
       "17       152.355491\n",
       "18     86350.474192\n",
       "19    258944.862745\n",
       "20       213.724315\n",
       "21       904.023320\n",
       "22        37.741272\n",
       "23       -64.828904\n",
       "24       -20.059087\n",
       "25      3641.214892\n",
       "26      1756.206243\n",
       "27         5.018887\n",
       "28       -39.510893\n",
       "29       -20.646338\n",
       "30       -20.060248\n",
       "Name: Percent Change in Rice_Production (TotalNPK +10%), dtype: float64"
      ]
     },
     "execution_count": 101,
     "metadata": {},
     "output_type": "execute_result"
    }
   ],
   "source": [
    "new_data_1['Percent Change in Rice_Production (TotalNPK +10%)']"
   ]
  },
  {
   "cell_type": "code",
   "execution_count": 102,
   "metadata": {},
   "outputs": [
    {
     "data": {
      "text/plain": [
       "0       1760.101987\n",
       "1       2230.576906\n",
       "2        161.979946\n",
       "3       1814.750397\n",
       "4        -56.624923\n",
       "5       6914.252520\n",
       "6       2593.970012\n",
       "7        -66.744645\n",
       "8        252.746786\n",
       "9         35.768741\n",
       "10       -59.613692\n",
       "11       -78.879366\n",
       "12         5.202939\n",
       "13        12.794587\n",
       "14       -44.934582\n",
       "15       -60.869159\n",
       "16        39.049964\n",
       "17       108.227497\n",
       "18     72464.983893\n",
       "19    215511.352264\n",
       "20       165.850385\n",
       "21       764.401734\n",
       "22        15.181596\n",
       "23       -69.186976\n",
       "24       -33.082163\n",
       "25      3114.025542\n",
       "26      1458.213719\n",
       "27       -12.688589\n",
       "28       -49.876075\n",
       "29       -33.794745\n",
       "30       -33.083113\n",
       "Name: Percent Change in Rice_Production (TotalNPK -10%), dtype: float64"
      ]
     },
     "execution_count": 102,
     "metadata": {},
     "output_type": "execute_result"
    }
   ],
   "source": [
    "new_data_1['Percent Change in Rice_Production (TotalNPK -10%)']"
   ]
  },
  {
   "cell_type": "code",
   "execution_count": 103,
   "metadata": {},
   "outputs": [],
   "source": [
    "abbreviation_mapping = {\n",
    "    'BENGALURU': 'BLR',\n",
    "    'BENGALURU(R)': 'BLR(R)',\n",
    "    'RAMANAGARA': 'RGA',\n",
    "    'CHITRADURGA': 'CDA',\n",
    "    'DAVANAGERE': 'DVG',\n",
    "    'KOLAR': 'KLR',\n",
    "    'CHIKKABALLAPURA': 'CKA',\n",
    "    'SHIVAMOGGA': 'SMG',\n",
    "    'TUMAKURU': 'TKR',\n",
    "    'CHIKKAMAGALURU': 'CMG',\n",
    "    'DAKSHINA KANNADA': 'DKA',\n",
    "    'UDUPI': 'UPI',\n",
    "    'HASSAN': 'HSN',\n",
    "    'KODAGU': 'KDG',\n",
    "    'MANDYA': 'MDY',\n",
    "    'MYSURU': 'MYS',\n",
    "    'CHAMARAJANAGAR': 'CNR',\n",
    "    'BELAGAVI': 'BLG',\n",
    "    'VIJAYAPURA': 'VJP',\n",
    "    'BAGALKOT': 'BKT',\n",
    "    'DHARAWAD': 'DWD',\n",
    "    'GADAG': 'GDG',\n",
    "    'HAVERI': 'HVR',\n",
    "    'UTTARA KANNADA': 'UTK',\n",
    "    'BALLARI': 'BLL',\n",
    "    'BIDAR': 'BDR',\n",
    "    'KALABURAGI': 'KLB',\n",
    "    'YADGIRI': 'YDR',\n",
    "    'RAICHUR': 'RCR',\n",
    "    'KOPPAL': 'KPL',\n",
    "    'Vijayanagara': 'VNG',\n",
    "}\n",
    "\n",
    "df['Abbreviation'] = df['District'].map(abbreviation_mapping)"
   ]
  },
  {
   "cell_type": "code",
   "execution_count": 104,
   "metadata": {},
   "outputs": [
    {
     "data": {
      "text/plain": [
       "0        BLR\n",
       "1     BLR(R)\n",
       "2        RGA\n",
       "3        CDA\n",
       "4        DVG\n",
       "5        KLR\n",
       "6        CKA\n",
       "7        SMG\n",
       "8        TKR\n",
       "9        CMG\n",
       "10       DKA\n",
       "11       UPI\n",
       "12       HSN\n",
       "13       KDG\n",
       "14       MDY\n",
       "15       MYS\n",
       "16       CNR\n",
       "17       BLG\n",
       "18       VJP\n",
       "19       BKT\n",
       "20       DWD\n",
       "21       GDG\n",
       "22       HVR\n",
       "23       UTK\n",
       "24       BLL\n",
       "25       BDR\n",
       "26       KLB\n",
       "27       YDR\n",
       "28       RCR\n",
       "29       KPL\n",
       "30       VNG\n",
       "Name: Abbreviation, dtype: object"
      ]
     },
     "execution_count": 104,
     "metadata": {},
     "output_type": "execute_result"
    }
   ],
   "source": [
    "df['Abbreviation']"
   ]
  },
  {
   "cell_type": "code",
   "execution_count": 105,
   "metadata": {},
   "outputs": [
    {
     "name": "stdout",
     "output_type": "stream",
     "text": [
      "Index(['New Stability(NPK + 10%)', 'New Stability(NPK - 10%)',\n",
      "       'New Stability(NPK + 20%)', 'New Stability(NPK - 20%)'],\n",
      "      dtype='object')\n"
     ]
    }
   ],
   "source": [
    "res1_df.columns = [col.replace('_Rice_Maize', '') for col in res1_df.columns]\n",
    "\n",
    "print(res1_df.columns)"
   ]
  },
  {
   "cell_type": "code",
   "execution_count": 106,
   "metadata": {},
   "outputs": [
    {
     "data": {
      "text/html": [
       "<div>\n",
       "<style scoped>\n",
       "    .dataframe tbody tr th:only-of-type {\n",
       "        vertical-align: middle;\n",
       "    }\n",
       "\n",
       "    .dataframe tbody tr th {\n",
       "        vertical-align: top;\n",
       "    }\n",
       "\n",
       "    .dataframe thead th {\n",
       "        text-align: right;\n",
       "    }\n",
       "</style>\n",
       "<table border=\"1\" class=\"dataframe\">\n",
       "  <thead>\n",
       "    <tr style=\"text-align: right;\">\n",
       "      <th></th>\n",
       "      <th>New Stability(NPK + 10%)</th>\n",
       "      <th>New Stability(NPK - 10%)</th>\n",
       "      <th>New Stability(NPK + 20%)</th>\n",
       "      <th>New Stability(NPK - 20%)</th>\n",
       "    </tr>\n",
       "  </thead>\n",
       "  <tbody>\n",
       "    <tr>\n",
       "      <th>0</th>\n",
       "      <td>0.940864</td>\n",
       "      <td>0.953059</td>\n",
       "      <td>0.934767</td>\n",
       "      <td>0.959157</td>\n",
       "    </tr>\n",
       "    <tr>\n",
       "      <th>1</th>\n",
       "      <td>0.976666</td>\n",
       "      <td>0.982351</td>\n",
       "      <td>0.973823</td>\n",
       "      <td>0.985194</td>\n",
       "    </tr>\n",
       "    <tr>\n",
       "      <th>2</th>\n",
       "      <td>0.835654</td>\n",
       "      <td>0.866978</td>\n",
       "      <td>0.819992</td>\n",
       "      <td>0.882640</td>\n",
       "    </tr>\n",
       "    <tr>\n",
       "      <th>3</th>\n",
       "      <td>0.806185</td>\n",
       "      <td>0.842867</td>\n",
       "      <td>0.787844</td>\n",
       "      <td>0.861208</td>\n",
       "    </tr>\n",
       "    <tr>\n",
       "      <th>4</th>\n",
       "      <td>0.727833</td>\n",
       "      <td>0.778761</td>\n",
       "      <td>0.702369</td>\n",
       "      <td>0.804225</td>\n",
       "    </tr>\n",
       "    <tr>\n",
       "      <th>5</th>\n",
       "      <td>0.997024</td>\n",
       "      <td>0.999008</td>\n",
       "      <td>0.996032</td>\n",
       "      <td>1.000000</td>\n",
       "    </tr>\n",
       "    <tr>\n",
       "      <th>6</th>\n",
       "      <td>0.995630</td>\n",
       "      <td>0.997867</td>\n",
       "      <td>0.994511</td>\n",
       "      <td>0.998986</td>\n",
       "    </tr>\n",
       "    <tr>\n",
       "      <th>7</th>\n",
       "      <td>0.968719</td>\n",
       "      <td>0.975850</td>\n",
       "      <td>0.965154</td>\n",
       "      <td>0.979415</td>\n",
       "    </tr>\n",
       "    <tr>\n",
       "      <th>8</th>\n",
       "      <td>0.987907</td>\n",
       "      <td>0.991549</td>\n",
       "      <td>0.986086</td>\n",
       "      <td>0.993370</td>\n",
       "    </tr>\n",
       "    <tr>\n",
       "      <th>9</th>\n",
       "      <td>0.861877</td>\n",
       "      <td>0.888433</td>\n",
       "      <td>0.848599</td>\n",
       "      <td>0.901712</td>\n",
       "    </tr>\n",
       "    <tr>\n",
       "      <th>10</th>\n",
       "      <td>0.824082</td>\n",
       "      <td>0.857510</td>\n",
       "      <td>0.807368</td>\n",
       "      <td>0.874224</td>\n",
       "    </tr>\n",
       "    <tr>\n",
       "      <th>11</th>\n",
       "      <td>0.782355</td>\n",
       "      <td>0.823370</td>\n",
       "      <td>0.761847</td>\n",
       "      <td>0.843877</td>\n",
       "    </tr>\n",
       "    <tr>\n",
       "      <th>12</th>\n",
       "      <td>0.870269</td>\n",
       "      <td>0.895300</td>\n",
       "      <td>0.857754</td>\n",
       "      <td>0.907815</td>\n",
       "    </tr>\n",
       "    <tr>\n",
       "      <th>13</th>\n",
       "      <td>0.949051</td>\n",
       "      <td>0.959758</td>\n",
       "      <td>0.943698</td>\n",
       "      <td>0.965111</td>\n",
       "    </tr>\n",
       "    <tr>\n",
       "      <th>14</th>\n",
       "      <td>0.869102</td>\n",
       "      <td>0.894344</td>\n",
       "      <td>0.856480</td>\n",
       "      <td>0.906966</td>\n",
       "    </tr>\n",
       "    <tr>\n",
       "      <th>15</th>\n",
       "      <td>0.916349</td>\n",
       "      <td>0.933001</td>\n",
       "      <td>0.908023</td>\n",
       "      <td>0.941328</td>\n",
       "    </tr>\n",
       "    <tr>\n",
       "      <th>16</th>\n",
       "      <td>0.876112</td>\n",
       "      <td>0.900080</td>\n",
       "      <td>0.864128</td>\n",
       "      <td>0.912064</td>\n",
       "    </tr>\n",
       "    <tr>\n",
       "      <th>17</th>\n",
       "      <td>0.083995</td>\n",
       "      <td>0.251984</td>\n",
       "      <td>0.000000</td>\n",
       "      <td>0.335979</td>\n",
       "    </tr>\n",
       "    <tr>\n",
       "      <th>18</th>\n",
       "      <td>0.662223</td>\n",
       "      <td>0.725080</td>\n",
       "      <td>0.630794</td>\n",
       "      <td>0.756508</td>\n",
       "    </tr>\n",
       "    <tr>\n",
       "      <th>19</th>\n",
       "      <td>0.975256</td>\n",
       "      <td>0.981198</td>\n",
       "      <td>0.972285</td>\n",
       "      <td>0.984169</td>\n",
       "    </tr>\n",
       "    <tr>\n",
       "      <th>20</th>\n",
       "      <td>0.781881</td>\n",
       "      <td>0.822982</td>\n",
       "      <td>0.761330</td>\n",
       "      <td>0.843532</td>\n",
       "    </tr>\n",
       "    <tr>\n",
       "      <th>21</th>\n",
       "      <td>0.621461</td>\n",
       "      <td>0.691729</td>\n",
       "      <td>0.586327</td>\n",
       "      <td>0.726863</td>\n",
       "    </tr>\n",
       "    <tr>\n",
       "      <th>22</th>\n",
       "      <td>0.912116</td>\n",
       "      <td>0.929538</td>\n",
       "      <td>0.903405</td>\n",
       "      <td>0.938249</td>\n",
       "    </tr>\n",
       "    <tr>\n",
       "      <th>23</th>\n",
       "      <td>0.645679</td>\n",
       "      <td>0.711544</td>\n",
       "      <td>0.612747</td>\n",
       "      <td>0.744477</td>\n",
       "    </tr>\n",
       "    <tr>\n",
       "      <th>24</th>\n",
       "      <td>0.964959</td>\n",
       "      <td>0.972773</td>\n",
       "      <td>0.961052</td>\n",
       "      <td>0.976680</td>\n",
       "    </tr>\n",
       "    <tr>\n",
       "      <th>25</th>\n",
       "      <td>0.810041</td>\n",
       "      <td>0.846022</td>\n",
       "      <td>0.792051</td>\n",
       "      <td>0.864013</td>\n",
       "    </tr>\n",
       "    <tr>\n",
       "      <th>26</th>\n",
       "      <td>0.989326</td>\n",
       "      <td>0.992710</td>\n",
       "      <td>0.987634</td>\n",
       "      <td>0.994402</td>\n",
       "    </tr>\n",
       "    <tr>\n",
       "      <th>27</th>\n",
       "      <td>0.898437</td>\n",
       "      <td>0.918346</td>\n",
       "      <td>0.888483</td>\n",
       "      <td>0.928301</td>\n",
       "    </tr>\n",
       "    <tr>\n",
       "      <th>28</th>\n",
       "      <td>0.710458</td>\n",
       "      <td>0.764545</td>\n",
       "      <td>0.683414</td>\n",
       "      <td>0.791588</td>\n",
       "    </tr>\n",
       "    <tr>\n",
       "      <th>29</th>\n",
       "      <td>0.982167</td>\n",
       "      <td>0.986852</td>\n",
       "      <td>0.979824</td>\n",
       "      <td>0.989195</td>\n",
       "    </tr>\n",
       "    <tr>\n",
       "      <th>30</th>\n",
       "      <td>0.995619</td>\n",
       "      <td>0.997858</td>\n",
       "      <td>0.994499</td>\n",
       "      <td>0.998978</td>\n",
       "    </tr>\n",
       "  </tbody>\n",
       "</table>\n",
       "</div>"
      ],
      "text/plain": [
       "    New Stability(NPK + 10%)  New Stability(NPK - 10%)  \\\n",
       "0                   0.940864                  0.953059   \n",
       "1                   0.976666                  0.982351   \n",
       "2                   0.835654                  0.866978   \n",
       "3                   0.806185                  0.842867   \n",
       "4                   0.727833                  0.778761   \n",
       "5                   0.997024                  0.999008   \n",
       "6                   0.995630                  0.997867   \n",
       "7                   0.968719                  0.975850   \n",
       "8                   0.987907                  0.991549   \n",
       "9                   0.861877                  0.888433   \n",
       "10                  0.824082                  0.857510   \n",
       "11                  0.782355                  0.823370   \n",
       "12                  0.870269                  0.895300   \n",
       "13                  0.949051                  0.959758   \n",
       "14                  0.869102                  0.894344   \n",
       "15                  0.916349                  0.933001   \n",
       "16                  0.876112                  0.900080   \n",
       "17                  0.083995                  0.251984   \n",
       "18                  0.662223                  0.725080   \n",
       "19                  0.975256                  0.981198   \n",
       "20                  0.781881                  0.822982   \n",
       "21                  0.621461                  0.691729   \n",
       "22                  0.912116                  0.929538   \n",
       "23                  0.645679                  0.711544   \n",
       "24                  0.964959                  0.972773   \n",
       "25                  0.810041                  0.846022   \n",
       "26                  0.989326                  0.992710   \n",
       "27                  0.898437                  0.918346   \n",
       "28                  0.710458                  0.764545   \n",
       "29                  0.982167                  0.986852   \n",
       "30                  0.995619                  0.997858   \n",
       "\n",
       "    New Stability(NPK + 20%)  New Stability(NPK - 20%)  \n",
       "0                   0.934767                  0.959157  \n",
       "1                   0.973823                  0.985194  \n",
       "2                   0.819992                  0.882640  \n",
       "3                   0.787844                  0.861208  \n",
       "4                   0.702369                  0.804225  \n",
       "5                   0.996032                  1.000000  \n",
       "6                   0.994511                  0.998986  \n",
       "7                   0.965154                  0.979415  \n",
       "8                   0.986086                  0.993370  \n",
       "9                   0.848599                  0.901712  \n",
       "10                  0.807368                  0.874224  \n",
       "11                  0.761847                  0.843877  \n",
       "12                  0.857754                  0.907815  \n",
       "13                  0.943698                  0.965111  \n",
       "14                  0.856480                  0.906966  \n",
       "15                  0.908023                  0.941328  \n",
       "16                  0.864128                  0.912064  \n",
       "17                  0.000000                  0.335979  \n",
       "18                  0.630794                  0.756508  \n",
       "19                  0.972285                  0.984169  \n",
       "20                  0.761330                  0.843532  \n",
       "21                  0.586327                  0.726863  \n",
       "22                  0.903405                  0.938249  \n",
       "23                  0.612747                  0.744477  \n",
       "24                  0.961052                  0.976680  \n",
       "25                  0.792051                  0.864013  \n",
       "26                  0.987634                  0.994402  \n",
       "27                  0.888483                  0.928301  \n",
       "28                  0.683414                  0.791588  \n",
       "29                  0.979824                  0.989195  \n",
       "30                  0.994499                  0.998978  "
      ]
     },
     "execution_count": 106,
     "metadata": {},
     "output_type": "execute_result"
    }
   ],
   "source": [
    "res1_df"
   ]
  },
  {
   "cell_type": "code",
   "execution_count": 107,
   "metadata": {},
   "outputs": [
    {
     "data": {
      "text/plain": [
       "Index(['District', 'Initial Stability', 'Rice_Production (TotalNPK +10%)',\n",
       "       'Rice_Production (TotalNPK -10%)',\n",
       "       'Normalized Rice_Production (TotalNPK +10%)',\n",
       "       'Normalized Rice_Production (TotalNPK -10%)',\n",
       "       'Percent Change in Rice_Production (TotalNPK +10%)',\n",
       "       'Percent Change in Rice_Production (TotalNPK -10%)',\n",
       "       'Maize_Production (TotalNPK +10%)', 'Maize_Production (TotalNPK -10%)',\n",
       "       'Normalized Maize_Production (TotalNPK +10%)',\n",
       "       'Normalized Maize_Production (TotalNPK -10%)',\n",
       "       'Percent Change in Maize_Production (TotalNPK +10%)',\n",
       "       'Percent Change in Maize_Production (TotalNPK -10%)',\n",
       "       'Rice_Production (TotalNPK +20%)', 'Rice_Production (TotalNPK -20%)',\n",
       "       'Normalized Rice_Production (TotalNPK +20%)',\n",
       "       'Normalized Rice_Production (TotalNPK -20%)',\n",
       "       'Percent Change in Rice_Production (TotalNPK +20%)',\n",
       "       'Percent Change in Rice_Production (TotalNPK -20%)',\n",
       "       'Maize_Production (TotalNPK +20%)', 'Maize_Production (TotalNPK -20%)',\n",
       "       'Normalized Maize_Production (TotalNPK +20%)',\n",
       "       'Normalized Maize_Production (TotalNPK -20%)',\n",
       "       'Percent Change in Maize_Production (TotalNPK +20%)',\n",
       "       'Percent Change in Maize_Production (TotalNPK -20%)',\n",
       "       'New Stability(NPK + 10%)_Rice_Maize',\n",
       "       'New Stability(NPK - 10%)_Rice_Maize',\n",
       "       'New Stability(NPK + 20%)_Rice_Maize',\n",
       "       'New Stability(NPK - 20%)_Rice_Maize'],\n",
       "      dtype='object')"
      ]
     },
     "execution_count": 107,
     "metadata": {},
     "output_type": "execute_result"
    }
   ],
   "source": [
    "new_data_1.columns"
   ]
  },
  {
   "cell_type": "code",
   "execution_count": 108,
   "metadata": {},
   "outputs": [],
   "source": [
    "ch = [-10, 10, 20, -20]\n",
    "\n",
    "for intervention in ch:\n",
    "    for cap_col in capability_vector:\n",
    "        percent_change_col = new_data_1[f\"Percent Change in {cap_col} (TotalNPK {'+' if intervention >= 0 else '-'}{abs(intervention)}%)\"]\n",
    "        percent_change_col.replace([np.inf, -np.inf], np.nan, inplace=True)\n",
    "    \n",
    "        min_val = percent_change_col.min()\n",
    "        max_val = percent_change_col.max()\n",
    "        \n",
    "        if np.isnan(min_val) or np.isnan(max_val):\n",
    "            continue\n",
    "        \n",
    "        normalized_col = (percent_change_col - min_val) / (max_val - min_val)\n",
    "        relative_col = percent_change_col/100\n",
    "        impact_col_name = f\"Impact in {cap_col} (TotalNPK {'+' if intervention >= 0 else '-'}{abs(intervention)}%)\"\n",
    "        relative_col_name = f\"Relative Change in {cap_col} (TotalNPK {'+' if intervention >= 0 else '-'}{abs(intervention)}%)\"\n",
    "        new_data_1[impact_col_name] = normalized_col\n",
    "        new_data_1[relative_col_name] = relative_col\n"
   ]
  },
  {
   "cell_type": "code",
   "execution_count": 109,
   "metadata": {},
   "outputs": [
    {
     "data": {
      "text/plain": [
       "Index(['District', 'Initial Stability', 'Rice_Production (TotalNPK +10%)',\n",
       "       'Rice_Production (TotalNPK -10%)',\n",
       "       'Normalized Rice_Production (TotalNPK +10%)',\n",
       "       'Normalized Rice_Production (TotalNPK -10%)',\n",
       "       'Percent Change in Rice_Production (TotalNPK +10%)',\n",
       "       'Percent Change in Rice_Production (TotalNPK -10%)',\n",
       "       'Maize_Production (TotalNPK +10%)', 'Maize_Production (TotalNPK -10%)',\n",
       "       'Normalized Maize_Production (TotalNPK +10%)',\n",
       "       'Normalized Maize_Production (TotalNPK -10%)',\n",
       "       'Percent Change in Maize_Production (TotalNPK +10%)',\n",
       "       'Percent Change in Maize_Production (TotalNPK -10%)',\n",
       "       'Rice_Production (TotalNPK +20%)', 'Rice_Production (TotalNPK -20%)',\n",
       "       'Normalized Rice_Production (TotalNPK +20%)',\n",
       "       'Normalized Rice_Production (TotalNPK -20%)',\n",
       "       'Percent Change in Rice_Production (TotalNPK +20%)',\n",
       "       'Percent Change in Rice_Production (TotalNPK -20%)',\n",
       "       'Maize_Production (TotalNPK +20%)', 'Maize_Production (TotalNPK -20%)',\n",
       "       'Normalized Maize_Production (TotalNPK +20%)',\n",
       "       'Normalized Maize_Production (TotalNPK -20%)',\n",
       "       'Percent Change in Maize_Production (TotalNPK +20%)',\n",
       "       'Percent Change in Maize_Production (TotalNPK -20%)',\n",
       "       'New Stability(NPK + 10%)_Rice_Maize',\n",
       "       'New Stability(NPK - 10%)_Rice_Maize',\n",
       "       'New Stability(NPK + 20%)_Rice_Maize',\n",
       "       'New Stability(NPK - 20%)_Rice_Maize',\n",
       "       'Impact in Rice_Production (TotalNPK -10%)',\n",
       "       'Relative Change in Rice_Production (TotalNPK -10%)',\n",
       "       'Impact in Maize_Production (TotalNPK -10%)',\n",
       "       'Relative Change in Maize_Production (TotalNPK -10%)',\n",
       "       'Impact in Rice_Production (TotalNPK +10%)',\n",
       "       'Relative Change in Rice_Production (TotalNPK +10%)',\n",
       "       'Impact in Maize_Production (TotalNPK +10%)',\n",
       "       'Relative Change in Maize_Production (TotalNPK +10%)',\n",
       "       'Impact in Rice_Production (TotalNPK +20%)',\n",
       "       'Relative Change in Rice_Production (TotalNPK +20%)',\n",
       "       'Impact in Maize_Production (TotalNPK +20%)',\n",
       "       'Relative Change in Maize_Production (TotalNPK +20%)',\n",
       "       'Impact in Rice_Production (TotalNPK -20%)',\n",
       "       'Relative Change in Rice_Production (TotalNPK -20%)',\n",
       "       'Impact in Maize_Production (TotalNPK -20%)',\n",
       "       'Relative Change in Maize_Production (TotalNPK -20%)'],\n",
       "      dtype='object')"
      ]
     },
     "execution_count": 109,
     "metadata": {},
     "output_type": "execute_result"
    }
   ],
   "source": [
    "new_data_1.columns"
   ]
  },
  {
   "cell_type": "code",
   "execution_count": 110,
   "metadata": {},
   "outputs": [
    {
     "data": {
      "text/plain": [
       "0       20.606587\n",
       "1       25.867112\n",
       "2        1.887984\n",
       "3       21.568492\n",
       "4       -0.477640\n",
       "5       80.322224\n",
       "6       30.514845\n",
       "7       -0.603438\n",
       "8        3.165120\n",
       "9        0.624944\n",
       "10      -0.535111\n",
       "11      -0.769423\n",
       "12       0.259314\n",
       "13       0.334476\n",
       "14      -0.342424\n",
       "15      -0.532485\n",
       "16       0.616455\n",
       "17       1.523555\n",
       "18     863.504742\n",
       "19    2589.448627\n",
       "20       2.137243\n",
       "21       9.040233\n",
       "22       0.377413\n",
       "23      -0.648289\n",
       "24      -0.200591\n",
       "25      36.412149\n",
       "26      17.562062\n",
       "27       0.050189\n",
       "28      -0.395109\n",
       "29      -0.206463\n",
       "30      -0.200602\n",
       "Name: Relative Change in Rice_Production (TotalNPK +10%), dtype: float64"
      ]
     },
     "execution_count": 110,
     "metadata": {},
     "output_type": "execute_result"
    }
   ],
   "source": [
    "new_data_1['Relative Change in Rice_Production (TotalNPK +10%)']"
   ]
  },
  {
   "cell_type": "code",
   "execution_count": 111,
   "metadata": {},
   "outputs": [
    {
     "data": {
      "text/plain": [
       "Index(['District', 'Percent Change in Rice_Production (TotalNPK +10%)',\n",
       "       'Relative Change in Rice_Production (TotalNPK +10%)',\n",
       "       'Impact in Rice_Production (TotalNPK +10%)',\n",
       "       'Percent Change in Maize_Production (TotalNPK +10%)',\n",
       "       'Relative Change in Maize_Production (TotalNPK +10%)',\n",
       "       'Impact in Maize_Production (TotalNPK +10%)'],\n",
       "      dtype='object')"
      ]
     },
     "execution_count": 111,
     "metadata": {},
     "output_type": "execute_result"
    }
   ],
   "source": [
    "newdf = pd.DataFrame()\n",
    "newdf = pd.concat([newdf, new_data_1['District']], axis=1) \n",
    "newdf = pd.concat([newdf, new_data_1['Percent Change in Rice_Production (TotalNPK +10%)']], axis=1) \n",
    "newdf = pd.concat([newdf, new_data_1['Relative Change in Rice_Production (TotalNPK +10%)']], axis=1) \n",
    "newdf = pd.concat([newdf, new_data_1['Impact in Rice_Production (TotalNPK +10%)']], axis=1) \n",
    "newdf = pd.concat([newdf, new_data_1['Percent Change in Maize_Production (TotalNPK +10%)']], axis=1) \n",
    "newdf = pd.concat([newdf, new_data_1['Relative Change in Maize_Production (TotalNPK +10%)']], axis=1) \n",
    "newdf = pd.concat([newdf, new_data_1['Impact in Maize_Production (TotalNPK +10%)']], axis=1) \n",
    "newdf.columns"
   ]
  },
  {
   "cell_type": "code",
   "execution_count": 112,
   "metadata": {},
   "outputs": [],
   "source": [
    "newdf.to_csv('test1.csv')"
   ]
  },
  {
   "cell_type": "code",
   "execution_count": 113,
   "metadata": {},
   "outputs": [
    {
     "data": {
      "text/html": [
       "<div>\n",
       "<style scoped>\n",
       "    .dataframe tbody tr th:only-of-type {\n",
       "        vertical-align: middle;\n",
       "    }\n",
       "\n",
       "    .dataframe tbody tr th {\n",
       "        vertical-align: top;\n",
       "    }\n",
       "\n",
       "    .dataframe thead th {\n",
       "        text-align: right;\n",
       "    }\n",
       "</style>\n",
       "<table border=\"1\" class=\"dataframe\">\n",
       "  <thead>\n",
       "    <tr style=\"text-align: right;\">\n",
       "      <th></th>\n",
       "      <th>District</th>\n",
       "      <th>Percent Change in Rice_Production (TotalNPK +10%)</th>\n",
       "      <th>Relative Change in Rice_Production (TotalNPK +10%)</th>\n",
       "      <th>Impact in Rice_Production (TotalNPK +10%)</th>\n",
       "      <th>Percent Change in Maize_Production (TotalNPK +10%)</th>\n",
       "      <th>Relative Change in Maize_Production (TotalNPK +10%)</th>\n",
       "      <th>Impact in Maize_Production (TotalNPK +10%)</th>\n",
       "    </tr>\n",
       "  </thead>\n",
       "  <tbody>\n",
       "    <tr>\n",
       "      <th>0</th>\n",
       "      <td>BENGALURU</td>\n",
       "      <td>2060.658670</td>\n",
       "      <td>20.606587</td>\n",
       "      <td>0.008253</td>\n",
       "      <td>2134.239046</td>\n",
       "      <td>21.342390</td>\n",
       "      <td>0.046395</td>\n",
       "    </tr>\n",
       "    <tr>\n",
       "      <th>1</th>\n",
       "      <td>BENGALURU(R)</td>\n",
       "      <td>2586.711226</td>\n",
       "      <td>25.867112</td>\n",
       "      <td>0.010284</td>\n",
       "      <td>22.867551</td>\n",
       "      <td>0.228676</td>\n",
       "      <td>0.001806</td>\n",
       "    </tr>\n",
       "    <tr>\n",
       "      <th>2</th>\n",
       "      <td>RAMANAGARA</td>\n",
       "      <td>188.798430</td>\n",
       "      <td>1.887984</td>\n",
       "      <td>0.001026</td>\n",
       "      <td>66.468733</td>\n",
       "      <td>0.664687</td>\n",
       "      <td>0.002727</td>\n",
       "    </tr>\n",
       "    <tr>\n",
       "      <th>3</th>\n",
       "      <td>CHITRADURGA</td>\n",
       "      <td>2156.849152</td>\n",
       "      <td>21.568492</td>\n",
       "      <td>0.008624</td>\n",
       "      <td>-62.650862</td>\n",
       "      <td>-0.626509</td>\n",
       "      <td>0.000000</td>\n",
       "    </tr>\n",
       "    <tr>\n",
       "      <th>4</th>\n",
       "      <td>DAVANAGERE</td>\n",
       "      <td>-47.763967</td>\n",
       "      <td>-0.477640</td>\n",
       "      <td>0.000113</td>\n",
       "      <td>-51.056661</td>\n",
       "      <td>-0.510567</td>\n",
       "      <td>0.000245</td>\n",
       "    </tr>\n",
       "    <tr>\n",
       "      <th>5</th>\n",
       "      <td>KOLAR</td>\n",
       "      <td>8032.222426</td>\n",
       "      <td>80.322224</td>\n",
       "      <td>0.031307</td>\n",
       "      <td>3368.175026</td>\n",
       "      <td>33.681750</td>\n",
       "      <td>0.072454</td>\n",
       "    </tr>\n",
       "    <tr>\n",
       "      <th>6</th>\n",
       "      <td>CHIKKABALLAPURA</td>\n",
       "      <td>3051.484542</td>\n",
       "      <td>30.514845</td>\n",
       "      <td>0.012078</td>\n",
       "      <td>-24.848633</td>\n",
       "      <td>-0.248486</td>\n",
       "      <td>0.000798</td>\n",
       "    </tr>\n",
       "    <tr>\n",
       "      <th>7</th>\n",
       "      <td>SHIVAMOGGA</td>\n",
       "      <td>-60.343751</td>\n",
       "      <td>-0.603438</td>\n",
       "      <td>0.000064</td>\n",
       "      <td>-28.050701</td>\n",
       "      <td>-0.280507</td>\n",
       "      <td>0.000731</td>\n",
       "    </tr>\n",
       "    <tr>\n",
       "      <th>8</th>\n",
       "      <td>TUMAKURU</td>\n",
       "      <td>316.512025</td>\n",
       "      <td>3.165120</td>\n",
       "      <td>0.001519</td>\n",
       "      <td>61.943705</td>\n",
       "      <td>0.619437</td>\n",
       "      <td>0.002631</td>\n",
       "    </tr>\n",
       "    <tr>\n",
       "      <th>9</th>\n",
       "      <td>CHIKKAMAGALURU</td>\n",
       "      <td>62.494352</td>\n",
       "      <td>0.624944</td>\n",
       "      <td>0.000538</td>\n",
       "      <td>220.006555</td>\n",
       "      <td>2.200066</td>\n",
       "      <td>0.005969</td>\n",
       "    </tr>\n",
       "    <tr>\n",
       "      <th>10</th>\n",
       "      <td>DAKSHINA KANNADA</td>\n",
       "      <td>-53.511090</td>\n",
       "      <td>-0.535111</td>\n",
       "      <td>0.000090</td>\n",
       "      <td>NaN</td>\n",
       "      <td>NaN</td>\n",
       "      <td>NaN</td>\n",
       "    </tr>\n",
       "    <tr>\n",
       "      <th>11</th>\n",
       "      <td>UDUPI</td>\n",
       "      <td>-76.942272</td>\n",
       "      <td>-0.769423</td>\n",
       "      <td>0.000000</td>\n",
       "      <td>12260.541419</td>\n",
       "      <td>122.605414</td>\n",
       "      <td>0.260249</td>\n",
       "    </tr>\n",
       "    <tr>\n",
       "      <th>12</th>\n",
       "      <td>HASSAN</td>\n",
       "      <td>25.931424</td>\n",
       "      <td>0.259314</td>\n",
       "      <td>0.000397</td>\n",
       "      <td>-40.702409</td>\n",
       "      <td>-0.407024</td>\n",
       "      <td>0.000464</td>\n",
       "    </tr>\n",
       "    <tr>\n",
       "      <th>13</th>\n",
       "      <td>KODAGU</td>\n",
       "      <td>33.447568</td>\n",
       "      <td>0.334476</td>\n",
       "      <td>0.000426</td>\n",
       "      <td>550.532404</td>\n",
       "      <td>5.505324</td>\n",
       "      <td>0.012950</td>\n",
       "    </tr>\n",
       "    <tr>\n",
       "      <th>14</th>\n",
       "      <td>MANDYA</td>\n",
       "      <td>-34.242423</td>\n",
       "      <td>-0.342424</td>\n",
       "      <td>0.000165</td>\n",
       "      <td>801.062644</td>\n",
       "      <td>8.010626</td>\n",
       "      <td>0.018240</td>\n",
       "    </tr>\n",
       "    <tr>\n",
       "      <th>15</th>\n",
       "      <td>MYSURU</td>\n",
       "      <td>-53.248463</td>\n",
       "      <td>-0.532485</td>\n",
       "      <td>0.000091</td>\n",
       "      <td>30.512505</td>\n",
       "      <td>0.305125</td>\n",
       "      <td>0.001967</td>\n",
       "    </tr>\n",
       "    <tr>\n",
       "      <th>16</th>\n",
       "      <td>CHAMARAJANAGAR</td>\n",
       "      <td>61.645470</td>\n",
       "      <td>0.616455</td>\n",
       "      <td>0.000535</td>\n",
       "      <td>-55.516754</td>\n",
       "      <td>-0.555168</td>\n",
       "      <td>0.000151</td>\n",
       "    </tr>\n",
       "    <tr>\n",
       "      <th>17</th>\n",
       "      <td>BELAGAVI</td>\n",
       "      <td>152.355491</td>\n",
       "      <td>1.523555</td>\n",
       "      <td>0.000885</td>\n",
       "      <td>-8.354945</td>\n",
       "      <td>-0.083549</td>\n",
       "      <td>0.001147</td>\n",
       "    </tr>\n",
       "    <tr>\n",
       "      <th>18</th>\n",
       "      <td>VIJAYAPURA</td>\n",
       "      <td>86350.474192</td>\n",
       "      <td>863.504742</td>\n",
       "      <td>0.333668</td>\n",
       "      <td>-31.102644</td>\n",
       "      <td>-0.311026</td>\n",
       "      <td>0.000666</td>\n",
       "    </tr>\n",
       "    <tr>\n",
       "      <th>19</th>\n",
       "      <td>BAGALKOT</td>\n",
       "      <td>258944.862745</td>\n",
       "      <td>2589.448627</td>\n",
       "      <td>1.000000</td>\n",
       "      <td>-2.044403</td>\n",
       "      <td>-0.020444</td>\n",
       "      <td>0.001280</td>\n",
       "    </tr>\n",
       "    <tr>\n",
       "      <th>20</th>\n",
       "      <td>DHARAWAD</td>\n",
       "      <td>213.724315</td>\n",
       "      <td>2.137243</td>\n",
       "      <td>0.001122</td>\n",
       "      <td>16.971453</td>\n",
       "      <td>0.169715</td>\n",
       "      <td>0.001682</td>\n",
       "    </tr>\n",
       "    <tr>\n",
       "      <th>21</th>\n",
       "      <td>GADAG</td>\n",
       "      <td>904.023320</td>\n",
       "      <td>9.040233</td>\n",
       "      <td>0.003787</td>\n",
       "      <td>-53.613007</td>\n",
       "      <td>-0.536130</td>\n",
       "      <td>0.000191</td>\n",
       "    </tr>\n",
       "    <tr>\n",
       "      <th>22</th>\n",
       "      <td>HAVERI</td>\n",
       "      <td>37.741272</td>\n",
       "      <td>0.377413</td>\n",
       "      <td>0.000443</td>\n",
       "      <td>-54.568449</td>\n",
       "      <td>-0.545684</td>\n",
       "      <td>0.000171</td>\n",
       "    </tr>\n",
       "    <tr>\n",
       "      <th>23</th>\n",
       "      <td>UTTARA KANNADA</td>\n",
       "      <td>-64.828904</td>\n",
       "      <td>-0.648289</td>\n",
       "      <td>0.000047</td>\n",
       "      <td>68.704909</td>\n",
       "      <td>0.687049</td>\n",
       "      <td>0.002774</td>\n",
       "    </tr>\n",
       "    <tr>\n",
       "      <th>24</th>\n",
       "      <td>BALLARI</td>\n",
       "      <td>-20.059087</td>\n",
       "      <td>-0.200591</td>\n",
       "      <td>0.000220</td>\n",
       "      <td>71.050064</td>\n",
       "      <td>0.710501</td>\n",
       "      <td>0.002824</td>\n",
       "    </tr>\n",
       "    <tr>\n",
       "      <th>25</th>\n",
       "      <td>BIDAR</td>\n",
       "      <td>3641.214892</td>\n",
       "      <td>36.412149</td>\n",
       "      <td>0.014355</td>\n",
       "      <td>2347.790977</td>\n",
       "      <td>23.477910</td>\n",
       "      <td>0.050905</td>\n",
       "    </tr>\n",
       "    <tr>\n",
       "      <th>26</th>\n",
       "      <td>KALABURAGI</td>\n",
       "      <td>1756.206243</td>\n",
       "      <td>17.562062</td>\n",
       "      <td>0.007077</td>\n",
       "      <td>961.861671</td>\n",
       "      <td>9.618617</td>\n",
       "      <td>0.021636</td>\n",
       "    </tr>\n",
       "    <tr>\n",
       "      <th>27</th>\n",
       "      <td>YADGIRI</td>\n",
       "      <td>5.018887</td>\n",
       "      <td>0.050189</td>\n",
       "      <td>0.000316</td>\n",
       "      <td>9852.892312</td>\n",
       "      <td>98.528923</td>\n",
       "      <td>0.209402</td>\n",
       "    </tr>\n",
       "    <tr>\n",
       "      <th>28</th>\n",
       "      <td>RAICHUR</td>\n",
       "      <td>-39.510893</td>\n",
       "      <td>-0.395109</td>\n",
       "      <td>0.000145</td>\n",
       "      <td>47288.952552</td>\n",
       "      <td>472.889526</td>\n",
       "      <td>1.000000</td>\n",
       "    </tr>\n",
       "    <tr>\n",
       "      <th>29</th>\n",
       "      <td>KOPPAL</td>\n",
       "      <td>-20.646338</td>\n",
       "      <td>-0.206463</td>\n",
       "      <td>0.000217</td>\n",
       "      <td>12.056664</td>\n",
       "      <td>0.120567</td>\n",
       "      <td>0.001578</td>\n",
       "    </tr>\n",
       "    <tr>\n",
       "      <th>30</th>\n",
       "      <td>Vijayanagara</td>\n",
       "      <td>-20.060248</td>\n",
       "      <td>-0.200602</td>\n",
       "      <td>0.000220</td>\n",
       "      <td>71.047217</td>\n",
       "      <td>0.710472</td>\n",
       "      <td>0.002824</td>\n",
       "    </tr>\n",
       "  </tbody>\n",
       "</table>\n",
       "</div>"
      ],
      "text/plain": [
       "            District  Percent Change in Rice_Production (TotalNPK +10%)  \\\n",
       "0          BENGALURU                                        2060.658670   \n",
       "1       BENGALURU(R)                                        2586.711226   \n",
       "2         RAMANAGARA                                         188.798430   \n",
       "3        CHITRADURGA                                        2156.849152   \n",
       "4         DAVANAGERE                                         -47.763967   \n",
       "5              KOLAR                                        8032.222426   \n",
       "6    CHIKKABALLAPURA                                        3051.484542   \n",
       "7         SHIVAMOGGA                                         -60.343751   \n",
       "8           TUMAKURU                                         316.512025   \n",
       "9     CHIKKAMAGALURU                                          62.494352   \n",
       "10  DAKSHINA KANNADA                                         -53.511090   \n",
       "11             UDUPI                                         -76.942272   \n",
       "12            HASSAN                                          25.931424   \n",
       "13            KODAGU                                          33.447568   \n",
       "14            MANDYA                                         -34.242423   \n",
       "15            MYSURU                                         -53.248463   \n",
       "16    CHAMARAJANAGAR                                          61.645470   \n",
       "17          BELAGAVI                                         152.355491   \n",
       "18        VIJAYAPURA                                       86350.474192   \n",
       "19          BAGALKOT                                      258944.862745   \n",
       "20          DHARAWAD                                         213.724315   \n",
       "21             GADAG                                         904.023320   \n",
       "22            HAVERI                                          37.741272   \n",
       "23    UTTARA KANNADA                                         -64.828904   \n",
       "24           BALLARI                                         -20.059087   \n",
       "25             BIDAR                                        3641.214892   \n",
       "26        KALABURAGI                                        1756.206243   \n",
       "27           YADGIRI                                           5.018887   \n",
       "28           RAICHUR                                         -39.510893   \n",
       "29            KOPPAL                                         -20.646338   \n",
       "30      Vijayanagara                                         -20.060248   \n",
       "\n",
       "    Relative Change in Rice_Production (TotalNPK +10%)  \\\n",
       "0                                           20.606587    \n",
       "1                                           25.867112    \n",
       "2                                            1.887984    \n",
       "3                                           21.568492    \n",
       "4                                           -0.477640    \n",
       "5                                           80.322224    \n",
       "6                                           30.514845    \n",
       "7                                           -0.603438    \n",
       "8                                            3.165120    \n",
       "9                                            0.624944    \n",
       "10                                          -0.535111    \n",
       "11                                          -0.769423    \n",
       "12                                           0.259314    \n",
       "13                                           0.334476    \n",
       "14                                          -0.342424    \n",
       "15                                          -0.532485    \n",
       "16                                           0.616455    \n",
       "17                                           1.523555    \n",
       "18                                         863.504742    \n",
       "19                                        2589.448627    \n",
       "20                                           2.137243    \n",
       "21                                           9.040233    \n",
       "22                                           0.377413    \n",
       "23                                          -0.648289    \n",
       "24                                          -0.200591    \n",
       "25                                          36.412149    \n",
       "26                                          17.562062    \n",
       "27                                           0.050189    \n",
       "28                                          -0.395109    \n",
       "29                                          -0.206463    \n",
       "30                                          -0.200602    \n",
       "\n",
       "    Impact in Rice_Production (TotalNPK +10%)  \\\n",
       "0                                    0.008253   \n",
       "1                                    0.010284   \n",
       "2                                    0.001026   \n",
       "3                                    0.008624   \n",
       "4                                    0.000113   \n",
       "5                                    0.031307   \n",
       "6                                    0.012078   \n",
       "7                                    0.000064   \n",
       "8                                    0.001519   \n",
       "9                                    0.000538   \n",
       "10                                   0.000090   \n",
       "11                                   0.000000   \n",
       "12                                   0.000397   \n",
       "13                                   0.000426   \n",
       "14                                   0.000165   \n",
       "15                                   0.000091   \n",
       "16                                   0.000535   \n",
       "17                                   0.000885   \n",
       "18                                   0.333668   \n",
       "19                                   1.000000   \n",
       "20                                   0.001122   \n",
       "21                                   0.003787   \n",
       "22                                   0.000443   \n",
       "23                                   0.000047   \n",
       "24                                   0.000220   \n",
       "25                                   0.014355   \n",
       "26                                   0.007077   \n",
       "27                                   0.000316   \n",
       "28                                   0.000145   \n",
       "29                                   0.000217   \n",
       "30                                   0.000220   \n",
       "\n",
       "    Percent Change in Maize_Production (TotalNPK +10%)  \\\n",
       "0                                         2134.239046    \n",
       "1                                           22.867551    \n",
       "2                                           66.468733    \n",
       "3                                          -62.650862    \n",
       "4                                          -51.056661    \n",
       "5                                         3368.175026    \n",
       "6                                          -24.848633    \n",
       "7                                          -28.050701    \n",
       "8                                           61.943705    \n",
       "9                                          220.006555    \n",
       "10                                                NaN    \n",
       "11                                       12260.541419    \n",
       "12                                         -40.702409    \n",
       "13                                         550.532404    \n",
       "14                                         801.062644    \n",
       "15                                          30.512505    \n",
       "16                                         -55.516754    \n",
       "17                                          -8.354945    \n",
       "18                                         -31.102644    \n",
       "19                                          -2.044403    \n",
       "20                                          16.971453    \n",
       "21                                         -53.613007    \n",
       "22                                         -54.568449    \n",
       "23                                          68.704909    \n",
       "24                                          71.050064    \n",
       "25                                        2347.790977    \n",
       "26                                         961.861671    \n",
       "27                                        9852.892312    \n",
       "28                                       47288.952552    \n",
       "29                                          12.056664    \n",
       "30                                          71.047217    \n",
       "\n",
       "    Relative Change in Maize_Production (TotalNPK +10%)  \\\n",
       "0                                           21.342390     \n",
       "1                                            0.228676     \n",
       "2                                            0.664687     \n",
       "3                                           -0.626509     \n",
       "4                                           -0.510567     \n",
       "5                                           33.681750     \n",
       "6                                           -0.248486     \n",
       "7                                           -0.280507     \n",
       "8                                            0.619437     \n",
       "9                                            2.200066     \n",
       "10                                                NaN     \n",
       "11                                         122.605414     \n",
       "12                                          -0.407024     \n",
       "13                                           5.505324     \n",
       "14                                           8.010626     \n",
       "15                                           0.305125     \n",
       "16                                          -0.555168     \n",
       "17                                          -0.083549     \n",
       "18                                          -0.311026     \n",
       "19                                          -0.020444     \n",
       "20                                           0.169715     \n",
       "21                                          -0.536130     \n",
       "22                                          -0.545684     \n",
       "23                                           0.687049     \n",
       "24                                           0.710501     \n",
       "25                                          23.477910     \n",
       "26                                           9.618617     \n",
       "27                                          98.528923     \n",
       "28                                         472.889526     \n",
       "29                                           0.120567     \n",
       "30                                           0.710472     \n",
       "\n",
       "    Impact in Maize_Production (TotalNPK +10%)  \n",
       "0                                     0.046395  \n",
       "1                                     0.001806  \n",
       "2                                     0.002727  \n",
       "3                                     0.000000  \n",
       "4                                     0.000245  \n",
       "5                                     0.072454  \n",
       "6                                     0.000798  \n",
       "7                                     0.000731  \n",
       "8                                     0.002631  \n",
       "9                                     0.005969  \n",
       "10                                         NaN  \n",
       "11                                    0.260249  \n",
       "12                                    0.000464  \n",
       "13                                    0.012950  \n",
       "14                                    0.018240  \n",
       "15                                    0.001967  \n",
       "16                                    0.000151  \n",
       "17                                    0.001147  \n",
       "18                                    0.000666  \n",
       "19                                    0.001280  \n",
       "20                                    0.001682  \n",
       "21                                    0.000191  \n",
       "22                                    0.000171  \n",
       "23                                    0.002774  \n",
       "24                                    0.002824  \n",
       "25                                    0.050905  \n",
       "26                                    0.021636  \n",
       "27                                    0.209402  \n",
       "28                                    1.000000  \n",
       "29                                    0.001578  \n",
       "30                                    0.002824  "
      ]
     },
     "execution_count": 113,
     "metadata": {},
     "output_type": "execute_result"
    }
   ],
   "source": [
    "newdf"
   ]
  },
  {
   "cell_type": "code",
   "execution_count": 114,
   "metadata": {},
   "outputs": [],
   "source": [
    "import pandas as pd\n",
    "import numpy as np\n",
    "\n",
    "ch = [-10, 10, 20, -20]\n",
    "art = pd.DataFrame() \n",
    "art = pd.concat([art, new_data_1['District']], axis=1) \n",
    "\n",
    "for intervention in ch:\n",
    "    all_impact_cols = [f\"Impact in {cap_col} (TotalNPK {'+' if intervention >= 0 else '-'}{abs(intervention)}%)\" for cap_col in capability_vector]\n",
    "    all_relative_change_cols = [f\"Relative Change in {cap_col} (TotalNPK {'+' if intervention >= 0 else '-'}{abs(intervention)}%)\" for cap_col in capability_vector]\n",
    "    all_impacts = new_data_1[all_impact_cols]\n",
    "    all_relative = new_data_1[all_relative_change_cols]\n",
    "    art = pd.concat([art, all_impacts], axis=1) \n",
    "    art = pd.concat([art, all_relative], axis=1) \n",
    "     \n",
    "# Replace inf values with 0\n",
    "# art.replace([np.inf, -np.inf], 0, inplace=True)\n",
    "\n",
    "# if art.isnull().values.any():\n",
    "#     print(\"Warning: There are NaN values present after replacing inf.\")"
   ]
  },
  {
   "cell_type": "code",
   "execution_count": 115,
   "metadata": {},
   "outputs": [
    {
     "data": {
      "text/html": [
       "<div>\n",
       "<style scoped>\n",
       "    .dataframe tbody tr th:only-of-type {\n",
       "        vertical-align: middle;\n",
       "    }\n",
       "\n",
       "    .dataframe tbody tr th {\n",
       "        vertical-align: top;\n",
       "    }\n",
       "\n",
       "    .dataframe thead th {\n",
       "        text-align: right;\n",
       "    }\n",
       "</style>\n",
       "<table border=\"1\" class=\"dataframe\">\n",
       "  <thead>\n",
       "    <tr style=\"text-align: right;\">\n",
       "      <th></th>\n",
       "      <th>District</th>\n",
       "      <th>Impact in Rice_Production (TotalNPK +10%)</th>\n",
       "      <th>Impact in Rice_Production (TotalNPK -10%)</th>\n",
       "      <th>Impact in Maize_Production (TotalNPK +10%)</th>\n",
       "      <th>Impact in Maize_Production (TotalNPK -10%)</th>\n",
       "      <th>Impact in Rice_Production (TotalNPK +20%)</th>\n",
       "      <th>Impact in Rice_Production (TotalNPK -20%)</th>\n",
       "      <th>Impact in Maize_Production (TotalNPK +20%)</th>\n",
       "      <th>Impact in Maize_Production (TotalNPK -20%)</th>\n",
       "    </tr>\n",
       "  </thead>\n",
       "  <tbody>\n",
       "    <tr>\n",
       "      <th>0</th>\n",
       "      <td>BENGALURU</td>\n",
       "      <td>0.008253</td>\n",
       "      <td>0.008530</td>\n",
       "      <td>0.046395</td>\n",
       "      <td>0.045771</td>\n",
       "      <td>0.008146</td>\n",
       "      <td>0.008715</td>\n",
       "      <td>0.046628</td>\n",
       "      <td>0.045339</td>\n",
       "    </tr>\n",
       "    <tr>\n",
       "      <th>1</th>\n",
       "      <td>BENGALURU(R)</td>\n",
       "      <td>0.010284</td>\n",
       "      <td>0.010712</td>\n",
       "      <td>0.001806</td>\n",
       "      <td>0.001767</td>\n",
       "      <td>0.010119</td>\n",
       "      <td>0.010999</td>\n",
       "      <td>0.001820</td>\n",
       "      <td>0.001741</td>\n",
       "    </tr>\n",
       "    <tr>\n",
       "      <th>2</th>\n",
       "      <td>RAMANAGARA</td>\n",
       "      <td>0.001026</td>\n",
       "      <td>0.001117</td>\n",
       "      <td>0.002727</td>\n",
       "      <td>0.002530</td>\n",
       "      <td>0.000991</td>\n",
       "      <td>0.001178</td>\n",
       "      <td>0.002800</td>\n",
       "      <td>0.002394</td>\n",
       "    </tr>\n",
       "    <tr>\n",
       "      <th>3</th>\n",
       "      <td>CHITRADURGA</td>\n",
       "      <td>0.008624</td>\n",
       "      <td>0.008783</td>\n",
       "      <td>0.000000</td>\n",
       "      <td>0.000000</td>\n",
       "      <td>0.008563</td>\n",
       "      <td>0.008890</td>\n",
       "      <td>0.000000</td>\n",
       "      <td>0.000000</td>\n",
       "    </tr>\n",
       "    <tr>\n",
       "      <th>4</th>\n",
       "      <td>DAVANAGERE</td>\n",
       "      <td>0.000113</td>\n",
       "      <td>0.000103</td>\n",
       "      <td>0.000245</td>\n",
       "      <td>0.000250</td>\n",
       "      <td>0.000116</td>\n",
       "      <td>0.000097</td>\n",
       "      <td>0.000243</td>\n",
       "      <td>0.000254</td>\n",
       "    </tr>\n",
       "  </tbody>\n",
       "</table>\n",
       "</div>"
      ],
      "text/plain": [
       "       District  Impact in Rice_Production (TotalNPK +10%)  \\\n",
       "0     BENGALURU                                   0.008253   \n",
       "1  BENGALURU(R)                                   0.010284   \n",
       "2    RAMANAGARA                                   0.001026   \n",
       "3   CHITRADURGA                                   0.008624   \n",
       "4    DAVANAGERE                                   0.000113   \n",
       "\n",
       "   Impact in Rice_Production (TotalNPK -10%)  \\\n",
       "0                                   0.008530   \n",
       "1                                   0.010712   \n",
       "2                                   0.001117   \n",
       "3                                   0.008783   \n",
       "4                                   0.000103   \n",
       "\n",
       "   Impact in Maize_Production (TotalNPK +10%)  \\\n",
       "0                                    0.046395   \n",
       "1                                    0.001806   \n",
       "2                                    0.002727   \n",
       "3                                    0.000000   \n",
       "4                                    0.000245   \n",
       "\n",
       "   Impact in Maize_Production (TotalNPK -10%)  \\\n",
       "0                                    0.045771   \n",
       "1                                    0.001767   \n",
       "2                                    0.002530   \n",
       "3                                    0.000000   \n",
       "4                                    0.000250   \n",
       "\n",
       "   Impact in Rice_Production (TotalNPK +20%)  \\\n",
       "0                                   0.008146   \n",
       "1                                   0.010119   \n",
       "2                                   0.000991   \n",
       "3                                   0.008563   \n",
       "4                                   0.000116   \n",
       "\n",
       "   Impact in Rice_Production (TotalNPK -20%)  \\\n",
       "0                                   0.008715   \n",
       "1                                   0.010999   \n",
       "2                                   0.001178   \n",
       "3                                   0.008890   \n",
       "4                                   0.000097   \n",
       "\n",
       "   Impact in Maize_Production (TotalNPK +20%)  \\\n",
       "0                                    0.046628   \n",
       "1                                    0.001820   \n",
       "2                                    0.002800   \n",
       "3                                    0.000000   \n",
       "4                                    0.000243   \n",
       "\n",
       "   Impact in Maize_Production (TotalNPK -20%)  \n",
       "0                                    0.045339  \n",
       "1                                    0.001741  \n",
       "2                                    0.002394  \n",
       "3                                    0.000000  \n",
       "4                                    0.000254  "
      ]
     },
     "execution_count": 115,
     "metadata": {},
     "output_type": "execute_result"
    }
   ],
   "source": [
    "column_order = ['District','Impact in Rice_Production (TotalNPK +10%)','Impact in Rice_Production (TotalNPK -10%)','Impact in Maize_Production (TotalNPK +10%)',\n",
    "    'Impact in Maize_Production (TotalNPK -10%)','Impact in Rice_Production (TotalNPK +20%)','Impact in Rice_Production (TotalNPK -20%)',\n",
    "    'Impact in Maize_Production (TotalNPK +20%)','Impact in Maize_Production (TotalNPK -20%)']\n",
    "\n",
    "art = art[column_order]\n",
    "art.head()"
   ]
  },
  {
   "cell_type": "code",
   "execution_count": 116,
   "metadata": {},
   "outputs": [
    {
     "name": "stdout",
     "output_type": "stream",
     "text": [
      "['Impact in Rice_Production (TotalNPK -10%)', 'Impact in Maize_Production (TotalNPK -10%)']\n",
      "['Impact in Rice_Production (TotalNPK +10%)', 'Impact in Maize_Production (TotalNPK +10%)']\n",
      "['Impact in Rice_Production (TotalNPK +20%)', 'Impact in Maize_Production (TotalNPK +20%)']\n",
      "['Impact in Rice_Production (TotalNPK -20%)', 'Impact in Maize_Production (TotalNPK -20%)']\n"
     ]
    }
   ],
   "source": [
    "capability_vector = [\"Rice_Production\", \"Maize_Production\"]\n",
    "\n",
    "for intervention in ch:\n",
    "    all_percent_change_cols = [f\"Impact in {cap_col} (TotalNPK {'+' if intervention >= 0 else '-'}{abs(intervention)}%)\" for cap_col in capability_vector]\n",
    "    print(all_percent_change_cols)"
   ]
  },
  {
   "cell_type": "code",
   "execution_count": 117,
   "metadata": {},
   "outputs": [
    {
     "name": "stdout",
     "output_type": "stream",
     "text": [
      "Dissonance:\n",
      "     Dis_-10    Dis_10    Dis_20   Dis_-20\n",
      "0   0.037241  0.038143  0.038482  0.036624\n",
      "1   0.008945  0.008477  0.008298  0.009258\n",
      "2   0.001413  0.001701  0.001810  0.001215\n",
      "3   0.008783  0.008624  0.008563  0.008890\n",
      "4   0.000147  0.000132  0.000127  0.000157\n",
      "5   0.038979  0.041147  0.041969  0.037507\n",
      "6   0.011610  0.011280  0.011153  0.011831\n",
      "7   0.000675  0.000667  0.000663  0.000681\n",
      "8   0.001076  0.001112  0.001126  0.001051\n",
      "9   0.005428  0.005431  0.005432  0.005425\n",
      "10  0.000000  0.000000  0.000000  0.000000\n",
      "11  0.240573  0.260249  0.267596  0.226975\n",
      "12  0.000076  0.000066  0.000063  0.000083\n",
      "13  0.012448  0.012523  0.012552  0.012396\n",
      "14  0.018032  0.018076  0.018092  0.018002\n",
      "15  0.001882  0.001876  0.001874  0.001886\n",
      "16  0.000403  0.000384  0.000377  0.000415\n",
      "17  0.000287  0.000261  0.000252  0.000304\n",
      "18  0.335823  0.333002  0.331919  0.337707\n",
      "19  0.998717  0.998720  0.998721  0.998715\n",
      "20  0.000535  0.000559  0.000569  0.000519\n",
      "21  0.003728  0.003596  0.003546  0.003816\n",
      "22  0.000262  0.000272  0.000276  0.000256\n",
      "23  0.002653  0.002727  0.002755  0.002602\n",
      "24  0.002607  0.002604  0.002603  0.002608\n",
      "25  0.035460  0.036551  0.036963  0.034717\n",
      "26  0.014429  0.014559  0.014608  0.014340\n",
      "27  0.208913  0.209086  0.209150  0.208794\n",
      "28  0.999865  0.999855  0.999852  0.999872\n",
      "29  0.001370  0.001360  0.001357  0.001376\n",
      "30  0.002607  0.002604  0.002603  0.002608\n"
     ]
    }
   ],
   "source": [
    "capability_vector = [\"Rice_Production\", \"Maize_Production\"]\n",
    "\n",
    "dissonance = pd.DataFrame(columns=capability_vector)\n",
    "\n",
    "# List to store dissonance for each intervention\n",
    "dis_list = []\n",
    "\n",
    "# List to store mean for each intervention\n",
    "mean_list = []\n",
    "\n",
    "for intervention in ch:\n",
    "    all_percent_change_cols = [f\"Impact in {cap_col} (TotalNPK {'+' if intervention >= 0 else '-'}{abs(intervention)}%)\" for cap_col in capability_vector]\n",
    "    \n",
    "    # Extracting columns for current intervention\n",
    "    intervention_df = art.loc[:, all_percent_change_cols] \n",
    "      \n",
    "    # Calculating maximum and minimum values for each row\n",
    "    max_values = intervention_df.max(axis=1)\n",
    "    min_values = intervention_df.min(axis=1)\n",
    "    \n",
    "    # Calculating differences for each row\n",
    "    diff = max_values - min_values\n",
    "    \n",
    "    # Appending differences to the dissonance list\n",
    "    dis_list.append(diff)\n",
    "    \n",
    "    # Calculating mean for each intervention\n",
    "    mean = intervention_df.mean(axis=1)\n",
    "    \n",
    "    # Appending mean to the mean list\n",
    "    mean_list.append(mean)\n",
    "\n",
    "# Creating a DataFrame from the list of differences (dissonance)\n",
    "dissonance = pd.DataFrame(dis_list).T\n",
    "dissonance.columns = [f'Dis_{intervention}' for intervention in ch]\n",
    "\n",
    "# Creating a DataFrame from the list of means\n",
    "mean_df = pd.DataFrame(mean_list).T\n",
    "mean_df.columns = [f'Mean_{intervention}' for intervention in ch]\n",
    "\n",
    "print(\"Dissonance:\")\n",
    "print(dissonance)"
   ]
  },
  {
   "cell_type": "code",
   "execution_count": 118,
   "metadata": {},
   "outputs": [
    {
     "data": {
      "text/plain": [
       "0     0.038143\n",
       "1     0.008477\n",
       "2     0.001701\n",
       "3     0.008624\n",
       "4     0.000132\n",
       "5     0.041147\n",
       "6     0.011280\n",
       "7     0.000667\n",
       "8     0.001112\n",
       "9     0.005431\n",
       "10    0.000000\n",
       "11    0.260249\n",
       "12    0.000066\n",
       "13    0.012523\n",
       "14    0.018076\n",
       "15    0.001876\n",
       "16    0.000384\n",
       "17    0.000261\n",
       "18    0.333002\n",
       "19    0.998720\n",
       "20    0.000559\n",
       "21    0.003596\n",
       "22    0.000272\n",
       "23    0.002727\n",
       "24    0.002604\n",
       "25    0.036551\n",
       "26    0.014559\n",
       "27    0.209086\n",
       "28    0.999855\n",
       "29    0.001360\n",
       "30    0.002604\n",
       "Name: Dis_10, dtype: float64"
      ]
     },
     "execution_count": 118,
     "metadata": {},
     "output_type": "execute_result"
    }
   ],
   "source": [
    "dissonance['Dis_10']"
   ]
  },
  {
   "cell_type": "code",
   "execution_count": 119,
   "metadata": {},
   "outputs": [
    {
     "name": "stdout",
     "output_type": "stream",
     "text": [
      "\n",
      "Mean:\n",
      "    Mean_-10   Mean_10   Mean_20  Mean_-20\n",
      "0   0.027150  0.027324  0.027387  0.027027\n",
      "1   0.006240  0.006045  0.005970  0.006370\n",
      "2   0.001823  0.001876  0.001896  0.001786\n",
      "3   0.004392  0.004312  0.004281  0.004445\n",
      "4   0.000177  0.000179  0.000180  0.000175\n",
      "5   0.051927  0.051881  0.051857  0.051946\n",
      "6   0.006593  0.006438  0.006379  0.006696\n",
      "7   0.000394  0.000397  0.000399  0.000391\n",
      "8   0.002076  0.002075  0.002075  0.002077\n",
      "9   0.003246  0.003254  0.003257  0.003240\n",
      "10  0.000089  0.000090  0.000091  0.000089\n",
      "11  0.120286  0.130124  0.133798  0.113487\n",
      "12  0.000428  0.000430  0.000431  0.000427\n",
      "13  0.006649  0.006688  0.006702  0.006622\n",
      "14  0.009174  0.009203  0.009214  0.009154\n",
      "15  0.001025  0.001029  0.001031  0.001021\n",
      "16  0.000346  0.000343  0.000342  0.000347\n",
      "17  0.001011  0.001016  0.001018  0.001008\n",
      "18  0.168578  0.167167  0.166626  0.169521\n",
      "19  0.500642  0.500640  0.500639  0.500643\n",
      "20  0.001403  0.001402  0.001401  0.001403\n",
      "21  0.002048  0.001989  0.001967  0.002087\n",
      "22  0.000305  0.000307  0.000307  0.000304\n",
      "23  0.001372  0.001410  0.001425  0.001345\n",
      "24  0.001516  0.001522  0.001524  0.001512\n",
      "25  0.032540  0.032630  0.032661  0.032473\n",
      "26  0.014344  0.014357  0.014361  0.014335\n",
      "27  0.104764  0.104859  0.104895  0.104698\n",
      "28  0.500067  0.500072  0.500074  0.500064\n",
      "29  0.000894  0.000898  0.000899  0.000892\n",
      "30  0.001516  0.001522  0.001524  0.001512\n"
     ]
    }
   ],
   "source": [
    "print(\"\\nMean:\")\n",
    "print(mean_df)"
   ]
  },
  {
   "cell_type": "code",
   "execution_count": 120,
   "metadata": {},
   "outputs": [],
   "source": [
    "# Create a new DataFrame for Sustainability scores\n",
    "sustainability_scores = pd.DataFrame(index=res1_df.index)\n",
    "sustainability_scores['District'] = df['Abbreviation']\n",
    "for intervention in ch:\n",
    "    # Extracting mean and dissonance columns for the current intervention\n",
    "    mean_col = f'Mean_{intervention}'\n",
    "    dissonance_col = f'Dis_{intervention}'\n",
    "    stability_col = f'New Stability(NPK {\"+\" if intervention >= 0 else \"-\"} {abs(intervention)}%)'  # Adjusted stability column name\n",
    "    \n",
    "    # Calculate Sustainability score for the current intervention\n",
    "    sustainability_score_col = (mean_df[mean_col] * res1_df[stability_col]) / dissonance[dissonance_col]\n",
    "    \n",
    "    # Add the calculated Sustainability score to the new DataFrame\n",
    "    sustainability_scores[f'Sustainability_{intervention}'] = sustainability_score_col"
   ]
  },
  {
   "cell_type": "code",
   "execution_count": 49,
   "metadata": {},
   "outputs": [],
   "source": [
    "sustainability_scores = pd.read_csv(\"Sustainability_Scores.csv\")"
   ]
  },
  {
   "cell_type": "code",
   "execution_count": 122,
   "metadata": {},
   "outputs": [
    {
     "name": "stdout",
     "output_type": "stream",
     "text": [
      "   District  Sustainability_-10  Sustainability_10  Sustainability_20  \\\n",
      "0       BLR            0.694827           0.673999           0.665258   \n",
      "1    BLR(R)            0.685272           0.696400           0.700544   \n",
      "2       RGA            1.119198           0.921876           0.859023   \n",
      "3       CDA            0.421434           0.403092           0.393922   \n",
      "4       DVG            0.936871           0.984080           0.995993   \n",
      "5       KLR            1.330847           1.257095           1.230708   \n",
      "6       CKA            0.566647           0.568283           0.568794   \n",
      "7       SMG            0.569295           0.577481           0.580160   \n",
      "8       TKR            1.913320           1.843123           1.816806   \n",
      "9       CMG            0.531262           0.516368           0.508786   \n",
      "10      DKA                 inf                inf                inf   \n",
      "11      UPI            0.411685           0.391177           0.380924   \n",
      "12      HSN            5.014296           5.643782           5.916358   \n",
      "13      KDG            0.512664           0.506822           0.503919   \n",
      "14      MDY            0.454981           0.442477           0.436179   \n",
      "15      MYS            0.507917           0.502856           0.499818   \n",
      "16      CNR            0.772372           0.781459           0.782539   \n",
      "17      BLG            0.888936           0.326440           0.000000   \n",
      "18      VJP            0.363979           0.332436           0.316663   \n",
      "19      BKT            0.491860           0.488878           0.487387   \n",
      "20      DWD            2.157354           1.959575           1.876706   \n",
      "21      GDG            0.379921           0.343713           0.325177   \n",
      "22      HVR            1.081548           1.028301           1.006742   \n",
      "23      UTK            0.367829           0.333911           0.316929   \n",
      "24      BLL            0.565663           0.563860           0.562628   \n",
      "25      BDR            0.776356           0.723151           0.699875   \n",
      "26      KLB            0.986885           0.975576           0.970927   \n",
      "27      YDR            0.460523           0.450578           0.445601   \n",
      "28      RCR            0.382375           0.355332           0.341809   \n",
      "29      KPL            0.644070           0.647999           0.649154   \n",
      "30      VNG            0.580251           0.581776           0.582209   \n",
      "\n",
      "    Sustainability_-20  \n",
      "0             0.707826  \n",
      "1             0.677828  \n",
      "2             1.296940  \n",
      "3             0.430604  \n",
      "4             0.899527  \n",
      "5             1.384968  \n",
      "6             0.565404  \n",
      "7             0.563206  \n",
      "8             1.962258  \n",
      "9             0.538515  \n",
      "10                 inf  \n",
      "11            0.421938  \n",
      "12            4.653244  \n",
      "13            0.515613  \n",
      "14            0.461166  \n",
      "15            0.509717  \n",
      "16            0.763122  \n",
      "17            1.115342  \n",
      "18            0.379748  \n",
      "19            0.493351  \n",
      "20            2.282100  \n",
      "21            0.397427  \n",
      "22            1.116269  \n",
      "23            0.384757  \n",
      "24            0.566089  \n",
      "25            0.808162  \n",
      "26            0.994045  \n",
      "27            0.465487  \n",
      "28            0.395895  \n",
      "29            0.640950  \n",
      "30            0.579013  \n"
     ]
    }
   ],
   "source": [
    "print(sustainability_scores)\n",
    "sustainability_scores.to_csv(\"Sustainability_Scores.csv\")"
   ]
  },
  {
   "cell_type": "code",
   "execution_count": 51,
   "metadata": {},
   "outputs": [
    {
     "data": {
      "application/vnd.plotly.v1+json": {
       "config": {
        "plotlyServerURL": "https://plot.ly"
       },
       "data": [
        {
         "mode": "lines+markers",
         "name": "Sustainability_-10",
         "showlegend": false,
         "type": "scatter",
         "x": [
          "BLR",
          "BLR(R)",
          "RGA",
          "CDA",
          "DVG",
          "KLR",
          "CKA",
          "SMG",
          "TKR",
          "CMG",
          "DKA",
          "UPI",
          "HSN",
          "KDG",
          "MDY",
          "MYS",
          "CNR",
          "BLG",
          "VJP",
          "BKT",
          "DWD",
          "GDG",
          "HVR",
          "UTK",
          "BLL",
          "BDR",
          "KLB",
          "YDR",
          "RCR",
          "KPL",
          "VNG"
         ],
         "xaxis": "x",
         "y": [
          0.706086589,
          0.684714928,
          1.118287213,
          0.421090629,
          0.93610906,
          1.330983439,
          0.56618614,
          0.568831498,
          1.911763669,
          0.530829316,
          null,
          0.411349825,
          5.010215901,
          0.512247395,
          0.454611157,
          0.507503472,
          0.771743373,
          0.888212762,
          0.36368315,
          0.4914595,
          2.155598876,
          0.379611525,
          1.080668459,
          0.36753001,
          0.565203253,
          0.775724776,
          0.986082002,
          0.460147952,
          0.38206423,
          0.643546399,
          0.57977851
         ],
         "yaxis": "y"
        },
        {
         "mode": "lines+markers",
         "name": "Sustainability_10",
         "showlegend": false,
         "type": "scatter",
         "x": [
          "BLR",
          "BLR(R)",
          "RGA",
          "CDA",
          "DVG",
          "KLR",
          "CKA",
          "SMG",
          "TKR",
          "CMG",
          "DKA",
          "UPI",
          "HSN",
          "KDG",
          "MDY",
          "MYS",
          "CNR",
          "BLG",
          "VJP",
          "BKT",
          "DWD",
          "GDG",
          "HVR",
          "UTK",
          "BLL",
          "BDR",
          "KLB",
          "YDR",
          "RCR",
          "KPL",
          "VNG"
         ],
         "xaxis": "x2",
         "y": [
          0.687650895,
          0.69583365,
          0.921125699,
          0.402764483,
          0.983279788,
          1.257482456,
          0.56782026,
          0.577010986,
          1.84162301,
          0.515947401,
          null,
          0.390859056,
          5.639190589,
          0.506410118,
          0.442117159,
          0.502446697,
          0.78082292,
          0.326174309,
          0.332165847,
          0.488480121,
          1.957980583,
          0.343433338,
          1.027464646,
          0.333639767,
          0.563401077,
          0.722562322,
          0.974782393,
          0.450211595,
          0.355042526,
          0.647471695,
          0.581302287
         ],
         "yaxis": "y2"
        },
        {
         "mode": "lines+markers",
         "name": "Sustainability_20",
         "showlegend": false,
         "type": "scatter",
         "x": [
          "BLR",
          "BLR(R)",
          "RGA",
          "CDA",
          "DVG",
          "KLR",
          "CKA",
          "SMG",
          "TKR",
          "CMG",
          "DKA",
          "UPI",
          "HSN",
          "KDG",
          "MDY",
          "MYS",
          "CNR",
          "BLG",
          "VJP",
          "BKT",
          "DWD",
          "GDG",
          "HVR",
          "UTK",
          "BLL",
          "BDR",
          "KLB",
          "YDR",
          "RCR",
          "KPL",
          "VNG"
         ],
         "xaxis": "x3",
         "y": [
          0.680107226,
          0.699974123,
          0.858324574,
          0.39360141,
          0.995182824,
          1.231214927,
          0.568330979,
          0.579688332,
          1.815328198,
          0.508372427,
          null,
          0.380613672,
          5.911544698,
          0.50350916,
          0.435824053,
          0.499410923,
          0.78190262,
          0,
          0.31640537,
          0.486990851,
          1.87517862,
          0.324911979,
          1.005923244,
          0.316671568,
          0.562169931,
          0.699305745,
          0.970136858,
          0.445238252,
          0.341530478,
          0.648625731,
          0.58173507
         ],
         "yaxis": "y3"
        },
        {
         "mode": "lines+markers",
         "name": "Sustainability_-20",
         "showlegend": false,
         "type": "scatter",
         "x": [
          "BLR",
          "BLR(R)",
          "RGA",
          "CDA",
          "DVG",
          "KLR",
          "CKA",
          "SMG",
          "TKR",
          "CMG",
          "DKA",
          "UPI",
          "HSN",
          "KDG",
          "MDY",
          "MYS",
          "CNR",
          "BLG",
          "VJP",
          "BKT",
          "DWD",
          "GDG",
          "HVR",
          "UTK",
          "BLL",
          "BDR",
          "KLB",
          "YDR",
          "RCR",
          "KPL",
          "VNG"
         ],
         "xaxis": "x4",
         "y": [
          0.71788949,
          0.677276887,
          1.295884618,
          0.430253702,
          0.8987952,
          1.384968087,
          0.564943578,
          0.562748155,
          1.960661642,
          0.53807729,
          null,
          0.421595209,
          4.64945794,
          0.515193636,
          0.460791221,
          0.509302095,
          0.762500888,
          1.114434846,
          0.379439212,
          0.492949823,
          2.280243004,
          0.397103442,
          1.115360386,
          0.384443475,
          0.565628333,
          0.807504088,
          0.993235775,
          0.465108647,
          0.39557335,
          0.640428614,
          0.578541984
         ],
         "yaxis": "y4"
        }
       ],
       "layout": {
        "annotations": [
         {
          "font": {
           "size": 16
          },
          "showarrow": false,
          "text": "NPK Fertilizers -10%",
          "x": 0.5,
          "xanchor": "center",
          "xref": "paper",
          "y": 1,
          "yanchor": "bottom",
          "yref": "paper"
         },
         {
          "font": {
           "size": 16
          },
          "showarrow": false,
          "text": "NPK Fertilizers +10%",
          "x": 0.5,
          "xanchor": "center",
          "xref": "paper",
          "y": 0.71875,
          "yanchor": "bottom",
          "yref": "paper"
         },
         {
          "font": {
           "size": 16
          },
          "showarrow": false,
          "text": "NPK Fertilizers +20%",
          "x": 0.5,
          "xanchor": "center",
          "xref": "paper",
          "y": 0.4375,
          "yanchor": "bottom",
          "yref": "paper"
         },
         {
          "font": {
           "size": 16
          },
          "showarrow": false,
          "text": "NPK Fertilizers -20%",
          "x": 0.5,
          "xanchor": "center",
          "xref": "paper",
          "y": 0.15625,
          "yanchor": "bottom",
          "yref": "paper"
         }
        ],
        "height": 800,
        "template": {
         "data": {
          "bar": [
           {
            "error_x": {
             "color": "#2a3f5f"
            },
            "error_y": {
             "color": "#2a3f5f"
            },
            "marker": {
             "line": {
              "color": "#E5ECF6",
              "width": 0.5
             },
             "pattern": {
              "fillmode": "overlay",
              "size": 10,
              "solidity": 0.2
             }
            },
            "type": "bar"
           }
          ],
          "barpolar": [
           {
            "marker": {
             "line": {
              "color": "#E5ECF6",
              "width": 0.5
             },
             "pattern": {
              "fillmode": "overlay",
              "size": 10,
              "solidity": 0.2
             }
            },
            "type": "barpolar"
           }
          ],
          "carpet": [
           {
            "aaxis": {
             "endlinecolor": "#2a3f5f",
             "gridcolor": "white",
             "linecolor": "white",
             "minorgridcolor": "white",
             "startlinecolor": "#2a3f5f"
            },
            "baxis": {
             "endlinecolor": "#2a3f5f",
             "gridcolor": "white",
             "linecolor": "white",
             "minorgridcolor": "white",
             "startlinecolor": "#2a3f5f"
            },
            "type": "carpet"
           }
          ],
          "choropleth": [
           {
            "colorbar": {
             "outlinewidth": 0,
             "ticks": ""
            },
            "type": "choropleth"
           }
          ],
          "contour": [
           {
            "colorbar": {
             "outlinewidth": 0,
             "ticks": ""
            },
            "colorscale": [
             [
              0,
              "#0d0887"
             ],
             [
              0.1111111111111111,
              "#46039f"
             ],
             [
              0.2222222222222222,
              "#7201a8"
             ],
             [
              0.3333333333333333,
              "#9c179e"
             ],
             [
              0.4444444444444444,
              "#bd3786"
             ],
             [
              0.5555555555555556,
              "#d8576b"
             ],
             [
              0.6666666666666666,
              "#ed7953"
             ],
             [
              0.7777777777777778,
              "#fb9f3a"
             ],
             [
              0.8888888888888888,
              "#fdca26"
             ],
             [
              1,
              "#f0f921"
             ]
            ],
            "type": "contour"
           }
          ],
          "contourcarpet": [
           {
            "colorbar": {
             "outlinewidth": 0,
             "ticks": ""
            },
            "type": "contourcarpet"
           }
          ],
          "heatmap": [
           {
            "colorbar": {
             "outlinewidth": 0,
             "ticks": ""
            },
            "colorscale": [
             [
              0,
              "#0d0887"
             ],
             [
              0.1111111111111111,
              "#46039f"
             ],
             [
              0.2222222222222222,
              "#7201a8"
             ],
             [
              0.3333333333333333,
              "#9c179e"
             ],
             [
              0.4444444444444444,
              "#bd3786"
             ],
             [
              0.5555555555555556,
              "#d8576b"
             ],
             [
              0.6666666666666666,
              "#ed7953"
             ],
             [
              0.7777777777777778,
              "#fb9f3a"
             ],
             [
              0.8888888888888888,
              "#fdca26"
             ],
             [
              1,
              "#f0f921"
             ]
            ],
            "type": "heatmap"
           }
          ],
          "heatmapgl": [
           {
            "colorbar": {
             "outlinewidth": 0,
             "ticks": ""
            },
            "colorscale": [
             [
              0,
              "#0d0887"
             ],
             [
              0.1111111111111111,
              "#46039f"
             ],
             [
              0.2222222222222222,
              "#7201a8"
             ],
             [
              0.3333333333333333,
              "#9c179e"
             ],
             [
              0.4444444444444444,
              "#bd3786"
             ],
             [
              0.5555555555555556,
              "#d8576b"
             ],
             [
              0.6666666666666666,
              "#ed7953"
             ],
             [
              0.7777777777777778,
              "#fb9f3a"
             ],
             [
              0.8888888888888888,
              "#fdca26"
             ],
             [
              1,
              "#f0f921"
             ]
            ],
            "type": "heatmapgl"
           }
          ],
          "histogram": [
           {
            "marker": {
             "pattern": {
              "fillmode": "overlay",
              "size": 10,
              "solidity": 0.2
             }
            },
            "type": "histogram"
           }
          ],
          "histogram2d": [
           {
            "colorbar": {
             "outlinewidth": 0,
             "ticks": ""
            },
            "colorscale": [
             [
              0,
              "#0d0887"
             ],
             [
              0.1111111111111111,
              "#46039f"
             ],
             [
              0.2222222222222222,
              "#7201a8"
             ],
             [
              0.3333333333333333,
              "#9c179e"
             ],
             [
              0.4444444444444444,
              "#bd3786"
             ],
             [
              0.5555555555555556,
              "#d8576b"
             ],
             [
              0.6666666666666666,
              "#ed7953"
             ],
             [
              0.7777777777777778,
              "#fb9f3a"
             ],
             [
              0.8888888888888888,
              "#fdca26"
             ],
             [
              1,
              "#f0f921"
             ]
            ],
            "type": "histogram2d"
           }
          ],
          "histogram2dcontour": [
           {
            "colorbar": {
             "outlinewidth": 0,
             "ticks": ""
            },
            "colorscale": [
             [
              0,
              "#0d0887"
             ],
             [
              0.1111111111111111,
              "#46039f"
             ],
             [
              0.2222222222222222,
              "#7201a8"
             ],
             [
              0.3333333333333333,
              "#9c179e"
             ],
             [
              0.4444444444444444,
              "#bd3786"
             ],
             [
              0.5555555555555556,
              "#d8576b"
             ],
             [
              0.6666666666666666,
              "#ed7953"
             ],
             [
              0.7777777777777778,
              "#fb9f3a"
             ],
             [
              0.8888888888888888,
              "#fdca26"
             ],
             [
              1,
              "#f0f921"
             ]
            ],
            "type": "histogram2dcontour"
           }
          ],
          "mesh3d": [
           {
            "colorbar": {
             "outlinewidth": 0,
             "ticks": ""
            },
            "type": "mesh3d"
           }
          ],
          "parcoords": [
           {
            "line": {
             "colorbar": {
              "outlinewidth": 0,
              "ticks": ""
             }
            },
            "type": "parcoords"
           }
          ],
          "pie": [
           {
            "automargin": true,
            "type": "pie"
           }
          ],
          "scatter": [
           {
            "fillpattern": {
             "fillmode": "overlay",
             "size": 10,
             "solidity": 0.2
            },
            "type": "scatter"
           }
          ],
          "scatter3d": [
           {
            "line": {
             "colorbar": {
              "outlinewidth": 0,
              "ticks": ""
             }
            },
            "marker": {
             "colorbar": {
              "outlinewidth": 0,
              "ticks": ""
             }
            },
            "type": "scatter3d"
           }
          ],
          "scattercarpet": [
           {
            "marker": {
             "colorbar": {
              "outlinewidth": 0,
              "ticks": ""
             }
            },
            "type": "scattercarpet"
           }
          ],
          "scattergeo": [
           {
            "marker": {
             "colorbar": {
              "outlinewidth": 0,
              "ticks": ""
             }
            },
            "type": "scattergeo"
           }
          ],
          "scattergl": [
           {
            "marker": {
             "colorbar": {
              "outlinewidth": 0,
              "ticks": ""
             }
            },
            "type": "scattergl"
           }
          ],
          "scattermapbox": [
           {
            "marker": {
             "colorbar": {
              "outlinewidth": 0,
              "ticks": ""
             }
            },
            "type": "scattermapbox"
           }
          ],
          "scatterpolar": [
           {
            "marker": {
             "colorbar": {
              "outlinewidth": 0,
              "ticks": ""
             }
            },
            "type": "scatterpolar"
           }
          ],
          "scatterpolargl": [
           {
            "marker": {
             "colorbar": {
              "outlinewidth": 0,
              "ticks": ""
             }
            },
            "type": "scatterpolargl"
           }
          ],
          "scatterternary": [
           {
            "marker": {
             "colorbar": {
              "outlinewidth": 0,
              "ticks": ""
             }
            },
            "type": "scatterternary"
           }
          ],
          "surface": [
           {
            "colorbar": {
             "outlinewidth": 0,
             "ticks": ""
            },
            "colorscale": [
             [
              0,
              "#0d0887"
             ],
             [
              0.1111111111111111,
              "#46039f"
             ],
             [
              0.2222222222222222,
              "#7201a8"
             ],
             [
              0.3333333333333333,
              "#9c179e"
             ],
             [
              0.4444444444444444,
              "#bd3786"
             ],
             [
              0.5555555555555556,
              "#d8576b"
             ],
             [
              0.6666666666666666,
              "#ed7953"
             ],
             [
              0.7777777777777778,
              "#fb9f3a"
             ],
             [
              0.8888888888888888,
              "#fdca26"
             ],
             [
              1,
              "#f0f921"
             ]
            ],
            "type": "surface"
           }
          ],
          "table": [
           {
            "cells": {
             "fill": {
              "color": "#EBF0F8"
             },
             "line": {
              "color": "white"
             }
            },
            "header": {
             "fill": {
              "color": "#C8D4E3"
             },
             "line": {
              "color": "white"
             }
            },
            "type": "table"
           }
          ]
         },
         "layout": {
          "annotationdefaults": {
           "arrowcolor": "#2a3f5f",
           "arrowhead": 0,
           "arrowwidth": 1
          },
          "autotypenumbers": "strict",
          "coloraxis": {
           "colorbar": {
            "outlinewidth": 0,
            "ticks": ""
           }
          },
          "colorscale": {
           "diverging": [
            [
             0,
             "#8e0152"
            ],
            [
             0.1,
             "#c51b7d"
            ],
            [
             0.2,
             "#de77ae"
            ],
            [
             0.3,
             "#f1b6da"
            ],
            [
             0.4,
             "#fde0ef"
            ],
            [
             0.5,
             "#f7f7f7"
            ],
            [
             0.6,
             "#e6f5d0"
            ],
            [
             0.7,
             "#b8e186"
            ],
            [
             0.8,
             "#7fbc41"
            ],
            [
             0.9,
             "#4d9221"
            ],
            [
             1,
             "#276419"
            ]
           ],
           "sequential": [
            [
             0,
             "#0d0887"
            ],
            [
             0.1111111111111111,
             "#46039f"
            ],
            [
             0.2222222222222222,
             "#7201a8"
            ],
            [
             0.3333333333333333,
             "#9c179e"
            ],
            [
             0.4444444444444444,
             "#bd3786"
            ],
            [
             0.5555555555555556,
             "#d8576b"
            ],
            [
             0.6666666666666666,
             "#ed7953"
            ],
            [
             0.7777777777777778,
             "#fb9f3a"
            ],
            [
             0.8888888888888888,
             "#fdca26"
            ],
            [
             1,
             "#f0f921"
            ]
           ],
           "sequentialminus": [
            [
             0,
             "#0d0887"
            ],
            [
             0.1111111111111111,
             "#46039f"
            ],
            [
             0.2222222222222222,
             "#7201a8"
            ],
            [
             0.3333333333333333,
             "#9c179e"
            ],
            [
             0.4444444444444444,
             "#bd3786"
            ],
            [
             0.5555555555555556,
             "#d8576b"
            ],
            [
             0.6666666666666666,
             "#ed7953"
            ],
            [
             0.7777777777777778,
             "#fb9f3a"
            ],
            [
             0.8888888888888888,
             "#fdca26"
            ],
            [
             1,
             "#f0f921"
            ]
           ]
          },
          "colorway": [
           "#636efa",
           "#EF553B",
           "#00cc96",
           "#ab63fa",
           "#FFA15A",
           "#19d3f3",
           "#FF6692",
           "#B6E880",
           "#FF97FF",
           "#FECB52"
          ],
          "font": {
           "color": "#2a3f5f"
          },
          "geo": {
           "bgcolor": "white",
           "lakecolor": "white",
           "landcolor": "#E5ECF6",
           "showlakes": true,
           "showland": true,
           "subunitcolor": "white"
          },
          "hoverlabel": {
           "align": "left"
          },
          "hovermode": "closest",
          "mapbox": {
           "style": "light"
          },
          "paper_bgcolor": "white",
          "plot_bgcolor": "#E5ECF6",
          "polar": {
           "angularaxis": {
            "gridcolor": "white",
            "linecolor": "white",
            "ticks": ""
           },
           "bgcolor": "#E5ECF6",
           "radialaxis": {
            "gridcolor": "white",
            "linecolor": "white",
            "ticks": ""
           }
          },
          "scene": {
           "xaxis": {
            "backgroundcolor": "#E5ECF6",
            "gridcolor": "white",
            "gridwidth": 2,
            "linecolor": "white",
            "showbackground": true,
            "ticks": "",
            "zerolinecolor": "white"
           },
           "yaxis": {
            "backgroundcolor": "#E5ECF6",
            "gridcolor": "white",
            "gridwidth": 2,
            "linecolor": "white",
            "showbackground": true,
            "ticks": "",
            "zerolinecolor": "white"
           },
           "zaxis": {
            "backgroundcolor": "#E5ECF6",
            "gridcolor": "white",
            "gridwidth": 2,
            "linecolor": "white",
            "showbackground": true,
            "ticks": "",
            "zerolinecolor": "white"
           }
          },
          "shapedefaults": {
           "line": {
            "color": "#2a3f5f"
           }
          },
          "ternary": {
           "aaxis": {
            "gridcolor": "white",
            "linecolor": "white",
            "ticks": ""
           },
           "baxis": {
            "gridcolor": "white",
            "linecolor": "white",
            "ticks": ""
           },
           "bgcolor": "#E5ECF6",
           "caxis": {
            "gridcolor": "white",
            "linecolor": "white",
            "ticks": ""
           }
          },
          "title": {
           "x": 0.05
          },
          "xaxis": {
           "automargin": true,
           "gridcolor": "white",
           "linecolor": "white",
           "ticks": "",
           "title": {
            "standoff": 15
           },
           "zerolinecolor": "white",
           "zerolinewidth": 2
          },
          "yaxis": {
           "automargin": true,
           "gridcolor": "white",
           "linecolor": "white",
           "ticks": "",
           "title": {
            "standoff": 15
           },
           "zerolinecolor": "white",
           "zerolinewidth": 2
          }
         }
        },
        "title": {
         "text": "District-wise Sustainable Intervention Scores in SDG 2 Capability Indicators (NPK Fertilizer Perturbations)"
        },
        "width": 1000,
        "xaxis": {
         "anchor": "y",
         "domain": [
          0,
          1
         ]
        },
        "xaxis2": {
         "anchor": "y2",
         "domain": [
          0,
          1
         ]
        },
        "xaxis3": {
         "anchor": "y3",
         "domain": [
          0,
          1
         ]
        },
        "xaxis4": {
         "anchor": "y4",
         "domain": [
          0,
          1
         ],
         "title": {
          "text": "District"
         }
        },
        "yaxis": {
         "anchor": "x",
         "domain": [
          0.84375,
          1
         ],
         "title": {
          "text": "SI Score"
         }
        },
        "yaxis2": {
         "anchor": "x2",
         "domain": [
          0.5625,
          0.71875
         ],
         "title": {
          "text": "SI Score"
         }
        },
        "yaxis3": {
         "anchor": "x3",
         "domain": [
          0.28125,
          0.4375
         ],
         "title": {
          "text": "SI Score"
         }
        },
        "yaxis4": {
         "anchor": "x4",
         "domain": [
          0,
          0.15625
         ],
         "title": {
          "text": "SI Score"
         }
        }
       }
      }
     },
     "metadata": {},
     "output_type": "display_data"
    }
   ],
   "source": [
    "from plotly.subplots import make_subplots\n",
    "import plotly.graph_objects as go\n",
    "\n",
    "fig = make_subplots(rows=4, cols=1, subplot_titles=['NPK Fertilizers -10%', 'NPK Fertilizers +10%', 'NPK Fertilizers +20%', 'NPK Fertilizers -20%'])\n",
    "\n",
    "for i, col in enumerate(['Sustainability_-10', 'Sustainability_10', 'Sustainability_20', 'Sustainability_-20'], start=1):\n",
    "    fig.add_trace(go.Scatter(x=sustainability_scores['District'], y=sustainability_scores[col], mode='lines+markers', name=col, showlegend=False), row=i, col=1)\n",
    "\n",
    "fig.update_xaxes(title_text=\"District\", row=4, col=1)\n",
    "fig.update_yaxes(title_text=\"SI Score\", col=1)\n",
    "\n",
    "fig.update_layout(height=800, width=1000, title_text=\"District-wise Sustainable Intervention Scores in SDG 2 Capability Indicators (NPK Fertilizer Perturbations)\")\n",
    "\n",
    "fig.show()\n"
   ]
  },
  {
   "cell_type": "code",
   "execution_count": 52,
   "metadata": {},
   "outputs": [],
   "source": [
    "normalized_data_1 = res1_df.copy()\n",
    "min_value = normalized_data_1.min().min()\n",
    "max_value = normalized_data_1.max().max()\n",
    "normalized_data_1 = (normalized_data_1 - min_value) / (max_value - min_value)\n",
    "normalized_data_2 = 1 - (normalized_data_1 - min_value) / (max_value - min_value)"
   ]
  },
  {
   "cell_type": "code",
   "execution_count": 53,
   "metadata": {},
   "outputs": [
    {
     "data": {
      "text/html": [
       "<div>\n",
       "<style scoped>\n",
       "    .dataframe tbody tr th:only-of-type {\n",
       "        vertical-align: middle;\n",
       "    }\n",
       "\n",
       "    .dataframe tbody tr th {\n",
       "        vertical-align: top;\n",
       "    }\n",
       "\n",
       "    .dataframe thead th {\n",
       "        text-align: right;\n",
       "    }\n",
       "</style>\n",
       "<table border=\"1\" class=\"dataframe\">\n",
       "  <thead>\n",
       "    <tr style=\"text-align: right;\">\n",
       "      <th></th>\n",
       "      <th>New Stability(NPK + 10%)</th>\n",
       "      <th>New Stability(NPK - 10%)</th>\n",
       "      <th>New Stability(NPK + 20%)</th>\n",
       "      <th>New Stability(NPK - 20%)</th>\n",
       "    </tr>\n",
       "  </thead>\n",
       "  <tbody>\n",
       "    <tr>\n",
       "      <th>0</th>\n",
       "      <td>0.940864</td>\n",
       "      <td>0.953059</td>\n",
       "      <td>0.934767</td>\n",
       "      <td>0.959157</td>\n",
       "    </tr>\n",
       "    <tr>\n",
       "      <th>1</th>\n",
       "      <td>0.976666</td>\n",
       "      <td>0.982351</td>\n",
       "      <td>0.973823</td>\n",
       "      <td>0.985194</td>\n",
       "    </tr>\n",
       "    <tr>\n",
       "      <th>2</th>\n",
       "      <td>0.835654</td>\n",
       "      <td>0.866978</td>\n",
       "      <td>0.819992</td>\n",
       "      <td>0.882640</td>\n",
       "    </tr>\n",
       "    <tr>\n",
       "      <th>3</th>\n",
       "      <td>0.806185</td>\n",
       "      <td>0.842867</td>\n",
       "      <td>0.787844</td>\n",
       "      <td>0.861208</td>\n",
       "    </tr>\n",
       "    <tr>\n",
       "      <th>4</th>\n",
       "      <td>0.727833</td>\n",
       "      <td>0.778761</td>\n",
       "      <td>0.702369</td>\n",
       "      <td>0.804225</td>\n",
       "    </tr>\n",
       "    <tr>\n",
       "      <th>5</th>\n",
       "      <td>0.997024</td>\n",
       "      <td>0.999008</td>\n",
       "      <td>0.996032</td>\n",
       "      <td>1.000000</td>\n",
       "    </tr>\n",
       "    <tr>\n",
       "      <th>6</th>\n",
       "      <td>0.995630</td>\n",
       "      <td>0.997867</td>\n",
       "      <td>0.994511</td>\n",
       "      <td>0.998986</td>\n",
       "    </tr>\n",
       "    <tr>\n",
       "      <th>7</th>\n",
       "      <td>0.968719</td>\n",
       "      <td>0.975850</td>\n",
       "      <td>0.965154</td>\n",
       "      <td>0.979415</td>\n",
       "    </tr>\n",
       "    <tr>\n",
       "      <th>8</th>\n",
       "      <td>0.987907</td>\n",
       "      <td>0.991549</td>\n",
       "      <td>0.986086</td>\n",
       "      <td>0.993370</td>\n",
       "    </tr>\n",
       "    <tr>\n",
       "      <th>9</th>\n",
       "      <td>0.861877</td>\n",
       "      <td>0.888433</td>\n",
       "      <td>0.848599</td>\n",
       "      <td>0.901712</td>\n",
       "    </tr>\n",
       "    <tr>\n",
       "      <th>10</th>\n",
       "      <td>0.824082</td>\n",
       "      <td>0.857510</td>\n",
       "      <td>0.807368</td>\n",
       "      <td>0.874224</td>\n",
       "    </tr>\n",
       "    <tr>\n",
       "      <th>11</th>\n",
       "      <td>0.782355</td>\n",
       "      <td>0.823370</td>\n",
       "      <td>0.761847</td>\n",
       "      <td>0.843877</td>\n",
       "    </tr>\n",
       "    <tr>\n",
       "      <th>12</th>\n",
       "      <td>0.870269</td>\n",
       "      <td>0.895300</td>\n",
       "      <td>0.857754</td>\n",
       "      <td>0.907815</td>\n",
       "    </tr>\n",
       "    <tr>\n",
       "      <th>13</th>\n",
       "      <td>0.949051</td>\n",
       "      <td>0.959758</td>\n",
       "      <td>0.943698</td>\n",
       "      <td>0.965111</td>\n",
       "    </tr>\n",
       "    <tr>\n",
       "      <th>14</th>\n",
       "      <td>0.869102</td>\n",
       "      <td>0.894344</td>\n",
       "      <td>0.856480</td>\n",
       "      <td>0.906966</td>\n",
       "    </tr>\n",
       "    <tr>\n",
       "      <th>15</th>\n",
       "      <td>0.916349</td>\n",
       "      <td>0.933001</td>\n",
       "      <td>0.908023</td>\n",
       "      <td>0.941328</td>\n",
       "    </tr>\n",
       "    <tr>\n",
       "      <th>16</th>\n",
       "      <td>0.876112</td>\n",
       "      <td>0.900080</td>\n",
       "      <td>0.864128</td>\n",
       "      <td>0.912064</td>\n",
       "    </tr>\n",
       "    <tr>\n",
       "      <th>17</th>\n",
       "      <td>0.083995</td>\n",
       "      <td>0.251984</td>\n",
       "      <td>0.000000</td>\n",
       "      <td>0.335979</td>\n",
       "    </tr>\n",
       "    <tr>\n",
       "      <th>18</th>\n",
       "      <td>0.662223</td>\n",
       "      <td>0.725080</td>\n",
       "      <td>0.630794</td>\n",
       "      <td>0.756508</td>\n",
       "    </tr>\n",
       "    <tr>\n",
       "      <th>19</th>\n",
       "      <td>0.975256</td>\n",
       "      <td>0.981198</td>\n",
       "      <td>0.972285</td>\n",
       "      <td>0.984169</td>\n",
       "    </tr>\n",
       "    <tr>\n",
       "      <th>20</th>\n",
       "      <td>0.781881</td>\n",
       "      <td>0.822982</td>\n",
       "      <td>0.761330</td>\n",
       "      <td>0.843532</td>\n",
       "    </tr>\n",
       "    <tr>\n",
       "      <th>21</th>\n",
       "      <td>0.621461</td>\n",
       "      <td>0.691729</td>\n",
       "      <td>0.586327</td>\n",
       "      <td>0.726863</td>\n",
       "    </tr>\n",
       "    <tr>\n",
       "      <th>22</th>\n",
       "      <td>0.912116</td>\n",
       "      <td>0.929538</td>\n",
       "      <td>0.903405</td>\n",
       "      <td>0.938249</td>\n",
       "    </tr>\n",
       "    <tr>\n",
       "      <th>23</th>\n",
       "      <td>0.645679</td>\n",
       "      <td>0.711544</td>\n",
       "      <td>0.612747</td>\n",
       "      <td>0.744477</td>\n",
       "    </tr>\n",
       "    <tr>\n",
       "      <th>24</th>\n",
       "      <td>0.964959</td>\n",
       "      <td>0.972773</td>\n",
       "      <td>0.961052</td>\n",
       "      <td>0.976680</td>\n",
       "    </tr>\n",
       "    <tr>\n",
       "      <th>25</th>\n",
       "      <td>0.810041</td>\n",
       "      <td>0.846022</td>\n",
       "      <td>0.792051</td>\n",
       "      <td>0.864013</td>\n",
       "    </tr>\n",
       "    <tr>\n",
       "      <th>26</th>\n",
       "      <td>0.989326</td>\n",
       "      <td>0.992710</td>\n",
       "      <td>0.987634</td>\n",
       "      <td>0.994402</td>\n",
       "    </tr>\n",
       "    <tr>\n",
       "      <th>27</th>\n",
       "      <td>0.898437</td>\n",
       "      <td>0.918346</td>\n",
       "      <td>0.888483</td>\n",
       "      <td>0.928301</td>\n",
       "    </tr>\n",
       "    <tr>\n",
       "      <th>28</th>\n",
       "      <td>0.710458</td>\n",
       "      <td>0.764545</td>\n",
       "      <td>0.683414</td>\n",
       "      <td>0.791588</td>\n",
       "    </tr>\n",
       "    <tr>\n",
       "      <th>29</th>\n",
       "      <td>0.982167</td>\n",
       "      <td>0.986852</td>\n",
       "      <td>0.979824</td>\n",
       "      <td>0.989195</td>\n",
       "    </tr>\n",
       "    <tr>\n",
       "      <th>30</th>\n",
       "      <td>0.995619</td>\n",
       "      <td>0.997858</td>\n",
       "      <td>0.994499</td>\n",
       "      <td>0.998978</td>\n",
       "    </tr>\n",
       "  </tbody>\n",
       "</table>\n",
       "</div>"
      ],
      "text/plain": [
       "    New Stability(NPK + 10%)  New Stability(NPK - 10%)  \\\n",
       "0                   0.940864                  0.953059   \n",
       "1                   0.976666                  0.982351   \n",
       "2                   0.835654                  0.866978   \n",
       "3                   0.806185                  0.842867   \n",
       "4                   0.727833                  0.778761   \n",
       "5                   0.997024                  0.999008   \n",
       "6                   0.995630                  0.997867   \n",
       "7                   0.968719                  0.975850   \n",
       "8                   0.987907                  0.991549   \n",
       "9                   0.861877                  0.888433   \n",
       "10                  0.824082                  0.857510   \n",
       "11                  0.782355                  0.823370   \n",
       "12                  0.870269                  0.895300   \n",
       "13                  0.949051                  0.959758   \n",
       "14                  0.869102                  0.894344   \n",
       "15                  0.916349                  0.933001   \n",
       "16                  0.876112                  0.900080   \n",
       "17                  0.083995                  0.251984   \n",
       "18                  0.662223                  0.725080   \n",
       "19                  0.975256                  0.981198   \n",
       "20                  0.781881                  0.822982   \n",
       "21                  0.621461                  0.691729   \n",
       "22                  0.912116                  0.929538   \n",
       "23                  0.645679                  0.711544   \n",
       "24                  0.964959                  0.972773   \n",
       "25                  0.810041                  0.846022   \n",
       "26                  0.989326                  0.992710   \n",
       "27                  0.898437                  0.918346   \n",
       "28                  0.710458                  0.764545   \n",
       "29                  0.982167                  0.986852   \n",
       "30                  0.995619                  0.997858   \n",
       "\n",
       "    New Stability(NPK + 20%)  New Stability(NPK - 20%)  \n",
       "0                   0.934767                  0.959157  \n",
       "1                   0.973823                  0.985194  \n",
       "2                   0.819992                  0.882640  \n",
       "3                   0.787844                  0.861208  \n",
       "4                   0.702369                  0.804225  \n",
       "5                   0.996032                  1.000000  \n",
       "6                   0.994511                  0.998986  \n",
       "7                   0.965154                  0.979415  \n",
       "8                   0.986086                  0.993370  \n",
       "9                   0.848599                  0.901712  \n",
       "10                  0.807368                  0.874224  \n",
       "11                  0.761847                  0.843877  \n",
       "12                  0.857754                  0.907815  \n",
       "13                  0.943698                  0.965111  \n",
       "14                  0.856480                  0.906966  \n",
       "15                  0.908023                  0.941328  \n",
       "16                  0.864128                  0.912064  \n",
       "17                  0.000000                  0.335979  \n",
       "18                  0.630794                  0.756508  \n",
       "19                  0.972285                  0.984169  \n",
       "20                  0.761330                  0.843532  \n",
       "21                  0.586327                  0.726863  \n",
       "22                  0.903405                  0.938249  \n",
       "23                  0.612747                  0.744477  \n",
       "24                  0.961052                  0.976680  \n",
       "25                  0.792051                  0.864013  \n",
       "26                  0.987634                  0.994402  \n",
       "27                  0.888483                  0.928301  \n",
       "28                  0.683414                  0.791588  \n",
       "29                  0.979824                  0.989195  \n",
       "30                  0.994499                  0.998978  "
      ]
     },
     "execution_count": 53,
     "metadata": {},
     "output_type": "execute_result"
    }
   ],
   "source": [
    "normalized_data_1"
   ]
  },
  {
   "cell_type": "code",
   "execution_count": 54,
   "metadata": {},
   "outputs": [
    {
     "data": {
      "text/html": [
       "<div>\n",
       "<style scoped>\n",
       "    .dataframe tbody tr th:only-of-type {\n",
       "        vertical-align: middle;\n",
       "    }\n",
       "\n",
       "    .dataframe tbody tr th {\n",
       "        vertical-align: top;\n",
       "    }\n",
       "\n",
       "    .dataframe thead th {\n",
       "        text-align: right;\n",
       "    }\n",
       "</style>\n",
       "<table border=\"1\" class=\"dataframe\">\n",
       "  <thead>\n",
       "    <tr style=\"text-align: right;\">\n",
       "      <th></th>\n",
       "      <th>New Stability(NPK + 10%)</th>\n",
       "      <th>New Stability(NPK - 10%)</th>\n",
       "      <th>New Stability(NPK + 20%)</th>\n",
       "      <th>New Stability(NPK - 20%)</th>\n",
       "    </tr>\n",
       "  </thead>\n",
       "  <tbody>\n",
       "    <tr>\n",
       "      <th>0</th>\n",
       "      <td>0.059136</td>\n",
       "      <td>0.046941</td>\n",
       "      <td>0.065233</td>\n",
       "      <td>0.040843</td>\n",
       "    </tr>\n",
       "    <tr>\n",
       "      <th>1</th>\n",
       "      <td>0.023334</td>\n",
       "      <td>0.017649</td>\n",
       "      <td>0.026177</td>\n",
       "      <td>0.014806</td>\n",
       "    </tr>\n",
       "    <tr>\n",
       "      <th>2</th>\n",
       "      <td>0.164346</td>\n",
       "      <td>0.133022</td>\n",
       "      <td>0.180008</td>\n",
       "      <td>0.117360</td>\n",
       "    </tr>\n",
       "    <tr>\n",
       "      <th>3</th>\n",
       "      <td>0.193815</td>\n",
       "      <td>0.157133</td>\n",
       "      <td>0.212156</td>\n",
       "      <td>0.138792</td>\n",
       "    </tr>\n",
       "    <tr>\n",
       "      <th>4</th>\n",
       "      <td>0.272167</td>\n",
       "      <td>0.221239</td>\n",
       "      <td>0.297631</td>\n",
       "      <td>0.195775</td>\n",
       "    </tr>\n",
       "    <tr>\n",
       "      <th>5</th>\n",
       "      <td>0.002976</td>\n",
       "      <td>0.000992</td>\n",
       "      <td>0.003968</td>\n",
       "      <td>0.000000</td>\n",
       "    </tr>\n",
       "    <tr>\n",
       "      <th>6</th>\n",
       "      <td>0.004370</td>\n",
       "      <td>0.002133</td>\n",
       "      <td>0.005489</td>\n",
       "      <td>0.001014</td>\n",
       "    </tr>\n",
       "    <tr>\n",
       "      <th>7</th>\n",
       "      <td>0.031281</td>\n",
       "      <td>0.024150</td>\n",
       "      <td>0.034846</td>\n",
       "      <td>0.020585</td>\n",
       "    </tr>\n",
       "    <tr>\n",
       "      <th>8</th>\n",
       "      <td>0.012093</td>\n",
       "      <td>0.008451</td>\n",
       "      <td>0.013914</td>\n",
       "      <td>0.006630</td>\n",
       "    </tr>\n",
       "    <tr>\n",
       "      <th>9</th>\n",
       "      <td>0.138123</td>\n",
       "      <td>0.111567</td>\n",
       "      <td>0.151401</td>\n",
       "      <td>0.098288</td>\n",
       "    </tr>\n",
       "    <tr>\n",
       "      <th>10</th>\n",
       "      <td>0.175918</td>\n",
       "      <td>0.142490</td>\n",
       "      <td>0.192632</td>\n",
       "      <td>0.125776</td>\n",
       "    </tr>\n",
       "    <tr>\n",
       "      <th>11</th>\n",
       "      <td>0.217645</td>\n",
       "      <td>0.176630</td>\n",
       "      <td>0.238153</td>\n",
       "      <td>0.156123</td>\n",
       "    </tr>\n",
       "    <tr>\n",
       "      <th>12</th>\n",
       "      <td>0.129731</td>\n",
       "      <td>0.104700</td>\n",
       "      <td>0.142246</td>\n",
       "      <td>0.092185</td>\n",
       "    </tr>\n",
       "    <tr>\n",
       "      <th>13</th>\n",
       "      <td>0.050949</td>\n",
       "      <td>0.040242</td>\n",
       "      <td>0.056302</td>\n",
       "      <td>0.034889</td>\n",
       "    </tr>\n",
       "    <tr>\n",
       "      <th>14</th>\n",
       "      <td>0.130898</td>\n",
       "      <td>0.105656</td>\n",
       "      <td>0.143520</td>\n",
       "      <td>0.093034</td>\n",
       "    </tr>\n",
       "    <tr>\n",
       "      <th>15</th>\n",
       "      <td>0.083651</td>\n",
       "      <td>0.066999</td>\n",
       "      <td>0.091977</td>\n",
       "      <td>0.058672</td>\n",
       "    </tr>\n",
       "    <tr>\n",
       "      <th>16</th>\n",
       "      <td>0.123888</td>\n",
       "      <td>0.099920</td>\n",
       "      <td>0.135872</td>\n",
       "      <td>0.087936</td>\n",
       "    </tr>\n",
       "    <tr>\n",
       "      <th>17</th>\n",
       "      <td>0.916005</td>\n",
       "      <td>0.748016</td>\n",
       "      <td>1.000000</td>\n",
       "      <td>0.664021</td>\n",
       "    </tr>\n",
       "    <tr>\n",
       "      <th>18</th>\n",
       "      <td>0.337777</td>\n",
       "      <td>0.274920</td>\n",
       "      <td>0.369206</td>\n",
       "      <td>0.243492</td>\n",
       "    </tr>\n",
       "    <tr>\n",
       "      <th>19</th>\n",
       "      <td>0.024744</td>\n",
       "      <td>0.018802</td>\n",
       "      <td>0.027715</td>\n",
       "      <td>0.015831</td>\n",
       "    </tr>\n",
       "    <tr>\n",
       "      <th>20</th>\n",
       "      <td>0.218119</td>\n",
       "      <td>0.177018</td>\n",
       "      <td>0.238670</td>\n",
       "      <td>0.156468</td>\n",
       "    </tr>\n",
       "    <tr>\n",
       "      <th>21</th>\n",
       "      <td>0.378539</td>\n",
       "      <td>0.308271</td>\n",
       "      <td>0.413673</td>\n",
       "      <td>0.273137</td>\n",
       "    </tr>\n",
       "    <tr>\n",
       "      <th>22</th>\n",
       "      <td>0.087884</td>\n",
       "      <td>0.070462</td>\n",
       "      <td>0.096595</td>\n",
       "      <td>0.061751</td>\n",
       "    </tr>\n",
       "    <tr>\n",
       "      <th>23</th>\n",
       "      <td>0.354321</td>\n",
       "      <td>0.288456</td>\n",
       "      <td>0.387253</td>\n",
       "      <td>0.255523</td>\n",
       "    </tr>\n",
       "    <tr>\n",
       "      <th>24</th>\n",
       "      <td>0.035041</td>\n",
       "      <td>0.027227</td>\n",
       "      <td>0.038948</td>\n",
       "      <td>0.023320</td>\n",
       "    </tr>\n",
       "    <tr>\n",
       "      <th>25</th>\n",
       "      <td>0.189959</td>\n",
       "      <td>0.153978</td>\n",
       "      <td>0.207949</td>\n",
       "      <td>0.135987</td>\n",
       "    </tr>\n",
       "    <tr>\n",
       "      <th>26</th>\n",
       "      <td>0.010674</td>\n",
       "      <td>0.007290</td>\n",
       "      <td>0.012366</td>\n",
       "      <td>0.005598</td>\n",
       "    </tr>\n",
       "    <tr>\n",
       "      <th>27</th>\n",
       "      <td>0.101563</td>\n",
       "      <td>0.081654</td>\n",
       "      <td>0.111517</td>\n",
       "      <td>0.071699</td>\n",
       "    </tr>\n",
       "    <tr>\n",
       "      <th>28</th>\n",
       "      <td>0.289542</td>\n",
       "      <td>0.235455</td>\n",
       "      <td>0.316586</td>\n",
       "      <td>0.208412</td>\n",
       "    </tr>\n",
       "    <tr>\n",
       "      <th>29</th>\n",
       "      <td>0.017833</td>\n",
       "      <td>0.013148</td>\n",
       "      <td>0.020176</td>\n",
       "      <td>0.010805</td>\n",
       "    </tr>\n",
       "    <tr>\n",
       "      <th>30</th>\n",
       "      <td>0.004381</td>\n",
       "      <td>0.002142</td>\n",
       "      <td>0.005501</td>\n",
       "      <td>0.001022</td>\n",
       "    </tr>\n",
       "  </tbody>\n",
       "</table>\n",
       "</div>"
      ],
      "text/plain": [
       "    New Stability(NPK + 10%)  New Stability(NPK - 10%)  \\\n",
       "0                   0.059136                  0.046941   \n",
       "1                   0.023334                  0.017649   \n",
       "2                   0.164346                  0.133022   \n",
       "3                   0.193815                  0.157133   \n",
       "4                   0.272167                  0.221239   \n",
       "5                   0.002976                  0.000992   \n",
       "6                   0.004370                  0.002133   \n",
       "7                   0.031281                  0.024150   \n",
       "8                   0.012093                  0.008451   \n",
       "9                   0.138123                  0.111567   \n",
       "10                  0.175918                  0.142490   \n",
       "11                  0.217645                  0.176630   \n",
       "12                  0.129731                  0.104700   \n",
       "13                  0.050949                  0.040242   \n",
       "14                  0.130898                  0.105656   \n",
       "15                  0.083651                  0.066999   \n",
       "16                  0.123888                  0.099920   \n",
       "17                  0.916005                  0.748016   \n",
       "18                  0.337777                  0.274920   \n",
       "19                  0.024744                  0.018802   \n",
       "20                  0.218119                  0.177018   \n",
       "21                  0.378539                  0.308271   \n",
       "22                  0.087884                  0.070462   \n",
       "23                  0.354321                  0.288456   \n",
       "24                  0.035041                  0.027227   \n",
       "25                  0.189959                  0.153978   \n",
       "26                  0.010674                  0.007290   \n",
       "27                  0.101563                  0.081654   \n",
       "28                  0.289542                  0.235455   \n",
       "29                  0.017833                  0.013148   \n",
       "30                  0.004381                  0.002142   \n",
       "\n",
       "    New Stability(NPK + 20%)  New Stability(NPK - 20%)  \n",
       "0                   0.065233                  0.040843  \n",
       "1                   0.026177                  0.014806  \n",
       "2                   0.180008                  0.117360  \n",
       "3                   0.212156                  0.138792  \n",
       "4                   0.297631                  0.195775  \n",
       "5                   0.003968                  0.000000  \n",
       "6                   0.005489                  0.001014  \n",
       "7                   0.034846                  0.020585  \n",
       "8                   0.013914                  0.006630  \n",
       "9                   0.151401                  0.098288  \n",
       "10                  0.192632                  0.125776  \n",
       "11                  0.238153                  0.156123  \n",
       "12                  0.142246                  0.092185  \n",
       "13                  0.056302                  0.034889  \n",
       "14                  0.143520                  0.093034  \n",
       "15                  0.091977                  0.058672  \n",
       "16                  0.135872                  0.087936  \n",
       "17                  1.000000                  0.664021  \n",
       "18                  0.369206                  0.243492  \n",
       "19                  0.027715                  0.015831  \n",
       "20                  0.238670                  0.156468  \n",
       "21                  0.413673                  0.273137  \n",
       "22                  0.096595                  0.061751  \n",
       "23                  0.387253                  0.255523  \n",
       "24                  0.038948                  0.023320  \n",
       "25                  0.207949                  0.135987  \n",
       "26                  0.012366                  0.005598  \n",
       "27                  0.111517                  0.071699  \n",
       "28                  0.316586                  0.208412  \n",
       "29                  0.020176                  0.010805  \n",
       "30                  0.005501                  0.001022  "
      ]
     },
     "execution_count": 54,
     "metadata": {},
     "output_type": "execute_result"
    }
   ],
   "source": [
    "normalized_data_2"
   ]
  },
  {
   "cell_type": "code",
   "execution_count": 55,
   "metadata": {},
   "outputs": [
    {
     "name": "stdout",
     "output_type": "stream",
     "text": [
      "2.1764894064966205 17136.471837471167 Rice_Production 10\n",
      "2.6936229082208722 -4743.442857301005 Maize_Production 10\n",
      "2.1764894064966205 17136.471837471167 Rice_Production 20\n",
      "2.6936229082208722 -4743.442857301005 Maize_Production 20\n",
      "258944.86274476734\n",
      "280661.6179849578\n"
     ]
    },
    {
     "data": {
      "application/vnd.plotly.v1+json": {
       "config": {
        "plotlyServerURL": "https://plot.ly"
       },
       "data": [
        {
         "hovertemplate": "%{text}<br>Percent Change: %{y:.2f}<br>Stability: %{x:.2f}",
         "marker": {
          "color": "red",
          "size": 5,
          "symbol": "circle"
         },
         "mode": "markers",
         "name": "Rice_Production +10%",
         "showlegend": false,
         "text": [
          "BENGALURU",
          "BENGALURU(R)",
          "RAMANAGARA",
          "CHITRADURGA",
          "DAVANAGERE",
          "KOLAR",
          "CHIKKABALLAPURA",
          "SHIVAMOGGA",
          "TUMAKURU",
          "CHIKKAMAGALURU",
          "DAKSHINA KANNADA",
          "UDUPI",
          "HASSAN",
          "KODAGU",
          "MANDYA",
          "MYSURU",
          "CHAMARAJANAGAR",
          "BELAGAVI",
          "VIJAYAPURA",
          "BAGALKOT",
          "DHARAWAD",
          "GADAG",
          "HAVERI",
          "UTTARA KANNADA",
          "BALLARI",
          "BIDAR",
          "KALABURAGI",
          "YADGIRI",
          "RAICHUR",
          "KOPPAL",
          "Vijayanagara"
         ],
         "type": "scatter",
         "x": [
          0.9347668480449552,
          0.9738228601392392,
          0.8199915728504515,
          0.7878438122501716,
          0.7023690689275105,
          0.9960316856898858,
          0.9945110708120918,
          0.9651538837730281,
          0.9860860234960926,
          0.8485989636133678,
          0.8073681393903512,
          0.7618471840910329,
          0.8577538359962897,
          0.9436980078473538,
          0.8564804436663693,
          0.908023033881752,
          0.8641281554598168,
          0,
          0.6307942171506717,
          0.972285077028954,
          0.761330297662815,
          0.5863265329146901,
          0.9034052173067276,
          0.6127469711558978,
          0.9610515871750641,
          0.792051010252378,
          0.9876339673970359,
          0.8884825195509379,
          0.683414359215343,
          0.9798238931763144,
          0.9944988077888837
         ],
         "xaxis": "x",
         "y": [
          2060.6586703030334,
          2586.7112262164637,
          188.79842980991344,
          2156.849152134183,
          -47.76396700738178,
          8032.222425991536,
          3051.484542159666,
          -60.34375060885264,
          316.5120248229951,
          62.49435235618208,
          -53.51109041977646,
          -76.94227221711161,
          25.931424147411853,
          33.44756814719034,
          -34.242423486387324,
          -53.24846290728791,
          61.64547041737945,
          152.35549090802886,
          86350.47419156252,
          258944.86274476734,
          213.72431490230437,
          904.0233199094461,
          37.74127229698644,
          -64.82890374467138,
          -20.059086623917185,
          3641.214892012171,
          1756.2062429640682,
          5.018886955262315,
          -39.51089263861989,
          -20.64633763299532,
          -20.060248172922176
         ],
         "yaxis": "y"
        },
        {
         "hovertemplate": "%{text}<br>Percent Change: %{y:.2f}<br>Stability: %{x:.2f}",
         "marker": {
          "color": "red",
          "size": 5,
          "symbol": "circle"
         },
         "mode": "markers",
         "name": "Rice_Production -10%",
         "showlegend": false,
         "text": [
          "BENGALURU",
          "BENGALURU(R)",
          "RAMANAGARA",
          "CHITRADURGA",
          "DAVANAGERE",
          "KOLAR",
          "CHIKKABALLAPURA",
          "SHIVAMOGGA",
          "TUMAKURU",
          "CHIKKAMAGALURU",
          "DAKSHINA KANNADA",
          "UDUPI",
          "HASSAN",
          "KODAGU",
          "MANDYA",
          "MYSURU",
          "CHAMARAJANAGAR",
          "BELAGAVI",
          "VIJAYAPURA",
          "BAGALKOT",
          "DHARAWAD",
          "GADAG",
          "HAVERI",
          "UTTARA KANNADA",
          "BALLARI",
          "BIDAR",
          "KALABURAGI",
          "YADGIRI",
          "RAICHUR",
          "KOPPAL",
          "Vijayanagara"
         ],
         "type": "scatter",
         "x": [
          0.9591567749033797,
          0.985194116299569,
          0.8826399247737104,
          0.8612080843735238,
          0.8042249221584163,
          1,
          0.9989862567481372,
          0.9794147987220949,
          0.9933695585374712,
          0.9017115186156547,
          0.8742243024669769,
          0.8438769989340981,
          0.907814766870936,
          0.965110881438312,
          0.906965838650989,
          0.9413275654612442,
          0.912064313179954,
          0.3359788762067428,
          0.7565083543071908,
          0.9841689275593788,
          0.8435324079819527,
          0.7268632314832029,
          0.9382490210778945,
          0.7444768569773415,
          0.9766799343234521,
          0.8640128830416614,
          0.9944015211381001,
          0.928300555907368,
          0.7915884490169716,
          0.9891948049909524,
          0.998978081399332
         ],
         "xaxis": "x2",
         "y": [
          1760.101987451012,
          2230.5769060830685,
          161.97994556627654,
          1814.7503967127743,
          -56.62492288815721,
          6914.252520202087,
          2593.970012137414,
          -66.74464463350712,
          252.74678568696112,
          35.76874089298487,
          -59.61369172426236,
          -78.87936606336385,
          5.202939185027888,
          12.794586969753597,
          -44.934582296706154,
          -60.869158904740445,
          39.04996390009144,
          108.22749671431238,
          72464.98389335023,
          215511.35226438622,
          165.8503848047741,
          764.4017343948843,
          15.181595699310451,
          -69.1869758908728,
          -33.08216287725156,
          3114.0255424506054,
          1458.213718974727,
          -12.688588852100755,
          -49.87607519751721,
          -33.79474516685612,
          -33.083113235528366
         ],
         "yaxis": "y2"
        },
        {
         "hovertemplate": "%{text}<br>Percent Change: %{y:.2f}<br>Stability: %{x:.2f}",
         "marker": {
          "color": "blue",
          "size": 5,
          "symbol": "circle"
         },
         "mode": "markers",
         "name": "Maize_Production +10%",
         "showlegend": false,
         "text": [
          "BENGALURU",
          "BENGALURU(R)",
          "RAMANAGARA",
          "CHITRADURGA",
          "DAVANAGERE",
          "KOLAR",
          "CHIKKABALLAPURA",
          "SHIVAMOGGA",
          "TUMAKURU",
          "CHIKKAMAGALURU",
          "DAKSHINA KANNADA",
          "UDUPI",
          "HASSAN",
          "KODAGU",
          "MANDYA",
          "MYSURU",
          "CHAMARAJANAGAR",
          "BELAGAVI",
          "VIJAYAPURA",
          "BAGALKOT",
          "DHARAWAD",
          "GADAG",
          "HAVERI",
          "UTTARA KANNADA",
          "BALLARI",
          "BIDAR",
          "KALABURAGI",
          "YADGIRI",
          "RAICHUR",
          "KOPPAL",
          "Vijayanagara"
         ],
         "type": "scatter",
         "x": [
          0.9347668480449552,
          0.9738228601392392,
          0.8199915728504515,
          0.7878438122501716,
          0.7023690689275105,
          0.9960316856898858,
          0.9945110708120918,
          0.9651538837730281,
          0.9860860234960926,
          0.8485989636133678,
          0.8073681393903512,
          0.7618471840910329,
          0.8577538359962897,
          0.9436980078473538,
          0.8564804436663693,
          0.908023033881752,
          0.8641281554598168,
          0,
          0.6307942171506717,
          0.972285077028954,
          0.761330297662815,
          0.5863265329146901,
          0.9034052173067276,
          0.6127469711558978,
          0.9610515871750641,
          0.792051010252378,
          0.9876339673970359,
          0.8884825195509379,
          0.683414359215343,
          0.9798238931763144,
          0.9944988077888837
         ],
         "xaxis": "x",
         "y": [
          2134.23904593154,
          22.867550644781076,
          66.46873253538112,
          -62.65086201851009,
          -51.056660615533765,
          3368.1750261187376,
          -24.848633123242315,
          -28.050700883176688,
          61.943704785232384,
          220.00655502640322,
          null,
          12260.541418616978,
          -40.70240874823449,
          550.5324038162244,
          801.0626441756566,
          30.512505122817263,
          -55.51675355644273,
          -8.35494451939296,
          -31.102644175727633,
          -2.0444030989672077,
          16.971453172235254,
          -53.61300689186601,
          -54.56844881079913,
          68.70490888093774,
          71.05006433916323,
          2347.790977451695,
          961.8616709240828,
          9852.89231193182,
          47288.95255214765,
          12.056664057516699,
          71.0472165471511
         ],
         "yaxis": "y"
        },
        {
         "hovertemplate": "%{text}<br>Percent Change: %{y:.2f}<br>Stability: %{x:.2f}",
         "marker": {
          "color": "blue",
          "size": 5,
          "symbol": "circle"
         },
         "mode": "markers",
         "name": "Maize_Production -10%",
         "showlegend": false,
         "text": [
          "BENGALURU",
          "BENGALURU(R)",
          "RAMANAGARA",
          "CHITRADURGA",
          "DAVANAGERE",
          "KOLAR",
          "CHIKKABALLAPURA",
          "SHIVAMOGGA",
          "TUMAKURU",
          "CHIKKAMAGALURU",
          "DAKSHINA KANNADA",
          "UDUPI",
          "HASSAN",
          "KODAGU",
          "MANDYA",
          "MYSURU",
          "CHAMARAJANAGAR",
          "BELAGAVI",
          "VIJAYAPURA",
          "BAGALKOT",
          "DHARAWAD",
          "GADAG",
          "HAVERI",
          "UTTARA KANNADA",
          "BALLARI",
          "BIDAR",
          "KALABURAGI",
          "YADGIRI",
          "RAICHUR",
          "KOPPAL",
          "Vijayanagara"
         ],
         "type": "scatter",
         "x": [
          0.9591567749033797,
          0.985194116299569,
          0.8826399247737104,
          0.8612080843735238,
          0.8042249221584163,
          1,
          0.9989862567481372,
          0.9794147987220949,
          0.9933695585374712,
          0.9017115186156547,
          0.8742243024669769,
          0.8438769989340981,
          0.907814766870936,
          0.965110881438312,
          0.906965838650989,
          0.9413275654612442,
          0.912064313179954,
          0.3359788762067428,
          0.7565083543071908,
          0.9841689275593788,
          0.8435324079819527,
          0.7268632314832029,
          0.9382490210778945,
          0.7444768569773415,
          0.9766799343234521,
          0.8640128830416614,
          0.9944015211381001,
          0.928300555907368,
          0.7915884490169716,
          0.9891948049909524,
          0.998978081399332
         ],
         "xaxis": "x2",
         "y": [
          1698.0573856980789,
          -1.4973290440264553,
          27.9486361330377,
          -69.75871858169403,
          -60.1007537599935,
          2688.5673816231465,
          -39.33007036593004,
          -41.51310789070542,
          31.209623699269514,
          160.41783681520243,
          null,
          9221.937081077527,
          -51.74205450371903,
          427.4413070884592,
          632.7845030748867,
          6.154144297699795,
          -64.18779829149284,
          -25.16721498626089,
          -44.01049724381061,
          -20.19716064603953,
          -5.247651784448412,
          -62.66981692441772,
          -63.037309145332735,
          34.45089986208254,
          39.1211380792875,
          1871.837171139359,
          762.8972452062674,
          8011.010501536717,
          38553.4924789848,
          -8.770591597662818,
          39.11880806764118
         ],
         "yaxis": "y2"
        },
        {
         "hovertemplate": "%{text}<br>Percent Change: %{y:.2f}<br>Stability: %{x:.2f}",
         "marker": {
          "color": "red",
          "size": 5,
          "symbol": "circle"
         },
         "mode": "markers",
         "name": "Rice_Production +20%",
         "showlegend": false,
         "text": [
          "BENGALURU",
          "BENGALURU(R)",
          "RAMANAGARA",
          "CHITRADURGA",
          "DAVANAGERE",
          "KOLAR",
          "CHIKKABALLAPURA",
          "SHIVAMOGGA",
          "TUMAKURU",
          "CHIKKAMAGALURU",
          "DAKSHINA KANNADA",
          "UDUPI",
          "HASSAN",
          "KODAGU",
          "MANDYA",
          "MYSURU",
          "CHAMARAJANAGAR",
          "BELAGAVI",
          "VIJAYAPURA",
          "BAGALKOT",
          "DHARAWAD",
          "GADAG",
          "HAVERI",
          "UTTARA KANNADA",
          "BALLARI",
          "BIDAR",
          "KALABURAGI",
          "YADGIRI",
          "RAICHUR",
          "KOPPAL",
          "Vijayanagara"
         ],
         "type": "scatter",
         "x": [
          0.9347668480449552,
          0.9738228601392392,
          0.8199915728504515,
          0.7878438122501716,
          0.7023690689275105,
          0.9960316856898858,
          0.9945110708120918,
          0.9651538837730281,
          0.9860860234960926,
          0.8485989636133678,
          0.8073681393903512,
          0.7618471840910329,
          0.8577538359962897,
          0.9436980078473538,
          0.8564804436663693,
          0.908023033881752,
          0.8641281554598168,
          0,
          0.6307942171506717,
          0.972285077028954,
          0.761330297662815,
          0.5863265329146901,
          0.9034052173067276,
          0.6127469711558978,
          0.9610515871750641,
          0.792051010252378,
          0.9876339673970359,
          0.8884825195509379,
          0.683414359215343,
          0.9798238931763144,
          0.9944988077888837
         ],
         "xaxis": "x3",
         "y": [
          2210.937011729044,
          2764.778386283161,
          202.20767193173188,
          2327.898529844887,
          -43.333489066994076,
          8591.207378886258,
          3280.241807170792,
          -57.14330359652539,
          348.3946443910121,
          75.85715808778062,
          -50.45978976753349,
          -75.9737252939855,
          36.2956666286038,
          43.77405873590868,
          -28.896344081227934,
          -49.43811490856164,
          72.94322367602344,
          174.41948800488706,
          93293.21934066866,
          280661.6179849578,
          237.66127995106945,
          973.8341126667265,
          49.02111059582438,
          -62.64986767157067,
          -13.54754849724997,
          3904.8095667929524,
          1905.2025049587385,
          13.872624858943825,
          -34.32830135917125,
          -14.07213386606493,
          -13.548815641619067
         ],
         "yaxis": "y3"
        },
        {
         "hovertemplate": "%{text}<br>Percent Change: %{y:.2f}<br>Stability: %{x:.2f}",
         "marker": {
          "color": "red",
          "size": 5,
          "symbol": "circle"
         },
         "mode": "markers",
         "name": "Rice_Production -20%",
         "showlegend": false,
         "text": [
          "BENGALURU",
          "BENGALURU(R)",
          "RAMANAGARA",
          "CHITRADURGA",
          "DAVANAGERE",
          "KOLAR",
          "CHIKKABALLAPURA",
          "SHIVAMOGGA",
          "TUMAKURU",
          "CHIKKAMAGALURU",
          "DAKSHINA KANNADA",
          "UDUPI",
          "HASSAN",
          "KODAGU",
          "MANDYA",
          "MYSURU",
          "CHAMARAJANAGAR",
          "BELAGAVI",
          "VIJAYAPURA",
          "BAGALKOT",
          "DHARAWAD",
          "GADAG",
          "HAVERI",
          "UTTARA KANNADA",
          "BALLARI",
          "BIDAR",
          "KALABURAGI",
          "YADGIRI",
          "RAICHUR",
          "KOPPAL",
          "Vijayanagara"
         ],
         "type": "scatter",
         "x": [
          0.9591567749033797,
          0.985194116299569,
          0.8826399247737104,
          0.8612080843735238,
          0.8042249221584163,
          1,
          0.9989862567481372,
          0.9794147987220949,
          0.9933695585374712,
          0.9017115186156547,
          0.8742243024669769,
          0.8438769989340981,
          0.907814766870936,
          0.965110881438312,
          0.906965838650989,
          0.9413275654612442,
          0.912064313179954,
          0.3359788762067428,
          0.7565083543071908,
          0.9841689275593788,
          0.8435324079819527,
          0.7268632314832029,
          0.9382490210778945,
          0.7444768569773415,
          0.9766799343234521,
          0.8640128830416614,
          0.9944015211381001,
          0.928300555907368,
          0.7915884490169716,
          0.9891948049909524,
          0.998978081399332
         ],
         "xaxis": "x4",
         "y": [
          1609.8236460250012,
          2052.509746016371,
          148.5707034444581,
          1643.7010190020699,
          -61.05540082854492,
          6355.267567307364,
          2365.212747126288,
          -69.94509164583437,
          220.86416611894413,
          22.40593516138627,
          -62.66499237650531,
          -79.84791298648994,
          -5.161303296164075,
          2.4680963810352377,
          -50.280661701865576,
          -64.67950690346672,
          27.752210641447444,
          86.1634996174541,
          65522.23874424408,
          193794.5970241957,
          141.913419756009,
          694.5909416376037,
          3.9017574004724818,
          -71.36601196397352,
          -39.593701003918746,
          2850.4308676698233,
          1309.2174569800568,
          -21.542326755782266,
          -55.058666476965854,
          -40.36894893378653,
          -39.594545766831466
         ],
         "yaxis": "y4"
        },
        {
         "hovertemplate": "%{text}<br>Percent Change: %{y:.2f}<br>Stability: %{x:.2f}",
         "marker": {
          "color": "blue",
          "size": 5,
          "symbol": "circle"
         },
         "mode": "markers",
         "name": "Maize_Production +20%",
         "showlegend": false,
         "text": [
          "BENGALURU",
          "BENGALURU(R)",
          "RAMANAGARA",
          "CHITRADURGA",
          "DAVANAGERE",
          "KOLAR",
          "CHIKKABALLAPURA",
          "SHIVAMOGGA",
          "TUMAKURU",
          "CHIKKAMAGALURU",
          "DAKSHINA KANNADA",
          "UDUPI",
          "HASSAN",
          "KODAGU",
          "MANDYA",
          "MYSURU",
          "CHAMARAJANAGAR",
          "BELAGAVI",
          "VIJAYAPURA",
          "BAGALKOT",
          "DHARAWAD",
          "GADAG",
          "HAVERI",
          "UTTARA KANNADA",
          "BALLARI",
          "BIDAR",
          "KALABURAGI",
          "YADGIRI",
          "RAICHUR",
          "KOPPAL",
          "Vijayanagara"
         ],
         "type": "scatter",
         "x": [
          0.9347668480449552,
          0.9738228601392392,
          0.8199915728504515,
          0.7878438122501716,
          0.7023690689275105,
          0.9960316856898858,
          0.9945110708120918,
          0.9651538837730281,
          0.9860860234960926,
          0.8485989636133678,
          0.8073681393903512,
          0.7618471840910329,
          0.8577538359962897,
          0.9436980078473538,
          0.8564804436663693,
          0.908023033881752,
          0.8641281554598168,
          0,
          0.6307942171506717,
          0.972285077028954,
          0.761330297662815,
          0.5863265329146901,
          0.9034052173067276,
          0.6127469711558978,
          0.9610515871750641,
          0.792051010252378,
          0.9876339673970359,
          0.8884825195509379,
          0.683414359215343,
          0.9798238931763144,
          0.9944988077888837
         ],
         "xaxis": "x3",
         "y": [
          2352.3298760482703,
          35.04999048918484,
          85.72878073655279,
          -59.09693373691813,
          -46.53461404330392,
          3707.978848366532,
          -17.60791450189845,
          -21.319497379412343,
          77.31074532821383,
          249.80091413200356,
          null,
          13779.843587386698,
          -35.18258587049223,
          612.0779521801068,
          885.2017147260414,
          42.691685535375996,
          -51.18123118891768,
          0.05119071404099172,
          -24.648717641686154,
          7.031975674568931,
          28.081005650577058,
          -49.08460187559017,
          -50.33401864353235,
          85.83191339036527,
          87.01452746910108,
          2585.767880607863,
          1061.3438837829904,
          10773.83321712937,
          51656.682588729076,
          22.47029188510643,
          87.01142078690603
         ],
         "yaxis": "y3"
        },
        {
         "hovertemplate": "%{text}<br>Percent Change: %{y:.2f}<br>Stability: %{x:.2f}",
         "marker": {
          "color": "blue",
          "size": 5,
          "symbol": "circle"
         },
         "mode": "markers",
         "name": "Maize_Production -20%",
         "showlegend": false,
         "text": [
          "BENGALURU",
          "BENGALURU(R)",
          "RAMANAGARA",
          "CHITRADURGA",
          "DAVANAGERE",
          "KOLAR",
          "CHIKKABALLAPURA",
          "SHIVAMOGGA",
          "TUMAKURU",
          "CHIKKAMAGALURU",
          "DAKSHINA KANNADA",
          "UDUPI",
          "HASSAN",
          "KODAGU",
          "MANDYA",
          "MYSURU",
          "CHAMARAJANAGAR",
          "BELAGAVI",
          "VIJAYAPURA",
          "BAGALKOT",
          "DHARAWAD",
          "GADAG",
          "HAVERI",
          "UTTARA KANNADA",
          "BALLARI",
          "BIDAR",
          "KALABURAGI",
          "YADGIRI",
          "RAICHUR",
          "KOPPAL",
          "Vijayanagara"
         ],
         "type": "scatter",
         "x": [
          0.9591567749033797,
          0.985194116299569,
          0.8826399247737104,
          0.8612080843735238,
          0.8042249221584163,
          1,
          0.9989862567481372,
          0.9794147987220949,
          0.9933695585374712,
          0.9017115186156547,
          0.8742243024669769,
          0.8438769989340981,
          0.907814766870936,
          0.965110881438312,
          0.906965838650989,
          0.9413275654612442,
          0.912064313179954,
          0.3359788762067428,
          0.7565083543071908,
          0.9841689275593788,
          0.8435324079819527,
          0.7268632314832029,
          0.9382490210778945,
          0.7444768569773415,
          0.9766799343234521,
          0.8640128830416614,
          0.9944015211381001,
          0.928300555907368,
          0.7915884490169716,
          0.9891948049909524,
          0.998978081399332
         ],
         "xaxis": "x4",
         "y": [
          1479.9665555813485,
          -13.67976888843022,
          8.68858793186599,
          -73.31264686328599,
          -64.62280033222336,
          2348.763559375351,
          -46.57078898727389,
          -48.24431139446976,
          15.842583156288066,
          130.62347770960207,
          null,
          7702.634912307805,
          -57.261877381461304,
          365.89575872457664,
          548.6454325245019,
          -6.025036114858917,
          -68.52332065901788,
          -33.57335021969485,
          -50.464423777852105,
          -29.27353941957569,
          -16.35720426279023,
          -67.19822194069356,
          -67.27173931259954,
          17.323895352654976,
          23.156674949349647,
          1633.8602679831915,
          663.4150323473599,
          7090.069596339166,
          34185.762442403364,
          -19.18421942525258,
          23.15460382788626
         ],
         "yaxis": "y4"
        },
        {
         "marker": {
          "color": "red",
          "size": 5,
          "symbol": "circle"
         },
         "mode": "markers",
         "name": "Rice_Production",
         "type": "scatter",
         "x": [
          null
         ],
         "xaxis": "x",
         "y": [
          null
         ],
         "yaxis": "y"
        },
        {
         "marker": {
          "color": "blue",
          "size": 5,
          "symbol": "circle"
         },
         "mode": "markers",
         "name": "Maize_Production",
         "type": "scatter",
         "x": [
          null
         ],
         "xaxis": "x",
         "y": [
          null
         ],
         "yaxis": "y"
        }
       ],
       "layout": {
        "height": 800,
        "legend": {
         "orientation": "v",
         "title": {
          "text": "Capability"
         },
         "x": 1,
         "xanchor": "left",
         "y": 0.85,
         "yanchor": "bottom"
        },
        "margin": {
         "t": 50
        },
        "shapes": [
         {
          "line": {
           "color": "black",
           "dash": "dash",
           "width": 1
          },
          "name": "Avg Stability",
          "type": "line",
          "x0": 0.8310425499259829,
          "x1": 0.8310425499259829,
          "xref": "x",
          "y0": -10000,
          "y1": 258944.86274476734,
          "yref": "y"
         },
         {
          "line": {
           "color": "black",
           "dash": "dash",
           "width": 1
          },
          "name": "Avg Stability",
          "type": "line",
          "x0": 0.8900072428240647,
          "x1": 0.8900072428240647,
          "xref": "x2",
          "y0": -10000,
          "y1": 258944.86274476734,
          "yref": "y2"
         },
         {
          "line": {
           "color": "black",
           "dash": "dash",
           "width": 1
          },
          "name": "Avg Impact",
          "type": "line",
          "x0": 0,
          "x1": 1,
          "xref": "x",
          "y0": 11938.426426042714,
          "y1": 11938.426426042714,
          "yref": "y"
         },
         {
          "line": {
           "color": "black",
           "dash": "dash",
           "width": 1
          },
          "name": "Avg Impact",
          "type": "line",
          "x0": 0,
          "x1": 1,
          "xref": "x2",
          "y0": 9962.066238317151,
          "y1": 9962.066238317151,
          "yref": "y2"
         },
         {
          "line": {
           "color": "black",
           "dash": "dash",
           "width": 1
          },
          "name": "Avg Stability",
          "type": "line",
          "x0": 0.8310425499259829,
          "x1": 0.8310425499259829,
          "xref": "x3",
          "y0": -10000,
          "y1": 280661.6179849578,
          "yref": "y3"
         },
         {
          "line": {
           "color": "black",
           "dash": "dash",
           "width": 1
          },
          "name": "Avg Stability",
          "type": "line",
          "x0": 0.8900072428240647,
          "x1": 0.8900072428240647,
          "xref": "x4",
          "y0": -10000,
          "y1": 280661.6179849578,
          "yref": "y4"
         },
         {
          "line": {
           "color": "black",
           "dash": "dash",
           "width": 1
          },
          "name": "Avg Impact",
          "type": "line",
          "x0": 0,
          "x1": 1,
          "xref": "x3",
          "y0": 12926.606519905494,
          "y1": 12926.606519905494,
          "yref": "y3"
         },
         {
          "line": {
           "color": "black",
           "dash": "dash",
           "width": 1
          },
          "name": "Avg Impact",
          "type": "line",
          "x0": 0,
          "x1": 1,
          "xref": "x4",
          "y0": 8973.886144454369,
          "y1": 8973.886144454369,
          "yref": "y4"
         }
        ],
        "showlegend": true,
        "template": {
         "data": {
          "bar": [
           {
            "error_x": {
             "color": "#2a3f5f"
            },
            "error_y": {
             "color": "#2a3f5f"
            },
            "marker": {
             "line": {
              "color": "#E5ECF6",
              "width": 0.5
             },
             "pattern": {
              "fillmode": "overlay",
              "size": 10,
              "solidity": 0.2
             }
            },
            "type": "bar"
           }
          ],
          "barpolar": [
           {
            "marker": {
             "line": {
              "color": "#E5ECF6",
              "width": 0.5
             },
             "pattern": {
              "fillmode": "overlay",
              "size": 10,
              "solidity": 0.2
             }
            },
            "type": "barpolar"
           }
          ],
          "carpet": [
           {
            "aaxis": {
             "endlinecolor": "#2a3f5f",
             "gridcolor": "white",
             "linecolor": "white",
             "minorgridcolor": "white",
             "startlinecolor": "#2a3f5f"
            },
            "baxis": {
             "endlinecolor": "#2a3f5f",
             "gridcolor": "white",
             "linecolor": "white",
             "minorgridcolor": "white",
             "startlinecolor": "#2a3f5f"
            },
            "type": "carpet"
           }
          ],
          "choropleth": [
           {
            "colorbar": {
             "outlinewidth": 0,
             "ticks": ""
            },
            "type": "choropleth"
           }
          ],
          "contour": [
           {
            "colorbar": {
             "outlinewidth": 0,
             "ticks": ""
            },
            "colorscale": [
             [
              0,
              "#0d0887"
             ],
             [
              0.1111111111111111,
              "#46039f"
             ],
             [
              0.2222222222222222,
              "#7201a8"
             ],
             [
              0.3333333333333333,
              "#9c179e"
             ],
             [
              0.4444444444444444,
              "#bd3786"
             ],
             [
              0.5555555555555556,
              "#d8576b"
             ],
             [
              0.6666666666666666,
              "#ed7953"
             ],
             [
              0.7777777777777778,
              "#fb9f3a"
             ],
             [
              0.8888888888888888,
              "#fdca26"
             ],
             [
              1,
              "#f0f921"
             ]
            ],
            "type": "contour"
           }
          ],
          "contourcarpet": [
           {
            "colorbar": {
             "outlinewidth": 0,
             "ticks": ""
            },
            "type": "contourcarpet"
           }
          ],
          "heatmap": [
           {
            "colorbar": {
             "outlinewidth": 0,
             "ticks": ""
            },
            "colorscale": [
             [
              0,
              "#0d0887"
             ],
             [
              0.1111111111111111,
              "#46039f"
             ],
             [
              0.2222222222222222,
              "#7201a8"
             ],
             [
              0.3333333333333333,
              "#9c179e"
             ],
             [
              0.4444444444444444,
              "#bd3786"
             ],
             [
              0.5555555555555556,
              "#d8576b"
             ],
             [
              0.6666666666666666,
              "#ed7953"
             ],
             [
              0.7777777777777778,
              "#fb9f3a"
             ],
             [
              0.8888888888888888,
              "#fdca26"
             ],
             [
              1,
              "#f0f921"
             ]
            ],
            "type": "heatmap"
           }
          ],
          "heatmapgl": [
           {
            "colorbar": {
             "outlinewidth": 0,
             "ticks": ""
            },
            "colorscale": [
             [
              0,
              "#0d0887"
             ],
             [
              0.1111111111111111,
              "#46039f"
             ],
             [
              0.2222222222222222,
              "#7201a8"
             ],
             [
              0.3333333333333333,
              "#9c179e"
             ],
             [
              0.4444444444444444,
              "#bd3786"
             ],
             [
              0.5555555555555556,
              "#d8576b"
             ],
             [
              0.6666666666666666,
              "#ed7953"
             ],
             [
              0.7777777777777778,
              "#fb9f3a"
             ],
             [
              0.8888888888888888,
              "#fdca26"
             ],
             [
              1,
              "#f0f921"
             ]
            ],
            "type": "heatmapgl"
           }
          ],
          "histogram": [
           {
            "marker": {
             "pattern": {
              "fillmode": "overlay",
              "size": 10,
              "solidity": 0.2
             }
            },
            "type": "histogram"
           }
          ],
          "histogram2d": [
           {
            "colorbar": {
             "outlinewidth": 0,
             "ticks": ""
            },
            "colorscale": [
             [
              0,
              "#0d0887"
             ],
             [
              0.1111111111111111,
              "#46039f"
             ],
             [
              0.2222222222222222,
              "#7201a8"
             ],
             [
              0.3333333333333333,
              "#9c179e"
             ],
             [
              0.4444444444444444,
              "#bd3786"
             ],
             [
              0.5555555555555556,
              "#d8576b"
             ],
             [
              0.6666666666666666,
              "#ed7953"
             ],
             [
              0.7777777777777778,
              "#fb9f3a"
             ],
             [
              0.8888888888888888,
              "#fdca26"
             ],
             [
              1,
              "#f0f921"
             ]
            ],
            "type": "histogram2d"
           }
          ],
          "histogram2dcontour": [
           {
            "colorbar": {
             "outlinewidth": 0,
             "ticks": ""
            },
            "colorscale": [
             [
              0,
              "#0d0887"
             ],
             [
              0.1111111111111111,
              "#46039f"
             ],
             [
              0.2222222222222222,
              "#7201a8"
             ],
             [
              0.3333333333333333,
              "#9c179e"
             ],
             [
              0.4444444444444444,
              "#bd3786"
             ],
             [
              0.5555555555555556,
              "#d8576b"
             ],
             [
              0.6666666666666666,
              "#ed7953"
             ],
             [
              0.7777777777777778,
              "#fb9f3a"
             ],
             [
              0.8888888888888888,
              "#fdca26"
             ],
             [
              1,
              "#f0f921"
             ]
            ],
            "type": "histogram2dcontour"
           }
          ],
          "mesh3d": [
           {
            "colorbar": {
             "outlinewidth": 0,
             "ticks": ""
            },
            "type": "mesh3d"
           }
          ],
          "parcoords": [
           {
            "line": {
             "colorbar": {
              "outlinewidth": 0,
              "ticks": ""
             }
            },
            "type": "parcoords"
           }
          ],
          "pie": [
           {
            "automargin": true,
            "type": "pie"
           }
          ],
          "scatter": [
           {
            "fillpattern": {
             "fillmode": "overlay",
             "size": 10,
             "solidity": 0.2
            },
            "type": "scatter"
           }
          ],
          "scatter3d": [
           {
            "line": {
             "colorbar": {
              "outlinewidth": 0,
              "ticks": ""
             }
            },
            "marker": {
             "colorbar": {
              "outlinewidth": 0,
              "ticks": ""
             }
            },
            "type": "scatter3d"
           }
          ],
          "scattercarpet": [
           {
            "marker": {
             "colorbar": {
              "outlinewidth": 0,
              "ticks": ""
             }
            },
            "type": "scattercarpet"
           }
          ],
          "scattergeo": [
           {
            "marker": {
             "colorbar": {
              "outlinewidth": 0,
              "ticks": ""
             }
            },
            "type": "scattergeo"
           }
          ],
          "scattergl": [
           {
            "marker": {
             "colorbar": {
              "outlinewidth": 0,
              "ticks": ""
             }
            },
            "type": "scattergl"
           }
          ],
          "scattermapbox": [
           {
            "marker": {
             "colorbar": {
              "outlinewidth": 0,
              "ticks": ""
             }
            },
            "type": "scattermapbox"
           }
          ],
          "scatterpolar": [
           {
            "marker": {
             "colorbar": {
              "outlinewidth": 0,
              "ticks": ""
             }
            },
            "type": "scatterpolar"
           }
          ],
          "scatterpolargl": [
           {
            "marker": {
             "colorbar": {
              "outlinewidth": 0,
              "ticks": ""
             }
            },
            "type": "scatterpolargl"
           }
          ],
          "scatterternary": [
           {
            "marker": {
             "colorbar": {
              "outlinewidth": 0,
              "ticks": ""
             }
            },
            "type": "scatterternary"
           }
          ],
          "surface": [
           {
            "colorbar": {
             "outlinewidth": 0,
             "ticks": ""
            },
            "colorscale": [
             [
              0,
              "#0d0887"
             ],
             [
              0.1111111111111111,
              "#46039f"
             ],
             [
              0.2222222222222222,
              "#7201a8"
             ],
             [
              0.3333333333333333,
              "#9c179e"
             ],
             [
              0.4444444444444444,
              "#bd3786"
             ],
             [
              0.5555555555555556,
              "#d8576b"
             ],
             [
              0.6666666666666666,
              "#ed7953"
             ],
             [
              0.7777777777777778,
              "#fb9f3a"
             ],
             [
              0.8888888888888888,
              "#fdca26"
             ],
             [
              1,
              "#f0f921"
             ]
            ],
            "type": "surface"
           }
          ],
          "table": [
           {
            "cells": {
             "fill": {
              "color": "#EBF0F8"
             },
             "line": {
              "color": "white"
             }
            },
            "header": {
             "fill": {
              "color": "#C8D4E3"
             },
             "line": {
              "color": "white"
             }
            },
            "type": "table"
           }
          ]
         },
         "layout": {
          "annotationdefaults": {
           "arrowcolor": "#2a3f5f",
           "arrowhead": 0,
           "arrowwidth": 1
          },
          "autotypenumbers": "strict",
          "coloraxis": {
           "colorbar": {
            "outlinewidth": 0,
            "ticks": ""
           }
          },
          "colorscale": {
           "diverging": [
            [
             0,
             "#8e0152"
            ],
            [
             0.1,
             "#c51b7d"
            ],
            [
             0.2,
             "#de77ae"
            ],
            [
             0.3,
             "#f1b6da"
            ],
            [
             0.4,
             "#fde0ef"
            ],
            [
             0.5,
             "#f7f7f7"
            ],
            [
             0.6,
             "#e6f5d0"
            ],
            [
             0.7,
             "#b8e186"
            ],
            [
             0.8,
             "#7fbc41"
            ],
            [
             0.9,
             "#4d9221"
            ],
            [
             1,
             "#276419"
            ]
           ],
           "sequential": [
            [
             0,
             "#0d0887"
            ],
            [
             0.1111111111111111,
             "#46039f"
            ],
            [
             0.2222222222222222,
             "#7201a8"
            ],
            [
             0.3333333333333333,
             "#9c179e"
            ],
            [
             0.4444444444444444,
             "#bd3786"
            ],
            [
             0.5555555555555556,
             "#d8576b"
            ],
            [
             0.6666666666666666,
             "#ed7953"
            ],
            [
             0.7777777777777778,
             "#fb9f3a"
            ],
            [
             0.8888888888888888,
             "#fdca26"
            ],
            [
             1,
             "#f0f921"
            ]
           ],
           "sequentialminus": [
            [
             0,
             "#0d0887"
            ],
            [
             0.1111111111111111,
             "#46039f"
            ],
            [
             0.2222222222222222,
             "#7201a8"
            ],
            [
             0.3333333333333333,
             "#9c179e"
            ],
            [
             0.4444444444444444,
             "#bd3786"
            ],
            [
             0.5555555555555556,
             "#d8576b"
            ],
            [
             0.6666666666666666,
             "#ed7953"
            ],
            [
             0.7777777777777778,
             "#fb9f3a"
            ],
            [
             0.8888888888888888,
             "#fdca26"
            ],
            [
             1,
             "#f0f921"
            ]
           ]
          },
          "colorway": [
           "#636efa",
           "#EF553B",
           "#00cc96",
           "#ab63fa",
           "#FFA15A",
           "#19d3f3",
           "#FF6692",
           "#B6E880",
           "#FF97FF",
           "#FECB52"
          ],
          "font": {
           "color": "#2a3f5f"
          },
          "geo": {
           "bgcolor": "white",
           "lakecolor": "white",
           "landcolor": "#E5ECF6",
           "showlakes": true,
           "showland": true,
           "subunitcolor": "white"
          },
          "hoverlabel": {
           "align": "left"
          },
          "hovermode": "closest",
          "mapbox": {
           "style": "light"
          },
          "paper_bgcolor": "white",
          "plot_bgcolor": "#E5ECF6",
          "polar": {
           "angularaxis": {
            "gridcolor": "white",
            "linecolor": "white",
            "ticks": ""
           },
           "bgcolor": "#E5ECF6",
           "radialaxis": {
            "gridcolor": "white",
            "linecolor": "white",
            "ticks": ""
           }
          },
          "scene": {
           "xaxis": {
            "backgroundcolor": "#E5ECF6",
            "gridcolor": "white",
            "gridwidth": 2,
            "linecolor": "white",
            "showbackground": true,
            "ticks": "",
            "zerolinecolor": "white"
           },
           "yaxis": {
            "backgroundcolor": "#E5ECF6",
            "gridcolor": "white",
            "gridwidth": 2,
            "linecolor": "white",
            "showbackground": true,
            "ticks": "",
            "zerolinecolor": "white"
           },
           "zaxis": {
            "backgroundcolor": "#E5ECF6",
            "gridcolor": "white",
            "gridwidth": 2,
            "linecolor": "white",
            "showbackground": true,
            "ticks": "",
            "zerolinecolor": "white"
           }
          },
          "shapedefaults": {
           "line": {
            "color": "#2a3f5f"
           }
          },
          "ternary": {
           "aaxis": {
            "gridcolor": "white",
            "linecolor": "white",
            "ticks": ""
           },
           "baxis": {
            "gridcolor": "white",
            "linecolor": "white",
            "ticks": ""
           },
           "bgcolor": "#E5ECF6",
           "caxis": {
            "gridcolor": "white",
            "linecolor": "white",
            "ticks": ""
           }
          },
          "title": {
           "x": 0.05
          },
          "xaxis": {
           "automargin": true,
           "gridcolor": "white",
           "linecolor": "white",
           "ticks": "",
           "title": {
            "standoff": 15
           },
           "zerolinecolor": "white",
           "zerolinewidth": 2
          },
          "yaxis": {
           "automargin": true,
           "gridcolor": "white",
           "linecolor": "white",
           "ticks": "",
           "title": {
            "standoff": 15
           },
           "zerolinecolor": "white",
           "zerolinewidth": 2
          }
         }
        },
        "xaxis": {
         "anchor": "y",
         "domain": [
          0,
          0.45
         ],
         "matches": "x3",
         "showgrid": true,
         "showline": true,
         "showticklabels": false,
         "title": {
          "text": "Stability (TotalNPK +10%)"
         }
        },
        "xaxis2": {
         "anchor": "y2",
         "domain": [
          0.55,
          1
         ],
         "matches": "x4",
         "showgrid": true,
         "showline": true,
         "showticklabels": false,
         "title": {
          "text": "Stability (TotalNPK -10%)"
         }
        },
        "xaxis3": {
         "anchor": "y3",
         "domain": [
          0,
          0.45
         ],
         "showgrid": true,
         "showline": true,
         "title": {
          "text": "Stability (TotalNPK +20%)"
         }
        },
        "xaxis4": {
         "anchor": "y4",
         "domain": [
          0.55,
          1
         ],
         "showgrid": true,
         "showline": true,
         "title": {
          "text": "Stability (TotalNPK -20%)"
         }
        },
        "yaxis": {
         "anchor": "x",
         "domain": [
          0.55,
          1
         ],
         "showgrid": true,
         "showline": true,
         "title": {
          "text": "Percent Change"
         }
        },
        "yaxis2": {
         "anchor": "x2",
         "domain": [
          0.55,
          1
         ],
         "matches": "y",
         "showticklabels": false
        },
        "yaxis3": {
         "anchor": "x3",
         "domain": [
          0,
          0.45
         ],
         "showgrid": true,
         "showline": true,
         "title": {
          "text": "Percent Change"
         }
        },
        "yaxis4": {
         "anchor": "x4",
         "domain": [
          0,
          0.45
         ],
         "matches": "y3",
         "showticklabels": false
        }
       }
      }
     },
     "metadata": {},
     "output_type": "display_data"
    },
    {
     "data": {
      "text/html": [
       "<div>\n",
       "<style scoped>\n",
       "    .dataframe tbody tr th:only-of-type {\n",
       "        vertical-align: middle;\n",
       "    }\n",
       "\n",
       "    .dataframe tbody tr th {\n",
       "        vertical-align: top;\n",
       "    }\n",
       "\n",
       "    .dataframe thead th {\n",
       "        text-align: right;\n",
       "    }\n",
       "</style>\n",
       "<table border=\"1\" class=\"dataframe\">\n",
       "  <thead>\n",
       "    <tr style=\"text-align: right;\">\n",
       "      <th></th>\n",
       "      <th>District</th>\n",
       "      <th>Initial Stability</th>\n",
       "      <th>Rice_Production (TotalNPK +10%)</th>\n",
       "      <th>Rice_Production (TotalNPK -10%)</th>\n",
       "      <th>Normalized Rice_Production (TotalNPK +10%)</th>\n",
       "      <th>Normalized Rice_Production (TotalNPK -10%)</th>\n",
       "      <th>Percent Change in Rice_Production (TotalNPK +10%)</th>\n",
       "      <th>Percent Change in Rice_Production (TotalNPK -10%)</th>\n",
       "      <th>Maize_Production (TotalNPK +10%)</th>\n",
       "      <th>Maize_Production (TotalNPK -10%)</th>\n",
       "      <th>...</th>\n",
       "      <th>Maize_Production (TotalNPK +20%)</th>\n",
       "      <th>Maize_Production (TotalNPK -20%)</th>\n",
       "      <th>Normalized Maize_Production (TotalNPK +20%)</th>\n",
       "      <th>Normalized Maize_Production (TotalNPK -20%)</th>\n",
       "      <th>Percent Change in Maize_Production (TotalNPK +20%)</th>\n",
       "      <th>Percent Change in Maize_Production (TotalNPK -20%)</th>\n",
       "      <th>New Stability(NPK + 10%)_Rice_Maize</th>\n",
       "      <th>New Stability(NPK - 10%)_Rice_Maize</th>\n",
       "      <th>New Stability(NPK + 20%)_Rice_Maize</th>\n",
       "      <th>New Stability(NPK - 20%)_Rice_Maize</th>\n",
       "    </tr>\n",
       "  </thead>\n",
       "  <tbody>\n",
       "    <tr>\n",
       "      <th>0</th>\n",
       "      <td>BENGALURU</td>\n",
       "      <td>0.959409</td>\n",
       "      <td>72943.836709</td>\n",
       "      <td>62797.043096</td>\n",
       "      <td>0.117432</td>\n",
       "      <td>0.099835</td>\n",
       "      <td>2060.658670</td>\n",
       "      <td>1760.101987</td>\n",
       "      <td>64323.742132</td>\n",
       "      <td>51766.072134</td>\n",
       "      <td>...</td>\n",
       "      <td>70602.577131</td>\n",
       "      <td>45487.237135</td>\n",
       "      <td>0.113372</td>\n",
       "      <td>0.069814</td>\n",
       "      <td>2352.329876</td>\n",
       "      <td>1479.966556</td>\n",
       "      <td>0.940864</td>\n",
       "      <td>0.953059</td>\n",
       "      <td>0.934767</td>\n",
       "      <td>0.959157</td>\n",
       "    </tr>\n",
       "    <tr>\n",
       "      <th>1</th>\n",
       "      <td>BENGALURU(R)</td>\n",
       "      <td>0.983965</td>\n",
       "      <td>63245.182265</td>\n",
       "      <td>54861.780369</td>\n",
       "      <td>0.100612</td>\n",
       "      <td>0.086073</td>\n",
       "      <td>2586.711226</td>\n",
       "      <td>2230.576906</td>\n",
       "      <td>52320.689091</td>\n",
       "      <td>41945.392373</td>\n",
       "      <td>...</td>\n",
       "      <td>57508.337450</td>\n",
       "      <td>36757.744014</td>\n",
       "      <td>0.090663</td>\n",
       "      <td>0.054675</td>\n",
       "      <td>35.049990</td>\n",
       "      <td>-13.679769</td>\n",
       "      <td>0.976666</td>\n",
       "      <td>0.982351</td>\n",
       "      <td>0.973823</td>\n",
       "      <td>0.985194</td>\n",
       "    </tr>\n",
       "    <tr>\n",
       "      <th>2</th>\n",
       "      <td>RAMANAGARA</td>\n",
       "      <td>0.868345</td>\n",
       "      <td>35025.473567</td>\n",
       "      <td>31772.927798</td>\n",
       "      <td>0.051671</td>\n",
       "      <td>0.046030</td>\n",
       "      <td>188.798430</td>\n",
       "      <td>161.979946</td>\n",
       "      <td>17395.982550</td>\n",
       "      <td>13370.632476</td>\n",
       "      <td>...</td>\n",
       "      <td>19408.657587</td>\n",
       "      <td>11357.957439</td>\n",
       "      <td>0.024586</td>\n",
       "      <td>0.010624</td>\n",
       "      <td>85.728781</td>\n",
       "      <td>8.688588</td>\n",
       "      <td>0.835654</td>\n",
       "      <td>0.866978</td>\n",
       "      <td>0.819992</td>\n",
       "      <td>0.882640</td>\n",
       "    </tr>\n",
       "    <tr>\n",
       "      <th>3</th>\n",
       "      <td>CHITRADURGA</td>\n",
       "      <td>0.562713</td>\n",
       "      <td>103047.732286</td>\n",
       "      <td>87427.503114</td>\n",
       "      <td>0.169641</td>\n",
       "      <td>0.142551</td>\n",
       "      <td>2156.849152</td>\n",
       "      <td>1814.750397</td>\n",
       "      <td>101580.318025</td>\n",
       "      <td>82248.725137</td>\n",
       "      <td>...</td>\n",
       "      <td>111246.114469</td>\n",
       "      <td>72582.928694</td>\n",
       "      <td>0.183860</td>\n",
       "      <td>0.116806</td>\n",
       "      <td>-59.096934</td>\n",
       "      <td>-73.312647</td>\n",
       "      <td>0.806185</td>\n",
       "      <td>0.842867</td>\n",
       "      <td>0.787844</td>\n",
       "      <td>0.861208</td>\n",
       "    </tr>\n",
       "    <tr>\n",
       "      <th>4</th>\n",
       "      <td>DAVANAGERE</td>\n",
       "      <td>0.072591</td>\n",
       "      <td>255697.993301</td>\n",
       "      <td>212323.171216</td>\n",
       "      <td>0.434382</td>\n",
       "      <td>0.359157</td>\n",
       "      <td>-47.763967</td>\n",
       "      <td>-56.624923</td>\n",
       "      <td>290500.254316</td>\n",
       "      <td>236819.582103</td>\n",
       "      <td>...</td>\n",
       "      <td>317340.590423</td>\n",
       "      <td>209979.245996</td>\n",
       "      <td>0.541288</td>\n",
       "      <td>0.355092</td>\n",
       "      <td>-46.534614</td>\n",
       "      <td>-64.622800</td>\n",
       "      <td>0.727833</td>\n",
       "      <td>0.778761</td>\n",
       "      <td>0.702369</td>\n",
       "      <td>0.804225</td>\n",
       "    </tr>\n",
       "  </tbody>\n",
       "</table>\n",
       "<p>5 rows × 30 columns</p>\n",
       "</div>"
      ],
      "text/plain": [
       "       District  Initial Stability  Rice_Production (TotalNPK +10%)  \\\n",
       "0     BENGALURU           0.959409                     72943.836709   \n",
       "1  BENGALURU(R)           0.983965                     63245.182265   \n",
       "2    RAMANAGARA           0.868345                     35025.473567   \n",
       "3   CHITRADURGA           0.562713                    103047.732286   \n",
       "4    DAVANAGERE           0.072591                    255697.993301   \n",
       "\n",
       "   Rice_Production (TotalNPK -10%)  \\\n",
       "0                     62797.043096   \n",
       "1                     54861.780369   \n",
       "2                     31772.927798   \n",
       "3                     87427.503114   \n",
       "4                    212323.171216   \n",
       "\n",
       "   Normalized Rice_Production (TotalNPK +10%)  \\\n",
       "0                                    0.117432   \n",
       "1                                    0.100612   \n",
       "2                                    0.051671   \n",
       "3                                    0.169641   \n",
       "4                                    0.434382   \n",
       "\n",
       "   Normalized Rice_Production (TotalNPK -10%)  \\\n",
       "0                                    0.099835   \n",
       "1                                    0.086073   \n",
       "2                                    0.046030   \n",
       "3                                    0.142551   \n",
       "4                                    0.359157   \n",
       "\n",
       "   Percent Change in Rice_Production (TotalNPK +10%)  \\\n",
       "0                                        2060.658670   \n",
       "1                                        2586.711226   \n",
       "2                                         188.798430   \n",
       "3                                        2156.849152   \n",
       "4                                         -47.763967   \n",
       "\n",
       "   Percent Change in Rice_Production (TotalNPK -10%)  \\\n",
       "0                                        1760.101987   \n",
       "1                                        2230.576906   \n",
       "2                                         161.979946   \n",
       "3                                        1814.750397   \n",
       "4                                         -56.624923   \n",
       "\n",
       "   Maize_Production (TotalNPK +10%)  Maize_Production (TotalNPK -10%)  ...  \\\n",
       "0                      64323.742132                      51766.072134  ...   \n",
       "1                      52320.689091                      41945.392373  ...   \n",
       "2                      17395.982550                      13370.632476  ...   \n",
       "3                     101580.318025                      82248.725137  ...   \n",
       "4                     290500.254316                     236819.582103  ...   \n",
       "\n",
       "   Maize_Production (TotalNPK +20%)  Maize_Production (TotalNPK -20%)  \\\n",
       "0                      70602.577131                      45487.237135   \n",
       "1                      57508.337450                      36757.744014   \n",
       "2                      19408.657587                      11357.957439   \n",
       "3                     111246.114469                      72582.928694   \n",
       "4                     317340.590423                     209979.245996   \n",
       "\n",
       "   Normalized Maize_Production (TotalNPK +20%)  \\\n",
       "0                                     0.113372   \n",
       "1                                     0.090663   \n",
       "2                                     0.024586   \n",
       "3                                     0.183860   \n",
       "4                                     0.541288   \n",
       "\n",
       "   Normalized Maize_Production (TotalNPK -20%)  \\\n",
       "0                                     0.069814   \n",
       "1                                     0.054675   \n",
       "2                                     0.010624   \n",
       "3                                     0.116806   \n",
       "4                                     0.355092   \n",
       "\n",
       "   Percent Change in Maize_Production (TotalNPK +20%)  \\\n",
       "0                                        2352.329876    \n",
       "1                                          35.049990    \n",
       "2                                          85.728781    \n",
       "3                                         -59.096934    \n",
       "4                                         -46.534614    \n",
       "\n",
       "   Percent Change in Maize_Production (TotalNPK -20%)  \\\n",
       "0                                        1479.966556    \n",
       "1                                         -13.679769    \n",
       "2                                           8.688588    \n",
       "3                                         -73.312647    \n",
       "4                                         -64.622800    \n",
       "\n",
       "   New Stability(NPK + 10%)_Rice_Maize  New Stability(NPK - 10%)_Rice_Maize  \\\n",
       "0                             0.940864                             0.953059   \n",
       "1                             0.976666                             0.982351   \n",
       "2                             0.835654                             0.866978   \n",
       "3                             0.806185                             0.842867   \n",
       "4                             0.727833                             0.778761   \n",
       "\n",
       "   New Stability(NPK + 20%)_Rice_Maize  New Stability(NPK - 20%)_Rice_Maize  \n",
       "0                             0.934767                             0.959157  \n",
       "1                             0.973823                             0.985194  \n",
       "2                             0.819992                             0.882640  \n",
       "3                             0.787844                             0.861208  \n",
       "4                             0.702369                             0.804225  \n",
       "\n",
       "[5 rows x 30 columns]"
      ]
     },
     "execution_count": 55,
     "metadata": {},
     "output_type": "execute_result"
    }
   ],
   "source": [
    "base_column = \"TotalNPK\"\n",
    "capability_vector = [\"Rice_Production\", \"Maize_Production\"]\n",
    "# change_percentage = 20\n",
    "change_percentages = [10,20]\n",
    "dim = len(capability_vector)\n",
    "\n",
    "new_data_1,result_df,res1_df = calc_and_vis_impact_stability_2D1(G, existing_data.copy(), adjacency_file, base_column, capability_vector, change_percentages, dim)\n",
    "new_data_1.head()"
   ]
  },
  {
   "cell_type": "code",
   "execution_count": 56,
   "metadata": {},
   "outputs": [
    {
     "data": {
      "text/html": [
       "<div>\n",
       "<style scoped>\n",
       "    .dataframe tbody tr th:only-of-type {\n",
       "        vertical-align: middle;\n",
       "    }\n",
       "\n",
       "    .dataframe tbody tr th {\n",
       "        vertical-align: top;\n",
       "    }\n",
       "\n",
       "    .dataframe thead th {\n",
       "        text-align: right;\n",
       "    }\n",
       "</style>\n",
       "<table border=\"1\" class=\"dataframe\">\n",
       "  <thead>\n",
       "    <tr style=\"text-align: right;\">\n",
       "      <th></th>\n",
       "      <th>District</th>\n",
       "      <th>Initial Stability</th>\n",
       "      <th>Rice_Production (TotalNPK +10%)</th>\n",
       "      <th>Rice_Production (TotalNPK -10%)</th>\n",
       "      <th>Normalized Rice_Production (TotalNPK +10%)</th>\n",
       "      <th>Normalized Rice_Production (TotalNPK -10%)</th>\n",
       "      <th>Percent Change in Rice_Production (TotalNPK +10%)</th>\n",
       "      <th>Percent Change in Rice_Production (TotalNPK -10%)</th>\n",
       "      <th>Maize_Production (TotalNPK +10%)</th>\n",
       "      <th>Maize_Production (TotalNPK -10%)</th>\n",
       "      <th>...</th>\n",
       "      <th>Maize_Production (TotalNPK +20%)</th>\n",
       "      <th>Maize_Production (TotalNPK -20%)</th>\n",
       "      <th>Normalized Maize_Production (TotalNPK +20%)</th>\n",
       "      <th>Normalized Maize_Production (TotalNPK -20%)</th>\n",
       "      <th>Percent Change in Maize_Production (TotalNPK +20%)</th>\n",
       "      <th>Percent Change in Maize_Production (TotalNPK -20%)</th>\n",
       "      <th>New Stability(NPK + 10%)_Rice_Maize</th>\n",
       "      <th>New Stability(NPK - 10%)_Rice_Maize</th>\n",
       "      <th>New Stability(NPK + 20%)_Rice_Maize</th>\n",
       "      <th>New Stability(NPK - 20%)_Rice_Maize</th>\n",
       "    </tr>\n",
       "  </thead>\n",
       "  <tbody>\n",
       "    <tr>\n",
       "      <th>0</th>\n",
       "      <td>BENGALURU</td>\n",
       "      <td>0.959409</td>\n",
       "      <td>72943.836709</td>\n",
       "      <td>62797.043096</td>\n",
       "      <td>0.117432</td>\n",
       "      <td>0.099835</td>\n",
       "      <td>2060.658670</td>\n",
       "      <td>1760.101987</td>\n",
       "      <td>64323.742132</td>\n",
       "      <td>51766.072134</td>\n",
       "      <td>...</td>\n",
       "      <td>70602.577131</td>\n",
       "      <td>45487.237135</td>\n",
       "      <td>0.113372</td>\n",
       "      <td>0.069814</td>\n",
       "      <td>2352.329876</td>\n",
       "      <td>1479.966556</td>\n",
       "      <td>0.940864</td>\n",
       "      <td>0.953059</td>\n",
       "      <td>0.934767</td>\n",
       "      <td>0.959157</td>\n",
       "    </tr>\n",
       "    <tr>\n",
       "      <th>1</th>\n",
       "      <td>BENGALURU(R)</td>\n",
       "      <td>0.983965</td>\n",
       "      <td>63245.182265</td>\n",
       "      <td>54861.780369</td>\n",
       "      <td>0.100612</td>\n",
       "      <td>0.086073</td>\n",
       "      <td>2586.711226</td>\n",
       "      <td>2230.576906</td>\n",
       "      <td>52320.689091</td>\n",
       "      <td>41945.392373</td>\n",
       "      <td>...</td>\n",
       "      <td>57508.337450</td>\n",
       "      <td>36757.744014</td>\n",
       "      <td>0.090663</td>\n",
       "      <td>0.054675</td>\n",
       "      <td>35.049990</td>\n",
       "      <td>-13.679769</td>\n",
       "      <td>0.976666</td>\n",
       "      <td>0.982351</td>\n",
       "      <td>0.973823</td>\n",
       "      <td>0.985194</td>\n",
       "    </tr>\n",
       "    <tr>\n",
       "      <th>2</th>\n",
       "      <td>RAMANAGARA</td>\n",
       "      <td>0.868345</td>\n",
       "      <td>35025.473567</td>\n",
       "      <td>31772.927798</td>\n",
       "      <td>0.051671</td>\n",
       "      <td>0.046030</td>\n",
       "      <td>188.798430</td>\n",
       "      <td>161.979946</td>\n",
       "      <td>17395.982550</td>\n",
       "      <td>13370.632476</td>\n",
       "      <td>...</td>\n",
       "      <td>19408.657587</td>\n",
       "      <td>11357.957439</td>\n",
       "      <td>0.024586</td>\n",
       "      <td>0.010624</td>\n",
       "      <td>85.728781</td>\n",
       "      <td>8.688588</td>\n",
       "      <td>0.835654</td>\n",
       "      <td>0.866978</td>\n",
       "      <td>0.819992</td>\n",
       "      <td>0.882640</td>\n",
       "    </tr>\n",
       "    <tr>\n",
       "      <th>3</th>\n",
       "      <td>CHITRADURGA</td>\n",
       "      <td>0.562713</td>\n",
       "      <td>103047.732286</td>\n",
       "      <td>87427.503114</td>\n",
       "      <td>0.169641</td>\n",
       "      <td>0.142551</td>\n",
       "      <td>2156.849152</td>\n",
       "      <td>1814.750397</td>\n",
       "      <td>101580.318025</td>\n",
       "      <td>82248.725137</td>\n",
       "      <td>...</td>\n",
       "      <td>111246.114469</td>\n",
       "      <td>72582.928694</td>\n",
       "      <td>0.183860</td>\n",
       "      <td>0.116806</td>\n",
       "      <td>-59.096934</td>\n",
       "      <td>-73.312647</td>\n",
       "      <td>0.806185</td>\n",
       "      <td>0.842867</td>\n",
       "      <td>0.787844</td>\n",
       "      <td>0.861208</td>\n",
       "    </tr>\n",
       "    <tr>\n",
       "      <th>4</th>\n",
       "      <td>DAVANAGERE</td>\n",
       "      <td>0.072591</td>\n",
       "      <td>255697.993301</td>\n",
       "      <td>212323.171216</td>\n",
       "      <td>0.434382</td>\n",
       "      <td>0.359157</td>\n",
       "      <td>-47.763967</td>\n",
       "      <td>-56.624923</td>\n",
       "      <td>290500.254316</td>\n",
       "      <td>236819.582103</td>\n",
       "      <td>...</td>\n",
       "      <td>317340.590423</td>\n",
       "      <td>209979.245996</td>\n",
       "      <td>0.541288</td>\n",
       "      <td>0.355092</td>\n",
       "      <td>-46.534614</td>\n",
       "      <td>-64.622800</td>\n",
       "      <td>0.727833</td>\n",
       "      <td>0.778761</td>\n",
       "      <td>0.702369</td>\n",
       "      <td>0.804225</td>\n",
       "    </tr>\n",
       "    <tr>\n",
       "      <th>5</th>\n",
       "      <td>KOLAR</td>\n",
       "      <td>0.878180</td>\n",
       "      <td>70262.401761</td>\n",
       "      <td>60603.141775</td>\n",
       "      <td>0.112782</td>\n",
       "      <td>0.096030</td>\n",
       "      <td>8032.222426</td>\n",
       "      <td>6914.252520</td>\n",
       "      <td>61005.198709</td>\n",
       "      <td>49050.900243</td>\n",
       "      <td>...</td>\n",
       "      <td>66982.347943</td>\n",
       "      <td>43073.751009</td>\n",
       "      <td>0.107093</td>\n",
       "      <td>0.065629</td>\n",
       "      <td>3707.978848</td>\n",
       "      <td>2348.763559</td>\n",
       "      <td>0.997024</td>\n",
       "      <td>0.999008</td>\n",
       "      <td>0.996032</td>\n",
       "      <td>1.000000</td>\n",
       "    </tr>\n",
       "    <tr>\n",
       "      <th>6</th>\n",
       "      <td>CHIKKABALLAPURA</td>\n",
       "      <td>0.883837</td>\n",
       "      <td>85027.052947</td>\n",
       "      <td>72683.310927</td>\n",
       "      <td>0.138388</td>\n",
       "      <td>0.116980</td>\n",
       "      <td>3051.484542</td>\n",
       "      <td>2593.970012</td>\n",
       "      <td>79277.928432</td>\n",
       "      <td>64001.315470</td>\n",
       "      <td>...</td>\n",
       "      <td>86916.234913</td>\n",
       "      <td>56363.008989</td>\n",
       "      <td>0.141664</td>\n",
       "      <td>0.088676</td>\n",
       "      <td>-17.607915</td>\n",
       "      <td>-46.570789</td>\n",
       "      <td>0.995630</td>\n",
       "      <td>0.997867</td>\n",
       "      <td>0.994511</td>\n",
       "      <td>0.998986</td>\n",
       "    </tr>\n",
       "    <tr>\n",
       "      <th>7</th>\n",
       "      <td>SHIVAMOGGA</td>\n",
       "      <td>0.630729</td>\n",
       "      <td>152666.249531</td>\n",
       "      <td>128024.471769</td>\n",
       "      <td>0.255694</td>\n",
       "      <td>0.212958</td>\n",
       "      <td>-60.343751</td>\n",
       "      <td>-66.744645</td>\n",
       "      <td>162988.186275</td>\n",
       "      <td>132491.526433</td>\n",
       "      <td>...</td>\n",
       "      <td>178236.516196</td>\n",
       "      <td>117243.196512</td>\n",
       "      <td>0.300041</td>\n",
       "      <td>0.194260</td>\n",
       "      <td>-21.319497</td>\n",
       "      <td>-48.244311</td>\n",
       "      <td>0.968719</td>\n",
       "      <td>0.975850</td>\n",
       "      <td>0.965154</td>\n",
       "      <td>0.979415</td>\n",
       "    </tr>\n",
       "    <tr>\n",
       "      <th>8</th>\n",
       "      <td>TUMAKURU</td>\n",
       "      <td>0.865884</td>\n",
       "      <td>108468.061504</td>\n",
       "      <td>91862.317929</td>\n",
       "      <td>0.179042</td>\n",
       "      <td>0.150242</td>\n",
       "      <td>316.512025</td>\n",
       "      <td>252.746786</td>\n",
       "      <td>108288.516516</td>\n",
       "      <td>87737.251175</td>\n",
       "      <td>...</td>\n",
       "      <td>118564.149186</td>\n",
       "      <td>77461.618505</td>\n",
       "      <td>0.196551</td>\n",
       "      <td>0.125267</td>\n",
       "      <td>77.310745</td>\n",
       "      <td>15.842583</td>\n",
       "      <td>0.987907</td>\n",
       "      <td>0.991549</td>\n",
       "      <td>0.986086</td>\n",
       "      <td>0.993370</td>\n",
       "    </tr>\n",
       "    <tr>\n",
       "      <th>9</th>\n",
       "      <td>CHIKKAMAGALURU</td>\n",
       "      <td>0.698987</td>\n",
       "      <td>179609.882490</td>\n",
       "      <td>150069.262371</td>\n",
       "      <td>0.302423</td>\n",
       "      <td>0.251191</td>\n",
       "      <td>62.494352</td>\n",
       "      <td>35.768741</td>\n",
       "      <td>196333.621705</td>\n",
       "      <td>159774.155421</td>\n",
       "      <td>...</td>\n",
       "      <td>214613.354847</td>\n",
       "      <td>141494.422279</td>\n",
       "      <td>0.363129</td>\n",
       "      <td>0.236319</td>\n",
       "      <td>249.800914</td>\n",
       "      <td>130.623478</td>\n",
       "      <td>0.861877</td>\n",
       "      <td>0.888433</td>\n",
       "      <td>0.848599</td>\n",
       "      <td>0.901712</td>\n",
       "    </tr>\n",
       "    <tr>\n",
       "      <th>10</th>\n",
       "      <td>DAKSHINA KANNADA</td>\n",
       "      <td>0.823945</td>\n",
       "      <td>61638.715434</td>\n",
       "      <td>53547.398417</td>\n",
       "      <td>0.097826</td>\n",
       "      <td>0.083793</td>\n",
       "      <td>-53.511090</td>\n",
       "      <td>-59.613692</td>\n",
       "      <td>50332.526023</td>\n",
       "      <td>40318.713499</td>\n",
       "      <td>...</td>\n",
       "      <td>55339.432284</td>\n",
       "      <td>35311.807237</td>\n",
       "      <td>0.086901</td>\n",
       "      <td>0.052167</td>\n",
       "      <td>NaN</td>\n",
       "      <td>NaN</td>\n",
       "      <td>0.824082</td>\n",
       "      <td>0.857510</td>\n",
       "      <td>0.807368</td>\n",
       "      <td>0.874224</td>\n",
       "    </tr>\n",
       "    <tr>\n",
       "      <th>11</th>\n",
       "      <td>UDUPI</td>\n",
       "      <td>0.824844</td>\n",
       "      <td>31855.634396</td>\n",
       "      <td>29179.423021</td>\n",
       "      <td>0.046173</td>\n",
       "      <td>0.041532</td>\n",
       "      <td>-76.942272</td>\n",
       "      <td>-78.879366</td>\n",
       "      <td>13472.990146</td>\n",
       "      <td>10160.911418</td>\n",
       "      <td>...</td>\n",
       "      <td>15129.029510</td>\n",
       "      <td>8504.872054</td>\n",
       "      <td>0.017164</td>\n",
       "      <td>0.005676</td>\n",
       "      <td>13779.843587</td>\n",
       "      <td>7702.634912</td>\n",
       "      <td>0.782355</td>\n",
       "      <td>0.823370</td>\n",
       "      <td>0.761847</td>\n",
       "      <td>0.843877</td>\n",
       "    </tr>\n",
       "    <tr>\n",
       "      <th>12</th>\n",
       "      <td>HASSAN</td>\n",
       "      <td>0.521318</td>\n",
       "      <td>180969.753071</td>\n",
       "      <td>151181.883756</td>\n",
       "      <td>0.304781</td>\n",
       "      <td>0.253120</td>\n",
       "      <td>25.931424</td>\n",
       "      <td>5.202939</td>\n",
       "      <td>198016.597298</td>\n",
       "      <td>161151.135452</td>\n",
       "      <td>...</td>\n",
       "      <td>216449.328222</td>\n",
       "      <td>142718.404529</td>\n",
       "      <td>0.366313</td>\n",
       "      <td>0.238442</td>\n",
       "      <td>-35.182586</td>\n",
       "      <td>-57.261877</td>\n",
       "      <td>0.870269</td>\n",
       "      <td>0.895300</td>\n",
       "      <td>0.857754</td>\n",
       "      <td>0.907815</td>\n",
       "    </tr>\n",
       "    <tr>\n",
       "      <th>13</th>\n",
       "      <td>KODAGU</td>\n",
       "      <td>0.656123</td>\n",
       "      <td>115169.254738</td>\n",
       "      <td>97345.112393</td>\n",
       "      <td>0.190664</td>\n",
       "      <td>0.159751</td>\n",
       "      <td>33.447568</td>\n",
       "      <td>12.794587</td>\n",
       "      <td>116581.912088</td>\n",
       "      <td>94522.756643</td>\n",
       "      <td>...</td>\n",
       "      <td>127611.489810</td>\n",
       "      <td>83493.178921</td>\n",
       "      <td>0.212242</td>\n",
       "      <td>0.135728</td>\n",
       "      <td>612.077952</td>\n",
       "      <td>365.895759</td>\n",
       "      <td>0.949051</td>\n",
       "      <td>0.959758</td>\n",
       "      <td>0.943698</td>\n",
       "      <td>0.965111</td>\n",
       "    </tr>\n",
       "    <tr>\n",
       "      <th>14</th>\n",
       "      <td>MANDYA</td>\n",
       "      <td>0.667293</td>\n",
       "      <td>162120.701864</td>\n",
       "      <td>135759.932768</td>\n",
       "      <td>0.272091</td>\n",
       "      <td>0.226374</td>\n",
       "      <td>-34.242423</td>\n",
       "      <td>-44.934582</td>\n",
       "      <td>174689.014826</td>\n",
       "      <td>142064.931611</td>\n",
       "      <td>...</td>\n",
       "      <td>191001.056434</td>\n",
       "      <td>125752.890004</td>\n",
       "      <td>0.322178</td>\n",
       "      <td>0.209019</td>\n",
       "      <td>885.201715</td>\n",
       "      <td>548.645433</td>\n",
       "      <td>0.869102</td>\n",
       "      <td>0.894344</td>\n",
       "      <td>0.856480</td>\n",
       "      <td>0.906966</td>\n",
       "    </tr>\n",
       "    <tr>\n",
       "      <th>15</th>\n",
       "      <td>MYSURU</td>\n",
       "      <td>0.545545</td>\n",
       "      <td>165606.567297</td>\n",
       "      <td>138612.004487</td>\n",
       "      <td>0.278137</td>\n",
       "      <td>0.231320</td>\n",
       "      <td>-53.248463</td>\n",
       "      <td>-60.869159</td>\n",
       "      <td>179003.121276</td>\n",
       "      <td>145594.655070</td>\n",
       "      <td>...</td>\n",
       "      <td>195707.354379</td>\n",
       "      <td>128890.421967</td>\n",
       "      <td>0.330340</td>\n",
       "      <td>0.214460</td>\n",
       "      <td>42.691686</td>\n",
       "      <td>-6.025036</td>\n",
       "      <td>0.916349</td>\n",
       "      <td>0.933001</td>\n",
       "      <td>0.908023</td>\n",
       "      <td>0.941328</td>\n",
       "    </tr>\n",
       "    <tr>\n",
       "      <th>16</th>\n",
       "      <td>CHAMARAJANAGAR</td>\n",
       "      <td>0.642589</td>\n",
       "      <td>74124.146915</td>\n",
       "      <td>63762.751446</td>\n",
       "      <td>0.119479</td>\n",
       "      <td>0.101510</td>\n",
       "      <td>61.645470</td>\n",
       "      <td>39.049964</td>\n",
       "      <td>65784.493836</td>\n",
       "      <td>52961.232619</td>\n",
       "      <td>...</td>\n",
       "      <td>72196.124444</td>\n",
       "      <td>46549.602010</td>\n",
       "      <td>0.116135</td>\n",
       "      <td>0.071657</td>\n",
       "      <td>-51.181231</td>\n",
       "      <td>-68.523321</td>\n",
       "      <td>0.876112</td>\n",
       "      <td>0.900080</td>\n",
       "      <td>0.864128</td>\n",
       "      <td>0.912064</td>\n",
       "    </tr>\n",
       "    <tr>\n",
       "      <th>17</th>\n",
       "      <td>BELAGAVI</td>\n",
       "      <td>0.221901</td>\n",
       "      <td>448062.221217</td>\n",
       "      <td>369712.084966</td>\n",
       "      <td>0.767998</td>\n",
       "      <td>0.632116</td>\n",
       "      <td>152.355491</td>\n",
       "      <td>108.227497</td>\n",
       "      <td>528570.189089</td>\n",
       "      <td>431604.074190</td>\n",
       "      <td>...</td>\n",
       "      <td>577053.246538</td>\n",
       "      <td>383121.016740</td>\n",
       "      <td>0.991707</td>\n",
       "      <td>0.655371</td>\n",
       "      <td>0.051191</td>\n",
       "      <td>-33.573350</td>\n",
       "      <td>0.083995</td>\n",
       "      <td>0.251984</td>\n",
       "      <td>0.000000</td>\n",
       "      <td>0.335979</td>\n",
       "    </tr>\n",
       "    <tr>\n",
       "      <th>18</th>\n",
       "      <td>VIJAYAPURA</td>\n",
       "      <td>0.621265</td>\n",
       "      <td>146965.806127</td>\n",
       "      <td>123360.472619</td>\n",
       "      <td>0.245808</td>\n",
       "      <td>0.204870</td>\n",
       "      <td>86350.474192</td>\n",
       "      <td>72464.983893</td>\n",
       "      <td>155933.318516</td>\n",
       "      <td>126719.361903</td>\n",
       "      <td>...</td>\n",
       "      <td>170540.296823</td>\n",
       "      <td>112112.383596</td>\n",
       "      <td>0.286693</td>\n",
       "      <td>0.185362</td>\n",
       "      <td>-24.648718</td>\n",
       "      <td>-50.464424</td>\n",
       "      <td>0.662223</td>\n",
       "      <td>0.725080</td>\n",
       "      <td>0.630794</td>\n",
       "      <td>0.756508</td>\n",
       "    </tr>\n",
       "    <tr>\n",
       "      <th>19</th>\n",
       "      <td>BAGALKOT</td>\n",
       "      <td>0.623647</td>\n",
       "      <td>220188.133336</td>\n",
       "      <td>183269.649427</td>\n",
       "      <td>0.372797</td>\n",
       "      <td>0.308770</td>\n",
       "      <td>258944.862745</td>\n",
       "      <td>215511.352264</td>\n",
       "      <td>246553.257844</td>\n",
       "      <td>200862.948626</td>\n",
       "      <td>...</td>\n",
       "      <td>269398.412453</td>\n",
       "      <td>178017.794016</td>\n",
       "      <td>0.458143</td>\n",
       "      <td>0.299662</td>\n",
       "      <td>7.031976</td>\n",
       "      <td>-29.273539</td>\n",
       "      <td>0.975256</td>\n",
       "      <td>0.981198</td>\n",
       "      <td>0.972285</td>\n",
       "      <td>0.984169</td>\n",
       "    </tr>\n",
       "    <tr>\n",
       "      <th>20</th>\n",
       "      <td>DHARAWAD</td>\n",
       "      <td>0.627951</td>\n",
       "      <td>106631.757392</td>\n",
       "      <td>90359.887291</td>\n",
       "      <td>0.175857</td>\n",
       "      <td>0.147637</td>\n",
       "      <td>213.724315</td>\n",
       "      <td>165.850385</td>\n",
       "      <td>106015.906868</td>\n",
       "      <td>85877.843282</td>\n",
       "      <td>...</td>\n",
       "      <td>116084.938661</td>\n",
       "      <td>75808.811488</td>\n",
       "      <td>0.192252</td>\n",
       "      <td>0.122401</td>\n",
       "      <td>28.081006</td>\n",
       "      <td>-16.357204</td>\n",
       "      <td>0.781881</td>\n",
       "      <td>0.822982</td>\n",
       "      <td>0.761330</td>\n",
       "      <td>0.843532</td>\n",
       "    </tr>\n",
       "    <tr>\n",
       "      <th>21</th>\n",
       "      <td>GADAG</td>\n",
       "      <td>0.670863</td>\n",
       "      <td>72872.012559</td>\n",
       "      <td>62738.277882</td>\n",
       "      <td>0.117308</td>\n",
       "      <td>0.099733</td>\n",
       "      <td>904.023320</td>\n",
       "      <td>764.401734</td>\n",
       "      <td>64234.852576</td>\n",
       "      <td>51693.344316</td>\n",
       "      <td>...</td>\n",
       "      <td>70505.606707</td>\n",
       "      <td>45422.590185</td>\n",
       "      <td>0.113204</td>\n",
       "      <td>0.069702</td>\n",
       "      <td>-49.084602</td>\n",
       "      <td>-67.198222</td>\n",
       "      <td>0.621461</td>\n",
       "      <td>0.691729</td>\n",
       "      <td>0.586327</td>\n",
       "      <td>0.726863</td>\n",
       "    </tr>\n",
       "    <tr>\n",
       "      <th>22</th>\n",
       "      <td>HAVERI</td>\n",
       "      <td>0.574149</td>\n",
       "      <td>172757.858540</td>\n",
       "      <td>144463.060958</td>\n",
       "      <td>0.290539</td>\n",
       "      <td>0.241468</td>\n",
       "      <td>37.741272</td>\n",
       "      <td>15.181596</td>\n",
       "      <td>187853.558066</td>\n",
       "      <td>152835.921534</td>\n",
       "      <td>...</td>\n",
       "      <td>205362.376331</td>\n",
       "      <td>135327.103269</td>\n",
       "      <td>0.347085</td>\n",
       "      <td>0.225623</td>\n",
       "      <td>-50.334019</td>\n",
       "      <td>-67.271739</td>\n",
       "      <td>0.912116</td>\n",
       "      <td>0.929538</td>\n",
       "      <td>0.903405</td>\n",
       "      <td>0.938249</td>\n",
       "    </tr>\n",
       "    <tr>\n",
       "      <th>23</th>\n",
       "      <td>UTTARA KANNADA</td>\n",
       "      <td>0.598137</td>\n",
       "      <td>53805.094762</td>\n",
       "      <td>47138.072412</td>\n",
       "      <td>0.084240</td>\n",
       "      <td>0.072677</td>\n",
       "      <td>-64.828904</td>\n",
       "      <td>-69.186976</td>\n",
       "      <td>40637.638451</td>\n",
       "      <td>32386.532759</td>\n",
       "      <td>...</td>\n",
       "      <td>44763.191297</td>\n",
       "      <td>28260.979913</td>\n",
       "      <td>0.068559</td>\n",
       "      <td>0.039939</td>\n",
       "      <td>85.831913</td>\n",
       "      <td>17.323895</td>\n",
       "      <td>0.645679</td>\n",
       "      <td>0.711544</td>\n",
       "      <td>0.612747</td>\n",
       "      <td>0.744477</td>\n",
       "    </tr>\n",
       "    <tr>\n",
       "      <th>24</th>\n",
       "      <td>BALLARI</td>\n",
       "      <td>0.760320</td>\n",
       "      <td>164771.013014</td>\n",
       "      <td>137928.369164</td>\n",
       "      <td>0.276688</td>\n",
       "      <td>0.230135</td>\n",
       "      <td>-20.059087</td>\n",
       "      <td>-33.082163</td>\n",
       "      <td>177969.039442</td>\n",
       "      <td>144748.588115</td>\n",
       "      <td>...</td>\n",
       "      <td>194579.265105</td>\n",
       "      <td>128138.362451</td>\n",
       "      <td>0.328384</td>\n",
       "      <td>0.213156</td>\n",
       "      <td>87.014527</td>\n",
       "      <td>23.156675</td>\n",
       "      <td>0.964959</td>\n",
       "      <td>0.972773</td>\n",
       "      <td>0.961052</td>\n",
       "      <td>0.976680</td>\n",
       "    </tr>\n",
       "    <tr>\n",
       "      <th>25</th>\n",
       "      <td>BIDAR</td>\n",
       "      <td>0.976793</td>\n",
       "      <td>76171.135201</td>\n",
       "      <td>65437.560044</td>\n",
       "      <td>0.123029</td>\n",
       "      <td>0.104414</td>\n",
       "      <td>3641.214892</td>\n",
       "      <td>3114.025542</td>\n",
       "      <td>68317.846181</td>\n",
       "      <td>55033.975447</td>\n",
       "      <td>...</td>\n",
       "      <td>74959.781548</td>\n",
       "      <td>48392.040079</td>\n",
       "      <td>0.120928</td>\n",
       "      <td>0.074852</td>\n",
       "      <td>2585.767881</td>\n",
       "      <td>1633.860268</td>\n",
       "      <td>0.810041</td>\n",
       "      <td>0.846022</td>\n",
       "      <td>0.792051</td>\n",
       "      <td>0.864013</td>\n",
       "    </tr>\n",
       "    <tr>\n",
       "      <th>26</th>\n",
       "      <td>KALABURAGI</td>\n",
       "      <td>0.826587</td>\n",
       "      <td>146417.548445</td>\n",
       "      <td>122911.898153</td>\n",
       "      <td>0.244857</td>\n",
       "      <td>0.204092</td>\n",
       "      <td>1756.206243</td>\n",
       "      <td>1458.213719</td>\n",
       "      <td>155254.794906</td>\n",
       "      <td>126164.206222</td>\n",
       "      <td>...</td>\n",
       "      <td>169800.089248</td>\n",
       "      <td>111618.911880</td>\n",
       "      <td>0.285410</td>\n",
       "      <td>0.184506</td>\n",
       "      <td>1061.343884</td>\n",
       "      <td>663.415032</td>\n",
       "      <td>0.989326</td>\n",
       "      <td>0.992710</td>\n",
       "      <td>0.987634</td>\n",
       "      <td>0.994402</td>\n",
       "    </tr>\n",
       "    <tr>\n",
       "      <th>27</th>\n",
       "      <td>YADGIRI</td>\n",
       "      <td>0.823837</td>\n",
       "      <td>235934.381245</td>\n",
       "      <td>196152.943171</td>\n",
       "      <td>0.400106</td>\n",
       "      <td>0.331113</td>\n",
       "      <td>5.018887</td>\n",
       "      <td>-12.688589</td>\n",
       "      <td>266040.811498</td>\n",
       "      <td>216807.310706</td>\n",
       "      <td>...</td>\n",
       "      <td>290657.561894</td>\n",
       "      <td>192190.560310</td>\n",
       "      <td>0.495012</td>\n",
       "      <td>0.324241</td>\n",
       "      <td>10773.833217</td>\n",
       "      <td>7090.069596</td>\n",
       "      <td>0.898437</td>\n",
       "      <td>0.918346</td>\n",
       "      <td>0.888483</td>\n",
       "      <td>0.928301</td>\n",
       "    </tr>\n",
       "    <tr>\n",
       "      <th>28</th>\n",
       "      <td>RAICHUR</td>\n",
       "      <td>0.228765</td>\n",
       "      <td>297813.280965</td>\n",
       "      <td>246781.133851</td>\n",
       "      <td>0.507422</td>\n",
       "      <td>0.418917</td>\n",
       "      <td>-39.510893</td>\n",
       "      <td>-49.876075</td>\n",
       "      <td>342622.126953</td>\n",
       "      <td>279464.750623</td>\n",
       "      <td>...</td>\n",
       "      <td>374200.815117</td>\n",
       "      <td>247886.062459</td>\n",
       "      <td>0.639901</td>\n",
       "      <td>0.420834</td>\n",
       "      <td>51656.682589</td>\n",
       "      <td>34185.762442</td>\n",
       "      <td>0.710458</td>\n",
       "      <td>0.764545</td>\n",
       "      <td>0.683414</td>\n",
       "      <td>0.791588</td>\n",
       "    </tr>\n",
       "    <tr>\n",
       "      <th>29</th>\n",
       "      <td>KOPPAL</td>\n",
       "      <td>0.828223</td>\n",
       "      <td>193230.135547</td>\n",
       "      <td>161213.105781</td>\n",
       "      <td>0.326044</td>\n",
       "      <td>0.270517</td>\n",
       "      <td>-20.646338</td>\n",
       "      <td>-33.794745</td>\n",
       "      <td>213190.044503</td>\n",
       "      <td>173565.774074</td>\n",
       "      <td>...</td>\n",
       "      <td>233002.179717</td>\n",
       "      <td>153753.638859</td>\n",
       "      <td>0.395021</td>\n",
       "      <td>0.257580</td>\n",
       "      <td>22.470292</td>\n",
       "      <td>-19.184219</td>\n",
       "      <td>0.982167</td>\n",
       "      <td>0.986852</td>\n",
       "      <td>0.979824</td>\n",
       "      <td>0.989195</td>\n",
       "    </tr>\n",
       "    <tr>\n",
       "      <th>30</th>\n",
       "      <td>Vijayanagara</td>\n",
       "      <td>0.689841</td>\n",
       "      <td>164768.618876</td>\n",
       "      <td>137926.410323</td>\n",
       "      <td>0.276684</td>\n",
       "      <td>0.230131</td>\n",
       "      <td>-20.060248</td>\n",
       "      <td>-33.083113</td>\n",
       "      <td>177966.076456</td>\n",
       "      <td>144746.163854</td>\n",
       "      <td>...</td>\n",
       "      <td>194576.032758</td>\n",
       "      <td>128136.207553</td>\n",
       "      <td>0.328378</td>\n",
       "      <td>0.213152</td>\n",
       "      <td>87.011421</td>\n",
       "      <td>23.154604</td>\n",
       "      <td>0.995619</td>\n",
       "      <td>0.997858</td>\n",
       "      <td>0.994499</td>\n",
       "      <td>0.998978</td>\n",
       "    </tr>\n",
       "  </tbody>\n",
       "</table>\n",
       "<p>31 rows × 30 columns</p>\n",
       "</div>"
      ],
      "text/plain": [
       "            District  Initial Stability  Rice_Production (TotalNPK +10%)  \\\n",
       "0          BENGALURU           0.959409                     72943.836709   \n",
       "1       BENGALURU(R)           0.983965                     63245.182265   \n",
       "2         RAMANAGARA           0.868345                     35025.473567   \n",
       "3        CHITRADURGA           0.562713                    103047.732286   \n",
       "4         DAVANAGERE           0.072591                    255697.993301   \n",
       "5              KOLAR           0.878180                     70262.401761   \n",
       "6    CHIKKABALLAPURA           0.883837                     85027.052947   \n",
       "7         SHIVAMOGGA           0.630729                    152666.249531   \n",
       "8           TUMAKURU           0.865884                    108468.061504   \n",
       "9     CHIKKAMAGALURU           0.698987                    179609.882490   \n",
       "10  DAKSHINA KANNADA           0.823945                     61638.715434   \n",
       "11             UDUPI           0.824844                     31855.634396   \n",
       "12            HASSAN           0.521318                    180969.753071   \n",
       "13            KODAGU           0.656123                    115169.254738   \n",
       "14            MANDYA           0.667293                    162120.701864   \n",
       "15            MYSURU           0.545545                    165606.567297   \n",
       "16    CHAMARAJANAGAR           0.642589                     74124.146915   \n",
       "17          BELAGAVI           0.221901                    448062.221217   \n",
       "18        VIJAYAPURA           0.621265                    146965.806127   \n",
       "19          BAGALKOT           0.623647                    220188.133336   \n",
       "20          DHARAWAD           0.627951                    106631.757392   \n",
       "21             GADAG           0.670863                     72872.012559   \n",
       "22            HAVERI           0.574149                    172757.858540   \n",
       "23    UTTARA KANNADA           0.598137                     53805.094762   \n",
       "24           BALLARI           0.760320                    164771.013014   \n",
       "25             BIDAR           0.976793                     76171.135201   \n",
       "26        KALABURAGI           0.826587                    146417.548445   \n",
       "27           YADGIRI           0.823837                    235934.381245   \n",
       "28           RAICHUR           0.228765                    297813.280965   \n",
       "29            KOPPAL           0.828223                    193230.135547   \n",
       "30      Vijayanagara           0.689841                    164768.618876   \n",
       "\n",
       "    Rice_Production (TotalNPK -10%)  \\\n",
       "0                      62797.043096   \n",
       "1                      54861.780369   \n",
       "2                      31772.927798   \n",
       "3                      87427.503114   \n",
       "4                     212323.171216   \n",
       "5                      60603.141775   \n",
       "6                      72683.310927   \n",
       "7                     128024.471769   \n",
       "8                      91862.317929   \n",
       "9                     150069.262371   \n",
       "10                     53547.398417   \n",
       "11                     29179.423021   \n",
       "12                    151181.883756   \n",
       "13                     97345.112393   \n",
       "14                    135759.932768   \n",
       "15                    138612.004487   \n",
       "16                     63762.751446   \n",
       "17                    369712.084966   \n",
       "18                    123360.472619   \n",
       "19                    183269.649427   \n",
       "20                     90359.887291   \n",
       "21                     62738.277882   \n",
       "22                    144463.060958   \n",
       "23                     47138.072412   \n",
       "24                    137928.369164   \n",
       "25                     65437.560044   \n",
       "26                    122911.898153   \n",
       "27                    196152.943171   \n",
       "28                    246781.133851   \n",
       "29                    161213.105781   \n",
       "30                    137926.410323   \n",
       "\n",
       "    Normalized Rice_Production (TotalNPK +10%)  \\\n",
       "0                                     0.117432   \n",
       "1                                     0.100612   \n",
       "2                                     0.051671   \n",
       "3                                     0.169641   \n",
       "4                                     0.434382   \n",
       "5                                     0.112782   \n",
       "6                                     0.138388   \n",
       "7                                     0.255694   \n",
       "8                                     0.179042   \n",
       "9                                     0.302423   \n",
       "10                                    0.097826   \n",
       "11                                    0.046173   \n",
       "12                                    0.304781   \n",
       "13                                    0.190664   \n",
       "14                                    0.272091   \n",
       "15                                    0.278137   \n",
       "16                                    0.119479   \n",
       "17                                    0.767998   \n",
       "18                                    0.245808   \n",
       "19                                    0.372797   \n",
       "20                                    0.175857   \n",
       "21                                    0.117308   \n",
       "22                                    0.290539   \n",
       "23                                    0.084240   \n",
       "24                                    0.276688   \n",
       "25                                    0.123029   \n",
       "26                                    0.244857   \n",
       "27                                    0.400106   \n",
       "28                                    0.507422   \n",
       "29                                    0.326044   \n",
       "30                                    0.276684   \n",
       "\n",
       "    Normalized Rice_Production (TotalNPK -10%)  \\\n",
       "0                                     0.099835   \n",
       "1                                     0.086073   \n",
       "2                                     0.046030   \n",
       "3                                     0.142551   \n",
       "4                                     0.359157   \n",
       "5                                     0.096030   \n",
       "6                                     0.116980   \n",
       "7                                     0.212958   \n",
       "8                                     0.150242   \n",
       "9                                     0.251191   \n",
       "10                                    0.083793   \n",
       "11                                    0.041532   \n",
       "12                                    0.253120   \n",
       "13                                    0.159751   \n",
       "14                                    0.226374   \n",
       "15                                    0.231320   \n",
       "16                                    0.101510   \n",
       "17                                    0.632116   \n",
       "18                                    0.204870   \n",
       "19                                    0.308770   \n",
       "20                                    0.147637   \n",
       "21                                    0.099733   \n",
       "22                                    0.241468   \n",
       "23                                    0.072677   \n",
       "24                                    0.230135   \n",
       "25                                    0.104414   \n",
       "26                                    0.204092   \n",
       "27                                    0.331113   \n",
       "28                                    0.418917   \n",
       "29                                    0.270517   \n",
       "30                                    0.230131   \n",
       "\n",
       "    Percent Change in Rice_Production (TotalNPK +10%)  \\\n",
       "0                                         2060.658670   \n",
       "1                                         2586.711226   \n",
       "2                                          188.798430   \n",
       "3                                         2156.849152   \n",
       "4                                          -47.763967   \n",
       "5                                         8032.222426   \n",
       "6                                         3051.484542   \n",
       "7                                          -60.343751   \n",
       "8                                          316.512025   \n",
       "9                                           62.494352   \n",
       "10                                         -53.511090   \n",
       "11                                         -76.942272   \n",
       "12                                          25.931424   \n",
       "13                                          33.447568   \n",
       "14                                         -34.242423   \n",
       "15                                         -53.248463   \n",
       "16                                          61.645470   \n",
       "17                                         152.355491   \n",
       "18                                       86350.474192   \n",
       "19                                      258944.862745   \n",
       "20                                         213.724315   \n",
       "21                                         904.023320   \n",
       "22                                          37.741272   \n",
       "23                                         -64.828904   \n",
       "24                                         -20.059087   \n",
       "25                                        3641.214892   \n",
       "26                                        1756.206243   \n",
       "27                                           5.018887   \n",
       "28                                         -39.510893   \n",
       "29                                         -20.646338   \n",
       "30                                         -20.060248   \n",
       "\n",
       "    Percent Change in Rice_Production (TotalNPK -10%)  \\\n",
       "0                                         1760.101987   \n",
       "1                                         2230.576906   \n",
       "2                                          161.979946   \n",
       "3                                         1814.750397   \n",
       "4                                          -56.624923   \n",
       "5                                         6914.252520   \n",
       "6                                         2593.970012   \n",
       "7                                          -66.744645   \n",
       "8                                          252.746786   \n",
       "9                                           35.768741   \n",
       "10                                         -59.613692   \n",
       "11                                         -78.879366   \n",
       "12                                           5.202939   \n",
       "13                                          12.794587   \n",
       "14                                         -44.934582   \n",
       "15                                         -60.869159   \n",
       "16                                          39.049964   \n",
       "17                                         108.227497   \n",
       "18                                       72464.983893   \n",
       "19                                      215511.352264   \n",
       "20                                         165.850385   \n",
       "21                                         764.401734   \n",
       "22                                          15.181596   \n",
       "23                                         -69.186976   \n",
       "24                                         -33.082163   \n",
       "25                                        3114.025542   \n",
       "26                                        1458.213719   \n",
       "27                                         -12.688589   \n",
       "28                                         -49.876075   \n",
       "29                                         -33.794745   \n",
       "30                                         -33.083113   \n",
       "\n",
       "    Maize_Production (TotalNPK +10%)  Maize_Production (TotalNPK -10%)  ...  \\\n",
       "0                       64323.742132                      51766.072134  ...   \n",
       "1                       52320.689091                      41945.392373  ...   \n",
       "2                       17395.982550                      13370.632476  ...   \n",
       "3                      101580.318025                      82248.725137  ...   \n",
       "4                      290500.254316                     236819.582103  ...   \n",
       "5                       61005.198709                      49050.900243  ...   \n",
       "6                       79277.928432                      64001.315470  ...   \n",
       "7                      162988.186275                     132491.526433  ...   \n",
       "8                      108288.516516                      87737.251175  ...   \n",
       "9                      196333.621705                     159774.155421  ...   \n",
       "10                      50332.526023                      40318.713499  ...   \n",
       "11                      13472.990146                      10160.911418  ...   \n",
       "12                     198016.597298                     161151.135452  ...   \n",
       "13                     116581.912088                      94522.756643  ...   \n",
       "14                     174689.014826                     142064.931611  ...   \n",
       "15                     179003.121276                     145594.655070  ...   \n",
       "16                      65784.493836                      52961.232619  ...   \n",
       "17                     528570.189089                     431604.074190  ...   \n",
       "18                     155933.318516                     126719.361903  ...   \n",
       "19                     246553.257844                     200862.948626  ...   \n",
       "20                     106015.906868                      85877.843282  ...   \n",
       "21                      64234.852576                      51693.344316  ...   \n",
       "22                     187853.558066                     152835.921534  ...   \n",
       "23                      40637.638451                      32386.532759  ...   \n",
       "24                     177969.039442                     144748.588115  ...   \n",
       "25                      68317.846181                      55033.975447  ...   \n",
       "26                     155254.794906                     126164.206222  ...   \n",
       "27                     266040.811498                     216807.310706  ...   \n",
       "28                     342622.126953                     279464.750623  ...   \n",
       "29                     213190.044503                     173565.774074  ...   \n",
       "30                     177966.076456                     144746.163854  ...   \n",
       "\n",
       "    Maize_Production (TotalNPK +20%)  Maize_Production (TotalNPK -20%)  \\\n",
       "0                       70602.577131                      45487.237135   \n",
       "1                       57508.337450                      36757.744014   \n",
       "2                       19408.657587                      11357.957439   \n",
       "3                      111246.114469                      72582.928694   \n",
       "4                      317340.590423                     209979.245996   \n",
       "5                       66982.347943                      43073.751009   \n",
       "6                       86916.234913                      56363.008989   \n",
       "7                      178236.516196                     117243.196512   \n",
       "8                      118564.149186                      77461.618505   \n",
       "9                      214613.354847                     141494.422279   \n",
       "10                      55339.432284                      35311.807237   \n",
       "11                      15129.029510                       8504.872054   \n",
       "12                     216449.328222                     142718.404529   \n",
       "13                     127611.489810                      83493.178921   \n",
       "14                     191001.056434                     125752.890004   \n",
       "15                     195707.354379                     128890.421967   \n",
       "16                      72196.124444                      46549.602010   \n",
       "17                     577053.246538                     383121.016740   \n",
       "18                     170540.296823                     112112.383596   \n",
       "19                     269398.412453                     178017.794016   \n",
       "20                     116084.938661                      75808.811488   \n",
       "21                      70505.606707                      45422.590185   \n",
       "22                     205362.376331                     135327.103269   \n",
       "23                      44763.191297                      28260.979913   \n",
       "24                     194579.265105                     128138.362451   \n",
       "25                      74959.781548                      48392.040079   \n",
       "26                     169800.089248                     111618.911880   \n",
       "27                     290657.561894                     192190.560310   \n",
       "28                     374200.815117                     247886.062459   \n",
       "29                     233002.179717                     153753.638859   \n",
       "30                     194576.032758                     128136.207553   \n",
       "\n",
       "    Normalized Maize_Production (TotalNPK +20%)  \\\n",
       "0                                      0.113372   \n",
       "1                                      0.090663   \n",
       "2                                      0.024586   \n",
       "3                                      0.183860   \n",
       "4                                      0.541288   \n",
       "5                                      0.107093   \n",
       "6                                      0.141664   \n",
       "7                                      0.300041   \n",
       "8                                      0.196551   \n",
       "9                                      0.363129   \n",
       "10                                     0.086901   \n",
       "11                                     0.017164   \n",
       "12                                     0.366313   \n",
       "13                                     0.212242   \n",
       "14                                     0.322178   \n",
       "15                                     0.330340   \n",
       "16                                     0.116135   \n",
       "17                                     0.991707   \n",
       "18                                     0.286693   \n",
       "19                                     0.458143   \n",
       "20                                     0.192252   \n",
       "21                                     0.113204   \n",
       "22                                     0.347085   \n",
       "23                                     0.068559   \n",
       "24                                     0.328384   \n",
       "25                                     0.120928   \n",
       "26                                     0.285410   \n",
       "27                                     0.495012   \n",
       "28                                     0.639901   \n",
       "29                                     0.395021   \n",
       "30                                     0.328378   \n",
       "\n",
       "    Normalized Maize_Production (TotalNPK -20%)  \\\n",
       "0                                      0.069814   \n",
       "1                                      0.054675   \n",
       "2                                      0.010624   \n",
       "3                                      0.116806   \n",
       "4                                      0.355092   \n",
       "5                                      0.065629   \n",
       "6                                      0.088676   \n",
       "7                                      0.194260   \n",
       "8                                      0.125267   \n",
       "9                                      0.236319   \n",
       "10                                     0.052167   \n",
       "11                                     0.005676   \n",
       "12                                     0.238442   \n",
       "13                                     0.135728   \n",
       "14                                     0.209019   \n",
       "15                                     0.214460   \n",
       "16                                     0.071657   \n",
       "17                                     0.655371   \n",
       "18                                     0.185362   \n",
       "19                                     0.299662   \n",
       "20                                     0.122401   \n",
       "21                                     0.069702   \n",
       "22                                     0.225623   \n",
       "23                                     0.039939   \n",
       "24                                     0.213156   \n",
       "25                                     0.074852   \n",
       "26                                     0.184506   \n",
       "27                                     0.324241   \n",
       "28                                     0.420834   \n",
       "29                                     0.257580   \n",
       "30                                     0.213152   \n",
       "\n",
       "    Percent Change in Maize_Production (TotalNPK +20%)  \\\n",
       "0                                         2352.329876    \n",
       "1                                           35.049990    \n",
       "2                                           85.728781    \n",
       "3                                          -59.096934    \n",
       "4                                          -46.534614    \n",
       "5                                         3707.978848    \n",
       "6                                          -17.607915    \n",
       "7                                          -21.319497    \n",
       "8                                           77.310745    \n",
       "9                                          249.800914    \n",
       "10                                                NaN    \n",
       "11                                       13779.843587    \n",
       "12                                         -35.182586    \n",
       "13                                         612.077952    \n",
       "14                                         885.201715    \n",
       "15                                          42.691686    \n",
       "16                                         -51.181231    \n",
       "17                                           0.051191    \n",
       "18                                         -24.648718    \n",
       "19                                           7.031976    \n",
       "20                                          28.081006    \n",
       "21                                         -49.084602    \n",
       "22                                         -50.334019    \n",
       "23                                          85.831913    \n",
       "24                                          87.014527    \n",
       "25                                        2585.767881    \n",
       "26                                        1061.343884    \n",
       "27                                       10773.833217    \n",
       "28                                       51656.682589    \n",
       "29                                          22.470292    \n",
       "30                                          87.011421    \n",
       "\n",
       "    Percent Change in Maize_Production (TotalNPK -20%)  \\\n",
       "0                                         1479.966556    \n",
       "1                                          -13.679769    \n",
       "2                                            8.688588    \n",
       "3                                          -73.312647    \n",
       "4                                          -64.622800    \n",
       "5                                         2348.763559    \n",
       "6                                          -46.570789    \n",
       "7                                          -48.244311    \n",
       "8                                           15.842583    \n",
       "9                                          130.623478    \n",
       "10                                                NaN    \n",
       "11                                        7702.634912    \n",
       "12                                         -57.261877    \n",
       "13                                         365.895759    \n",
       "14                                         548.645433    \n",
       "15                                          -6.025036    \n",
       "16                                         -68.523321    \n",
       "17                                         -33.573350    \n",
       "18                                         -50.464424    \n",
       "19                                         -29.273539    \n",
       "20                                         -16.357204    \n",
       "21                                         -67.198222    \n",
       "22                                         -67.271739    \n",
       "23                                          17.323895    \n",
       "24                                          23.156675    \n",
       "25                                        1633.860268    \n",
       "26                                         663.415032    \n",
       "27                                        7090.069596    \n",
       "28                                       34185.762442    \n",
       "29                                         -19.184219    \n",
       "30                                          23.154604    \n",
       "\n",
       "    New Stability(NPK + 10%)_Rice_Maize  New Stability(NPK - 10%)_Rice_Maize  \\\n",
       "0                              0.940864                             0.953059   \n",
       "1                              0.976666                             0.982351   \n",
       "2                              0.835654                             0.866978   \n",
       "3                              0.806185                             0.842867   \n",
       "4                              0.727833                             0.778761   \n",
       "5                              0.997024                             0.999008   \n",
       "6                              0.995630                             0.997867   \n",
       "7                              0.968719                             0.975850   \n",
       "8                              0.987907                             0.991549   \n",
       "9                              0.861877                             0.888433   \n",
       "10                             0.824082                             0.857510   \n",
       "11                             0.782355                             0.823370   \n",
       "12                             0.870269                             0.895300   \n",
       "13                             0.949051                             0.959758   \n",
       "14                             0.869102                             0.894344   \n",
       "15                             0.916349                             0.933001   \n",
       "16                             0.876112                             0.900080   \n",
       "17                             0.083995                             0.251984   \n",
       "18                             0.662223                             0.725080   \n",
       "19                             0.975256                             0.981198   \n",
       "20                             0.781881                             0.822982   \n",
       "21                             0.621461                             0.691729   \n",
       "22                             0.912116                             0.929538   \n",
       "23                             0.645679                             0.711544   \n",
       "24                             0.964959                             0.972773   \n",
       "25                             0.810041                             0.846022   \n",
       "26                             0.989326                             0.992710   \n",
       "27                             0.898437                             0.918346   \n",
       "28                             0.710458                             0.764545   \n",
       "29                             0.982167                             0.986852   \n",
       "30                             0.995619                             0.997858   \n",
       "\n",
       "    New Stability(NPK + 20%)_Rice_Maize  New Stability(NPK - 20%)_Rice_Maize  \n",
       "0                              0.934767                             0.959157  \n",
       "1                              0.973823                             0.985194  \n",
       "2                              0.819992                             0.882640  \n",
       "3                              0.787844                             0.861208  \n",
       "4                              0.702369                             0.804225  \n",
       "5                              0.996032                             1.000000  \n",
       "6                              0.994511                             0.998986  \n",
       "7                              0.965154                             0.979415  \n",
       "8                              0.986086                             0.993370  \n",
       "9                              0.848599                             0.901712  \n",
       "10                             0.807368                             0.874224  \n",
       "11                             0.761847                             0.843877  \n",
       "12                             0.857754                             0.907815  \n",
       "13                             0.943698                             0.965111  \n",
       "14                             0.856480                             0.906966  \n",
       "15                             0.908023                             0.941328  \n",
       "16                             0.864128                             0.912064  \n",
       "17                             0.000000                             0.335979  \n",
       "18                             0.630794                             0.756508  \n",
       "19                             0.972285                             0.984169  \n",
       "20                             0.761330                             0.843532  \n",
       "21                             0.586327                             0.726863  \n",
       "22                             0.903405                             0.938249  \n",
       "23                             0.612747                             0.744477  \n",
       "24                             0.961052                             0.976680  \n",
       "25                             0.792051                             0.864013  \n",
       "26                             0.987634                             0.994402  \n",
       "27                             0.888483                             0.928301  \n",
       "28                             0.683414                             0.791588  \n",
       "29                             0.979824                             0.989195  \n",
       "30                             0.994499                             0.998978  \n",
       "\n",
       "[31 rows x 30 columns]"
      ]
     },
     "execution_count": 56,
     "metadata": {},
     "output_type": "execute_result"
    }
   ],
   "source": [
    "new_data_1"
   ]
  },
  {
   "cell_type": "code",
   "execution_count": 57,
   "metadata": {},
   "outputs": [
    {
     "data": {
      "application/vnd.plotly.v1+json": {
       "config": {
        "plotlyServerURL": "https://plot.ly"
       },
       "data": [
        {
         "hovertemplate": "%{text}<br>Percent Change in: %{y:.2f}<br>Stability: %{x:.2f}",
         "marker": {
          "color": "red",
          "size": 7,
          "symbol": "star"
         },
         "mode": "markers",
         "name": "Rice_Production +10%",
         "text": [
          "BENGALURU",
          "BENGALURU(R)",
          "RAMANAGARA",
          "CHITRADURGA",
          "DAVANAGERE",
          "KOLAR",
          "CHIKKABALLAPURA",
          "SHIVAMOGGA",
          "TUMAKURU",
          "CHIKKAMAGALURU",
          "DAKSHINA KANNADA",
          "UDUPI",
          "HASSAN",
          "KODAGU",
          "MANDYA",
          "MYSURU",
          "CHAMARAJANAGAR",
          "BELAGAVI",
          "VIJAYAPURA",
          "BAGALKOT",
          "DHARAWAD",
          "GADAG",
          "HAVERI",
          "UTTARA KANNADA",
          "BALLARI",
          "BIDAR",
          "KALABURAGI",
          "YADGIRI",
          "RAICHUR",
          "KOPPAL",
          "Vijayanagara"
         ],
         "type": "scatter",
         "x": [
          0.936456007943644,
          0.9755825957644532,
          0.8214733293815251,
          0.7892674765327319,
          0.703638277038381,
          0.9978315535230353,
          0.9963081908352625,
          0.9668979542221918,
          0.9878679191324545,
          0.8501324148075371,
          0.8088270848882465,
          0.7632238714596392,
          0.8593038303994306,
          0.9454033066977166,
          0.8580281370002505,
          0.9096638666724385,
          0.8656896685051109,
          0,
          0.6319340867322303,
          0.9740420338205279,
          0.7627060509976261,
          0.5873860476685648,
          0.9050377055240111,
          0.6138542286649592,
          0.9627882446153898,
          0.7934822771046763,
          0.98941866022798,
          0.8900880418754086,
          0.6846493154316328,
          0.9815944729006509,
          0.9962959056522965
         ],
         "y": [
          2060.6586703036437,
          2586.711226217563,
          188.79842980992902,
          2156.8491521346555,
          -47.76396700738188,
          8032.222426000832,
          3051.484542160797,
          -60.34375060885279,
          316.51202482300727,
          62.49435235618264,
          -53.511090419776856,
          -76.94227221711216,
          25.931424147412034,
          33.44756814719073,
          -34.24242348638746,
          -53.24846290728806,
          61.64547041738079,
          152.3554909080297,
          86350.47419207045,
          258944.86274781375,
          213.72431490231065,
          904.0233199095707,
          37.74127229698674,
          -64.82890374467179,
          -20.05908662391728,
          3641.214892013959,
          1756.206242964291,
          5.018886955262337,
          -39.51089263861997,
          -20.6463376329954,
          -20.06024817292227
         ]
        },
        {
         "hovertemplate": "%{text}<br>Percent Change in: %{y:.2f}<br>Stability: %{x:.2f}",
         "marker": {
          "color": "blue",
          "size": 7,
          "symbol": "triangle-up"
         },
         "mode": "markers",
         "name": "Maize_Production +10%",
         "text": [
          "BENGALURU",
          "BENGALURU(R)",
          "RAMANAGARA",
          "CHITRADURGA",
          "DAVANAGERE",
          "KOLAR",
          "CHIKKABALLAPURA",
          "SHIVAMOGGA",
          "TUMAKURU",
          "CHIKKAMAGALURU",
          "DAKSHINA KANNADA",
          "UDUPI",
          "HASSAN",
          "KODAGU",
          "MANDYA",
          "MYSURU",
          "CHAMARAJANAGAR",
          "BELAGAVI",
          "VIJAYAPURA",
          "BAGALKOT",
          "DHARAWAD",
          "GADAG",
          "HAVERI",
          "UTTARA KANNADA",
          "BALLARI",
          "BIDAR",
          "KALABURAGI",
          "YADGIRI",
          "RAICHUR",
          "KOPPAL",
          "Vijayanagara"
         ],
         "type": "scatter",
         "x": [
          0.936456007943644,
          0.9755825957644532,
          0.8214733293815251,
          0.7892674765327319,
          0.703638277038381,
          0.9978315535230353,
          0.9963081908352625,
          0.9668979542221918,
          0.9878679191324545,
          0.8501324148075371,
          0.8088270848882465,
          0.7632238714596392,
          0.8593038303994306,
          0.9454033066977166,
          0.8580281370002505,
          0.9096638666724385,
          0.8656896685051109,
          0,
          0.6319340867322303,
          0.9740420338205279,
          0.7627060509976261,
          0.5873860476685648,
          0.9050377055240111,
          0.6138542286649592,
          0.9627882446153898,
          0.7934822771046763,
          0.98941866022798,
          0.8900880418754086,
          0.6846493154316328,
          0.9815944729006509,
          0.9962959056522965
         ],
         "y": [
          2048.0277354157165,
          16.63954552328954,
          36.35532291036821,
          -63.369386900241075,
          -50.93497980185318,
          3224.3980174012017,
          -27.000633769124605,
          -28.529326429106906,
          59.1633424325117,
          219.00931977877,
          null,
          9322.533606571113,
          -40.878487155457144,
          540.813750890893,
          796.3250681788405,
          29.88740070090742,
          -57.181095748968175,
          -7.644945417715669,
          -31.6258635220088,
          -2.0048200662715754,
          14.884632706530265,
          -55.40630170981359,
          -54.745472800341034,
          57.007857554077184,
          70.21196005487994,
          2260.888828456804,
          953.6967073491568,
          9866.948097369497,
          47490.97773582763,
          11.860593559847956,
          70.20907191807058
         ]
        }
       ],
       "layout": {
        "hovermode": "closest",
        "shapes": [
         {
          "line": {
           "color": "black",
           "dash": "dash"
          },
          "name": "Average Stability",
          "type": "line",
          "x0": 0.8325442760006452,
          "x1": 0.8325442760006452,
          "y0": 0,
          "y1": 258944.86274781375
         },
         {
          "line": {
           "color": "black",
           "dash": "dash"
          },
          "name": "Average Impact",
          "type": "line",
          "x0": 0,
          "x1": 1,
          "y0": 11938.426426157852,
          "y1": 11938.426426157852
         }
        ],
        "template": {
         "data": {
          "bar": [
           {
            "error_x": {
             "color": "#2a3f5f"
            },
            "error_y": {
             "color": "#2a3f5f"
            },
            "marker": {
             "line": {
              "color": "#E5ECF6",
              "width": 0.5
             },
             "pattern": {
              "fillmode": "overlay",
              "size": 10,
              "solidity": 0.2
             }
            },
            "type": "bar"
           }
          ],
          "barpolar": [
           {
            "marker": {
             "line": {
              "color": "#E5ECF6",
              "width": 0.5
             },
             "pattern": {
              "fillmode": "overlay",
              "size": 10,
              "solidity": 0.2
             }
            },
            "type": "barpolar"
           }
          ],
          "carpet": [
           {
            "aaxis": {
             "endlinecolor": "#2a3f5f",
             "gridcolor": "white",
             "linecolor": "white",
             "minorgridcolor": "white",
             "startlinecolor": "#2a3f5f"
            },
            "baxis": {
             "endlinecolor": "#2a3f5f",
             "gridcolor": "white",
             "linecolor": "white",
             "minorgridcolor": "white",
             "startlinecolor": "#2a3f5f"
            },
            "type": "carpet"
           }
          ],
          "choropleth": [
           {
            "colorbar": {
             "outlinewidth": 0,
             "ticks": ""
            },
            "type": "choropleth"
           }
          ],
          "contour": [
           {
            "colorbar": {
             "outlinewidth": 0,
             "ticks": ""
            },
            "colorscale": [
             [
              0,
              "#0d0887"
             ],
             [
              0.1111111111111111,
              "#46039f"
             ],
             [
              0.2222222222222222,
              "#7201a8"
             ],
             [
              0.3333333333333333,
              "#9c179e"
             ],
             [
              0.4444444444444444,
              "#bd3786"
             ],
             [
              0.5555555555555556,
              "#d8576b"
             ],
             [
              0.6666666666666666,
              "#ed7953"
             ],
             [
              0.7777777777777778,
              "#fb9f3a"
             ],
             [
              0.8888888888888888,
              "#fdca26"
             ],
             [
              1,
              "#f0f921"
             ]
            ],
            "type": "contour"
           }
          ],
          "contourcarpet": [
           {
            "colorbar": {
             "outlinewidth": 0,
             "ticks": ""
            },
            "type": "contourcarpet"
           }
          ],
          "heatmap": [
           {
            "colorbar": {
             "outlinewidth": 0,
             "ticks": ""
            },
            "colorscale": [
             [
              0,
              "#0d0887"
             ],
             [
              0.1111111111111111,
              "#46039f"
             ],
             [
              0.2222222222222222,
              "#7201a8"
             ],
             [
              0.3333333333333333,
              "#9c179e"
             ],
             [
              0.4444444444444444,
              "#bd3786"
             ],
             [
              0.5555555555555556,
              "#d8576b"
             ],
             [
              0.6666666666666666,
              "#ed7953"
             ],
             [
              0.7777777777777778,
              "#fb9f3a"
             ],
             [
              0.8888888888888888,
              "#fdca26"
             ],
             [
              1,
              "#f0f921"
             ]
            ],
            "type": "heatmap"
           }
          ],
          "heatmapgl": [
           {
            "colorbar": {
             "outlinewidth": 0,
             "ticks": ""
            },
            "colorscale": [
             [
              0,
              "#0d0887"
             ],
             [
              0.1111111111111111,
              "#46039f"
             ],
             [
              0.2222222222222222,
              "#7201a8"
             ],
             [
              0.3333333333333333,
              "#9c179e"
             ],
             [
              0.4444444444444444,
              "#bd3786"
             ],
             [
              0.5555555555555556,
              "#d8576b"
             ],
             [
              0.6666666666666666,
              "#ed7953"
             ],
             [
              0.7777777777777778,
              "#fb9f3a"
             ],
             [
              0.8888888888888888,
              "#fdca26"
             ],
             [
              1,
              "#f0f921"
             ]
            ],
            "type": "heatmapgl"
           }
          ],
          "histogram": [
           {
            "marker": {
             "pattern": {
              "fillmode": "overlay",
              "size": 10,
              "solidity": 0.2
             }
            },
            "type": "histogram"
           }
          ],
          "histogram2d": [
           {
            "colorbar": {
             "outlinewidth": 0,
             "ticks": ""
            },
            "colorscale": [
             [
              0,
              "#0d0887"
             ],
             [
              0.1111111111111111,
              "#46039f"
             ],
             [
              0.2222222222222222,
              "#7201a8"
             ],
             [
              0.3333333333333333,
              "#9c179e"
             ],
             [
              0.4444444444444444,
              "#bd3786"
             ],
             [
              0.5555555555555556,
              "#d8576b"
             ],
             [
              0.6666666666666666,
              "#ed7953"
             ],
             [
              0.7777777777777778,
              "#fb9f3a"
             ],
             [
              0.8888888888888888,
              "#fdca26"
             ],
             [
              1,
              "#f0f921"
             ]
            ],
            "type": "histogram2d"
           }
          ],
          "histogram2dcontour": [
           {
            "colorbar": {
             "outlinewidth": 0,
             "ticks": ""
            },
            "colorscale": [
             [
              0,
              "#0d0887"
             ],
             [
              0.1111111111111111,
              "#46039f"
             ],
             [
              0.2222222222222222,
              "#7201a8"
             ],
             [
              0.3333333333333333,
              "#9c179e"
             ],
             [
              0.4444444444444444,
              "#bd3786"
             ],
             [
              0.5555555555555556,
              "#d8576b"
             ],
             [
              0.6666666666666666,
              "#ed7953"
             ],
             [
              0.7777777777777778,
              "#fb9f3a"
             ],
             [
              0.8888888888888888,
              "#fdca26"
             ],
             [
              1,
              "#f0f921"
             ]
            ],
            "type": "histogram2dcontour"
           }
          ],
          "mesh3d": [
           {
            "colorbar": {
             "outlinewidth": 0,
             "ticks": ""
            },
            "type": "mesh3d"
           }
          ],
          "parcoords": [
           {
            "line": {
             "colorbar": {
              "outlinewidth": 0,
              "ticks": ""
             }
            },
            "type": "parcoords"
           }
          ],
          "pie": [
           {
            "automargin": true,
            "type": "pie"
           }
          ],
          "scatter": [
           {
            "fillpattern": {
             "fillmode": "overlay",
             "size": 10,
             "solidity": 0.2
            },
            "type": "scatter"
           }
          ],
          "scatter3d": [
           {
            "line": {
             "colorbar": {
              "outlinewidth": 0,
              "ticks": ""
             }
            },
            "marker": {
             "colorbar": {
              "outlinewidth": 0,
              "ticks": ""
             }
            },
            "type": "scatter3d"
           }
          ],
          "scattercarpet": [
           {
            "marker": {
             "colorbar": {
              "outlinewidth": 0,
              "ticks": ""
             }
            },
            "type": "scattercarpet"
           }
          ],
          "scattergeo": [
           {
            "marker": {
             "colorbar": {
              "outlinewidth": 0,
              "ticks": ""
             }
            },
            "type": "scattergeo"
           }
          ],
          "scattergl": [
           {
            "marker": {
             "colorbar": {
              "outlinewidth": 0,
              "ticks": ""
             }
            },
            "type": "scattergl"
           }
          ],
          "scattermapbox": [
           {
            "marker": {
             "colorbar": {
              "outlinewidth": 0,
              "ticks": ""
             }
            },
            "type": "scattermapbox"
           }
          ],
          "scatterpolar": [
           {
            "marker": {
             "colorbar": {
              "outlinewidth": 0,
              "ticks": ""
             }
            },
            "type": "scatterpolar"
           }
          ],
          "scatterpolargl": [
           {
            "marker": {
             "colorbar": {
              "outlinewidth": 0,
              "ticks": ""
             }
            },
            "type": "scatterpolargl"
           }
          ],
          "scatterternary": [
           {
            "marker": {
             "colorbar": {
              "outlinewidth": 0,
              "ticks": ""
             }
            },
            "type": "scatterternary"
           }
          ],
          "surface": [
           {
            "colorbar": {
             "outlinewidth": 0,
             "ticks": ""
            },
            "colorscale": [
             [
              0,
              "#0d0887"
             ],
             [
              0.1111111111111111,
              "#46039f"
             ],
             [
              0.2222222222222222,
              "#7201a8"
             ],
             [
              0.3333333333333333,
              "#9c179e"
             ],
             [
              0.4444444444444444,
              "#bd3786"
             ],
             [
              0.5555555555555556,
              "#d8576b"
             ],
             [
              0.6666666666666666,
              "#ed7953"
             ],
             [
              0.7777777777777778,
              "#fb9f3a"
             ],
             [
              0.8888888888888888,
              "#fdca26"
             ],
             [
              1,
              "#f0f921"
             ]
            ],
            "type": "surface"
           }
          ],
          "table": [
           {
            "cells": {
             "fill": {
              "color": "#EBF0F8"
             },
             "line": {
              "color": "white"
             }
            },
            "header": {
             "fill": {
              "color": "#C8D4E3"
             },
             "line": {
              "color": "white"
             }
            },
            "type": "table"
           }
          ]
         },
         "layout": {
          "annotationdefaults": {
           "arrowcolor": "#2a3f5f",
           "arrowhead": 0,
           "arrowwidth": 1
          },
          "autotypenumbers": "strict",
          "coloraxis": {
           "colorbar": {
            "outlinewidth": 0,
            "ticks": ""
           }
          },
          "colorscale": {
           "diverging": [
            [
             0,
             "#8e0152"
            ],
            [
             0.1,
             "#c51b7d"
            ],
            [
             0.2,
             "#de77ae"
            ],
            [
             0.3,
             "#f1b6da"
            ],
            [
             0.4,
             "#fde0ef"
            ],
            [
             0.5,
             "#f7f7f7"
            ],
            [
             0.6,
             "#e6f5d0"
            ],
            [
             0.7,
             "#b8e186"
            ],
            [
             0.8,
             "#7fbc41"
            ],
            [
             0.9,
             "#4d9221"
            ],
            [
             1,
             "#276419"
            ]
           ],
           "sequential": [
            [
             0,
             "#0d0887"
            ],
            [
             0.1111111111111111,
             "#46039f"
            ],
            [
             0.2222222222222222,
             "#7201a8"
            ],
            [
             0.3333333333333333,
             "#9c179e"
            ],
            [
             0.4444444444444444,
             "#bd3786"
            ],
            [
             0.5555555555555556,
             "#d8576b"
            ],
            [
             0.6666666666666666,
             "#ed7953"
            ],
            [
             0.7777777777777778,
             "#fb9f3a"
            ],
            [
             0.8888888888888888,
             "#fdca26"
            ],
            [
             1,
             "#f0f921"
            ]
           ],
           "sequentialminus": [
            [
             0,
             "#0d0887"
            ],
            [
             0.1111111111111111,
             "#46039f"
            ],
            [
             0.2222222222222222,
             "#7201a8"
            ],
            [
             0.3333333333333333,
             "#9c179e"
            ],
            [
             0.4444444444444444,
             "#bd3786"
            ],
            [
             0.5555555555555556,
             "#d8576b"
            ],
            [
             0.6666666666666666,
             "#ed7953"
            ],
            [
             0.7777777777777778,
             "#fb9f3a"
            ],
            [
             0.8888888888888888,
             "#fdca26"
            ],
            [
             1,
             "#f0f921"
            ]
           ]
          },
          "colorway": [
           "#636efa",
           "#EF553B",
           "#00cc96",
           "#ab63fa",
           "#FFA15A",
           "#19d3f3",
           "#FF6692",
           "#B6E880",
           "#FF97FF",
           "#FECB52"
          ],
          "font": {
           "color": "#2a3f5f"
          },
          "geo": {
           "bgcolor": "white",
           "lakecolor": "white",
           "landcolor": "#E5ECF6",
           "showlakes": true,
           "showland": true,
           "subunitcolor": "white"
          },
          "hoverlabel": {
           "align": "left"
          },
          "hovermode": "closest",
          "mapbox": {
           "style": "light"
          },
          "paper_bgcolor": "white",
          "plot_bgcolor": "#E5ECF6",
          "polar": {
           "angularaxis": {
            "gridcolor": "white",
            "linecolor": "white",
            "ticks": ""
           },
           "bgcolor": "#E5ECF6",
           "radialaxis": {
            "gridcolor": "white",
            "linecolor": "white",
            "ticks": ""
           }
          },
          "scene": {
           "xaxis": {
            "backgroundcolor": "#E5ECF6",
            "gridcolor": "white",
            "gridwidth": 2,
            "linecolor": "white",
            "showbackground": true,
            "ticks": "",
            "zerolinecolor": "white"
           },
           "yaxis": {
            "backgroundcolor": "#E5ECF6",
            "gridcolor": "white",
            "gridwidth": 2,
            "linecolor": "white",
            "showbackground": true,
            "ticks": "",
            "zerolinecolor": "white"
           },
           "zaxis": {
            "backgroundcolor": "#E5ECF6",
            "gridcolor": "white",
            "gridwidth": 2,
            "linecolor": "white",
            "showbackground": true,
            "ticks": "",
            "zerolinecolor": "white"
           }
          },
          "shapedefaults": {
           "line": {
            "color": "#2a3f5f"
           }
          },
          "ternary": {
           "aaxis": {
            "gridcolor": "white",
            "linecolor": "white",
            "ticks": ""
           },
           "baxis": {
            "gridcolor": "white",
            "linecolor": "white",
            "ticks": ""
           },
           "bgcolor": "#E5ECF6",
           "caxis": {
            "gridcolor": "white",
            "linecolor": "white",
            "ticks": ""
           }
          },
          "title": {
           "x": 0.05
          },
          "xaxis": {
           "automargin": true,
           "gridcolor": "white",
           "linecolor": "white",
           "ticks": "",
           "title": {
            "standoff": 15
           },
           "zerolinecolor": "white",
           "zerolinewidth": 2
          },
          "yaxis": {
           "automargin": true,
           "gridcolor": "white",
           "linecolor": "white",
           "ticks": "",
           "title": {
            "standoff": 15
           },
           "zerolinecolor": "white",
           "zerolinewidth": 2
          }
         }
        },
        "title": {
         "text": "Percent Change vs Stability (+10%)"
        },
        "xaxis": {
         "title": {
          "text": "Stability (TotalNPK +10%)"
         }
        },
        "yaxis": {
         "title": {
          "text": "Percent Change"
         }
        }
       }
      }
     },
     "metadata": {},
     "output_type": "display_data"
    },
    {
     "data": {
      "application/vnd.plotly.v1+json": {
       "config": {
        "plotlyServerURL": "https://plot.ly"
       },
       "data": [
        {
         "hovertemplate": "%{text}<br>Percent Change: %{y:.2f}<br>Stability: %{x:.2f}",
         "marker": {
          "color": "red",
          "size": 7,
          "symbol": "star"
         },
         "mode": "markers",
         "name": "Rice_Production -10%",
         "text": [
          "BENGALURU",
          "BENGALURU(R)",
          "RAMANAGARA",
          "CHITRADURGA",
          "DAVANAGERE",
          "KOLAR",
          "CHIKKABALLAPURA",
          "SHIVAMOGGA",
          "TUMAKURU",
          "CHIKKAMAGALURU",
          "DAKSHINA KANNADA",
          "UDUPI",
          "HASSAN",
          "KODAGU",
          "MANDYA",
          "MYSURU",
          "CHAMARAJANAGAR",
          "BELAGAVI",
          "VIJAYAPURA",
          "BAGALKOT",
          "DHARAWAD",
          "GADAG",
          "HAVERI",
          "UTTARA KANNADA",
          "BALLARI",
          "BIDAR",
          "KALABURAGI",
          "YADGIRI",
          "RAICHUR",
          "KOPPAL",
          "Vijayanagara"
         ],
         "type": "scatter",
         "x": [
          0.9497836445259525,
          0.9817963072884327,
          0.8557069075205825,
          0.8293566642806608,
          0.7592964101489191,
          1,
          0.9987536123463676,
          0.974690691481128,
          0.9918479354986157,
          0.8791552501418651,
          0.8453599802079002,
          0.8080482601299487,
          0.8866591356261416,
          0.9571041616883755,
          0.8856153864813577,
          0.9278628016676935,
          0.8918839122580617,
          0.18359236529933456,
          0.7006293453529777,
          0.9805358475161303,
          0.807624588842847,
          0.6641809497554332,
          0.9240777607280711,
          0.6858367342070286,
          0.9713282018028356,
          0.8328051374758881,
          0.9931167236676819,
          0.9118462177428509,
          0.7437599870161251,
          0.9867151158544128,
          0.998743560833032
         ],
         "y": [
          1760.1019874515334,
          2230.576906084016,
          161.9799455662899,
          1814.750396713172,
          -56.62492288815732,
          6914.252520210089,
          2593.9700121383753,
          -66.74464463350729,
          252.74678568697084,
          35.76874089298519,
          -59.6136917242628,
          -78.87936606336442,
          5.202939185027923,
          12.794586969753746,
          -44.93458229670634,
          -60.869158904740615,
          39.04996390009229,
          108.22749671431298,
          72464.98389377649,
          215511.35226692166,
          165.850384804779,
          764.4017343949897,
          15.181595699310572,
          -69.18697589087326,
          -33.08216287725172,
          3114.025542452135,
          1458.2137189749121,
          -12.68858885210081,
          -49.87607519751731,
          -33.79474516685625,
          -33.08311323552852
         ]
        },
        {
         "hovertemplate": "%{text}<br>Percent Change: %{y:.2f}<br>Stability: %{x:.2f}",
         "marker": {
          "color": "blue",
          "size": 7,
          "symbol": "triangle-up"
         },
         "mode": "markers",
         "name": "Maize_Production -10%",
         "text": [
          "BENGALURU",
          "BENGALURU(R)",
          "RAMANAGARA",
          "CHITRADURGA",
          "DAVANAGERE",
          "KOLAR",
          "CHIKKABALLAPURA",
          "SHIVAMOGGA",
          "TUMAKURU",
          "CHIKKAMAGALURU",
          "DAKSHINA KANNADA",
          "UDUPI",
          "HASSAN",
          "KODAGU",
          "MANDYA",
          "MYSURU",
          "CHAMARAJANAGAR",
          "BELAGAVI",
          "VIJAYAPURA",
          "BAGALKOT",
          "DHARAWAD",
          "GADAG",
          "HAVERI",
          "UTTARA KANNADA",
          "BALLARI",
          "BIDAR",
          "KALABURAGI",
          "YADGIRI",
          "RAICHUR",
          "KOPPAL",
          "Vijayanagara"
         ],
         "type": "scatter",
         "x": [
          0.9497836445259525,
          0.9817963072884327,
          0.8557069075205825,
          0.8293566642806608,
          0.7592964101489191,
          1,
          0.9987536123463676,
          0.974690691481128,
          0.9918479354986157,
          0.8791552501418651,
          0.8453599802079002,
          0.8080482601299487,
          0.8866591356261416,
          0.9571041616883755,
          0.8856153864813577,
          0.9278628016676935,
          0.8918839122580617,
          0.18359236529933456,
          0.7006293453529777,
          0.9805358475161303,
          0.807624588842847,
          0.6641809497554332,
          0.9240777607280711,
          0.6858367342070286,
          0.9713282018028356,
          0.8328051374758881,
          0.9931167236676819,
          0.9118462177428509,
          0.7437599870161251,
          0.9867151158544128,
          0.998743560833032
         ],
         "y": [
          1605.666670026482,
          -8.070512509524328,
          -2.7104894264274484,
          -70.57794078634419,
          -60.10720101977402,
          2535.162340906014,
          -41.68723018313193,
          -42.182455960881285,
          27.993850240510163,
          158.5764055224297,
          null,
          6240.881224986069,
          -52.07453206780021,
          415.97881707165925,
          625.6629231010503,
          5.18395388481848,
          -65.97498356392157,
          -24.695396074793873,
          -44.716582723789884,
          -20.414748544178266,
          -7.649251307230684,
          -64.59141997655078,
          -63.33431185930204,
          22.268570452188673,
          37.83069526376426,
          1778.1921632102697,
          751.9135436829978,
          7998.972264705303,
          38631.762007763406,
          -9.261722760890462,
          37.8283322427384
         ]
        }
       ],
       "layout": {
        "hovermode": "closest",
        "shapes": [
         {
          "line": {
           "color": "black",
           "dash": "dash"
          },
          "name": "Average Stability",
          "type": "line",
          "x0": 0.8647649547544082,
          "x1": 0.8647649547544082,
          "y0": 0,
          "y1": 258944.86274781375
         },
         {
          "line": {
           "color": "black",
           "dash": "dash"
          },
          "name": "Average Impact",
          "type": "line",
          "x0": 0,
          "x1": 1,
          "y0": 9962.066238413096,
          "y1": 9962.066238413096
         }
        ],
        "template": {
         "data": {
          "bar": [
           {
            "error_x": {
             "color": "#2a3f5f"
            },
            "error_y": {
             "color": "#2a3f5f"
            },
            "marker": {
             "line": {
              "color": "#E5ECF6",
              "width": 0.5
             },
             "pattern": {
              "fillmode": "overlay",
              "size": 10,
              "solidity": 0.2
             }
            },
            "type": "bar"
           }
          ],
          "barpolar": [
           {
            "marker": {
             "line": {
              "color": "#E5ECF6",
              "width": 0.5
             },
             "pattern": {
              "fillmode": "overlay",
              "size": 10,
              "solidity": 0.2
             }
            },
            "type": "barpolar"
           }
          ],
          "carpet": [
           {
            "aaxis": {
             "endlinecolor": "#2a3f5f",
             "gridcolor": "white",
             "linecolor": "white",
             "minorgridcolor": "white",
             "startlinecolor": "#2a3f5f"
            },
            "baxis": {
             "endlinecolor": "#2a3f5f",
             "gridcolor": "white",
             "linecolor": "white",
             "minorgridcolor": "white",
             "startlinecolor": "#2a3f5f"
            },
            "type": "carpet"
           }
          ],
          "choropleth": [
           {
            "colorbar": {
             "outlinewidth": 0,
             "ticks": ""
            },
            "type": "choropleth"
           }
          ],
          "contour": [
           {
            "colorbar": {
             "outlinewidth": 0,
             "ticks": ""
            },
            "colorscale": [
             [
              0,
              "#0d0887"
             ],
             [
              0.1111111111111111,
              "#46039f"
             ],
             [
              0.2222222222222222,
              "#7201a8"
             ],
             [
              0.3333333333333333,
              "#9c179e"
             ],
             [
              0.4444444444444444,
              "#bd3786"
             ],
             [
              0.5555555555555556,
              "#d8576b"
             ],
             [
              0.6666666666666666,
              "#ed7953"
             ],
             [
              0.7777777777777778,
              "#fb9f3a"
             ],
             [
              0.8888888888888888,
              "#fdca26"
             ],
             [
              1,
              "#f0f921"
             ]
            ],
            "type": "contour"
           }
          ],
          "contourcarpet": [
           {
            "colorbar": {
             "outlinewidth": 0,
             "ticks": ""
            },
            "type": "contourcarpet"
           }
          ],
          "heatmap": [
           {
            "colorbar": {
             "outlinewidth": 0,
             "ticks": ""
            },
            "colorscale": [
             [
              0,
              "#0d0887"
             ],
             [
              0.1111111111111111,
              "#46039f"
             ],
             [
              0.2222222222222222,
              "#7201a8"
             ],
             [
              0.3333333333333333,
              "#9c179e"
             ],
             [
              0.4444444444444444,
              "#bd3786"
             ],
             [
              0.5555555555555556,
              "#d8576b"
             ],
             [
              0.6666666666666666,
              "#ed7953"
             ],
             [
              0.7777777777777778,
              "#fb9f3a"
             ],
             [
              0.8888888888888888,
              "#fdca26"
             ],
             [
              1,
              "#f0f921"
             ]
            ],
            "type": "heatmap"
           }
          ],
          "heatmapgl": [
           {
            "colorbar": {
             "outlinewidth": 0,
             "ticks": ""
            },
            "colorscale": [
             [
              0,
              "#0d0887"
             ],
             [
              0.1111111111111111,
              "#46039f"
             ],
             [
              0.2222222222222222,
              "#7201a8"
             ],
             [
              0.3333333333333333,
              "#9c179e"
             ],
             [
              0.4444444444444444,
              "#bd3786"
             ],
             [
              0.5555555555555556,
              "#d8576b"
             ],
             [
              0.6666666666666666,
              "#ed7953"
             ],
             [
              0.7777777777777778,
              "#fb9f3a"
             ],
             [
              0.8888888888888888,
              "#fdca26"
             ],
             [
              1,
              "#f0f921"
             ]
            ],
            "type": "heatmapgl"
           }
          ],
          "histogram": [
           {
            "marker": {
             "pattern": {
              "fillmode": "overlay",
              "size": 10,
              "solidity": 0.2
             }
            },
            "type": "histogram"
           }
          ],
          "histogram2d": [
           {
            "colorbar": {
             "outlinewidth": 0,
             "ticks": ""
            },
            "colorscale": [
             [
              0,
              "#0d0887"
             ],
             [
              0.1111111111111111,
              "#46039f"
             ],
             [
              0.2222222222222222,
              "#7201a8"
             ],
             [
              0.3333333333333333,
              "#9c179e"
             ],
             [
              0.4444444444444444,
              "#bd3786"
             ],
             [
              0.5555555555555556,
              "#d8576b"
             ],
             [
              0.6666666666666666,
              "#ed7953"
             ],
             [
              0.7777777777777778,
              "#fb9f3a"
             ],
             [
              0.8888888888888888,
              "#fdca26"
             ],
             [
              1,
              "#f0f921"
             ]
            ],
            "type": "histogram2d"
           }
          ],
          "histogram2dcontour": [
           {
            "colorbar": {
             "outlinewidth": 0,
             "ticks": ""
            },
            "colorscale": [
             [
              0,
              "#0d0887"
             ],
             [
              0.1111111111111111,
              "#46039f"
             ],
             [
              0.2222222222222222,
              "#7201a8"
             ],
             [
              0.3333333333333333,
              "#9c179e"
             ],
             [
              0.4444444444444444,
              "#bd3786"
             ],
             [
              0.5555555555555556,
              "#d8576b"
             ],
             [
              0.6666666666666666,
              "#ed7953"
             ],
             [
              0.7777777777777778,
              "#fb9f3a"
             ],
             [
              0.8888888888888888,
              "#fdca26"
             ],
             [
              1,
              "#f0f921"
             ]
            ],
            "type": "histogram2dcontour"
           }
          ],
          "mesh3d": [
           {
            "colorbar": {
             "outlinewidth": 0,
             "ticks": ""
            },
            "type": "mesh3d"
           }
          ],
          "parcoords": [
           {
            "line": {
             "colorbar": {
              "outlinewidth": 0,
              "ticks": ""
             }
            },
            "type": "parcoords"
           }
          ],
          "pie": [
           {
            "automargin": true,
            "type": "pie"
           }
          ],
          "scatter": [
           {
            "fillpattern": {
             "fillmode": "overlay",
             "size": 10,
             "solidity": 0.2
            },
            "type": "scatter"
           }
          ],
          "scatter3d": [
           {
            "line": {
             "colorbar": {
              "outlinewidth": 0,
              "ticks": ""
             }
            },
            "marker": {
             "colorbar": {
              "outlinewidth": 0,
              "ticks": ""
             }
            },
            "type": "scatter3d"
           }
          ],
          "scattercarpet": [
           {
            "marker": {
             "colorbar": {
              "outlinewidth": 0,
              "ticks": ""
             }
            },
            "type": "scattercarpet"
           }
          ],
          "scattergeo": [
           {
            "marker": {
             "colorbar": {
              "outlinewidth": 0,
              "ticks": ""
             }
            },
            "type": "scattergeo"
           }
          ],
          "scattergl": [
           {
            "marker": {
             "colorbar": {
              "outlinewidth": 0,
              "ticks": ""
             }
            },
            "type": "scattergl"
           }
          ],
          "scattermapbox": [
           {
            "marker": {
             "colorbar": {
              "outlinewidth": 0,
              "ticks": ""
             }
            },
            "type": "scattermapbox"
           }
          ],
          "scatterpolar": [
           {
            "marker": {
             "colorbar": {
              "outlinewidth": 0,
              "ticks": ""
             }
            },
            "type": "scatterpolar"
           }
          ],
          "scatterpolargl": [
           {
            "marker": {
             "colorbar": {
              "outlinewidth": 0,
              "ticks": ""
             }
            },
            "type": "scatterpolargl"
           }
          ],
          "scatterternary": [
           {
            "marker": {
             "colorbar": {
              "outlinewidth": 0,
              "ticks": ""
             }
            },
            "type": "scatterternary"
           }
          ],
          "surface": [
           {
            "colorbar": {
             "outlinewidth": 0,
             "ticks": ""
            },
            "colorscale": [
             [
              0,
              "#0d0887"
             ],
             [
              0.1111111111111111,
              "#46039f"
             ],
             [
              0.2222222222222222,
              "#7201a8"
             ],
             [
              0.3333333333333333,
              "#9c179e"
             ],
             [
              0.4444444444444444,
              "#bd3786"
             ],
             [
              0.5555555555555556,
              "#d8576b"
             ],
             [
              0.6666666666666666,
              "#ed7953"
             ],
             [
              0.7777777777777778,
              "#fb9f3a"
             ],
             [
              0.8888888888888888,
              "#fdca26"
             ],
             [
              1,
              "#f0f921"
             ]
            ],
            "type": "surface"
           }
          ],
          "table": [
           {
            "cells": {
             "fill": {
              "color": "#EBF0F8"
             },
             "line": {
              "color": "white"
             }
            },
            "header": {
             "fill": {
              "color": "#C8D4E3"
             },
             "line": {
              "color": "white"
             }
            },
            "type": "table"
           }
          ]
         },
         "layout": {
          "annotationdefaults": {
           "arrowcolor": "#2a3f5f",
           "arrowhead": 0,
           "arrowwidth": 1
          },
          "autotypenumbers": "strict",
          "coloraxis": {
           "colorbar": {
            "outlinewidth": 0,
            "ticks": ""
           }
          },
          "colorscale": {
           "diverging": [
            [
             0,
             "#8e0152"
            ],
            [
             0.1,
             "#c51b7d"
            ],
            [
             0.2,
             "#de77ae"
            ],
            [
             0.3,
             "#f1b6da"
            ],
            [
             0.4,
             "#fde0ef"
            ],
            [
             0.5,
             "#f7f7f7"
            ],
            [
             0.6,
             "#e6f5d0"
            ],
            [
             0.7,
             "#b8e186"
            ],
            [
             0.8,
             "#7fbc41"
            ],
            [
             0.9,
             "#4d9221"
            ],
            [
             1,
             "#276419"
            ]
           ],
           "sequential": [
            [
             0,
             "#0d0887"
            ],
            [
             0.1111111111111111,
             "#46039f"
            ],
            [
             0.2222222222222222,
             "#7201a8"
            ],
            [
             0.3333333333333333,
             "#9c179e"
            ],
            [
             0.4444444444444444,
             "#bd3786"
            ],
            [
             0.5555555555555556,
             "#d8576b"
            ],
            [
             0.6666666666666666,
             "#ed7953"
            ],
            [
             0.7777777777777778,
             "#fb9f3a"
            ],
            [
             0.8888888888888888,
             "#fdca26"
            ],
            [
             1,
             "#f0f921"
            ]
           ],
           "sequentialminus": [
            [
             0,
             "#0d0887"
            ],
            [
             0.1111111111111111,
             "#46039f"
            ],
            [
             0.2222222222222222,
             "#7201a8"
            ],
            [
             0.3333333333333333,
             "#9c179e"
            ],
            [
             0.4444444444444444,
             "#bd3786"
            ],
            [
             0.5555555555555556,
             "#d8576b"
            ],
            [
             0.6666666666666666,
             "#ed7953"
            ],
            [
             0.7777777777777778,
             "#fb9f3a"
            ],
            [
             0.8888888888888888,
             "#fdca26"
            ],
            [
             1,
             "#f0f921"
            ]
           ]
          },
          "colorway": [
           "#636efa",
           "#EF553B",
           "#00cc96",
           "#ab63fa",
           "#FFA15A",
           "#19d3f3",
           "#FF6692",
           "#B6E880",
           "#FF97FF",
           "#FECB52"
          ],
          "font": {
           "color": "#2a3f5f"
          },
          "geo": {
           "bgcolor": "white",
           "lakecolor": "white",
           "landcolor": "#E5ECF6",
           "showlakes": true,
           "showland": true,
           "subunitcolor": "white"
          },
          "hoverlabel": {
           "align": "left"
          },
          "hovermode": "closest",
          "mapbox": {
           "style": "light"
          },
          "paper_bgcolor": "white",
          "plot_bgcolor": "#E5ECF6",
          "polar": {
           "angularaxis": {
            "gridcolor": "white",
            "linecolor": "white",
            "ticks": ""
           },
           "bgcolor": "#E5ECF6",
           "radialaxis": {
            "gridcolor": "white",
            "linecolor": "white",
            "ticks": ""
           }
          },
          "scene": {
           "xaxis": {
            "backgroundcolor": "#E5ECF6",
            "gridcolor": "white",
            "gridwidth": 2,
            "linecolor": "white",
            "showbackground": true,
            "ticks": "",
            "zerolinecolor": "white"
           },
           "yaxis": {
            "backgroundcolor": "#E5ECF6",
            "gridcolor": "white",
            "gridwidth": 2,
            "linecolor": "white",
            "showbackground": true,
            "ticks": "",
            "zerolinecolor": "white"
           },
           "zaxis": {
            "backgroundcolor": "#E5ECF6",
            "gridcolor": "white",
            "gridwidth": 2,
            "linecolor": "white",
            "showbackground": true,
            "ticks": "",
            "zerolinecolor": "white"
           }
          },
          "shapedefaults": {
           "line": {
            "color": "#2a3f5f"
           }
          },
          "ternary": {
           "aaxis": {
            "gridcolor": "white",
            "linecolor": "white",
            "ticks": ""
           },
           "baxis": {
            "gridcolor": "white",
            "linecolor": "white",
            "ticks": ""
           },
           "bgcolor": "#E5ECF6",
           "caxis": {
            "gridcolor": "white",
            "linecolor": "white",
            "ticks": ""
           }
          },
          "title": {
           "x": 0.05
          },
          "xaxis": {
           "automargin": true,
           "gridcolor": "white",
           "linecolor": "white",
           "ticks": "",
           "title": {
            "standoff": 15
           },
           "zerolinecolor": "white",
           "zerolinewidth": 2
          },
          "yaxis": {
           "automargin": true,
           "gridcolor": "white",
           "linecolor": "white",
           "ticks": "",
           "title": {
            "standoff": 15
           },
           "zerolinecolor": "white",
           "zerolinewidth": 2
          }
         }
        },
        "title": {
         "text": "Percent Change vs Stability (-10%)"
        },
        "xaxis": {
         "title": {
          "text": "Stability (TotalNPK -10%)"
         }
        },
        "yaxis": {
         "title": {
          "text": "Percent Change"
         }
        }
       }
      }
     },
     "metadata": {},
     "output_type": "display_data"
    },
    {
     "data": {
      "application/vnd.plotly.v1+json": {
       "config": {
        "plotlyServerURL": "https://plot.ly"
       },
       "data": [
        {
         "hovertemplate": "%{text}<br>Percent Change in: %{y:.2f}<br>Stability: %{x:.2f}",
         "marker": {
          "color": "red",
          "size": 7,
          "symbol": "star"
         },
         "mode": "markers",
         "name": "Rice_Production +20%",
         "text": [
          "BENGALURU",
          "BENGALURU(R)",
          "RAMANAGARA",
          "CHITRADURGA",
          "DAVANAGERE",
          "KOLAR",
          "CHIKKABALLAPURA",
          "SHIVAMOGGA",
          "TUMAKURU",
          "CHIKKAMAGALURU",
          "DAKSHINA KANNADA",
          "UDUPI",
          "HASSAN",
          "KODAGU",
          "MANDYA",
          "MYSURU",
          "CHAMARAJANAGAR",
          "BELAGAVI",
          "VIJAYAPURA",
          "BAGALKOT",
          "DHARAWAD",
          "GADAG",
          "HAVERI",
          "UTTARA KANNADA",
          "BALLARI",
          "BIDAR",
          "KALABURAGI",
          "YADGIRI",
          "RAICHUR",
          "KOPPAL",
          "Vijayanagara"
         ],
         "type": "scatter",
         "x": [
          0.9347668480449552,
          0.9738228601392392,
          0.8199915728504515,
          0.7878438122501716,
          0.7023690689275103,
          0.9960316856898859,
          0.9945110708120919,
          0.965153883773028,
          0.9860860234960929,
          0.8485989636133678,
          0.8073681393903512,
          0.7618471840910328,
          0.8577538359962896,
          0.9436980078473539,
          0.8564804436663693,
          0.9080230338817521,
          0.8641281554598168,
          0,
          0.6307942171506719,
          0.9722850770289541,
          0.761330297662815,
          0.5863265329146901,
          0.9034052173067276,
          0.6127469711558977,
          0.9610515871750642,
          0.792051010252378,
          0.987633967397036,
          0.8884825195509379,
          0.6834143592153431,
          0.9798238931763145,
          0.9944988077888837
         ],
         "y": [
          2210.937011729699,
          2764.7783862843357,
          202.20767193174854,
          2327.898529845397,
          -43.33348906699417,
          8591.2073788962,
          3280.241807172008,
          -57.143303596525534,
          348.39464439102545,
          75.8571580877813,
          -50.45978976753387,
          -75.97372529398605,
          36.295666628604046,
          43.77405873590919,
          -28.89634408122805,
          -49.43811490856177,
          72.94322367602503,
          174.41948800488802,
          93293.21934121742,
          280661.61798825976,
          237.6612799510764,
          973.8341126668606,
          49.02111059582477,
          -62.64986767157107,
          -13.547548497250036,
          3904.8095667948705,
          1905.2025049589802,
          13.872624858943885,
          -34.32830135917131,
          -14.072133866064988,
          -13.548815641619132
         ]
        },
        {
         "hovertemplate": "%{text}<br>Percent Change in: %{y:.2f}<br>Stability: %{x:.2f}",
         "marker": {
          "color": "blue",
          "size": 7,
          "symbol": "triangle-up"
         },
         "mode": "markers",
         "name": "Maize_Production +20%",
         "text": [
          "BENGALURU",
          "BENGALURU(R)",
          "RAMANAGARA",
          "CHITRADURGA",
          "DAVANAGERE",
          "KOLAR",
          "CHIKKABALLAPURA",
          "SHIVAMOGGA",
          "TUMAKURU",
          "CHIKKAMAGALURU",
          "DAKSHINA KANNADA",
          "UDUPI",
          "HASSAN",
          "KODAGU",
          "MANDYA",
          "MYSURU",
          "CHAMARAJANAGAR",
          "BELAGAVI",
          "VIJAYAPURA",
          "BAGALKOT",
          "DHARAWAD",
          "GADAG",
          "HAVERI",
          "UTTARA KANNADA",
          "BALLARI",
          "BIDAR",
          "KALABURAGI",
          "YADGIRI",
          "RAICHUR",
          "KOPPAL",
          "Vijayanagara"
         ],
         "type": "scatter",
         "x": [
          0.9347668480449552,
          0.9738228601392392,
          0.8199915728504515,
          0.7878438122501716,
          0.7023690689275103,
          0.9960316856898859,
          0.9945110708120919,
          0.965153883773028,
          0.9860860234960929,
          0.8485989636133678,
          0.8073681393903512,
          0.7618471840910328,
          0.8577538359962896,
          0.9436980078473539,
          0.8564804436663693,
          0.9080230338817521,
          0.8641281554598168,
          0,
          0.6307942171506719,
          0.9722850770289541,
          0.761330297662815,
          0.5863265329146901,
          0.9034052173067276,
          0.6127469711558977,
          0.9610515871750642,
          0.792051010252378,
          0.987633967397036,
          0.8884825195509379,
          0.6834143592153431,
          0.9798238931763145,
          0.9944988077888837
         ],
         "y": [
          2269.208268110333,
          28.99457453969646,
          55.888229078766024,
          -59.76510995718954,
          -46.348869192892764,
          3569.015855648796,
          -19.657335562120924,
          -21.70276166321971,
          74.74808852851244,
          249.22577690694007,
          null,
          10863.359797363632,
          -35.280464699285616,
          603.2312178005097,
          881.6561407177355,
          42.23912410895187,
          -52.78415184149149,
          0.8802799108234222,
          -25.08050392111825,
          7.200144172681741,
          26.151574713410707,
          -50.813742576445016,
          -50.451053270860534,
          74.37750110502141,
          86.40259245043778,
          2502.2371610800706,
          1054.5882891822362,
          10800.936013701594,
          51920.58559985974,
          22.42175172021713,
          86.39944175573663
         ]
        }
       ],
       "layout": {
        "hovermode": "closest",
        "shapes": [
         {
          "line": {
           "color": "black",
           "dash": "dash"
          },
          "name": "Average Stability",
          "type": "line",
          "x0": 0.831042549925983,
          "x1": 0.831042549925983,
          "y0": 0,
          "y1": 280661.61798825976
         },
         {
          "line": {
           "color": "black",
           "dash": "dash"
          },
          "name": "Average Impact",
          "type": "line",
          "x0": 0,
          "x1": 1,
          "y0": 12926.60652003022,
          "y1": 12926.60652003022
         }
        ],
        "template": {
         "data": {
          "bar": [
           {
            "error_x": {
             "color": "#2a3f5f"
            },
            "error_y": {
             "color": "#2a3f5f"
            },
            "marker": {
             "line": {
              "color": "#E5ECF6",
              "width": 0.5
             },
             "pattern": {
              "fillmode": "overlay",
              "size": 10,
              "solidity": 0.2
             }
            },
            "type": "bar"
           }
          ],
          "barpolar": [
           {
            "marker": {
             "line": {
              "color": "#E5ECF6",
              "width": 0.5
             },
             "pattern": {
              "fillmode": "overlay",
              "size": 10,
              "solidity": 0.2
             }
            },
            "type": "barpolar"
           }
          ],
          "carpet": [
           {
            "aaxis": {
             "endlinecolor": "#2a3f5f",
             "gridcolor": "white",
             "linecolor": "white",
             "minorgridcolor": "white",
             "startlinecolor": "#2a3f5f"
            },
            "baxis": {
             "endlinecolor": "#2a3f5f",
             "gridcolor": "white",
             "linecolor": "white",
             "minorgridcolor": "white",
             "startlinecolor": "#2a3f5f"
            },
            "type": "carpet"
           }
          ],
          "choropleth": [
           {
            "colorbar": {
             "outlinewidth": 0,
             "ticks": ""
            },
            "type": "choropleth"
           }
          ],
          "contour": [
           {
            "colorbar": {
             "outlinewidth": 0,
             "ticks": ""
            },
            "colorscale": [
             [
              0,
              "#0d0887"
             ],
             [
              0.1111111111111111,
              "#46039f"
             ],
             [
              0.2222222222222222,
              "#7201a8"
             ],
             [
              0.3333333333333333,
              "#9c179e"
             ],
             [
              0.4444444444444444,
              "#bd3786"
             ],
             [
              0.5555555555555556,
              "#d8576b"
             ],
             [
              0.6666666666666666,
              "#ed7953"
             ],
             [
              0.7777777777777778,
              "#fb9f3a"
             ],
             [
              0.8888888888888888,
              "#fdca26"
             ],
             [
              1,
              "#f0f921"
             ]
            ],
            "type": "contour"
           }
          ],
          "contourcarpet": [
           {
            "colorbar": {
             "outlinewidth": 0,
             "ticks": ""
            },
            "type": "contourcarpet"
           }
          ],
          "heatmap": [
           {
            "colorbar": {
             "outlinewidth": 0,
             "ticks": ""
            },
            "colorscale": [
             [
              0,
              "#0d0887"
             ],
             [
              0.1111111111111111,
              "#46039f"
             ],
             [
              0.2222222222222222,
              "#7201a8"
             ],
             [
              0.3333333333333333,
              "#9c179e"
             ],
             [
              0.4444444444444444,
              "#bd3786"
             ],
             [
              0.5555555555555556,
              "#d8576b"
             ],
             [
              0.6666666666666666,
              "#ed7953"
             ],
             [
              0.7777777777777778,
              "#fb9f3a"
             ],
             [
              0.8888888888888888,
              "#fdca26"
             ],
             [
              1,
              "#f0f921"
             ]
            ],
            "type": "heatmap"
           }
          ],
          "heatmapgl": [
           {
            "colorbar": {
             "outlinewidth": 0,
             "ticks": ""
            },
            "colorscale": [
             [
              0,
              "#0d0887"
             ],
             [
              0.1111111111111111,
              "#46039f"
             ],
             [
              0.2222222222222222,
              "#7201a8"
             ],
             [
              0.3333333333333333,
              "#9c179e"
             ],
             [
              0.4444444444444444,
              "#bd3786"
             ],
             [
              0.5555555555555556,
              "#d8576b"
             ],
             [
              0.6666666666666666,
              "#ed7953"
             ],
             [
              0.7777777777777778,
              "#fb9f3a"
             ],
             [
              0.8888888888888888,
              "#fdca26"
             ],
             [
              1,
              "#f0f921"
             ]
            ],
            "type": "heatmapgl"
           }
          ],
          "histogram": [
           {
            "marker": {
             "pattern": {
              "fillmode": "overlay",
              "size": 10,
              "solidity": 0.2
             }
            },
            "type": "histogram"
           }
          ],
          "histogram2d": [
           {
            "colorbar": {
             "outlinewidth": 0,
             "ticks": ""
            },
            "colorscale": [
             [
              0,
              "#0d0887"
             ],
             [
              0.1111111111111111,
              "#46039f"
             ],
             [
              0.2222222222222222,
              "#7201a8"
             ],
             [
              0.3333333333333333,
              "#9c179e"
             ],
             [
              0.4444444444444444,
              "#bd3786"
             ],
             [
              0.5555555555555556,
              "#d8576b"
             ],
             [
              0.6666666666666666,
              "#ed7953"
             ],
             [
              0.7777777777777778,
              "#fb9f3a"
             ],
             [
              0.8888888888888888,
              "#fdca26"
             ],
             [
              1,
              "#f0f921"
             ]
            ],
            "type": "histogram2d"
           }
          ],
          "histogram2dcontour": [
           {
            "colorbar": {
             "outlinewidth": 0,
             "ticks": ""
            },
            "colorscale": [
             [
              0,
              "#0d0887"
             ],
             [
              0.1111111111111111,
              "#46039f"
             ],
             [
              0.2222222222222222,
              "#7201a8"
             ],
             [
              0.3333333333333333,
              "#9c179e"
             ],
             [
              0.4444444444444444,
              "#bd3786"
             ],
             [
              0.5555555555555556,
              "#d8576b"
             ],
             [
              0.6666666666666666,
              "#ed7953"
             ],
             [
              0.7777777777777778,
              "#fb9f3a"
             ],
             [
              0.8888888888888888,
              "#fdca26"
             ],
             [
              1,
              "#f0f921"
             ]
            ],
            "type": "histogram2dcontour"
           }
          ],
          "mesh3d": [
           {
            "colorbar": {
             "outlinewidth": 0,
             "ticks": ""
            },
            "type": "mesh3d"
           }
          ],
          "parcoords": [
           {
            "line": {
             "colorbar": {
              "outlinewidth": 0,
              "ticks": ""
             }
            },
            "type": "parcoords"
           }
          ],
          "pie": [
           {
            "automargin": true,
            "type": "pie"
           }
          ],
          "scatter": [
           {
            "fillpattern": {
             "fillmode": "overlay",
             "size": 10,
             "solidity": 0.2
            },
            "type": "scatter"
           }
          ],
          "scatter3d": [
           {
            "line": {
             "colorbar": {
              "outlinewidth": 0,
              "ticks": ""
             }
            },
            "marker": {
             "colorbar": {
              "outlinewidth": 0,
              "ticks": ""
             }
            },
            "type": "scatter3d"
           }
          ],
          "scattercarpet": [
           {
            "marker": {
             "colorbar": {
              "outlinewidth": 0,
              "ticks": ""
             }
            },
            "type": "scattercarpet"
           }
          ],
          "scattergeo": [
           {
            "marker": {
             "colorbar": {
              "outlinewidth": 0,
              "ticks": ""
             }
            },
            "type": "scattergeo"
           }
          ],
          "scattergl": [
           {
            "marker": {
             "colorbar": {
              "outlinewidth": 0,
              "ticks": ""
             }
            },
            "type": "scattergl"
           }
          ],
          "scattermapbox": [
           {
            "marker": {
             "colorbar": {
              "outlinewidth": 0,
              "ticks": ""
             }
            },
            "type": "scattermapbox"
           }
          ],
          "scatterpolar": [
           {
            "marker": {
             "colorbar": {
              "outlinewidth": 0,
              "ticks": ""
             }
            },
            "type": "scatterpolar"
           }
          ],
          "scatterpolargl": [
           {
            "marker": {
             "colorbar": {
              "outlinewidth": 0,
              "ticks": ""
             }
            },
            "type": "scatterpolargl"
           }
          ],
          "scatterternary": [
           {
            "marker": {
             "colorbar": {
              "outlinewidth": 0,
              "ticks": ""
             }
            },
            "type": "scatterternary"
           }
          ],
          "surface": [
           {
            "colorbar": {
             "outlinewidth": 0,
             "ticks": ""
            },
            "colorscale": [
             [
              0,
              "#0d0887"
             ],
             [
              0.1111111111111111,
              "#46039f"
             ],
             [
              0.2222222222222222,
              "#7201a8"
             ],
             [
              0.3333333333333333,
              "#9c179e"
             ],
             [
              0.4444444444444444,
              "#bd3786"
             ],
             [
              0.5555555555555556,
              "#d8576b"
             ],
             [
              0.6666666666666666,
              "#ed7953"
             ],
             [
              0.7777777777777778,
              "#fb9f3a"
             ],
             [
              0.8888888888888888,
              "#fdca26"
             ],
             [
              1,
              "#f0f921"
             ]
            ],
            "type": "surface"
           }
          ],
          "table": [
           {
            "cells": {
             "fill": {
              "color": "#EBF0F8"
             },
             "line": {
              "color": "white"
             }
            },
            "header": {
             "fill": {
              "color": "#C8D4E3"
             },
             "line": {
              "color": "white"
             }
            },
            "type": "table"
           }
          ]
         },
         "layout": {
          "annotationdefaults": {
           "arrowcolor": "#2a3f5f",
           "arrowhead": 0,
           "arrowwidth": 1
          },
          "autotypenumbers": "strict",
          "coloraxis": {
           "colorbar": {
            "outlinewidth": 0,
            "ticks": ""
           }
          },
          "colorscale": {
           "diverging": [
            [
             0,
             "#8e0152"
            ],
            [
             0.1,
             "#c51b7d"
            ],
            [
             0.2,
             "#de77ae"
            ],
            [
             0.3,
             "#f1b6da"
            ],
            [
             0.4,
             "#fde0ef"
            ],
            [
             0.5,
             "#f7f7f7"
            ],
            [
             0.6,
             "#e6f5d0"
            ],
            [
             0.7,
             "#b8e186"
            ],
            [
             0.8,
             "#7fbc41"
            ],
            [
             0.9,
             "#4d9221"
            ],
            [
             1,
             "#276419"
            ]
           ],
           "sequential": [
            [
             0,
             "#0d0887"
            ],
            [
             0.1111111111111111,
             "#46039f"
            ],
            [
             0.2222222222222222,
             "#7201a8"
            ],
            [
             0.3333333333333333,
             "#9c179e"
            ],
            [
             0.4444444444444444,
             "#bd3786"
            ],
            [
             0.5555555555555556,
             "#d8576b"
            ],
            [
             0.6666666666666666,
             "#ed7953"
            ],
            [
             0.7777777777777778,
             "#fb9f3a"
            ],
            [
             0.8888888888888888,
             "#fdca26"
            ],
            [
             1,
             "#f0f921"
            ]
           ],
           "sequentialminus": [
            [
             0,
             "#0d0887"
            ],
            [
             0.1111111111111111,
             "#46039f"
            ],
            [
             0.2222222222222222,
             "#7201a8"
            ],
            [
             0.3333333333333333,
             "#9c179e"
            ],
            [
             0.4444444444444444,
             "#bd3786"
            ],
            [
             0.5555555555555556,
             "#d8576b"
            ],
            [
             0.6666666666666666,
             "#ed7953"
            ],
            [
             0.7777777777777778,
             "#fb9f3a"
            ],
            [
             0.8888888888888888,
             "#fdca26"
            ],
            [
             1,
             "#f0f921"
            ]
           ]
          },
          "colorway": [
           "#636efa",
           "#EF553B",
           "#00cc96",
           "#ab63fa",
           "#FFA15A",
           "#19d3f3",
           "#FF6692",
           "#B6E880",
           "#FF97FF",
           "#FECB52"
          ],
          "font": {
           "color": "#2a3f5f"
          },
          "geo": {
           "bgcolor": "white",
           "lakecolor": "white",
           "landcolor": "#E5ECF6",
           "showlakes": true,
           "showland": true,
           "subunitcolor": "white"
          },
          "hoverlabel": {
           "align": "left"
          },
          "hovermode": "closest",
          "mapbox": {
           "style": "light"
          },
          "paper_bgcolor": "white",
          "plot_bgcolor": "#E5ECF6",
          "polar": {
           "angularaxis": {
            "gridcolor": "white",
            "linecolor": "white",
            "ticks": ""
           },
           "bgcolor": "#E5ECF6",
           "radialaxis": {
            "gridcolor": "white",
            "linecolor": "white",
            "ticks": ""
           }
          },
          "scene": {
           "xaxis": {
            "backgroundcolor": "#E5ECF6",
            "gridcolor": "white",
            "gridwidth": 2,
            "linecolor": "white",
            "showbackground": true,
            "ticks": "",
            "zerolinecolor": "white"
           },
           "yaxis": {
            "backgroundcolor": "#E5ECF6",
            "gridcolor": "white",
            "gridwidth": 2,
            "linecolor": "white",
            "showbackground": true,
            "ticks": "",
            "zerolinecolor": "white"
           },
           "zaxis": {
            "backgroundcolor": "#E5ECF6",
            "gridcolor": "white",
            "gridwidth": 2,
            "linecolor": "white",
            "showbackground": true,
            "ticks": "",
            "zerolinecolor": "white"
           }
          },
          "shapedefaults": {
           "line": {
            "color": "#2a3f5f"
           }
          },
          "ternary": {
           "aaxis": {
            "gridcolor": "white",
            "linecolor": "white",
            "ticks": ""
           },
           "baxis": {
            "gridcolor": "white",
            "linecolor": "white",
            "ticks": ""
           },
           "bgcolor": "#E5ECF6",
           "caxis": {
            "gridcolor": "white",
            "linecolor": "white",
            "ticks": ""
           }
          },
          "title": {
           "x": 0.05
          },
          "xaxis": {
           "automargin": true,
           "gridcolor": "white",
           "linecolor": "white",
           "ticks": "",
           "title": {
            "standoff": 15
           },
           "zerolinecolor": "white",
           "zerolinewidth": 2
          },
          "yaxis": {
           "automargin": true,
           "gridcolor": "white",
           "linecolor": "white",
           "ticks": "",
           "title": {
            "standoff": 15
           },
           "zerolinecolor": "white",
           "zerolinewidth": 2
          }
         }
        },
        "title": {
         "text": "Percent Change vs Stability (+20%)"
        },
        "xaxis": {
         "title": {
          "text": "Stability (TotalNPK +20%)"
         }
        },
        "yaxis": {
         "title": {
          "text": "Percent Change"
         }
        }
       }
      }
     },
     "metadata": {},
     "output_type": "display_data"
    },
    {
     "data": {
      "application/vnd.plotly.v1+json": {
       "config": {
        "plotlyServerURL": "https://plot.ly"
       },
       "data": [
        {
         "hovertemplate": "%{text}<br>Percent Change: %{y:.2f}<br>Stability: %{x:.2f}",
         "marker": {
          "color": "red",
          "size": 7,
          "symbol": "star"
         },
         "mode": "markers",
         "name": "Rice_Production -20%",
         "text": [
          "BENGALURU",
          "BENGALURU(R)",
          "RAMANAGARA",
          "CHITRADURGA",
          "DAVANAGERE",
          "KOLAR",
          "CHIKKABALLAPURA",
          "SHIVAMOGGA",
          "TUMAKURU",
          "CHIKKAMAGALURU",
          "DAKSHINA KANNADA",
          "UDUPI",
          "HASSAN",
          "KODAGU",
          "MANDYA",
          "MYSURU",
          "CHAMARAJANAGAR",
          "BELAGAVI",
          "VIJAYAPURA",
          "BAGALKOT",
          "DHARAWAD",
          "GADAG",
          "HAVERI",
          "UTTARA KANNADA",
          "BALLARI",
          "BIDAR",
          "KALABURAGI",
          "YADGIRI",
          "RAICHUR",
          "KOPPAL",
          "Vijayanagara"
         ],
         "type": "scatter",
         "x": [
          0.9591567749033797,
          0.985194116299569,
          0.8826399247737104,
          0.8612080843735239,
          0.8042249221584163,
          1,
          0.9989862567481373,
          0.9794147987220948,
          0.9933695585374713,
          0.9017115186156547,
          0.8742243024669769,
          0.8438769989340981,
          0.907814766870936,
          0.965110881438312,
          0.906965838650989,
          0.9413275654612442,
          0.9120643131799541,
          0.33597887620674277,
          0.7565083543071907,
          0.9841689275593788,
          0.8435324079819528,
          0.7268632314832028,
          0.9382490210778945,
          0.7444768569773415,
          0.9766799343234521,
          0.8640128830416615,
          0.9944015211381003,
          0.9283005559073682,
          0.7915884490169717,
          0.9891948049909524,
          0.998978081399332
         ],
         "y": [
          1609.8236460254782,
          2052.5097460172433,
          148.57070344447038,
          1643.70101900243,
          -61.05540082854504,
          6355.26756731472,
          2365.2127471271647,
          -69.94509164583455,
          220.8641661189526,
          22.405935161386477,
          -62.66499237650578,
          -79.84791298649053,
          -5.16130329616411,
          2.4680963810352665,
          -50.28066170186578,
          -64.67950690346689,
          27.75221064144805,
          86.16349961745458,
          65522.2387446295,
          193794.59702647565,
          141.91341975601316,
          694.5909416376994,
          3.901757400472513,
          -71.36601196397397,
          -39.59370100391894,
          2850.430867671223,
          1309.2174569802228,
          -21.54232675578236,
          -55.05866647696597,
          -40.36894893378669,
          -39.59454576683166
         ]
        },
        {
         "hovertemplate": "%{text}<br>Percent Change: %{y:.2f}<br>Stability: %{x:.2f}",
         "marker": {
          "color": "blue",
          "size": 7,
          "symbol": "triangle-up"
         },
         "mode": "markers",
         "name": "Maize_Production -20%",
         "text": [
          "BENGALURU",
          "BENGALURU(R)",
          "RAMANAGARA",
          "CHITRADURGA",
          "DAVANAGERE",
          "KOLAR",
          "CHIKKABALLAPURA",
          "SHIVAMOGGA",
          "TUMAKURU",
          "CHIKKAMAGALURU",
          "DAKSHINA KANNADA",
          "UDUPI",
          "HASSAN",
          "KODAGU",
          "MANDYA",
          "MYSURU",
          "CHAMARAJANAGAR",
          "BELAGAVI",
          "VIJAYAPURA",
          "BAGALKOT",
          "DHARAWAD",
          "GADAG",
          "HAVERI",
          "UTTARA KANNADA",
          "BALLARI",
          "BIDAR",
          "KALABURAGI",
          "YADGIRI",
          "RAICHUR",
          "KOPPAL",
          "Vijayanagara"
         ],
         "type": "scatter",
         "x": [
          0.9591567749033797,
          0.985194116299569,
          0.8826399247737104,
          0.8612080843735239,
          0.8042249221584163,
          1,
          0.9989862567481373,
          0.9794147987220948,
          0.9933695585374713,
          0.9017115186156547,
          0.8742243024669769,
          0.8438769989340981,
          0.907814766870936,
          0.965110881438312,
          0.906965838650989,
          0.9413275654612442,
          0.9120643131799541,
          0.33597887620674277,
          0.7565083543071907,
          0.9841689275593788,
          0.8435324079819528,
          0.7268632314832028,
          0.9382490210778945,
          0.7444768569773415,
          0.9766799343234521,
          0.8640128830416615,
          0.9944015211381003,
          0.9283005559073682,
          0.7915884490169717,
          0.9891948049909524,
          0.998978081399332
         ],
         "y": [
          1384.486137331865,
          -20.425541525931244,
          -22.24339559482526,
          -74.18221772939575,
          -64.69331162873445,
          2190.5445026584193,
          -49.03052839013558,
          -49.00902072676848,
          12.409104144509392,
          128.35994839425953,
          null,
          4700.055034193549,
          -57.67255452397174,
          353.56135016204246,
          540.3318505621551,
          -7.167769523225991,
          -70.37192747139824,
          -33.220621403332984,
          -51.26194232468043,
          -29.619712783131604,
          -18.91619331411114,
          -69.18397910991936,
          -67.62873138878255,
          4.8989269012444545,
          21.64006286820644,
          1536.8438305870025,
          651.0219618499185,
          7064.984348373206,
          34202.1541437313,
          -19.82288092125965,
          21.63796240507235
         ]
        }
       ],
       "layout": {
        "hovermode": "closest",
        "shapes": [
         {
          "line": {
           "color": "black",
           "dash": "dash"
          },
          "name": "Average Stability",
          "type": "line",
          "x0": 0.8900072428240647,
          "x1": 0.8900072428240647,
          "y0": 0,
          "y1": 280661.61798825976
         },
         {
          "line": {
           "color": "black",
           "dash": "dash"
          },
          "name": "Average Impact",
          "type": "line",
          "x0": 0,
          "x1": 1,
          "y0": 8973.886144540722,
          "y1": 8973.886144540722
         }
        ],
        "template": {
         "data": {
          "bar": [
           {
            "error_x": {
             "color": "#2a3f5f"
            },
            "error_y": {
             "color": "#2a3f5f"
            },
            "marker": {
             "line": {
              "color": "#E5ECF6",
              "width": 0.5
             },
             "pattern": {
              "fillmode": "overlay",
              "size": 10,
              "solidity": 0.2
             }
            },
            "type": "bar"
           }
          ],
          "barpolar": [
           {
            "marker": {
             "line": {
              "color": "#E5ECF6",
              "width": 0.5
             },
             "pattern": {
              "fillmode": "overlay",
              "size": 10,
              "solidity": 0.2
             }
            },
            "type": "barpolar"
           }
          ],
          "carpet": [
           {
            "aaxis": {
             "endlinecolor": "#2a3f5f",
             "gridcolor": "white",
             "linecolor": "white",
             "minorgridcolor": "white",
             "startlinecolor": "#2a3f5f"
            },
            "baxis": {
             "endlinecolor": "#2a3f5f",
             "gridcolor": "white",
             "linecolor": "white",
             "minorgridcolor": "white",
             "startlinecolor": "#2a3f5f"
            },
            "type": "carpet"
           }
          ],
          "choropleth": [
           {
            "colorbar": {
             "outlinewidth": 0,
             "ticks": ""
            },
            "type": "choropleth"
           }
          ],
          "contour": [
           {
            "colorbar": {
             "outlinewidth": 0,
             "ticks": ""
            },
            "colorscale": [
             [
              0,
              "#0d0887"
             ],
             [
              0.1111111111111111,
              "#46039f"
             ],
             [
              0.2222222222222222,
              "#7201a8"
             ],
             [
              0.3333333333333333,
              "#9c179e"
             ],
             [
              0.4444444444444444,
              "#bd3786"
             ],
             [
              0.5555555555555556,
              "#d8576b"
             ],
             [
              0.6666666666666666,
              "#ed7953"
             ],
             [
              0.7777777777777778,
              "#fb9f3a"
             ],
             [
              0.8888888888888888,
              "#fdca26"
             ],
             [
              1,
              "#f0f921"
             ]
            ],
            "type": "contour"
           }
          ],
          "contourcarpet": [
           {
            "colorbar": {
             "outlinewidth": 0,
             "ticks": ""
            },
            "type": "contourcarpet"
           }
          ],
          "heatmap": [
           {
            "colorbar": {
             "outlinewidth": 0,
             "ticks": ""
            },
            "colorscale": [
             [
              0,
              "#0d0887"
             ],
             [
              0.1111111111111111,
              "#46039f"
             ],
             [
              0.2222222222222222,
              "#7201a8"
             ],
             [
              0.3333333333333333,
              "#9c179e"
             ],
             [
              0.4444444444444444,
              "#bd3786"
             ],
             [
              0.5555555555555556,
              "#d8576b"
             ],
             [
              0.6666666666666666,
              "#ed7953"
             ],
             [
              0.7777777777777778,
              "#fb9f3a"
             ],
             [
              0.8888888888888888,
              "#fdca26"
             ],
             [
              1,
              "#f0f921"
             ]
            ],
            "type": "heatmap"
           }
          ],
          "heatmapgl": [
           {
            "colorbar": {
             "outlinewidth": 0,
             "ticks": ""
            },
            "colorscale": [
             [
              0,
              "#0d0887"
             ],
             [
              0.1111111111111111,
              "#46039f"
             ],
             [
              0.2222222222222222,
              "#7201a8"
             ],
             [
              0.3333333333333333,
              "#9c179e"
             ],
             [
              0.4444444444444444,
              "#bd3786"
             ],
             [
              0.5555555555555556,
              "#d8576b"
             ],
             [
              0.6666666666666666,
              "#ed7953"
             ],
             [
              0.7777777777777778,
              "#fb9f3a"
             ],
             [
              0.8888888888888888,
              "#fdca26"
             ],
             [
              1,
              "#f0f921"
             ]
            ],
            "type": "heatmapgl"
           }
          ],
          "histogram": [
           {
            "marker": {
             "pattern": {
              "fillmode": "overlay",
              "size": 10,
              "solidity": 0.2
             }
            },
            "type": "histogram"
           }
          ],
          "histogram2d": [
           {
            "colorbar": {
             "outlinewidth": 0,
             "ticks": ""
            },
            "colorscale": [
             [
              0,
              "#0d0887"
             ],
             [
              0.1111111111111111,
              "#46039f"
             ],
             [
              0.2222222222222222,
              "#7201a8"
             ],
             [
              0.3333333333333333,
              "#9c179e"
             ],
             [
              0.4444444444444444,
              "#bd3786"
             ],
             [
              0.5555555555555556,
              "#d8576b"
             ],
             [
              0.6666666666666666,
              "#ed7953"
             ],
             [
              0.7777777777777778,
              "#fb9f3a"
             ],
             [
              0.8888888888888888,
              "#fdca26"
             ],
             [
              1,
              "#f0f921"
             ]
            ],
            "type": "histogram2d"
           }
          ],
          "histogram2dcontour": [
           {
            "colorbar": {
             "outlinewidth": 0,
             "ticks": ""
            },
            "colorscale": [
             [
              0,
              "#0d0887"
             ],
             [
              0.1111111111111111,
              "#46039f"
             ],
             [
              0.2222222222222222,
              "#7201a8"
             ],
             [
              0.3333333333333333,
              "#9c179e"
             ],
             [
              0.4444444444444444,
              "#bd3786"
             ],
             [
              0.5555555555555556,
              "#d8576b"
             ],
             [
              0.6666666666666666,
              "#ed7953"
             ],
             [
              0.7777777777777778,
              "#fb9f3a"
             ],
             [
              0.8888888888888888,
              "#fdca26"
             ],
             [
              1,
              "#f0f921"
             ]
            ],
            "type": "histogram2dcontour"
           }
          ],
          "mesh3d": [
           {
            "colorbar": {
             "outlinewidth": 0,
             "ticks": ""
            },
            "type": "mesh3d"
           }
          ],
          "parcoords": [
           {
            "line": {
             "colorbar": {
              "outlinewidth": 0,
              "ticks": ""
             }
            },
            "type": "parcoords"
           }
          ],
          "pie": [
           {
            "automargin": true,
            "type": "pie"
           }
          ],
          "scatter": [
           {
            "fillpattern": {
             "fillmode": "overlay",
             "size": 10,
             "solidity": 0.2
            },
            "type": "scatter"
           }
          ],
          "scatter3d": [
           {
            "line": {
             "colorbar": {
              "outlinewidth": 0,
              "ticks": ""
             }
            },
            "marker": {
             "colorbar": {
              "outlinewidth": 0,
              "ticks": ""
             }
            },
            "type": "scatter3d"
           }
          ],
          "scattercarpet": [
           {
            "marker": {
             "colorbar": {
              "outlinewidth": 0,
              "ticks": ""
             }
            },
            "type": "scattercarpet"
           }
          ],
          "scattergeo": [
           {
            "marker": {
             "colorbar": {
              "outlinewidth": 0,
              "ticks": ""
             }
            },
            "type": "scattergeo"
           }
          ],
          "scattergl": [
           {
            "marker": {
             "colorbar": {
              "outlinewidth": 0,
              "ticks": ""
             }
            },
            "type": "scattergl"
           }
          ],
          "scattermapbox": [
           {
            "marker": {
             "colorbar": {
              "outlinewidth": 0,
              "ticks": ""
             }
            },
            "type": "scattermapbox"
           }
          ],
          "scatterpolar": [
           {
            "marker": {
             "colorbar": {
              "outlinewidth": 0,
              "ticks": ""
             }
            },
            "type": "scatterpolar"
           }
          ],
          "scatterpolargl": [
           {
            "marker": {
             "colorbar": {
              "outlinewidth": 0,
              "ticks": ""
             }
            },
            "type": "scatterpolargl"
           }
          ],
          "scatterternary": [
           {
            "marker": {
             "colorbar": {
              "outlinewidth": 0,
              "ticks": ""
             }
            },
            "type": "scatterternary"
           }
          ],
          "surface": [
           {
            "colorbar": {
             "outlinewidth": 0,
             "ticks": ""
            },
            "colorscale": [
             [
              0,
              "#0d0887"
             ],
             [
              0.1111111111111111,
              "#46039f"
             ],
             [
              0.2222222222222222,
              "#7201a8"
             ],
             [
              0.3333333333333333,
              "#9c179e"
             ],
             [
              0.4444444444444444,
              "#bd3786"
             ],
             [
              0.5555555555555556,
              "#d8576b"
             ],
             [
              0.6666666666666666,
              "#ed7953"
             ],
             [
              0.7777777777777778,
              "#fb9f3a"
             ],
             [
              0.8888888888888888,
              "#fdca26"
             ],
             [
              1,
              "#f0f921"
             ]
            ],
            "type": "surface"
           }
          ],
          "table": [
           {
            "cells": {
             "fill": {
              "color": "#EBF0F8"
             },
             "line": {
              "color": "white"
             }
            },
            "header": {
             "fill": {
              "color": "#C8D4E3"
             },
             "line": {
              "color": "white"
             }
            },
            "type": "table"
           }
          ]
         },
         "layout": {
          "annotationdefaults": {
           "arrowcolor": "#2a3f5f",
           "arrowhead": 0,
           "arrowwidth": 1
          },
          "autotypenumbers": "strict",
          "coloraxis": {
           "colorbar": {
            "outlinewidth": 0,
            "ticks": ""
           }
          },
          "colorscale": {
           "diverging": [
            [
             0,
             "#8e0152"
            ],
            [
             0.1,
             "#c51b7d"
            ],
            [
             0.2,
             "#de77ae"
            ],
            [
             0.3,
             "#f1b6da"
            ],
            [
             0.4,
             "#fde0ef"
            ],
            [
             0.5,
             "#f7f7f7"
            ],
            [
             0.6,
             "#e6f5d0"
            ],
            [
             0.7,
             "#b8e186"
            ],
            [
             0.8,
             "#7fbc41"
            ],
            [
             0.9,
             "#4d9221"
            ],
            [
             1,
             "#276419"
            ]
           ],
           "sequential": [
            [
             0,
             "#0d0887"
            ],
            [
             0.1111111111111111,
             "#46039f"
            ],
            [
             0.2222222222222222,
             "#7201a8"
            ],
            [
             0.3333333333333333,
             "#9c179e"
            ],
            [
             0.4444444444444444,
             "#bd3786"
            ],
            [
             0.5555555555555556,
             "#d8576b"
            ],
            [
             0.6666666666666666,
             "#ed7953"
            ],
            [
             0.7777777777777778,
             "#fb9f3a"
            ],
            [
             0.8888888888888888,
             "#fdca26"
            ],
            [
             1,
             "#f0f921"
            ]
           ],
           "sequentialminus": [
            [
             0,
             "#0d0887"
            ],
            [
             0.1111111111111111,
             "#46039f"
            ],
            [
             0.2222222222222222,
             "#7201a8"
            ],
            [
             0.3333333333333333,
             "#9c179e"
            ],
            [
             0.4444444444444444,
             "#bd3786"
            ],
            [
             0.5555555555555556,
             "#d8576b"
            ],
            [
             0.6666666666666666,
             "#ed7953"
            ],
            [
             0.7777777777777778,
             "#fb9f3a"
            ],
            [
             0.8888888888888888,
             "#fdca26"
            ],
            [
             1,
             "#f0f921"
            ]
           ]
          },
          "colorway": [
           "#636efa",
           "#EF553B",
           "#00cc96",
           "#ab63fa",
           "#FFA15A",
           "#19d3f3",
           "#FF6692",
           "#B6E880",
           "#FF97FF",
           "#FECB52"
          ],
          "font": {
           "color": "#2a3f5f"
          },
          "geo": {
           "bgcolor": "white",
           "lakecolor": "white",
           "landcolor": "#E5ECF6",
           "showlakes": true,
           "showland": true,
           "subunitcolor": "white"
          },
          "hoverlabel": {
           "align": "left"
          },
          "hovermode": "closest",
          "mapbox": {
           "style": "light"
          },
          "paper_bgcolor": "white",
          "plot_bgcolor": "#E5ECF6",
          "polar": {
           "angularaxis": {
            "gridcolor": "white",
            "linecolor": "white",
            "ticks": ""
           },
           "bgcolor": "#E5ECF6",
           "radialaxis": {
            "gridcolor": "white",
            "linecolor": "white",
            "ticks": ""
           }
          },
          "scene": {
           "xaxis": {
            "backgroundcolor": "#E5ECF6",
            "gridcolor": "white",
            "gridwidth": 2,
            "linecolor": "white",
            "showbackground": true,
            "ticks": "",
            "zerolinecolor": "white"
           },
           "yaxis": {
            "backgroundcolor": "#E5ECF6",
            "gridcolor": "white",
            "gridwidth": 2,
            "linecolor": "white",
            "showbackground": true,
            "ticks": "",
            "zerolinecolor": "white"
           },
           "zaxis": {
            "backgroundcolor": "#E5ECF6",
            "gridcolor": "white",
            "gridwidth": 2,
            "linecolor": "white",
            "showbackground": true,
            "ticks": "",
            "zerolinecolor": "white"
           }
          },
          "shapedefaults": {
           "line": {
            "color": "#2a3f5f"
           }
          },
          "ternary": {
           "aaxis": {
            "gridcolor": "white",
            "linecolor": "white",
            "ticks": ""
           },
           "baxis": {
            "gridcolor": "white",
            "linecolor": "white",
            "ticks": ""
           },
           "bgcolor": "#E5ECF6",
           "caxis": {
            "gridcolor": "white",
            "linecolor": "white",
            "ticks": ""
           }
          },
          "title": {
           "x": 0.05
          },
          "xaxis": {
           "automargin": true,
           "gridcolor": "white",
           "linecolor": "white",
           "ticks": "",
           "title": {
            "standoff": 15
           },
           "zerolinecolor": "white",
           "zerolinewidth": 2
          },
          "yaxis": {
           "automargin": true,
           "gridcolor": "white",
           "linecolor": "white",
           "ticks": "",
           "title": {
            "standoff": 15
           },
           "zerolinecolor": "white",
           "zerolinewidth": 2
          }
         }
        },
        "title": {
         "text": "Percent Change vs Stability (-20%)"
        },
        "xaxis": {
         "title": {
          "text": "Stability (TotalNPK -20%)"
         }
        },
        "yaxis": {
         "title": {
          "text": "Percent Change"
         }
        }
       }
      }
     },
     "metadata": {},
     "output_type": "display_data"
    },
    {
     "data": {
      "text/html": [
       "<div>\n",
       "<style scoped>\n",
       "    .dataframe tbody tr th:only-of-type {\n",
       "        vertical-align: middle;\n",
       "    }\n",
       "\n",
       "    .dataframe tbody tr th {\n",
       "        vertical-align: top;\n",
       "    }\n",
       "\n",
       "    .dataframe thead th {\n",
       "        text-align: right;\n",
       "    }\n",
       "</style>\n",
       "<table border=\"1\" class=\"dataframe\">\n",
       "  <thead>\n",
       "    <tr style=\"text-align: right;\">\n",
       "      <th></th>\n",
       "      <th>District</th>\n",
       "      <th>Initial Stability</th>\n",
       "      <th>Rice_Production (TotalNPK +10%)</th>\n",
       "      <th>Rice_Production (TotalNPK -10%)</th>\n",
       "      <th>Normalized Rice_Production (TotalNPK +10%)</th>\n",
       "      <th>Normalized Rice_Production (TotalNPK -10%)</th>\n",
       "      <th>Percent Change in Rice_Production (TotalNPK +10%)</th>\n",
       "      <th>Percent Change in Rice_Production (TotalNPK -10%)</th>\n",
       "      <th>Maize_Production (TotalNPK +10%)</th>\n",
       "      <th>Maize_Production (TotalNPK -10%)</th>\n",
       "      <th>...</th>\n",
       "      <th>Percent Change in Rice_Production (TotalNPK +20%)</th>\n",
       "      <th>Percent Change in Rice_Production (TotalNPK -20%)</th>\n",
       "      <th>Maize_Production (TotalNPK +20%)</th>\n",
       "      <th>Maize_Production (TotalNPK -20%)</th>\n",
       "      <th>Normalized Maize_Production (TotalNPK +20%)</th>\n",
       "      <th>Normalized Maize_Production (TotalNPK -20%)</th>\n",
       "      <th>Percent Change in Maize_Production (TotalNPK +20%)</th>\n",
       "      <th>Percent Change in Maize_Production (TotalNPK -20%)</th>\n",
       "      <th>New Stability(NPK + 20%)_Rice_Maize</th>\n",
       "      <th>New Stability(NPK - 20%)_Rice_Maize</th>\n",
       "    </tr>\n",
       "  </thead>\n",
       "  <tbody>\n",
       "    <tr>\n",
       "      <th>0</th>\n",
       "      <td>BENGALURU</td>\n",
       "      <td>0.959409</td>\n",
       "      <td>72943.836709</td>\n",
       "      <td>62797.043096</td>\n",
       "      <td>0.117432</td>\n",
       "      <td>0.099835</td>\n",
       "      <td>2060.658670</td>\n",
       "      <td>1760.101987</td>\n",
       "      <td>61841.718503</td>\n",
       "      <td>49106.143430</td>\n",
       "      <td>...</td>\n",
       "      <td>2210.937012</td>\n",
       "      <td>1609.823646</td>\n",
       "      <td>68209.506039</td>\n",
       "      <td>42738.355894</td>\n",
       "      <td>0.109221</td>\n",
       "      <td>0.065047</td>\n",
       "      <td>2269.208268</td>\n",
       "      <td>1384.486137</td>\n",
       "      <td>0.934767</td>\n",
       "      <td>0.959157</td>\n",
       "    </tr>\n",
       "    <tr>\n",
       "      <th>1</th>\n",
       "      <td>BENGALURU(R)</td>\n",
       "      <td>0.983965</td>\n",
       "      <td>63245.182265</td>\n",
       "      <td>54861.780369</td>\n",
       "      <td>0.100612</td>\n",
       "      <td>0.086073</td>\n",
       "      <td>2586.711226</td>\n",
       "      <td>2230.576906</td>\n",
       "      <td>49668.617670</td>\n",
       "      <td>39146.333658</td>\n",
       "      <td>...</td>\n",
       "      <td>2764.778386</td>\n",
       "      <td>2052.509746</td>\n",
       "      <td>54929.759676</td>\n",
       "      <td>33885.191652</td>\n",
       "      <td>0.086190</td>\n",
       "      <td>0.049693</td>\n",
       "      <td>28.994575</td>\n",
       "      <td>-20.425542</td>\n",
       "      <td>0.973823</td>\n",
       "      <td>0.985194</td>\n",
       "    </tr>\n",
       "    <tr>\n",
       "      <th>2</th>\n",
       "      <td>RAMANAGARA</td>\n",
       "      <td>0.868345</td>\n",
       "      <td>35025.473567</td>\n",
       "      <td>31772.927798</td>\n",
       "      <td>0.051671</td>\n",
       "      <td>0.046030</td>\n",
       "      <td>188.798430</td>\n",
       "      <td>161.979946</td>\n",
       "      <td>14249.131244</td>\n",
       "      <td>10166.753855</td>\n",
       "      <td>...</td>\n",
       "      <td>202.207672</td>\n",
       "      <td>148.570703</td>\n",
       "      <td>16290.319939</td>\n",
       "      <td>8125.565160</td>\n",
       "      <td>0.019178</td>\n",
       "      <td>0.005018</td>\n",
       "      <td>55.888229</td>\n",
       "      <td>-22.243396</td>\n",
       "      <td>0.819992</td>\n",
       "      <td>0.882640</td>\n",
       "    </tr>\n",
       "    <tr>\n",
       "      <th>3</th>\n",
       "      <td>CHITRADURGA</td>\n",
       "      <td>0.562713</td>\n",
       "      <td>103047.732286</td>\n",
       "      <td>87427.503114</td>\n",
       "      <td>0.169641</td>\n",
       "      <td>0.142551</td>\n",
       "      <td>2156.849152</td>\n",
       "      <td>1814.750397</td>\n",
       "      <td>99626.109978</td>\n",
       "      <td>80020.645546</td>\n",
       "      <td>...</td>\n",
       "      <td>2327.898530</td>\n",
       "      <td>1643.701019</td>\n",
       "      <td>109428.842194</td>\n",
       "      <td>70217.913330</td>\n",
       "      <td>0.180708</td>\n",
       "      <td>0.112705</td>\n",
       "      <td>-59.765110</td>\n",
       "      <td>-74.182218</td>\n",
       "      <td>0.787844</td>\n",
       "      <td>0.861208</td>\n",
       "    </tr>\n",
       "    <tr>\n",
       "      <th>4</th>\n",
       "      <td>DAVANAGERE</td>\n",
       "      <td>0.072591</td>\n",
       "      <td>255697.993301</td>\n",
       "      <td>212323.171216</td>\n",
       "      <td>0.434382</td>\n",
       "      <td>0.359157</td>\n",
       "      <td>-47.763967</td>\n",
       "      <td>-56.624923</td>\n",
       "      <td>291222.483485</td>\n",
       "      <td>236781.314779</td>\n",
       "      <td>...</td>\n",
       "      <td>-43.333489</td>\n",
       "      <td>-61.055401</td>\n",
       "      <td>318443.067838</td>\n",
       "      <td>209560.730426</td>\n",
       "      <td>0.543200</td>\n",
       "      <td>0.354366</td>\n",
       "      <td>-46.348869</td>\n",
       "      <td>-64.693312</td>\n",
       "      <td>0.702369</td>\n",
       "      <td>0.804225</td>\n",
       "    </tr>\n",
       "  </tbody>\n",
       "</table>\n",
       "<p>5 rows × 30 columns</p>\n",
       "</div>"
      ],
      "text/plain": [
       "       District  Initial Stability  Rice_Production (TotalNPK +10%)  \\\n",
       "0     BENGALURU           0.959409                     72943.836709   \n",
       "1  BENGALURU(R)           0.983965                     63245.182265   \n",
       "2    RAMANAGARA           0.868345                     35025.473567   \n",
       "3   CHITRADURGA           0.562713                    103047.732286   \n",
       "4    DAVANAGERE           0.072591                    255697.993301   \n",
       "\n",
       "   Rice_Production (TotalNPK -10%)  \\\n",
       "0                     62797.043096   \n",
       "1                     54861.780369   \n",
       "2                     31772.927798   \n",
       "3                     87427.503114   \n",
       "4                    212323.171216   \n",
       "\n",
       "   Normalized Rice_Production (TotalNPK +10%)  \\\n",
       "0                                    0.117432   \n",
       "1                                    0.100612   \n",
       "2                                    0.051671   \n",
       "3                                    0.169641   \n",
       "4                                    0.434382   \n",
       "\n",
       "   Normalized Rice_Production (TotalNPK -10%)  \\\n",
       "0                                    0.099835   \n",
       "1                                    0.086073   \n",
       "2                                    0.046030   \n",
       "3                                    0.142551   \n",
       "4                                    0.359157   \n",
       "\n",
       "   Percent Change in Rice_Production (TotalNPK +10%)  \\\n",
       "0                                        2060.658670   \n",
       "1                                        2586.711226   \n",
       "2                                         188.798430   \n",
       "3                                        2156.849152   \n",
       "4                                         -47.763967   \n",
       "\n",
       "   Percent Change in Rice_Production (TotalNPK -10%)  \\\n",
       "0                                        1760.101987   \n",
       "1                                        2230.576906   \n",
       "2                                         161.979946   \n",
       "3                                        1814.750397   \n",
       "4                                         -56.624923   \n",
       "\n",
       "   Maize_Production (TotalNPK +10%)  Maize_Production (TotalNPK -10%)  ...  \\\n",
       "0                      61841.718503                      49106.143430  ...   \n",
       "1                      49668.617670                      39146.333658  ...   \n",
       "2                      14249.131244                      10166.753855  ...   \n",
       "3                      99626.109978                      80020.645546  ...   \n",
       "4                     291222.483485                     236781.314779  ...   \n",
       "\n",
       "   Percent Change in Rice_Production (TotalNPK +20%)  \\\n",
       "0                                        2210.937012   \n",
       "1                                        2764.778386   \n",
       "2                                         202.207672   \n",
       "3                                        2327.898530   \n",
       "4                                         -43.333489   \n",
       "\n",
       "   Percent Change in Rice_Production (TotalNPK -20%)  \\\n",
       "0                                        1609.823646   \n",
       "1                                        2052.509746   \n",
       "2                                         148.570703   \n",
       "3                                        1643.701019   \n",
       "4                                         -61.055401   \n",
       "\n",
       "   Maize_Production (TotalNPK +20%)  Maize_Production (TotalNPK -20%)  \\\n",
       "0                      68209.506039                      42738.355894   \n",
       "1                      54929.759676                      33885.191652   \n",
       "2                      16290.319939                       8125.565160   \n",
       "3                     109428.842194                      70217.913330   \n",
       "4                     318443.067838                     209560.730426   \n",
       "\n",
       "   Normalized Maize_Production (TotalNPK +20%)  \\\n",
       "0                                     0.109221   \n",
       "1                                     0.086190   \n",
       "2                                     0.019178   \n",
       "3                                     0.180708   \n",
       "4                                     0.543200   \n",
       "\n",
       "   Normalized Maize_Production (TotalNPK -20%)  \\\n",
       "0                                     0.065047   \n",
       "1                                     0.049693   \n",
       "2                                     0.005018   \n",
       "3                                     0.112705   \n",
       "4                                     0.354366   \n",
       "\n",
       "   Percent Change in Maize_Production (TotalNPK +20%)  \\\n",
       "0                                        2269.208268    \n",
       "1                                          28.994575    \n",
       "2                                          55.888229    \n",
       "3                                         -59.765110    \n",
       "4                                         -46.348869    \n",
       "\n",
       "   Percent Change in Maize_Production (TotalNPK -20%)  \\\n",
       "0                                        1384.486137    \n",
       "1                                         -20.425542    \n",
       "2                                         -22.243396    \n",
       "3                                         -74.182218    \n",
       "4                                         -64.693312    \n",
       "\n",
       "   New Stability(NPK + 20%)_Rice_Maize  New Stability(NPK - 20%)_Rice_Maize  \n",
       "0                             0.934767                             0.959157  \n",
       "1                             0.973823                             0.985194  \n",
       "2                             0.819992                             0.882640  \n",
       "3                             0.787844                             0.861208  \n",
       "4                             0.702369                             0.804225  \n",
       "\n",
       "[5 rows x 30 columns]"
      ]
     },
     "execution_count": 57,
     "metadata": {},
     "output_type": "execute_result"
    }
   ],
   "source": [
    "import statsmodels.api as sm\n",
    "import pandas as pd\n",
    "import plotly.express as px\n",
    "import plotly.graph_objects as go\n",
    "\n",
    "def calc_and_vis_impact_stability_2D(G, existing_data, adjacency_file, base_column, capability_vector, change_percentages, dim):\n",
    "    min_value = float('inf')\n",
    "    max_value = float('-inf')\n",
    "    \n",
    "    change_min_value = float('inf')\n",
    "    change_max_value = float('-inf')\n",
    "    \n",
    "    initial_stability_column = calculate_and_return_initial_stability(df, capability_vector, G)\n",
    "    existing_data = pd.concat([existing_data, initial_stability_column], axis=1)\n",
    "\n",
    "    col_pass_plus = []\n",
    "    col_pass_minus = []\n",
    "    result_df = pd.DataFrame()\n",
    "    \n",
    "    for intervention in change_percentages:\n",
    "        for cap_col in capability_vector:\n",
    "            X = sm.add_constant(df[base_column])\n",
    "            y = df[cap_col]\n",
    "            model = sm.OLS(y, X).fit()\n",
    "            m, c = model.params[base_column], model.params['const']\n",
    "\n",
    "            base_column_increase = (1 + intervention/100) * df[base_column]\n",
    "            base_column_decrease = (1 - intervention/100) * df[base_column]\n",
    "\n",
    "            change_vector_increase = m * base_column_increase + c\n",
    "            change_vector_decrease = m * base_column_decrease + c\n",
    "            \n",
    "            change_min_value = min(change_min_value, change_vector_increase.min(), change_vector_decrease.min())\n",
    "            change_max_value = max(change_max_value, change_vector_increase.max(), change_vector_decrease.max())\n",
    "            \n",
    "    \n",
    "    result_df = pd.DataFrame()\n",
    "    res1_df = pd.DataFrame()\n",
    "    \n",
    "    for intervention in change_percentages:\n",
    "        col_pass_plus = []\n",
    "        col_pass_minus = []\n",
    "        for cap_col in capability_vector:\n",
    "            # Calculate Impact Score\n",
    "            X = sm.add_constant(df[base_column])\n",
    "            y = df[cap_col]\n",
    "            model = sm.OLS(y, X).fit()\n",
    "\n",
    "            m, c = model.params[base_column], model.params['const']\n",
    "            # print(m,c)\n",
    "            base_column_increase = (1 + intervention/100) * df[base_column]\n",
    "            base_column_decrease = (1 - intervention/100) * df[base_column]\n",
    "\n",
    "            new_vector_increase = m * base_column_increase + c\n",
    "            new_vector_decrease = m * base_column_decrease + c\n",
    "            \n",
    "            normalized_new_increase_vector = (new_vector_increase - change_min_value) / (change_max_value - change_min_value)\n",
    "            normalized_new_decrease_vector = (new_vector_decrease - change_min_value) / (change_max_value - change_min_value)\n",
    "            \n",
    "            percent_change_inc = (new_vector_increase - (y) )*100/(y)\n",
    "            percent_change_dec = (new_vector_decrease - (y) )*100/(y)\n",
    "\n",
    "            result_df = pd.concat([result_df,\n",
    "                pd.DataFrame({\n",
    "                    f'{cap_col} ({base_column} +{intervention}%)': new_vector_increase,\n",
    "                    f'{cap_col} ({base_column} -{intervention}%)': new_vector_decrease,\n",
    "                    f'Normalized {cap_col} ({base_column} +{intervention}%)': normalized_new_increase_vector,\n",
    "                    f'Normalized {cap_col} ({base_column} -{intervention}%)': normalized_new_decrease_vector,\n",
    "                    f'Percent Change in {cap_col} ({base_column} +{intervention}%)': percent_change_inc,\n",
    "                    f'Percent Change in {cap_col} ({base_column} -{intervention}%)': percent_change_dec,\n",
    "                    \n",
    "                })\n",
    "            ], axis=1)\n",
    "\n",
    "            columns_to_pass = f'{cap_col} ({base_column} +{intervention}%)'\n",
    "            col_pass_plus.append(columns_to_pass)\n",
    "            \n",
    "            # Calculate Stability for the opposite intervention and add to DataFrame\n",
    "            opposite_intervention = -intervention\n",
    "            columns_to_pass_opposite = f'{cap_col} ({base_column} -{intervention}%)'\n",
    "            col_pass_minus.append(columns_to_pass_opposite)\n",
    "        \n",
    "        for column in result_df.columns:\n",
    "            existing_data[column] = result_df[column]\n",
    "\n",
    "        # print(col_pass_minus)\n",
    "        # print(col_pass_plus)\n",
    "        \n",
    "        stability_column, stability_column_name = calculate_and_map_stability(G, existing_data.copy(), adjacency_file, col_pass_plus, intervention, dim)\n",
    "\n",
    "        normalized_stability_vector = (stability_column - stability_column.min()) / (stability_column.max() - stability_column.min())\n",
    "\n",
    "        capability_first_words = [col.split('_')[0] for col in capability_vector]\n",
    "        stability_column_name_modified = stability_column_name + \"_\" + \"_\".join(capability_first_words)\n",
    "        existing_data[stability_column_name_modified] = normalized_stability_vector\n",
    "        \n",
    "        stability_column_opposite, stability_column_name_opposite = calculate_and_map_stability(G, existing_data.copy(), adjacency_file, col_pass_minus, opposite_intervention, dim)\n",
    "\n",
    "        # Normalize stability values for the opposite intervention\n",
    "        normalized_stability_vector_opposite = (stability_column_opposite - stability_column_opposite.min()) / (stability_column_opposite.max() - stability_column_opposite.min())    \n",
    "        stability_column_name_opposite_modified = stability_column_name_opposite + \"_\" + \"_\".join(capability_first_words)\n",
    "        existing_data[stability_column_name_opposite_modified] = normalized_stability_vector_opposite\n",
    "        \n",
    "        res1_df = pd.concat([res1_df,\n",
    "            pd.DataFrame({\n",
    "            stability_column_name_modified: stability_column,\n",
    "            stability_column_name_opposite_modified: stability_column_opposite,\n",
    "            })\n",
    "        ], axis=1)\n",
    "        \n",
    "        normalized_data_1 = res1_df.copy()\n",
    "        min_value = normalized_data_1.min().min()\n",
    "        max_value = normalized_data_1.max().max()\n",
    "        normalized_data_1 = (normalized_data_1 - min_value) / (max_value - min_value)\n",
    "        \n",
    "        # for col in normalized_data_1.columns:\n",
    "        for column in normalized_data_1.columns:\n",
    "            existing_data[column] = normalized_data_1[column]\n",
    "        \n",
    "        # Visualize with Plotly for +intervention\n",
    "        fig_increase = go.Figure()\n",
    "        color_palette = ['red', 'blue', 'green', 'orange', 'purple'] \n",
    "\n",
    "        for i, cap_col in enumerate(capability_vector):\n",
    "            symbol = 'star' if i == 0 else 'triangle-up' \n",
    "            scatter_increase = go.Scatter(\n",
    "                x=existing_data[stability_column_name_modified],\n",
    "                y=existing_data[f\"Percent Change in {cap_col} ({base_column} +{abs(intervention)}%)\"],\n",
    "                mode='markers',\n",
    "                marker=dict(size=7, symbol=symbol, color=color_palette[i]),  \n",
    "                name=f'{cap_col} +{intervention}%',\n",
    "                text=existing_data['District'],\n",
    "                hovertemplate='%{text}' + '<br>Percent Change in: %{y:.2f}' + '<br>Stability: %{x:.2f}'\n",
    "            )\n",
    "            fig_increase.add_trace(scatter_increase)\n",
    "        \n",
    "        # Add average lines\n",
    "        # print(\"aefawefaw\")\n",
    "        avg_stability_increase = existing_data[stability_column_name_modified].mean()\n",
    "        avg_impact_increase = existing_data[f\"Percent Change in {capability_vector[0]} ({base_column} {'+' if intervention >= 0 else '-'}{abs(intervention)}%)\"].mean()\n",
    "        y_range_1 = max(abs(existing_data[f\"Percent Change in {capability_vector[0]} ({base_column} +{abs(intervention)}%)\"].min()), \n",
    "                    abs(existing_data[f\"Percent Change in {capability_vector[0]} ({base_column} -{abs(intervention)}%)\"].min()), \n",
    "                    abs(existing_data[f\"Percent Change in {capability_vector[0]} ({base_column} +{abs(intervention)}%)\"].max()), \n",
    "                    abs(existing_data[f\"Percent Change in {capability_vector[0]} ({base_column} -{abs(intervention)}%)\"].max()))\n",
    "        y_axis_1 = max(y_range_1,1)\n",
    "\n",
    "\n",
    "        fig_increase.add_shape(\n",
    "            go.layout.Shape(\n",
    "                type=\"line\",\n",
    "                x0=avg_stability_increase,\n",
    "                x1=avg_stability_increase,\n",
    "                y0=0,\n",
    "                y1=y_axis_1,\n",
    "                line=dict(color=\"black\", dash=\"dash\"),\n",
    "                name=\"Average Stability\"\n",
    "            )\n",
    "        )\n",
    "        fig_increase.add_shape(\n",
    "            go.layout.Shape(\n",
    "                type=\"line\",\n",
    "                x0=0,\n",
    "                x1=1,\n",
    "                y0=avg_impact_increase,\n",
    "                y1=avg_impact_increase,\n",
    "                line=dict(color=\"black\", dash=\"dash\"),\n",
    "                name=\"Average Impact\"\n",
    "            )\n",
    "        )\n",
    "\n",
    "        # Update layout for +intervention plot\n",
    "        fig_increase.update_layout(\n",
    "            title=f'Percent Change vs Stability (+{intervention}%)',\n",
    "            xaxis=dict(title=f'Stability ({base_column} +{intervention}%)'),\n",
    "            yaxis=dict(title='Percent Change'),\n",
    "            hovermode='closest'\n",
    "        )\n",
    "\n",
    "        # Visualize with Plotly for -intervention\n",
    "        fig_decrease = go.Figure()\n",
    "\n",
    "        for i, cap_col in enumerate(capability_vector):\n",
    "            # Scatter plot for -intervention\n",
    "            symbol = 'star' if i == 0 else 'triangle-up'\n",
    "            \n",
    "            scatter_decrease = go.Scatter(\n",
    "                x=existing_data[stability_column_name_opposite_modified],\n",
    "                y=existing_data[f\"Percent Change in {cap_col} ({base_column} {'+' if intervention <= 0 else '-'}{abs(intervention)}%)\"],\n",
    "                mode='markers',\n",
    "                marker=dict(size=7,symbol=symbol, color=color_palette[i]),\n",
    "                name=f'{cap_col} -{intervention}%',\n",
    "                text=existing_data['District'],\n",
    "                hovertemplate='%{text}' + '<br>Percent Change: %{y:.2f}' + '<br>Stability: %{x:.2f}'\n",
    "            )\n",
    "            \n",
    "            fig_decrease.add_trace(scatter_decrease)\n",
    "\n",
    "        # Add average lines for -intervention\n",
    "        avg_stability_decrease = existing_data[stability_column_name_opposite_modified].mean()\n",
    "        avg_impact_decrease = existing_data[f\"Percent Change in {capability_vector[0]} ({base_column} {'+' if intervention <= 0 else '-'}{abs(intervention)}%)\"].mean()\n",
    "\n",
    "        fig_decrease.add_shape(\n",
    "            go.layout.Shape(\n",
    "                type=\"line\",\n",
    "                x0=avg_stability_decrease,\n",
    "                x1=avg_stability_decrease,\n",
    "                y0=0,\n",
    "                y1=y_axis_1,\n",
    "                line=dict(color=\"black\", dash=\"dash\"),\n",
    "                name=\"Average Stability\"\n",
    "            )\n",
    "        )\n",
    "\n",
    "        fig_decrease.add_shape(\n",
    "            go.layout.Shape(\n",
    "                type=\"line\",\n",
    "                x0=0,\n",
    "                x1=1,\n",
    "                y0=avg_impact_decrease,\n",
    "                y1=avg_impact_decrease,\n",
    "                line=dict(color=\"black\", dash=\"dash\"),\n",
    "                name=\"Average Impact\"\n",
    "            )\n",
    "        )\n",
    "\n",
    "        # Update layout for -intervention plot\n",
    "        fig_decrease.update_layout(\n",
    "            title=f'Percent Change vs Stability (-{intervention}%)',\n",
    "            xaxis=dict(title=f'Stability ({base_column} -{intervention}%)'),\n",
    "            yaxis=dict(title='Percent Change'),\n",
    "            hovermode='closest'\n",
    "        )\n",
    "\n",
    "\n",
    "        fig_increase.show()\n",
    "        fig_decrease.show()\n",
    "\n",
    "    return existing_data, result_df\n",
    "\n",
    "base_column = \"TotalNPK\"\n",
    "capability_vector = [\"Rice_Production\", \"Maize_Production\"]\n",
    "# change_percentage = 20\n",
    "change_percentages = [10,20]\n",
    "dim = len(capability_vector)\n",
    "\n",
    "new_data_2,result_df = calc_and_vis_impact_stability_2D(G, existing_data.copy(), adjacency_file, base_column, capability_vector, change_percentages, dim)\n",
    "new_data_2.head()"
   ]
  },
  {
   "cell_type": "code",
   "execution_count": 58,
   "metadata": {},
   "outputs": [],
   "source": [
    "# new_data_2"
   ]
  },
  {
   "cell_type": "code",
   "execution_count": 59,
   "metadata": {},
   "outputs": [
    {
     "data": {
      "text/html": [
       "<div>\n",
       "<style scoped>\n",
       "    .dataframe tbody tr th:only-of-type {\n",
       "        vertical-align: middle;\n",
       "    }\n",
       "\n",
       "    .dataframe tbody tr th {\n",
       "        vertical-align: top;\n",
       "    }\n",
       "\n",
       "    .dataframe thead th {\n",
       "        text-align: right;\n",
       "    }\n",
       "</style>\n",
       "<table border=\"1\" class=\"dataframe\">\n",
       "  <thead>\n",
       "    <tr style=\"text-align: right;\">\n",
       "      <th></th>\n",
       "      <th>District</th>\n",
       "      <th>TotalNPK</th>\n",
       "      <th>Rice_Production</th>\n",
       "      <th>Jowar_Production</th>\n",
       "      <th>Maize_Production</th>\n",
       "      <th>Jowar_Yield</th>\n",
       "      <th>Normalized_Maize_Production</th>\n",
       "      <th>Initial Stability_Maize_Production</th>\n",
       "      <th>Normalized_Rice_Production</th>\n",
       "      <th>Initial Stability_Rice_Production</th>\n",
       "      <th>Normalized_Jowar_Production</th>\n",
       "      <th>Initial Stability_Jowar_Production</th>\n",
       "      <th>Initial Stability</th>\n",
       "      <th>Abbreviation</th>\n",
       "    </tr>\n",
       "  </thead>\n",
       "  <tbody>\n",
       "    <tr>\n",
       "      <th>0</th>\n",
       "      <td>BENGALURU</td>\n",
       "      <td>23310.0</td>\n",
       "      <td>3376.0</td>\n",
       "      <td>851</td>\n",
       "      <td>2879</td>\n",
       "      <td>1539.0</td>\n",
       "      <td>0.004851</td>\n",
       "      <td>0.960176</td>\n",
       "      <td>0.006686</td>\n",
       "      <td>0.992148</td>\n",
       "      <td>0.003267</td>\n",
       "      <td>0.996733</td>\n",
       "      <td>0.959409</td>\n",
       "      <td>BLR</td>\n",
       "    </tr>\n",
       "    <tr>\n",
       "      <th>1</th>\n",
       "      <td>BENGALURU(R)</td>\n",
       "      <td>19259.0</td>\n",
       "      <td>2354.0</td>\n",
       "      <td>0</td>\n",
       "      <td>42583</td>\n",
       "      <td>0.0</td>\n",
       "      <td>0.071744</td>\n",
       "      <td>0.991418</td>\n",
       "      <td>0.004609</td>\n",
       "      <td>0.986455</td>\n",
       "      <td>0.000000</td>\n",
       "      <td>0.997311</td>\n",
       "      <td>0.983965</td>\n",
       "      <td>BLR(R)</td>\n",
       "    </tr>\n",
       "    <tr>\n",
       "      <th>2</th>\n",
       "      <td>RAMANAGARA</td>\n",
       "      <td>7472.0</td>\n",
       "      <td>12128.0</td>\n",
       "      <td>0</td>\n",
       "      <td>10450</td>\n",
       "      <td>0.0</td>\n",
       "      <td>0.017606</td>\n",
       "      <td>0.923391</td>\n",
       "      <td>0.024465</td>\n",
       "      <td>0.892930</td>\n",
       "      <td>0.000000</td>\n",
       "      <td>0.992597</td>\n",
       "      <td>0.868345</td>\n",
       "      <td>RGA</td>\n",
       "    </tr>\n",
       "    <tr>\n",
       "      <th>3</th>\n",
       "      <td>CHITRADURGA</td>\n",
       "      <td>35884.0</td>\n",
       "      <td>4566.0</td>\n",
       "      <td>13301</td>\n",
       "      <td>271975</td>\n",
       "      <td>984.0</td>\n",
       "      <td>0.458222</td>\n",
       "      <td>0.855101</td>\n",
       "      <td>0.009103</td>\n",
       "      <td>0.587418</td>\n",
       "      <td>0.051060</td>\n",
       "      <td>0.972188</td>\n",
       "      <td>0.562713</td>\n",
       "      <td>CDA</td>\n",
       "    </tr>\n",
       "    <tr>\n",
       "      <th>4</th>\n",
       "      <td>DAVANAGERE</td>\n",
       "      <td>99644.0</td>\n",
       "      <td>489505.0</td>\n",
       "      <td>23072</td>\n",
       "      <td>593544</td>\n",
       "      <td>2167.0</td>\n",
       "      <td>1.000000</td>\n",
       "      <td>0.331747</td>\n",
       "      <td>0.994237</td>\n",
       "      <td>0.356941</td>\n",
       "      <td>0.088568</td>\n",
       "      <td>0.993075</td>\n",
       "      <td>0.072591</td>\n",
       "      <td>DVG</td>\n",
       "    </tr>\n",
       "    <tr>\n",
       "      <th>5</th>\n",
       "      <td>KOLAR</td>\n",
       "      <td>22190.0</td>\n",
       "      <td>864.0</td>\n",
       "      <td>0</td>\n",
       "      <td>1759</td>\n",
       "      <td>0.0</td>\n",
       "      <td>0.002964</td>\n",
       "      <td>0.878226</td>\n",
       "      <td>0.001583</td>\n",
       "      <td>0.996624</td>\n",
       "      <td>0.000000</td>\n",
       "      <td>1.000000</td>\n",
       "      <td>0.878180</td>\n",
       "      <td>KLR</td>\n",
       "    </tr>\n",
       "    <tr>\n",
       "      <th>6</th>\n",
       "      <td>CHIKKABALLAPURA</td>\n",
       "      <td>28357.0</td>\n",
       "      <td>2698.0</td>\n",
       "      <td>0</td>\n",
       "      <td>105491</td>\n",
       "      <td>0.0</td>\n",
       "      <td>0.177731</td>\n",
       "      <td>0.884725</td>\n",
       "      <td>0.005308</td>\n",
       "      <td>0.985667</td>\n",
       "      <td>0.000000</td>\n",
       "      <td>0.996607</td>\n",
       "      <td>0.883837</td>\n",
       "      <td>CKA</td>\n",
       "    </tr>\n",
       "    <tr>\n",
       "      <th>7</th>\n",
       "      <td>SHIVAMOGGA</td>\n",
       "      <td>56609.0</td>\n",
       "      <td>384974.0</td>\n",
       "      <td>756</td>\n",
       "      <td>226532</td>\n",
       "      <td>2242.0</td>\n",
       "      <td>0.381660</td>\n",
       "      <td>0.986495</td>\n",
       "      <td>0.781886</td>\n",
       "      <td>0.630976</td>\n",
       "      <td>0.002902</td>\n",
       "      <td>0.950160</td>\n",
       "      <td>0.630729</td>\n",
       "      <td>SMG</td>\n",
       "    </tr>\n",
       "    <tr>\n",
       "      <th>8</th>\n",
       "      <td>TUMAKURU</td>\n",
       "      <td>38148.0</td>\n",
       "      <td>26042.0</td>\n",
       "      <td>2652</td>\n",
       "      <td>66868</td>\n",
       "      <td>1346.0</td>\n",
       "      <td>0.112659</td>\n",
       "      <td>0.909238</td>\n",
       "      <td>0.052731</td>\n",
       "      <td>0.901262</td>\n",
       "      <td>0.010180</td>\n",
       "      <td>0.996715</td>\n",
       "      <td>0.865884</td>\n",
       "      <td>TKR</td>\n",
       "    </tr>\n",
       "    <tr>\n",
       "      <th>9</th>\n",
       "      <td>CHIKKAMAGALURU</td>\n",
       "      <td>67863.0</td>\n",
       "      <td>110533.0</td>\n",
       "      <td>9080</td>\n",
       "      <td>61353</td>\n",
       "      <td>897.0</td>\n",
       "      <td>0.103367</td>\n",
       "      <td>0.744033</td>\n",
       "      <td>0.224371</td>\n",
       "      <td>0.841603</td>\n",
       "      <td>0.034856</td>\n",
       "      <td>0.987498</td>\n",
       "      <td>0.698987</td>\n",
       "      <td>CMG</td>\n",
       "    </tr>\n",
       "    <tr>\n",
       "      <th>10</th>\n",
       "      <td>DAKSHINA KANNADA</td>\n",
       "      <td>18588.0</td>\n",
       "      <td>132588.0</td>\n",
       "      <td>0</td>\n",
       "      <td>0</td>\n",
       "      <td>0.0</td>\n",
       "      <td>0.000000</td>\n",
       "      <td>0.825910</td>\n",
       "      <td>0.269174</td>\n",
       "      <td>0.973766</td>\n",
       "      <td>0.000000</td>\n",
       "      <td>0.990344</td>\n",
       "      <td>0.823945</td>\n",
       "      <td>DKA</td>\n",
       "    </tr>\n",
       "    <tr>\n",
       "      <th>11</th>\n",
       "      <td>UDUPI</td>\n",
       "      <td>6148.0</td>\n",
       "      <td>138156.0</td>\n",
       "      <td>0</td>\n",
       "      <td>109</td>\n",
       "      <td>0.0</td>\n",
       "      <td>0.000184</td>\n",
       "      <td>0.868781</td>\n",
       "      <td>0.280486</td>\n",
       "      <td>0.883977</td>\n",
       "      <td>0.000000</td>\n",
       "      <td>0.990560</td>\n",
       "      <td>0.824844</td>\n",
       "      <td>UPI</td>\n",
       "    </tr>\n",
       "    <tr>\n",
       "      <th>12</th>\n",
       "      <td>HASSAN</td>\n",
       "      <td>68431.0</td>\n",
       "      <td>143705.0</td>\n",
       "      <td>981</td>\n",
       "      <td>333937</td>\n",
       "      <td>917.0</td>\n",
       "      <td>0.562615</td>\n",
       "      <td>0.522378</td>\n",
       "      <td>0.291758</td>\n",
       "      <td>0.968172</td>\n",
       "      <td>0.003766</td>\n",
       "      <td>0.991628</td>\n",
       "      <td>0.521318</td>\n",
       "      <td>HSN</td>\n",
       "    </tr>\n",
       "    <tr>\n",
       "      <th>13</th>\n",
       "      <td>KODAGU</td>\n",
       "      <td>40947.0</td>\n",
       "      <td>86303.0</td>\n",
       "      <td>0</td>\n",
       "      <td>17921</td>\n",
       "      <td>0.0</td>\n",
       "      <td>0.030193</td>\n",
       "      <td>0.765629</td>\n",
       "      <td>0.175148</td>\n",
       "      <td>0.748362</td>\n",
       "      <td>0.000000</td>\n",
       "      <td>0.991007</td>\n",
       "      <td>0.656123</td>\n",
       "      <td>KDG</td>\n",
       "    </tr>\n",
       "    <tr>\n",
       "      <th>14</th>\n",
       "      <td>MANDYA</td>\n",
       "      <td>60558.0</td>\n",
       "      <td>246543.0</td>\n",
       "      <td>1192</td>\n",
       "      <td>19387</td>\n",
       "      <td>970.0</td>\n",
       "      <td>0.032663</td>\n",
       "      <td>0.798040</td>\n",
       "      <td>0.500669</td>\n",
       "      <td>0.735603</td>\n",
       "      <td>0.004576</td>\n",
       "      <td>0.993346</td>\n",
       "      <td>0.667293</td>\n",
       "      <td>MDY</td>\n",
       "    </tr>\n",
       "    <tr>\n",
       "      <th>15</th>\n",
       "      <td>MYSURU</td>\n",
       "      <td>62014.0</td>\n",
       "      <td>354227.0</td>\n",
       "      <td>6047</td>\n",
       "      <td>137154</td>\n",
       "      <td>1104.0</td>\n",
       "      <td>0.231076</td>\n",
       "      <td>0.987581</td>\n",
       "      <td>0.719425</td>\n",
       "      <td>0.545714</td>\n",
       "      <td>0.023213</td>\n",
       "      <td>0.983620</td>\n",
       "      <td>0.545545</td>\n",
       "      <td>MYS</td>\n",
       "    </tr>\n",
       "    <tr>\n",
       "      <th>16</th>\n",
       "      <td>CHAMARAJANAGAR</td>\n",
       "      <td>23803.0</td>\n",
       "      <td>45856.0</td>\n",
       "      <td>4947</td>\n",
       "      <td>147886</td>\n",
       "      <td>371.0</td>\n",
       "      <td>0.249158</td>\n",
       "      <td>0.844624</td>\n",
       "      <td>0.092982</td>\n",
       "      <td>0.678129</td>\n",
       "      <td>0.018990</td>\n",
       "      <td>0.990273</td>\n",
       "      <td>0.642589</td>\n",
       "      <td>CNR</td>\n",
       "    </tr>\n",
       "    <tr>\n",
       "      <th>17</th>\n",
       "      <td>BELAGAVI</td>\n",
       "      <td>179992.0</td>\n",
       "      <td>177552.0</td>\n",
       "      <td>141459</td>\n",
       "      <td>576758</td>\n",
       "      <td>1200.0</td>\n",
       "      <td>0.971719</td>\n",
       "      <td>0.274673</td>\n",
       "      <td>0.360517</td>\n",
       "      <td>0.718327</td>\n",
       "      <td>0.543031</td>\n",
       "      <td>0.713852</td>\n",
       "      <td>0.221901</td>\n",
       "      <td>BLG</td>\n",
       "    </tr>\n",
       "    <tr>\n",
       "      <th>18</th>\n",
       "      <td>VIJAYAPURA</td>\n",
       "      <td>54228.0</td>\n",
       "      <td>170.0</td>\n",
       "      <td>134027</td>\n",
       "      <td>226327</td>\n",
       "      <td>974.0</td>\n",
       "      <td>0.381315</td>\n",
       "      <td>0.903912</td>\n",
       "      <td>0.000173</td>\n",
       "      <td>0.633656</td>\n",
       "      <td>0.514501</td>\n",
       "      <td>0.981014</td>\n",
       "      <td>0.621265</td>\n",
       "      <td>VJP</td>\n",
       "    </tr>\n",
       "    <tr>\n",
       "      <th>19</th>\n",
       "      <td>BAGALKOT</td>\n",
       "      <td>84812.0</td>\n",
       "      <td>85.0</td>\n",
       "      <td>97067</td>\n",
       "      <td>251699</td>\n",
       "      <td>966.0</td>\n",
       "      <td>0.424061</td>\n",
       "      <td>0.957557</td>\n",
       "      <td>0.000000</td>\n",
       "      <td>0.626048</td>\n",
       "      <td>0.372619</td>\n",
       "      <td>0.996868</td>\n",
       "      <td>0.623647</td>\n",
       "      <td>BKT</td>\n",
       "    </tr>\n",
       "    <tr>\n",
       "      <th>20</th>\n",
       "      <td>DHARAWAD</td>\n",
       "      <td>37381.0</td>\n",
       "      <td>33989.0</td>\n",
       "      <td>42214</td>\n",
       "      <td>90634</td>\n",
       "      <td>1080.0</td>\n",
       "      <td>0.152700</td>\n",
       "      <td>0.667138</td>\n",
       "      <td>0.068875</td>\n",
       "      <td>0.833798</td>\n",
       "      <td>0.162051</td>\n",
       "      <td>0.932410</td>\n",
       "      <td>0.627951</td>\n",
       "      <td>DWD</td>\n",
       "    </tr>\n",
       "    <tr>\n",
       "      <th>21</th>\n",
       "      <td>GADAG</td>\n",
       "      <td>23280.0</td>\n",
       "      <td>7258.0</td>\n",
       "      <td>61281</td>\n",
       "      <td>138476</td>\n",
       "      <td>1025.0</td>\n",
       "      <td>0.233304</td>\n",
       "      <td>0.816697</td>\n",
       "      <td>0.014572</td>\n",
       "      <td>0.726630</td>\n",
       "      <td>0.235245</td>\n",
       "      <td>0.999097</td>\n",
       "      <td>0.670863</td>\n",
       "      <td>GDG</td>\n",
       "    </tr>\n",
       "    <tr>\n",
       "      <th>22</th>\n",
       "      <td>HAVERI</td>\n",
       "      <td>65001.0</td>\n",
       "      <td>125422.0</td>\n",
       "      <td>36545</td>\n",
       "      <td>413487</td>\n",
       "      <td>1207.0</td>\n",
       "      <td>0.696641</td>\n",
       "      <td>0.611764</td>\n",
       "      <td>0.254617</td>\n",
       "      <td>0.825009</td>\n",
       "      <td>0.140288</td>\n",
       "      <td>0.966786</td>\n",
       "      <td>0.574149</td>\n",
       "      <td>HVR</td>\n",
       "    </tr>\n",
       "    <tr>\n",
       "      <th>23</th>\n",
       "      <td>UTTARA KANNADA</td>\n",
       "      <td>15316.0</td>\n",
       "      <td>152981.0</td>\n",
       "      <td>0</td>\n",
       "      <td>24088</td>\n",
       "      <td>0.0</td>\n",
       "      <td>0.040583</td>\n",
       "      <td>0.600003</td>\n",
       "      <td>0.310602</td>\n",
       "      <td>0.961326</td>\n",
       "      <td>0.000000</td>\n",
       "      <td>0.830346</td>\n",
       "      <td>0.598137</td>\n",
       "      <td>UTK</td>\n",
       "    </tr>\n",
       "    <tr>\n",
       "      <th>24</th>\n",
       "      <td>BALLARI</td>\n",
       "      <td>61665.0</td>\n",
       "      <td>206116.0</td>\n",
       "      <td>33963</td>\n",
       "      <td>104045</td>\n",
       "      <td>904.0</td>\n",
       "      <td>0.175295</td>\n",
       "      <td>0.763121</td>\n",
       "      <td>0.418544</td>\n",
       "      <td>0.963462</td>\n",
       "      <td>0.130377</td>\n",
       "      <td>0.958920</td>\n",
       "      <td>0.760320</td>\n",
       "      <td>BLL</td>\n",
       "    </tr>\n",
       "    <tr>\n",
       "      <th>25</th>\n",
       "      <td>BIDAR</td>\n",
       "      <td>24658.0</td>\n",
       "      <td>2036.0</td>\n",
       "      <td>39965</td>\n",
       "      <td>2791</td>\n",
       "      <td>1058.0</td>\n",
       "      <td>0.004702</td>\n",
       "      <td>0.980069</td>\n",
       "      <td>0.003963</td>\n",
       "      <td>0.988112</td>\n",
       "      <td>0.153417</td>\n",
       "      <td>0.153417</td>\n",
       "      <td>0.976793</td>\n",
       "      <td>BDR</td>\n",
       "    </tr>\n",
       "    <tr>\n",
       "      <th>26</th>\n",
       "      <td>KALABURAGI</td>\n",
       "      <td>53999.0</td>\n",
       "      <td>7888.0</td>\n",
       "      <td>260499</td>\n",
       "      <td>14621</td>\n",
       "      <td>1146.0</td>\n",
       "      <td>0.024633</td>\n",
       "      <td>0.894460</td>\n",
       "      <td>0.015851</td>\n",
       "      <td>0.862402</td>\n",
       "      <td>1.000000</td>\n",
       "      <td>0.283157</td>\n",
       "      <td>0.826587</td>\n",
       "      <td>KLB</td>\n",
       "    </tr>\n",
       "    <tr>\n",
       "      <th>27</th>\n",
       "      <td>YADGIRI</td>\n",
       "      <td>91389.0</td>\n",
       "      <td>224659.0</td>\n",
       "      <td>47294</td>\n",
       "      <td>2673</td>\n",
       "      <td>1197.0</td>\n",
       "      <td>0.004503</td>\n",
       "      <td>0.868781</td>\n",
       "      <td>0.456213</td>\n",
       "      <td>0.882462</td>\n",
       "      <td>0.181552</td>\n",
       "      <td>0.549927</td>\n",
       "      <td>0.823837</td>\n",
       "      <td>YDR</td>\n",
       "    </tr>\n",
       "    <tr>\n",
       "      <th>28</th>\n",
       "      <td>RAICHUR</td>\n",
       "      <td>117235.0</td>\n",
       "      <td>492342.0</td>\n",
       "      <td>99087</td>\n",
       "      <td>723</td>\n",
       "      <td>1359.0</td>\n",
       "      <td>0.001218</td>\n",
       "      <td>0.740076</td>\n",
       "      <td>1.000000</td>\n",
       "      <td>0.273885</td>\n",
       "      <td>0.380374</td>\n",
       "      <td>0.894294</td>\n",
       "      <td>0.228765</td>\n",
       "      <td>RCR</td>\n",
       "    </tr>\n",
       "    <tr>\n",
       "      <th>29</th>\n",
       "      <td>KOPPAL</td>\n",
       "      <td>73552.0</td>\n",
       "      <td>243505.0</td>\n",
       "      <td>45402</td>\n",
       "      <td>190252</td>\n",
       "      <td>1312.0</td>\n",
       "      <td>0.320536</td>\n",
       "      <td>0.881299</td>\n",
       "      <td>0.494498</td>\n",
       "      <td>0.875834</td>\n",
       "      <td>0.174289</td>\n",
       "      <td>0.924490</td>\n",
       "      <td>0.828223</td>\n",
       "      <td>KPL</td>\n",
       "    </tr>\n",
       "    <tr>\n",
       "      <th>30</th>\n",
       "      <td>Vijayanagara</td>\n",
       "      <td>61664.0</td>\n",
       "      <td>206116.0</td>\n",
       "      <td>33963</td>\n",
       "      <td>104045</td>\n",
       "      <td>904.0</td>\n",
       "      <td>0.175295</td>\n",
       "      <td>0.694628</td>\n",
       "      <td>0.418544</td>\n",
       "      <td>0.945718</td>\n",
       "      <td>0.130377</td>\n",
       "      <td>0.993739</td>\n",
       "      <td>0.689841</td>\n",
       "      <td>VNG</td>\n",
       "    </tr>\n",
       "  </tbody>\n",
       "</table>\n",
       "</div>"
      ],
      "text/plain": [
       "            District  TotalNPK  Rice_Production  Jowar_Production  \\\n",
       "0          BENGALURU   23310.0           3376.0               851   \n",
       "1       BENGALURU(R)   19259.0           2354.0                 0   \n",
       "2         RAMANAGARA    7472.0          12128.0                 0   \n",
       "3        CHITRADURGA   35884.0           4566.0             13301   \n",
       "4         DAVANAGERE   99644.0         489505.0             23072   \n",
       "5              KOLAR   22190.0            864.0                 0   \n",
       "6    CHIKKABALLAPURA   28357.0           2698.0                 0   \n",
       "7         SHIVAMOGGA   56609.0         384974.0               756   \n",
       "8           TUMAKURU   38148.0          26042.0              2652   \n",
       "9     CHIKKAMAGALURU   67863.0         110533.0              9080   \n",
       "10  DAKSHINA KANNADA   18588.0         132588.0                 0   \n",
       "11             UDUPI    6148.0         138156.0                 0   \n",
       "12            HASSAN   68431.0         143705.0               981   \n",
       "13            KODAGU   40947.0          86303.0                 0   \n",
       "14            MANDYA   60558.0         246543.0              1192   \n",
       "15            MYSURU   62014.0         354227.0              6047   \n",
       "16    CHAMARAJANAGAR   23803.0          45856.0              4947   \n",
       "17          BELAGAVI  179992.0         177552.0            141459   \n",
       "18        VIJAYAPURA   54228.0            170.0            134027   \n",
       "19          BAGALKOT   84812.0             85.0             97067   \n",
       "20          DHARAWAD   37381.0          33989.0             42214   \n",
       "21             GADAG   23280.0           7258.0             61281   \n",
       "22            HAVERI   65001.0         125422.0             36545   \n",
       "23    UTTARA KANNADA   15316.0         152981.0                 0   \n",
       "24           BALLARI   61665.0         206116.0             33963   \n",
       "25             BIDAR   24658.0           2036.0             39965   \n",
       "26        KALABURAGI   53999.0           7888.0            260499   \n",
       "27           YADGIRI   91389.0         224659.0             47294   \n",
       "28           RAICHUR  117235.0         492342.0             99087   \n",
       "29            KOPPAL   73552.0         243505.0             45402   \n",
       "30      Vijayanagara   61664.0         206116.0             33963   \n",
       "\n",
       "    Maize_Production  Jowar_Yield  Normalized_Maize_Production  \\\n",
       "0               2879       1539.0                     0.004851   \n",
       "1              42583          0.0                     0.071744   \n",
       "2              10450          0.0                     0.017606   \n",
       "3             271975        984.0                     0.458222   \n",
       "4             593544       2167.0                     1.000000   \n",
       "5               1759          0.0                     0.002964   \n",
       "6             105491          0.0                     0.177731   \n",
       "7             226532       2242.0                     0.381660   \n",
       "8              66868       1346.0                     0.112659   \n",
       "9              61353        897.0                     0.103367   \n",
       "10                 0          0.0                     0.000000   \n",
       "11               109          0.0                     0.000184   \n",
       "12            333937        917.0                     0.562615   \n",
       "13             17921          0.0                     0.030193   \n",
       "14             19387        970.0                     0.032663   \n",
       "15            137154       1104.0                     0.231076   \n",
       "16            147886        371.0                     0.249158   \n",
       "17            576758       1200.0                     0.971719   \n",
       "18            226327        974.0                     0.381315   \n",
       "19            251699        966.0                     0.424061   \n",
       "20             90634       1080.0                     0.152700   \n",
       "21            138476       1025.0                     0.233304   \n",
       "22            413487       1207.0                     0.696641   \n",
       "23             24088          0.0                     0.040583   \n",
       "24            104045        904.0                     0.175295   \n",
       "25              2791       1058.0                     0.004702   \n",
       "26             14621       1146.0                     0.024633   \n",
       "27              2673       1197.0                     0.004503   \n",
       "28               723       1359.0                     0.001218   \n",
       "29            190252       1312.0                     0.320536   \n",
       "30            104045        904.0                     0.175295   \n",
       "\n",
       "    Initial Stability_Maize_Production  Normalized_Rice_Production  \\\n",
       "0                             0.960176                    0.006686   \n",
       "1                             0.991418                    0.004609   \n",
       "2                             0.923391                    0.024465   \n",
       "3                             0.855101                    0.009103   \n",
       "4                             0.331747                    0.994237   \n",
       "5                             0.878226                    0.001583   \n",
       "6                             0.884725                    0.005308   \n",
       "7                             0.986495                    0.781886   \n",
       "8                             0.909238                    0.052731   \n",
       "9                             0.744033                    0.224371   \n",
       "10                            0.825910                    0.269174   \n",
       "11                            0.868781                    0.280486   \n",
       "12                            0.522378                    0.291758   \n",
       "13                            0.765629                    0.175148   \n",
       "14                            0.798040                    0.500669   \n",
       "15                            0.987581                    0.719425   \n",
       "16                            0.844624                    0.092982   \n",
       "17                            0.274673                    0.360517   \n",
       "18                            0.903912                    0.000173   \n",
       "19                            0.957557                    0.000000   \n",
       "20                            0.667138                    0.068875   \n",
       "21                            0.816697                    0.014572   \n",
       "22                            0.611764                    0.254617   \n",
       "23                            0.600003                    0.310602   \n",
       "24                            0.763121                    0.418544   \n",
       "25                            0.980069                    0.003963   \n",
       "26                            0.894460                    0.015851   \n",
       "27                            0.868781                    0.456213   \n",
       "28                            0.740076                    1.000000   \n",
       "29                            0.881299                    0.494498   \n",
       "30                            0.694628                    0.418544   \n",
       "\n",
       "    Initial Stability_Rice_Production  Normalized_Jowar_Production  \\\n",
       "0                            0.992148                     0.003267   \n",
       "1                            0.986455                     0.000000   \n",
       "2                            0.892930                     0.000000   \n",
       "3                            0.587418                     0.051060   \n",
       "4                            0.356941                     0.088568   \n",
       "5                            0.996624                     0.000000   \n",
       "6                            0.985667                     0.000000   \n",
       "7                            0.630976                     0.002902   \n",
       "8                            0.901262                     0.010180   \n",
       "9                            0.841603                     0.034856   \n",
       "10                           0.973766                     0.000000   \n",
       "11                           0.883977                     0.000000   \n",
       "12                           0.968172                     0.003766   \n",
       "13                           0.748362                     0.000000   \n",
       "14                           0.735603                     0.004576   \n",
       "15                           0.545714                     0.023213   \n",
       "16                           0.678129                     0.018990   \n",
       "17                           0.718327                     0.543031   \n",
       "18                           0.633656                     0.514501   \n",
       "19                           0.626048                     0.372619   \n",
       "20                           0.833798                     0.162051   \n",
       "21                           0.726630                     0.235245   \n",
       "22                           0.825009                     0.140288   \n",
       "23                           0.961326                     0.000000   \n",
       "24                           0.963462                     0.130377   \n",
       "25                           0.988112                     0.153417   \n",
       "26                           0.862402                     1.000000   \n",
       "27                           0.882462                     0.181552   \n",
       "28                           0.273885                     0.380374   \n",
       "29                           0.875834                     0.174289   \n",
       "30                           0.945718                     0.130377   \n",
       "\n",
       "    Initial Stability_Jowar_Production  Initial Stability Abbreviation  \n",
       "0                             0.996733           0.959409          BLR  \n",
       "1                             0.997311           0.983965       BLR(R)  \n",
       "2                             0.992597           0.868345          RGA  \n",
       "3                             0.972188           0.562713          CDA  \n",
       "4                             0.993075           0.072591          DVG  \n",
       "5                             1.000000           0.878180          KLR  \n",
       "6                             0.996607           0.883837          CKA  \n",
       "7                             0.950160           0.630729          SMG  \n",
       "8                             0.996715           0.865884          TKR  \n",
       "9                             0.987498           0.698987          CMG  \n",
       "10                            0.990344           0.823945          DKA  \n",
       "11                            0.990560           0.824844          UPI  \n",
       "12                            0.991628           0.521318          HSN  \n",
       "13                            0.991007           0.656123          KDG  \n",
       "14                            0.993346           0.667293          MDY  \n",
       "15                            0.983620           0.545545          MYS  \n",
       "16                            0.990273           0.642589          CNR  \n",
       "17                            0.713852           0.221901          BLG  \n",
       "18                            0.981014           0.621265          VJP  \n",
       "19                            0.996868           0.623647          BKT  \n",
       "20                            0.932410           0.627951          DWD  \n",
       "21                            0.999097           0.670863          GDG  \n",
       "22                            0.966786           0.574149          HVR  \n",
       "23                            0.830346           0.598137          UTK  \n",
       "24                            0.958920           0.760320          BLL  \n",
       "25                            0.153417           0.976793          BDR  \n",
       "26                            0.283157           0.826587          KLB  \n",
       "27                            0.549927           0.823837          YDR  \n",
       "28                            0.894294           0.228765          RCR  \n",
       "29                            0.924490           0.828223          KPL  \n",
       "30                            0.993739           0.689841          VNG  "
      ]
     },
     "execution_count": 59,
     "metadata": {},
     "output_type": "execute_result"
    }
   ],
   "source": [
    "df"
   ]
  },
  {
   "cell_type": "code",
   "execution_count": 60,
   "metadata": {},
   "outputs": [
    {
     "name": "stdout",
     "output_type": "stream",
     "text": [
      "Rice_Production\n",
      "2.1764894064966205 17136.471837471167\n",
      "Maize_Production\n",
      "2.731783584846858 -8203.94439643982\n",
      "Rice_Production\n",
      "2.1764894064966205 17136.471837471167\n",
      "Maize_Production\n",
      "2.731783584846858 -8203.94439643982\n"
     ]
    },
    {
     "data": {
      "text/html": [
       "<div>\n",
       "<style scoped>\n",
       "    .dataframe tbody tr th:only-of-type {\n",
       "        vertical-align: middle;\n",
       "    }\n",
       "\n",
       "    .dataframe tbody tr th {\n",
       "        vertical-align: top;\n",
       "    }\n",
       "\n",
       "    .dataframe thead th {\n",
       "        text-align: right;\n",
       "    }\n",
       "</style>\n",
       "<table border=\"1\" class=\"dataframe\">\n",
       "  <thead>\n",
       "    <tr style=\"text-align: right;\">\n",
       "      <th></th>\n",
       "      <th>District</th>\n",
       "      <th>Initial_Stability</th>\n",
       "      <th>Base_Column</th>\n",
       "      <th>Intervention_Percentage</th>\n",
       "      <th>Capability_Vector</th>\n",
       "      <th>New_Values</th>\n",
       "      <th>Normalized_New_Values</th>\n",
       "      <th>Percent_Change</th>\n",
       "    </tr>\n",
       "  </thead>\n",
       "  <tbody>\n",
       "    <tr>\n",
       "      <th>0</th>\n",
       "      <td>BENGALURU</td>\n",
       "      <td>0.959409</td>\n",
       "      <td>TotalNPK</td>\n",
       "      <td>10</td>\n",
       "      <td>Rice_Production</td>\n",
       "      <td>72943.836709</td>\n",
       "      <td>0.117432</td>\n",
       "      <td>2060.658670</td>\n",
       "    </tr>\n",
       "    <tr>\n",
       "      <th>1</th>\n",
       "      <td>BENGALURU(R)</td>\n",
       "      <td>0.983965</td>\n",
       "      <td>TotalNPK</td>\n",
       "      <td>10</td>\n",
       "      <td>Rice_Production</td>\n",
       "      <td>63245.182265</td>\n",
       "      <td>0.100612</td>\n",
       "      <td>2586.711226</td>\n",
       "    </tr>\n",
       "    <tr>\n",
       "      <th>2</th>\n",
       "      <td>RAMANAGARA</td>\n",
       "      <td>0.868345</td>\n",
       "      <td>TotalNPK</td>\n",
       "      <td>10</td>\n",
       "      <td>Rice_Production</td>\n",
       "      <td>35025.473567</td>\n",
       "      <td>0.051671</td>\n",
       "      <td>188.798430</td>\n",
       "    </tr>\n",
       "    <tr>\n",
       "      <th>3</th>\n",
       "      <td>CHITRADURGA</td>\n",
       "      <td>0.562713</td>\n",
       "      <td>TotalNPK</td>\n",
       "      <td>10</td>\n",
       "      <td>Rice_Production</td>\n",
       "      <td>103047.732286</td>\n",
       "      <td>0.169641</td>\n",
       "      <td>2156.849152</td>\n",
       "    </tr>\n",
       "    <tr>\n",
       "      <th>4</th>\n",
       "      <td>DAVANAGERE</td>\n",
       "      <td>0.072591</td>\n",
       "      <td>TotalNPK</td>\n",
       "      <td>10</td>\n",
       "      <td>Rice_Production</td>\n",
       "      <td>255697.993301</td>\n",
       "      <td>0.434382</td>\n",
       "      <td>-47.763967</td>\n",
       "    </tr>\n",
       "  </tbody>\n",
       "</table>\n",
       "</div>"
      ],
      "text/plain": [
       "       District  Initial_Stability Base_Column  Intervention_Percentage  \\\n",
       "0     BENGALURU           0.959409    TotalNPK                       10   \n",
       "1  BENGALURU(R)           0.983965    TotalNPK                       10   \n",
       "2    RAMANAGARA           0.868345    TotalNPK                       10   \n",
       "3   CHITRADURGA           0.562713    TotalNPK                       10   \n",
       "4    DAVANAGERE           0.072591    TotalNPK                       10   \n",
       "\n",
       "  Capability_Vector     New_Values  Normalized_New_Values  Percent_Change  \n",
       "0   Rice_Production   72943.836709               0.117432     2060.658670  \n",
       "1   Rice_Production   63245.182265               0.100612     2586.711226  \n",
       "2   Rice_Production   35025.473567               0.051671      188.798430  \n",
       "3   Rice_Production  103047.732286               0.169641     2156.849152  \n",
       "4   Rice_Production  255697.993301               0.434382      -47.763967  "
      ]
     },
     "execution_count": 60,
     "metadata": {},
     "output_type": "execute_result"
    }
   ],
   "source": [
    "import statsmodels.api as sm\n",
    "import pandas as pd\n",
    "import plotly.graph_objects as go\n",
    "\n",
    "def calc_and_vis_impact_stability_2D(G, existing_data, adjacency_file, base_column, capability_vector, change_percentages, dim):\n",
    "    # Calculate min and max values for changes made by each column in capability_vector\n",
    "    min_value = float('inf')\n",
    "    max_value = float('-inf')\n",
    "    \n",
    "    change_min_value = float('inf')\n",
    "    change_max_value = float('-inf')\n",
    "    \n",
    "    initial_stability_column = calculate_and_return_initial_stability(df, capability_vector, G)\n",
    "    existing_data = pd.concat([existing_data, initial_stability_column], axis=1)\n",
    "\n",
    "    col_pass_plus = []\n",
    "    col_pass_minus = []\n",
    "    result_df = pd.DataFrame()\n",
    "\n",
    "    # Create fixed columns\n",
    "    fixed_columns = {\n",
    "        'District': [],\n",
    "        'Initial_Stability': [],\n",
    "        'Base_Column': [],\n",
    "        'Intervention_Percentage': [],\n",
    "        'Capability_Vector': [],\n",
    "        'New_Values': [],\n",
    "        'Normalized_New_Values': [],\n",
    "        'Percent_Change': []\n",
    "    }\n",
    "    \n",
    "    for intervention in change_percentages:\n",
    "        for cap_col in capability_vector:\n",
    "            X = sm.add_constant(df[base_column])\n",
    "            y = df[cap_col]\n",
    "            model = sm.OLS(y, X).fit()\n",
    "            print(cap_col)            \n",
    "            m, c = model.params[base_column], model.params['const']\n",
    "            print(m,c)\n",
    "            \n",
    "            base_column_increase = (1 + intervention/100) * df[base_column]\n",
    "            base_column_decrease = (1 - intervention/100) * df[base_column]\n",
    "\n",
    "            change_vector_increase = m * base_column_increase + c\n",
    "            change_vector_decrease = m * base_column_decrease + c\n",
    "            \n",
    "            change_min_value = min(change_min_value, change_vector_increase.min(), change_vector_decrease.min())\n",
    "            change_max_value = max(change_max_value, change_vector_increase.max(), change_vector_decrease.max())\n",
    "\n",
    "    for intervention in change_percentages:\n",
    "        for cap_col in capability_vector:\n",
    "            X = sm.add_constant(df[base_column])\n",
    "            y = df[cap_col]\n",
    "            model = sm.OLS(y, X).fit()\n",
    "\n",
    "            m, c = model.params[base_column], model.params['const']\n",
    "            base_column_increase = (1 + intervention/100) * df[base_column]\n",
    "            base_column_decrease = (1 - intervention/100) * df[base_column]\n",
    "\n",
    "            new_vector_increase = m * base_column_increase + c\n",
    "            new_vector_decrease = m * base_column_decrease + c\n",
    "            \n",
    "            normalized_new_increase_vector = (new_vector_increase - change_min_value) / (change_max_value - change_min_value)\n",
    "            normalized_new_decrease_vector = (new_vector_decrease - change_min_value) / (change_max_value - change_min_value)\n",
    "            \n",
    "            percent_change_inc = (new_vector_increase - (y) )*100/(y)\n",
    "            percent_change_dec = (new_vector_decrease - (y) )*100/(y)\n",
    "\n",
    "            fixed_columns['District'].extend(existing_data['District'].tolist())\n",
    "            fixed_columns['Initial_Stability'].extend(existing_data['Initial Stability'].tolist())\n",
    "            fixed_columns['Base_Column'].extend([base_column] * len(existing_data))\n",
    "            fixed_columns['Intervention_Percentage'].extend([intervention] * len(existing_data))\n",
    "            fixed_columns['Capability_Vector'].extend([cap_col] * len(existing_data))\n",
    "            fixed_columns['New_Values'].extend(new_vector_increase.tolist())\n",
    "            fixed_columns['Normalized_New_Values'].extend(normalized_new_increase_vector.tolist())\n",
    "            fixed_columns['Percent_Change'].extend(percent_change_inc.tolist())\n",
    "\n",
    "            fixed_columns['District'].extend(existing_data['District'].tolist())\n",
    "            fixed_columns['Initial_Stability'].extend(existing_data['Initial Stability'].tolist())\n",
    "            fixed_columns['Base_Column'].extend([base_column] * len(existing_data))\n",
    "            fixed_columns['Intervention_Percentage'].extend([-intervention] * len(existing_data))\n",
    "            fixed_columns['Capability_Vector'].extend([cap_col] * len(existing_data))\n",
    "            fixed_columns['New_Values'].extend(new_vector_decrease.tolist())\n",
    "            fixed_columns['Normalized_New_Values'].extend(normalized_new_decrease_vector.tolist())\n",
    "            fixed_columns['Percent_Change'].extend(percent_change_dec.tolist())\n",
    "            \n",
    "    # Create DataFrame from fixed columns\n",
    "    result_df = pd.DataFrame(fixed_columns)\n",
    "\n",
    "    return result_df\n",
    "\n",
    "# Usage\n",
    "base_column = \"TotalNPK\"\n",
    "capability_vector = [\"Rice_Production\", \"Maize_Production\"]\n",
    "adjacency_file = \"Karnataka_District_Adjacency_File - Copy.xlsx\"\n",
    "change_percentages = [10, 20]\n",
    "dim = len(capability_vector)\n",
    "\n",
    "result_df_2 = calc_and_vis_impact_stability_2D(G, existing_data.copy(), adjacency_file, base_column, capability_vector, change_percentages, dim)\n",
    "result_df_2.head()\n"
   ]
  },
  {
   "cell_type": "code",
   "execution_count": 61,
   "metadata": {},
   "outputs": [
    {
     "data": {
      "text/html": [
       "<div>\n",
       "<style scoped>\n",
       "    .dataframe tbody tr th:only-of-type {\n",
       "        vertical-align: middle;\n",
       "    }\n",
       "\n",
       "    .dataframe tbody tr th {\n",
       "        vertical-align: top;\n",
       "    }\n",
       "\n",
       "    .dataframe thead th {\n",
       "        text-align: right;\n",
       "    }\n",
       "</style>\n",
       "<table border=\"1\" class=\"dataframe\">\n",
       "  <thead>\n",
       "    <tr style=\"text-align: right;\">\n",
       "      <th></th>\n",
       "      <th>District</th>\n",
       "      <th>Initial_Stability</th>\n",
       "      <th>Base_Column</th>\n",
       "      <th>Intervention_Percentage</th>\n",
       "      <th>Capability_Vector</th>\n",
       "      <th>New_Values</th>\n",
       "      <th>Normalized_New_Values</th>\n",
       "      <th>Percent_Change</th>\n",
       "    </tr>\n",
       "  </thead>\n",
       "  <tbody>\n",
       "    <tr>\n",
       "      <th>0</th>\n",
       "      <td>BENGALURU</td>\n",
       "      <td>0.959409</td>\n",
       "      <td>TotalNPK</td>\n",
       "      <td>10</td>\n",
       "      <td>Rice_Production</td>\n",
       "      <td>72943.836709</td>\n",
       "      <td>0.117432</td>\n",
       "      <td>2060.658670</td>\n",
       "    </tr>\n",
       "    <tr>\n",
       "      <th>1</th>\n",
       "      <td>BENGALURU(R)</td>\n",
       "      <td>0.983965</td>\n",
       "      <td>TotalNPK</td>\n",
       "      <td>10</td>\n",
       "      <td>Rice_Production</td>\n",
       "      <td>63245.182265</td>\n",
       "      <td>0.100612</td>\n",
       "      <td>2586.711226</td>\n",
       "    </tr>\n",
       "    <tr>\n",
       "      <th>2</th>\n",
       "      <td>RAMANAGARA</td>\n",
       "      <td>0.868345</td>\n",
       "      <td>TotalNPK</td>\n",
       "      <td>10</td>\n",
       "      <td>Rice_Production</td>\n",
       "      <td>35025.473567</td>\n",
       "      <td>0.051671</td>\n",
       "      <td>188.798430</td>\n",
       "    </tr>\n",
       "    <tr>\n",
       "      <th>3</th>\n",
       "      <td>CHITRADURGA</td>\n",
       "      <td>0.562713</td>\n",
       "      <td>TotalNPK</td>\n",
       "      <td>10</td>\n",
       "      <td>Rice_Production</td>\n",
       "      <td>103047.732286</td>\n",
       "      <td>0.169641</td>\n",
       "      <td>2156.849152</td>\n",
       "    </tr>\n",
       "    <tr>\n",
       "      <th>4</th>\n",
       "      <td>DAVANAGERE</td>\n",
       "      <td>0.072591</td>\n",
       "      <td>TotalNPK</td>\n",
       "      <td>10</td>\n",
       "      <td>Rice_Production</td>\n",
       "      <td>255697.993301</td>\n",
       "      <td>0.434382</td>\n",
       "      <td>-47.763967</td>\n",
       "    </tr>\n",
       "    <tr>\n",
       "      <th>...</th>\n",
       "      <td>...</td>\n",
       "      <td>...</td>\n",
       "      <td>...</td>\n",
       "      <td>...</td>\n",
       "      <td>...</td>\n",
       "      <td>...</td>\n",
       "      <td>...</td>\n",
       "      <td>...</td>\n",
       "    </tr>\n",
       "    <tr>\n",
       "      <th>243</th>\n",
       "      <td>KALABURAGI</td>\n",
       "      <td>0.826587</td>\n",
       "      <td>TotalNPK</td>\n",
       "      <td>-20</td>\n",
       "      <td>Maize_Production</td>\n",
       "      <td>109806.921042</td>\n",
       "      <td>0.181364</td>\n",
       "      <td>651.021962</td>\n",
       "    </tr>\n",
       "    <tr>\n",
       "      <th>244</th>\n",
       "      <td>YADGIRI</td>\n",
       "      <td>0.823837</td>\n",
       "      <td>TotalNPK</td>\n",
       "      <td>-20</td>\n",
       "      <td>Maize_Production</td>\n",
       "      <td>191520.031632</td>\n",
       "      <td>0.323078</td>\n",
       "      <td>7064.984348</td>\n",
       "    </tr>\n",
       "    <tr>\n",
       "      <th>245</th>\n",
       "      <td>RAICHUR</td>\n",
       "      <td>0.228765</td>\n",
       "      <td>TotalNPK</td>\n",
       "      <td>-20</td>\n",
       "      <td>Maize_Production</td>\n",
       "      <td>248004.574459</td>\n",
       "      <td>0.421039</td>\n",
       "      <td>34202.154144</td>\n",
       "    </tr>\n",
       "    <tr>\n",
       "      <th>246</th>\n",
       "      <td>KOPPAL</td>\n",
       "      <td>0.828223</td>\n",
       "      <td>TotalNPK</td>\n",
       "      <td>-20</td>\n",
       "      <td>Maize_Production</td>\n",
       "      <td>152538.572590</td>\n",
       "      <td>0.255473</td>\n",
       "      <td>-19.822881</td>\n",
       "    </tr>\n",
       "    <tr>\n",
       "      <th>247</th>\n",
       "      <td>Vijayanagara</td>\n",
       "      <td>0.689841</td>\n",
       "      <td>TotalNPK</td>\n",
       "      <td>-20</td>\n",
       "      <td>Maize_Production</td>\n",
       "      <td>126558.217984</td>\n",
       "      <td>0.210415</td>\n",
       "      <td>21.637962</td>\n",
       "    </tr>\n",
       "  </tbody>\n",
       "</table>\n",
       "<p>248 rows × 8 columns</p>\n",
       "</div>"
      ],
      "text/plain": [
       "         District  Initial_Stability Base_Column  Intervention_Percentage  \\\n",
       "0       BENGALURU           0.959409    TotalNPK                       10   \n",
       "1    BENGALURU(R)           0.983965    TotalNPK                       10   \n",
       "2      RAMANAGARA           0.868345    TotalNPK                       10   \n",
       "3     CHITRADURGA           0.562713    TotalNPK                       10   \n",
       "4      DAVANAGERE           0.072591    TotalNPK                       10   \n",
       "..            ...                ...         ...                      ...   \n",
       "243    KALABURAGI           0.826587    TotalNPK                      -20   \n",
       "244       YADGIRI           0.823837    TotalNPK                      -20   \n",
       "245       RAICHUR           0.228765    TotalNPK                      -20   \n",
       "246        KOPPAL           0.828223    TotalNPK                      -20   \n",
       "247  Vijayanagara           0.689841    TotalNPK                      -20   \n",
       "\n",
       "    Capability_Vector     New_Values  Normalized_New_Values  Percent_Change  \n",
       "0     Rice_Production   72943.836709               0.117432     2060.658670  \n",
       "1     Rice_Production   63245.182265               0.100612     2586.711226  \n",
       "2     Rice_Production   35025.473567               0.051671      188.798430  \n",
       "3     Rice_Production  103047.732286               0.169641     2156.849152  \n",
       "4     Rice_Production  255697.993301               0.434382      -47.763967  \n",
       "..                ...            ...                    ...             ...  \n",
       "243  Maize_Production  109806.921042               0.181364      651.021962  \n",
       "244  Maize_Production  191520.031632               0.323078     7064.984348  \n",
       "245  Maize_Production  248004.574459               0.421039    34202.154144  \n",
       "246  Maize_Production  152538.572590               0.255473      -19.822881  \n",
       "247  Maize_Production  126558.217984               0.210415       21.637962  \n",
       "\n",
       "[248 rows x 8 columns]"
      ]
     },
     "execution_count": 61,
     "metadata": {},
     "output_type": "execute_result"
    }
   ],
   "source": [
    "result_df_2"
   ]
  },
  {
   "cell_type": "code",
   "execution_count": 62,
   "metadata": {},
   "outputs": [],
   "source": [
    "Stability_column_values = pd.concat([\n",
    "                               new_data_1['New Stability(NPK + 10%)_Rice_Maize'], \n",
    "                               new_data_1['New Stability(NPK - 10%)_Rice_Maize'], \n",
    "                               new_data_1['New Stability(NPK + 10%)_Rice_Maize'], \n",
    "                               new_data_1['New Stability(NPK - 10%)_Rice_Maize'], \n",
    "                               new_data_1['New Stability(NPK + 20%)_Rice_Maize'], \n",
    "                               new_data_1['New Stability(NPK - 20%)_Rice_Maize'],\n",
    "                               new_data_1['New Stability(NPK + 20%)_Rice_Maize'], \n",
    "                               new_data_1['New Stability(NPK - 20%)_Rice_Maize']], axis=0)\n",
    "\n",
    "Stability_column_values.reset_index(drop=True, inplace=True)\n",
    "\n",
    "result_df_2['Stability'] = Stability_column_values"
   ]
  },
  {
   "cell_type": "code",
   "execution_count": 63,
   "metadata": {},
   "outputs": [
    {
     "data": {
      "text/html": [
       "<div>\n",
       "<style scoped>\n",
       "    .dataframe tbody tr th:only-of-type {\n",
       "        vertical-align: middle;\n",
       "    }\n",
       "\n",
       "    .dataframe tbody tr th {\n",
       "        vertical-align: top;\n",
       "    }\n",
       "\n",
       "    .dataframe thead th {\n",
       "        text-align: right;\n",
       "    }\n",
       "</style>\n",
       "<table border=\"1\" class=\"dataframe\">\n",
       "  <thead>\n",
       "    <tr style=\"text-align: right;\">\n",
       "      <th></th>\n",
       "      <th>District</th>\n",
       "      <th>Initial_Stability</th>\n",
       "      <th>Base_Column</th>\n",
       "      <th>Intervention_Percentage</th>\n",
       "      <th>Capability_Vector</th>\n",
       "      <th>New_Values</th>\n",
       "      <th>Normalized_New_Values</th>\n",
       "      <th>Percent_Change</th>\n",
       "      <th>Stability</th>\n",
       "    </tr>\n",
       "  </thead>\n",
       "  <tbody>\n",
       "    <tr>\n",
       "      <th>0</th>\n",
       "      <td>BENGALURU</td>\n",
       "      <td>0.959409</td>\n",
       "      <td>TotalNPK</td>\n",
       "      <td>10</td>\n",
       "      <td>Rice_Production</td>\n",
       "      <td>72943.836709</td>\n",
       "      <td>0.117432</td>\n",
       "      <td>2060.658670</td>\n",
       "      <td>0.940864</td>\n",
       "    </tr>\n",
       "    <tr>\n",
       "      <th>1</th>\n",
       "      <td>BENGALURU(R)</td>\n",
       "      <td>0.983965</td>\n",
       "      <td>TotalNPK</td>\n",
       "      <td>10</td>\n",
       "      <td>Rice_Production</td>\n",
       "      <td>63245.182265</td>\n",
       "      <td>0.100612</td>\n",
       "      <td>2586.711226</td>\n",
       "      <td>0.976666</td>\n",
       "    </tr>\n",
       "    <tr>\n",
       "      <th>2</th>\n",
       "      <td>RAMANAGARA</td>\n",
       "      <td>0.868345</td>\n",
       "      <td>TotalNPK</td>\n",
       "      <td>10</td>\n",
       "      <td>Rice_Production</td>\n",
       "      <td>35025.473567</td>\n",
       "      <td>0.051671</td>\n",
       "      <td>188.798430</td>\n",
       "      <td>0.835654</td>\n",
       "    </tr>\n",
       "    <tr>\n",
       "      <th>3</th>\n",
       "      <td>CHITRADURGA</td>\n",
       "      <td>0.562713</td>\n",
       "      <td>TotalNPK</td>\n",
       "      <td>10</td>\n",
       "      <td>Rice_Production</td>\n",
       "      <td>103047.732286</td>\n",
       "      <td>0.169641</td>\n",
       "      <td>2156.849152</td>\n",
       "      <td>0.806185</td>\n",
       "    </tr>\n",
       "    <tr>\n",
       "      <th>4</th>\n",
       "      <td>DAVANAGERE</td>\n",
       "      <td>0.072591</td>\n",
       "      <td>TotalNPK</td>\n",
       "      <td>10</td>\n",
       "      <td>Rice_Production</td>\n",
       "      <td>255697.993301</td>\n",
       "      <td>0.434382</td>\n",
       "      <td>-47.763967</td>\n",
       "      <td>0.727833</td>\n",
       "    </tr>\n",
       "    <tr>\n",
       "      <th>...</th>\n",
       "      <td>...</td>\n",
       "      <td>...</td>\n",
       "      <td>...</td>\n",
       "      <td>...</td>\n",
       "      <td>...</td>\n",
       "      <td>...</td>\n",
       "      <td>...</td>\n",
       "      <td>...</td>\n",
       "      <td>...</td>\n",
       "    </tr>\n",
       "    <tr>\n",
       "      <th>243</th>\n",
       "      <td>KALABURAGI</td>\n",
       "      <td>0.826587</td>\n",
       "      <td>TotalNPK</td>\n",
       "      <td>-20</td>\n",
       "      <td>Maize_Production</td>\n",
       "      <td>109806.921042</td>\n",
       "      <td>0.181364</td>\n",
       "      <td>651.021962</td>\n",
       "      <td>0.994402</td>\n",
       "    </tr>\n",
       "    <tr>\n",
       "      <th>244</th>\n",
       "      <td>YADGIRI</td>\n",
       "      <td>0.823837</td>\n",
       "      <td>TotalNPK</td>\n",
       "      <td>-20</td>\n",
       "      <td>Maize_Production</td>\n",
       "      <td>191520.031632</td>\n",
       "      <td>0.323078</td>\n",
       "      <td>7064.984348</td>\n",
       "      <td>0.928301</td>\n",
       "    </tr>\n",
       "    <tr>\n",
       "      <th>245</th>\n",
       "      <td>RAICHUR</td>\n",
       "      <td>0.228765</td>\n",
       "      <td>TotalNPK</td>\n",
       "      <td>-20</td>\n",
       "      <td>Maize_Production</td>\n",
       "      <td>248004.574459</td>\n",
       "      <td>0.421039</td>\n",
       "      <td>34202.154144</td>\n",
       "      <td>0.791588</td>\n",
       "    </tr>\n",
       "    <tr>\n",
       "      <th>246</th>\n",
       "      <td>KOPPAL</td>\n",
       "      <td>0.828223</td>\n",
       "      <td>TotalNPK</td>\n",
       "      <td>-20</td>\n",
       "      <td>Maize_Production</td>\n",
       "      <td>152538.572590</td>\n",
       "      <td>0.255473</td>\n",
       "      <td>-19.822881</td>\n",
       "      <td>0.989195</td>\n",
       "    </tr>\n",
       "    <tr>\n",
       "      <th>247</th>\n",
       "      <td>Vijayanagara</td>\n",
       "      <td>0.689841</td>\n",
       "      <td>TotalNPK</td>\n",
       "      <td>-20</td>\n",
       "      <td>Maize_Production</td>\n",
       "      <td>126558.217984</td>\n",
       "      <td>0.210415</td>\n",
       "      <td>21.637962</td>\n",
       "      <td>0.998978</td>\n",
       "    </tr>\n",
       "  </tbody>\n",
       "</table>\n",
       "<p>248 rows × 9 columns</p>\n",
       "</div>"
      ],
      "text/plain": [
       "         District  Initial_Stability Base_Column  Intervention_Percentage  \\\n",
       "0       BENGALURU           0.959409    TotalNPK                       10   \n",
       "1    BENGALURU(R)           0.983965    TotalNPK                       10   \n",
       "2      RAMANAGARA           0.868345    TotalNPK                       10   \n",
       "3     CHITRADURGA           0.562713    TotalNPK                       10   \n",
       "4      DAVANAGERE           0.072591    TotalNPK                       10   \n",
       "..            ...                ...         ...                      ...   \n",
       "243    KALABURAGI           0.826587    TotalNPK                      -20   \n",
       "244       YADGIRI           0.823837    TotalNPK                      -20   \n",
       "245       RAICHUR           0.228765    TotalNPK                      -20   \n",
       "246        KOPPAL           0.828223    TotalNPK                      -20   \n",
       "247  Vijayanagara           0.689841    TotalNPK                      -20   \n",
       "\n",
       "    Capability_Vector     New_Values  Normalized_New_Values  Percent_Change  \\\n",
       "0     Rice_Production   72943.836709               0.117432     2060.658670   \n",
       "1     Rice_Production   63245.182265               0.100612     2586.711226   \n",
       "2     Rice_Production   35025.473567               0.051671      188.798430   \n",
       "3     Rice_Production  103047.732286               0.169641     2156.849152   \n",
       "4     Rice_Production  255697.993301               0.434382      -47.763967   \n",
       "..                ...            ...                    ...             ...   \n",
       "243  Maize_Production  109806.921042               0.181364      651.021962   \n",
       "244  Maize_Production  191520.031632               0.323078     7064.984348   \n",
       "245  Maize_Production  248004.574459               0.421039    34202.154144   \n",
       "246  Maize_Production  152538.572590               0.255473      -19.822881   \n",
       "247  Maize_Production  126558.217984               0.210415       21.637962   \n",
       "\n",
       "     Stability  \n",
       "0     0.940864  \n",
       "1     0.976666  \n",
       "2     0.835654  \n",
       "3     0.806185  \n",
       "4     0.727833  \n",
       "..         ...  \n",
       "243   0.994402  \n",
       "244   0.928301  \n",
       "245   0.791588  \n",
       "246   0.989195  \n",
       "247   0.998978  \n",
       "\n",
       "[248 rows x 9 columns]"
      ]
     },
     "execution_count": 63,
     "metadata": {},
     "output_type": "execute_result"
    }
   ],
   "source": [
    "result_df_2"
   ]
  },
  {
   "cell_type": "code",
   "execution_count": 64,
   "metadata": {},
   "outputs": [
    {
     "data": {
      "text/html": [
       "<div>\n",
       "<style scoped>\n",
       "    .dataframe tbody tr th:only-of-type {\n",
       "        vertical-align: middle;\n",
       "    }\n",
       "\n",
       "    .dataframe tbody tr th {\n",
       "        vertical-align: top;\n",
       "    }\n",
       "\n",
       "    .dataframe thead th {\n",
       "        text-align: right;\n",
       "    }\n",
       "</style>\n",
       "<table border=\"1\" class=\"dataframe\">\n",
       "  <thead>\n",
       "    <tr style=\"text-align: right;\">\n",
       "      <th></th>\n",
       "      <th>Rice_Production (TotalNPK +10%)</th>\n",
       "      <th>Rice_Production (TotalNPK -10%)</th>\n",
       "      <th>Normalized Rice_Production (TotalNPK +10%)</th>\n",
       "      <th>Normalized Rice_Production (TotalNPK -10%)</th>\n",
       "      <th>Percent Change in Rice_Production (TotalNPK +10%)</th>\n",
       "      <th>Percent Change in Rice_Production (TotalNPK -10%)</th>\n",
       "      <th>Maize_Production (TotalNPK +10%)</th>\n",
       "      <th>Maize_Production (TotalNPK -10%)</th>\n",
       "      <th>Normalized Maize_Production (TotalNPK +10%)</th>\n",
       "      <th>Normalized Maize_Production (TotalNPK -10%)</th>\n",
       "      <th>...</th>\n",
       "      <th>Normalized Rice_Production (TotalNPK +20%)</th>\n",
       "      <th>Normalized Rice_Production (TotalNPK -20%)</th>\n",
       "      <th>Percent Change in Rice_Production (TotalNPK +20%)</th>\n",
       "      <th>Percent Change in Rice_Production (TotalNPK -20%)</th>\n",
       "      <th>Maize_Production (TotalNPK +20%)</th>\n",
       "      <th>Maize_Production (TotalNPK -20%)</th>\n",
       "      <th>Normalized Maize_Production (TotalNPK +20%)</th>\n",
       "      <th>Normalized Maize_Production (TotalNPK -20%)</th>\n",
       "      <th>Percent Change in Maize_Production (TotalNPK +20%)</th>\n",
       "      <th>Percent Change in Maize_Production (TotalNPK -20%)</th>\n",
       "    </tr>\n",
       "  </thead>\n",
       "  <tbody>\n",
       "    <tr>\n",
       "      <th>0</th>\n",
       "      <td>72943.836709</td>\n",
       "      <td>62797.043096</td>\n",
       "      <td>0.117432</td>\n",
       "      <td>0.099835</td>\n",
       "      <td>2060.658670</td>\n",
       "      <td>1760.101987</td>\n",
       "      <td>61841.718503</td>\n",
       "      <td>49106.143430</td>\n",
       "      <td>0.098178</td>\n",
       "      <td>0.076091</td>\n",
       "      <td>...</td>\n",
       "      <td>0.126231</td>\n",
       "      <td>0.091036</td>\n",
       "      <td>2210.937012</td>\n",
       "      <td>1609.823646</td>\n",
       "      <td>68209.506039</td>\n",
       "      <td>42738.355894</td>\n",
       "      <td>0.109221</td>\n",
       "      <td>0.065047</td>\n",
       "      <td>2.269208e+03</td>\n",
       "      <td>1.384486e+03</td>\n",
       "    </tr>\n",
       "    <tr>\n",
       "      <th>1</th>\n",
       "      <td>63245.182265</td>\n",
       "      <td>54861.780369</td>\n",
       "      <td>0.100612</td>\n",
       "      <td>0.086073</td>\n",
       "      <td>2586.711226</td>\n",
       "      <td>2230.576906</td>\n",
       "      <td>49668.617670</td>\n",
       "      <td>39146.333658</td>\n",
       "      <td>0.077066</td>\n",
       "      <td>0.058817</td>\n",
       "      <td>...</td>\n",
       "      <td>0.107882</td>\n",
       "      <td>0.078803</td>\n",
       "      <td>2764.778386</td>\n",
       "      <td>2052.509746</td>\n",
       "      <td>54929.759676</td>\n",
       "      <td>33885.191652</td>\n",
       "      <td>0.086190</td>\n",
       "      <td>0.049693</td>\n",
       "      <td>2.899457e+01</td>\n",
       "      <td>-2.042554e+01</td>\n",
       "    </tr>\n",
       "    <tr>\n",
       "      <th>2</th>\n",
       "      <td>35025.473567</td>\n",
       "      <td>31772.927798</td>\n",
       "      <td>0.051671</td>\n",
       "      <td>0.046030</td>\n",
       "      <td>188.798430</td>\n",
       "      <td>161.979946</td>\n",
       "      <td>14249.131244</td>\n",
       "      <td>10166.753855</td>\n",
       "      <td>0.015638</td>\n",
       "      <td>0.008558</td>\n",
       "      <td>...</td>\n",
       "      <td>0.054491</td>\n",
       "      <td>0.043209</td>\n",
       "      <td>202.207672</td>\n",
       "      <td>148.570703</td>\n",
       "      <td>16290.319939</td>\n",
       "      <td>8125.565160</td>\n",
       "      <td>0.019178</td>\n",
       "      <td>0.005018</td>\n",
       "      <td>5.588823e+01</td>\n",
       "      <td>-2.224340e+01</td>\n",
       "    </tr>\n",
       "    <tr>\n",
       "      <th>3</th>\n",
       "      <td>103047.732286</td>\n",
       "      <td>87427.503114</td>\n",
       "      <td>0.169641</td>\n",
       "      <td>0.142551</td>\n",
       "      <td>2156.849152</td>\n",
       "      <td>1814.750397</td>\n",
       "      <td>99626.109978</td>\n",
       "      <td>80020.645546</td>\n",
       "      <td>0.163707</td>\n",
       "      <td>0.129706</td>\n",
       "      <td>...</td>\n",
       "      <td>0.183186</td>\n",
       "      <td>0.129006</td>\n",
       "      <td>2327.898530</td>\n",
       "      <td>1643.701019</td>\n",
       "      <td>109428.842194</td>\n",
       "      <td>70217.913330</td>\n",
       "      <td>0.180708</td>\n",
       "      <td>0.112705</td>\n",
       "      <td>-5.976511e+01</td>\n",
       "      <td>-7.418222e+01</td>\n",
       "    </tr>\n",
       "    <tr>\n",
       "      <th>4</th>\n",
       "      <td>255697.993301</td>\n",
       "      <td>212323.171216</td>\n",
       "      <td>0.434382</td>\n",
       "      <td>0.359157</td>\n",
       "      <td>-47.763967</td>\n",
       "      <td>-56.624923</td>\n",
       "      <td>291222.483485</td>\n",
       "      <td>236781.314779</td>\n",
       "      <td>0.495992</td>\n",
       "      <td>0.401575</td>\n",
       "      <td>...</td>\n",
       "      <td>0.471994</td>\n",
       "      <td>0.321545</td>\n",
       "      <td>-43.333489</td>\n",
       "      <td>-61.055401</td>\n",
       "      <td>318443.067838</td>\n",
       "      <td>209560.730426</td>\n",
       "      <td>0.543200</td>\n",
       "      <td>0.354366</td>\n",
       "      <td>-4.634887e+01</td>\n",
       "      <td>-6.469331e+01</td>\n",
       "    </tr>\n",
       "    <tr>\n",
       "      <th>5</th>\n",
       "      <td>70262.401761</td>\n",
       "      <td>60603.141775</td>\n",
       "      <td>0.112782</td>\n",
       "      <td>0.096030</td>\n",
       "      <td>8032.222426</td>\n",
       "      <td>6914.252520</td>\n",
       "      <td>58476.161126</td>\n",
       "      <td>46352.505577</td>\n",
       "      <td>0.092341</td>\n",
       "      <td>0.071315</td>\n",
       "      <td>...</td>\n",
       "      <td>0.121158</td>\n",
       "      <td>0.087654</td>\n",
       "      <td>8591.207379</td>\n",
       "      <td>6355.267567</td>\n",
       "      <td>64537.988901</td>\n",
       "      <td>40290.677802</td>\n",
       "      <td>0.102854</td>\n",
       "      <td>0.060802</td>\n",
       "      <td>3.569016e+03</td>\n",
       "      <td>2.190545e+03</td>\n",
       "    </tr>\n",
       "    <tr>\n",
       "      <th>6</th>\n",
       "      <td>85027.052947</td>\n",
       "      <td>72683.310927</td>\n",
       "      <td>0.138388</td>\n",
       "      <td>0.116980</td>\n",
       "      <td>3051.484542</td>\n",
       "      <td>2593.970012</td>\n",
       "      <td>77007.761431</td>\n",
       "      <td>61514.724008</td>\n",
       "      <td>0.124480</td>\n",
       "      <td>0.097611</td>\n",
       "      <td>...</td>\n",
       "      <td>0.149092</td>\n",
       "      <td>0.106277</td>\n",
       "      <td>3280.241807</td>\n",
       "      <td>2365.212747</td>\n",
       "      <td>84754.280142</td>\n",
       "      <td>53768.205296</td>\n",
       "      <td>0.137915</td>\n",
       "      <td>0.084176</td>\n",
       "      <td>-1.965734e+01</td>\n",
       "      <td>-4.903053e+01</td>\n",
       "    </tr>\n",
       "    <tr>\n",
       "      <th>7</th>\n",
       "      <td>152666.249531</td>\n",
       "      <td>128024.471769</td>\n",
       "      <td>0.255694</td>\n",
       "      <td>0.212958</td>\n",
       "      <td>-60.343751</td>\n",
       "      <td>-66.744645</td>\n",
       "      <td>161903.946254</td>\n",
       "      <td>130975.238863</td>\n",
       "      <td>0.271715</td>\n",
       "      <td>0.218076</td>\n",
       "      <td>...</td>\n",
       "      <td>0.277063</td>\n",
       "      <td>0.191590</td>\n",
       "      <td>-57.143304</td>\n",
       "      <td>-69.945092</td>\n",
       "      <td>177368.299949</td>\n",
       "      <td>115510.885167</td>\n",
       "      <td>0.298535</td>\n",
       "      <td>0.191256</td>\n",
       "      <td>-2.170276e+01</td>\n",
       "      <td>-4.900902e+01</td>\n",
       "    </tr>\n",
       "    <tr>\n",
       "      <th>8</th>\n",
       "      <td>108468.061504</td>\n",
       "      <td>91862.317929</td>\n",
       "      <td>0.179042</td>\n",
       "      <td>0.150242</td>\n",
       "      <td>316.512025</td>\n",
       "      <td>252.746786</td>\n",
       "      <td>106429.343818</td>\n",
       "      <td>85586.927779</td>\n",
       "      <td>0.175506</td>\n",
       "      <td>0.139359</td>\n",
       "      <td>...</td>\n",
       "      <td>0.193441</td>\n",
       "      <td>0.135843</td>\n",
       "      <td>348.394644</td>\n",
       "      <td>220.864166</td>\n",
       "      <td>116850.551837</td>\n",
       "      <td>75165.719759</td>\n",
       "      <td>0.193579</td>\n",
       "      <td>0.121286</td>\n",
       "      <td>7.474809e+01</td>\n",
       "      <td>1.240910e+01</td>\n",
       "    </tr>\n",
       "    <tr>\n",
       "      <th>9</th>\n",
       "      <td>179609.882490</td>\n",
       "      <td>150069.262371</td>\n",
       "      <td>0.302423</td>\n",
       "      <td>0.251191</td>\n",
       "      <td>62.494352</td>\n",
       "      <td>35.768741</td>\n",
       "      <td>195721.787964</td>\n",
       "      <td>158644.382080</td>\n",
       "      <td>0.330365</td>\n",
       "      <td>0.266062</td>\n",
       "      <td>...</td>\n",
       "      <td>0.328039</td>\n",
       "      <td>0.225574</td>\n",
       "      <td>75.857158</td>\n",
       "      <td>22.405935</td>\n",
       "      <td>214260.490906</td>\n",
       "      <td>140105.679138</td>\n",
       "      <td>0.362517</td>\n",
       "      <td>0.233911</td>\n",
       "      <td>2.492258e+02</td>\n",
       "      <td>1.283599e+02</td>\n",
       "    </tr>\n",
       "    <tr>\n",
       "      <th>10</th>\n",
       "      <td>61638.715434</td>\n",
       "      <td>53547.398417</td>\n",
       "      <td>0.097826</td>\n",
       "      <td>0.083793</td>\n",
       "      <td>-53.511090</td>\n",
       "      <td>-59.613692</td>\n",
       "      <td>47652.288206</td>\n",
       "      <td>37496.609551</td>\n",
       "      <td>0.073569</td>\n",
       "      <td>0.055956</td>\n",
       "      <td>...</td>\n",
       "      <td>0.104842</td>\n",
       "      <td>0.076777</td>\n",
       "      <td>-50.459790</td>\n",
       "      <td>-62.664992</td>\n",
       "      <td>52730.127534</td>\n",
       "      <td>32418.770224</td>\n",
       "      <td>0.082376</td>\n",
       "      <td>0.047150</td>\n",
       "      <td>inf</td>\n",
       "      <td>inf</td>\n",
       "    </tr>\n",
       "    <tr>\n",
       "      <th>11</th>\n",
       "      <td>31855.634396</td>\n",
       "      <td>29179.423021</td>\n",
       "      <td>0.046173</td>\n",
       "      <td>0.041532</td>\n",
       "      <td>-76.942272</td>\n",
       "      <td>-78.879366</td>\n",
       "      <td>10270.561631</td>\n",
       "      <td>6911.560535</td>\n",
       "      <td>0.008738</td>\n",
       "      <td>0.002913</td>\n",
       "      <td>...</td>\n",
       "      <td>0.048494</td>\n",
       "      <td>0.039211</td>\n",
       "      <td>-75.973725</td>\n",
       "      <td>-79.847913</td>\n",
       "      <td>11950.062179</td>\n",
       "      <td>5232.059987</td>\n",
       "      <td>0.011651</td>\n",
       "      <td>0.000000</td>\n",
       "      <td>1.086336e+04</td>\n",
       "      <td>4.700055e+03</td>\n",
       "    </tr>\n",
       "    <tr>\n",
       "      <th>12</th>\n",
       "      <td>180969.753071</td>\n",
       "      <td>151181.883756</td>\n",
       "      <td>0.304781</td>\n",
       "      <td>0.253120</td>\n",
       "      <td>25.931424</td>\n",
       "      <td>5.202939</td>\n",
       "      <td>197428.606348</td>\n",
       "      <td>160040.869849</td>\n",
       "      <td>0.333326</td>\n",
       "      <td>0.268484</td>\n",
       "      <td>...</td>\n",
       "      <td>0.330612</td>\n",
       "      <td>0.227290</td>\n",
       "      <td>36.295667</td>\n",
       "      <td>-5.161303</td>\n",
       "      <td>216122.474597</td>\n",
       "      <td>141347.001599</td>\n",
       "      <td>0.365746</td>\n",
       "      <td>0.236064</td>\n",
       "      <td>-3.528046e+01</td>\n",
       "      <td>-5.767255e+01</td>\n",
       "    </tr>\n",
       "    <tr>\n",
       "      <th>13</th>\n",
       "      <td>115169.254738</td>\n",
       "      <td>97345.112393</td>\n",
       "      <td>0.190664</td>\n",
       "      <td>0.159751</td>\n",
       "      <td>33.447568</td>\n",
       "      <td>12.794587</td>\n",
       "      <td>114840.232297</td>\n",
       "      <td>92468.563807</td>\n",
       "      <td>0.190093</td>\n",
       "      <td>0.151294</td>\n",
       "      <td>...</td>\n",
       "      <td>0.206120</td>\n",
       "      <td>0.144295</td>\n",
       "      <td>43.774059</td>\n",
       "      <td>2.468096</td>\n",
       "      <td>126026.066542</td>\n",
       "      <td>81282.729563</td>\n",
       "      <td>0.209492</td>\n",
       "      <td>0.131894</td>\n",
       "      <td>6.032312e+02</td>\n",
       "      <td>3.535614e+02</td>\n",
       "    </tr>\n",
       "    <tr>\n",
       "      <th>14</th>\n",
       "      <td>162120.701864</td>\n",
       "      <td>135759.932768</td>\n",
       "      <td>0.272091</td>\n",
       "      <td>0.226374</td>\n",
       "      <td>-34.242423</td>\n",
       "      <td>-44.934582</td>\n",
       "      <td>173770.540968</td>\n",
       "      <td>140684.270902</td>\n",
       "      <td>0.292296</td>\n",
       "      <td>0.234914</td>\n",
       "      <td>...</td>\n",
       "      <td>0.294950</td>\n",
       "      <td>0.203515</td>\n",
       "      <td>-28.896344</td>\n",
       "      <td>-50.280662</td>\n",
       "      <td>190313.676001</td>\n",
       "      <td>124141.135868</td>\n",
       "      <td>0.320986</td>\n",
       "      <td>0.206223</td>\n",
       "      <td>8.816561e+02</td>\n",
       "      <td>5.403319e+02</td>\n",
       "    </tr>\n",
       "    <tr>\n",
       "      <th>15</th>\n",
       "      <td>165606.567297</td>\n",
       "      <td>138612.004487</td>\n",
       "      <td>0.278137</td>\n",
       "      <td>0.231320</td>\n",
       "      <td>-53.248463</td>\n",
       "      <td>-60.869159</td>\n",
       "      <td>178145.765557</td>\n",
       "      <td>144264.000111</td>\n",
       "      <td>0.299883</td>\n",
       "      <td>0.241122</td>\n",
       "      <td>...</td>\n",
       "      <td>0.301545</td>\n",
       "      <td>0.207912</td>\n",
       "      <td>-49.438115</td>\n",
       "      <td>-64.679507</td>\n",
       "      <td>195086.648280</td>\n",
       "      <td>127323.117388</td>\n",
       "      <td>0.329264</td>\n",
       "      <td>0.211742</td>\n",
       "      <td>4.223912e+01</td>\n",
       "      <td>-7.167770e+00</td>\n",
       "    </tr>\n",
       "    <tr>\n",
       "      <th>16</th>\n",
       "      <td>74124.146915</td>\n",
       "      <td>63762.751446</td>\n",
       "      <td>0.119479</td>\n",
       "      <td>0.101510</td>\n",
       "      <td>61.645470</td>\n",
       "      <td>39.049964</td>\n",
       "      <td>63323.164741</td>\n",
       "      <td>50318.235807</td>\n",
       "      <td>0.100747</td>\n",
       "      <td>0.078193</td>\n",
       "      <td>...</td>\n",
       "      <td>0.128464</td>\n",
       "      <td>0.092525</td>\n",
       "      <td>72.943224</td>\n",
       "      <td>27.752211</td>\n",
       "      <td>69825.629208</td>\n",
       "      <td>43815.771340</td>\n",
       "      <td>0.112024</td>\n",
       "      <td>0.066916</td>\n",
       "      <td>-5.278415e+01</td>\n",
       "      <td>-7.037193e+01</td>\n",
       "    </tr>\n",
       "    <tr>\n",
       "      <th>17</th>\n",
       "      <td>448062.221217</td>\n",
       "      <td>369712.084966</td>\n",
       "      <td>0.767998</td>\n",
       "      <td>0.632116</td>\n",
       "      <td>152.355491</td>\n",
       "      <td>108.227497</td>\n",
       "      <td>532665.165708</td>\n",
       "      <td>434325.327507</td>\n",
       "      <td>0.914725</td>\n",
       "      <td>0.744174</td>\n",
       "      <td>...</td>\n",
       "      <td>0.835939</td>\n",
       "      <td>0.564175</td>\n",
       "      <td>174.419488</td>\n",
       "      <td>86.163500</td>\n",
       "      <td>581835.084808</td>\n",
       "      <td>385155.408407</td>\n",
       "      <td>1.000000</td>\n",
       "      <td>0.658899</td>\n",
       "      <td>8.802799e-01</td>\n",
       "      <td>-3.322062e+01</td>\n",
       "    </tr>\n",
       "    <tr>\n",
       "      <th>18</th>\n",
       "      <td>146965.806127</td>\n",
       "      <td>123360.472619</td>\n",
       "      <td>0.245808</td>\n",
       "      <td>0.204870</td>\n",
       "      <td>86350.474192</td>\n",
       "      <td>72464.983894</td>\n",
       "      <td>154749.131867</td>\n",
       "      <td>125121.299819</td>\n",
       "      <td>0.259307</td>\n",
       "      <td>0.207923</td>\n",
       "      <td>...</td>\n",
       "      <td>0.266278</td>\n",
       "      <td>0.184400</td>\n",
       "      <td>93293.219341</td>\n",
       "      <td>65522.238745</td>\n",
       "      <td>169563.047890</td>\n",
       "      <td>110307.383795</td>\n",
       "      <td>0.284998</td>\n",
       "      <td>0.182232</td>\n",
       "      <td>-2.508050e+01</td>\n",
       "      <td>-5.126194e+01</td>\n",
       "    </tr>\n",
       "    <tr>\n",
       "      <th>19</th>\n",
       "      <td>220188.133336</td>\n",
       "      <td>183269.649427</td>\n",
       "      <td>0.372797</td>\n",
       "      <td>0.308770</td>\n",
       "      <td>258944.862748</td>\n",
       "      <td>215511.352267</td>\n",
       "      <td>246652.887941</td>\n",
       "      <td>200315.282062</td>\n",
       "      <td>0.418695</td>\n",
       "      <td>0.338332</td>\n",
       "      <td>...</td>\n",
       "      <td>0.404811</td>\n",
       "      <td>0.276756</td>\n",
       "      <td>280661.617988</td>\n",
       "      <td>193794.597026</td>\n",
       "      <td>269821.690881</td>\n",
       "      <td>177146.479122</td>\n",
       "      <td>0.458877</td>\n",
       "      <td>0.298150</td>\n",
       "      <td>7.200144e+00</td>\n",
       "      <td>-2.961971e+01</td>\n",
       "    </tr>\n",
       "    <tr>\n",
       "      <th>20</th>\n",
       "      <td>106631.757392</td>\n",
       "      <td>90359.887291</td>\n",
       "      <td>0.175857</td>\n",
       "      <td>0.147637</td>\n",
       "      <td>213.724315</td>\n",
       "      <td>165.850385</td>\n",
       "      <td>104124.538007</td>\n",
       "      <td>83701.177570</td>\n",
       "      <td>0.171509</td>\n",
       "      <td>0.136089</td>\n",
       "      <td>...</td>\n",
       "      <td>0.189967</td>\n",
       "      <td>0.133527</td>\n",
       "      <td>237.661280</td>\n",
       "      <td>141.913420</td>\n",
       "      <td>114336.218226</td>\n",
       "      <td>73489.497352</td>\n",
       "      <td>0.189219</td>\n",
       "      <td>0.118379</td>\n",
       "      <td>2.615157e+01</td>\n",
       "      <td>-1.891619e+01</td>\n",
       "    </tr>\n",
       "    <tr>\n",
       "      <th>21</th>\n",
       "      <td>72872.012559</td>\n",
       "      <td>62738.277882</td>\n",
       "      <td>0.117308</td>\n",
       "      <td>0.099733</td>\n",
       "      <td>904.023320</td>\n",
       "      <td>764.401734</td>\n",
       "      <td>61751.569644</td>\n",
       "      <td>49032.385273</td>\n",
       "      <td>0.098022</td>\n",
       "      <td>0.075963</td>\n",
       "      <td>...</td>\n",
       "      <td>0.126095</td>\n",
       "      <td>0.090945</td>\n",
       "      <td>973.834113</td>\n",
       "      <td>694.590942</td>\n",
       "      <td>68111.161830</td>\n",
       "      <td>42672.793088</td>\n",
       "      <td>0.109051</td>\n",
       "      <td>0.064933</td>\n",
       "      <td>-5.081374e+01</td>\n",
       "      <td>-6.918398e+01</td>\n",
       "    </tr>\n",
       "    <tr>\n",
       "      <th>22</th>\n",
       "      <td>172757.858540</td>\n",
       "      <td>144463.060958</td>\n",
       "      <td>0.290539</td>\n",
       "      <td>0.241468</td>\n",
       "      <td>37.741272</td>\n",
       "      <td>15.181596</td>\n",
       "      <td>187121.586882</td>\n",
       "      <td>151607.853922</td>\n",
       "      <td>0.315450</td>\n",
       "      <td>0.253859</td>\n",
       "      <td>...</td>\n",
       "      <td>0.315075</td>\n",
       "      <td>0.216932</td>\n",
       "      <td>49.021111</td>\n",
       "      <td>3.901757</td>\n",
       "      <td>204878.453362</td>\n",
       "      <td>133850.987442</td>\n",
       "      <td>0.346246</td>\n",
       "      <td>0.223063</td>\n",
       "      <td>-5.045105e+01</td>\n",
       "      <td>-6.762873e+01</td>\n",
       "    </tr>\n",
       "    <tr>\n",
       "      <th>23</th>\n",
       "      <td>53805.094762</td>\n",
       "      <td>47138.072412</td>\n",
       "      <td>0.084240</td>\n",
       "      <td>0.072677</td>\n",
       "      <td>-64.828904</td>\n",
       "      <td>-69.186976</td>\n",
       "      <td>37820.052728</td>\n",
       "      <td>29452.053251</td>\n",
       "      <td>0.056517</td>\n",
       "      <td>0.042005</td>\n",
       "      <td>...</td>\n",
       "      <td>0.090021</td>\n",
       "      <td>0.066896</td>\n",
       "      <td>-62.649868</td>\n",
       "      <td>-71.366012</td>\n",
       "      <td>42004.052466</td>\n",
       "      <td>25268.053512</td>\n",
       "      <td>0.063773</td>\n",
       "      <td>0.034748</td>\n",
       "      <td>7.437750e+01</td>\n",
       "      <td>4.898927e+00</td>\n",
       "    </tr>\n",
       "    <tr>\n",
       "      <th>24</th>\n",
       "      <td>164771.013014</td>\n",
       "      <td>137928.369164</td>\n",
       "      <td>0.276688</td>\n",
       "      <td>0.230135</td>\n",
       "      <td>-20.059087</td>\n",
       "      <td>-33.082163</td>\n",
       "      <td>177097.033839</td>\n",
       "      <td>143405.946887</td>\n",
       "      <td>0.298065</td>\n",
       "      <td>0.239634</td>\n",
       "      <td>...</td>\n",
       "      <td>0.299964</td>\n",
       "      <td>0.206858</td>\n",
       "      <td>-13.547548</td>\n",
       "      <td>-39.593701</td>\n",
       "      <td>193942.577315</td>\n",
       "      <td>126560.403411</td>\n",
       "      <td>0.327280</td>\n",
       "      <td>0.210419</td>\n",
       "      <td>8.640259e+01</td>\n",
       "      <td>2.164006e+01</td>\n",
       "    </tr>\n",
       "    <tr>\n",
       "      <th>25</th>\n",
       "      <td>76171.135201</td>\n",
       "      <td>65437.560044</td>\n",
       "      <td>0.123029</td>\n",
       "      <td>0.104414</td>\n",
       "      <td>3641.214892</td>\n",
       "      <td>3114.025542</td>\n",
       "      <td>65892.407202</td>\n",
       "      <td>52420.343275</td>\n",
       "      <td>0.105203</td>\n",
       "      <td>0.081838</td>\n",
       "      <td>...</td>\n",
       "      <td>0.132337</td>\n",
       "      <td>0.095107</td>\n",
       "      <td>3904.809567</td>\n",
       "      <td>2850.430868</td>\n",
       "      <td>72628.439166</td>\n",
       "      <td>45684.311312</td>\n",
       "      <td>0.116885</td>\n",
       "      <td>0.070156</td>\n",
       "      <td>2.502237e+03</td>\n",
       "      <td>1.536844e+03</td>\n",
       "    </tr>\n",
       "    <tr>\n",
       "      <th>26</th>\n",
       "      <td>146417.548445</td>\n",
       "      <td>122911.898153</td>\n",
       "      <td>0.244857</td>\n",
       "      <td>0.204092</td>\n",
       "      <td>1756.206243</td>\n",
       "      <td>1458.213719</td>\n",
       "      <td>154060.995582</td>\n",
       "      <td>124558.279222</td>\n",
       "      <td>0.258113</td>\n",
       "      <td>0.206947</td>\n",
       "      <td>...</td>\n",
       "      <td>0.265240</td>\n",
       "      <td>0.183709</td>\n",
       "      <td>1905.202505</td>\n",
       "      <td>1309.217457</td>\n",
       "      <td>168812.353761</td>\n",
       "      <td>109806.921042</td>\n",
       "      <td>0.283697</td>\n",
       "      <td>0.181364</td>\n",
       "      <td>1.054588e+03</td>\n",
       "      <td>6.510220e+02</td>\n",
       "    </tr>\n",
       "    <tr>\n",
       "      <th>27</th>\n",
       "      <td>235934.381245</td>\n",
       "      <td>196152.943171</td>\n",
       "      <td>0.400106</td>\n",
       "      <td>0.331113</td>\n",
       "      <td>5.018887</td>\n",
       "      <td>-12.688589</td>\n",
       "      <td>266416.522643</td>\n",
       "      <td>216485.528636</td>\n",
       "      <td>0.452971</td>\n",
       "      <td>0.366376</td>\n",
       "      <td>...</td>\n",
       "      <td>0.434602</td>\n",
       "      <td>0.296617</td>\n",
       "      <td>13.872625</td>\n",
       "      <td>-21.542327</td>\n",
       "      <td>291382.019646</td>\n",
       "      <td>191520.031632</td>\n",
       "      <td>0.496269</td>\n",
       "      <td>0.323078</td>\n",
       "      <td>1.080094e+04</td>\n",
       "      <td>7.064984e+03</td>\n",
       "    </tr>\n",
       "    <tr>\n",
       "      <th>28</th>\n",
       "      <td>297813.280965</td>\n",
       "      <td>246781.133851</td>\n",
       "      <td>0.507422</td>\n",
       "      <td>0.418917</td>\n",
       "      <td>-39.510893</td>\n",
       "      <td>-49.876075</td>\n",
       "      <td>344082.769030</td>\n",
       "      <td>280030.639316</td>\n",
       "      <td>0.587667</td>\n",
       "      <td>0.476582</td>\n",
       "      <td>...</td>\n",
       "      <td>0.551675</td>\n",
       "      <td>0.374665</td>\n",
       "      <td>-34.328301</td>\n",
       "      <td>-55.058666</td>\n",
       "      <td>376108.833887</td>\n",
       "      <td>248004.574459</td>\n",
       "      <td>0.643210</td>\n",
       "      <td>0.421039</td>\n",
       "      <td>5.192059e+04</td>\n",
       "      <td>3.420215e+04</td>\n",
       "    </tr>\n",
       "    <tr>\n",
       "      <th>29</th>\n",
       "      <td>193230.135547</td>\n",
       "      <td>161213.105781</td>\n",
       "      <td>0.326044</td>\n",
       "      <td>0.270517</td>\n",
       "      <td>-20.646338</td>\n",
       "      <td>-33.794745</td>\n",
       "      <td>212817.016459</td>\n",
       "      <td>172631.387213</td>\n",
       "      <td>0.360014</td>\n",
       "      <td>0.290320</td>\n",
       "      <td>...</td>\n",
       "      <td>0.353808</td>\n",
       "      <td>0.242754</td>\n",
       "      <td>-14.072134</td>\n",
       "      <td>-40.368949</td>\n",
       "      <td>232909.831083</td>\n",
       "      <td>152538.572590</td>\n",
       "      <td>0.394861</td>\n",
       "      <td>0.255473</td>\n",
       "      <td>2.242175e+01</td>\n",
       "      <td>-1.982288e+01</td>\n",
       "    </tr>\n",
       "    <tr>\n",
       "      <th>30</th>\n",
       "      <td>164768.618876</td>\n",
       "      <td>137926.410323</td>\n",
       "      <td>0.276684</td>\n",
       "      <td>0.230131</td>\n",
       "      <td>-20.060248</td>\n",
       "      <td>-33.083113</td>\n",
       "      <td>177094.028877</td>\n",
       "      <td>143403.488282</td>\n",
       "      <td>0.298059</td>\n",
       "      <td>0.239630</td>\n",
       "      <td>...</td>\n",
       "      <td>0.299960</td>\n",
       "      <td>0.206855</td>\n",
       "      <td>-13.548816</td>\n",
       "      <td>-39.594546</td>\n",
       "      <td>193939.299175</td>\n",
       "      <td>126558.217984</td>\n",
       "      <td>0.327274</td>\n",
       "      <td>0.210415</td>\n",
       "      <td>8.639944e+01</td>\n",
       "      <td>2.163796e+01</td>\n",
       "    </tr>\n",
       "  </tbody>\n",
       "</table>\n",
       "<p>31 rows × 24 columns</p>\n",
       "</div>"
      ],
      "text/plain": [
       "    Rice_Production (TotalNPK +10%)  Rice_Production (TotalNPK -10%)  \\\n",
       "0                      72943.836709                     62797.043096   \n",
       "1                      63245.182265                     54861.780369   \n",
       "2                      35025.473567                     31772.927798   \n",
       "3                     103047.732286                     87427.503114   \n",
       "4                     255697.993301                    212323.171216   \n",
       "5                      70262.401761                     60603.141775   \n",
       "6                      85027.052947                     72683.310927   \n",
       "7                     152666.249531                    128024.471769   \n",
       "8                     108468.061504                     91862.317929   \n",
       "9                     179609.882490                    150069.262371   \n",
       "10                     61638.715434                     53547.398417   \n",
       "11                     31855.634396                     29179.423021   \n",
       "12                    180969.753071                    151181.883756   \n",
       "13                    115169.254738                     97345.112393   \n",
       "14                    162120.701864                    135759.932768   \n",
       "15                    165606.567297                    138612.004487   \n",
       "16                     74124.146915                     63762.751446   \n",
       "17                    448062.221217                    369712.084966   \n",
       "18                    146965.806127                    123360.472619   \n",
       "19                    220188.133336                    183269.649427   \n",
       "20                    106631.757392                     90359.887291   \n",
       "21                     72872.012559                     62738.277882   \n",
       "22                    172757.858540                    144463.060958   \n",
       "23                     53805.094762                     47138.072412   \n",
       "24                    164771.013014                    137928.369164   \n",
       "25                     76171.135201                     65437.560044   \n",
       "26                    146417.548445                    122911.898153   \n",
       "27                    235934.381245                    196152.943171   \n",
       "28                    297813.280965                    246781.133851   \n",
       "29                    193230.135547                    161213.105781   \n",
       "30                    164768.618876                    137926.410323   \n",
       "\n",
       "    Normalized Rice_Production (TotalNPK +10%)  \\\n",
       "0                                     0.117432   \n",
       "1                                     0.100612   \n",
       "2                                     0.051671   \n",
       "3                                     0.169641   \n",
       "4                                     0.434382   \n",
       "5                                     0.112782   \n",
       "6                                     0.138388   \n",
       "7                                     0.255694   \n",
       "8                                     0.179042   \n",
       "9                                     0.302423   \n",
       "10                                    0.097826   \n",
       "11                                    0.046173   \n",
       "12                                    0.304781   \n",
       "13                                    0.190664   \n",
       "14                                    0.272091   \n",
       "15                                    0.278137   \n",
       "16                                    0.119479   \n",
       "17                                    0.767998   \n",
       "18                                    0.245808   \n",
       "19                                    0.372797   \n",
       "20                                    0.175857   \n",
       "21                                    0.117308   \n",
       "22                                    0.290539   \n",
       "23                                    0.084240   \n",
       "24                                    0.276688   \n",
       "25                                    0.123029   \n",
       "26                                    0.244857   \n",
       "27                                    0.400106   \n",
       "28                                    0.507422   \n",
       "29                                    0.326044   \n",
       "30                                    0.276684   \n",
       "\n",
       "    Normalized Rice_Production (TotalNPK -10%)  \\\n",
       "0                                     0.099835   \n",
       "1                                     0.086073   \n",
       "2                                     0.046030   \n",
       "3                                     0.142551   \n",
       "4                                     0.359157   \n",
       "5                                     0.096030   \n",
       "6                                     0.116980   \n",
       "7                                     0.212958   \n",
       "8                                     0.150242   \n",
       "9                                     0.251191   \n",
       "10                                    0.083793   \n",
       "11                                    0.041532   \n",
       "12                                    0.253120   \n",
       "13                                    0.159751   \n",
       "14                                    0.226374   \n",
       "15                                    0.231320   \n",
       "16                                    0.101510   \n",
       "17                                    0.632116   \n",
       "18                                    0.204870   \n",
       "19                                    0.308770   \n",
       "20                                    0.147637   \n",
       "21                                    0.099733   \n",
       "22                                    0.241468   \n",
       "23                                    0.072677   \n",
       "24                                    0.230135   \n",
       "25                                    0.104414   \n",
       "26                                    0.204092   \n",
       "27                                    0.331113   \n",
       "28                                    0.418917   \n",
       "29                                    0.270517   \n",
       "30                                    0.230131   \n",
       "\n",
       "    Percent Change in Rice_Production (TotalNPK +10%)  \\\n",
       "0                                         2060.658670   \n",
       "1                                         2586.711226   \n",
       "2                                          188.798430   \n",
       "3                                         2156.849152   \n",
       "4                                          -47.763967   \n",
       "5                                         8032.222426   \n",
       "6                                         3051.484542   \n",
       "7                                          -60.343751   \n",
       "8                                          316.512025   \n",
       "9                                           62.494352   \n",
       "10                                         -53.511090   \n",
       "11                                         -76.942272   \n",
       "12                                          25.931424   \n",
       "13                                          33.447568   \n",
       "14                                         -34.242423   \n",
       "15                                         -53.248463   \n",
       "16                                          61.645470   \n",
       "17                                         152.355491   \n",
       "18                                       86350.474192   \n",
       "19                                      258944.862748   \n",
       "20                                         213.724315   \n",
       "21                                         904.023320   \n",
       "22                                          37.741272   \n",
       "23                                         -64.828904   \n",
       "24                                         -20.059087   \n",
       "25                                        3641.214892   \n",
       "26                                        1756.206243   \n",
       "27                                           5.018887   \n",
       "28                                         -39.510893   \n",
       "29                                         -20.646338   \n",
       "30                                         -20.060248   \n",
       "\n",
       "    Percent Change in Rice_Production (TotalNPK -10%)  \\\n",
       "0                                         1760.101987   \n",
       "1                                         2230.576906   \n",
       "2                                          161.979946   \n",
       "3                                         1814.750397   \n",
       "4                                          -56.624923   \n",
       "5                                         6914.252520   \n",
       "6                                         2593.970012   \n",
       "7                                          -66.744645   \n",
       "8                                          252.746786   \n",
       "9                                           35.768741   \n",
       "10                                         -59.613692   \n",
       "11                                         -78.879366   \n",
       "12                                           5.202939   \n",
       "13                                          12.794587   \n",
       "14                                         -44.934582   \n",
       "15                                         -60.869159   \n",
       "16                                          39.049964   \n",
       "17                                         108.227497   \n",
       "18                                       72464.983894   \n",
       "19                                      215511.352267   \n",
       "20                                         165.850385   \n",
       "21                                         764.401734   \n",
       "22                                          15.181596   \n",
       "23                                         -69.186976   \n",
       "24                                         -33.082163   \n",
       "25                                        3114.025542   \n",
       "26                                        1458.213719   \n",
       "27                                         -12.688589   \n",
       "28                                         -49.876075   \n",
       "29                                         -33.794745   \n",
       "30                                         -33.083113   \n",
       "\n",
       "    Maize_Production (TotalNPK +10%)  Maize_Production (TotalNPK -10%)  \\\n",
       "0                       61841.718503                      49106.143430   \n",
       "1                       49668.617670                      39146.333658   \n",
       "2                       14249.131244                      10166.753855   \n",
       "3                       99626.109978                      80020.645546   \n",
       "4                      291222.483485                     236781.314779   \n",
       "5                       58476.161126                      46352.505577   \n",
       "6                       77007.761431                      61514.724008   \n",
       "7                      161903.946254                     130975.238863   \n",
       "8                      106429.343818                      85586.927779   \n",
       "9                      195721.787964                     158644.382080   \n",
       "10                      47652.288206                      37496.609551   \n",
       "11                      10270.561631                       6911.560535   \n",
       "12                     197428.606348                     160040.869849   \n",
       "13                     114840.232297                      92468.563807   \n",
       "14                     173770.540968                     140684.270902   \n",
       "15                     178145.765557                     144264.000111   \n",
       "16                      63323.164741                      50318.235807   \n",
       "17                     532665.165708                     434325.327507   \n",
       "18                     154749.131867                     125121.299819   \n",
       "19                     246652.887941                     200315.282062   \n",
       "20                     104124.538007                      83701.177570   \n",
       "21                      61751.569644                      49032.385273   \n",
       "22                     187121.586882                     151607.853922   \n",
       "23                      37820.052728                      29452.053251   \n",
       "24                     177097.033839                     143405.946887   \n",
       "25                      65892.407202                      52420.343275   \n",
       "26                     154060.995582                     124558.279222   \n",
       "27                     266416.522643                     216485.528636   \n",
       "28                     344082.769030                     280030.639316   \n",
       "29                     212817.016459                     172631.387213   \n",
       "30                     177094.028877                     143403.488282   \n",
       "\n",
       "    Normalized Maize_Production (TotalNPK +10%)  \\\n",
       "0                                      0.098178   \n",
       "1                                      0.077066   \n",
       "2                                      0.015638   \n",
       "3                                      0.163707   \n",
       "4                                      0.495992   \n",
       "5                                      0.092341   \n",
       "6                                      0.124480   \n",
       "7                                      0.271715   \n",
       "8                                      0.175506   \n",
       "9                                      0.330365   \n",
       "10                                     0.073569   \n",
       "11                                     0.008738   \n",
       "12                                     0.333326   \n",
       "13                                     0.190093   \n",
       "14                                     0.292296   \n",
       "15                                     0.299883   \n",
       "16                                     0.100747   \n",
       "17                                     0.914725   \n",
       "18                                     0.259307   \n",
       "19                                     0.418695   \n",
       "20                                     0.171509   \n",
       "21                                     0.098022   \n",
       "22                                     0.315450   \n",
       "23                                     0.056517   \n",
       "24                                     0.298065   \n",
       "25                                     0.105203   \n",
       "26                                     0.258113   \n",
       "27                                     0.452971   \n",
       "28                                     0.587667   \n",
       "29                                     0.360014   \n",
       "30                                     0.298059   \n",
       "\n",
       "    Normalized Maize_Production (TotalNPK -10%)  ...  \\\n",
       "0                                      0.076091  ...   \n",
       "1                                      0.058817  ...   \n",
       "2                                      0.008558  ...   \n",
       "3                                      0.129706  ...   \n",
       "4                                      0.401575  ...   \n",
       "5                                      0.071315  ...   \n",
       "6                                      0.097611  ...   \n",
       "7                                      0.218076  ...   \n",
       "8                                      0.139359  ...   \n",
       "9                                      0.266062  ...   \n",
       "10                                     0.055956  ...   \n",
       "11                                     0.002913  ...   \n",
       "12                                     0.268484  ...   \n",
       "13                                     0.151294  ...   \n",
       "14                                     0.234914  ...   \n",
       "15                                     0.241122  ...   \n",
       "16                                     0.078193  ...   \n",
       "17                                     0.744174  ...   \n",
       "18                                     0.207923  ...   \n",
       "19                                     0.338332  ...   \n",
       "20                                     0.136089  ...   \n",
       "21                                     0.075963  ...   \n",
       "22                                     0.253859  ...   \n",
       "23                                     0.042005  ...   \n",
       "24                                     0.239634  ...   \n",
       "25                                     0.081838  ...   \n",
       "26                                     0.206947  ...   \n",
       "27                                     0.366376  ...   \n",
       "28                                     0.476582  ...   \n",
       "29                                     0.290320  ...   \n",
       "30                                     0.239630  ...   \n",
       "\n",
       "    Normalized Rice_Production (TotalNPK +20%)  \\\n",
       "0                                     0.126231   \n",
       "1                                     0.107882   \n",
       "2                                     0.054491   \n",
       "3                                     0.183186   \n",
       "4                                     0.471994   \n",
       "5                                     0.121158   \n",
       "6                                     0.149092   \n",
       "7                                     0.277063   \n",
       "8                                     0.193441   \n",
       "9                                     0.328039   \n",
       "10                                    0.104842   \n",
       "11                                    0.048494   \n",
       "12                                    0.330612   \n",
       "13                                    0.206120   \n",
       "14                                    0.294950   \n",
       "15                                    0.301545   \n",
       "16                                    0.128464   \n",
       "17                                    0.835939   \n",
       "18                                    0.266278   \n",
       "19                                    0.404811   \n",
       "20                                    0.189967   \n",
       "21                                    0.126095   \n",
       "22                                    0.315075   \n",
       "23                                    0.090021   \n",
       "24                                    0.299964   \n",
       "25                                    0.132337   \n",
       "26                                    0.265240   \n",
       "27                                    0.434602   \n",
       "28                                    0.551675   \n",
       "29                                    0.353808   \n",
       "30                                    0.299960   \n",
       "\n",
       "    Normalized Rice_Production (TotalNPK -20%)  \\\n",
       "0                                     0.091036   \n",
       "1                                     0.078803   \n",
       "2                                     0.043209   \n",
       "3                                     0.129006   \n",
       "4                                     0.321545   \n",
       "5                                     0.087654   \n",
       "6                                     0.106277   \n",
       "7                                     0.191590   \n",
       "8                                     0.135843   \n",
       "9                                     0.225574   \n",
       "10                                    0.076777   \n",
       "11                                    0.039211   \n",
       "12                                    0.227290   \n",
       "13                                    0.144295   \n",
       "14                                    0.203515   \n",
       "15                                    0.207912   \n",
       "16                                    0.092525   \n",
       "17                                    0.564175   \n",
       "18                                    0.184400   \n",
       "19                                    0.276756   \n",
       "20                                    0.133527   \n",
       "21                                    0.090945   \n",
       "22                                    0.216932   \n",
       "23                                    0.066896   \n",
       "24                                    0.206858   \n",
       "25                                    0.095107   \n",
       "26                                    0.183709   \n",
       "27                                    0.296617   \n",
       "28                                    0.374665   \n",
       "29                                    0.242754   \n",
       "30                                    0.206855   \n",
       "\n",
       "    Percent Change in Rice_Production (TotalNPK +20%)  \\\n",
       "0                                         2210.937012   \n",
       "1                                         2764.778386   \n",
       "2                                          202.207672   \n",
       "3                                         2327.898530   \n",
       "4                                          -43.333489   \n",
       "5                                         8591.207379   \n",
       "6                                         3280.241807   \n",
       "7                                          -57.143304   \n",
       "8                                          348.394644   \n",
       "9                                           75.857158   \n",
       "10                                         -50.459790   \n",
       "11                                         -75.973725   \n",
       "12                                          36.295667   \n",
       "13                                          43.774059   \n",
       "14                                         -28.896344   \n",
       "15                                         -49.438115   \n",
       "16                                          72.943224   \n",
       "17                                         174.419488   \n",
       "18                                       93293.219341   \n",
       "19                                      280661.617988   \n",
       "20                                         237.661280   \n",
       "21                                         973.834113   \n",
       "22                                          49.021111   \n",
       "23                                         -62.649868   \n",
       "24                                         -13.547548   \n",
       "25                                        3904.809567   \n",
       "26                                        1905.202505   \n",
       "27                                          13.872625   \n",
       "28                                         -34.328301   \n",
       "29                                         -14.072134   \n",
       "30                                         -13.548816   \n",
       "\n",
       "    Percent Change in Rice_Production (TotalNPK -20%)  \\\n",
       "0                                         1609.823646   \n",
       "1                                         2052.509746   \n",
       "2                                          148.570703   \n",
       "3                                         1643.701019   \n",
       "4                                          -61.055401   \n",
       "5                                         6355.267567   \n",
       "6                                         2365.212747   \n",
       "7                                          -69.945092   \n",
       "8                                          220.864166   \n",
       "9                                           22.405935   \n",
       "10                                         -62.664992   \n",
       "11                                         -79.847913   \n",
       "12                                          -5.161303   \n",
       "13                                           2.468096   \n",
       "14                                         -50.280662   \n",
       "15                                         -64.679507   \n",
       "16                                          27.752211   \n",
       "17                                          86.163500   \n",
       "18                                       65522.238745   \n",
       "19                                      193794.597026   \n",
       "20                                         141.913420   \n",
       "21                                         694.590942   \n",
       "22                                           3.901757   \n",
       "23                                         -71.366012   \n",
       "24                                         -39.593701   \n",
       "25                                        2850.430868   \n",
       "26                                        1309.217457   \n",
       "27                                         -21.542327   \n",
       "28                                         -55.058666   \n",
       "29                                         -40.368949   \n",
       "30                                         -39.594546   \n",
       "\n",
       "    Maize_Production (TotalNPK +20%)  Maize_Production (TotalNPK -20%)  \\\n",
       "0                       68209.506039                      42738.355894   \n",
       "1                       54929.759676                      33885.191652   \n",
       "2                       16290.319939                       8125.565160   \n",
       "3                      109428.842194                      70217.913330   \n",
       "4                      318443.067838                     209560.730426   \n",
       "5                       64537.988901                      40290.677802   \n",
       "6                       84754.280142                      53768.205296   \n",
       "7                      177368.299949                     115510.885167   \n",
       "8                      116850.551837                      75165.719759   \n",
       "9                      214260.490906                     140105.679138   \n",
       "10                      52730.127534                      32418.770224   \n",
       "11                      11950.062179                       5232.059987   \n",
       "12                     216122.474597                     141347.001599   \n",
       "13                     126026.066542                      81282.729563   \n",
       "14                     190313.676001                     124141.135868   \n",
       "15                     195086.648280                     127323.117388   \n",
       "16                      69825.629208                      43815.771340   \n",
       "17                     581835.084808                     385155.408407   \n",
       "18                     169563.047890                     110307.383795   \n",
       "19                     269821.690881                     177146.479122   \n",
       "20                     114336.218226                      73489.497352   \n",
       "21                      68111.161830                      42672.793088   \n",
       "22                     204878.453362                     133850.987442   \n",
       "23                      42004.052466                      25268.053512   \n",
       "24                     193942.577315                     126560.403411   \n",
       "25                      72628.439166                      45684.311312   \n",
       "26                     168812.353761                     109806.921042   \n",
       "27                     291382.019646                     191520.031632   \n",
       "28                     376108.833887                     248004.574459   \n",
       "29                     232909.831083                     152538.572590   \n",
       "30                     193939.299175                     126558.217984   \n",
       "\n",
       "    Normalized Maize_Production (TotalNPK +20%)  \\\n",
       "0                                      0.109221   \n",
       "1                                      0.086190   \n",
       "2                                      0.019178   \n",
       "3                                      0.180708   \n",
       "4                                      0.543200   \n",
       "5                                      0.102854   \n",
       "6                                      0.137915   \n",
       "7                                      0.298535   \n",
       "8                                      0.193579   \n",
       "9                                      0.362517   \n",
       "10                                     0.082376   \n",
       "11                                     0.011651   \n",
       "12                                     0.365746   \n",
       "13                                     0.209492   \n",
       "14                                     0.320986   \n",
       "15                                     0.329264   \n",
       "16                                     0.112024   \n",
       "17                                     1.000000   \n",
       "18                                     0.284998   \n",
       "19                                     0.458877   \n",
       "20                                     0.189219   \n",
       "21                                     0.109051   \n",
       "22                                     0.346246   \n",
       "23                                     0.063773   \n",
       "24                                     0.327280   \n",
       "25                                     0.116885   \n",
       "26                                     0.283697   \n",
       "27                                     0.496269   \n",
       "28                                     0.643210   \n",
       "29                                     0.394861   \n",
       "30                                     0.327274   \n",
       "\n",
       "    Normalized Maize_Production (TotalNPK -20%)  \\\n",
       "0                                      0.065047   \n",
       "1                                      0.049693   \n",
       "2                                      0.005018   \n",
       "3                                      0.112705   \n",
       "4                                      0.354366   \n",
       "5                                      0.060802   \n",
       "6                                      0.084176   \n",
       "7                                      0.191256   \n",
       "8                                      0.121286   \n",
       "9                                      0.233911   \n",
       "10                                     0.047150   \n",
       "11                                     0.000000   \n",
       "12                                     0.236064   \n",
       "13                                     0.131894   \n",
       "14                                     0.206223   \n",
       "15                                     0.211742   \n",
       "16                                     0.066916   \n",
       "17                                     0.658899   \n",
       "18                                     0.182232   \n",
       "19                                     0.298150   \n",
       "20                                     0.118379   \n",
       "21                                     0.064933   \n",
       "22                                     0.223063   \n",
       "23                                     0.034748   \n",
       "24                                     0.210419   \n",
       "25                                     0.070156   \n",
       "26                                     0.181364   \n",
       "27                                     0.323078   \n",
       "28                                     0.421039   \n",
       "29                                     0.255473   \n",
       "30                                     0.210415   \n",
       "\n",
       "    Percent Change in Maize_Production (TotalNPK +20%)  \\\n",
       "0                                        2.269208e+03    \n",
       "1                                        2.899457e+01    \n",
       "2                                        5.588823e+01    \n",
       "3                                       -5.976511e+01    \n",
       "4                                       -4.634887e+01    \n",
       "5                                        3.569016e+03    \n",
       "6                                       -1.965734e+01    \n",
       "7                                       -2.170276e+01    \n",
       "8                                        7.474809e+01    \n",
       "9                                        2.492258e+02    \n",
       "10                                                inf    \n",
       "11                                       1.086336e+04    \n",
       "12                                      -3.528046e+01    \n",
       "13                                       6.032312e+02    \n",
       "14                                       8.816561e+02    \n",
       "15                                       4.223912e+01    \n",
       "16                                      -5.278415e+01    \n",
       "17                                       8.802799e-01    \n",
       "18                                      -2.508050e+01    \n",
       "19                                       7.200144e+00    \n",
       "20                                       2.615157e+01    \n",
       "21                                      -5.081374e+01    \n",
       "22                                      -5.045105e+01    \n",
       "23                                       7.437750e+01    \n",
       "24                                       8.640259e+01    \n",
       "25                                       2.502237e+03    \n",
       "26                                       1.054588e+03    \n",
       "27                                       1.080094e+04    \n",
       "28                                       5.192059e+04    \n",
       "29                                       2.242175e+01    \n",
       "30                                       8.639944e+01    \n",
       "\n",
       "    Percent Change in Maize_Production (TotalNPK -20%)  \n",
       "0                                        1.384486e+03   \n",
       "1                                       -2.042554e+01   \n",
       "2                                       -2.224340e+01   \n",
       "3                                       -7.418222e+01   \n",
       "4                                       -6.469331e+01   \n",
       "5                                        2.190545e+03   \n",
       "6                                       -4.903053e+01   \n",
       "7                                       -4.900902e+01   \n",
       "8                                        1.240910e+01   \n",
       "9                                        1.283599e+02   \n",
       "10                                                inf   \n",
       "11                                       4.700055e+03   \n",
       "12                                      -5.767255e+01   \n",
       "13                                       3.535614e+02   \n",
       "14                                       5.403319e+02   \n",
       "15                                      -7.167770e+00   \n",
       "16                                      -7.037193e+01   \n",
       "17                                      -3.322062e+01   \n",
       "18                                      -5.126194e+01   \n",
       "19                                      -2.961971e+01   \n",
       "20                                      -1.891619e+01   \n",
       "21                                      -6.918398e+01   \n",
       "22                                      -6.762873e+01   \n",
       "23                                       4.898927e+00   \n",
       "24                                       2.164006e+01   \n",
       "25                                       1.536844e+03   \n",
       "26                                       6.510220e+02   \n",
       "27                                       7.064984e+03   \n",
       "28                                       3.420215e+04   \n",
       "29                                      -1.982288e+01   \n",
       "30                                       2.163796e+01   \n",
       "\n",
       "[31 rows x 24 columns]"
      ]
     },
     "execution_count": 64,
     "metadata": {},
     "output_type": "execute_result"
    }
   ],
   "source": [
    "result_df"
   ]
  },
  {
   "cell_type": "code",
   "execution_count": 65,
   "metadata": {},
   "outputs": [
    {
     "name": "stdout",
     "output_type": "stream",
     "text": [
      "33193.74008284063 487237.2893424388\n"
     ]
    }
   ],
   "source": [
    "print(result_df['Rice_Production (TotalNPK +20%)'].min(), result_df['Rice_Production (TotalNPK +20%)'].max())"
   ]
  },
  {
   "cell_type": "code",
   "execution_count": 66,
   "metadata": {},
   "outputs": [
    {
     "name": "stdout",
     "output_type": "stream",
     "text": [
      "11950.062179126358 581835.084808067\n"
     ]
    }
   ],
   "source": [
    "print(result_df['Maize_Production (TotalNPK +20%)'].min(), result_df['Maize_Production (TotalNPK +20%)'].max())"
   ]
  },
  {
   "cell_type": "code",
   "execution_count": 67,
   "metadata": {},
   "outputs": [
    {
     "name": "stdout",
     "output_type": "stream",
     "text": [
      "Rice_Production\n",
      "2.1764894064966205 17136.471837471167\n",
      "Maize_Production\n",
      "2.731783584846858 -8203.94439643982\n",
      "Rice_Production\n",
      "2.1764894064966205 17136.471837471167\n",
      "Maize_Production\n",
      "2.731783584846858 -8203.94439643982\n"
     ]
    },
    {
     "data": {
      "text/html": [
       "<div>\n",
       "<style scoped>\n",
       "    .dataframe tbody tr th:only-of-type {\n",
       "        vertical-align: middle;\n",
       "    }\n",
       "\n",
       "    .dataframe tbody tr th {\n",
       "        vertical-align: top;\n",
       "    }\n",
       "\n",
       "    .dataframe thead th {\n",
       "        text-align: right;\n",
       "    }\n",
       "</style>\n",
       "<table border=\"1\" class=\"dataframe\">\n",
       "  <thead>\n",
       "    <tr style=\"text-align: right;\">\n",
       "      <th></th>\n",
       "      <th>District</th>\n",
       "      <th>Initial_Stability</th>\n",
       "      <th>Base_Column</th>\n",
       "      <th>Intervention_Percentage</th>\n",
       "      <th>Capability_Vector</th>\n",
       "      <th>New_Values</th>\n",
       "      <th>Normalized_New_Values</th>\n",
       "      <th>Percent_Change</th>\n",
       "    </tr>\n",
       "  </thead>\n",
       "  <tbody>\n",
       "    <tr>\n",
       "      <th>0</th>\n",
       "      <td>BENGALURU</td>\n",
       "      <td>0.959409</td>\n",
       "      <td>TotalNPK</td>\n",
       "      <td>10</td>\n",
       "      <td>Rice_Production</td>\n",
       "      <td>72943.836709</td>\n",
       "      <td>0.117432</td>\n",
       "      <td>2060.658670</td>\n",
       "    </tr>\n",
       "    <tr>\n",
       "      <th>1</th>\n",
       "      <td>BENGALURU(R)</td>\n",
       "      <td>0.983965</td>\n",
       "      <td>TotalNPK</td>\n",
       "      <td>10</td>\n",
       "      <td>Rice_Production</td>\n",
       "      <td>63245.182265</td>\n",
       "      <td>0.100612</td>\n",
       "      <td>2586.711226</td>\n",
       "    </tr>\n",
       "    <tr>\n",
       "      <th>2</th>\n",
       "      <td>RAMANAGARA</td>\n",
       "      <td>0.868345</td>\n",
       "      <td>TotalNPK</td>\n",
       "      <td>10</td>\n",
       "      <td>Rice_Production</td>\n",
       "      <td>35025.473567</td>\n",
       "      <td>0.051671</td>\n",
       "      <td>188.798430</td>\n",
       "    </tr>\n",
       "    <tr>\n",
       "      <th>3</th>\n",
       "      <td>CHITRADURGA</td>\n",
       "      <td>0.562713</td>\n",
       "      <td>TotalNPK</td>\n",
       "      <td>10</td>\n",
       "      <td>Rice_Production</td>\n",
       "      <td>103047.732286</td>\n",
       "      <td>0.169641</td>\n",
       "      <td>2156.849152</td>\n",
       "    </tr>\n",
       "    <tr>\n",
       "      <th>4</th>\n",
       "      <td>DAVANAGERE</td>\n",
       "      <td>0.072591</td>\n",
       "      <td>TotalNPK</td>\n",
       "      <td>10</td>\n",
       "      <td>Rice_Production</td>\n",
       "      <td>255697.993301</td>\n",
       "      <td>0.434382</td>\n",
       "      <td>-47.763967</td>\n",
       "    </tr>\n",
       "  </tbody>\n",
       "</table>\n",
       "</div>"
      ],
      "text/plain": [
       "       District  Initial_Stability Base_Column  Intervention_Percentage  \\\n",
       "0     BENGALURU           0.959409    TotalNPK                       10   \n",
       "1  BENGALURU(R)           0.983965    TotalNPK                       10   \n",
       "2    RAMANAGARA           0.868345    TotalNPK                       10   \n",
       "3   CHITRADURGA           0.562713    TotalNPK                       10   \n",
       "4    DAVANAGERE           0.072591    TotalNPK                       10   \n",
       "\n",
       "  Capability_Vector     New_Values  Normalized_New_Values  Percent_Change  \n",
       "0   Rice_Production   72943.836709               0.117432     2060.658670  \n",
       "1   Rice_Production   63245.182265               0.100612     2586.711226  \n",
       "2   Rice_Production   35025.473567               0.051671      188.798430  \n",
       "3   Rice_Production  103047.732286               0.169641     2156.849152  \n",
       "4   Rice_Production  255697.993301               0.434382      -47.763967  "
      ]
     },
     "execution_count": 67,
     "metadata": {},
     "output_type": "execute_result"
    }
   ],
   "source": [
    "capability_vector = [\"Rice_Production\", \"Maize_Production\"]\n",
    "change_percentages = [10,20]\n",
    "dim = len(capability_vector)\n",
    "\n",
    "new_data_1 = calc_and_vis_impact_stability_2D(G, existing_data.copy(), adjacency_file, base_column, capability_vector, change_percentages, dim)\n",
    "new_data_1.head()"
   ]
  },
  {
   "cell_type": "code",
   "execution_count": 68,
   "metadata": {},
   "outputs": [
    {
     "name": "stdout",
     "output_type": "stream",
     "text": [
      "Rice_Production\n",
      "2.1764894064966205 17136.471837471167\n",
      "Maize_Production\n",
      "2.731783584846858 -8203.94439643982\n",
      "Rice_Production\n",
      "2.1764894064966205 17136.471837471167\n",
      "Maize_Production\n",
      "2.731783584846858 -8203.94439643982\n"
     ]
    },
    {
     "data": {
      "text/html": [
       "<div>\n",
       "<style scoped>\n",
       "    .dataframe tbody tr th:only-of-type {\n",
       "        vertical-align: middle;\n",
       "    }\n",
       "\n",
       "    .dataframe tbody tr th {\n",
       "        vertical-align: top;\n",
       "    }\n",
       "\n",
       "    .dataframe thead th {\n",
       "        text-align: right;\n",
       "    }\n",
       "</style>\n",
       "<table border=\"1\" class=\"dataframe\">\n",
       "  <thead>\n",
       "    <tr style=\"text-align: right;\">\n",
       "      <th></th>\n",
       "      <th>District</th>\n",
       "      <th>Initial_Stability</th>\n",
       "      <th>Base_Column</th>\n",
       "      <th>Intervention_Percentage</th>\n",
       "      <th>Capability_Vector</th>\n",
       "      <th>New_Values</th>\n",
       "      <th>Normalized_New_Values</th>\n",
       "      <th>Percent_Change</th>\n",
       "    </tr>\n",
       "  </thead>\n",
       "  <tbody>\n",
       "    <tr>\n",
       "      <th>0</th>\n",
       "      <td>BENGALURU</td>\n",
       "      <td>0.959409</td>\n",
       "      <td>TotalNPK</td>\n",
       "      <td>10</td>\n",
       "      <td>Rice_Production</td>\n",
       "      <td>72943.836709</td>\n",
       "      <td>0.117432</td>\n",
       "      <td>2060.658670</td>\n",
       "    </tr>\n",
       "    <tr>\n",
       "      <th>1</th>\n",
       "      <td>BENGALURU(R)</td>\n",
       "      <td>0.983965</td>\n",
       "      <td>TotalNPK</td>\n",
       "      <td>10</td>\n",
       "      <td>Rice_Production</td>\n",
       "      <td>63245.182265</td>\n",
       "      <td>0.100612</td>\n",
       "      <td>2586.711226</td>\n",
       "    </tr>\n",
       "    <tr>\n",
       "      <th>2</th>\n",
       "      <td>RAMANAGARA</td>\n",
       "      <td>0.868345</td>\n",
       "      <td>TotalNPK</td>\n",
       "      <td>10</td>\n",
       "      <td>Rice_Production</td>\n",
       "      <td>35025.473567</td>\n",
       "      <td>0.051671</td>\n",
       "      <td>188.798430</td>\n",
       "    </tr>\n",
       "    <tr>\n",
       "      <th>3</th>\n",
       "      <td>CHITRADURGA</td>\n",
       "      <td>0.562713</td>\n",
       "      <td>TotalNPK</td>\n",
       "      <td>10</td>\n",
       "      <td>Rice_Production</td>\n",
       "      <td>103047.732286</td>\n",
       "      <td>0.169641</td>\n",
       "      <td>2156.849152</td>\n",
       "    </tr>\n",
       "    <tr>\n",
       "      <th>4</th>\n",
       "      <td>DAVANAGERE</td>\n",
       "      <td>0.072591</td>\n",
       "      <td>TotalNPK</td>\n",
       "      <td>10</td>\n",
       "      <td>Rice_Production</td>\n",
       "      <td>255697.993301</td>\n",
       "      <td>0.434382</td>\n",
       "      <td>-47.763967</td>\n",
       "    </tr>\n",
       "  </tbody>\n",
       "</table>\n",
       "</div>"
      ],
      "text/plain": [
       "       District  Initial_Stability Base_Column  Intervention_Percentage  \\\n",
       "0     BENGALURU           0.959409    TotalNPK                       10   \n",
       "1  BENGALURU(R)           0.983965    TotalNPK                       10   \n",
       "2    RAMANAGARA           0.868345    TotalNPK                       10   \n",
       "3   CHITRADURGA           0.562713    TotalNPK                       10   \n",
       "4    DAVANAGERE           0.072591    TotalNPK                       10   \n",
       "\n",
       "  Capability_Vector     New_Values  Normalized_New_Values  Percent_Change  \n",
       "0   Rice_Production   72943.836709               0.117432     2060.658670  \n",
       "1   Rice_Production   63245.182265               0.100612     2586.711226  \n",
       "2   Rice_Production   35025.473567               0.051671      188.798430  \n",
       "3   Rice_Production  103047.732286               0.169641     2156.849152  \n",
       "4   Rice_Production  255697.993301               0.434382      -47.763967  "
      ]
     },
     "execution_count": 68,
     "metadata": {},
     "output_type": "execute_result"
    }
   ],
   "source": [
    "base_column = \"TotalNPK\"\n",
    "capability_vector = [\"Rice_Production\",\"Maize_Production\"]\n",
    "# change_percentage = 20\n",
    "change_percentages= [10,20]\n",
    "dim = len(capability_vector)\n",
    "\n",
    "new_data = calc_and_vis_impact_stability_2D(G, existing_data.copy(), adjacency_file, base_column, capability_vector, change_percentages, dim)\n",
    "new_data.head()"
   ]
  },
  {
   "cell_type": "code",
   "execution_count": 69,
   "metadata": {},
   "outputs": [
    {
     "name": "stdout",
     "output_type": "stream",
     "text": [
      "Rice_Production\n",
      "2.1764894064966205 17136.471837471167\n",
      "Jowar_Yield\n",
      "0.00937323234123976 375.8878302234968\n",
      "Maize_Production\n",
      "2.731783584846858 -8203.94439643982\n",
      "Rice_Production\n",
      "2.1764894064966205 17136.471837471167\n",
      "Jowar_Yield\n",
      "0.00937323234123976 375.8878302234968\n",
      "Maize_Production\n",
      "2.731783584846858 -8203.94439643982\n"
     ]
    },
    {
     "data": {
      "text/html": [
       "<div>\n",
       "<style scoped>\n",
       "    .dataframe tbody tr th:only-of-type {\n",
       "        vertical-align: middle;\n",
       "    }\n",
       "\n",
       "    .dataframe tbody tr th {\n",
       "        vertical-align: top;\n",
       "    }\n",
       "\n",
       "    .dataframe thead th {\n",
       "        text-align: right;\n",
       "    }\n",
       "</style>\n",
       "<table border=\"1\" class=\"dataframe\">\n",
       "  <thead>\n",
       "    <tr style=\"text-align: right;\">\n",
       "      <th></th>\n",
       "      <th>District</th>\n",
       "      <th>Initial_Stability</th>\n",
       "      <th>Base_Column</th>\n",
       "      <th>Intervention_Percentage</th>\n",
       "      <th>Capability_Vector</th>\n",
       "      <th>New_Values</th>\n",
       "      <th>Normalized_New_Values</th>\n",
       "      <th>Percent_Change</th>\n",
       "    </tr>\n",
       "  </thead>\n",
       "  <tbody>\n",
       "    <tr>\n",
       "      <th>0</th>\n",
       "      <td>BENGALURU</td>\n",
       "      <td>0.312360</td>\n",
       "      <td>TotalNPK</td>\n",
       "      <td>10</td>\n",
       "      <td>Rice_Production</td>\n",
       "      <td>72943.836709</td>\n",
       "      <td>0.124734</td>\n",
       "      <td>2060.658670</td>\n",
       "    </tr>\n",
       "    <tr>\n",
       "      <th>1</th>\n",
       "      <td>BENGALURU(R)</td>\n",
       "      <td>0.742141</td>\n",
       "      <td>TotalNPK</td>\n",
       "      <td>10</td>\n",
       "      <td>Rice_Production</td>\n",
       "      <td>63245.182265</td>\n",
       "      <td>0.108053</td>\n",
       "      <td>2586.711226</td>\n",
       "    </tr>\n",
       "    <tr>\n",
       "      <th>2</th>\n",
       "      <td>RAMANAGARA</td>\n",
       "      <td>0.600687</td>\n",
       "      <td>TotalNPK</td>\n",
       "      <td>10</td>\n",
       "      <td>Rice_Production</td>\n",
       "      <td>35025.473567</td>\n",
       "      <td>0.059516</td>\n",
       "      <td>188.798430</td>\n",
       "    </tr>\n",
       "    <tr>\n",
       "      <th>3</th>\n",
       "      <td>CHITRADURGA</td>\n",
       "      <td>0.547643</td>\n",
       "      <td>TotalNPK</td>\n",
       "      <td>10</td>\n",
       "      <td>Rice_Production</td>\n",
       "      <td>103047.732286</td>\n",
       "      <td>0.176511</td>\n",
       "      <td>2156.849152</td>\n",
       "    </tr>\n",
       "    <tr>\n",
       "      <th>4</th>\n",
       "      <td>DAVANAGERE</td>\n",
       "      <td>-0.024751</td>\n",
       "      <td>TotalNPK</td>\n",
       "      <td>10</td>\n",
       "      <td>Rice_Production</td>\n",
       "      <td>255697.993301</td>\n",
       "      <td>0.439061</td>\n",
       "      <td>-47.763967</td>\n",
       "    </tr>\n",
       "  </tbody>\n",
       "</table>\n",
       "</div>"
      ],
      "text/plain": [
       "       District  Initial_Stability Base_Column  Intervention_Percentage  \\\n",
       "0     BENGALURU           0.312360    TotalNPK                       10   \n",
       "1  BENGALURU(R)           0.742141    TotalNPK                       10   \n",
       "2    RAMANAGARA           0.600687    TotalNPK                       10   \n",
       "3   CHITRADURGA           0.547643    TotalNPK                       10   \n",
       "4    DAVANAGERE          -0.024751    TotalNPK                       10   \n",
       "\n",
       "  Capability_Vector     New_Values  Normalized_New_Values  Percent_Change  \n",
       "0   Rice_Production   72943.836709               0.124734     2060.658670  \n",
       "1   Rice_Production   63245.182265               0.108053     2586.711226  \n",
       "2   Rice_Production   35025.473567               0.059516      188.798430  \n",
       "3   Rice_Production  103047.732286               0.176511     2156.849152  \n",
       "4   Rice_Production  255697.993301               0.439061      -47.763967  "
      ]
     },
     "execution_count": 69,
     "metadata": {},
     "output_type": "execute_result"
    }
   ],
   "source": [
    "base_column = \"TotalNPK\"\n",
    "capability_vector = [ \"Rice_Production\",\"Jowar_Yield\",\"Maize_Production\"]\n",
    "change_percentage = 20\n",
    "dim = 3\n",
    "\n",
    "new_data_3d = calc_and_vis_impact_stability_2D(G, existing_data.copy(), adjacency_file, base_column, capability_vector, change_percentages, dim)\n",
    "new_data_3d.head()"
   ]
  },
  {
   "cell_type": "code",
   "execution_count": 70,
   "metadata": {},
   "outputs": [
    {
     "data": {
      "text/html": [
       "\n",
       "  <div id=\"f935cb78-fa9c-4953-80eb-399247cad692\" data-root-id=\"p1001\" style=\"display: contents;\"></div>\n"
      ]
     },
     "metadata": {},
     "output_type": "display_data"
    },
    {
     "data": {
      "application/javascript": "(function(root) {\n  function embed_document(root) {\n  const docs_json = {\"3df8edad-3292-414a-b890-57640eaad223\":{\"version\":\"3.4.1\",\"title\":\"Bokeh Application\",\"roots\":[{\"type\":\"object\",\"name\":\"Figure\",\"id\":\"p1001\",\"attributes\":{\"sizing_mode\":\"stretch_width\",\"x_range\":{\"type\":\"object\",\"name\":\"FactorRange\",\"id\":\"p1011\",\"attributes\":{\"factors\":[\"BENGALURU\",\"BENGALURU(R)\",\"RAMANAGARA\",\"CHITRADURGA\",\"DAVANAGERE\",\"KOLAR\",\"CHIKKABALLAPURA\",\"SHIVAMOGGA\",\"TUMAKURU\",\"CHIKKAMAGALURU\",\"DAKSHINA KANNADA\",\"UDUPI\",\"HASSAN\",\"KODAGU\",\"MANDYA\",\"MYSURU\",\"CHAMARAJANAGAR\",\"BELAGAVI\",\"VIJAYAPURA\",\"BAGALKOT\",\"DHARAWAD\",\"GADAG\",\"HAVERI\",\"UTTARA KANNADA\",\"BALLARI\",\"BIDAR\",\"KALABURAGI\",\"YADGIRI\",\"RAICHUR\",\"KOPPAL\",\"Vijayanagara\"]}},\"y_range\":{\"type\":\"object\",\"name\":\"DataRange1d\",\"id\":\"p1003\"},\"x_scale\":{\"type\":\"object\",\"name\":\"CategoricalScale\",\"id\":\"p1012\"},\"y_scale\":{\"type\":\"object\",\"name\":\"LinearScale\",\"id\":\"p1013\"},\"title\":{\"type\":\"object\",\"name\":\"Title\",\"id\":\"p1004\",\"attributes\":{\"text\":\"Rice_Production vs District\"}},\"renderers\":[{\"type\":\"object\",\"name\":\"GlyphRenderer\",\"id\":\"p1033\",\"attributes\":{\"data_source\":{\"type\":\"object\",\"name\":\"ColumnDataSource\",\"id\":\"p1024\",\"attributes\":{\"selected\":{\"type\":\"object\",\"name\":\"Selection\",\"id\":\"p1025\",\"attributes\":{\"indices\":[],\"line_indices\":[]}},\"selection_policy\":{\"type\":\"object\",\"name\":\"UnionRenderers\",\"id\":\"p1026\"},\"data\":{\"type\":\"map\",\"entries\":[[\"x\",[\"BENGALURU\",\"BENGALURU(R)\",\"RAMANAGARA\",\"CHITRADURGA\",\"DAVANAGERE\",\"KOLAR\",\"CHIKKABALLAPURA\",\"SHIVAMOGGA\",\"TUMAKURU\",\"CHIKKAMAGALURU\",\"DAKSHINA KANNADA\",\"UDUPI\",\"HASSAN\",\"KODAGU\",\"MANDYA\",\"MYSURU\",\"CHAMARAJANAGAR\",\"BELAGAVI\",\"VIJAYAPURA\",\"BAGALKOT\",\"DHARAWAD\",\"GADAG\",\"HAVERI\",\"UTTARA KANNADA\",\"BALLARI\",\"BIDAR\",\"KALABURAGI\",\"YADGIRI\",\"RAICHUR\",\"KOPPAL\",\"Vijayanagara\"]],[\"y\",{\"type\":\"ndarray\",\"array\":{\"type\":\"bytes\",\"data\":\"AAAAAABgqkAAAAAAAGSiQAAAAAAAsMdAAAAAAADWsUAAAAAAhOAdQQAAAAAAAItAAAAAAAAUpUAAAAAAOH8XQQAAAACAbtlAAAAAAFD8+kAAAAAAYC8AQQAAAABg3QBBAAAAAMiKAUEAAAAA8BH1QAAAAAB4GA5BAAAAAMyeFUEAAAAAAGTmQAAAAACArAVBAAAAAABAZUAAAAAAAEBVQAAAAACgmOBAAAAAAABavEAAAAAA4J7+QAAAAACorAJBAAAAACApCUEAAAAAANCfQAAAAAAA0L5AAAAAAJhsC0EAAAAA2AweQQAAAACIuQ1BAAAAACApCUE=\"},\"shape\":[31],\"dtype\":\"float64\",\"order\":\"little\"}]]}}},\"view\":{\"type\":\"object\",\"name\":\"CDSView\",\"id\":\"p1034\",\"attributes\":{\"filter\":{\"type\":\"object\",\"name\":\"AllIndices\",\"id\":\"p1035\"}}},\"glyph\":{\"type\":\"object\",\"name\":\"VBar\",\"id\":\"p1030\",\"attributes\":{\"x\":{\"type\":\"field\",\"field\":\"x\"},\"width\":{\"type\":\"value\",\"value\":0.8},\"top\":{\"type\":\"field\",\"field\":\"y\"},\"line_color\":{\"type\":\"value\",\"value\":\"#1f77b4\"},\"fill_color\":{\"type\":\"value\",\"value\":\"#1f77b4\"},\"hatch_color\":{\"type\":\"value\",\"value\":\"#1f77b4\"}}},\"nonselection_glyph\":{\"type\":\"object\",\"name\":\"VBar\",\"id\":\"p1031\",\"attributes\":{\"x\":{\"type\":\"field\",\"field\":\"x\"},\"width\":{\"type\":\"value\",\"value\":0.8},\"top\":{\"type\":\"field\",\"field\":\"y\"},\"line_color\":{\"type\":\"value\",\"value\":\"#1f77b4\"},\"line_alpha\":{\"type\":\"value\",\"value\":0.1},\"fill_color\":{\"type\":\"value\",\"value\":\"#1f77b4\"},\"fill_alpha\":{\"type\":\"value\",\"value\":0.1},\"hatch_color\":{\"type\":\"value\",\"value\":\"#1f77b4\"},\"hatch_alpha\":{\"type\":\"value\",\"value\":0.1}}},\"muted_glyph\":{\"type\":\"object\",\"name\":\"VBar\",\"id\":\"p1032\",\"attributes\":{\"x\":{\"type\":\"field\",\"field\":\"x\"},\"width\":{\"type\":\"value\",\"value\":0.8},\"top\":{\"type\":\"field\",\"field\":\"y\"},\"line_color\":{\"type\":\"value\",\"value\":\"#1f77b4\"},\"line_alpha\":{\"type\":\"value\",\"value\":0.2},\"fill_color\":{\"type\":\"value\",\"value\":\"#1f77b4\"},\"fill_alpha\":{\"type\":\"value\",\"value\":0.2},\"hatch_color\":{\"type\":\"value\",\"value\":\"#1f77b4\"},\"hatch_alpha\":{\"type\":\"value\",\"value\":0.2}}}}}],\"toolbar\":{\"type\":\"object\",\"name\":\"Toolbar\",\"id\":\"p1010\",\"attributes\":{\"tools\":[{\"type\":\"object\",\"name\":\"HoverTool\",\"id\":\"p1038\",\"attributes\":{\"renderers\":\"auto\",\"tooltips\":[[\"District\",\"@x\"],[\"Rice_Production\",\"@y\"]]}}]}},\"toolbar_location\":null,\"left\":[{\"type\":\"object\",\"name\":\"LinearAxis\",\"id\":\"p1019\",\"attributes\":{\"ticker\":{\"type\":\"object\",\"name\":\"BasicTicker\",\"id\":\"p1020\",\"attributes\":{\"mantissas\":[1,2,5]}},\"formatter\":{\"type\":\"object\",\"name\":\"BasicTickFormatter\",\"id\":\"p1021\"},\"axis_label\":\"Rice_Production\",\"major_label_policy\":{\"type\":\"object\",\"name\":\"AllLabels\",\"id\":\"p1022\"}}}],\"below\":[{\"type\":\"object\",\"name\":\"CategoricalAxis\",\"id\":\"p1014\",\"attributes\":{\"ticker\":{\"type\":\"object\",\"name\":\"CategoricalTicker\",\"id\":\"p1015\"},\"formatter\":{\"type\":\"object\",\"name\":\"CategoricalTickFormatter\",\"id\":\"p1016\"},\"major_label_orientation\":\"vertical\",\"major_label_policy\":{\"type\":\"object\",\"name\":\"AllLabels\",\"id\":\"p1017\"}}}],\"center\":[{\"type\":\"object\",\"name\":\"Grid\",\"id\":\"p1018\",\"attributes\":{\"axis\":{\"id\":\"p1014\"}}},{\"type\":\"object\",\"name\":\"Grid\",\"id\":\"p1023\",\"attributes\":{\"dimension\":1,\"axis\":{\"id\":\"p1019\"}}},{\"type\":\"object\",\"name\":\"Legend\",\"id\":\"p1036\",\"attributes\":{\"click_policy\":\"hide\",\"items\":[{\"type\":\"object\",\"name\":\"LegendItem\",\"id\":\"p1037\",\"attributes\":{\"label\":{\"type\":\"value\",\"value\":\"Rice_Production\"},\"renderers\":[{\"id\":\"p1033\"}]}}]}}]}}]}};\n  const render_items = [{\"docid\":\"3df8edad-3292-414a-b890-57640eaad223\",\"roots\":{\"p1001\":\"f935cb78-fa9c-4953-80eb-399247cad692\"},\"root_ids\":[\"p1001\"]}];\n  void root.Bokeh.embed.embed_items_notebook(docs_json, render_items);\n  }\n  if (root.Bokeh !== undefined) {\n    embed_document(root);\n  } else {\n    let attempts = 0;\n    const timer = setInterval(function(root) {\n      if (root.Bokeh !== undefined) {\n        clearInterval(timer);\n        embed_document(root);\n      } else {\n        attempts++;\n        if (attempts > 100) {\n          clearInterval(timer);\n          console.log(\"Bokeh: ERROR: Unable to run BokehJS code because BokehJS library is missing\");\n        }\n      }\n    }, 10, root)\n  }\n})(window);",
      "application/vnd.bokehjs_exec.v0+json": ""
     },
     "metadata": {
      "application/vnd.bokehjs_exec.v0+json": {
       "id": "p1001"
      }
     },
     "output_type": "display_data"
    },
    {
     "data": {
      "text/html": [
       "\n",
       "  <div id=\"f4228d2a-fd97-4c3b-a97b-afaef1cafdd0\" data-root-id=\"p1040\" style=\"display: contents;\"></div>\n"
      ]
     },
     "metadata": {},
     "output_type": "display_data"
    },
    {
     "data": {
      "application/javascript": "(function(root) {\n  function embed_document(root) {\n  const docs_json = {\"b228d193-9a58-46d7-855d-d3e15c9766fd\":{\"version\":\"3.4.1\",\"title\":\"Bokeh Application\",\"roots\":[{\"type\":\"object\",\"name\":\"Figure\",\"id\":\"p1040\",\"attributes\":{\"sizing_mode\":\"stretch_width\",\"x_range\":{\"type\":\"object\",\"name\":\"FactorRange\",\"id\":\"p1050\",\"attributes\":{\"factors\":[\"BENGALURU\",\"BENGALURU(R)\",\"RAMANAGARA\",\"CHITRADURGA\",\"DAVANAGERE\",\"KOLAR\",\"CHIKKABALLAPURA\",\"SHIVAMOGGA\",\"TUMAKURU\",\"CHIKKAMAGALURU\",\"DAKSHINA KANNADA\",\"UDUPI\",\"HASSAN\",\"KODAGU\",\"MANDYA\",\"MYSURU\",\"CHAMARAJANAGAR\",\"BELAGAVI\",\"VIJAYAPURA\",\"BAGALKOT\",\"DHARAWAD\",\"GADAG\",\"HAVERI\",\"UTTARA KANNADA\",\"BALLARI\",\"BIDAR\",\"KALABURAGI\",\"YADGIRI\",\"RAICHUR\",\"KOPPAL\",\"Vijayanagara\"]}},\"y_range\":{\"type\":\"object\",\"name\":\"DataRange1d\",\"id\":\"p1042\"},\"x_scale\":{\"type\":\"object\",\"name\":\"CategoricalScale\",\"id\":\"p1051\"},\"y_scale\":{\"type\":\"object\",\"name\":\"LinearScale\",\"id\":\"p1052\"},\"title\":{\"type\":\"object\",\"name\":\"Title\",\"id\":\"p1043\",\"attributes\":{\"text\":\"Jowar_Yield vs District\"}},\"renderers\":[{\"type\":\"object\",\"name\":\"GlyphRenderer\",\"id\":\"p1072\",\"attributes\":{\"data_source\":{\"type\":\"object\",\"name\":\"ColumnDataSource\",\"id\":\"p1063\",\"attributes\":{\"selected\":{\"type\":\"object\",\"name\":\"Selection\",\"id\":\"p1064\",\"attributes\":{\"indices\":[],\"line_indices\":[]}},\"selection_policy\":{\"type\":\"object\",\"name\":\"UnionRenderers\",\"id\":\"p1065\"},\"data\":{\"type\":\"map\",\"entries\":[[\"x\",[\"BENGALURU\",\"BENGALURU(R)\",\"RAMANAGARA\",\"CHITRADURGA\",\"DAVANAGERE\",\"KOLAR\",\"CHIKKABALLAPURA\",\"SHIVAMOGGA\",\"TUMAKURU\",\"CHIKKAMAGALURU\",\"DAKSHINA KANNADA\",\"UDUPI\",\"HASSAN\",\"KODAGU\",\"MANDYA\",\"MYSURU\",\"CHAMARAJANAGAR\",\"BELAGAVI\",\"VIJAYAPURA\",\"BAGALKOT\",\"DHARAWAD\",\"GADAG\",\"HAVERI\",\"UTTARA KANNADA\",\"BALLARI\",\"BIDAR\",\"KALABURAGI\",\"YADGIRI\",\"RAICHUR\",\"KOPPAL\",\"Vijayanagara\"]],[\"y\",{\"type\":\"ndarray\",\"array\":{\"type\":\"bytes\",\"data\":\"AAAAAAAMmEAAAAAAAAAAAAAAAAAAAAAAAAAAAADAjkAAAAAAAO6gQAAAAAAAAAAAAAAAAAAAAAAAAAAAAIShQAAAAAAACJVAAAAAAAAIjEAAAAAAAAAAAAAAAAAAAAAAAAAAAACojEAAAAAAAAAAAAAAAAAAUI5AAAAAAABAkUAAAAAAADB3QAAAAAAAwJJAAAAAAABwjkAAAAAAADCOQAAAAAAA4JBAAAAAAAAEkEAAAAAAANySQAAAAAAAAAAAAAAAAABAjEAAAAAAAIiQQAAAAAAA6JFAAAAAAAC0kkAAAAAAADyVQAAAAAAAgJRAAAAAAABAjEA=\"},\"shape\":[31],\"dtype\":\"float64\",\"order\":\"little\"}]]}}},\"view\":{\"type\":\"object\",\"name\":\"CDSView\",\"id\":\"p1073\",\"attributes\":{\"filter\":{\"type\":\"object\",\"name\":\"AllIndices\",\"id\":\"p1074\"}}},\"glyph\":{\"type\":\"object\",\"name\":\"VBar\",\"id\":\"p1069\",\"attributes\":{\"x\":{\"type\":\"field\",\"field\":\"x\"},\"width\":{\"type\":\"value\",\"value\":0.8},\"top\":{\"type\":\"field\",\"field\":\"y\"},\"line_color\":{\"type\":\"value\",\"value\":\"#aec7e8\"},\"fill_color\":{\"type\":\"value\",\"value\":\"#aec7e8\"},\"hatch_color\":{\"type\":\"value\",\"value\":\"#aec7e8\"}}},\"nonselection_glyph\":{\"type\":\"object\",\"name\":\"VBar\",\"id\":\"p1070\",\"attributes\":{\"x\":{\"type\":\"field\",\"field\":\"x\"},\"width\":{\"type\":\"value\",\"value\":0.8},\"top\":{\"type\":\"field\",\"field\":\"y\"},\"line_color\":{\"type\":\"value\",\"value\":\"#aec7e8\"},\"line_alpha\":{\"type\":\"value\",\"value\":0.1},\"fill_color\":{\"type\":\"value\",\"value\":\"#aec7e8\"},\"fill_alpha\":{\"type\":\"value\",\"value\":0.1},\"hatch_color\":{\"type\":\"value\",\"value\":\"#aec7e8\"},\"hatch_alpha\":{\"type\":\"value\",\"value\":0.1}}},\"muted_glyph\":{\"type\":\"object\",\"name\":\"VBar\",\"id\":\"p1071\",\"attributes\":{\"x\":{\"type\":\"field\",\"field\":\"x\"},\"width\":{\"type\":\"value\",\"value\":0.8},\"top\":{\"type\":\"field\",\"field\":\"y\"},\"line_color\":{\"type\":\"value\",\"value\":\"#aec7e8\"},\"line_alpha\":{\"type\":\"value\",\"value\":0.2},\"fill_color\":{\"type\":\"value\",\"value\":\"#aec7e8\"},\"fill_alpha\":{\"type\":\"value\",\"value\":0.2},\"hatch_color\":{\"type\":\"value\",\"value\":\"#aec7e8\"},\"hatch_alpha\":{\"type\":\"value\",\"value\":0.2}}}}}],\"toolbar\":{\"type\":\"object\",\"name\":\"Toolbar\",\"id\":\"p1049\",\"attributes\":{\"tools\":[{\"type\":\"object\",\"name\":\"HoverTool\",\"id\":\"p1077\",\"attributes\":{\"renderers\":\"auto\",\"tooltips\":[[\"District\",\"@x\"],[\"Jowar_Yield\",\"@y\"]]}}]}},\"toolbar_location\":null,\"left\":[{\"type\":\"object\",\"name\":\"LinearAxis\",\"id\":\"p1058\",\"attributes\":{\"ticker\":{\"type\":\"object\",\"name\":\"BasicTicker\",\"id\":\"p1059\",\"attributes\":{\"mantissas\":[1,2,5]}},\"formatter\":{\"type\":\"object\",\"name\":\"BasicTickFormatter\",\"id\":\"p1060\"},\"axis_label\":\"Jowar_Yield\",\"major_label_policy\":{\"type\":\"object\",\"name\":\"AllLabels\",\"id\":\"p1061\"}}}],\"below\":[{\"type\":\"object\",\"name\":\"CategoricalAxis\",\"id\":\"p1053\",\"attributes\":{\"ticker\":{\"type\":\"object\",\"name\":\"CategoricalTicker\",\"id\":\"p1054\"},\"formatter\":{\"type\":\"object\",\"name\":\"CategoricalTickFormatter\",\"id\":\"p1055\"},\"major_label_orientation\":\"vertical\",\"major_label_policy\":{\"type\":\"object\",\"name\":\"AllLabels\",\"id\":\"p1056\"}}}],\"center\":[{\"type\":\"object\",\"name\":\"Grid\",\"id\":\"p1057\",\"attributes\":{\"axis\":{\"id\":\"p1053\"}}},{\"type\":\"object\",\"name\":\"Grid\",\"id\":\"p1062\",\"attributes\":{\"dimension\":1,\"axis\":{\"id\":\"p1058\"}}},{\"type\":\"object\",\"name\":\"Legend\",\"id\":\"p1075\",\"attributes\":{\"click_policy\":\"hide\",\"items\":[{\"type\":\"object\",\"name\":\"LegendItem\",\"id\":\"p1076\",\"attributes\":{\"label\":{\"type\":\"value\",\"value\":\"Jowar_Yield\"},\"renderers\":[{\"id\":\"p1072\"}]}}]}}]}}]}};\n  const render_items = [{\"docid\":\"b228d193-9a58-46d7-855d-d3e15c9766fd\",\"roots\":{\"p1040\":\"f4228d2a-fd97-4c3b-a97b-afaef1cafdd0\"},\"root_ids\":[\"p1040\"]}];\n  void root.Bokeh.embed.embed_items_notebook(docs_json, render_items);\n  }\n  if (root.Bokeh !== undefined) {\n    embed_document(root);\n  } else {\n    let attempts = 0;\n    const timer = setInterval(function(root) {\n      if (root.Bokeh !== undefined) {\n        clearInterval(timer);\n        embed_document(root);\n      } else {\n        attempts++;\n        if (attempts > 100) {\n          clearInterval(timer);\n          console.log(\"Bokeh: ERROR: Unable to run BokehJS code because BokehJS library is missing\");\n        }\n      }\n    }, 10, root)\n  }\n})(window);",
      "application/vnd.bokehjs_exec.v0+json": ""
     },
     "metadata": {
      "application/vnd.bokehjs_exec.v0+json": {
       "id": "p1040"
      }
     },
     "output_type": "display_data"
    },
    {
     "data": {
      "text/html": [
       "\n",
       "  <div id=\"b045b41e-dc04-44c1-aa91-0440168b3b17\" data-root-id=\"p1079\" style=\"display: contents;\"></div>\n"
      ]
     },
     "metadata": {},
     "output_type": "display_data"
    },
    {
     "data": {
      "application/javascript": "(function(root) {\n  function embed_document(root) {\n  const docs_json = {\"c6b98407-c1e1-44f1-979e-127cdef38541\":{\"version\":\"3.4.1\",\"title\":\"Bokeh Application\",\"roots\":[{\"type\":\"object\",\"name\":\"Figure\",\"id\":\"p1079\",\"attributes\":{\"sizing_mode\":\"stretch_width\",\"x_range\":{\"type\":\"object\",\"name\":\"FactorRange\",\"id\":\"p1089\",\"attributes\":{\"factors\":[\"BENGALURU\",\"BENGALURU(R)\",\"RAMANAGARA\",\"CHITRADURGA\",\"DAVANAGERE\",\"KOLAR\",\"CHIKKABALLAPURA\",\"SHIVAMOGGA\",\"TUMAKURU\",\"CHIKKAMAGALURU\",\"DAKSHINA KANNADA\",\"UDUPI\",\"HASSAN\",\"KODAGU\",\"MANDYA\",\"MYSURU\",\"CHAMARAJANAGAR\",\"BELAGAVI\",\"VIJAYAPURA\",\"BAGALKOT\",\"DHARAWAD\",\"GADAG\",\"HAVERI\",\"UTTARA KANNADA\",\"BALLARI\",\"BIDAR\",\"KALABURAGI\",\"YADGIRI\",\"RAICHUR\",\"KOPPAL\",\"Vijayanagara\"]}},\"y_range\":{\"type\":\"object\",\"name\":\"DataRange1d\",\"id\":\"p1081\"},\"x_scale\":{\"type\":\"object\",\"name\":\"CategoricalScale\",\"id\":\"p1090\"},\"y_scale\":{\"type\":\"object\",\"name\":\"LinearScale\",\"id\":\"p1091\"},\"title\":{\"type\":\"object\",\"name\":\"Title\",\"id\":\"p1082\",\"attributes\":{\"text\":\"Maize_Production vs District\"}},\"renderers\":[{\"type\":\"object\",\"name\":\"GlyphRenderer\",\"id\":\"p1111\",\"attributes\":{\"data_source\":{\"type\":\"object\",\"name\":\"ColumnDataSource\",\"id\":\"p1102\",\"attributes\":{\"selected\":{\"type\":\"object\",\"name\":\"Selection\",\"id\":\"p1103\",\"attributes\":{\"indices\":[],\"line_indices\":[]}},\"selection_policy\":{\"type\":\"object\",\"name\":\"UnionRenderers\",\"id\":\"p1104\"},\"data\":{\"type\":\"map\",\"entries\":[[\"x\",[\"BENGALURU\",\"BENGALURU(R)\",\"RAMANAGARA\",\"CHITRADURGA\",\"DAVANAGERE\",\"KOLAR\",\"CHIKKABALLAPURA\",\"SHIVAMOGGA\",\"TUMAKURU\",\"CHIKKAMAGALURU\",\"DAKSHINA KANNADA\",\"UDUPI\",\"HASSAN\",\"KODAGU\",\"MANDYA\",\"MYSURU\",\"CHAMARAJANAGAR\",\"BELAGAVI\",\"VIJAYAPURA\",\"BAGALKOT\",\"DHARAWAD\",\"GADAG\",\"HAVERI\",\"UTTARA KANNADA\",\"BALLARI\",\"BIDAR\",\"KALABURAGI\",\"YADGIRI\",\"RAICHUR\",\"KOPPAL\",\"Vijayanagara\"]],[\"y\",{\"type\":\"ndarray\",\"array\":{\"type\":\"bytes\",\"data\":\"PwsAAFemAADSKAAAZyYEAIgOCQDfBgAAE5wBAOR0AwA0BQEAqe8AAAAAAABtAAAAcRgFAAFGAAC7SwAAwhcCAK5BAgD2zAgAF3QDADPXAwAKYgEA7BwCAC9PBgAYXgAAbZYBAOcKAAAdOQAAcQoAANMCAAAs5wIAbZYBAA==\"},\"shape\":[31],\"dtype\":\"int32\",\"order\":\"little\"}]]}}},\"view\":{\"type\":\"object\",\"name\":\"CDSView\",\"id\":\"p1112\",\"attributes\":{\"filter\":{\"type\":\"object\",\"name\":\"AllIndices\",\"id\":\"p1113\"}}},\"glyph\":{\"type\":\"object\",\"name\":\"VBar\",\"id\":\"p1108\",\"attributes\":{\"x\":{\"type\":\"field\",\"field\":\"x\"},\"width\":{\"type\":\"value\",\"value\":0.8},\"top\":{\"type\":\"field\",\"field\":\"y\"},\"line_color\":{\"type\":\"value\",\"value\":\"#ff7f0e\"},\"fill_color\":{\"type\":\"value\",\"value\":\"#ff7f0e\"},\"hatch_color\":{\"type\":\"value\",\"value\":\"#ff7f0e\"}}},\"nonselection_glyph\":{\"type\":\"object\",\"name\":\"VBar\",\"id\":\"p1109\",\"attributes\":{\"x\":{\"type\":\"field\",\"field\":\"x\"},\"width\":{\"type\":\"value\",\"value\":0.8},\"top\":{\"type\":\"field\",\"field\":\"y\"},\"line_color\":{\"type\":\"value\",\"value\":\"#ff7f0e\"},\"line_alpha\":{\"type\":\"value\",\"value\":0.1},\"fill_color\":{\"type\":\"value\",\"value\":\"#ff7f0e\"},\"fill_alpha\":{\"type\":\"value\",\"value\":0.1},\"hatch_color\":{\"type\":\"value\",\"value\":\"#ff7f0e\"},\"hatch_alpha\":{\"type\":\"value\",\"value\":0.1}}},\"muted_glyph\":{\"type\":\"object\",\"name\":\"VBar\",\"id\":\"p1110\",\"attributes\":{\"x\":{\"type\":\"field\",\"field\":\"x\"},\"width\":{\"type\":\"value\",\"value\":0.8},\"top\":{\"type\":\"field\",\"field\":\"y\"},\"line_color\":{\"type\":\"value\",\"value\":\"#ff7f0e\"},\"line_alpha\":{\"type\":\"value\",\"value\":0.2},\"fill_color\":{\"type\":\"value\",\"value\":\"#ff7f0e\"},\"fill_alpha\":{\"type\":\"value\",\"value\":0.2},\"hatch_color\":{\"type\":\"value\",\"value\":\"#ff7f0e\"},\"hatch_alpha\":{\"type\":\"value\",\"value\":0.2}}}}}],\"toolbar\":{\"type\":\"object\",\"name\":\"Toolbar\",\"id\":\"p1088\",\"attributes\":{\"tools\":[{\"type\":\"object\",\"name\":\"HoverTool\",\"id\":\"p1116\",\"attributes\":{\"renderers\":\"auto\",\"tooltips\":[[\"District\",\"@x\"],[\"Maize_Production\",\"@y\"]]}}]}},\"toolbar_location\":null,\"left\":[{\"type\":\"object\",\"name\":\"LinearAxis\",\"id\":\"p1097\",\"attributes\":{\"ticker\":{\"type\":\"object\",\"name\":\"BasicTicker\",\"id\":\"p1098\",\"attributes\":{\"mantissas\":[1,2,5]}},\"formatter\":{\"type\":\"object\",\"name\":\"BasicTickFormatter\",\"id\":\"p1099\"},\"axis_label\":\"Maize_Production\",\"major_label_policy\":{\"type\":\"object\",\"name\":\"AllLabels\",\"id\":\"p1100\"}}}],\"below\":[{\"type\":\"object\",\"name\":\"CategoricalAxis\",\"id\":\"p1092\",\"attributes\":{\"ticker\":{\"type\":\"object\",\"name\":\"CategoricalTicker\",\"id\":\"p1093\"},\"formatter\":{\"type\":\"object\",\"name\":\"CategoricalTickFormatter\",\"id\":\"p1094\"},\"major_label_orientation\":\"vertical\",\"major_label_policy\":{\"type\":\"object\",\"name\":\"AllLabels\",\"id\":\"p1095\"}}}],\"center\":[{\"type\":\"object\",\"name\":\"Grid\",\"id\":\"p1096\",\"attributes\":{\"axis\":{\"id\":\"p1092\"}}},{\"type\":\"object\",\"name\":\"Grid\",\"id\":\"p1101\",\"attributes\":{\"dimension\":1,\"axis\":{\"id\":\"p1097\"}}},{\"type\":\"object\",\"name\":\"Legend\",\"id\":\"p1114\",\"attributes\":{\"click_policy\":\"hide\",\"items\":[{\"type\":\"object\",\"name\":\"LegendItem\",\"id\":\"p1115\",\"attributes\":{\"label\":{\"type\":\"value\",\"value\":\"Maize_Production\"},\"renderers\":[{\"id\":\"p1111\"}]}}]}}]}}]}};\n  const render_items = [{\"docid\":\"c6b98407-c1e1-44f1-979e-127cdef38541\",\"roots\":{\"p1079\":\"b045b41e-dc04-44c1-aa91-0440168b3b17\"},\"root_ids\":[\"p1079\"]}];\n  void root.Bokeh.embed.embed_items_notebook(docs_json, render_items);\n  }\n  if (root.Bokeh !== undefined) {\n    embed_document(root);\n  } else {\n    let attempts = 0;\n    const timer = setInterval(function(root) {\n      if (root.Bokeh !== undefined) {\n        clearInterval(timer);\n        embed_document(root);\n      } else {\n        attempts++;\n        if (attempts > 100) {\n          clearInterval(timer);\n          console.log(\"Bokeh: ERROR: Unable to run BokehJS code because BokehJS library is missing\");\n        }\n      }\n    }, 10, root)\n  }\n})(window);",
      "application/vnd.bokehjs_exec.v0+json": ""
     },
     "metadata": {
      "application/vnd.bokehjs_exec.v0+json": {
       "id": "p1079"
      }
     },
     "output_type": "display_data"
    },
    {
     "ename": "KeyError",
     "evalue": "'SowingSeedsDistributed_Jowar'",
     "output_type": "error",
     "traceback": [
      "\u001b[1;31m---------------------------------------------------------------------------\u001b[0m",
      "\u001b[1;31mKeyError\u001b[0m                                  Traceback (most recent call last)",
      "File \u001b[1;32md:\\Anaconda\\envs\\IIITB_SRIP\\Lib\\site-packages\\pandas\\core\\indexes\\base.py:3805\u001b[0m, in \u001b[0;36mIndex.get_loc\u001b[1;34m(self, key)\u001b[0m\n\u001b[0;32m   3804\u001b[0m \u001b[38;5;28;01mtry\u001b[39;00m:\n\u001b[1;32m-> 3805\u001b[0m     \u001b[38;5;28;01mreturn\u001b[39;00m \u001b[38;5;28mself\u001b[39m\u001b[38;5;241m.\u001b[39m_engine\u001b[38;5;241m.\u001b[39mget_loc(casted_key)\n\u001b[0;32m   3806\u001b[0m \u001b[38;5;28;01mexcept\u001b[39;00m \u001b[38;5;167;01mKeyError\u001b[39;00m \u001b[38;5;28;01mas\u001b[39;00m err:\n",
      "File \u001b[1;32mindex.pyx:167\u001b[0m, in \u001b[0;36mpandas._libs.index.IndexEngine.get_loc\u001b[1;34m()\u001b[0m\n",
      "File \u001b[1;32mindex.pyx:196\u001b[0m, in \u001b[0;36mpandas._libs.index.IndexEngine.get_loc\u001b[1;34m()\u001b[0m\n",
      "File \u001b[1;32mpandas\\\\_libs\\\\hashtable_class_helper.pxi:7081\u001b[0m, in \u001b[0;36mpandas._libs.hashtable.PyObjectHashTable.get_item\u001b[1;34m()\u001b[0m\n",
      "File \u001b[1;32mpandas\\\\_libs\\\\hashtable_class_helper.pxi:7089\u001b[0m, in \u001b[0;36mpandas._libs.hashtable.PyObjectHashTable.get_item\u001b[1;34m()\u001b[0m\n",
      "\u001b[1;31mKeyError\u001b[0m: 'SowingSeedsDistributed_Jowar'",
      "\nThe above exception was the direct cause of the following exception:\n",
      "\u001b[1;31mKeyError\u001b[0m                                  Traceback (most recent call last)",
      "Cell \u001b[1;32mIn[70], line 15\u001b[0m\n\u001b[0;32m     12\u001b[0m plot \u001b[38;5;241m=\u001b[39m figure(title\u001b[38;5;241m=\u001b[39m\u001b[38;5;124mf\u001b[39m\u001b[38;5;124m'\u001b[39m\u001b[38;5;132;01m{\u001b[39;00mcolumn\u001b[38;5;132;01m}\u001b[39;00m\u001b[38;5;124m vs District\u001b[39m\u001b[38;5;124m'\u001b[39m, x_range\u001b[38;5;241m=\u001b[39mdistricts, sizing_mode\u001b[38;5;241m=\u001b[39m\u001b[38;5;124m'\u001b[39m\u001b[38;5;124mstretch_width\u001b[39m\u001b[38;5;124m'\u001b[39m, toolbar_location\u001b[38;5;241m=\u001b[39m\u001b[38;5;28;01mNone\u001b[39;00m, tools\u001b[38;5;241m=\u001b[39m\u001b[38;5;124m'\u001b[39m\u001b[38;5;124m'\u001b[39m)\n\u001b[0;32m     14\u001b[0m \u001b[38;5;66;03m# Plot the data\u001b[39;00m\n\u001b[1;32m---> 15\u001b[0m source \u001b[38;5;241m=\u001b[39m ColumnDataSource(data\u001b[38;5;241m=\u001b[39m\u001b[38;5;28mdict\u001b[39m(x\u001b[38;5;241m=\u001b[39mdistricts, y\u001b[38;5;241m=\u001b[39mdf[column]))\n\u001b[0;32m     16\u001b[0m plot\u001b[38;5;241m.\u001b[39mvbar(x\u001b[38;5;241m=\u001b[39m\u001b[38;5;124m'\u001b[39m\u001b[38;5;124mx\u001b[39m\u001b[38;5;124m'\u001b[39m, top\u001b[38;5;241m=\u001b[39m\u001b[38;5;124m'\u001b[39m\u001b[38;5;124my\u001b[39m\u001b[38;5;124m'\u001b[39m, width\u001b[38;5;241m=\u001b[39m\u001b[38;5;241m0.8\u001b[39m, color\u001b[38;5;241m=\u001b[39mcolor, legend_label\u001b[38;5;241m=\u001b[39mcolumn, source\u001b[38;5;241m=\u001b[39msource)\n\u001b[0;32m     18\u001b[0m \u001b[38;5;66;03m# Add hover tooltips\u001b[39;00m\n",
      "File \u001b[1;32md:\\Anaconda\\envs\\IIITB_SRIP\\Lib\\site-packages\\pandas\\core\\frame.py:4102\u001b[0m, in \u001b[0;36mDataFrame.__getitem__\u001b[1;34m(self, key)\u001b[0m\n\u001b[0;32m   4100\u001b[0m \u001b[38;5;28;01mif\u001b[39;00m \u001b[38;5;28mself\u001b[39m\u001b[38;5;241m.\u001b[39mcolumns\u001b[38;5;241m.\u001b[39mnlevels \u001b[38;5;241m>\u001b[39m \u001b[38;5;241m1\u001b[39m:\n\u001b[0;32m   4101\u001b[0m     \u001b[38;5;28;01mreturn\u001b[39;00m \u001b[38;5;28mself\u001b[39m\u001b[38;5;241m.\u001b[39m_getitem_multilevel(key)\n\u001b[1;32m-> 4102\u001b[0m indexer \u001b[38;5;241m=\u001b[39m \u001b[38;5;28mself\u001b[39m\u001b[38;5;241m.\u001b[39mcolumns\u001b[38;5;241m.\u001b[39mget_loc(key)\n\u001b[0;32m   4103\u001b[0m \u001b[38;5;28;01mif\u001b[39;00m is_integer(indexer):\n\u001b[0;32m   4104\u001b[0m     indexer \u001b[38;5;241m=\u001b[39m [indexer]\n",
      "File \u001b[1;32md:\\Anaconda\\envs\\IIITB_SRIP\\Lib\\site-packages\\pandas\\core\\indexes\\base.py:3812\u001b[0m, in \u001b[0;36mIndex.get_loc\u001b[1;34m(self, key)\u001b[0m\n\u001b[0;32m   3807\u001b[0m     \u001b[38;5;28;01mif\u001b[39;00m \u001b[38;5;28misinstance\u001b[39m(casted_key, \u001b[38;5;28mslice\u001b[39m) \u001b[38;5;129;01mor\u001b[39;00m (\n\u001b[0;32m   3808\u001b[0m         \u001b[38;5;28misinstance\u001b[39m(casted_key, abc\u001b[38;5;241m.\u001b[39mIterable)\n\u001b[0;32m   3809\u001b[0m         \u001b[38;5;129;01mand\u001b[39;00m \u001b[38;5;28many\u001b[39m(\u001b[38;5;28misinstance\u001b[39m(x, \u001b[38;5;28mslice\u001b[39m) \u001b[38;5;28;01mfor\u001b[39;00m x \u001b[38;5;129;01min\u001b[39;00m casted_key)\n\u001b[0;32m   3810\u001b[0m     ):\n\u001b[0;32m   3811\u001b[0m         \u001b[38;5;28;01mraise\u001b[39;00m InvalidIndexError(key)\n\u001b[1;32m-> 3812\u001b[0m     \u001b[38;5;28;01mraise\u001b[39;00m \u001b[38;5;167;01mKeyError\u001b[39;00m(key) \u001b[38;5;28;01mfrom\u001b[39;00m \u001b[38;5;21;01merr\u001b[39;00m\n\u001b[0;32m   3813\u001b[0m \u001b[38;5;28;01mexcept\u001b[39;00m \u001b[38;5;167;01mTypeError\u001b[39;00m:\n\u001b[0;32m   3814\u001b[0m     \u001b[38;5;66;03m# If we have a listlike key, _check_indexing_error will raise\u001b[39;00m\n\u001b[0;32m   3815\u001b[0m     \u001b[38;5;66;03m#  InvalidIndexError. Otherwise we fall through and re-raise\u001b[39;00m\n\u001b[0;32m   3816\u001b[0m     \u001b[38;5;66;03m#  the TypeError.\u001b[39;00m\n\u001b[0;32m   3817\u001b[0m     \u001b[38;5;28mself\u001b[39m\u001b[38;5;241m.\u001b[39m_check_indexing_error(key)\n",
      "\u001b[1;31mKeyError\u001b[0m: 'SowingSeedsDistributed_Jowar'"
     ]
    }
   ],
   "source": [
    "# List of districts in the dataset\n",
    "districts = df['District'].tolist()\n",
    "\n",
    "# List of columns to visualize\n",
    "columns_to_visualize = ['Rice_Production', 'Jowar_Yield', 'Maize_Production', 'SowingSeedsDistributed_Jowar', 'SowingSeedsDistributed_Maize']\n",
    "\n",
    "colors = Category20[len(columns_to_visualize)]\n",
    "\n",
    "# Create a figure for each column\n",
    "for column, color in zip(columns_to_visualize, colors):\n",
    "    # Create a new plot\n",
    "    plot = figure(title=f'{column} vs District', x_range=districts, sizing_mode='stretch_width', toolbar_location=None, tools='')\n",
    "\n",
    "    # Plot the data\n",
    "    source = ColumnDataSource(data=dict(x=districts, y=df[column]))\n",
    "    plot.vbar(x='x', top='y', width=0.8, color=color, legend_label=column, source=source)\n",
    "\n",
    "    # Add hover tooltips\n",
    "    hover = HoverTool()\n",
    "    hover.tooltips = [('District', '@x'), (column, '@y')]\n",
    "    plot.add_tools(hover)\n",
    "\n",
    "    # Styling\n",
    "    plot.xaxis.major_label_orientation = \"vertical\"\n",
    "    plot.yaxis.axis_label = column\n",
    "    plot.legend.location = 'top_right'\n",
    "    plot.legend.click_policy = 'hide'\n",
    "\n",
    "    # Show the plot\n",
    "    show(plot)\n"
   ]
  },
  {
   "cell_type": "code",
   "execution_count": 71,
   "metadata": {},
   "outputs": [
    {
     "data": {
      "text/html": [
       "\n",
       "  <div id=\"b17e7109-5b4a-4f7e-8d4c-904d4d2e8c8b\" data-root-id=\"p1142\" style=\"display: contents;\"></div>\n"
      ]
     },
     "metadata": {},
     "output_type": "display_data"
    },
    {
     "data": {
      "application/javascript": "(function(root) {\n  function embed_document(root) {\n  const docs_json = {\"5c3ef998-8b91-436f-b20e-45cf00702822\":{\"version\":\"3.4.1\",\"title\":\"Bokeh Application\",\"roots\":[{\"type\":\"object\",\"name\":\"Figure\",\"id\":\"p1142\",\"attributes\":{\"x_range\":{\"type\":\"object\",\"name\":\"FactorRange\",\"id\":\"p1141\",\"attributes\":{\"factors\":[\"BENGALURU\",\"BENGALURU(R)\",\"RAMANAGARA\",\"CHITRADURGA\",\"DAVANAGERE\",\"KOLAR\",\"CHIKKABALLAPURA\",\"SHIVAMOGGA\",\"TUMAKURU\",\"CHIKKAMAGALURU\",\"DAKSHINA KANNADA\",\"UDUPI\",\"HASSAN\",\"KODAGU\",\"MANDYA\",\"MYSURU\",\"CHAMARAJANAGAR\",\"BELAGAVI\",\"VIJAYAPURA\",\"BAGALKOT\",\"DHARAWAD\",\"GADAG\",\"HAVERI\",\"UTTARA KANNADA\",\"BALLARI\",\"BIDAR\",\"KALABURAGI\",\"YADGIRI\",\"RAICHUR\",\"KOPPAL\",\"Vijayanagara\"]}},\"y_range\":{\"type\":\"object\",\"name\":\"DataRange1d\",\"id\":\"p1144\"},\"x_scale\":{\"type\":\"object\",\"name\":\"CategoricalScale\",\"id\":\"p1152\"},\"y_scale\":{\"type\":\"object\",\"name\":\"LinearScale\",\"id\":\"p1153\"},\"title\":{\"type\":\"object\",\"name\":\"Title\",\"id\":\"p1145\",\"attributes\":{\"text\":\"Production Comparison by Crop and District\"}},\"renderers\":[{\"type\":\"object\",\"name\":\"GlyphRenderer\",\"id\":\"p1179\",\"attributes\":{\"name\":\"Rice_Production\",\"data_source\":{\"type\":\"object\",\"name\":\"ColumnDataSource\",\"id\":\"p1164\",\"attributes\":{\"selected\":{\"type\":\"object\",\"name\":\"Selection\",\"id\":\"p1165\",\"attributes\":{\"indices\":[],\"line_indices\":[]}},\"selection_policy\":{\"type\":\"object\",\"name\":\"UnionRenderers\",\"id\":\"p1166\"},\"data\":{\"type\":\"map\",\"entries\":[[\"index\",{\"type\":\"ndarray\",\"array\":{\"type\":\"bytes\",\"data\":\"AAAAAAEAAAACAAAAAwAAAAQAAAAFAAAABgAAAAcAAAAIAAAACQAAAAoAAAALAAAADAAAAA0AAAAOAAAADwAAABAAAAARAAAAEgAAABMAAAAUAAAAFQAAABYAAAAXAAAAGAAAABkAAAAaAAAAGwAAABwAAAAdAAAAHgAAAA==\"},\"shape\":[31],\"dtype\":\"int32\",\"order\":\"little\"}],[\"District\",{\"type\":\"ndarray\",\"array\":[\"BENGALURU\",\"BENGALURU(R)\",\"RAMANAGARA\",\"CHITRADURGA\",\"DAVANAGERE\",\"KOLAR\",\"CHIKKABALLAPURA\",\"SHIVAMOGGA\",\"TUMAKURU\",\"CHIKKAMAGALURU\",\"DAKSHINA KANNADA\",\"UDUPI\",\"HASSAN\",\"KODAGU\",\"MANDYA\",\"MYSURU\",\"CHAMARAJANAGAR\",\"BELAGAVI\",\"VIJAYAPURA\",\"BAGALKOT\",\"DHARAWAD\",\"GADAG\",\"HAVERI\",\"UTTARA KANNADA\",\"BALLARI\",\"BIDAR\",\"KALABURAGI\",\"YADGIRI\",\"RAICHUR\",\"KOPPAL\",\"Vijayanagara\"],\"shape\":[31],\"dtype\":\"object\",\"order\":\"little\"}],[\"TotalNPK\",{\"type\":\"ndarray\",\"array\":{\"type\":\"bytes\",\"data\":\"AAAAAIDD1kAAAAAAwM7SQAAAAAAAML1AAAAAAICF4UAAAAAAwFP4QAAAAACAq9VAAAAAAECx20AAAAAAIKTrQAAAAACAoOJAAAAAAHCR8EAAAAAAACfSQAAAAAAABLhAAAAAAPC08EAAAAAAYP7jQAAAAADAke1AAAAAAMBH7kAAAAAAwD7XQAAAAADA+AVBAAAAAIB66kAAAAAAwLT0QAAAAACgQOJAAAAAAAC81kAAAAAAIL3vQAAAAAAA6s1AAAAAACAc7kAAAAAAgBTYQAAAAADgXepAAAAAANBP9kAAAAAAMJ/8QAAAAAAA9fFAAAAAAAAc7kA=\"},\"shape\":[31],\"dtype\":\"float64\",\"order\":\"little\"}],[\"Rice_Production\",{\"type\":\"ndarray\",\"array\":{\"type\":\"bytes\",\"data\":\"AAAAAABgqkAAAAAAAGSiQAAAAAAAsMdAAAAAAADWsUAAAAAAhOAdQQAAAAAAAItAAAAAAAAUpUAAAAAAOH8XQQAAAACAbtlAAAAAAFD8+kAAAAAAYC8AQQAAAABg3QBBAAAAAMiKAUEAAAAA8BH1QAAAAAB4GA5BAAAAAMyeFUEAAAAAAGTmQAAAAACArAVBAAAAAABAZUAAAAAAAEBVQAAAAACgmOBAAAAAAABavEAAAAAA4J7+QAAAAACorAJBAAAAACApCUEAAAAAANCfQAAAAAAA0L5AAAAAAJhsC0EAAAAA2AweQQAAAACIuQ1BAAAAACApCUE=\"},\"shape\":[31],\"dtype\":\"float64\",\"order\":\"little\"}],[\"Jowar_Production\",{\"type\":\"ndarray\",\"array\":{\"type\":\"bytes\",\"data\":\"UwMAAAAAAAAAAAAA9TMAACBaAAAAAAAAAAAAAPQCAABcCgAAeCMAAAAAAAAAAAAA1QMAAAAAAACoBAAAnxcAAFMTAACTKAIAiwsCACt7AQDmpAAAYe8AAMGOAAAAAAAAq4QAAB2cAACT+QMAvrgAAA+DAQBasQAAq4QAAA==\"},\"shape\":[31],\"dtype\":\"int32\",\"order\":\"little\"}],[\"Maize_Production\",{\"type\":\"ndarray\",\"array\":{\"type\":\"bytes\",\"data\":\"PwsAAFemAADSKAAAZyYEAIgOCQDfBgAAE5wBAOR0AwA0BQEAqe8AAAAAAABtAAAAcRgFAAFGAAC7SwAAwhcCAK5BAgD2zAgAF3QDADPXAwAKYgEA7BwCAC9PBgAYXgAAbZYBAOcKAAAdOQAAcQoAANMCAAAs5wIAbZYBAA==\"},\"shape\":[31],\"dtype\":\"int32\",\"order\":\"little\"}],[\"Jowar_Yield\",{\"type\":\"ndarray\",\"array\":{\"type\":\"bytes\",\"data\":\"AAAAAAAMmEAAAAAAAAAAAAAAAAAAAAAAAAAAAADAjkAAAAAAAO6gQAAAAAAAAAAAAAAAAAAAAAAAAAAAAIShQAAAAAAACJVAAAAAAAAIjEAAAAAAAAAAAAAAAAAAAAAAAAAAAACojEAAAAAAAAAAAAAAAAAAUI5AAAAAAABAkUAAAAAAADB3QAAAAAAAwJJAAAAAAABwjkAAAAAAADCOQAAAAAAA4JBAAAAAAAAEkEAAAAAAANySQAAAAAAAAAAAAAAAAABAjEAAAAAAAIiQQAAAAAAA6JFAAAAAAAC0kkAAAAAAADyVQAAAAAAAgJRAAAAAAABAjEA=\"},\"shape\":[31],\"dtype\":\"float64\",\"order\":\"little\"}],[\"Normalized_Maize_Production\",{\"type\":\"ndarray\",\"array\":{\"type\":\"bytes\",\"data\":\"ROqq4iTecz+ZXmhYyl2yP8jXB+9VB5I/r0gH8YJT3T8AAAAAAADwP6b82jYGR2g/jyoBTuG/xj86YgwLHm3YP2DSxUw217w/qEZiXkZ2uj8AAAAAAAAAAMLpzXMGEig/KzNyB/IA4j+WuoQt+OqeP1pbVIA4uaA/+KKAL+mTzT9+2xN1ZeTPPxZi5YFSGO8/i6fjZnVn2D/Z8/C40SPbP93EUQ6qi8M/p1/WH+XczT8xX3zD4UrmP2M9sQlXx6Q/G0YC3Qxwxj8vCPwdrkJzPxMznbl+OZk/NhNAljdycj8eHbk/HPVTP5gCEOCng9Q/G0YC3Qxwxj8=\"},\"shape\":[31],\"dtype\":\"float64\",\"order\":\"little\"}],[\"Initial Stability_Maize_Production\",{\"type\":\"ndarray\",\"array\":{\"type\":\"bytes\",\"data\":\"jLCCTMK57j96C9ztsrnvP9b5UwhsjO0/5PxDiPxc6z+CNfHTVTvVP8Ev8DZuGuw/ZkDJCqpP7D/VM+8AXpHvP0JNMqB5GO0/uP+VKR7P5z9TiLsS223qP2zZ688Nzes/Zjusf1G34D+HXPv6CIDoP/Kc47KLiek/qPypX0Oa7z8xmC95KQfrP+TMoRpAlNE/fpk/w9ns7D8AQgWJTqTuP/bVF8QxWeU/8jDSImIi6j+vHtOekpPjP1eNbdo4M+M/aGvFnHxr6D94Dm9muVzvP0TQLnZqn+w/gvcMsg7N6z9s/D9TtK7nPzEC+3yZM+w/Jt9gRWU65j8=\"},\"shape\":[31],\"dtype\":\"float64\",\"order\":\"little\"}],[\"Normalized_Rice_Production\",{\"type\":\"ndarray\",\"array\":{\"type\":\"bytes\",\"data\":\"plsc30liez+jFJ1BSeFyPxf7pSdRDZk/7Fh7wpOkgj+hv+KWydDvP4DWEqGD7Vk/rHDR2A2+dT9BcS9mNgXpPyCOeNuA/6o/AhFhCS24zD89giNpJzrRP/VgwN9589E/Y5Bfciqs0j+Mj9DTQmvGPxjfBsN7BeA/32JYnIcF5z8y+tm4qc23P5MGXsC1Etc/lOmpn/qhJj8AAAAAAAAAADoQ3ufDobE/x2Hzpr7XjT8GocIYpUvQP8SxAiPn4NM/YeOc82rJ2j8MAYPf5jtwPx8PT4teO5A/D+6FpZcy3T/////////vPz2uBhLapd8/YeOc82rJ2j8=\"},\"shape\":[31],\"dtype\":\"float64\",\"order\":\"little\"}],[\"Initial Stability_Rice_Production\",{\"type\":\"ndarray\",\"array\":{\"type\":\"bytes\",\"data\":\"tgPeBa6/7z+dmngqCpHvP2z3aubgkuw/XD3tvCDM4j8Ac2pPHdjWP+YatmpX5O8/ZIlYUJaK7z+yVAPI9DDkP3tDSF8i1+w/jH9H8Wju6j8VV4XTFynvP5p8ObSKSew/gp+xX0P77j8o1UDclfLnP1KOF8QOiuc/vh+5HX524T9WGec+O7PlPyAqK1uJ/OY/3RYBy+lG5D+wkoEylgjkP3pj0H54ruo/VlRM/oxA5z+yvkSNeGbqP5KayIQuw+4/taWzoK7U7j+JjWTZnJ7vP5bQS7TLmOs/qoQ+iSA97D+YSkyVVofRP9xlbvPUBuw/Snx7g1JD7j8=\"},\"shape\":[31],\"dtype\":\"float64\",\"order\":\"little\"}],[\"Normalized_Jowar_Production\",{\"type\":\"ndarray\",\"array\":{\"type\":\"bytes\",\"data\":\"Yqwfvv3Caj8AAAAAAAAAAAAAAAAAAAAAoSA6IX8kqj9VQkh9bKy2PwAAAAAAAAAAAAAAAAAAAAAdkG4iMcZnP92cSmR+2YQ/VzY2UavYoT8AAAAAAAAAAAAAAAAAAAAAbxb3/o7Zbj8AAAAAAAAAANK+UeYbvnI/jb2VhC/Flz+w+exEPXKTP74/TEmCYOE/XThX1cp24D8FbzJY/9jXPwIz9lYSvsQ/0I53R38czj9wWKjI+PTBPwAAAAAAAAAAEeGMBy+wwD9X+DvgK6PDPwAAAAAAAPA/1n7I3xQ9xz+qRmBwC1jYP5H4+YwWT8Y/EeGMBy+wwD8=\"},\"shape\":[31],\"dtype\":\"float64\",\"order\":\"little\"}],[\"Initial Stability_Jowar_Production\",{\"type\":\"ndarray\",\"array\":{\"type\":\"bytes\",\"data\":\"VOBBAj3l7z/6vYnO9+nvP+vuWGFbw+8/Gwd2/ikc7z97oWDdRMfvPwAAAAAAAPA/L0d6VzPk7z/OhyfmtGfuP06Bbg4X5e8/hsmOnJSZ7z9hafvu5rDvP4OLcsarsu8/4VE7KWu77z//yJ5RVLbvPwoyOjt9ye8/rBIYcNB57z8BXn78T7DvP7mGHLLg1+Y/GCD3vndk7z/yxxZjWObvP11+aIJM1u0/vHRk+pr47z8DG0qd6O/uP16Ju/Iwkuo/bW+783ev7j9Y+DvgK6PDPxzkOq48H9I/0Ktvs/+Y4T94t1C0DZ7sP+0nQrFsle0/2NO8mrXM7z8=\"},\"shape\":[31],\"dtype\":\"float64\",\"order\":\"little\"}],[\"Initial Stability\",{\"type\":\"ndarray\",\"array\":{\"type\":\"bytes\",\"data\":\"gjgs1bX90z/WatB1n7/nP7oVWtDUOOM/+296gkqG4T8AxbvQU1iZvyWGXBMMGuw/Js//lHOY6D9Wkt2Iv97RP2BvXdDWsuM/d+KzVXv35T/CwZKmOGvnP/iUkxajeeM/yXVowMps4D8qmU85DmPhPwsr2nTn4+Q/AP9+z9QW3z+wGMb8za7jPzBzP5+s7sk/itzOkdWM4z+qA/gooJjjP8BpxGEUruM/jtIxnbdv5T/6FWjBzF7iP6rSJvgpZNY/Jh0WEDak5j+7nz69dYruP8Hs3uXGXOo/2tXfx29W6j9EUpbwEuvLP7gpW2RXM+k/q0qmIqrO5D8=\"},\"shape\":[31],\"dtype\":\"float64\",\"order\":\"little\"}],[\"Abbreviation\",{\"type\":\"ndarray\",\"array\":[\"BLR\",\"BLR(R)\",\"RGA\",\"CDA\",\"DVG\",\"KLR\",\"CKA\",\"SMG\",\"TKR\",\"CMG\",\"DKA\",\"UPI\",\"HSN\",\"KDG\",\"MDY\",\"MYS\",\"CNR\",\"BLG\",\"VJP\",\"BKT\",\"DWD\",\"GDG\",\"HVR\",\"UTK\",\"BLL\",\"BDR\",\"KLB\",\"YDR\",\"RCR\",\"KPL\",\"VNG\"],\"shape\":[31],\"dtype\":\"object\",\"order\":\"little\"}],[\"Normalized_Jowar_Yield\",{\"type\":\"ndarray\",\"array\":{\"type\":\"bytes\",\"data\":\"bUXQcFL35T8AAAAAAAAAAAAAAAAAAAAA4yBwNdYW3D9idb5+9e3uPwAAAAAAAAAAAAAAAAAAAAAAAAAAAADwP9yfxIMfNuM/7k/iwQ+b2T8AAAAAAAAAAAAAAAAAAAAAy4hJfjct2j8AAAAAAAAAAOJFjjGHsNs/EXbbn8SD3z89V8LNWy7FP+ipGBSoIOE/dIQ8V8LN2z9PB+ALTJPbP6L+xb1h1N4/QiKqd3RC3T+oIBHVOzrhPwAAAAAAAAAAbz3TQzfO2T97podunDPeP4qDwNVYW+A/cVL35bEV4T+Kxf+gn2XjP+0VoCPkueI/bz3TQzfO2T8=\"},\"shape\":[31],\"dtype\":\"float64\",\"order\":\"little\"}]]}}},\"view\":{\"type\":\"object\",\"name\":\"CDSView\",\"id\":\"p1180\",\"attributes\":{\"filter\":{\"type\":\"object\",\"name\":\"AllIndices\",\"id\":\"p1181\"}}},\"glyph\":{\"type\":\"object\",\"name\":\"VBar\",\"id\":\"p1176\",\"attributes\":{\"x\":{\"type\":\"field\",\"field\":\"District\"},\"width\":{\"type\":\"value\",\"value\":0.9},\"bottom\":{\"type\":\"expr\",\"expr\":{\"type\":\"object\",\"name\":\"Stack\",\"id\":\"p1167\",\"attributes\":{\"fields\":[]}}},\"top\":{\"type\":\"expr\",\"expr\":{\"type\":\"object\",\"name\":\"Stack\",\"id\":\"p1168\",\"attributes\":{\"fields\":[\"Rice_Production\"]}}},\"line_color\":{\"type\":\"value\",\"value\":\"#1f77b4\"},\"fill_color\":{\"type\":\"value\",\"value\":\"#1f77b4\"},\"hatch_color\":{\"type\":\"value\",\"value\":\"#1f77b4\"}}},\"nonselection_glyph\":{\"type\":\"object\",\"name\":\"VBar\",\"id\":\"p1177\",\"attributes\":{\"x\":{\"type\":\"field\",\"field\":\"District\"},\"width\":{\"type\":\"value\",\"value\":0.9},\"bottom\":{\"type\":\"expr\",\"expr\":{\"id\":\"p1167\"}},\"top\":{\"type\":\"expr\",\"expr\":{\"id\":\"p1168\"}},\"line_color\":{\"type\":\"value\",\"value\":\"#1f77b4\"},\"line_alpha\":{\"type\":\"value\",\"value\":0.1},\"fill_color\":{\"type\":\"value\",\"value\":\"#1f77b4\"},\"fill_alpha\":{\"type\":\"value\",\"value\":0.1},\"hatch_color\":{\"type\":\"value\",\"value\":\"#1f77b4\"},\"hatch_alpha\":{\"type\":\"value\",\"value\":0.1}}},\"muted_glyph\":{\"type\":\"object\",\"name\":\"VBar\",\"id\":\"p1178\",\"attributes\":{\"x\":{\"type\":\"field\",\"field\":\"District\"},\"width\":{\"type\":\"value\",\"value\":0.9},\"bottom\":{\"type\":\"expr\",\"expr\":{\"id\":\"p1167\"}},\"top\":{\"type\":\"expr\",\"expr\":{\"id\":\"p1168\"}},\"line_color\":{\"type\":\"value\",\"value\":\"#1f77b4\"},\"line_alpha\":{\"type\":\"value\",\"value\":0.2},\"fill_color\":{\"type\":\"value\",\"value\":\"#1f77b4\"},\"fill_alpha\":{\"type\":\"value\",\"value\":0.2},\"hatch_color\":{\"type\":\"value\",\"value\":\"#1f77b4\"},\"hatch_alpha\":{\"type\":\"value\",\"value\":0.2}}}}},{\"type\":\"object\",\"name\":\"GlyphRenderer\",\"id\":\"p1190\",\"attributes\":{\"name\":\"Jowar_Yield\",\"data_source\":{\"id\":\"p1164\"},\"view\":{\"type\":\"object\",\"name\":\"CDSView\",\"id\":\"p1191\",\"attributes\":{\"filter\":{\"type\":\"object\",\"name\":\"AllIndices\",\"id\":\"p1192\"}}},\"glyph\":{\"type\":\"object\",\"name\":\"VBar\",\"id\":\"p1187\",\"attributes\":{\"x\":{\"type\":\"field\",\"field\":\"District\"},\"width\":{\"type\":\"value\",\"value\":0.9},\"bottom\":{\"type\":\"expr\",\"expr\":{\"type\":\"object\",\"name\":\"Stack\",\"id\":\"p1169\",\"attributes\":{\"fields\":[\"Rice_Production\"]}}},\"top\":{\"type\":\"expr\",\"expr\":{\"type\":\"object\",\"name\":\"Stack\",\"id\":\"p1170\",\"attributes\":{\"fields\":[\"Rice_Production\",\"Jowar_Yield\"]}}},\"line_color\":{\"type\":\"value\",\"value\":\"#aec7e8\"},\"fill_color\":{\"type\":\"value\",\"value\":\"#aec7e8\"},\"hatch_color\":{\"type\":\"value\",\"value\":\"#aec7e8\"}}},\"nonselection_glyph\":{\"type\":\"object\",\"name\":\"VBar\",\"id\":\"p1188\",\"attributes\":{\"x\":{\"type\":\"field\",\"field\":\"District\"},\"width\":{\"type\":\"value\",\"value\":0.9},\"bottom\":{\"type\":\"expr\",\"expr\":{\"id\":\"p1169\"}},\"top\":{\"type\":\"expr\",\"expr\":{\"id\":\"p1170\"}},\"line_color\":{\"type\":\"value\",\"value\":\"#aec7e8\"},\"line_alpha\":{\"type\":\"value\",\"value\":0.1},\"fill_color\":{\"type\":\"value\",\"value\":\"#aec7e8\"},\"fill_alpha\":{\"type\":\"value\",\"value\":0.1},\"hatch_color\":{\"type\":\"value\",\"value\":\"#aec7e8\"},\"hatch_alpha\":{\"type\":\"value\",\"value\":0.1}}},\"muted_glyph\":{\"type\":\"object\",\"name\":\"VBar\",\"id\":\"p1189\",\"attributes\":{\"x\":{\"type\":\"field\",\"field\":\"District\"},\"width\":{\"type\":\"value\",\"value\":0.9},\"bottom\":{\"type\":\"expr\",\"expr\":{\"id\":\"p1169\"}},\"top\":{\"type\":\"expr\",\"expr\":{\"id\":\"p1170\"}},\"line_color\":{\"type\":\"value\",\"value\":\"#aec7e8\"},\"line_alpha\":{\"type\":\"value\",\"value\":0.2},\"fill_color\":{\"type\":\"value\",\"value\":\"#aec7e8\"},\"fill_alpha\":{\"type\":\"value\",\"value\":0.2},\"hatch_color\":{\"type\":\"value\",\"value\":\"#aec7e8\"},\"hatch_alpha\":{\"type\":\"value\",\"value\":0.2}}}}},{\"type\":\"object\",\"name\":\"GlyphRenderer\",\"id\":\"p1200\",\"attributes\":{\"name\":\"Maize_Production\",\"data_source\":{\"id\":\"p1164\"},\"view\":{\"type\":\"object\",\"name\":\"CDSView\",\"id\":\"p1201\",\"attributes\":{\"filter\":{\"type\":\"object\",\"name\":\"AllIndices\",\"id\":\"p1202\"}}},\"glyph\":{\"type\":\"object\",\"name\":\"VBar\",\"id\":\"p1197\",\"attributes\":{\"x\":{\"type\":\"field\",\"field\":\"District\"},\"width\":{\"type\":\"value\",\"value\":0.9},\"bottom\":{\"type\":\"expr\",\"expr\":{\"type\":\"object\",\"name\":\"Stack\",\"id\":\"p1171\",\"attributes\":{\"fields\":[\"Rice_Production\",\"Jowar_Yield\"]}}},\"top\":{\"type\":\"expr\",\"expr\":{\"type\":\"object\",\"name\":\"Stack\",\"id\":\"p1172\",\"attributes\":{\"fields\":[\"Rice_Production\",\"Jowar_Yield\",\"Maize_Production\"]}}},\"line_color\":{\"type\":\"value\",\"value\":\"#ff7f0e\"},\"fill_color\":{\"type\":\"value\",\"value\":\"#ff7f0e\"},\"hatch_color\":{\"type\":\"value\",\"value\":\"#ff7f0e\"}}},\"nonselection_glyph\":{\"type\":\"object\",\"name\":\"VBar\",\"id\":\"p1198\",\"attributes\":{\"x\":{\"type\":\"field\",\"field\":\"District\"},\"width\":{\"type\":\"value\",\"value\":0.9},\"bottom\":{\"type\":\"expr\",\"expr\":{\"id\":\"p1171\"}},\"top\":{\"type\":\"expr\",\"expr\":{\"id\":\"p1172\"}},\"line_color\":{\"type\":\"value\",\"value\":\"#ff7f0e\"},\"line_alpha\":{\"type\":\"value\",\"value\":0.1},\"fill_color\":{\"type\":\"value\",\"value\":\"#ff7f0e\"},\"fill_alpha\":{\"type\":\"value\",\"value\":0.1},\"hatch_color\":{\"type\":\"value\",\"value\":\"#ff7f0e\"},\"hatch_alpha\":{\"type\":\"value\",\"value\":0.1}}},\"muted_glyph\":{\"type\":\"object\",\"name\":\"VBar\",\"id\":\"p1199\",\"attributes\":{\"x\":{\"type\":\"field\",\"field\":\"District\"},\"width\":{\"type\":\"value\",\"value\":0.9},\"bottom\":{\"type\":\"expr\",\"expr\":{\"id\":\"p1171\"}},\"top\":{\"type\":\"expr\",\"expr\":{\"id\":\"p1172\"}},\"line_color\":{\"type\":\"value\",\"value\":\"#ff7f0e\"},\"line_alpha\":{\"type\":\"value\",\"value\":0.2},\"fill_color\":{\"type\":\"value\",\"value\":\"#ff7f0e\"},\"fill_alpha\":{\"type\":\"value\",\"value\":0.2},\"hatch_color\":{\"type\":\"value\",\"value\":\"#ff7f0e\"},\"hatch_alpha\":{\"type\":\"value\",\"value\":0.2}}}}}],\"toolbar\":{\"type\":\"object\",\"name\":\"Toolbar\",\"id\":\"p1151\",\"attributes\":{\"tools\":[{\"type\":\"object\",\"name\":\"HoverTool\",\"id\":\"p1204\",\"attributes\":{\"renderers\":\"auto\",\"tooltips\":[[\"District\",\"@District\"],[\"Rice_Production\",\"@Rice_Production\"],[\"Jowar_Yield\",\"@Jowar_Yield\"],[\"Maize_Production\",\"@Maize_Production\"]]}}]}},\"toolbar_location\":null,\"left\":[{\"type\":\"object\",\"name\":\"LinearAxis\",\"id\":\"p1159\",\"attributes\":{\"ticker\":{\"type\":\"object\",\"name\":\"BasicTicker\",\"id\":\"p1160\",\"attributes\":{\"mantissas\":[1,2,5]}},\"formatter\":{\"type\":\"object\",\"name\":\"BasicTickFormatter\",\"id\":\"p1161\"},\"axis_label\":\"Production\",\"major_label_policy\":{\"type\":\"object\",\"name\":\"AllLabels\",\"id\":\"p1162\"}}}],\"below\":[{\"type\":\"object\",\"name\":\"CategoricalAxis\",\"id\":\"p1154\",\"attributes\":{\"ticker\":{\"type\":\"object\",\"name\":\"CategoricalTicker\",\"id\":\"p1155\"},\"formatter\":{\"type\":\"object\",\"name\":\"CategoricalTickFormatter\",\"id\":\"p1156\"},\"major_label_orientation\":\"vertical\",\"major_label_policy\":{\"type\":\"object\",\"name\":\"AllLabels\",\"id\":\"p1157\"}}}],\"center\":[{\"type\":\"object\",\"name\":\"Grid\",\"id\":\"p1158\",\"attributes\":{\"axis\":{\"id\":\"p1154\"}}},{\"type\":\"object\",\"name\":\"Grid\",\"id\":\"p1163\",\"attributes\":{\"dimension\":1,\"axis\":{\"id\":\"p1159\"}}},{\"type\":\"object\",\"name\":\"Legend\",\"id\":\"p1182\",\"attributes\":{\"location\":\"top_left\",\"click_policy\":\"hide\",\"items\":[{\"type\":\"object\",\"name\":\"LegendItem\",\"id\":\"p1183\",\"attributes\":{\"label\":{\"type\":\"value\",\"value\":\"Rice_Production\"},\"renderers\":[{\"id\":\"p1179\"}]}},{\"type\":\"object\",\"name\":\"LegendItem\",\"id\":\"p1193\",\"attributes\":{\"label\":{\"type\":\"value\",\"value\":\"Jowar_Yield\"},\"renderers\":[{\"id\":\"p1190\"}]}},{\"type\":\"object\",\"name\":\"LegendItem\",\"id\":\"p1203\",\"attributes\":{\"label\":{\"type\":\"value\",\"value\":\"Maize_Production\"},\"renderers\":[{\"id\":\"p1200\"}]}}]}}]}}]}};\n  const render_items = [{\"docid\":\"5c3ef998-8b91-436f-b20e-45cf00702822\",\"roots\":{\"p1142\":\"b17e7109-5b4a-4f7e-8d4c-904d4d2e8c8b\"},\"root_ids\":[\"p1142\"]}];\n  void root.Bokeh.embed.embed_items_notebook(docs_json, render_items);\n  }\n  if (root.Bokeh !== undefined) {\n    embed_document(root);\n  } else {\n    let attempts = 0;\n    const timer = setInterval(function(root) {\n      if (root.Bokeh !== undefined) {\n        clearInterval(timer);\n        embed_document(root);\n      } else {\n        attempts++;\n        if (attempts > 100) {\n          clearInterval(timer);\n          console.log(\"Bokeh: ERROR: Unable to run BokehJS code because BokehJS library is missing\");\n        }\n      }\n    }, 10, root)\n  }\n})(window);",
      "application/vnd.bokehjs_exec.v0+json": ""
     },
     "metadata": {
      "application/vnd.bokehjs_exec.v0+json": {
       "id": "p1142"
      }
     },
     "output_type": "display_data"
    }
   ],
   "source": [
    "from bokeh.models import FactorRange\n",
    "from bokeh.transform import factor_cmap\n",
    "\n",
    "# Assuming df is your DataFrame\n",
    "\n",
    "# List of crops\n",
    "crops = ['Rice_Production', 'Jowar_Yield', 'Maize_Production']\n",
    "\n",
    "# Create a new plot\n",
    "plot = figure(title='Production Comparison by Crop and District', x_range=FactorRange(*districts),toolbar_location=None, tools='')\n",
    "\n",
    "# Plot the data\n",
    "source = ColumnDataSource(df)\n",
    "plot.vbar_stack(crops, x='District', width=0.9, color=Category20[len(crops)], source=source, legend_label=crops)\n",
    "\n",
    "# Add hover tooltips\n",
    "hover = HoverTool()\n",
    "hover.tooltips = [('District', '@District')] + [(crop, f'@{crop}') for crop in crops]\n",
    "plot.add_tools(hover)\n",
    "\n",
    "# Styling\n",
    "plot.xaxis.major_label_orientation = \"vertical\"\n",
    "plot.yaxis.axis_label = \"Production\"\n",
    "plot.legend.location = 'top_left'\n",
    "plot.legend.click_policy = 'hide'\n",
    "\n",
    "# Show the plot\n",
    "show(plot)\n"
   ]
  }
 ],
 "metadata": {
  "kernelspec": {
   "display_name": "Python 3",
   "language": "python",
   "name": "python3"
  },
  "language_info": {
   "codemirror_mode": {
    "name": "ipython",
    "version": 3
   },
   "file_extension": ".py",
   "mimetype": "text/x-python",
   "name": "python",
   "nbconvert_exporter": "python",
   "pygments_lexer": "ipython3",
   "version": "3.11.9"
  }
 },
 "nbformat": 4,
 "nbformat_minor": 2
}
